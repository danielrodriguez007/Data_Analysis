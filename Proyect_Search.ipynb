{
  "nbformat": 4,
  "nbformat_minor": 0,
  "metadata": {
    "colab": {
      "provenance": [],
      "authorship_tag": "ABX9TyOXjI1lUDk0hTdyPCLLc1Wm",
      "include_colab_link": true
    },
    "kernelspec": {
      "name": "python3",
      "display_name": "Python 3"
    },
    "language_info": {
      "name": "python"
    }
  },
  "cells": [
    {
      "cell_type": "markdown",
      "metadata": {
        "id": "view-in-github",
        "colab_type": "text"
      },
      "source": [
        "<a href=\"https://colab.research.google.com/github/danielrodriguez007/Data_Analysis/blob/main/Proyect_Search.ipynb\" target=\"_parent\"><img src=\"https://colab.research.google.com/assets/colab-badge.svg\" alt=\"Open In Colab\"/></a>"
      ]
    },
    {
      "cell_type": "code",
      "source": [
        "#install library\n",
        "!pip install google-search-results"
      ],
      "metadata": {
        "colab": {
          "base_uri": "https://localhost:8080/"
        },
        "id": "9LIc8nYrDc0I",
        "outputId": "4c9fbf92-304c-4dce-8db8-ba14cb82d3ff"
      },
      "execution_count": 53,
      "outputs": [
        {
          "output_type": "stream",
          "name": "stdout",
          "text": [
            "Looking in indexes: https://pypi.org/simple, https://us-python.pkg.dev/colab-wheels/public/simple/\n",
            "Requirement already satisfied: google-search-results in /usr/local/lib/python3.8/dist-packages (2.4.1)\n",
            "Requirement already satisfied: requests in /usr/local/lib/python3.8/dist-packages (from google-search-results) (2.25.1)\n",
            "Requirement already satisfied: chardet<5,>=3.0.2 in /usr/local/lib/python3.8/dist-packages (from requests->google-search-results) (4.0.0)\n",
            "Requirement already satisfied: certifi>=2017.4.17 in /usr/local/lib/python3.8/dist-packages (from requests->google-search-results) (2022.12.7)\n",
            "Requirement already satisfied: idna<3,>=2.5 in /usr/local/lib/python3.8/dist-packages (from requests->google-search-results) (2.10)\n",
            "Requirement already satisfied: urllib3<1.27,>=1.21.1 in /usr/local/lib/python3.8/dist-packages (from requests->google-search-results) (1.24.3)\n"
          ]
        }
      ]
    },
    {
      "cell_type": "code",
      "source": [
        "#import library needed for the search\n",
        "import numpy as np\n",
        "import pandas as pd\n",
        "import plotly.express as px \n",
        "import matplotlib.pyplot as plt\n",
        "from serpapi import GoogleSearch\n",
        "plt.style.use('fivethirtyeight')"
      ],
      "metadata": {
        "id": "uZh7ZrKQociP"
      },
      "execution_count": 54,
      "outputs": []
    },
    {
      "cell_type": "code",
      "source": [
        "#SerpApi google search\n",
        "search_term=\"Data Analyst\" #Job to be searching\n",
        "search_location=\"United States\" #Places where you search https://serpapi.com/google-countries\n",
        "\n",
        "\n",
        "params = {\n",
        "  \"q\": search_term,\n",
        "  \"location\": search_location,\n",
        "  \"engine\" : \"google_jobs\",\n",
        "  \"hl\": \"en\",\n",
        "  \"gl\": \"us\",\n",
        "  \"google_domain\": \"google.com\",\n",
        "  \"api_key\": \"a74096ebb3b875e086bdf8353fb1e90edbd5bdbb2c9e9ea9bf863f98e55ac489\"\n",
        "}"
      ],
      "metadata": {
        "id": "MXFGAK2fsMFJ"
      },
      "execution_count": 71,
      "outputs": []
    },
    {
      "cell_type": "code",
      "source": [
        "#creating dataframe with the information obtenied of the search\n",
        "search = GoogleSearch(params)\n",
        "results = search.get_dict()\n",
        "jobs_df = results['jobs_results']\n",
        "jobs_df = pd.DataFrame(jobs_df)\n",
        "jobs_df = pd.concat([pd.DataFrame(jobs_df),\n",
        "                     pd.json_normalize(jobs_df['detected_extensions'])],\n",
        "                    axis=1).drop('detected_extensions',1)\n",
        "         "
      ],
      "metadata": {
        "colab": {
          "base_uri": "https://localhost:8080/"
        },
        "id": "09-eNHHssvAR",
        "outputId": "e3090169-fa3d-4921-f2ea-0b3084b04797"
      },
      "execution_count": 72,
      "outputs": [
        {
          "output_type": "stream",
          "name": "stdout",
          "text": [
            "https://serpapi.com/search\n"
          ]
        },
        {
          "output_type": "stream",
          "name": "stderr",
          "text": [
            "<ipython-input-72-d668609e91a2>:6: FutureWarning: In a future version of pandas all arguments of DataFrame.drop except for the argument 'labels' will be keyword-only\n",
            "  jobs_df = pd.concat([pd.DataFrame(jobs_df),\n"
          ]
        }
      ]
    },
    {
      "cell_type": "code",
      "source": [
        "#Quick looking of the dataframe\n",
        "jobs_df.head(5)"
      ],
      "metadata": {
        "colab": {
          "base_uri": "https://localhost:8080/",
          "height": 9315
        },
        "id": "aFJC_pLH010t",
        "outputId": "8b4feb59-9b21-4c47-a1b2-907d868fad6b"
      },
      "execution_count": 73,
      "outputs": [
        {
          "output_type": "execute_result",
          "data": {
            "text/plain": [
              "                                 title              company_name  location  \\\n",
              "0                         Data Analyst            EquipmentShare  Anywhere   \n",
              "1                         Data Analyst  Midtown Consulting Group  Anywhere   \n",
              "2       Data Analyst - Bank Operations               Jenius Bank  Anywhere   \n",
              "3  Create a portfolio for Data Analyst                    Upwork  Anywhere   \n",
              "4                         Data Analyst              Equip Health  Anywhere   \n",
              "\n",
              "                via                                        description  \\\n",
              "0      via LinkedIn  EquipmentShare is Hiring a Data Analyst\\n\\nEqu...   \n",
              "1      via LinkedIn  The Data Analyst Consultant at Midtown Consult...   \n",
              "2      via LinkedIn  GENERAL SUMMARY:\\n\\nReporting to the SVP, Depo...   \n",
              "3        via Upwork  Hi I’m a looking for someone to create a portf...   \n",
              "4  via Startup Jobs  Equip is a virtual program helping families re...   \n",
              "\n",
              "                                      job_highlights  \\\n",
              "0  [{'title': 'Qualifications', 'items': ['Degree...   \n",
              "1  [{'title': 'Qualifications', 'items': ['Bachel...   \n",
              "2  [{'title': 'Qualifications', 'items': ['Who yo...   \n",
              "3                                                NaN   \n",
              "4  [{'title': 'Qualifications', 'items': ['The id...   \n",
              "\n",
              "                                       related_links  \\\n",
              "0  [{'link': 'https://www.google.com/search?q=Equ...   \n",
              "1  [{'link': 'https://www.google.com/search?q=Mid...   \n",
              "2  [{'link': 'https://www.google.com/search?q=Jen...   \n",
              "3  [{'link': 'http://www.elance.com/', 'text': 'e...   \n",
              "4  [{'link': 'https://www.google.com/search?q=Equ...   \n",
              "\n",
              "                                           thumbnail  \\\n",
              "0  https://encrypted-tbn0.gstatic.com/images?q=tb...   \n",
              "1  https://encrypted-tbn0.gstatic.com/images?q=tb...   \n",
              "2  https://encrypted-tbn0.gstatic.com/images?q=tb...   \n",
              "3                                                NaN   \n",
              "4  https://encrypted-tbn0.gstatic.com/images?q=tb...   \n",
              "\n",
              "                                          extensions  \\\n",
              "0  [3 days ago, Work from home, Full-time, Health...   \n",
              "1           [4 hours ago, Work from home, Full-time]   \n",
              "2           [4 hours ago, Work from home, Full-time]   \n",
              "3           [2 days ago, Work from home, Contractor]   \n",
              "4  [3 days ago, Work from home, Full-time, Health...   \n",
              "\n",
              "                                              job_id    posted_at  \\\n",
              "0  eyJqb2JfdGl0bGUiOiJEYXRhIEFuYWx5c3QiLCJodGlkb2...   3 days ago   \n",
              "1  eyJqb2JfdGl0bGUiOiJEYXRhIEFuYWx5c3QiLCJodGlkb2...  4 hours ago   \n",
              "2  eyJqb2JfdGl0bGUiOiJEYXRhIEFuYWx5c3QgLSBCYW5rIE...  4 hours ago   \n",
              "3  eyJqb2JfdGl0bGUiOiJDcmVhdGUgYSBwb3J0Zm9saW8gZm...   2 days ago   \n",
              "4  eyJqb2JfdGl0bGUiOiJEYXRhIEFuYWx5c3QiLCJodGlkb2...   3 days ago   \n",
              "\n",
              "  schedule_type work_from_home  \n",
              "0     Full-time           True  \n",
              "1     Full-time           True  \n",
              "2     Full-time           True  \n",
              "3    Contractor           True  \n",
              "4     Full-time           True  "
            ],
            "text/html": [
              "\n",
              "  <div id=\"df-5a9f29d0-1e49-4baf-a612-b0abd8c81a14\">\n",
              "    <div class=\"colab-df-container\">\n",
              "      <div>\n",
              "<style scoped>\n",
              "    .dataframe tbody tr th:only-of-type {\n",
              "        vertical-align: middle;\n",
              "    }\n",
              "\n",
              "    .dataframe tbody tr th {\n",
              "        vertical-align: top;\n",
              "    }\n",
              "\n",
              "    .dataframe thead th {\n",
              "        text-align: right;\n",
              "    }\n",
              "</style>\n",
              "<table border=\"1\" class=\"dataframe\">\n",
              "  <thead>\n",
              "    <tr style=\"text-align: right;\">\n",
              "      <th></th>\n",
              "      <th>title</th>\n",
              "      <th>company_name</th>\n",
              "      <th>location</th>\n",
              "      <th>via</th>\n",
              "      <th>description</th>\n",
              "      <th>job_highlights</th>\n",
              "      <th>related_links</th>\n",
              "      <th>thumbnail</th>\n",
              "      <th>extensions</th>\n",
              "      <th>job_id</th>\n",
              "      <th>posted_at</th>\n",
              "      <th>schedule_type</th>\n",
              "      <th>work_from_home</th>\n",
              "    </tr>\n",
              "  </thead>\n",
              "  <tbody>\n",
              "    <tr>\n",
              "      <th>0</th>\n",
              "      <td>Data Analyst</td>\n",
              "      <td>EquipmentShare</td>\n",
              "      <td>Anywhere</td>\n",
              "      <td>via LinkedIn</td>\n",
              "      <td>EquipmentShare is Hiring a Data Analyst\\n\\nEqu...</td>\n",
              "      <td>[{'title': 'Qualifications', 'items': ['Degree...</td>\n",
              "      <td>[{'link': 'https://www.google.com/search?q=Equ...</td>\n",
              "      <td>https://encrypted-tbn0.gstatic.com/images?q=tb...</td>\n",
              "      <td>[3 days ago, Work from home, Full-time, Health...</td>\n",
              "      <td>eyJqb2JfdGl0bGUiOiJEYXRhIEFuYWx5c3QiLCJodGlkb2...</td>\n",
              "      <td>3 days ago</td>\n",
              "      <td>Full-time</td>\n",
              "      <td>True</td>\n",
              "    </tr>\n",
              "    <tr>\n",
              "      <th>1</th>\n",
              "      <td>Data Analyst</td>\n",
              "      <td>Midtown Consulting Group</td>\n",
              "      <td>Anywhere</td>\n",
              "      <td>via LinkedIn</td>\n",
              "      <td>The Data Analyst Consultant at Midtown Consult...</td>\n",
              "      <td>[{'title': 'Qualifications', 'items': ['Bachel...</td>\n",
              "      <td>[{'link': 'https://www.google.com/search?q=Mid...</td>\n",
              "      <td>https://encrypted-tbn0.gstatic.com/images?q=tb...</td>\n",
              "      <td>[4 hours ago, Work from home, Full-time]</td>\n",
              "      <td>eyJqb2JfdGl0bGUiOiJEYXRhIEFuYWx5c3QiLCJodGlkb2...</td>\n",
              "      <td>4 hours ago</td>\n",
              "      <td>Full-time</td>\n",
              "      <td>True</td>\n",
              "    </tr>\n",
              "    <tr>\n",
              "      <th>2</th>\n",
              "      <td>Data Analyst - Bank Operations</td>\n",
              "      <td>Jenius Bank</td>\n",
              "      <td>Anywhere</td>\n",
              "      <td>via LinkedIn</td>\n",
              "      <td>GENERAL SUMMARY:\\n\\nReporting to the SVP, Depo...</td>\n",
              "      <td>[{'title': 'Qualifications', 'items': ['Who yo...</td>\n",
              "      <td>[{'link': 'https://www.google.com/search?q=Jen...</td>\n",
              "      <td>https://encrypted-tbn0.gstatic.com/images?q=tb...</td>\n",
              "      <td>[4 hours ago, Work from home, Full-time]</td>\n",
              "      <td>eyJqb2JfdGl0bGUiOiJEYXRhIEFuYWx5c3QgLSBCYW5rIE...</td>\n",
              "      <td>4 hours ago</td>\n",
              "      <td>Full-time</td>\n",
              "      <td>True</td>\n",
              "    </tr>\n",
              "    <tr>\n",
              "      <th>3</th>\n",
              "      <td>Create a portfolio for Data Analyst</td>\n",
              "      <td>Upwork</td>\n",
              "      <td>Anywhere</td>\n",
              "      <td>via Upwork</td>\n",
              "      <td>Hi I’m a looking for someone to create a portf...</td>\n",
              "      <td>NaN</td>\n",
              "      <td>[{'link': 'http://www.elance.com/', 'text': 'e...</td>\n",
              "      <td>NaN</td>\n",
              "      <td>[2 days ago, Work from home, Contractor]</td>\n",
              "      <td>eyJqb2JfdGl0bGUiOiJDcmVhdGUgYSBwb3J0Zm9saW8gZm...</td>\n",
              "      <td>2 days ago</td>\n",
              "      <td>Contractor</td>\n",
              "      <td>True</td>\n",
              "    </tr>\n",
              "    <tr>\n",
              "      <th>4</th>\n",
              "      <td>Data Analyst</td>\n",
              "      <td>Equip Health</td>\n",
              "      <td>Anywhere</td>\n",
              "      <td>via Startup Jobs</td>\n",
              "      <td>Equip is a virtual program helping families re...</td>\n",
              "      <td>[{'title': 'Qualifications', 'items': ['The id...</td>\n",
              "      <td>[{'link': 'https://www.google.com/search?q=Equ...</td>\n",
              "      <td>https://encrypted-tbn0.gstatic.com/images?q=tb...</td>\n",
              "      <td>[3 days ago, Work from home, Full-time, Health...</td>\n",
              "      <td>eyJqb2JfdGl0bGUiOiJEYXRhIEFuYWx5c3QiLCJodGlkb2...</td>\n",
              "      <td>3 days ago</td>\n",
              "      <td>Full-time</td>\n",
              "      <td>True</td>\n",
              "    </tr>\n",
              "  </tbody>\n",
              "</table>\n",
              "</div>\n",
              "      <button class=\"colab-df-convert\" onclick=\"convertToInteractive('df-5a9f29d0-1e49-4baf-a612-b0abd8c81a14')\"\n",
              "              title=\"Convert this dataframe to an interactive table.\"\n",
              "              style=\"display:none;\">\n",
              "        \n",
              "  <svg xmlns=\"http://www.w3.org/2000/svg\" height=\"24px\"viewBox=\"0 0 24 24\"\n",
              "       width=\"24px\">\n",
              "    <path d=\"M0 0h24v24H0V0z\" fill=\"none\"/>\n",
              "    <path d=\"M18.56 5.44l.94 2.06.94-2.06 2.06-.94-2.06-.94-.94-2.06-.94 2.06-2.06.94zm-11 1L8.5 8.5l.94-2.06 2.06-.94-2.06-.94L8.5 2.5l-.94 2.06-2.06.94zm10 10l.94 2.06.94-2.06 2.06-.94-2.06-.94-.94-2.06-.94 2.06-2.06.94z\"/><path d=\"M17.41 7.96l-1.37-1.37c-.4-.4-.92-.59-1.43-.59-.52 0-1.04.2-1.43.59L10.3 9.45l-7.72 7.72c-.78.78-.78 2.05 0 2.83L4 21.41c.39.39.9.59 1.41.59.51 0 1.02-.2 1.41-.59l7.78-7.78 2.81-2.81c.8-.78.8-2.07 0-2.86zM5.41 20L4 18.59l7.72-7.72 1.47 1.35L5.41 20z\"/>\n",
              "  </svg>\n",
              "      </button>\n",
              "      \n",
              "  <style>\n",
              "    .colab-df-container {\n",
              "      display:flex;\n",
              "      flex-wrap:wrap;\n",
              "      gap: 12px;\n",
              "    }\n",
              "\n",
              "    .colab-df-convert {\n",
              "      background-color: #E8F0FE;\n",
              "      border: none;\n",
              "      border-radius: 50%;\n",
              "      cursor: pointer;\n",
              "      display: none;\n",
              "      fill: #1967D2;\n",
              "      height: 32px;\n",
              "      padding: 0 0 0 0;\n",
              "      width: 32px;\n",
              "    }\n",
              "\n",
              "    .colab-df-convert:hover {\n",
              "      background-color: #E2EBFA;\n",
              "      box-shadow: 0px 1px 2px rgba(60, 64, 67, 0.3), 0px 1px 3px 1px rgba(60, 64, 67, 0.15);\n",
              "      fill: #174EA6;\n",
              "    }\n",
              "\n",
              "    [theme=dark] .colab-df-convert {\n",
              "      background-color: #3B4455;\n",
              "      fill: #D2E3FC;\n",
              "    }\n",
              "\n",
              "    [theme=dark] .colab-df-convert:hover {\n",
              "      background-color: #434B5C;\n",
              "      box-shadow: 0px 1px 3px 1px rgba(0, 0, 0, 0.15);\n",
              "      filter: drop-shadow(0px 1px 2px rgba(0, 0, 0, 0.3));\n",
              "      fill: #FFFFFF;\n",
              "    }\n",
              "  </style>\n",
              "\n",
              "      <script>\n",
              "        const buttonEl =\n",
              "          document.querySelector('#df-5a9f29d0-1e49-4baf-a612-b0abd8c81a14 button.colab-df-convert');\n",
              "        buttonEl.style.display =\n",
              "          google.colab.kernel.accessAllowed ? 'block' : 'none';\n",
              "\n",
              "        async function convertToInteractive(key) {\n",
              "          const element = document.querySelector('#df-5a9f29d0-1e49-4baf-a612-b0abd8c81a14');\n",
              "          const dataTable =\n",
              "            await google.colab.kernel.invokeFunction('convertToInteractive',\n",
              "                                                     [key], {});\n",
              "          if (!dataTable) return;\n",
              "\n",
              "          const docLinkHtml = 'Like what you see? Visit the ' +\n",
              "            '<a target=\"_blank\" href=https://colab.research.google.com/notebooks/data_table.ipynb>data table notebook</a>'\n",
              "            + ' to learn more about interactive tables.';\n",
              "          element.innerHTML = '';\n",
              "          dataTable['output_type'] = 'display_data';\n",
              "          await google.colab.output.renderOutput(dataTable, element);\n",
              "          const docLink = document.createElement('div');\n",
              "          docLink.innerHTML = docLinkHtml;\n",
              "          element.appendChild(docLink);\n",
              "        }\n",
              "      </script>\n",
              "    </div>\n",
              "  </div>\n",
              "  "
            ]
          },
          "metadata": {},
          "execution_count": 73
        }
      ]
    },
    {
      "cell_type": "code",
      "source": [
        "jobs_df.isnull().sum()"
      ],
      "metadata": {
        "id": "S1-u6ttm1PG1",
        "colab": {
          "base_uri": "https://localhost:8080/"
        },
        "outputId": "ac74ba75-d5f4-4d21-b69c-36122e0feb04"
      },
      "execution_count": 74,
      "outputs": [
        {
          "output_type": "execute_result",
          "data": {
            "text/plain": [
              "title             0\n",
              "company_name      0\n",
              "location          0\n",
              "via               0\n",
              "description       0\n",
              "job_highlights    1\n",
              "related_links     0\n",
              "thumbnail         2\n",
              "extensions        0\n",
              "job_id            0\n",
              "posted_at         0\n",
              "schedule_type     0\n",
              "work_from_home    3\n",
              "dtype: int64"
            ]
          },
          "metadata": {},
          "execution_count": 74
        }
      ]
    },
    {
      "cell_type": "code",
      "source": [
        "jobs_df.shape"
      ],
      "metadata": {
        "colab": {
          "base_uri": "https://localhost:8080/"
        },
        "id": "SZtPcBt_Qwf9",
        "outputId": "639f0da4-799c-4417-fd7b-0a6d919ea4a1"
      },
      "execution_count": 75,
      "outputs": [
        {
          "output_type": "execute_result",
          "data": {
            "text/plain": [
              "(10, 13)"
            ]
          },
          "metadata": {},
          "execution_count": 75
        }
      ]
    },
    {
      "cell_type": "code",
      "source": [
        "jobs_df.info()"
      ],
      "metadata": {
        "colab": {
          "base_uri": "https://localhost:8080/"
        },
        "id": "aC8xC_V9Q-gu",
        "outputId": "8930faae-1c3b-4902-d196-47dbef8748e7"
      },
      "execution_count": 76,
      "outputs": [
        {
          "output_type": "stream",
          "name": "stdout",
          "text": [
            "<class 'pandas.core.frame.DataFrame'>\n",
            "RangeIndex: 10 entries, 0 to 9\n",
            "Data columns (total 13 columns):\n",
            " #   Column          Non-Null Count  Dtype \n",
            "---  ------          --------------  ----- \n",
            " 0   title           10 non-null     object\n",
            " 1   company_name    10 non-null     object\n",
            " 2   location        10 non-null     object\n",
            " 3   via             10 non-null     object\n",
            " 4   description     10 non-null     object\n",
            " 5   job_highlights  9 non-null      object\n",
            " 6   related_links   10 non-null     object\n",
            " 7   thumbnail       8 non-null      object\n",
            " 8   extensions      10 non-null     object\n",
            " 9   job_id          10 non-null     object\n",
            " 10  posted_at       10 non-null     object\n",
            " 11  schedule_type   10 non-null     object\n",
            " 12  work_from_home  7 non-null      object\n",
            "dtypes: object(13)\n",
            "memory usage: 1.1+ KB\n"
          ]
        }
      ]
    },
    {
      "cell_type": "markdown",
      "source": [
        "# Searching about how to read dict/json in a dataframe columns or putting all information in a new column"
      ],
      "metadata": {
        "id": "cQKWCkwEnX3Q"
      }
    },
    {
      "cell_type": "code",
      "source": [],
      "metadata": {
        "id": "ItOUA8uQnGOL"
      },
      "execution_count": null,
      "outputs": []
    }
  ]
}