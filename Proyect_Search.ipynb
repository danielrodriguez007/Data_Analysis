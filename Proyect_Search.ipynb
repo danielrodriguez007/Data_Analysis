{
  "nbformat": 4,
  "nbformat_minor": 0,
  "metadata": {
    "colab": {
      "provenance": [],
      "authorship_tag": "ABX9TyNM0h0rXQKtoBe6eRBmCFpp",
      "include_colab_link": true
    },
    "kernelspec": {
      "name": "python3",
      "display_name": "Python 3"
    },
    "language_info": {
      "name": "python"
    }
  },
  "cells": [
    {
      "cell_type": "markdown",
      "metadata": {
        "id": "view-in-github",
        "colab_type": "text"
      },
      "source": [
        "<a href=\"https://colab.research.google.com/github/danielrodriguez007/Data_Analysis/blob/main/Proyect_Search.ipynb\" target=\"_parent\"><img src=\"https://colab.research.google.com/assets/colab-badge.svg\" alt=\"Open In Colab\"/></a>"
      ]
    },
    {
      "cell_type": "code",
      "source": [
        "#install library\n",
        "!pip install google-search-results"
      ],
      "metadata": {
        "colab": {
          "base_uri": "https://localhost:8080/"
        },
        "id": "9LIc8nYrDc0I",
        "outputId": "81f2910d-caf8-4f5c-bda1-0bd86056eb5e"
      },
      "execution_count": 19,
      "outputs": [
        {
          "output_type": "stream",
          "name": "stdout",
          "text": [
            "Looking in indexes: https://pypi.org/simple, https://us-python.pkg.dev/colab-wheels/public/simple/\n",
            "Requirement already satisfied: google-search-results in /usr/local/lib/python3.8/dist-packages (2.4.1)\n",
            "Requirement already satisfied: requests in /usr/local/lib/python3.8/dist-packages (from google-search-results) (2.25.1)\n",
            "Requirement already satisfied: certifi>=2017.4.17 in /usr/local/lib/python3.8/dist-packages (from requests->google-search-results) (2022.12.7)\n",
            "Requirement already satisfied: urllib3<1.27,>=1.21.1 in /usr/local/lib/python3.8/dist-packages (from requests->google-search-results) (1.24.3)\n",
            "Requirement already satisfied: chardet<5,>=3.0.2 in /usr/local/lib/python3.8/dist-packages (from requests->google-search-results) (4.0.0)\n",
            "Requirement already satisfied: idna<3,>=2.5 in /usr/local/lib/python3.8/dist-packages (from requests->google-search-results) (2.10)\n"
          ]
        }
      ]
    },
    {
      "cell_type": "code",
      "source": [
        "#import library needed for the search\n",
        "import numpy as np\n",
        "import pandas as pd\n",
        "import plotly.express as px \n",
        "import matplotlib.pyplot as plt\n",
        "from serpapi import GoogleSearch\n",
        "plt.style.use('fivethirtyeight')"
      ],
      "metadata": {
        "id": "uZh7ZrKQociP"
      },
      "execution_count": 20,
      "outputs": []
    },
    {
      "cell_type": "code",
      "source": [
        "#SerpApi google search\n",
        "search_term=\"Data Analyst\" #Job to be searching\n",
        "search_location=\"United States\" #Places where you search https://serpapi.com/google-countries\n",
        "\n",
        "\n",
        "params = {\n",
        "  \"q\": search_term,\n",
        "  \"location\": search_location,\n",
        "  \"engine\" : \"google_jobs\",\n",
        "  \"hl\": \"en\",\n",
        "  \"gl\": \"us\",\n",
        "  \"google_domain\": \"google.com\",\n",
        "  \"api_key\": \"a74096ebb3b875e086bdf8353fb1e90edbd5bdbb2c9e9ea9bf863f98e55ac489\"\n",
        "}"
      ],
      "metadata": {
        "id": "MXFGAK2fsMFJ"
      },
      "execution_count": 21,
      "outputs": []
    },
    {
      "cell_type": "code",
      "source": [
        "#creating dataframe with the information obtenied of the search\n",
        "search = GoogleSearch(params)\n",
        "results = search.get_dict()\n",
        "jobs_df = results['jobs_results']\n",
        "jobs_df = pd.DataFrame(jobs_df)\n",
        "jobs_df = pd.concat([pd.DataFrame(jobs_df),\n",
        "                     pd.json_normalize(jobs_df['detected_extensions'])],\n",
        "                    axis=1).drop('detected_extensions',1)\n",
        "         "
      ],
      "metadata": {
        "colab": {
          "base_uri": "https://localhost:8080/"
        },
        "id": "09-eNHHssvAR",
        "outputId": "9d781c15-793f-464f-b743-ef359f3305d5"
      },
      "execution_count": 22,
      "outputs": [
        {
          "output_type": "stream",
          "name": "stdout",
          "text": [
            "https://serpapi.com/search\n"
          ]
        },
        {
          "output_type": "stream",
          "name": "stderr",
          "text": [
            "<ipython-input-22-d668609e91a2>:6: FutureWarning: In a future version of pandas all arguments of DataFrame.drop except for the argument 'labels' will be keyword-only\n",
            "  jobs_df = pd.concat([pd.DataFrame(jobs_df),\n"
          ]
        }
      ]
    },
    {
      "cell_type": "code",
      "source": [
        "#Quick looking of the dataframe\n",
        "jobs_df.head(5)"
      ],
      "metadata": {
        "colab": {
          "base_uri": "https://localhost:8080/",
          "height": 600
        },
        "id": "aFJC_pLH010t",
        "outputId": "9db6d34a-05a4-4973-a899-67f82ebbca8e"
      },
      "execution_count": 23,
      "outputs": [
        {
          "output_type": "execute_result",
          "data": {
            "text/plain": [
              "                                   title                company_name  \\\n",
              "0              Business and Data Analyst  016 Freightquote.com, Inc.   \n",
              "1                  Business Data Analyst                      Optomi   \n",
              "2                           Data Analyst    Midtown Consulting Group   \n",
              "3  Senior Data Analyst, People Analytics                    SiriusXM   \n",
              "4                         DATA ANALYST I      University of Missouri   \n",
              "\n",
              "          location                                         via  \\\n",
              "0  Kansas City, MO                      via C.H. Robinson Jobs   \n",
              "1         Anywhere                                via LinkedIn   \n",
              "2         Anywhere                                via LinkedIn   \n",
              "3         Anywhere                                via LinkedIn   \n",
              "4     Columbia, MO  via The Chronicle Of Higher Education Jobs   \n",
              "\n",
              "                                         description  \\\n",
              "0  Job Description\\n\\nC.H. Robinson solves logist...   \n",
              "1  Business/Data Analyst | 100% Remote\\n\\nOptomi,...   \n",
              "2  The Data Analyst Consultant at Midtown Consult...   \n",
              "3  Who We Are: SiriusXM and its brands (Pandora,S...   \n",
              "4  Hiring Department\\n\\nRobert J. Trulaske, Sr Co...   \n",
              "\n",
              "                                      job_highlights  \\\n",
              "0  [{'title': 'Qualifications', 'items': ['3+ yea...   \n",
              "1  [{'title': 'Qualifications', 'items': ['The ri...   \n",
              "2  [{'title': 'Qualifications', 'items': ['Bachel...   \n",
              "3  [{'title': 'Qualifications', 'items': ['We are...   \n",
              "4  [{'title': 'Qualifications', 'items': ['Bachel...   \n",
              "\n",
              "                                       related_links  \\\n",
              "0  [{'link': 'http://www.freightquote.com/', 'tex...   \n",
              "1  [{'link': 'https://www.google.com/search?hl=en...   \n",
              "2  [{'link': 'https://www.google.com/search?hl=en...   \n",
              "3  [{'link': 'https://www.siriusxm.com/', 'text':...   \n",
              "4  [{'link': 'https://missouri.edu/', 'text': 'mi...   \n",
              "\n",
              "                                          extensions  \\\n",
              "0  [21 hours ago, Full-time, Health insurance, De...   \n",
              "1  [5 hours ago, Work from home, Full-time, No de...   \n",
              "2             [1 day ago, Work from home, Full-time]   \n",
              "3          [19 hours ago, Work from home, Full-time]   \n",
              "4  [8 days ago, Full-time, Health insurance, Dent...   \n",
              "\n",
              "                                              job_id  \\\n",
              "0  eyJqb2JfdGl0bGUiOiJCdXNpbmVzcyBhbmQgRGF0YSBBbm...   \n",
              "1  eyJqb2JfdGl0bGUiOiJCdXNpbmVzcyBEYXRhIEFuYWx5c3...   \n",
              "2  eyJqb2JfdGl0bGUiOiJEYXRhIEFuYWx5c3QiLCJodGlkb2...   \n",
              "3  eyJqb2JfdGl0bGUiOiJTZW5pb3IgRGF0YSBBbmFseXN0LC...   \n",
              "4  eyJqb2JfdGl0bGUiOiJEQVRBIEFOQUxZU1QgSSIsImh0aW...   \n",
              "\n",
              "                                           thumbnail     posted_at  \\\n",
              "0                                                NaN  21 hours ago   \n",
              "1  https://encrypted-tbn0.gstatic.com/images?q=tb...   5 hours ago   \n",
              "2  https://encrypted-tbn0.gstatic.com/images?q=tb...     1 day ago   \n",
              "3  https://encrypted-tbn0.gstatic.com/images?q=tb...  19 hours ago   \n",
              "4  https://encrypted-tbn0.gstatic.com/images?q=tb...    8 days ago   \n",
              "\n",
              "  schedule_type work_from_home  \n",
              "0     Full-time            NaN  \n",
              "1     Full-time           True  \n",
              "2     Full-time           True  \n",
              "3     Full-time           True  \n",
              "4     Full-time            NaN  "
            ],
            "text/html": [
              "\n",
              "  <div id=\"df-3f7ba472-a793-4418-8455-aef52d9c5a58\">\n",
              "    <div class=\"colab-df-container\">\n",
              "      <div>\n",
              "<style scoped>\n",
              "    .dataframe tbody tr th:only-of-type {\n",
              "        vertical-align: middle;\n",
              "    }\n",
              "\n",
              "    .dataframe tbody tr th {\n",
              "        vertical-align: top;\n",
              "    }\n",
              "\n",
              "    .dataframe thead th {\n",
              "        text-align: right;\n",
              "    }\n",
              "</style>\n",
              "<table border=\"1\" class=\"dataframe\">\n",
              "  <thead>\n",
              "    <tr style=\"text-align: right;\">\n",
              "      <th></th>\n",
              "      <th>title</th>\n",
              "      <th>company_name</th>\n",
              "      <th>location</th>\n",
              "      <th>via</th>\n",
              "      <th>description</th>\n",
              "      <th>job_highlights</th>\n",
              "      <th>related_links</th>\n",
              "      <th>extensions</th>\n",
              "      <th>job_id</th>\n",
              "      <th>thumbnail</th>\n",
              "      <th>posted_at</th>\n",
              "      <th>schedule_type</th>\n",
              "      <th>work_from_home</th>\n",
              "    </tr>\n",
              "  </thead>\n",
              "  <tbody>\n",
              "    <tr>\n",
              "      <th>0</th>\n",
              "      <td>Business and Data Analyst</td>\n",
              "      <td>016 Freightquote.com, Inc.</td>\n",
              "      <td>Kansas City, MO</td>\n",
              "      <td>via C.H. Robinson Jobs</td>\n",
              "      <td>Job Description\\n\\nC.H. Robinson solves logist...</td>\n",
              "      <td>[{'title': 'Qualifications', 'items': ['3+ yea...</td>\n",
              "      <td>[{'link': 'http://www.freightquote.com/', 'tex...</td>\n",
              "      <td>[21 hours ago, Full-time, Health insurance, De...</td>\n",
              "      <td>eyJqb2JfdGl0bGUiOiJCdXNpbmVzcyBhbmQgRGF0YSBBbm...</td>\n",
              "      <td>NaN</td>\n",
              "      <td>21 hours ago</td>\n",
              "      <td>Full-time</td>\n",
              "      <td>NaN</td>\n",
              "    </tr>\n",
              "    <tr>\n",
              "      <th>1</th>\n",
              "      <td>Business Data Analyst</td>\n",
              "      <td>Optomi</td>\n",
              "      <td>Anywhere</td>\n",
              "      <td>via LinkedIn</td>\n",
              "      <td>Business/Data Analyst | 100% Remote\\n\\nOptomi,...</td>\n",
              "      <td>[{'title': 'Qualifications', 'items': ['The ri...</td>\n",
              "      <td>[{'link': 'https://www.google.com/search?hl=en...</td>\n",
              "      <td>[5 hours ago, Work from home, Full-time, No de...</td>\n",
              "      <td>eyJqb2JfdGl0bGUiOiJCdXNpbmVzcyBEYXRhIEFuYWx5c3...</td>\n",
              "      <td>https://encrypted-tbn0.gstatic.com/images?q=tb...</td>\n",
              "      <td>5 hours ago</td>\n",
              "      <td>Full-time</td>\n",
              "      <td>True</td>\n",
              "    </tr>\n",
              "    <tr>\n",
              "      <th>2</th>\n",
              "      <td>Data Analyst</td>\n",
              "      <td>Midtown Consulting Group</td>\n",
              "      <td>Anywhere</td>\n",
              "      <td>via LinkedIn</td>\n",
              "      <td>The Data Analyst Consultant at Midtown Consult...</td>\n",
              "      <td>[{'title': 'Qualifications', 'items': ['Bachel...</td>\n",
              "      <td>[{'link': 'https://www.google.com/search?hl=en...</td>\n",
              "      <td>[1 day ago, Work from home, Full-time]</td>\n",
              "      <td>eyJqb2JfdGl0bGUiOiJEYXRhIEFuYWx5c3QiLCJodGlkb2...</td>\n",
              "      <td>https://encrypted-tbn0.gstatic.com/images?q=tb...</td>\n",
              "      <td>1 day ago</td>\n",
              "      <td>Full-time</td>\n",
              "      <td>True</td>\n",
              "    </tr>\n",
              "    <tr>\n",
              "      <th>3</th>\n",
              "      <td>Senior Data Analyst, People Analytics</td>\n",
              "      <td>SiriusXM</td>\n",
              "      <td>Anywhere</td>\n",
              "      <td>via LinkedIn</td>\n",
              "      <td>Who We Are: SiriusXM and its brands (Pandora,S...</td>\n",
              "      <td>[{'title': 'Qualifications', 'items': ['We are...</td>\n",
              "      <td>[{'link': 'https://www.siriusxm.com/', 'text':...</td>\n",
              "      <td>[19 hours ago, Work from home, Full-time]</td>\n",
              "      <td>eyJqb2JfdGl0bGUiOiJTZW5pb3IgRGF0YSBBbmFseXN0LC...</td>\n",
              "      <td>https://encrypted-tbn0.gstatic.com/images?q=tb...</td>\n",
              "      <td>19 hours ago</td>\n",
              "      <td>Full-time</td>\n",
              "      <td>True</td>\n",
              "    </tr>\n",
              "    <tr>\n",
              "      <th>4</th>\n",
              "      <td>DATA ANALYST I</td>\n",
              "      <td>University of Missouri</td>\n",
              "      <td>Columbia, MO</td>\n",
              "      <td>via The Chronicle Of Higher Education Jobs</td>\n",
              "      <td>Hiring Department\\n\\nRobert J. Trulaske, Sr Co...</td>\n",
              "      <td>[{'title': 'Qualifications', 'items': ['Bachel...</td>\n",
              "      <td>[{'link': 'https://missouri.edu/', 'text': 'mi...</td>\n",
              "      <td>[8 days ago, Full-time, Health insurance, Dent...</td>\n",
              "      <td>eyJqb2JfdGl0bGUiOiJEQVRBIEFOQUxZU1QgSSIsImh0aW...</td>\n",
              "      <td>https://encrypted-tbn0.gstatic.com/images?q=tb...</td>\n",
              "      <td>8 days ago</td>\n",
              "      <td>Full-time</td>\n",
              "      <td>NaN</td>\n",
              "    </tr>\n",
              "  </tbody>\n",
              "</table>\n",
              "</div>\n",
              "      <button class=\"colab-df-convert\" onclick=\"convertToInteractive('df-3f7ba472-a793-4418-8455-aef52d9c5a58')\"\n",
              "              title=\"Convert this dataframe to an interactive table.\"\n",
              "              style=\"display:none;\">\n",
              "        \n",
              "  <svg xmlns=\"http://www.w3.org/2000/svg\" height=\"24px\"viewBox=\"0 0 24 24\"\n",
              "       width=\"24px\">\n",
              "    <path d=\"M0 0h24v24H0V0z\" fill=\"none\"/>\n",
              "    <path d=\"M18.56 5.44l.94 2.06.94-2.06 2.06-.94-2.06-.94-.94-2.06-.94 2.06-2.06.94zm-11 1L8.5 8.5l.94-2.06 2.06-.94-2.06-.94L8.5 2.5l-.94 2.06-2.06.94zm10 10l.94 2.06.94-2.06 2.06-.94-2.06-.94-.94-2.06-.94 2.06-2.06.94z\"/><path d=\"M17.41 7.96l-1.37-1.37c-.4-.4-.92-.59-1.43-.59-.52 0-1.04.2-1.43.59L10.3 9.45l-7.72 7.72c-.78.78-.78 2.05 0 2.83L4 21.41c.39.39.9.59 1.41.59.51 0 1.02-.2 1.41-.59l7.78-7.78 2.81-2.81c.8-.78.8-2.07 0-2.86zM5.41 20L4 18.59l7.72-7.72 1.47 1.35L5.41 20z\"/>\n",
              "  </svg>\n",
              "      </button>\n",
              "      \n",
              "  <style>\n",
              "    .colab-df-container {\n",
              "      display:flex;\n",
              "      flex-wrap:wrap;\n",
              "      gap: 12px;\n",
              "    }\n",
              "\n",
              "    .colab-df-convert {\n",
              "      background-color: #E8F0FE;\n",
              "      border: none;\n",
              "      border-radius: 50%;\n",
              "      cursor: pointer;\n",
              "      display: none;\n",
              "      fill: #1967D2;\n",
              "      height: 32px;\n",
              "      padding: 0 0 0 0;\n",
              "      width: 32px;\n",
              "    }\n",
              "\n",
              "    .colab-df-convert:hover {\n",
              "      background-color: #E2EBFA;\n",
              "      box-shadow: 0px 1px 2px rgba(60, 64, 67, 0.3), 0px 1px 3px 1px rgba(60, 64, 67, 0.15);\n",
              "      fill: #174EA6;\n",
              "    }\n",
              "\n",
              "    [theme=dark] .colab-df-convert {\n",
              "      background-color: #3B4455;\n",
              "      fill: #D2E3FC;\n",
              "    }\n",
              "\n",
              "    [theme=dark] .colab-df-convert:hover {\n",
              "      background-color: #434B5C;\n",
              "      box-shadow: 0px 1px 3px 1px rgba(0, 0, 0, 0.15);\n",
              "      filter: drop-shadow(0px 1px 2px rgba(0, 0, 0, 0.3));\n",
              "      fill: #FFFFFF;\n",
              "    }\n",
              "  </style>\n",
              "\n",
              "      <script>\n",
              "        const buttonEl =\n",
              "          document.querySelector('#df-3f7ba472-a793-4418-8455-aef52d9c5a58 button.colab-df-convert');\n",
              "        buttonEl.style.display =\n",
              "          google.colab.kernel.accessAllowed ? 'block' : 'none';\n",
              "\n",
              "        async function convertToInteractive(key) {\n",
              "          const element = document.querySelector('#df-3f7ba472-a793-4418-8455-aef52d9c5a58');\n",
              "          const dataTable =\n",
              "            await google.colab.kernel.invokeFunction('convertToInteractive',\n",
              "                                                     [key], {});\n",
              "          if (!dataTable) return;\n",
              "\n",
              "          const docLinkHtml = 'Like what you see? Visit the ' +\n",
              "            '<a target=\"_blank\" href=https://colab.research.google.com/notebooks/data_table.ipynb>data table notebook</a>'\n",
              "            + ' to learn more about interactive tables.';\n",
              "          element.innerHTML = '';\n",
              "          dataTable['output_type'] = 'display_data';\n",
              "          await google.colab.output.renderOutput(dataTable, element);\n",
              "          const docLink = document.createElement('div');\n",
              "          docLink.innerHTML = docLinkHtml;\n",
              "          element.appendChild(docLink);\n",
              "        }\n",
              "      </script>\n",
              "    </div>\n",
              "  </div>\n",
              "  "
            ]
          },
          "metadata": {},
          "execution_count": 23
        }
      ]
    },
    {
      "cell_type": "code",
      "source": [
        "jobs_df.isnull().sum()"
      ],
      "metadata": {
        "id": "S1-u6ttm1PG1",
        "colab": {
          "base_uri": "https://localhost:8080/"
        },
        "outputId": "5f177bb1-adf7-4858-b3ae-5136c523dd7f"
      },
      "execution_count": 24,
      "outputs": [
        {
          "output_type": "execute_result",
          "data": {
            "text/plain": [
              "title             0\n",
              "company_name      0\n",
              "location          0\n",
              "via               0\n",
              "description       0\n",
              "job_highlights    0\n",
              "related_links     0\n",
              "extensions        0\n",
              "job_id            0\n",
              "thumbnail         3\n",
              "posted_at         0\n",
              "schedule_type     0\n",
              "work_from_home    5\n",
              "dtype: int64"
            ]
          },
          "metadata": {},
          "execution_count": 24
        }
      ]
    },
    {
      "cell_type": "code",
      "source": [
        "jobs_df.shape"
      ],
      "metadata": {
        "colab": {
          "base_uri": "https://localhost:8080/"
        },
        "id": "SZtPcBt_Qwf9",
        "outputId": "699c2b85-32c2-457f-953a-5629679c324c"
      },
      "execution_count": 25,
      "outputs": [
        {
          "output_type": "execute_result",
          "data": {
            "text/plain": [
              "(10, 13)"
            ]
          },
          "metadata": {},
          "execution_count": 25
        }
      ]
    },
    {
      "cell_type": "code",
      "source": [
        "jobs_df.info()"
      ],
      "metadata": {
        "colab": {
          "base_uri": "https://localhost:8080/"
        },
        "id": "aC8xC_V9Q-gu",
        "outputId": "f4b95b6d-c77e-4328-f47a-1c43c6806336"
      },
      "execution_count": 26,
      "outputs": [
        {
          "output_type": "stream",
          "name": "stdout",
          "text": [
            "<class 'pandas.core.frame.DataFrame'>\n",
            "RangeIndex: 10 entries, 0 to 9\n",
            "Data columns (total 13 columns):\n",
            " #   Column          Non-Null Count  Dtype \n",
            "---  ------          --------------  ----- \n",
            " 0   title           10 non-null     object\n",
            " 1   company_name    10 non-null     object\n",
            " 2   location        10 non-null     object\n",
            " 3   via             10 non-null     object\n",
            " 4   description     10 non-null     object\n",
            " 5   job_highlights  10 non-null     object\n",
            " 6   related_links   10 non-null     object\n",
            " 7   extensions      10 non-null     object\n",
            " 8   job_id          10 non-null     object\n",
            " 9   thumbnail       7 non-null      object\n",
            " 10  posted_at       10 non-null     object\n",
            " 11  schedule_type   10 non-null     object\n",
            " 12  work_from_home  5 non-null      object\n",
            "dtypes: object(13)\n",
            "memory usage: 1.1+ KB\n"
          ]
        }
      ]
    },
    {
      "cell_type": "markdown",
      "source": [
        "# Normalized JSON to search necessary items for the job"
      ],
      "metadata": {
        "id": "cQKWCkwEnX3Q"
      }
    },
    {
      "cell_type": "code",
      "source": [
        "jobs = pd.json_normalize(jobs_df.job_highlights )"
      ],
      "metadata": {
        "id": "ItOUA8uQnGOL"
      },
      "execution_count": 27,
      "outputs": []
    },
    {
      "cell_type": "code",
      "source": [
        "jobs_df2 = pd.DataFrame(jobs)\n",
        "Ujobs = jobs_df2[0].apply(pd.Series)\n",
        "print(Ujobs)\n",
        "#Ujobs.loc[Ujobs[\"items\"].str.contains(\"SQL\")]"
      ],
      "metadata": {
        "colab": {
          "base_uri": "https://localhost:8080/"
        },
        "id": "Tp35Wg21hQwv",
        "outputId": "0200c9fa-96ad-46e9-81f8-4d0f48be4b79"
      },
      "execution_count": 28,
      "outputs": [
        {
          "output_type": "stream",
          "name": "stdout",
          "text": [
            "            title                                              items\n",
            "0  Qualifications  [3+ years’ previous analytics experience devel...\n",
            "1  Qualifications  [The right candidate will have a background in...\n",
            "2  Qualifications  [Bachelor's Degree completed in data science, ...\n",
            "3  Qualifications  [We are open to this employee being remote any...\n",
            "4  Qualifications  [Bachelor's degree or an equivalent combinatio...\n",
            "5  Qualifications  [Must have a minimum of 2 years banking experi...\n",
            "6  Qualifications  [Two years of professional experience in analy...\n",
            "7  Qualifications  [Candidates must be experienced in providing a...\n",
            "8  Qualifications  [Experience in a Marketing analytical role or ...\n",
            "9  Qualifications  [You can tell a story with data, and make it v...\n"
          ]
        }
      ]
    },
    {
      "cell_type": "code",
      "source": [
        "Ujobs = Ujobs.drop(columns = \"title\")"
      ],
      "metadata": {
        "id": "YSRk_9ETkuik"
      },
      "execution_count": 29,
      "outputs": []
    },
    {
      "cell_type": "code",
      "source": [
        "Ujobs"
      ],
      "metadata": {
        "colab": {
          "base_uri": "https://localhost:8080/",
          "height": 818
        },
        "id": "-vZnLSvkpmIl",
        "outputId": "72dcc6e3-6497-43bb-e334-9089d4c65ccd"
      },
      "execution_count": 30,
      "outputs": [
        {
          "output_type": "execute_result",
          "data": {
            "text/plain": [
              "                                               items\n",
              "0  [3+ years’ previous analytics experience devel...\n",
              "1  [The right candidate will have a background in...\n",
              "2  [Bachelor's Degree completed in data science, ...\n",
              "3  [We are open to this employee being remote any...\n",
              "4  [Bachelor's degree or an equivalent combinatio...\n",
              "5  [Must have a minimum of 2 years banking experi...\n",
              "6  [Two years of professional experience in analy...\n",
              "7  [Candidates must be experienced in providing a...\n",
              "8  [Experience in a Marketing analytical role or ...\n",
              "9  [You can tell a story with data, and make it v..."
            ],
            "text/html": [
              "\n",
              "  <div id=\"df-a059d98a-c903-44ae-82a5-592619d156cc\">\n",
              "    <div class=\"colab-df-container\">\n",
              "      <div>\n",
              "<style scoped>\n",
              "    .dataframe tbody tr th:only-of-type {\n",
              "        vertical-align: middle;\n",
              "    }\n",
              "\n",
              "    .dataframe tbody tr th {\n",
              "        vertical-align: top;\n",
              "    }\n",
              "\n",
              "    .dataframe thead th {\n",
              "        text-align: right;\n",
              "    }\n",
              "</style>\n",
              "<table border=\"1\" class=\"dataframe\">\n",
              "  <thead>\n",
              "    <tr style=\"text-align: right;\">\n",
              "      <th></th>\n",
              "      <th>items</th>\n",
              "    </tr>\n",
              "  </thead>\n",
              "  <tbody>\n",
              "    <tr>\n",
              "      <th>0</th>\n",
              "      <td>[3+ years’ previous analytics experience devel...</td>\n",
              "    </tr>\n",
              "    <tr>\n",
              "      <th>1</th>\n",
              "      <td>[The right candidate will have a background in...</td>\n",
              "    </tr>\n",
              "    <tr>\n",
              "      <th>2</th>\n",
              "      <td>[Bachelor's Degree completed in data science, ...</td>\n",
              "    </tr>\n",
              "    <tr>\n",
              "      <th>3</th>\n",
              "      <td>[We are open to this employee being remote any...</td>\n",
              "    </tr>\n",
              "    <tr>\n",
              "      <th>4</th>\n",
              "      <td>[Bachelor's degree or an equivalent combinatio...</td>\n",
              "    </tr>\n",
              "    <tr>\n",
              "      <th>5</th>\n",
              "      <td>[Must have a minimum of 2 years banking experi...</td>\n",
              "    </tr>\n",
              "    <tr>\n",
              "      <th>6</th>\n",
              "      <td>[Two years of professional experience in analy...</td>\n",
              "    </tr>\n",
              "    <tr>\n",
              "      <th>7</th>\n",
              "      <td>[Candidates must be experienced in providing a...</td>\n",
              "    </tr>\n",
              "    <tr>\n",
              "      <th>8</th>\n",
              "      <td>[Experience in a Marketing analytical role or ...</td>\n",
              "    </tr>\n",
              "    <tr>\n",
              "      <th>9</th>\n",
              "      <td>[You can tell a story with data, and make it v...</td>\n",
              "    </tr>\n",
              "  </tbody>\n",
              "</table>\n",
              "</div>\n",
              "      <button class=\"colab-df-convert\" onclick=\"convertToInteractive('df-a059d98a-c903-44ae-82a5-592619d156cc')\"\n",
              "              title=\"Convert this dataframe to an interactive table.\"\n",
              "              style=\"display:none;\">\n",
              "        \n",
              "  <svg xmlns=\"http://www.w3.org/2000/svg\" height=\"24px\"viewBox=\"0 0 24 24\"\n",
              "       width=\"24px\">\n",
              "    <path d=\"M0 0h24v24H0V0z\" fill=\"none\"/>\n",
              "    <path d=\"M18.56 5.44l.94 2.06.94-2.06 2.06-.94-2.06-.94-.94-2.06-.94 2.06-2.06.94zm-11 1L8.5 8.5l.94-2.06 2.06-.94-2.06-.94L8.5 2.5l-.94 2.06-2.06.94zm10 10l.94 2.06.94-2.06 2.06-.94-2.06-.94-.94-2.06-.94 2.06-2.06.94z\"/><path d=\"M17.41 7.96l-1.37-1.37c-.4-.4-.92-.59-1.43-.59-.52 0-1.04.2-1.43.59L10.3 9.45l-7.72 7.72c-.78.78-.78 2.05 0 2.83L4 21.41c.39.39.9.59 1.41.59.51 0 1.02-.2 1.41-.59l7.78-7.78 2.81-2.81c.8-.78.8-2.07 0-2.86zM5.41 20L4 18.59l7.72-7.72 1.47 1.35L5.41 20z\"/>\n",
              "  </svg>\n",
              "      </button>\n",
              "      \n",
              "  <style>\n",
              "    .colab-df-container {\n",
              "      display:flex;\n",
              "      flex-wrap:wrap;\n",
              "      gap: 12px;\n",
              "    }\n",
              "\n",
              "    .colab-df-convert {\n",
              "      background-color: #E8F0FE;\n",
              "      border: none;\n",
              "      border-radius: 50%;\n",
              "      cursor: pointer;\n",
              "      display: none;\n",
              "      fill: #1967D2;\n",
              "      height: 32px;\n",
              "      padding: 0 0 0 0;\n",
              "      width: 32px;\n",
              "    }\n",
              "\n",
              "    .colab-df-convert:hover {\n",
              "      background-color: #E2EBFA;\n",
              "      box-shadow: 0px 1px 2px rgba(60, 64, 67, 0.3), 0px 1px 3px 1px rgba(60, 64, 67, 0.15);\n",
              "      fill: #174EA6;\n",
              "    }\n",
              "\n",
              "    [theme=dark] .colab-df-convert {\n",
              "      background-color: #3B4455;\n",
              "      fill: #D2E3FC;\n",
              "    }\n",
              "\n",
              "    [theme=dark] .colab-df-convert:hover {\n",
              "      background-color: #434B5C;\n",
              "      box-shadow: 0px 1px 3px 1px rgba(0, 0, 0, 0.15);\n",
              "      filter: drop-shadow(0px 1px 2px rgba(0, 0, 0, 0.3));\n",
              "      fill: #FFFFFF;\n",
              "    }\n",
              "  </style>\n",
              "\n",
              "      <script>\n",
              "        const buttonEl =\n",
              "          document.querySelector('#df-a059d98a-c903-44ae-82a5-592619d156cc button.colab-df-convert');\n",
              "        buttonEl.style.display =\n",
              "          google.colab.kernel.accessAllowed ? 'block' : 'none';\n",
              "\n",
              "        async function convertToInteractive(key) {\n",
              "          const element = document.querySelector('#df-a059d98a-c903-44ae-82a5-592619d156cc');\n",
              "          const dataTable =\n",
              "            await google.colab.kernel.invokeFunction('convertToInteractive',\n",
              "                                                     [key], {});\n",
              "          if (!dataTable) return;\n",
              "\n",
              "          const docLinkHtml = 'Like what you see? Visit the ' +\n",
              "            '<a target=\"_blank\" href=https://colab.research.google.com/notebooks/data_table.ipynb>data table notebook</a>'\n",
              "            + ' to learn more about interactive tables.';\n",
              "          element.innerHTML = '';\n",
              "          dataTable['output_type'] = 'display_data';\n",
              "          await google.colab.output.renderOutput(dataTable, element);\n",
              "          const docLink = document.createElement('div');\n",
              "          docLink.innerHTML = docLinkHtml;\n",
              "          element.appendChild(docLink);\n",
              "        }\n",
              "      </script>\n",
              "    </div>\n",
              "  </div>\n",
              "  "
            ]
          },
          "metadata": {},
          "execution_count": 30
        }
      ]
    },
    {
      "cell_type": "code",
      "source": [
        "count = 1\n",
        "for i in Ujobs['items']:\n",
        "  #count = 0\n",
        "  list1 = []\n",
        "  list1.append(i)\n",
        "  print(list1)\n",
        "  count = count + 1\n",
        "\n"
      ],
      "metadata": {
        "colab": {
          "base_uri": "https://localhost:8080/"
        },
        "id": "9rJNqi1ksFFx",
        "outputId": "485e4a01-e5bf-4596-8fb8-c1a15f268247"
      },
      "execution_count": 64,
      "outputs": [
        {
          "output_type": "stream",
          "name": "stdout",
          "text": [
            "[['3+ years’ previous analytics experience developing business solutions using comprehensive, robust data assets', '3+ years’ experience with T-SQL', '3+ years’ experience with Microsoft Power BI or similar products', 'Intermediate knowledge of a programming language such as Python and/or R', 'Bachelor’s Degree or equivalent work experience and a high school diploma/GED', 'Values a diverse and inclusive work environment']]\n",
            "[['The right candidate will have a background in development, will be able to comfortably use SQL, will have experience with SAS, and will be familiar with ETL tools and pipelines', 'Remote work Flexibility!', 'The ability to work for a Fortune 500 company!', 'The opportunity to work on a highly visible project for the company!', 'Familiar with databases, has foundational knowledge that can be built', 'Experience and confidence using SQL']]\n",
            "[[\"Bachelor's Degree completed in data science, business, or related field\", '2+ years of experience in a consulting environment', 'Microsoft Certifications within the Data Analyst track, Dynamics 365 track, etc', 'MB-910, MB-500, MB-700, DP-900, PL-100', 'Prior experience within the banking or financial services sector']]\n",
            "[['We are open to this employee being remote anywhere in the U.S', 'Minimum 5+ years of experience in advanced analytics', 'Bachelor’s degree or equivalent combination of education and experience', 'Advanced Microsoft Excel Skills', '2-4 years of Workday Advanced Reporting & Analytics experience required', 'Curious problem solver with an ability to answer questions and tell a story using data', 'Ability to work with large data sets and summarize key findings', 'Keen attention to detail and passion for data and data integrity, process and efficiency', 'Excellent time management skills, with the ability to prioritize and multi-task, and work under shifting deadlines in a fast-paced environment', 'Strong organizational skills and attention to details', 'Discretion and sensitivity to confidentiality', 'Willingness to take initiative and ownership of projects', 'Positive attitude and strong work ethic', 'Must have legal right to work in the U.S']]\n",
            "[[\"Bachelor's degree or an equivalent combination of education and\", 'relevant experience and at least 4 years of experience from which', 'comparable knowledge and skills can be acquired is necessary', 'Working knowledge of assessment principles as they relate to', 'ability and competence without unlawful discrimination on the basis', 'age, disability, protected veteran status, or any other status']]\n",
            "[['Must have a minimum of 2 years banking experience, preferably opening or auditing new accounts', 'Ability to work independently and be self-directed while being a strong team player', 'Strong analytical skills with the ability to organize and analyze significant amounts of information with attention to detail and accuracy', 'Strong Excel data analysis skills', 'Working knowledge of MS Word and Outlook', 'Proven high level of accuracy in data entry', 'Excellent written and oral communications skills and the ability to clearly define projects, objectives, goals, schedules and assignments', 'Ability to work effectively with business personnel at all levels', 'Must exercise a reasonable amount of independent judgment under a minimum of supervision', 'Requires strong interpersonal and organizational skills, including the ability to meet deadlines, follow written policies and procedures, and maintain superior customer service at all times with all users']]\n",
            "[['Two years of professional experience in analytical roles', 'Knowledge of Transact-SQL (and SQL Server)', 'Working knowledge of at least one programming language for data analysis, such as R, Python (including NumPy, pandas, and scikit-learn), or Julia', 'Familiarity with statistical methods, including time series forecasting and regression analysis', 'Experience interacting with and manipulating relational datasets', 'Experience leading at least one data-driven project with multiple stakeholders', 'Strong written and verbal communication skills', 'Detail oriented and highly organized', 'Self-starter and a team player', 'Applicants MUST be U.S. citizens and eligible for a security clearance', 'Additionally, applicants must be willing to apply for and maintain a security clearance']]\n",
            "[['Candidates must be experienced in providing analytical thought leadership and telling insight-driven data stories', \"Bachelors' Degree in related field, or equivalent work experience\", 'Expert level ability to identify and troubleshoot critical issues', 'Develops clear and well-structured analytical plans and analyzes large datasets', 'Helps business by interpreting data to assess and compare performance', 'Experience with business-critical applications', 'Experience translating vague requests into concrete deliverables', 'Experience with migrating legacy systems to modern cloud-based analytical solutions', 'Ability to adapt to fast changing environments', 'AWS/Google Cloud platform experience', 'Agile implementation experience', 'Understanding of database (SQL, Stored Proc), data ingestion, data warehouse, ETL etc', 'Experience working with SAP systems', 'Experience with Python and/or R', 'Understanding of Project management lifecycle']]\n",
            "[['Experience in a Marketing analytical role or an Analyst role in the Wagering sector', 'Degree level qualification specializing in Analytics, Mathematics or Statistics or related field', 'Passion for esports/betting/gaming', 'Advanced knowledge of data query languages and data manipulation including SQL', 'Strong written and oral communication skills', 'Able to liaise with distributed teams from different disciplines to deliver goals on time', 'A keen eye for detail and comfortable being hands on in a small team, start-up environment', 'Ability to effectively prioritize, manage and execute tasks', 'Strong time management and multitasking skills', 'Customer Centric, \"can do\" attitude - Always curious about their experience', 'Strong work ethic and ability to ‘get the job done’', 'Able to build effective working relationships', 'Deliver work to a high standard', 'Sound working knowledge of Data & Analytics platforms and tools', 'Previous experience using Tableau', 'Understanding of bookmaking and risk management concepts', 'Knowledge of Predictive Analytics and Machine Learning processes, tools and techniques', 'Additional proficiency in R or Python', 'Experience with Google Analytics']]\n",
            "[['You can tell a story with data, and make it visually appealing to wide audiences', 'You’ve been working with data and analytics for at least 3 years', 'You have experience working with Snowflake, Looker or equivalent visualization tools', 'You can use SQL and have strong analytical experience', 'You are comfortable working in an agile environment, delivering incremental value', 'You can analyze data sets using statistical languages or Python', 'You are a problem-solver and critical thinker', 'Effective communicator, able to clearly and succinctly explain complex topics', 'Natural collaborator, with experience working multi-functionally with partners', 'Your work can be achieved independently, in a remote environment with minimal supervision', 'You love to learn, and are committed to personal development', 'Experience with SaaS businesses, value drivers and common metrics', 'Experience in scripting or statistical languages such as R']]\n"
          ]
        }
      ]
    },
    {
      "cell_type": "code",
      "source": [
        "list1"
      ],
      "metadata": {
        "id": "WoaYwf3oscmR",
        "colab": {
          "base_uri": "https://localhost:8080/"
        },
        "outputId": "540b7620-a060-4c70-cdb0-b9c41cef7257"
      },
      "execution_count": 60,
      "outputs": [
        {
          "output_type": "execute_result",
          "data": {
            "text/plain": [
              "[['You can tell a story with data, and make it visually appealing to wide audiences',\n",
              "  'You’ve been working with data and analytics for at least 3 years',\n",
              "  'You have experience working with Snowflake, Looker or equivalent visualization tools',\n",
              "  'You can use SQL and have strong analytical experience',\n",
              "  'You are comfortable working in an agile environment, delivering incremental value',\n",
              "  'You can analyze data sets using statistical languages or Python',\n",
              "  'You are a problem-solver and critical thinker',\n",
              "  'Effective communicator, able to clearly and succinctly explain complex topics',\n",
              "  'Natural collaborator, with experience working multi-functionally with partners',\n",
              "  'Your work can be achieved independently, in a remote environment with minimal supervision',\n",
              "  'You love to learn, and are committed to personal development',\n",
              "  'Experience with SaaS businesses, value drivers and common metrics',\n",
              "  'Experience in scripting or statistical languages such as R']]"
            ]
          },
          "metadata": {},
          "execution_count": 60
        }
      ]
    },
    {
      "cell_type": "code",
      "source": [],
      "metadata": {
        "id": "ZrLURyp_nrwI"
      },
      "execution_count": null,
      "outputs": []
    }
  ]
}