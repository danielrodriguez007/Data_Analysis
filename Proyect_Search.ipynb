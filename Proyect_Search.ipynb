{
  "nbformat": 4,
  "nbformat_minor": 0,
  "metadata": {
    "colab": {
      "provenance": [],
      "authorship_tag": "ABX9TyPyexq30jwHyiDY8UhESoTZ",
      "include_colab_link": true
    },
    "kernelspec": {
      "name": "python3",
      "display_name": "Python 3"
    },
    "language_info": {
      "name": "python"
    }
  },
  "cells": [
    {
      "cell_type": "markdown",
      "metadata": {
        "id": "view-in-github",
        "colab_type": "text"
      },
      "source": [
        "<a href=\"https://colab.research.google.com/github/danielrodriguez007/Data_Analysis/blob/main/Proyect_Search.ipynb\" target=\"_parent\"><img src=\"https://colab.research.google.com/assets/colab-badge.svg\" alt=\"Open In Colab\"/></a>"
      ]
    },
    {
      "cell_type": "code",
      "source": [
        "#install library\n",
        "!pip install google-search-results"
      ],
      "metadata": {
        "colab": {
          "base_uri": "https://localhost:8080/"
        },
        "id": "9LIc8nYrDc0I",
        "outputId": "8e17a96b-6d56-4f7f-db8d-b8d5cbb55aa4"
      },
      "execution_count": 80,
      "outputs": [
        {
          "output_type": "stream",
          "name": "stdout",
          "text": [
            "Looking in indexes: https://pypi.org/simple, https://us-python.pkg.dev/colab-wheels/public/simple/\n",
            "Requirement already satisfied: google-search-results in /usr/local/lib/python3.8/dist-packages (2.4.1)\n",
            "Requirement already satisfied: requests in /usr/local/lib/python3.8/dist-packages (from google-search-results) (2.25.1)\n",
            "Requirement already satisfied: urllib3<1.27,>=1.21.1 in /usr/local/lib/python3.8/dist-packages (from requests->google-search-results) (1.24.3)\n",
            "Requirement already satisfied: chardet<5,>=3.0.2 in /usr/local/lib/python3.8/dist-packages (from requests->google-search-results) (4.0.0)\n",
            "Requirement already satisfied: idna<3,>=2.5 in /usr/local/lib/python3.8/dist-packages (from requests->google-search-results) (2.10)\n",
            "Requirement already satisfied: certifi>=2017.4.17 in /usr/local/lib/python3.8/dist-packages (from requests->google-search-results) (2022.12.7)\n"
          ]
        }
      ]
    },
    {
      "cell_type": "code",
      "source": [
        "#import library needed for the search\n",
        "import numpy as np\n",
        "import pandas as pd\n",
        "import plotly.express as px \n",
        "import matplotlib.pyplot as plt\n",
        "from serpapi import GoogleSearch\n",
        "plt.style.use('fivethirtyeight')"
      ],
      "metadata": {
        "id": "uZh7ZrKQociP"
      },
      "execution_count": 81,
      "outputs": []
    },
    {
      "cell_type": "code",
      "source": [
        "#SerpApi google search\n",
        "search_term=\"Data Analyst\" #Job to be searching\n",
        "search_location=\"United States\" #Places where you search https://serpapi.com/google-countries\n",
        "\n",
        "\n",
        "params = {\n",
        "  \"q\": search_term,\n",
        "  \"location\": search_location,\n",
        "  \"engine\" : \"google_jobs\",\n",
        "  \"hl\": \"en\",\n",
        "  \"gl\": \"us\",\n",
        "  \"google_domain\": \"google.com\",\n",
        "  \"api_key\": \"a74096ebb3b875e086bdf8353fb1e90edbd5bdbb2c9e9ea9bf863f98e55ac489\"\n",
        "}"
      ],
      "metadata": {
        "id": "MXFGAK2fsMFJ"
      },
      "execution_count": 82,
      "outputs": []
    },
    {
      "cell_type": "code",
      "source": [
        "#creating dataframe with the information obtenied of the search\n",
        "search = GoogleSearch(params)\n",
        "results = search.get_dict()\n",
        "jobs_df = results['jobs_results']\n",
        "jobs_df = pd.DataFrame(jobs_df)\n",
        "jobs_df = pd.concat([pd.DataFrame(jobs_df),\n",
        "                     pd.json_normalize(jobs_df['detected_extensions'])],\n",
        "                    axis=1).drop('detected_extensions',1)\n",
        "         "
      ],
      "metadata": {
        "colab": {
          "base_uri": "https://localhost:8080/"
        },
        "id": "09-eNHHssvAR",
        "outputId": "0cd49b50-ee75-43b1-d4ab-a8f80aed447a"
      },
      "execution_count": 83,
      "outputs": [
        {
          "output_type": "stream",
          "name": "stdout",
          "text": [
            "https://serpapi.com/search\n"
          ]
        },
        {
          "output_type": "stream",
          "name": "stderr",
          "text": [
            "<ipython-input-83-d668609e91a2>:6: FutureWarning: In a future version of pandas all arguments of DataFrame.drop except for the argument 'labels' will be keyword-only\n",
            "  jobs_df = pd.concat([pd.DataFrame(jobs_df),\n"
          ]
        }
      ]
    },
    {
      "cell_type": "code",
      "source": [
        "#Quick looking of the dataframe\n",
        "jobs_df.head(5)"
      ],
      "metadata": {
        "colab": {
          "base_uri": "https://localhost:8080/",
          "height": 565
        },
        "id": "aFJC_pLH010t",
        "outputId": "d14e059e-f999-4b57-f6e8-ded0fa6ee308"
      },
      "execution_count": 84,
      "outputs": [
        {
          "output_type": "execute_result",
          "data": {
            "text/plain": [
              "                         title              company_name  \\\n",
              "0                 Data Analyst  Midtown Consulting Group   \n",
              "1          Junior Data Analyst    Diligente Technologies   \n",
              "2  Intern, People Data Analyst                    Biogen   \n",
              "3          Senior Data Analyst           Cardinal Health   \n",
              "4                 Data Analyst  Millennium Space Systems   \n",
              "\n",
              "                   location                  via  \\\n",
              "0                  Anywhere         via LinkedIn   \n",
              "1             United States         via LinkedIn   \n",
              "2                  Anywhere         via LinkedIn   \n",
              "3  United States (+1 other)  via Cardinal Health   \n",
              "4             United States      via Rocket Crew   \n",
              "\n",
              "                                         description  \\\n",
              "0  The Data Analyst Consultant at Midtown Consult...   \n",
              "1  Employment Type: Contract\\n\\nCity: San Francis...   \n",
              "2  Company Description\\n\\nAt Biogen, our mission ...   \n",
              "3  Senior. Data Analyst\\n\\nHeadquartered in Dubli...   \n",
              "4  Company Overview\\nMillennium Space Systems, A ...   \n",
              "\n",
              "                                      job_highlights  \\\n",
              "0  [{'title': 'Qualifications', 'items': ['Bachel...   \n",
              "1  [{'title': 'Qualifications', 'items': ['Must h...   \n",
              "2  [{'title': 'Qualifications', 'items': ['Talent...   \n",
              "3  [{'title': 'Qualifications', 'items': ['Candid...   \n",
              "4  [{'title': 'Qualifications', 'items': ['Two ye...   \n",
              "\n",
              "                                       related_links  \\\n",
              "0  [{'link': 'https://www.google.com/search?gl=us...   \n",
              "1  [{'link': 'https://www.google.com/search?gl=us...   \n",
              "2  [{'link': 'http://www.biogen.com/', 'text': 'b...   \n",
              "3  [{'link': 'http://www.cardinal.com/', 'text': ...   \n",
              "4  [{'link': 'http://www.millennium-space.com/', ...   \n",
              "\n",
              "                                           thumbnail  \\\n",
              "0  https://encrypted-tbn0.gstatic.com/images?q=tb...   \n",
              "1  https://encrypted-tbn0.gstatic.com/images?q=tb...   \n",
              "2  https://encrypted-tbn0.gstatic.com/images?q=tb...   \n",
              "3                                                NaN   \n",
              "4                                                NaN   \n",
              "\n",
              "                                          extensions  \\\n",
              "0          [24 hours ago, Work from home, Full-time]   \n",
              "1    [23 hours ago, Contractor, No degree mentioned]   \n",
              "2         [7 minutes ago, Work from home, Full-time]   \n",
              "3                            [6 days ago, Full-time]   \n",
              "4  [2 days ago, Full-time, Health insurance, Dent...   \n",
              "\n",
              "                                              job_id      posted_at  \\\n",
              "0  eyJqb2JfdGl0bGUiOiJEYXRhIEFuYWx5c3QiLCJodGlkb2...   24 hours ago   \n",
              "1  eyJqb2JfdGl0bGUiOiJKdW5pb3IgRGF0YSBBbmFseXN0Ii...   23 hours ago   \n",
              "2  eyJqb2JfdGl0bGUiOiJJbnRlcm4sIFBlb3BsZSBEYXRhIE...  7 minutes ago   \n",
              "3  eyJqb2JfdGl0bGUiOiJTZW5pb3IgRGF0YSBBbmFseXN0Ii...     6 days ago   \n",
              "4  eyJqb2JfdGl0bGUiOiJEYXRhIEFuYWx5c3QiLCJodGlkb2...     2 days ago   \n",
              "\n",
              "  schedule_type work_from_home  \n",
              "0     Full-time           True  \n",
              "1    Contractor            NaN  \n",
              "2     Full-time           True  \n",
              "3     Full-time            NaN  \n",
              "4     Full-time            NaN  "
            ],
            "text/html": [
              "\n",
              "  <div id=\"df-d55dc87c-d687-42fb-b45e-8395b2734e9b\">\n",
              "    <div class=\"colab-df-container\">\n",
              "      <div>\n",
              "<style scoped>\n",
              "    .dataframe tbody tr th:only-of-type {\n",
              "        vertical-align: middle;\n",
              "    }\n",
              "\n",
              "    .dataframe tbody tr th {\n",
              "        vertical-align: top;\n",
              "    }\n",
              "\n",
              "    .dataframe thead th {\n",
              "        text-align: right;\n",
              "    }\n",
              "</style>\n",
              "<table border=\"1\" class=\"dataframe\">\n",
              "  <thead>\n",
              "    <tr style=\"text-align: right;\">\n",
              "      <th></th>\n",
              "      <th>title</th>\n",
              "      <th>company_name</th>\n",
              "      <th>location</th>\n",
              "      <th>via</th>\n",
              "      <th>description</th>\n",
              "      <th>job_highlights</th>\n",
              "      <th>related_links</th>\n",
              "      <th>thumbnail</th>\n",
              "      <th>extensions</th>\n",
              "      <th>job_id</th>\n",
              "      <th>posted_at</th>\n",
              "      <th>schedule_type</th>\n",
              "      <th>work_from_home</th>\n",
              "    </tr>\n",
              "  </thead>\n",
              "  <tbody>\n",
              "    <tr>\n",
              "      <th>0</th>\n",
              "      <td>Data Analyst</td>\n",
              "      <td>Midtown Consulting Group</td>\n",
              "      <td>Anywhere</td>\n",
              "      <td>via LinkedIn</td>\n",
              "      <td>The Data Analyst Consultant at Midtown Consult...</td>\n",
              "      <td>[{'title': 'Qualifications', 'items': ['Bachel...</td>\n",
              "      <td>[{'link': 'https://www.google.com/search?gl=us...</td>\n",
              "      <td>https://encrypted-tbn0.gstatic.com/images?q=tb...</td>\n",
              "      <td>[24 hours ago, Work from home, Full-time]</td>\n",
              "      <td>eyJqb2JfdGl0bGUiOiJEYXRhIEFuYWx5c3QiLCJodGlkb2...</td>\n",
              "      <td>24 hours ago</td>\n",
              "      <td>Full-time</td>\n",
              "      <td>True</td>\n",
              "    </tr>\n",
              "    <tr>\n",
              "      <th>1</th>\n",
              "      <td>Junior Data Analyst</td>\n",
              "      <td>Diligente Technologies</td>\n",
              "      <td>United States</td>\n",
              "      <td>via LinkedIn</td>\n",
              "      <td>Employment Type: Contract\\n\\nCity: San Francis...</td>\n",
              "      <td>[{'title': 'Qualifications', 'items': ['Must h...</td>\n",
              "      <td>[{'link': 'https://www.google.com/search?gl=us...</td>\n",
              "      <td>https://encrypted-tbn0.gstatic.com/images?q=tb...</td>\n",
              "      <td>[23 hours ago, Contractor, No degree mentioned]</td>\n",
              "      <td>eyJqb2JfdGl0bGUiOiJKdW5pb3IgRGF0YSBBbmFseXN0Ii...</td>\n",
              "      <td>23 hours ago</td>\n",
              "      <td>Contractor</td>\n",
              "      <td>NaN</td>\n",
              "    </tr>\n",
              "    <tr>\n",
              "      <th>2</th>\n",
              "      <td>Intern, People Data Analyst</td>\n",
              "      <td>Biogen</td>\n",
              "      <td>Anywhere</td>\n",
              "      <td>via LinkedIn</td>\n",
              "      <td>Company Description\\n\\nAt Biogen, our mission ...</td>\n",
              "      <td>[{'title': 'Qualifications', 'items': ['Talent...</td>\n",
              "      <td>[{'link': 'http://www.biogen.com/', 'text': 'b...</td>\n",
              "      <td>https://encrypted-tbn0.gstatic.com/images?q=tb...</td>\n",
              "      <td>[7 minutes ago, Work from home, Full-time]</td>\n",
              "      <td>eyJqb2JfdGl0bGUiOiJJbnRlcm4sIFBlb3BsZSBEYXRhIE...</td>\n",
              "      <td>7 minutes ago</td>\n",
              "      <td>Full-time</td>\n",
              "      <td>True</td>\n",
              "    </tr>\n",
              "    <tr>\n",
              "      <th>3</th>\n",
              "      <td>Senior Data Analyst</td>\n",
              "      <td>Cardinal Health</td>\n",
              "      <td>United States (+1 other)</td>\n",
              "      <td>via Cardinal Health</td>\n",
              "      <td>Senior. Data Analyst\\n\\nHeadquartered in Dubli...</td>\n",
              "      <td>[{'title': 'Qualifications', 'items': ['Candid...</td>\n",
              "      <td>[{'link': 'http://www.cardinal.com/', 'text': ...</td>\n",
              "      <td>NaN</td>\n",
              "      <td>[6 days ago, Full-time]</td>\n",
              "      <td>eyJqb2JfdGl0bGUiOiJTZW5pb3IgRGF0YSBBbmFseXN0Ii...</td>\n",
              "      <td>6 days ago</td>\n",
              "      <td>Full-time</td>\n",
              "      <td>NaN</td>\n",
              "    </tr>\n",
              "    <tr>\n",
              "      <th>4</th>\n",
              "      <td>Data Analyst</td>\n",
              "      <td>Millennium Space Systems</td>\n",
              "      <td>United States</td>\n",
              "      <td>via Rocket Crew</td>\n",
              "      <td>Company Overview\\nMillennium Space Systems, A ...</td>\n",
              "      <td>[{'title': 'Qualifications', 'items': ['Two ye...</td>\n",
              "      <td>[{'link': 'http://www.millennium-space.com/', ...</td>\n",
              "      <td>NaN</td>\n",
              "      <td>[2 days ago, Full-time, Health insurance, Dent...</td>\n",
              "      <td>eyJqb2JfdGl0bGUiOiJEYXRhIEFuYWx5c3QiLCJodGlkb2...</td>\n",
              "      <td>2 days ago</td>\n",
              "      <td>Full-time</td>\n",
              "      <td>NaN</td>\n",
              "    </tr>\n",
              "  </tbody>\n",
              "</table>\n",
              "</div>\n",
              "      <button class=\"colab-df-convert\" onclick=\"convertToInteractive('df-d55dc87c-d687-42fb-b45e-8395b2734e9b')\"\n",
              "              title=\"Convert this dataframe to an interactive table.\"\n",
              "              style=\"display:none;\">\n",
              "        \n",
              "  <svg xmlns=\"http://www.w3.org/2000/svg\" height=\"24px\"viewBox=\"0 0 24 24\"\n",
              "       width=\"24px\">\n",
              "    <path d=\"M0 0h24v24H0V0z\" fill=\"none\"/>\n",
              "    <path d=\"M18.56 5.44l.94 2.06.94-2.06 2.06-.94-2.06-.94-.94-2.06-.94 2.06-2.06.94zm-11 1L8.5 8.5l.94-2.06 2.06-.94-2.06-.94L8.5 2.5l-.94 2.06-2.06.94zm10 10l.94 2.06.94-2.06 2.06-.94-2.06-.94-.94-2.06-.94 2.06-2.06.94z\"/><path d=\"M17.41 7.96l-1.37-1.37c-.4-.4-.92-.59-1.43-.59-.52 0-1.04.2-1.43.59L10.3 9.45l-7.72 7.72c-.78.78-.78 2.05 0 2.83L4 21.41c.39.39.9.59 1.41.59.51 0 1.02-.2 1.41-.59l7.78-7.78 2.81-2.81c.8-.78.8-2.07 0-2.86zM5.41 20L4 18.59l7.72-7.72 1.47 1.35L5.41 20z\"/>\n",
              "  </svg>\n",
              "      </button>\n",
              "      \n",
              "  <style>\n",
              "    .colab-df-container {\n",
              "      display:flex;\n",
              "      flex-wrap:wrap;\n",
              "      gap: 12px;\n",
              "    }\n",
              "\n",
              "    .colab-df-convert {\n",
              "      background-color: #E8F0FE;\n",
              "      border: none;\n",
              "      border-radius: 50%;\n",
              "      cursor: pointer;\n",
              "      display: none;\n",
              "      fill: #1967D2;\n",
              "      height: 32px;\n",
              "      padding: 0 0 0 0;\n",
              "      width: 32px;\n",
              "    }\n",
              "\n",
              "    .colab-df-convert:hover {\n",
              "      background-color: #E2EBFA;\n",
              "      box-shadow: 0px 1px 2px rgba(60, 64, 67, 0.3), 0px 1px 3px 1px rgba(60, 64, 67, 0.15);\n",
              "      fill: #174EA6;\n",
              "    }\n",
              "\n",
              "    [theme=dark] .colab-df-convert {\n",
              "      background-color: #3B4455;\n",
              "      fill: #D2E3FC;\n",
              "    }\n",
              "\n",
              "    [theme=dark] .colab-df-convert:hover {\n",
              "      background-color: #434B5C;\n",
              "      box-shadow: 0px 1px 3px 1px rgba(0, 0, 0, 0.15);\n",
              "      filter: drop-shadow(0px 1px 2px rgba(0, 0, 0, 0.3));\n",
              "      fill: #FFFFFF;\n",
              "    }\n",
              "  </style>\n",
              "\n",
              "      <script>\n",
              "        const buttonEl =\n",
              "          document.querySelector('#df-d55dc87c-d687-42fb-b45e-8395b2734e9b button.colab-df-convert');\n",
              "        buttonEl.style.display =\n",
              "          google.colab.kernel.accessAllowed ? 'block' : 'none';\n",
              "\n",
              "        async function convertToInteractive(key) {\n",
              "          const element = document.querySelector('#df-d55dc87c-d687-42fb-b45e-8395b2734e9b');\n",
              "          const dataTable =\n",
              "            await google.colab.kernel.invokeFunction('convertToInteractive',\n",
              "                                                     [key], {});\n",
              "          if (!dataTable) return;\n",
              "\n",
              "          const docLinkHtml = 'Like what you see? Visit the ' +\n",
              "            '<a target=\"_blank\" href=https://colab.research.google.com/notebooks/data_table.ipynb>data table notebook</a>'\n",
              "            + ' to learn more about interactive tables.';\n",
              "          element.innerHTML = '';\n",
              "          dataTable['output_type'] = 'display_data';\n",
              "          await google.colab.output.renderOutput(dataTable, element);\n",
              "          const docLink = document.createElement('div');\n",
              "          docLink.innerHTML = docLinkHtml;\n",
              "          element.appendChild(docLink);\n",
              "        }\n",
              "      </script>\n",
              "    </div>\n",
              "  </div>\n",
              "  "
            ]
          },
          "metadata": {},
          "execution_count": 84
        }
      ]
    },
    {
      "cell_type": "code",
      "source": [
        "jobs_df.isnull().sum()"
      ],
      "metadata": {
        "id": "S1-u6ttm1PG1",
        "colab": {
          "base_uri": "https://localhost:8080/"
        },
        "outputId": "eecc6dbd-b632-4336-93fb-2e05d666bc7b"
      },
      "execution_count": 85,
      "outputs": [
        {
          "output_type": "execute_result",
          "data": {
            "text/plain": [
              "title             0\n",
              "company_name      0\n",
              "location          0\n",
              "via               0\n",
              "description       0\n",
              "job_highlights    1\n",
              "related_links     0\n",
              "thumbnail         2\n",
              "extensions        0\n",
              "job_id            0\n",
              "posted_at         0\n",
              "schedule_type     0\n",
              "work_from_home    4\n",
              "dtype: int64"
            ]
          },
          "metadata": {},
          "execution_count": 85
        }
      ]
    },
    {
      "cell_type": "code",
      "source": [
        "jobs_df.shape"
      ],
      "metadata": {
        "colab": {
          "base_uri": "https://localhost:8080/"
        },
        "id": "SZtPcBt_Qwf9",
        "outputId": "5f468c7d-b0b1-485a-bb5d-c5cab0c20102"
      },
      "execution_count": 86,
      "outputs": [
        {
          "output_type": "execute_result",
          "data": {
            "text/plain": [
              "(10, 13)"
            ]
          },
          "metadata": {},
          "execution_count": 86
        }
      ]
    },
    {
      "cell_type": "code",
      "source": [
        "jobs_df.info()"
      ],
      "metadata": {
        "colab": {
          "base_uri": "https://localhost:8080/"
        },
        "id": "aC8xC_V9Q-gu",
        "outputId": "e6f1ecce-c1b3-4617-ca37-e5dcd4446b25"
      },
      "execution_count": 87,
      "outputs": [
        {
          "output_type": "stream",
          "name": "stdout",
          "text": [
            "<class 'pandas.core.frame.DataFrame'>\n",
            "RangeIndex: 10 entries, 0 to 9\n",
            "Data columns (total 13 columns):\n",
            " #   Column          Non-Null Count  Dtype \n",
            "---  ------          --------------  ----- \n",
            " 0   title           10 non-null     object\n",
            " 1   company_name    10 non-null     object\n",
            " 2   location        10 non-null     object\n",
            " 3   via             10 non-null     object\n",
            " 4   description     10 non-null     object\n",
            " 5   job_highlights  9 non-null      object\n",
            " 6   related_links   10 non-null     object\n",
            " 7   thumbnail       8 non-null      object\n",
            " 8   extensions      10 non-null     object\n",
            " 9   job_id          10 non-null     object\n",
            " 10  posted_at       10 non-null     object\n",
            " 11  schedule_type   10 non-null     object\n",
            " 12  work_from_home  6 non-null      object\n",
            "dtypes: object(13)\n",
            "memory usage: 1.1+ KB\n"
          ]
        }
      ]
    },
    {
      "cell_type": "markdown",
      "source": [
        "# Searching about how to read dict/json in a dataframe columns or putting all information in a new column"
      ],
      "metadata": {
        "id": "cQKWCkwEnX3Q"
      }
    },
    {
      "cell_type": "code",
      "source": [
        "jobs = pd.json_normalize(jobs_df.job_highlights )"
      ],
      "metadata": {
        "id": "ItOUA8uQnGOL"
      },
      "execution_count": 88,
      "outputs": []
    },
    {
      "cell_type": "code",
      "source": [
        "jobs_df2 = pd.DataFrame(jobs)\n",
        "Ujobs = jobs_df2[0].apply(pd.Series)\n",
        "print(Ujobs)\n",
        "#Ujobs.loc[Ujobs[\"items\"].str.contains(\"SQL\")]"
      ],
      "metadata": {
        "colab": {
          "base_uri": "https://localhost:8080/"
        },
        "id": "Tp35Wg21hQwv",
        "outputId": "1f95ddfe-0bd7-4290-8f44-98302d3b9aa9"
      },
      "execution_count": 89,
      "outputs": [
        {
          "output_type": "stream",
          "name": "stdout",
          "text": [
            "            title                                              items\n",
            "0  Qualifications  [Bachelor's Degree completed in data science, ...\n",
            "1  Qualifications  [Must have a minimum of 2 years banking experi...\n",
            "2  Qualifications  [Talent, skills, and functional expertise, Pro...\n",
            "3  Qualifications  [Candidates must be experienced in providing a...\n",
            "4  Qualifications  [Two years of professional experience in analy...\n",
            "5  Qualifications  [Bachelor's degree or an equivalent combinatio...\n",
            "6  Qualifications  [Who you are: You likely have a couple of year...\n",
            "7  Qualifications  [The ideal candidate is also comfortable worki...\n",
            "8  Qualifications  [You can tell a story with data, and make it v...\n",
            "9             NaN                                                NaN\n"
          ]
        }
      ]
    },
    {
      "cell_type": "code",
      "source": [
        "Ujobs = Ujobs.drop(columns = \"title\")\n"
      ],
      "metadata": {
        "id": "YSRk_9ETkuik"
      },
      "execution_count": 90,
      "outputs": []
    },
    {
      "cell_type": "code",
      "source": [
        "Ujobs"
      ],
      "metadata": {
        "colab": {
          "base_uri": "https://localhost:8080/",
          "height": 363
        },
        "id": "-vZnLSvkpmIl",
        "outputId": "57e3a654-540a-42fc-b393-5ff41811d231"
      },
      "execution_count": 91,
      "outputs": [
        {
          "output_type": "execute_result",
          "data": {
            "text/plain": [
              "                                               items\n",
              "0  [Bachelor's Degree completed in data science, ...\n",
              "1  [Must have a minimum of 2 years banking experi...\n",
              "2  [Talent, skills, and functional expertise, Pro...\n",
              "3  [Candidates must be experienced in providing a...\n",
              "4  [Two years of professional experience in analy...\n",
              "5  [Bachelor's degree or an equivalent combinatio...\n",
              "6  [Who you are: You likely have a couple of year...\n",
              "7  [The ideal candidate is also comfortable worki...\n",
              "8  [You can tell a story with data, and make it v...\n",
              "9                                                NaN"
            ],
            "text/html": [
              "\n",
              "  <div id=\"df-d364ce64-06a6-4125-b7cb-98c7ef0e5459\">\n",
              "    <div class=\"colab-df-container\">\n",
              "      <div>\n",
              "<style scoped>\n",
              "    .dataframe tbody tr th:only-of-type {\n",
              "        vertical-align: middle;\n",
              "    }\n",
              "\n",
              "    .dataframe tbody tr th {\n",
              "        vertical-align: top;\n",
              "    }\n",
              "\n",
              "    .dataframe thead th {\n",
              "        text-align: right;\n",
              "    }\n",
              "</style>\n",
              "<table border=\"1\" class=\"dataframe\">\n",
              "  <thead>\n",
              "    <tr style=\"text-align: right;\">\n",
              "      <th></th>\n",
              "      <th>items</th>\n",
              "    </tr>\n",
              "  </thead>\n",
              "  <tbody>\n",
              "    <tr>\n",
              "      <th>0</th>\n",
              "      <td>[Bachelor's Degree completed in data science, ...</td>\n",
              "    </tr>\n",
              "    <tr>\n",
              "      <th>1</th>\n",
              "      <td>[Must have a minimum of 2 years banking experi...</td>\n",
              "    </tr>\n",
              "    <tr>\n",
              "      <th>2</th>\n",
              "      <td>[Talent, skills, and functional expertise, Pro...</td>\n",
              "    </tr>\n",
              "    <tr>\n",
              "      <th>3</th>\n",
              "      <td>[Candidates must be experienced in providing a...</td>\n",
              "    </tr>\n",
              "    <tr>\n",
              "      <th>4</th>\n",
              "      <td>[Two years of professional experience in analy...</td>\n",
              "    </tr>\n",
              "    <tr>\n",
              "      <th>5</th>\n",
              "      <td>[Bachelor's degree or an equivalent combinatio...</td>\n",
              "    </tr>\n",
              "    <tr>\n",
              "      <th>6</th>\n",
              "      <td>[Who you are: You likely have a couple of year...</td>\n",
              "    </tr>\n",
              "    <tr>\n",
              "      <th>7</th>\n",
              "      <td>[The ideal candidate is also comfortable worki...</td>\n",
              "    </tr>\n",
              "    <tr>\n",
              "      <th>8</th>\n",
              "      <td>[You can tell a story with data, and make it v...</td>\n",
              "    </tr>\n",
              "    <tr>\n",
              "      <th>9</th>\n",
              "      <td>NaN</td>\n",
              "    </tr>\n",
              "  </tbody>\n",
              "</table>\n",
              "</div>\n",
              "      <button class=\"colab-df-convert\" onclick=\"convertToInteractive('df-d364ce64-06a6-4125-b7cb-98c7ef0e5459')\"\n",
              "              title=\"Convert this dataframe to an interactive table.\"\n",
              "              style=\"display:none;\">\n",
              "        \n",
              "  <svg xmlns=\"http://www.w3.org/2000/svg\" height=\"24px\"viewBox=\"0 0 24 24\"\n",
              "       width=\"24px\">\n",
              "    <path d=\"M0 0h24v24H0V0z\" fill=\"none\"/>\n",
              "    <path d=\"M18.56 5.44l.94 2.06.94-2.06 2.06-.94-2.06-.94-.94-2.06-.94 2.06-2.06.94zm-11 1L8.5 8.5l.94-2.06 2.06-.94-2.06-.94L8.5 2.5l-.94 2.06-2.06.94zm10 10l.94 2.06.94-2.06 2.06-.94-2.06-.94-.94-2.06-.94 2.06-2.06.94z\"/><path d=\"M17.41 7.96l-1.37-1.37c-.4-.4-.92-.59-1.43-.59-.52 0-1.04.2-1.43.59L10.3 9.45l-7.72 7.72c-.78.78-.78 2.05 0 2.83L4 21.41c.39.39.9.59 1.41.59.51 0 1.02-.2 1.41-.59l7.78-7.78 2.81-2.81c.8-.78.8-2.07 0-2.86zM5.41 20L4 18.59l7.72-7.72 1.47 1.35L5.41 20z\"/>\n",
              "  </svg>\n",
              "      </button>\n",
              "      \n",
              "  <style>\n",
              "    .colab-df-container {\n",
              "      display:flex;\n",
              "      flex-wrap:wrap;\n",
              "      gap: 12px;\n",
              "    }\n",
              "\n",
              "    .colab-df-convert {\n",
              "      background-color: #E8F0FE;\n",
              "      border: none;\n",
              "      border-radius: 50%;\n",
              "      cursor: pointer;\n",
              "      display: none;\n",
              "      fill: #1967D2;\n",
              "      height: 32px;\n",
              "      padding: 0 0 0 0;\n",
              "      width: 32px;\n",
              "    }\n",
              "\n",
              "    .colab-df-convert:hover {\n",
              "      background-color: #E2EBFA;\n",
              "      box-shadow: 0px 1px 2px rgba(60, 64, 67, 0.3), 0px 1px 3px 1px rgba(60, 64, 67, 0.15);\n",
              "      fill: #174EA6;\n",
              "    }\n",
              "\n",
              "    [theme=dark] .colab-df-convert {\n",
              "      background-color: #3B4455;\n",
              "      fill: #D2E3FC;\n",
              "    }\n",
              "\n",
              "    [theme=dark] .colab-df-convert:hover {\n",
              "      background-color: #434B5C;\n",
              "      box-shadow: 0px 1px 3px 1px rgba(0, 0, 0, 0.15);\n",
              "      filter: drop-shadow(0px 1px 2px rgba(0, 0, 0, 0.3));\n",
              "      fill: #FFFFFF;\n",
              "    }\n",
              "  </style>\n",
              "\n",
              "      <script>\n",
              "        const buttonEl =\n",
              "          document.querySelector('#df-d364ce64-06a6-4125-b7cb-98c7ef0e5459 button.colab-df-convert');\n",
              "        buttonEl.style.display =\n",
              "          google.colab.kernel.accessAllowed ? 'block' : 'none';\n",
              "\n",
              "        async function convertToInteractive(key) {\n",
              "          const element = document.querySelector('#df-d364ce64-06a6-4125-b7cb-98c7ef0e5459');\n",
              "          const dataTable =\n",
              "            await google.colab.kernel.invokeFunction('convertToInteractive',\n",
              "                                                     [key], {});\n",
              "          if (!dataTable) return;\n",
              "\n",
              "          const docLinkHtml = 'Like what you see? Visit the ' +\n",
              "            '<a target=\"_blank\" href=https://colab.research.google.com/notebooks/data_table.ipynb>data table notebook</a>'\n",
              "            + ' to learn more about interactive tables.';\n",
              "          element.innerHTML = '';\n",
              "          dataTable['output_type'] = 'display_data';\n",
              "          await google.colab.output.renderOutput(dataTable, element);\n",
              "          const docLink = document.createElement('div');\n",
              "          docLink.innerHTML = docLinkHtml;\n",
              "          element.appendChild(docLink);\n",
              "        }\n",
              "      </script>\n",
              "    </div>\n",
              "  </div>\n",
              "  "
            ]
          },
          "metadata": {},
          "execution_count": 91
        }
      ]
    },
    {
      "cell_type": "code",
      "source": [
        "for i in Ujobs[\"items\"]:\n",
        "  print(i)\n"
      ],
      "metadata": {
        "colab": {
          "base_uri": "https://localhost:8080/"
        },
        "id": "9rJNqi1ksFFx",
        "outputId": "fcaa19ef-ba3f-4f18-9058-330dda696f31"
      },
      "execution_count": 93,
      "outputs": [
        {
          "output_type": "stream",
          "name": "stdout",
          "text": [
            "[\"Bachelor's Degree completed in data science, business, or related field\", '2+ years of experience in a consulting environment', 'Microsoft Certifications within the Data Analyst track, Dynamics 365 track, etc', 'MB-910, MB-500, MB-700, DP-900, PL-100', 'Prior experience within the banking or financial services sector']\n",
            "['Must have a minimum of 2 years banking experience, preferably opening or auditing new accounts', 'Ability to work independently and be self-directed while being a strong team player', 'Strong analytical skills with the ability to organize and analyze significant amounts of information with attention to detail and accuracy', 'Strong Excel data analysis skills', 'Working knowledge of MS Word and Outlook', 'Proven high level of accuracy in data entry', 'Excellent written and oral communications skills and the ability to clearly define projects, objectives, goals, schedules and assignments', 'Ability to work effectively with business personnel at all levels', 'Must exercise a reasonable amount of independent judgment under a minimum of supervision', 'Requires strong interpersonal and organizational skills, including the ability to meet deadlines, follow written policies and procedures, and maintain superior customer service at all times with all users']\n",
            "['Talent, skills, and functional expertise', 'Program management', 'Experience in Excel and PowerPoint', 'Experience utilizing business intelligence solutions', 'Basic understanding of HRIS systems', 'To participate in the Biogen Internship Program, students must meet the following eligibility criteria:', 'Legal authorization to work in the U.S', 'At least 18 years of age prior to the scheduled start date', 'Be currently enrolled in an accredited college or university', 'Bachelor’s degree']\n",
            "['Candidates must be experienced in providing analytical thought leadership and telling insight-driven data stories', \"Bachelors' Degree in related field, or equivalent work experience\", 'Expert level ability to identify and troubleshoot critical issues', 'Develops clear and well-structured analytical plans and analyzes large datasets', 'Helps business by interpreting data to assess and compare performance', 'Experience with business-critical applications', 'Experience translating vague requests into concrete deliverables', 'Experience with migrating legacy systems to modern cloud-based analytical solutions', 'Ability to adapt to fast changing environments', 'AWS/Google Cloud platform experience', 'Agile implementation experience', 'Understanding of database (SQL, Stored Proc), data ingestion, data warehouse, ETL etc', 'Experience working with SAP systems', 'Experience with Python and/or R', 'Understanding of Project management lifecycle']\n",
            "['Two years of professional experience in analytical roles', 'Knowledge of Transact-SQL (and SQL Server)', 'Working knowledge of at least one programming language for data analysis, such as R, Python (including NumPy, pandas, and scikit-learn), or Julia', 'Familiarity with statistical methods, including time series forecasting and regression analysis', 'Experience interacting with and manipulating relational datasets', 'Experience leading at least one data-driven project with multiple stakeholders', 'Strong written and verbal communication skills', 'Detail oriented and highly organized', 'Self-starter and a team player', 'Applicants MUST be U.S. citizens and eligible for a security clearance', 'Additionally, applicants must be willing to apply for and maintain a security clearance']\n",
            "[\"Bachelor's degree or an equivalent combination of education and\", 'relevant experience and at least 4 years of experience from which', 'comparable knowledge and skills can be acquired is necessary', 'Working knowledge of assessment principles as they relate to', 'ability and competence without unlawful discrimination on the basis', 'age, disability, protected veteran status, or any other status']\n",
            "['Who you are: You likely have a couple of years of experience and are a fan of data and data analysis tools and continuous improvement', 'You have these skills and certifications as a minimum', 'You might already be on a Six Sigma or Lean certification path', 'Minimum 2+ years of Data Management and Business Analytics Experience, or equivalent demonstrated through one or a combination of the following: work experience, training, military experience, or education', 'Experience working in Operations and/or reporting environment', 'Knowledge and understanding of audit, regulatory compliance, or risk management is a nice to have', 'Experience analyzing and documenting workflow, processes, and procedures', 'Experience working with workflow management tools (Jira, Confluence, Miro)', 'Excellent MS Office skills']\n",
            "['The ideal candidate is also comfortable working in a fast-paced startup environment, solving problems independently, and comfortable with ambiguity as data systems and processes are still being shaped', 'A bachelor’s degree in Mathematics, Computer Science, Statistics, Engineering, or related field', '4+ years of experience as a Data Analyst Experience building dashboards, visualizations, and reports using BI tools (Mode, Tableau, PowerBI, Google Data Studio, Quicksight, etc.)', 'Proficient with SQL', 'Experience with statistical scripting / analysis tools (Python, R. etc.)', 'Strong skills in communication and collaboration with diverse teams', 'Organized and results-driven', 'Comfortable in a fast-paced environment, subject to rapid change and innovation', 'A masters degree in a health-related field (e.g., public health, social work, nutrition)', 'Experience with health data and/or with analysis for research publications', 'Experience with javascript and D3.js', 'Previous experience working in a healthtech startup', 'Familiarity with A/B testing techniques', 'Passion for mental health and eating disorder treatment and expanding access to treatment']\n",
            "['You can tell a story with data, and make it visually appealing to wide audiences', 'You’ve been working with data and analytics for at least 3 years', 'You have experience working with Snowflake, Looker or equivalent visualization tools', 'You can use SQL and have strong analytical experience', 'You are comfortable working in an agile environment, delivering incremental value', 'You can analyze data sets using statistical languages or Python', 'You are a problem-solver and critical thinker', 'Effective communicator, able to clearly and succinctly explain complex topics', 'Natural collaborator, with experience working multi-functionally with partners', 'Your work can be achieved independently, in a remote environment with minimal supervision', 'You love to learn, and are committed to personal development', 'Experience with SaaS businesses, value drivers and common metrics', 'Experience in scripting or statistical languages such as R']\n",
            "nan\n"
          ]
        }
      ]
    },
    {
      "cell_type": "code",
      "source": [],
      "metadata": {
        "id": "WoaYwf3oscmR"
      },
      "execution_count": null,
      "outputs": []
    }
  ]
}