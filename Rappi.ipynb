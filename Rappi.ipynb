{
  "nbformat": 4,
  "nbformat_minor": 0,
  "metadata": {
    "colab": {
      "provenance": [],
      "authorship_tag": "ABX9TyOAGi1asqYhDcSuTbKt1Ux1",
      "include_colab_link": true
    },
    "kernelspec": {
      "name": "python3",
      "display_name": "Python 3"
    },
    "language_info": {
      "name": "python"
    }
  },
  "cells": [
    {
      "cell_type": "markdown",
      "metadata": {
        "id": "view-in-github",
        "colab_type": "text"
      },
      "source": [
        "<a href=\"https://colab.research.google.com/github/danielrodriguez007/Data_Analysis/blob/main/Rappi.ipynb\" target=\"_parent\"><img src=\"https://colab.research.google.com/assets/colab-badge.svg\" alt=\"Open In Colab\"/></a>"
      ]
    },
    {
      "cell_type": "markdown",
      "source": [
        "# Import libraries and dataset"
      ],
      "metadata": {
        "id": "ET2YSp6nYZUe"
      }
    },
    {
      "cell_type": "code",
      "execution_count": 1,
      "metadata": {
        "id": "bZzoHaBtSLao",
        "colab": {
          "base_uri": "https://localhost:8080/"
        },
        "outputId": "85521bfd-2c3d-4c5f-cef5-ede566e2609a"
      },
      "outputs": [
        {
          "output_type": "stream",
          "name": "stdout",
          "text": [
            "Mounted at /content/drive\n"
          ]
        }
      ],
      "source": [
        "from google.colab import drive\n",
        "drive.mount('/content/drive')"
      ]
    },
    {
      "cell_type": "code",
      "source": [
        "import pandas as pd\n",
        "import numpy as np\n",
        "import matplotlib.pyplot as plt\n",
        "import os\n",
        "import seaborn as sns\n",
        "plt.style.use('fivethirtyeight')"
      ],
      "metadata": {
        "id": "Dm0mdbndW9Ox"
      },
      "execution_count": 2,
      "outputs": []
    },
    {
      "cell_type": "code",
      "source": [
        "os.environ['KAGGLE_CONFIG_DIR'] = '/content/drive/MyDrive/Colab Notebooks/Kaggle'"
      ],
      "metadata": {
        "id": "KoO1td82XUXT"
      },
      "execution_count": 3,
      "outputs": []
    },
    {
      "cell_type": "code",
      "source": [
        "!kaggle datasets download -d alexbonella/sales-simulation-at-rappi"
      ],
      "metadata": {
        "colab": {
          "base_uri": "https://localhost:8080/"
        },
        "id": "uJI7SBmPXylK",
        "outputId": "93317123-8a56-4327-fb6e-fd6922493ee5"
      },
      "execution_count": 4,
      "outputs": [
        {
          "output_type": "stream",
          "name": "stdout",
          "text": [
            "Downloading sales-simulation-at-rappi.zip to /content\n",
            "\r  0% 0.00/492k [00:00<?, ?B/s]\n",
            "\r100% 492k/492k [00:00<00:00, 35.9MB/s]\n"
          ]
        }
      ]
    },
    {
      "cell_type": "code",
      "source": [
        "!unzip '/content/sales-simulation-at-rappi.zip' && rm '/content/sales-simulation-at-rappi.zip'"
      ],
      "metadata": {
        "colab": {
          "base_uri": "https://localhost:8080/"
        },
        "id": "gUeaWJmRX2Io",
        "outputId": "8a6b1d63-9a5b-4750-c77a-9bebd7201a54"
      },
      "execution_count": 5,
      "outputs": [
        {
          "output_type": "stream",
          "name": "stdout",
          "text": [
            "Archive:  /content/sales-simulation-at-rappi.zip\n",
            "  inflating: Sales_simulation.csv    \n"
          ]
        }
      ]
    },
    {
      "cell_type": "code",
      "source": [
        "data = pd.read_csv('/content/drive/MyDrive/Colab Notebooks/2023/Sales_simulation.csv')\n",
        "data.tail()"
      ],
      "metadata": {
        "colab": {
          "base_uri": "https://localhost:8080/",
          "height": 206
        },
        "id": "DQPjlcucX-WI",
        "outputId": "230a0555-46bb-4f40-aab4-406845d62be1"
      },
      "execution_count": 6,
      "outputs": [
        {
          "output_type": "execute_result",
          "data": {
            "text/plain": [
              "       Unnamed: 0  purchase_ID             Date at created  \\\n",
              "23225       23225        23226  21-10-2020 16:24:40.930923   \n",
              "23226       23226        23227  21-10-2020 16:24:41.353098   \n",
              "23227       23227        23228  21-10-2020 16:24:41.673074   \n",
              "23228       23228        23229  21-10-2020 16:24:42.096380   \n",
              "23229       23229        23230  21-10-2020 16:24:42.366544   \n",
              "\n",
              "                 Category                   Name  Purchase Price  \\\n",
              "23225  Desayunos · Típica           La Frijolada            8900   \n",
              "23226              Típica          Sopitas y Más           31800   \n",
              "23227  Desayunos · Típica       Calentao Express           23000   \n",
              "23228   Desayunos · Árabe  Boniato Sabores Vivos           37900   \n",
              "23229              Típica           Bandejas Mrg           17800   \n",
              "\n",
              "       Delivery Price  Total  \n",
              "23225            4500  13400  \n",
              "23226            4200  36000  \n",
              "23227            6000  29000  \n",
              "23228            5300  43200  \n",
              "23229            3800  21600  "
            ],
            "text/html": [
              "\n",
              "  <div id=\"df-b7770c0a-9a21-4584-abf4-cbb856612115\">\n",
              "    <div class=\"colab-df-container\">\n",
              "      <div>\n",
              "<style scoped>\n",
              "    .dataframe tbody tr th:only-of-type {\n",
              "        vertical-align: middle;\n",
              "    }\n",
              "\n",
              "    .dataframe tbody tr th {\n",
              "        vertical-align: top;\n",
              "    }\n",
              "\n",
              "    .dataframe thead th {\n",
              "        text-align: right;\n",
              "    }\n",
              "</style>\n",
              "<table border=\"1\" class=\"dataframe\">\n",
              "  <thead>\n",
              "    <tr style=\"text-align: right;\">\n",
              "      <th></th>\n",
              "      <th>Unnamed: 0</th>\n",
              "      <th>purchase_ID</th>\n",
              "      <th>Date at created</th>\n",
              "      <th>Category</th>\n",
              "      <th>Name</th>\n",
              "      <th>Purchase Price</th>\n",
              "      <th>Delivery Price</th>\n",
              "      <th>Total</th>\n",
              "    </tr>\n",
              "  </thead>\n",
              "  <tbody>\n",
              "    <tr>\n",
              "      <th>23225</th>\n",
              "      <td>23225</td>\n",
              "      <td>23226</td>\n",
              "      <td>21-10-2020 16:24:40.930923</td>\n",
              "      <td>Desayunos · Típica</td>\n",
              "      <td>La Frijolada</td>\n",
              "      <td>8900</td>\n",
              "      <td>4500</td>\n",
              "      <td>13400</td>\n",
              "    </tr>\n",
              "    <tr>\n",
              "      <th>23226</th>\n",
              "      <td>23226</td>\n",
              "      <td>23227</td>\n",
              "      <td>21-10-2020 16:24:41.353098</td>\n",
              "      <td>Típica</td>\n",
              "      <td>Sopitas y Más</td>\n",
              "      <td>31800</td>\n",
              "      <td>4200</td>\n",
              "      <td>36000</td>\n",
              "    </tr>\n",
              "    <tr>\n",
              "      <th>23227</th>\n",
              "      <td>23227</td>\n",
              "      <td>23228</td>\n",
              "      <td>21-10-2020 16:24:41.673074</td>\n",
              "      <td>Desayunos · Típica</td>\n",
              "      <td>Calentao Express</td>\n",
              "      <td>23000</td>\n",
              "      <td>6000</td>\n",
              "      <td>29000</td>\n",
              "    </tr>\n",
              "    <tr>\n",
              "      <th>23228</th>\n",
              "      <td>23228</td>\n",
              "      <td>23229</td>\n",
              "      <td>21-10-2020 16:24:42.096380</td>\n",
              "      <td>Desayunos · Árabe</td>\n",
              "      <td>Boniato Sabores Vivos</td>\n",
              "      <td>37900</td>\n",
              "      <td>5300</td>\n",
              "      <td>43200</td>\n",
              "    </tr>\n",
              "    <tr>\n",
              "      <th>23229</th>\n",
              "      <td>23229</td>\n",
              "      <td>23230</td>\n",
              "      <td>21-10-2020 16:24:42.366544</td>\n",
              "      <td>Típica</td>\n",
              "      <td>Bandejas Mrg</td>\n",
              "      <td>17800</td>\n",
              "      <td>3800</td>\n",
              "      <td>21600</td>\n",
              "    </tr>\n",
              "  </tbody>\n",
              "</table>\n",
              "</div>\n",
              "      <button class=\"colab-df-convert\" onclick=\"convertToInteractive('df-b7770c0a-9a21-4584-abf4-cbb856612115')\"\n",
              "              title=\"Convert this dataframe to an interactive table.\"\n",
              "              style=\"display:none;\">\n",
              "        \n",
              "  <svg xmlns=\"http://www.w3.org/2000/svg\" height=\"24px\"viewBox=\"0 0 24 24\"\n",
              "       width=\"24px\">\n",
              "    <path d=\"M0 0h24v24H0V0z\" fill=\"none\"/>\n",
              "    <path d=\"M18.56 5.44l.94 2.06.94-2.06 2.06-.94-2.06-.94-.94-2.06-.94 2.06-2.06.94zm-11 1L8.5 8.5l.94-2.06 2.06-.94-2.06-.94L8.5 2.5l-.94 2.06-2.06.94zm10 10l.94 2.06.94-2.06 2.06-.94-2.06-.94-.94-2.06-.94 2.06-2.06.94z\"/><path d=\"M17.41 7.96l-1.37-1.37c-.4-.4-.92-.59-1.43-.59-.52 0-1.04.2-1.43.59L10.3 9.45l-7.72 7.72c-.78.78-.78 2.05 0 2.83L4 21.41c.39.39.9.59 1.41.59.51 0 1.02-.2 1.41-.59l7.78-7.78 2.81-2.81c.8-.78.8-2.07 0-2.86zM5.41 20L4 18.59l7.72-7.72 1.47 1.35L5.41 20z\"/>\n",
              "  </svg>\n",
              "      </button>\n",
              "      \n",
              "  <style>\n",
              "    .colab-df-container {\n",
              "      display:flex;\n",
              "      flex-wrap:wrap;\n",
              "      gap: 12px;\n",
              "    }\n",
              "\n",
              "    .colab-df-convert {\n",
              "      background-color: #E8F0FE;\n",
              "      border: none;\n",
              "      border-radius: 50%;\n",
              "      cursor: pointer;\n",
              "      display: none;\n",
              "      fill: #1967D2;\n",
              "      height: 32px;\n",
              "      padding: 0 0 0 0;\n",
              "      width: 32px;\n",
              "    }\n",
              "\n",
              "    .colab-df-convert:hover {\n",
              "      background-color: #E2EBFA;\n",
              "      box-shadow: 0px 1px 2px rgba(60, 64, 67, 0.3), 0px 1px 3px 1px rgba(60, 64, 67, 0.15);\n",
              "      fill: #174EA6;\n",
              "    }\n",
              "\n",
              "    [theme=dark] .colab-df-convert {\n",
              "      background-color: #3B4455;\n",
              "      fill: #D2E3FC;\n",
              "    }\n",
              "\n",
              "    [theme=dark] .colab-df-convert:hover {\n",
              "      background-color: #434B5C;\n",
              "      box-shadow: 0px 1px 3px 1px rgba(0, 0, 0, 0.15);\n",
              "      filter: drop-shadow(0px 1px 2px rgba(0, 0, 0, 0.3));\n",
              "      fill: #FFFFFF;\n",
              "    }\n",
              "  </style>\n",
              "\n",
              "      <script>\n",
              "        const buttonEl =\n",
              "          document.querySelector('#df-b7770c0a-9a21-4584-abf4-cbb856612115 button.colab-df-convert');\n",
              "        buttonEl.style.display =\n",
              "          google.colab.kernel.accessAllowed ? 'block' : 'none';\n",
              "\n",
              "        async function convertToInteractive(key) {\n",
              "          const element = document.querySelector('#df-b7770c0a-9a21-4584-abf4-cbb856612115');\n",
              "          const dataTable =\n",
              "            await google.colab.kernel.invokeFunction('convertToInteractive',\n",
              "                                                     [key], {});\n",
              "          if (!dataTable) return;\n",
              "\n",
              "          const docLinkHtml = 'Like what you see? Visit the ' +\n",
              "            '<a target=\"_blank\" href=https://colab.research.google.com/notebooks/data_table.ipynb>data table notebook</a>'\n",
              "            + ' to learn more about interactive tables.';\n",
              "          element.innerHTML = '';\n",
              "          dataTable['output_type'] = 'display_data';\n",
              "          await google.colab.output.renderOutput(dataTable, element);\n",
              "          const docLink = document.createElement('div');\n",
              "          docLink.innerHTML = docLinkHtml;\n",
              "          element.appendChild(docLink);\n",
              "        }\n",
              "      </script>\n",
              "    </div>\n",
              "  </div>\n",
              "  "
            ]
          },
          "metadata": {},
          "execution_count": 6
        }
      ]
    },
    {
      "cell_type": "markdown",
      "source": [
        "#Explore and clean data"
      ],
      "metadata": {
        "id": "c64oHs1yYiX9"
      }
    },
    {
      "cell_type": "code",
      "source": [
        "data.shape"
      ],
      "metadata": {
        "colab": {
          "base_uri": "https://localhost:8080/"
        },
        "id": "spgtYO4BYp7g",
        "outputId": "27bb5578-703a-4beb-b2d9-1ae59ebdbff8"
      },
      "execution_count": 7,
      "outputs": [
        {
          "output_type": "execute_result",
          "data": {
            "text/plain": [
              "(23230, 8)"
            ]
          },
          "metadata": {},
          "execution_count": 7
        }
      ]
    },
    {
      "cell_type": "code",
      "source": [
        "data.isnull().sum()"
      ],
      "metadata": {
        "colab": {
          "base_uri": "https://localhost:8080/"
        },
        "id": "uR326CHAaclD",
        "outputId": "af5871b8-2a6a-4bc3-ae99-4687882f3bf5"
      },
      "execution_count": 8,
      "outputs": [
        {
          "output_type": "execute_result",
          "data": {
            "text/plain": [
              "Unnamed: 0         0\n",
              "purchase_ID        0\n",
              "Date at created    0\n",
              "Category           0\n",
              "Name               0\n",
              "Purchase Price     0\n",
              "Delivery Price     0\n",
              "Total              0\n",
              "dtype: int64"
            ]
          },
          "metadata": {},
          "execution_count": 8
        }
      ]
    },
    {
      "cell_type": "code",
      "source": [
        "data['Date at created'] = pd.to_datetime(data['Date at created'])"
      ],
      "metadata": {
        "id": "734BR9KQazBC"
      },
      "execution_count": 9,
      "outputs": []
    },
    {
      "cell_type": "code",
      "source": [
        "pv = pd.pivot_table(data, index ='Category', values='purchase_ID', aggfunc='count').sort_values('purchase_ID')\n",
        "pv"
      ],
      "metadata": {
        "colab": {
          "base_uri": "https://localhost:8080/",
          "height": 455
        },
        "id": "xyYLY4vNYvzQ",
        "outputId": "f31b3c31-44e9-4072-9172-215528b3af76"
      },
      "execution_count": 10,
      "outputs": [
        {
          "output_type": "execute_result",
          "data": {
            "text/plain": [
              "                                    purchase_ID\n",
              "Category                                       \n",
              "Sushi · Desayunos                            77\n",
              "Alta Cocina · Italiana                       81\n",
              "Hamburguesas · Panadería                     81\n",
              "Perros Calientes                             81\n",
              "Hamburguesas · Pescados y Mariscos           86\n",
              "...                                         ...\n",
              "Desayunos                                  1337\n",
              "Saludable · Desayunos                      1538\n",
              "Desayunos · Típica                         1586\n",
              "Típica                                     1719\n",
              "Postres · Desayunos                        1770\n",
              "\n",
              "[74 rows x 1 columns]"
            ],
            "text/html": [
              "\n",
              "  <div id=\"df-648f85f9-00fb-47c1-9357-4fb2a99c6af9\">\n",
              "    <div class=\"colab-df-container\">\n",
              "      <div>\n",
              "<style scoped>\n",
              "    .dataframe tbody tr th:only-of-type {\n",
              "        vertical-align: middle;\n",
              "    }\n",
              "\n",
              "    .dataframe tbody tr th {\n",
              "        vertical-align: top;\n",
              "    }\n",
              "\n",
              "    .dataframe thead th {\n",
              "        text-align: right;\n",
              "    }\n",
              "</style>\n",
              "<table border=\"1\" class=\"dataframe\">\n",
              "  <thead>\n",
              "    <tr style=\"text-align: right;\">\n",
              "      <th></th>\n",
              "      <th>purchase_ID</th>\n",
              "    </tr>\n",
              "    <tr>\n",
              "      <th>Category</th>\n",
              "      <th></th>\n",
              "    </tr>\n",
              "  </thead>\n",
              "  <tbody>\n",
              "    <tr>\n",
              "      <th>Sushi · Desayunos</th>\n",
              "      <td>77</td>\n",
              "    </tr>\n",
              "    <tr>\n",
              "      <th>Alta Cocina · Italiana</th>\n",
              "      <td>81</td>\n",
              "    </tr>\n",
              "    <tr>\n",
              "      <th>Hamburguesas · Panadería</th>\n",
              "      <td>81</td>\n",
              "    </tr>\n",
              "    <tr>\n",
              "      <th>Perros Calientes</th>\n",
              "      <td>81</td>\n",
              "    </tr>\n",
              "    <tr>\n",
              "      <th>Hamburguesas · Pescados y Mariscos</th>\n",
              "      <td>86</td>\n",
              "    </tr>\n",
              "    <tr>\n",
              "      <th>...</th>\n",
              "      <td>...</td>\n",
              "    </tr>\n",
              "    <tr>\n",
              "      <th>Desayunos</th>\n",
              "      <td>1337</td>\n",
              "    </tr>\n",
              "    <tr>\n",
              "      <th>Saludable · Desayunos</th>\n",
              "      <td>1538</td>\n",
              "    </tr>\n",
              "    <tr>\n",
              "      <th>Desayunos · Típica</th>\n",
              "      <td>1586</td>\n",
              "    </tr>\n",
              "    <tr>\n",
              "      <th>Típica</th>\n",
              "      <td>1719</td>\n",
              "    </tr>\n",
              "    <tr>\n",
              "      <th>Postres · Desayunos</th>\n",
              "      <td>1770</td>\n",
              "    </tr>\n",
              "  </tbody>\n",
              "</table>\n",
              "<p>74 rows × 1 columns</p>\n",
              "</div>\n",
              "      <button class=\"colab-df-convert\" onclick=\"convertToInteractive('df-648f85f9-00fb-47c1-9357-4fb2a99c6af9')\"\n",
              "              title=\"Convert this dataframe to an interactive table.\"\n",
              "              style=\"display:none;\">\n",
              "        \n",
              "  <svg xmlns=\"http://www.w3.org/2000/svg\" height=\"24px\"viewBox=\"0 0 24 24\"\n",
              "       width=\"24px\">\n",
              "    <path d=\"M0 0h24v24H0V0z\" fill=\"none\"/>\n",
              "    <path d=\"M18.56 5.44l.94 2.06.94-2.06 2.06-.94-2.06-.94-.94-2.06-.94 2.06-2.06.94zm-11 1L8.5 8.5l.94-2.06 2.06-.94-2.06-.94L8.5 2.5l-.94 2.06-2.06.94zm10 10l.94 2.06.94-2.06 2.06-.94-2.06-.94-.94-2.06-.94 2.06-2.06.94z\"/><path d=\"M17.41 7.96l-1.37-1.37c-.4-.4-.92-.59-1.43-.59-.52 0-1.04.2-1.43.59L10.3 9.45l-7.72 7.72c-.78.78-.78 2.05 0 2.83L4 21.41c.39.39.9.59 1.41.59.51 0 1.02-.2 1.41-.59l7.78-7.78 2.81-2.81c.8-.78.8-2.07 0-2.86zM5.41 20L4 18.59l7.72-7.72 1.47 1.35L5.41 20z\"/>\n",
              "  </svg>\n",
              "      </button>\n",
              "      \n",
              "  <style>\n",
              "    .colab-df-container {\n",
              "      display:flex;\n",
              "      flex-wrap:wrap;\n",
              "      gap: 12px;\n",
              "    }\n",
              "\n",
              "    .colab-df-convert {\n",
              "      background-color: #E8F0FE;\n",
              "      border: none;\n",
              "      border-radius: 50%;\n",
              "      cursor: pointer;\n",
              "      display: none;\n",
              "      fill: #1967D2;\n",
              "      height: 32px;\n",
              "      padding: 0 0 0 0;\n",
              "      width: 32px;\n",
              "    }\n",
              "\n",
              "    .colab-df-convert:hover {\n",
              "      background-color: #E2EBFA;\n",
              "      box-shadow: 0px 1px 2px rgba(60, 64, 67, 0.3), 0px 1px 3px 1px rgba(60, 64, 67, 0.15);\n",
              "      fill: #174EA6;\n",
              "    }\n",
              "\n",
              "    [theme=dark] .colab-df-convert {\n",
              "      background-color: #3B4455;\n",
              "      fill: #D2E3FC;\n",
              "    }\n",
              "\n",
              "    [theme=dark] .colab-df-convert:hover {\n",
              "      background-color: #434B5C;\n",
              "      box-shadow: 0px 1px 3px 1px rgba(0, 0, 0, 0.15);\n",
              "      filter: drop-shadow(0px 1px 2px rgba(0, 0, 0, 0.3));\n",
              "      fill: #FFFFFF;\n",
              "    }\n",
              "  </style>\n",
              "\n",
              "      <script>\n",
              "        const buttonEl =\n",
              "          document.querySelector('#df-648f85f9-00fb-47c1-9357-4fb2a99c6af9 button.colab-df-convert');\n",
              "        buttonEl.style.display =\n",
              "          google.colab.kernel.accessAllowed ? 'block' : 'none';\n",
              "\n",
              "        async function convertToInteractive(key) {\n",
              "          const element = document.querySelector('#df-648f85f9-00fb-47c1-9357-4fb2a99c6af9');\n",
              "          const dataTable =\n",
              "            await google.colab.kernel.invokeFunction('convertToInteractive',\n",
              "                                                     [key], {});\n",
              "          if (!dataTable) return;\n",
              "\n",
              "          const docLinkHtml = 'Like what you see? Visit the ' +\n",
              "            '<a target=\"_blank\" href=https://colab.research.google.com/notebooks/data_table.ipynb>data table notebook</a>'\n",
              "            + ' to learn more about interactive tables.';\n",
              "          element.innerHTML = '';\n",
              "          dataTable['output_type'] = 'display_data';\n",
              "          await google.colab.output.renderOutput(dataTable, element);\n",
              "          const docLink = document.createElement('div');\n",
              "          docLink.innerHTML = docLinkHtml;\n",
              "          element.appendChild(docLink);\n",
              "        }\n",
              "      </script>\n",
              "    </div>\n",
              "  </div>\n",
              "  "
            ]
          },
          "metadata": {},
          "execution_count": 10
        }
      ]
    },
    {
      "cell_type": "code",
      "source": [
        "data['Hour'] = data['Date at created'].apply(lambda x : x.hour).astype(str)\n",
        "data['Minutes'] = data['Date at created'].apply(lambda x : x.minute).astype(str)\n",
        "data['FinalHour'] = data[['Hour','Minutes']].agg(':'.join, axis=1)"
      ],
      "metadata": {
        "id": "9bz5DExrZqQV"
      },
      "execution_count": 58,
      "outputs": []
    },
    {
      "cell_type": "code",
      "source": [
        "data['FinalHour'] = data['FinalHour'].map({\n",
        "       '14:42':'14:42', '14:43':'14:43', '14:44':'14:44', '14:45':'14:45', '14:46':'14:46', '14:47':'14:47', '14:48':'14:48',\n",
        "       '14:49':'14:49', '14:50':'14:50', '14:51':'14:51', '14:52':'14:52', '14:53':'14:53', '14:54':'14:54', '14:55':'14:55',\n",
        "       '14:56':'14:56', '14:57':'14:57', '14:58':'14:58', '14:59':'14:59', '15:0': '15:00', '15:1': '15:01', '15:2': '15:02', '15:3':'15:03',\n",
        "       '15:4': '15:04', '15:5': '15:05', '15:6': '15:06', '15:7': '15:07', '15:8': '15:08', '15:9': '15:09', '15:10':'15:10', '15:11':'15:11',\n",
        "       '15:12':'15:12', '15:13':'15:13', '15:14':'15:14', '15:15':'15:15', '15:16':'15:16', '15:17':'15:17', '15:18':'15:18',\n",
        "       '15:19':'15:19', '15:20':'15:20', '15:21':'15:21', '15:22':'15:22', '15:23':'15:23', '15:24':'15:24', '15:25':'15:25',\n",
        "       '15:26':'15:26', '15:27':'15:27', '15:28':'15:28', '15:29':'15:29', '15:30':'15:30', '15:31':'15:31', '15:32':'15:32',\n",
        "       '15:33':'15:33', '15:34':'15:34', '15:35':'15:35', '15:36':'15:36', '15:37':'15:37', '15:38':'15:38', '15:39':'15:39',\n",
        "       '15:40':'15:40', '15:41':'15:41', '15:42':'15:42', '15:43':'15:43', '15:44':'15:44', '15:45':'15:45', '15:46':'15:46',\n",
        "       '15:47':'15:47', '15:48':'15:48', '15:49':'15:49', '15:50':'15:50', '15:51':'15:51', '15:52':'15:52', '15:53':'15:53',\n",
        "       '15:54':'15:54', '15:55':'15:55', '15:56':'15:56', '15:57':'15:57', '15:58':'15:58', '15:59':'15:59', '16:0': '16:00',\n",
        "       '16:1': '16:01', '16:2': '16:02', '16:3': '16:03', '16:4': '16:04', '16:5': '16:05', '16:6': '16:06', '16:7': '16:07', '16:8':'16:08',\n",
        "       '16:9': '16:09', '16:10':'16:10', '16:11':'16:11', '16:12':'16:12', '16:13':'16:13', '16:14':'16:14', '16:15':'16:15',\n",
        "       '16:16':'16:16', '16:17':'16:17', '16:18':'16:18', '16:19':'16:19', '16:20':'16:20', '16:21':'16:21', '16:22':'16:22',\n",
        "       '16:23':'16:23', '16:24':'16:24'})"
      ],
      "metadata": {
        "id": "s8bOW1szZqYi"
      },
      "execution_count": 66,
      "outputs": []
    },
    {
      "cell_type": "markdown",
      "source": [
        "# Plot and charts"
      ],
      "metadata": {
        "id": "bqlRsxq6jIxI"
      }
    },
    {
      "cell_type": "code",
      "source": [
        "h = data.groupby(['FinalHour'])['purchase_ID'].count()\n",
        "\n",
        "plt.figure(figsize=(25,8))\n",
        "plt.plot(h.index,h.values)\n",
        "plt.title(\"Orders between 14:00 to 17:00\")\n",
        "plt.xlabel(\"Hours\")\n",
        "plt.ylabel(\"Quantity\")\n",
        "plt.xticks(rotation=70)"
      ],
      "metadata": {
        "colab": {
          "base_uri": "https://localhost:8080/",
          "height": 1000
        },
        "id": "k47wqH4oZqa3",
        "outputId": "158ac4fd-fdef-4563-e197-a0981d31bee8"
      },
      "execution_count": 67,
      "outputs": [
        {
          "output_type": "execute_result",
          "data": {
            "text/plain": [
              "([0,\n",
              "  1,\n",
              "  2,\n",
              "  3,\n",
              "  4,\n",
              "  5,\n",
              "  6,\n",
              "  7,\n",
              "  8,\n",
              "  9,\n",
              "  10,\n",
              "  11,\n",
              "  12,\n",
              "  13,\n",
              "  14,\n",
              "  15,\n",
              "  16,\n",
              "  17,\n",
              "  18,\n",
              "  19,\n",
              "  20,\n",
              "  21,\n",
              "  22,\n",
              "  23,\n",
              "  24,\n",
              "  25,\n",
              "  26,\n",
              "  27,\n",
              "  28,\n",
              "  29,\n",
              "  30,\n",
              "  31,\n",
              "  32,\n",
              "  33,\n",
              "  34,\n",
              "  35,\n",
              "  36,\n",
              "  37,\n",
              "  38,\n",
              "  39,\n",
              "  40,\n",
              "  41,\n",
              "  42,\n",
              "  43,\n",
              "  44,\n",
              "  45,\n",
              "  46,\n",
              "  47,\n",
              "  48,\n",
              "  49,\n",
              "  50,\n",
              "  51,\n",
              "  52,\n",
              "  53,\n",
              "  54,\n",
              "  55,\n",
              "  56,\n",
              "  57,\n",
              "  58,\n",
              "  59,\n",
              "  60,\n",
              "  61,\n",
              "  62,\n",
              "  63,\n",
              "  64,\n",
              "  65,\n",
              "  66,\n",
              "  67,\n",
              "  68,\n",
              "  69,\n",
              "  70,\n",
              "  71,\n",
              "  72,\n",
              "  73,\n",
              "  74,\n",
              "  75,\n",
              "  76,\n",
              "  77,\n",
              "  78,\n",
              "  79,\n",
              "  80,\n",
              "  81,\n",
              "  82,\n",
              "  83,\n",
              "  84,\n",
              "  85,\n",
              "  86,\n",
              "  87,\n",
              "  88,\n",
              "  89,\n",
              "  90,\n",
              "  91,\n",
              "  92,\n",
              "  93,\n",
              "  94,\n",
              "  95,\n",
              "  96,\n",
              "  97,\n",
              "  98,\n",
              "  99,\n",
              "  100,\n",
              "  101,\n",
              "  102],\n",
              " [Text(0, 0, '14:42'),\n",
              "  Text(1, 0, '14:43'),\n",
              "  Text(2, 0, '14:44'),\n",
              "  Text(3, 0, '14:45'),\n",
              "  Text(4, 0, '14:46'),\n",
              "  Text(5, 0, '14:47'),\n",
              "  Text(6, 0, '14:48'),\n",
              "  Text(7, 0, '14:49'),\n",
              "  Text(8, 0, '14:50'),\n",
              "  Text(9, 0, '14:51'),\n",
              "  Text(10, 0, '14:52'),\n",
              "  Text(11, 0, '14:53'),\n",
              "  Text(12, 0, '14:54'),\n",
              "  Text(13, 0, '14:55'),\n",
              "  Text(14, 0, '14:56'),\n",
              "  Text(15, 0, '14:57'),\n",
              "  Text(16, 0, '14:58'),\n",
              "  Text(17, 0, '14:59'),\n",
              "  Text(18, 0, '15:00'),\n",
              "  Text(19, 0, '15:01'),\n",
              "  Text(20, 0, '15:02'),\n",
              "  Text(21, 0, '15:03'),\n",
              "  Text(22, 0, '15:04'),\n",
              "  Text(23, 0, '15:05'),\n",
              "  Text(24, 0, '15:06'),\n",
              "  Text(25, 0, '15:07'),\n",
              "  Text(26, 0, '15:08'),\n",
              "  Text(27, 0, '15:09'),\n",
              "  Text(28, 0, '15:10'),\n",
              "  Text(29, 0, '15:11'),\n",
              "  Text(30, 0, '15:12'),\n",
              "  Text(31, 0, '15:13'),\n",
              "  Text(32, 0, '15:14'),\n",
              "  Text(33, 0, '15:15'),\n",
              "  Text(34, 0, '15:16'),\n",
              "  Text(35, 0, '15:17'),\n",
              "  Text(36, 0, '15:18'),\n",
              "  Text(37, 0, '15:19'),\n",
              "  Text(38, 0, '15:20'),\n",
              "  Text(39, 0, '15:21'),\n",
              "  Text(40, 0, '15:22'),\n",
              "  Text(41, 0, '15:23'),\n",
              "  Text(42, 0, '15:24'),\n",
              "  Text(43, 0, '15:25'),\n",
              "  Text(44, 0, '15:26'),\n",
              "  Text(45, 0, '15:27'),\n",
              "  Text(46, 0, '15:28'),\n",
              "  Text(47, 0, '15:29'),\n",
              "  Text(48, 0, '15:30'),\n",
              "  Text(49, 0, '15:31'),\n",
              "  Text(50, 0, '15:32'),\n",
              "  Text(51, 0, '15:33'),\n",
              "  Text(52, 0, '15:34'),\n",
              "  Text(53, 0, '15:35'),\n",
              "  Text(54, 0, '15:36'),\n",
              "  Text(55, 0, '15:37'),\n",
              "  Text(56, 0, '15:38'),\n",
              "  Text(57, 0, '15:39'),\n",
              "  Text(58, 0, '15:40'),\n",
              "  Text(59, 0, '15:41'),\n",
              "  Text(60, 0, '15:42'),\n",
              "  Text(61, 0, '15:43'),\n",
              "  Text(62, 0, '15:44'),\n",
              "  Text(63, 0, '15:45'),\n",
              "  Text(64, 0, '15:46'),\n",
              "  Text(65, 0, '15:47'),\n",
              "  Text(66, 0, '15:48'),\n",
              "  Text(67, 0, '15:49'),\n",
              "  Text(68, 0, '15:50'),\n",
              "  Text(69, 0, '15:51'),\n",
              "  Text(70, 0, '15:52'),\n",
              "  Text(71, 0, '15:53'),\n",
              "  Text(72, 0, '15:54'),\n",
              "  Text(73, 0, '15:55'),\n",
              "  Text(74, 0, '15:56'),\n",
              "  Text(75, 0, '15:57'),\n",
              "  Text(76, 0, '15:58'),\n",
              "  Text(77, 0, '15:59'),\n",
              "  Text(78, 0, '16:00'),\n",
              "  Text(79, 0, '16:01'),\n",
              "  Text(80, 0, '16:02'),\n",
              "  Text(81, 0, '16:03'),\n",
              "  Text(82, 0, '16:04'),\n",
              "  Text(83, 0, '16:05'),\n",
              "  Text(84, 0, '16:06'),\n",
              "  Text(85, 0, '16:07'),\n",
              "  Text(86, 0, '16:08'),\n",
              "  Text(87, 0, '16:09'),\n",
              "  Text(88, 0, '16:10'),\n",
              "  Text(89, 0, '16:11'),\n",
              "  Text(90, 0, '16:12'),\n",
              "  Text(91, 0, '16:13'),\n",
              "  Text(92, 0, '16:14'),\n",
              "  Text(93, 0, '16:15'),\n",
              "  Text(94, 0, '16:16'),\n",
              "  Text(95, 0, '16:17'),\n",
              "  Text(96, 0, '16:18'),\n",
              "  Text(97, 0, '16:19'),\n",
              "  Text(98, 0, '16:20'),\n",
              "  Text(99, 0, '16:21'),\n",
              "  Text(100, 0, '16:22'),\n",
              "  Text(101, 0, '16:23'),\n",
              "  Text(102, 0, '16:24')])"
            ]
          },
          "metadata": {},
          "execution_count": 67
        },
        {
          "output_type": "display_data",
          "data": {
            "text/plain": [
              "<Figure size 2500x800 with 1 Axes>"
            ],
            "image/png": "[encoded data removed]"
          },
          "metadata": {}
        }
      ]
    },
    {
      "cell_type": "code",
      "source": [],
      "metadata": {
        "id": "JsKqqbykZqdk"
      },
      "execution_count": null,
      "outputs": []
    },
    {
      "cell_type": "code",
      "source": [],
      "metadata": {
        "id": "iS2_yM1kb8F1"
      },
      "execution_count": null,
      "outputs": []
    },
    {
      "cell_type": "code",
      "source": [
        "data.info()"
      ],
      "metadata": {
        "colab": {
          "base_uri": "https://localhost:8080/"
        },
        "id": "8-z9AWV-YWIp",
        "outputId": "e1d780a9-5d11-44c3-f19c-46c29867f1ae"
      },
      "execution_count": 23,
      "outputs": [
        {
          "output_type": "stream",
          "name": "stdout",
          "text": [
            "<class 'pandas.core.frame.DataFrame'>\n",
            "RangeIndex: 23230 entries, 0 to 23229\n",
            "Data columns (total 9 columns):\n",
            " #   Column           Non-Null Count  Dtype         \n",
            "---  ------           --------------  -----         \n",
            " 0   Unnamed: 0       23230 non-null  int64         \n",
            " 1   purchase_ID      23230 non-null  int64         \n",
            " 2   Date at created  23230 non-null  datetime64[ns]\n",
            " 3   Category         23230 non-null  object        \n",
            " 4   Name             23230 non-null  object        \n",
            " 5   Purchase Price   23230 non-null  int64         \n",
            " 6   Delivery Price   23230 non-null  int64         \n",
            " 7   Total            23230 non-null  int64         \n",
            " 8   Hour             23230 non-null  object        \n",
            "dtypes: datetime64[ns](1), int64(5), object(3)\n",
            "memory usage: 1.6+ MB\n"
          ]
        }
      ]
    },
    {
      "cell_type": "code",
      "source": [],
      "metadata": {
        "id": "R9Woga3kZoEx"
      },
      "execution_count": null,
      "outputs": []
    }
  ]
}