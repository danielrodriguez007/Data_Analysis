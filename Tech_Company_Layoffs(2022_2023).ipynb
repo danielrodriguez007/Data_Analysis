{
  "nbformat": 4,
  "nbformat_minor": 0,
  "metadata": {
    "colab": {
      "provenance": [],
      "authorship_tag": "ABX9TyNR7YfCTHBNzRnrBemA89Ra",
      "include_colab_link": true
    },
    "kernelspec": {
      "name": "python3",
      "display_name": "Python 3"
    },
    "language_info": {
      "name": "python"
    }
  },
  "cells": [
    {
      "cell_type": "markdown",
      "metadata": {
        "id": "view-in-github",
        "colab_type": "text"
      },
      "source": [
        "<a href=\"https://colab.research.google.com/github/danielrodriguez007/Data_Analysis/blob/main/Tech_Company_Layoffs(2022_2023).ipynb\" target=\"_parent\"><img src=\"https://colab.research.google.com/assets/colab-badge.svg\" alt=\"Open In Colab\"/></a>"
      ]
    },
    {
      "cell_type": "code",
      "execution_count": 2,
      "metadata": {
        "colab": {
          "base_uri": "https://localhost:8080/"
        },
        "id": "CrJNGLcaXrFV",
        "outputId": "4f557a76-2883-4bc8-91e2-f9eb475298e3"
      },
      "outputs": [
        {
          "output_type": "stream",
          "name": "stdout",
          "text": [
            "Mounted at /content/drive\n"
          ]
        }
      ],
      "source": [
        "from google.colab import drive\n",
        "drive.mount('/content/drive')"
      ]
    },
    {
      "cell_type": "code",
      "source": [
        "import os\n",
        "os.environ['KAGGLE_CONFIG_DIR'] = '/content/drive/MyDrive/Colab Notebooks/Kaggle'"
      ],
      "metadata": {
        "id": "fyjFYI6fYCcJ"
      },
      "execution_count": 4,
      "outputs": []
    },
    {
      "cell_type": "code",
      "source": [
        "!kaggle datasets download -d salimwid/technology-company-layoffs-20222023-data"
      ],
      "metadata": {
        "colab": {
          "base_uri": "https://localhost:8080/"
        },
        "id": "Yl1OtMwtYj77",
        "outputId": "10966808-5545-4636-97aa-76f5d1b4c570"
      },
      "execution_count": 16,
      "outputs": [
        {
          "output_type": "stream",
          "name": "stdout",
          "text": [
            "Downloading technology-company-layoffs-20222023-data.zip to /content\n",
            "\r  0% 0.00/12.9k [00:00<?, ?B/s]\n",
            "\r100% 12.9k/12.9k [00:00<00:00, 11.7MB/s]\n"
          ]
        }
      ]
    },
    {
      "cell_type": "code",
      "source": [
        "!unzip '/content/technology-company-layoffs-20222023-data.zip' && rm '/content/technology-company-layoffs-20222023-data.zip'"
      ],
      "metadata": {
        "colab": {
          "base_uri": "https://localhost:8080/"
        },
        "id": "foMjiP2ya0Es",
        "outputId": "56730f2d-f19b-447a-ca41-dc8be4577873"
      },
      "execution_count": 17,
      "outputs": [
        {
          "output_type": "stream",
          "name": "stdout",
          "text": [
            "Archive:  /content/technology-company-layoffs-20222023-data.zip\n",
            "  inflating: tech_layoffs.csv        \n"
          ]
        }
      ]
    },
    {
      "cell_type": "code",
      "source": [
        "import pandas as pd\n",
        "import numpy as np\n",
        "import plotly.express  as px"
      ],
      "metadata": {
        "id": "iAx_8SYgZXyT"
      },
      "execution_count": 6,
      "outputs": []
    },
    {
      "cell_type": "code",
      "source": [
        "data = pd.read_csv('/content/drive/MyDrive/Colab Notebooks/2023/tech_layoffs.csv')\n",
        "data.head(5)"
      ],
      "metadata": {
        "colab": {
          "base_uri": "https://localhost:8080/",
          "height": 320
        },
        "id": "OlpOsvmoZ0Xs",
        "outputId": "b30062d2-52db-4341-847d-559502e456b6"
      },
      "execution_count": 65,
      "outputs": [
        {
          "output_type": "execute_result",
          "data": {
            "text/plain": [
              "          company total_layoffs impacted_workforce_percentage reported_date  \\\n",
              "0            C2FO            20                             2     12/9/2022   \n",
              "1        VideoAmp       Unclear                             2     9/19/2022   \n",
              "2        Amperity            13                             3     8/20/2022   \n",
              "3         Addepar            20                             3     1/18/2023   \n",
              "4  Thirty Madison            24                             3     5/13/2022   \n",
              "\n",
              "                  industry headquarter_location                       sources  \\\n",
              "0        Fintech, payments          Leawood, KS  Kansas City Business Journal   \n",
              "1    Advertising platforms          Los Angeles                  Company memo   \n",
              "2          Saas, analytics              Seattle                      Geekwire   \n",
              "3  fintech, data analytics    Mountain View, CA                       Fortune   \n",
              "4              Health Care             New York                         Axios   \n",
              "\n",
              "    status                                   additional_notes  \n",
              "0  Private                                                NaN  \n",
              "1  Private                                                NaN  \n",
              "2  Private                                                NaN  \n",
              "3  Private                                                NaN  \n",
              "4  Private  Per Axios, 22 of the employees laid off were f...  "
            ],
            "text/html": [
              "\n",
              "  <div id=\"df-dda79a96-1f3d-47cc-a97c-cc4baf05f681\">\n",
              "    <div class=\"colab-df-container\">\n",
              "      <div>\n",
              "<style scoped>\n",
              "    .dataframe tbody tr th:only-of-type {\n",
              "        vertical-align: middle;\n",
              "    }\n",
              "\n",
              "    .dataframe tbody tr th {\n",
              "        vertical-align: top;\n",
              "    }\n",
              "\n",
              "    .dataframe thead th {\n",
              "        text-align: right;\n",
              "    }\n",
              "</style>\n",
              "<table border=\"1\" class=\"dataframe\">\n",
              "  <thead>\n",
              "    <tr style=\"text-align: right;\">\n",
              "      <th></th>\n",
              "      <th>company</th>\n",
              "      <th>total_layoffs</th>\n",
              "      <th>impacted_workforce_percentage</th>\n",
              "      <th>reported_date</th>\n",
              "      <th>industry</th>\n",
              "      <th>headquarter_location</th>\n",
              "      <th>sources</th>\n",
              "      <th>status</th>\n",
              "      <th>additional_notes</th>\n",
              "    </tr>\n",
              "  </thead>\n",
              "  <tbody>\n",
              "    <tr>\n",
              "      <th>0</th>\n",
              "      <td>C2FO</td>\n",
              "      <td>20</td>\n",
              "      <td>2</td>\n",
              "      <td>12/9/2022</td>\n",
              "      <td>Fintech, payments</td>\n",
              "      <td>Leawood, KS</td>\n",
              "      <td>Kansas City Business Journal</td>\n",
              "      <td>Private</td>\n",
              "      <td>NaN</td>\n",
              "    </tr>\n",
              "    <tr>\n",
              "      <th>1</th>\n",
              "      <td>VideoAmp</td>\n",
              "      <td>Unclear</td>\n",
              "      <td>2</td>\n",
              "      <td>9/19/2022</td>\n",
              "      <td>Advertising platforms</td>\n",
              "      <td>Los Angeles</td>\n",
              "      <td>Company memo</td>\n",
              "      <td>Private</td>\n",
              "      <td>NaN</td>\n",
              "    </tr>\n",
              "    <tr>\n",
              "      <th>2</th>\n",
              "      <td>Amperity</td>\n",
              "      <td>13</td>\n",
              "      <td>3</td>\n",
              "      <td>8/20/2022</td>\n",
              "      <td>Saas, analytics</td>\n",
              "      <td>Seattle</td>\n",
              "      <td>Geekwire</td>\n",
              "      <td>Private</td>\n",
              "      <td>NaN</td>\n",
              "    </tr>\n",
              "    <tr>\n",
              "      <th>3</th>\n",
              "      <td>Addepar</td>\n",
              "      <td>20</td>\n",
              "      <td>3</td>\n",
              "      <td>1/18/2023</td>\n",
              "      <td>fintech, data analytics</td>\n",
              "      <td>Mountain View, CA</td>\n",
              "      <td>Fortune</td>\n",
              "      <td>Private</td>\n",
              "      <td>NaN</td>\n",
              "    </tr>\n",
              "    <tr>\n",
              "      <th>4</th>\n",
              "      <td>Thirty Madison</td>\n",
              "      <td>24</td>\n",
              "      <td>3</td>\n",
              "      <td>5/13/2022</td>\n",
              "      <td>Health Care</td>\n",
              "      <td>New York</td>\n",
              "      <td>Axios</td>\n",
              "      <td>Private</td>\n",
              "      <td>Per Axios, 22 of the employees laid off were f...</td>\n",
              "    </tr>\n",
              "  </tbody>\n",
              "</table>\n",
              "</div>\n",
              "      <button class=\"colab-df-convert\" onclick=\"convertToInteractive('df-dda79a96-1f3d-47cc-a97c-cc4baf05f681')\"\n",
              "              title=\"Convert this dataframe to an interactive table.\"\n",
              "              style=\"display:none;\">\n",
              "        \n",
              "  <svg xmlns=\"http://www.w3.org/2000/svg\" height=\"24px\"viewBox=\"0 0 24 24\"\n",
              "       width=\"24px\">\n",
              "    <path d=\"M0 0h24v24H0V0z\" fill=\"none\"/>\n",
              "    <path d=\"M18.56 5.44l.94 2.06.94-2.06 2.06-.94-2.06-.94-.94-2.06-.94 2.06-2.06.94zm-11 1L8.5 8.5l.94-2.06 2.06-.94-2.06-.94L8.5 2.5l-.94 2.06-2.06.94zm10 10l.94 2.06.94-2.06 2.06-.94-2.06-.94-.94-2.06-.94 2.06-2.06.94z\"/><path d=\"M17.41 7.96l-1.37-1.37c-.4-.4-.92-.59-1.43-.59-.52 0-1.04.2-1.43.59L10.3 9.45l-7.72 7.72c-.78.78-.78 2.05 0 2.83L4 21.41c.39.39.9.59 1.41.59.51 0 1.02-.2 1.41-.59l7.78-7.78 2.81-2.81c.8-.78.8-2.07 0-2.86zM5.41 20L4 18.59l7.72-7.72 1.47 1.35L5.41 20z\"/>\n",
              "  </svg>\n",
              "      </button>\n",
              "      \n",
              "  <style>\n",
              "    .colab-df-container {\n",
              "      display:flex;\n",
              "      flex-wrap:wrap;\n",
              "      gap: 12px;\n",
              "    }\n",
              "\n",
              "    .colab-df-convert {\n",
              "      background-color: #E8F0FE;\n",
              "      border: none;\n",
              "      border-radius: 50%;\n",
              "      cursor: pointer;\n",
              "      display: none;\n",
              "      fill: #1967D2;\n",
              "      height: 32px;\n",
              "      padding: 0 0 0 0;\n",
              "      width: 32px;\n",
              "    }\n",
              "\n",
              "    .colab-df-convert:hover {\n",
              "      background-color: #E2EBFA;\n",
              "      box-shadow: 0px 1px 2px rgba(60, 64, 67, 0.3), 0px 1px 3px 1px rgba(60, 64, 67, 0.15);\n",
              "      fill: #174EA6;\n",
              "    }\n",
              "\n",
              "    [theme=dark] .colab-df-convert {\n",
              "      background-color: #3B4455;\n",
              "      fill: #D2E3FC;\n",
              "    }\n",
              "\n",
              "    [theme=dark] .colab-df-convert:hover {\n",
              "      background-color: #434B5C;\n",
              "      box-shadow: 0px 1px 3px 1px rgba(0, 0, 0, 0.15);\n",
              "      filter: drop-shadow(0px 1px 2px rgba(0, 0, 0, 0.3));\n",
              "      fill: #FFFFFF;\n",
              "    }\n",
              "  </style>\n",
              "\n",
              "      <script>\n",
              "        const buttonEl =\n",
              "          document.querySelector('#df-dda79a96-1f3d-47cc-a97c-cc4baf05f681 button.colab-df-convert');\n",
              "        buttonEl.style.display =\n",
              "          google.colab.kernel.accessAllowed ? 'block' : 'none';\n",
              "\n",
              "        async function convertToInteractive(key) {\n",
              "          const element = document.querySelector('#df-dda79a96-1f3d-47cc-a97c-cc4baf05f681');\n",
              "          const dataTable =\n",
              "            await google.colab.kernel.invokeFunction('convertToInteractive',\n",
              "                                                     [key], {});\n",
              "          if (!dataTable) return;\n",
              "\n",
              "          const docLinkHtml = 'Like what you see? Visit the ' +\n",
              "            '<a target=\"_blank\" href=https://colab.research.google.com/notebooks/data_table.ipynb>data table notebook</a>'\n",
              "            + ' to learn more about interactive tables.';\n",
              "          element.innerHTML = '';\n",
              "          dataTable['output_type'] = 'display_data';\n",
              "          await google.colab.output.renderOutput(dataTable, element);\n",
              "          const docLink = document.createElement('div');\n",
              "          docLink.innerHTML = docLinkHtml;\n",
              "          element.appendChild(docLink);\n",
              "        }\n",
              "      </script>\n",
              "    </div>\n",
              "  </div>\n",
              "  "
            ]
          },
          "metadata": {},
          "execution_count": 65
        }
      ]
    },
    {
      "cell_type": "code",
      "source": [
        "data.shape"
      ],
      "metadata": {
        "colab": {
          "base_uri": "https://localhost:8080/"
        },
        "id": "aCWoW3YQc1As",
        "outputId": "87420568-2737-40c6-c2a1-43fb67bad3c8"
      },
      "execution_count": 66,
      "outputs": [
        {
          "output_type": "execute_result",
          "data": {
            "text/plain": [
              "(489, 9)"
            ]
          },
          "metadata": {},
          "execution_count": 66
        }
      ]
    },
    {
      "cell_type": "code",
      "source": [
        "data.info()"
      ],
      "metadata": {
        "colab": {
          "base_uri": "https://localhost:8080/"
        },
        "id": "B2KxZXfnc3RU",
        "outputId": "08bdbe8d-02cb-4526-d851-e0090c9c4c2b"
      },
      "execution_count": 67,
      "outputs": [
        {
          "output_type": "stream",
          "name": "stdout",
          "text": [
            "<class 'pandas.core.frame.DataFrame'>\n",
            "RangeIndex: 489 entries, 0 to 488\n",
            "Data columns (total 9 columns):\n",
            " #   Column                         Non-Null Count  Dtype \n",
            "---  ------                         --------------  ----- \n",
            " 0   company                        489 non-null    object\n",
            " 1   total_layoffs                  489 non-null    object\n",
            " 2   impacted_workforce_percentage  489 non-null    object\n",
            " 3   reported_date                  489 non-null    object\n",
            " 4   industry                       489 non-null    object\n",
            " 5   headquarter_location           489 non-null    object\n",
            " 6   sources                        489 non-null    object\n",
            " 7   status                         489 non-null    object\n",
            " 8   additional_notes               22 non-null     object\n",
            "dtypes: object(9)\n",
            "memory usage: 34.5+ KB\n"
          ]
        }
      ]
    },
    {
      "cell_type": "code",
      "source": [
        "data.isnull().sum()"
      ],
      "metadata": {
        "colab": {
          "base_uri": "https://localhost:8080/"
        },
        "id": "A1_4h1ysdCoL",
        "outputId": "af564abc-a018-47e5-b512-8b115f9c6e10"
      },
      "execution_count": 68,
      "outputs": [
        {
          "output_type": "execute_result",
          "data": {
            "text/plain": [
              "company                            0\n",
              "total_layoffs                      0\n",
              "impacted_workforce_percentage      0\n",
              "reported_date                      0\n",
              "industry                           0\n",
              "headquarter_location               0\n",
              "sources                            0\n",
              "status                             0\n",
              "additional_notes                 467\n",
              "dtype: int64"
            ]
          },
          "metadata": {},
          "execution_count": 68
        }
      ]
    },
    {
      "cell_type": "code",
      "source": [
        "data.drop(data[data['total_layoffs'] == 'Unclear'].index, inplace=True)\n",
        "data.drop(data[data['impacted_workforce_percentage'] == 'Unclear'].index, inplace=True)"
      ],
      "metadata": {
        "id": "lIlMKpUJi84x"
      },
      "execution_count": 70,
      "outputs": []
    },
    {
      "cell_type": "code",
      "source": [
        "data['total_layoffs'] = pd.to_numeric(data['total_layoffs'])\n",
        "data['impacted_workforce_percentage'] = pd.to_numeric(data['impacted_workforce_percentage'])\n",
        "data['reported_date'] = pd.to_datetime(data['reported_date'],format='%m/%d/%Y')"
      ],
      "metadata": {
        "id": "9jLYTMpGe4e2"
      },
      "execution_count": 72,
      "outputs": []
    },
    {
      "cell_type": "code",
      "source": [
        "data.info()"
      ],
      "metadata": {
        "colab": {
          "base_uri": "https://localhost:8080/"
        },
        "id": "3N3UriNShuWB",
        "outputId": "ee86f7ec-6267-425e-b159-e5ba7b603f95"
      },
      "execution_count": 73,
      "outputs": [
        {
          "output_type": "stream",
          "name": "stdout",
          "text": [
            "<class 'pandas.core.frame.DataFrame'>\n",
            "Int64Index: 240 entries, 0 to 463\n",
            "Data columns (total 9 columns):\n",
            " #   Column                         Non-Null Count  Dtype         \n",
            "---  ------                         --------------  -----         \n",
            " 0   company                        240 non-null    object        \n",
            " 1   total_layoffs                  240 non-null    int64         \n",
            " 2   impacted_workforce_percentage  240 non-null    int64         \n",
            " 3   reported_date                  240 non-null    datetime64[ns]\n",
            " 4   industry                       240 non-null    object        \n",
            " 5   headquarter_location           240 non-null    object        \n",
            " 6   sources                        240 non-null    object        \n",
            " 7   status                         240 non-null    object        \n",
            " 8   additional_notes               8 non-null      object        \n",
            "dtypes: datetime64[ns](1), int64(2), object(6)\n",
            "memory usage: 18.8+ KB\n"
          ]
        }
      ]
    },
    {
      "cell_type": "code",
      "source": [
        "fig = px.bar(data,x='total_layoffs', y ='company', title='Quantity of Layoffs by company', height=800)\n",
        "fig.update_layout(yaxis={'categoryorder':'total ascending'})\n",
        "fig.show()"
      ],
      "metadata": {
        "colab": {
          "base_uri": "https://localhost:8080/",
          "height": 817
        },
        "id": "Zr-u0hL-q3mr",
        "outputId": "34e2629a-a98b-4527-97ae-b232796f4f77"
      },
      "execution_count": 93,
      "outputs": [
        {
          "output_type": "display_data",
          "data": {
            "text/html": [
              "<html>\n",
              "<head><meta charset=\"utf-8\" /></head>\n",
              "<body>\n",
              "    <div>            <script src=\"https://cdnjs.cloudflare.com/ajax/libs/mathjax/2.7.5/MathJax.js?config=TeX-AMS-MML_SVG\"></script><script type=\"text/javascript\">if (window.MathJax) {MathJax.Hub.Config({SVG: {font: \"STIX-Web\"}});}</script>                <script type=\"text/javascript\">window.PlotlyConfig = {MathJaxConfig: 'local'};</script>\n",
              "        <script src=\"https://cdn.plot.ly/plotly-2.8.3.min.js\"></script>                <div id=\"3ae0c076-f60f-4b31-874a-d4fa9567f506\" class=\"plotly-graph-div\" style=\"height:800px; width:100%;\"></div>            <script type=\"text/javascript\">                                    window.PLOTLYENV=window.PLOTLYENV || {};                                    if (document.getElementById(\"3ae0c076-f60f-4b31-874a-d4fa9567f506\")) {                    Plotly.newPlot(                        \"3ae0c076-f60f-4b31-874a-d4fa9567f506\",                        [{\"alignmentgroup\":\"True\",\"hovertemplate\":\"total_layoffs=%{x}<br>company=%{y}<extra></extra>\",\"legendgroup\":\"\",\"marker\":{\"color\":\"#636efa\",\"pattern\":{\"shape\":\"\"}},\"name\":\"\",\"offsetgroup\":\"\",\"orientation\":\"h\",\"showlegend\":false,\"textposition\":\"auto\",\"x\":[20,13,20,24,25,26,50,11,110,12,15,150,220,50,63,750,100,20,237,58,130,20,35,60,68,84,90,120,120,20,30,30,32,56,59,85,90,100,169,70,70,78,120,140,142,150,150,21,30,65,78,80,200,100,123,136,90,750,100,156,30,40,40,94,10,124,24,50,55,7,100,125,13,16,250,30,45,47,5,54,20,450,200,150,170,30,80,84,27,30,30,104,43,80,120,130,150,150,156,200,25,254,260,30,30,40,57,640,67,76,90,104,24,32,23,59,23,76,57,100,150,16,170,25,25,32,37,72,74,950,27,30,378,43,100,100,100,1100,32,60,162,173,250,33,40,40,44,50,50,80,158,262,70,120,59,150,64,20,5000,111,170,50,88,220,60,76,1000,101,140,400,60,85,100,90,32,38,43,700,270,110,18000,300,350,4100,60,95,100,588,1250,30,300,55,840,100,155,200,450,509,180,25,100,1000,120,140,200,70,70,99,75,800,180,300,11000,120,225,95,500,760,140,400,550,1332,1280,400,60,800,56,138,350,83,400,46,1013,250,647,115,750,467,2110,3740],\"xaxis\":\"x\",\"y\":[\"C2FO\",\"Amperity\",\"Addepar\",\"Thirty Madison\",\"Armis Security\",\"Foxtrot\",\"Headspace Health\",\"RealSelf\",\"New Relic\",\"Abra\",\"Clarify Health\",\"Argo AI\",\"Snyk\",\"JOKR\",\"Project44\",\"Reef\",\"CoinDCX\",\"Food52\",\"Motive\",\"Canoo\",\"Wonder\",\"Argyle\",\"Kabam\",\"Upstart\",\"Gemini\",\"Faire\",\"Convoy\",\"Innovaccer\",\"StockX\",\"Albert\",\"Personetics\",\"Bright Machines\",\"Stash Financial\",\"Dutchie\",\"Stord\",\"Niantic\",\"Picsart\",\"Remote\",\"Vox Media\",\"Yotpo\",\"Aura\",\"Komodo Health\",\"Khoros\",\"Bonterra\",\"Chargebee\",\"6sense\",\"Relativity\",\"TIFIN\",\"Lusha\",\"Aqua Security\",\"Spin\",\"Verbit\",\"Carta\",\"ConsenSys\",\"Tipalti\",\"Brex\",\"Salsify\",\"Klarna\",\"JumpCloud\",\"Chime\",\"Embroker\",\"Divvy Homes\",\"Ethos Life\",\"GoFundMe\",\"Digital Currency Group\",\"Intercom\",\"SundaySky\",\"Chipper Cash\",\"Udacity\",\"Sourcepoint\",\"Sendoso\",\"Malwarebytes\",\"Substack\",\"Nayya\",\"Verily\",\"CyCognito\",\"Zumper\",\"Polly\",\"Woven\",\"The Mom Project\",\"Stream\",\"Carbon Health\",\"Jam City\",\"Next Insurance\",\"OwnBackup\",\"Everlane\",\"Patreon\",\"Recharge\",\"Lithic\",\"SQream Technologies\",\"Emotive\",\"Socure\",\"Postscript\",\"Qumolo\",\"Homeward\",\"Turntide\",\"Flyhomes\",\"Curology\",\"MasterClass\",\"Lacework\",\"Equitybee\",\"Airtable\",\"Plaid\",\"Nate\",\"Coterie Insurance\",\"Intrinsic\",\"Rhino\",\"Flexport\",\"Redesign Health\",\"Astronomer\",\"Calm\",\"Greenlight\",\"Flipboard\",\"Advata\",\"Superhuman\",\"Exodus\",\"Tonkean\",\"Lokalise\",\"Loom\",\"Hyperscience\",\"Celsius\",\"Baton\",\"Policygenius\",\"IRL\",\"Vise\",\"Section4\",\"Capitolis\",\"On Deck\",\"Outschool\",\"OneTrust\",\"SafeGraph\",\"EquityZen\",\"Clear Capital\",\"Shelf Engine\",\"Veev\",\"Pacaso\",\"Snappy\",\"Kraken\",\"AtoB\",\"Genesis\",\"Homie\",\"Socure\",\"Bolt\",\"Candy Digital\",\"Ideoclick\",\"Brave Care\",\"Tomo\",\"MainStreet\",\"Replicated\",\"Hologram\",\"Happy Money\",\"Tonal\",\"Hydrow\",\"Fabric\",\"Rasa\",\"Fundbox\",\"Zeus Living\",\"Ocavu\",\"Better.com\",\"Virgin Hyperloop\",\"Notarize\",\"Iron Ox\",\"BloomTech\",\"Bizzabo\",\"Parler\",\"Uniphore\",\"Butler Hospitality\",\"SummerBio\",\"Reali\",\"Fast\",\"Protocol Media\",\"WanderJaunt\",\"F5\",\"Freshworks\",\"Coursera\",\"Outbrain\",\"WalkMe\",\"Amdocs\",\"Nutanix\",\"Varonis Systems\",\"Amazon\",\"Zillow\",\"Zendesk\",\"Cisco\",\"TechTarget\",\"BlackLine\",\"Taboola\",\"Spotify\",\"DoorDash\",\"Latch\",\"Teladoc Health\",\"Definitive Healthcare\",\"Rivian\",\"nCino\",\"8x8\",\"Roku\",\"Informatica\",\"Unity\",\"Asana\",\"Pear Therapeutics\",\"ForeScout Technologies\",\"Shopify\",\"Similarweb\",\"iRobot\",\"Blend\",\"Skillz\",\"Beachbody\",\"Zulily\",\"Kaltura\",\"Twilio\",\"BuzzFeed\",\"AppLovin\",\"Meta\",\"Integral Ad Science\",\"Lending Club\",\"Edgio\",\"Groupon\",\"Lyft\",\"GoodRx\",\"Enjoy\",\"Opendoor\",\"Redfin\",\"Snap\",\"Pluralsight\",\"Metromile\",\"GoHealth\",\"Leafly\",\"Bird\",\"TuSimple\",\"PayPal\",\"Juul\",\"Akili Interactive Labs\",\"Robinhood\",\"Playtika\",\"Vroom\",\"Latch\",\"Sema4\",\"Root Insurance\",\"Coinbase\",\"Twitter\"],\"yaxis\":\"y\",\"type\":\"bar\"}],                        {\"template\":{\"data\":{\"bar\":[{\"error_x\":{\"color\":\"#2a3f5f\"},\"error_y\":{\"color\":\"#2a3f5f\"},\"marker\":{\"line\":{\"color\":\"#E5ECF6\",\"width\":0.5},\"pattern\":{\"fillmode\":\"overlay\",\"size\":10,\"solidity\":0.2}},\"type\":\"bar\"}],\"barpolar\":[{\"marker\":{\"line\":{\"color\":\"#E5ECF6\",\"width\":0.5},\"pattern\":{\"fillmode\":\"overlay\",\"size\":10,\"solidity\":0.2}},\"type\":\"barpolar\"}],\"carpet\":[{\"aaxis\":{\"endlinecolor\":\"#2a3f5f\",\"gridcolor\":\"white\",\"linecolor\":\"white\",\"minorgridcolor\":\"white\",\"startlinecolor\":\"#2a3f5f\"},\"baxis\":{\"endlinecolor\":\"#2a3f5f\",\"gridcolor\":\"white\",\"linecolor\":\"white\",\"minorgridcolor\":\"white\",\"startlinecolor\":\"#2a3f5f\"},\"type\":\"carpet\"}],\"choropleth\":[{\"colorbar\":{\"outlinewidth\":0,\"ticks\":\"\"},\"type\":\"choropleth\"}],\"contour\":[{\"colorbar\":{\"outlinewidth\":0,\"ticks\":\"\"},\"colorscale\":[[0.0,\"#0d0887\"],[0.1111111111111111,\"#46039f\"],[0.2222222222222222,\"#7201a8\"],[0.3333333333333333,\"#9c179e\"],[0.4444444444444444,\"#bd3786\"],[0.5555555555555556,\"#d8576b\"],[0.6666666666666666,\"#ed7953\"],[0.7777777777777778,\"#fb9f3a\"],[0.8888888888888888,\"#fdca26\"],[1.0,\"#f0f921\"]],\"type\":\"contour\"}],\"contourcarpet\":[{\"colorbar\":{\"outlinewidth\":0,\"ticks\":\"\"},\"type\":\"contourcarpet\"}],\"heatmap\":[{\"colorbar\":{\"outlinewidth\":0,\"ticks\":\"\"},\"colorscale\":[[0.0,\"#0d0887\"],[0.1111111111111111,\"#46039f\"],[0.2222222222222222,\"#7201a8\"],[0.3333333333333333,\"#9c179e\"],[0.4444444444444444,\"#bd3786\"],[0.5555555555555556,\"#d8576b\"],[0.6666666666666666,\"#ed7953\"],[0.7777777777777778,\"#fb9f3a\"],[0.8888888888888888,\"#fdca26\"],[1.0,\"#f0f921\"]],\"type\":\"heatmap\"}],\"heatmapgl\":[{\"colorbar\":{\"outlinewidth\":0,\"ticks\":\"\"},\"colorscale\":[[0.0,\"#0d0887\"],[0.1111111111111111,\"#46039f\"],[0.2222222222222222,\"#7201a8\"],[0.3333333333333333,\"#9c179e\"],[0.4444444444444444,\"#bd3786\"],[0.5555555555555556,\"#d8576b\"],[0.6666666666666666,\"#ed7953\"],[0.7777777777777778,\"#fb9f3a\"],[0.8888888888888888,\"#fdca26\"],[1.0,\"#f0f921\"]],\"type\":\"heatmapgl\"}],\"histogram\":[{\"marker\":{\"pattern\":{\"fillmode\":\"overlay\",\"size\":10,\"solidity\":0.2}},\"type\":\"histogram\"}],\"histogram2d\":[{\"colorbar\":{\"outlinewidth\":0,\"ticks\":\"\"},\"colorscale\":[[0.0,\"#0d0887\"],[0.1111111111111111,\"#46039f\"],[0.2222222222222222,\"#7201a8\"],[0.3333333333333333,\"#9c179e\"],[0.4444444444444444,\"#bd3786\"],[0.5555555555555556,\"#d8576b\"],[0.6666666666666666,\"#ed7953\"],[0.7777777777777778,\"#fb9f3a\"],[0.8888888888888888,\"#fdca26\"],[1.0,\"#f0f921\"]],\"type\":\"histogram2d\"}],\"histogram2dcontour\":[{\"colorbar\":{\"outlinewidth\":0,\"ticks\":\"\"},\"colorscale\":[[0.0,\"#0d0887\"],[0.1111111111111111,\"#46039f\"],[0.2222222222222222,\"#7201a8\"],[0.3333333333333333,\"#9c179e\"],[0.4444444444444444,\"#bd3786\"],[0.5555555555555556,\"#d8576b\"],[0.6666666666666666,\"#ed7953\"],[0.7777777777777778,\"#fb9f3a\"],[0.8888888888888888,\"#fdca26\"],[1.0,\"#f0f921\"]],\"type\":\"histogram2dcontour\"}],\"mesh3d\":[{\"colorbar\":{\"outlinewidth\":0,\"ticks\":\"\"},\"type\":\"mesh3d\"}],\"parcoords\":[{\"line\":{\"colorbar\":{\"outlinewidth\":0,\"ticks\":\"\"}},\"type\":\"parcoords\"}],\"pie\":[{\"automargin\":true,\"type\":\"pie\"}],\"scatter\":[{\"marker\":{\"colorbar\":{\"outlinewidth\":0,\"ticks\":\"\"}},\"type\":\"scatter\"}],\"scatter3d\":[{\"line\":{\"colorbar\":{\"outlinewidth\":0,\"ticks\":\"\"}},\"marker\":{\"colorbar\":{\"outlinewidth\":0,\"ticks\":\"\"}},\"type\":\"scatter3d\"}],\"scattercarpet\":[{\"marker\":{\"colorbar\":{\"outlinewidth\":0,\"ticks\":\"\"}},\"type\":\"scattercarpet\"}],\"scattergeo\":[{\"marker\":{\"colorbar\":{\"outlinewidth\":0,\"ticks\":\"\"}},\"type\":\"scattergeo\"}],\"scattergl\":[{\"marker\":{\"colorbar\":{\"outlinewidth\":0,\"ticks\":\"\"}},\"type\":\"scattergl\"}],\"scattermapbox\":[{\"marker\":{\"colorbar\":{\"outlinewidth\":0,\"ticks\":\"\"}},\"type\":\"scattermapbox\"}],\"scatterpolar\":[{\"marker\":{\"colorbar\":{\"outlinewidth\":0,\"ticks\":\"\"}},\"type\":\"scatterpolar\"}],\"scatterpolargl\":[{\"marker\":{\"colorbar\":{\"outlinewidth\":0,\"ticks\":\"\"}},\"type\":\"scatterpolargl\"}],\"scatterternary\":[{\"marker\":{\"colorbar\":{\"outlinewidth\":0,\"ticks\":\"\"}},\"type\":\"scatterternary\"}],\"surface\":[{\"colorbar\":{\"outlinewidth\":0,\"ticks\":\"\"},\"colorscale\":[[0.0,\"#0d0887\"],[0.1111111111111111,\"#46039f\"],[0.2222222222222222,\"#7201a8\"],[0.3333333333333333,\"#9c179e\"],[0.4444444444444444,\"#bd3786\"],[0.5555555555555556,\"#d8576b\"],[0.6666666666666666,\"#ed7953\"],[0.7777777777777778,\"#fb9f3a\"],[0.8888888888888888,\"#fdca26\"],[1.0,\"#f0f921\"]],\"type\":\"surface\"}],\"table\":[{\"cells\":{\"fill\":{\"color\":\"#EBF0F8\"},\"line\":{\"color\":\"white\"}},\"header\":{\"fill\":{\"color\":\"#C8D4E3\"},\"line\":{\"color\":\"white\"}},\"type\":\"table\"}]},\"layout\":{\"annotationdefaults\":{\"arrowcolor\":\"#2a3f5f\",\"arrowhead\":0,\"arrowwidth\":1},\"autotypenumbers\":\"strict\",\"coloraxis\":{\"colorbar\":{\"outlinewidth\":0,\"ticks\":\"\"}},\"colorscale\":{\"diverging\":[[0,\"#8e0152\"],[0.1,\"#c51b7d\"],[0.2,\"#de77ae\"],[0.3,\"#f1b6da\"],[0.4,\"#fde0ef\"],[0.5,\"#f7f7f7\"],[0.6,\"#e6f5d0\"],[0.7,\"#b8e186\"],[0.8,\"#7fbc41\"],[0.9,\"#4d9221\"],[1,\"#276419\"]],\"sequential\":[[0.0,\"#0d0887\"],[0.1111111111111111,\"#46039f\"],[0.2222222222222222,\"#7201a8\"],[0.3333333333333333,\"#9c179e\"],[0.4444444444444444,\"#bd3786\"],[0.5555555555555556,\"#d8576b\"],[0.6666666666666666,\"#ed7953\"],[0.7777777777777778,\"#fb9f3a\"],[0.8888888888888888,\"#fdca26\"],[1.0,\"#f0f921\"]],\"sequentialminus\":[[0.0,\"#0d0887\"],[0.1111111111111111,\"#46039f\"],[0.2222222222222222,\"#7201a8\"],[0.3333333333333333,\"#9c179e\"],[0.4444444444444444,\"#bd3786\"],[0.5555555555555556,\"#d8576b\"],[0.6666666666666666,\"#ed7953\"],[0.7777777777777778,\"#fb9f3a\"],[0.8888888888888888,\"#fdca26\"],[1.0,\"#f0f921\"]]},\"colorway\":[\"#636efa\",\"#EF553B\",\"#00cc96\",\"#ab63fa\",\"#FFA15A\",\"#19d3f3\",\"#FF6692\",\"#B6E880\",\"#FF97FF\",\"#FECB52\"],\"font\":{\"color\":\"#2a3f5f\"},\"geo\":{\"bgcolor\":\"white\",\"lakecolor\":\"white\",\"landcolor\":\"#E5ECF6\",\"showlakes\":true,\"showland\":true,\"subunitcolor\":\"white\"},\"hoverlabel\":{\"align\":\"left\"},\"hovermode\":\"closest\",\"mapbox\":{\"style\":\"light\"},\"paper_bgcolor\":\"white\",\"plot_bgcolor\":\"#E5ECF6\",\"polar\":{\"angularaxis\":{\"gridcolor\":\"white\",\"linecolor\":\"white\",\"ticks\":\"\"},\"bgcolor\":\"#E5ECF6\",\"radialaxis\":{\"gridcolor\":\"white\",\"linecolor\":\"white\",\"ticks\":\"\"}},\"scene\":{\"xaxis\":{\"backgroundcolor\":\"#E5ECF6\",\"gridcolor\":\"white\",\"gridwidth\":2,\"linecolor\":\"white\",\"showbackground\":true,\"ticks\":\"\",\"zerolinecolor\":\"white\"},\"yaxis\":{\"backgroundcolor\":\"#E5ECF6\",\"gridcolor\":\"white\",\"gridwidth\":2,\"linecolor\":\"white\",\"showbackground\":true,\"ticks\":\"\",\"zerolinecolor\":\"white\"},\"zaxis\":{\"backgroundcolor\":\"#E5ECF6\",\"gridcolor\":\"white\",\"gridwidth\":2,\"linecolor\":\"white\",\"showbackground\":true,\"ticks\":\"\",\"zerolinecolor\":\"white\"}},\"shapedefaults\":{\"line\":{\"color\":\"#2a3f5f\"}},\"ternary\":{\"aaxis\":{\"gridcolor\":\"white\",\"linecolor\":\"white\",\"ticks\":\"\"},\"baxis\":{\"gridcolor\":\"white\",\"linecolor\":\"white\",\"ticks\":\"\"},\"bgcolor\":\"#E5ECF6\",\"caxis\":{\"gridcolor\":\"white\",\"linecolor\":\"white\",\"ticks\":\"\"}},\"title\":{\"x\":0.05},\"xaxis\":{\"automargin\":true,\"gridcolor\":\"white\",\"linecolor\":\"white\",\"ticks\":\"\",\"title\":{\"standoff\":15},\"zerolinecolor\":\"white\",\"zerolinewidth\":2},\"yaxis\":{\"automargin\":true,\"gridcolor\":\"white\",\"linecolor\":\"white\",\"ticks\":\"\",\"title\":{\"standoff\":15},\"zerolinecolor\":\"white\",\"zerolinewidth\":2}}},\"xaxis\":{\"anchor\":\"y\",\"domain\":[0.0,1.0],\"title\":{\"text\":\"total_layoffs\"}},\"yaxis\":{\"anchor\":\"x\",\"domain\":[0.0,1.0],\"title\":{\"text\":\"company\"},\"categoryorder\":\"total ascending\"},\"legend\":{\"tracegroupgap\":0},\"title\":{\"text\":\"Quantity of Layoffs by company\"},\"barmode\":\"relative\",\"height\":800},                        {\"responsive\": true}                    ).then(function(){\n",
              "                            \n",
              "var gd = document.getElementById('3ae0c076-f60f-4b31-874a-d4fa9567f506');\n",
              "var x = new MutationObserver(function (mutations, observer) {{\n",
              "        var display = window.getComputedStyle(gd).display;\n",
              "        if (!display || display === 'none') {{\n",
              "            console.log([gd, 'removed!']);\n",
              "            Plotly.purge(gd);\n",
              "            observer.disconnect();\n",
              "        }}\n",
              "}});\n",
              "\n",
              "// Listen for the removal of the full notebook cells\n",
              "var notebookContainer = gd.closest('#notebook-container');\n",
              "if (notebookContainer) {{\n",
              "    x.observe(notebookContainer, {childList: true});\n",
              "}}\n",
              "\n",
              "// Listen for the clearing of the current output cell\n",
              "var outputEl = gd.closest('.output');\n",
              "if (outputEl) {{\n",
              "    x.observe(outputEl, {childList: true});\n",
              "}}\n",
              "\n",
              "                        })                };                            </script>        </div>\n",
              "</body>\n",
              "</html>"
            ]
          },
          "metadata": {}
        }
      ]
    },
    {
      "cell_type": "code",
      "source": [
        "fig = px.bar(data, y='industry', x='total_layoffs', title='Industries', height=800)\n",
        "fig.update_layout(yaxis={'categoryorder':'total ascending'})\n",
        "fig.show()"
      ],
      "metadata": {
        "colab": {
          "base_uri": "https://localhost:8080/",
          "height": 817
        },
        "id": "1S6PGLuEvHEU",
        "outputId": "68eccb1b-dd26-42ba-a2c3-a8647da8178e"
      },
      "execution_count": 94,
      "outputs": [
        {
          "output_type": "display_data",
          "data": {
            "text/html": [
              "<html>\n",
              "<head><meta charset=\"utf-8\" /></head>\n",
              "<body>\n",
              "    <div>            <script src=\"https://cdnjs.cloudflare.com/ajax/libs/mathjax/2.7.5/MathJax.js?config=TeX-AMS-MML_SVG\"></script><script type=\"text/javascript\">if (window.MathJax) {MathJax.Hub.Config({SVG: {font: \"STIX-Web\"}});}</script>                <script type=\"text/javascript\">window.PlotlyConfig = {MathJaxConfig: 'local'};</script>\n",
              "        <script src=\"https://cdn.plot.ly/plotly-2.8.3.min.js\"></script>                <div id=\"90a03339-53df-4ad9-acf4-c259bba72968\" class=\"plotly-graph-div\" style=\"height:800px; width:100%;\"></div>            <script type=\"text/javascript\">                                    window.PLOTLYENV=window.PLOTLYENV || {};                                    if (document.getElementById(\"90a03339-53df-4ad9-acf4-c259bba72968\")) {                    Plotly.newPlot(                        \"90a03339-53df-4ad9-acf4-c259bba72968\",                        [{\"alignmentgroup\":\"True\",\"hovertemplate\":\"total_layoffs=%{x}<br>industry=%{y}<extra></extra>\",\"legendgroup\":\"\",\"marker\":{\"color\":\"#636efa\",\"pattern\":{\"shape\":\"\"}},\"name\":\"\",\"offsetgroup\":\"\",\"orientation\":\"h\",\"showlegend\":false,\"textposition\":\"auto\",\"x\":[20,13,20,24,25,26,50,11,110,12,15,150,220,50,63,750,100,20,237,58,130,20,35,60,68,84,90,120,120,20,30,30,32,56,59,85,90,100,169,70,70,78,120,140,142,150,150,21,30,65,78,80,200,100,123,136,90,750,100,156,30,40,40,94,10,124,24,50,55,7,100,125,13,16,250,30,45,47,5,54,20,450,200,150,170,30,80,84,27,30,30,104,43,80,120,130,150,150,156,200,25,254,260,30,30,40,57,640,67,76,90,104,24,32,23,59,23,76,57,100,150,16,170,25,25,32,37,72,74,950,27,30,378,43,100,100,100,1100,32,60,162,173,250,33,40,40,44,50,50,80,158,262,70,120,59,150,64,20,5000,111,170,50,88,220,60,76,1000,101,140,400,60,85,100,90,32,38,43,700,270,110,18000,300,350,4100,60,95,100,588,1250,30,300,55,840,100,155,200,450,509,180,25,100,1000,120,140,200,70,70,99,75,800,180,300,11000,120,225,95,500,760,140,400,550,1332,1280,400,60,800,56,138,350,83,400,46,1013,250,647,115,750,467,2110,3740],\"xaxis\":\"x\",\"y\":[\"Fintech, payments\",\"Saas, analytics\",\"fintech, data analytics\",\"Health Care\",\"Cybersecurity\",\"food and beverage, e-commerce\",\"telehealth, wellness\",\"Beauty tech\",\"productivity, enterprise software\",\"Crypto\",\"Health Care\",\"Transportation\",\"Cybersecurity\",\"Food delivery, ecommerce\",\"Logistics\",\"Food delivery, ecommerce\",\"Blockchain, cryptocurrency\",\"Media, E-commerce\",\"enterprise software, productivity\",\"Transportation\",\"Food delivery, ecommerce\",\"InsurTech\",\"video games\",\"Fintech\",\"Crypto\",\"E-commerce, retail\",\"Logistics\",\"Cloud Infrastructure, health care\",\"E-commerce\",\"FinTech\",\"Fintech, analytics\",\"Robotics\",\"fintech, personal finance\",\"Cannabis\",\"Logistics\",\"Video Games, AR\",\"Media/entertainment\",\"HR Tech\",\"Digital media, journalism\",\"marketing, media\",\"Cybersecurity\",\"Health care, predictive analytics\",\"SaaS, enterprise software\",\"social impact, finance\",\"Fintech, SaaS\",\"Artificial Intelligence, Machine Learning\",\"Data science, enterprise\",\"FinTech\",\"Sales tech\",\"SecOps, security\",\"Transportation\",\"Natural Language Processing\",\"Fintech\",\"Cryptocurrency, FinTech\",\"FinTech\",\"Fintech\",\"Cloud computing, e-commerce\",\"Fintech\",\"Cloud services, cybersecurity\",\"Fintech\",\"InsurTech\",\"PropTech\",\"InsurTech\",\"Crowdfunding\",\"Cryptocurrency\",\"customer service, automation\",\"Video Conferencing Software\",\"fintech, money transfer\",\"edtech, artificial intelligence\",\"Privacy Tech, Marketing Tech\",\"Marketing Automation\",\"security, enterprise software\",\"Media, Content Creators\",\"Employee Benefits, HR Tech\",\"health care, data collection\",\"Cybersecurity\",\"PropTech\",\"Insurtech, fintech\",\"Artificial intelligence, recruiting\",\"Talent marketplace\",\"Communications Infrastructure\",\"Health Care\",\"Mobile Apps, Gaming\",\"InsurTech\",\"SaaS, enterprise software\",\"Fashion, e-commerce\",\"Social media\",\"Fintech\",\"Fintech\",\"Data Analytics\",\"SMS Marketing\",\"cybsersecurity, predictive analytics\",\"Marketing Tech, SMS Marketing\",\"Data storage\",\"Real Estate, PropTech\",\"CleanTech, energy\",\"Real Estate, PropTech\",\"E-commerce\",\"Edtech\",\"Cybersecurity\",\"Fintech\",\"Data science, enterprise\",\"Fintech\",\"E-commerce\",\"InsurTech\",\"robotics, AI\",\"PropTech, InsurTech\",\"shipping and logistics\",\"health care\",\"Data analytics, cloud services\",\"personal health, wellness\",\"Fintech, banking\",\"News\",\"health care, analytics\",\"Email Software\",\"Cryptocurrency, blockchain\",\"Software\",\"Saas, APIs\",\"Enterprise Communication\",\"AI\",\"Crypto\",\"Transporation, Logistics\",\"InsurTech\",\"Social Media\",\"Fintech\",\"Edtech\",\"Fintech\",\"Business development\",\"EdTech\",\"Cybersecurity\",\"Artificial Intelligence, Machine Learning\",\"Fintech\",\"PropTech\",\"Food Tech, Software, Grocery Tech\",\"PropTech\",\"PropTech\",\"social impact, company benefits\",\"Cryptocurrency\",\"FinTech\",\"Cryptocurrency, blockchain\",\"PropTech\",\"Identity verification\",\"FinTech\",\"Cryptocurrency\",\"E-commerce\",\"Pediatrics, telehealth\",\"FinTech, PropTech\",\"Fintech\",\"Enterprise Software\",\"IoT\",\"Fintech, payments\",\"Fitness\",\"Fitness\",\"E-commerce, Logistics\",\"Artificial Intelligence\",\"Fintech\",\"Home decor, PropTech\",\"Cryptocurrency\",\"Fintech\",\"Transporation\",\"Legal Tech\",\"AgTech, food and beverage\",\"Edtech\",\"Virtual Event\",\"Social media\",\"Artificial intelligence, machine learning\",\"Hospitality\",\"Health Care, Diagnostics\",\"PropTech\",\"Fintech\",\"News, media\",\"PropTech, Real Estate\",\"SaaS, enterprise software\",\"CRM, IT\",\"Edtech\",\"Digital Marketing\",\"edtech, product management\",\"CRM, enterprise software\",\"data center, enterprise software\",\"Cybersecurity\",\"E-commerce, SaaS\",\"PropTech\",\"Enterprise software, customer service\",\"enterprise software, SaaS\",\"Marketing\",\"Enterprise Software\",\"Content marketing\",\"Music\",\"Food delivery, ecommerce\",\"Smart Home, Security\",\"health care, telehealth\",\"Health care, analytics\",\"electric vehicle, transportation\",\"Fintech, software\",\"telecommunications, enterprise software\",\"media, streaming\",\"Big data, cloud computing\",\"Video Games\",\"collaboration, enterprise software\",\"Software, Biotech\",\"cybersecurity, cloud services\",\"E-commerce\",\"AI, analytics\",\"artificial intelligence, robotics\",\"Fintech\",\"Esports/Video Games\",\"Fitness\",\"E-commerce\",\"Developer APIs, enterprise software\",\"Enterprise Software\",\"Media, news\",\"Mobile Apps, Developer Tools\",\"Social media\",\"Data science, enterprise\",\"Fintech, banking\",\"Cloud computing, web hosting\",\"ecommerce, retail\",\"Transportation\",\"Health care, pharmaceuticals\",\"E-commerce, Delivery\",\"Proptech\",\"PropTech\",\"Social media\",\"EdTech, IT\",\"Insurtech, transportation\",\"health care, health insurance\",\"Cannabis\",\"Transporation\",\"electric vehicle, transportation\",\"Fintech\",\"consumer goods, vape pens\",\"Health care\",\"Fintech\",\"Gaming\",\"Auto, E-commerce\",\"PropTech\",\"AI, health care\",\"InsurTech\",\"Crypto\",\"Social Media\"],\"yaxis\":\"y\",\"type\":\"bar\"}],                        {\"template\":{\"data\":{\"bar\":[{\"error_x\":{\"color\":\"#2a3f5f\"},\"error_y\":{\"color\":\"#2a3f5f\"},\"marker\":{\"line\":{\"color\":\"#E5ECF6\",\"width\":0.5},\"pattern\":{\"fillmode\":\"overlay\",\"size\":10,\"solidity\":0.2}},\"type\":\"bar\"}],\"barpolar\":[{\"marker\":{\"line\":{\"color\":\"#E5ECF6\",\"width\":0.5},\"pattern\":{\"fillmode\":\"overlay\",\"size\":10,\"solidity\":0.2}},\"type\":\"barpolar\"}],\"carpet\":[{\"aaxis\":{\"endlinecolor\":\"#2a3f5f\",\"gridcolor\":\"white\",\"linecolor\":\"white\",\"minorgridcolor\":\"white\",\"startlinecolor\":\"#2a3f5f\"},\"baxis\":{\"endlinecolor\":\"#2a3f5f\",\"gridcolor\":\"white\",\"linecolor\":\"white\",\"minorgridcolor\":\"white\",\"startlinecolor\":\"#2a3f5f\"},\"type\":\"carpet\"}],\"choropleth\":[{\"colorbar\":{\"outlinewidth\":0,\"ticks\":\"\"},\"type\":\"choropleth\"}],\"contour\":[{\"colorbar\":{\"outlinewidth\":0,\"ticks\":\"\"},\"colorscale\":[[0.0,\"#0d0887\"],[0.1111111111111111,\"#46039f\"],[0.2222222222222222,\"#7201a8\"],[0.3333333333333333,\"#9c179e\"],[0.4444444444444444,\"#bd3786\"],[0.5555555555555556,\"#d8576b\"],[0.6666666666666666,\"#ed7953\"],[0.7777777777777778,\"#fb9f3a\"],[0.8888888888888888,\"#fdca26\"],[1.0,\"#f0f921\"]],\"type\":\"contour\"}],\"contourcarpet\":[{\"colorbar\":{\"outlinewidth\":0,\"ticks\":\"\"},\"type\":\"contourcarpet\"}],\"heatmap\":[{\"colorbar\":{\"outlinewidth\":0,\"ticks\":\"\"},\"colorscale\":[[0.0,\"#0d0887\"],[0.1111111111111111,\"#46039f\"],[0.2222222222222222,\"#7201a8\"],[0.3333333333333333,\"#9c179e\"],[0.4444444444444444,\"#bd3786\"],[0.5555555555555556,\"#d8576b\"],[0.6666666666666666,\"#ed7953\"],[0.7777777777777778,\"#fb9f3a\"],[0.8888888888888888,\"#fdca26\"],[1.0,\"#f0f921\"]],\"type\":\"heatmap\"}],\"heatmapgl\":[{\"colorbar\":{\"outlinewidth\":0,\"ticks\":\"\"},\"colorscale\":[[0.0,\"#0d0887\"],[0.1111111111111111,\"#46039f\"],[0.2222222222222222,\"#7201a8\"],[0.3333333333333333,\"#9c179e\"],[0.4444444444444444,\"#bd3786\"],[0.5555555555555556,\"#d8576b\"],[0.6666666666666666,\"#ed7953\"],[0.7777777777777778,\"#fb9f3a\"],[0.8888888888888888,\"#fdca26\"],[1.0,\"#f0f921\"]],\"type\":\"heatmapgl\"}],\"histogram\":[{\"marker\":{\"pattern\":{\"fillmode\":\"overlay\",\"size\":10,\"solidity\":0.2}},\"type\":\"histogram\"}],\"histogram2d\":[{\"colorbar\":{\"outlinewidth\":0,\"ticks\":\"\"},\"colorscale\":[[0.0,\"#0d0887\"],[0.1111111111111111,\"#46039f\"],[0.2222222222222222,\"#7201a8\"],[0.3333333333333333,\"#9c179e\"],[0.4444444444444444,\"#bd3786\"],[0.5555555555555556,\"#d8576b\"],[0.6666666666666666,\"#ed7953\"],[0.7777777777777778,\"#fb9f3a\"],[0.8888888888888888,\"#fdca26\"],[1.0,\"#f0f921\"]],\"type\":\"histogram2d\"}],\"histogram2dcontour\":[{\"colorbar\":{\"outlinewidth\":0,\"ticks\":\"\"},\"colorscale\":[[0.0,\"#0d0887\"],[0.1111111111111111,\"#46039f\"],[0.2222222222222222,\"#7201a8\"],[0.3333333333333333,\"#9c179e\"],[0.4444444444444444,\"#bd3786\"],[0.5555555555555556,\"#d8576b\"],[0.6666666666666666,\"#ed7953\"],[0.7777777777777778,\"#fb9f3a\"],[0.8888888888888888,\"#fdca26\"],[1.0,\"#f0f921\"]],\"type\":\"histogram2dcontour\"}],\"mesh3d\":[{\"colorbar\":{\"outlinewidth\":0,\"ticks\":\"\"},\"type\":\"mesh3d\"}],\"parcoords\":[{\"line\":{\"colorbar\":{\"outlinewidth\":0,\"ticks\":\"\"}},\"type\":\"parcoords\"}],\"pie\":[{\"automargin\":true,\"type\":\"pie\"}],\"scatter\":[{\"marker\":{\"colorbar\":{\"outlinewidth\":0,\"ticks\":\"\"}},\"type\":\"scatter\"}],\"scatter3d\":[{\"line\":{\"colorbar\":{\"outlinewidth\":0,\"ticks\":\"\"}},\"marker\":{\"colorbar\":{\"outlinewidth\":0,\"ticks\":\"\"}},\"type\":\"scatter3d\"}],\"scattercarpet\":[{\"marker\":{\"colorbar\":{\"outlinewidth\":0,\"ticks\":\"\"}},\"type\":\"scattercarpet\"}],\"scattergeo\":[{\"marker\":{\"colorbar\":{\"outlinewidth\":0,\"ticks\":\"\"}},\"type\":\"scattergeo\"}],\"scattergl\":[{\"marker\":{\"colorbar\":{\"outlinewidth\":0,\"ticks\":\"\"}},\"type\":\"scattergl\"}],\"scattermapbox\":[{\"marker\":{\"colorbar\":{\"outlinewidth\":0,\"ticks\":\"\"}},\"type\":\"scattermapbox\"}],\"scatterpolar\":[{\"marker\":{\"colorbar\":{\"outlinewidth\":0,\"ticks\":\"\"}},\"type\":\"scatterpolar\"}],\"scatterpolargl\":[{\"marker\":{\"colorbar\":{\"outlinewidth\":0,\"ticks\":\"\"}},\"type\":\"scatterpolargl\"}],\"scatterternary\":[{\"marker\":{\"colorbar\":{\"outlinewidth\":0,\"ticks\":\"\"}},\"type\":\"scatterternary\"}],\"surface\":[{\"colorbar\":{\"outlinewidth\":0,\"ticks\":\"\"},\"colorscale\":[[0.0,\"#0d0887\"],[0.1111111111111111,\"#46039f\"],[0.2222222222222222,\"#7201a8\"],[0.3333333333333333,\"#9c179e\"],[0.4444444444444444,\"#bd3786\"],[0.5555555555555556,\"#d8576b\"],[0.6666666666666666,\"#ed7953\"],[0.7777777777777778,\"#fb9f3a\"],[0.8888888888888888,\"#fdca26\"],[1.0,\"#f0f921\"]],\"type\":\"surface\"}],\"table\":[{\"cells\":{\"fill\":{\"color\":\"#EBF0F8\"},\"line\":{\"color\":\"white\"}},\"header\":{\"fill\":{\"color\":\"#C8D4E3\"},\"line\":{\"color\":\"white\"}},\"type\":\"table\"}]},\"layout\":{\"annotationdefaults\":{\"arrowcolor\":\"#2a3f5f\",\"arrowhead\":0,\"arrowwidth\":1},\"autotypenumbers\":\"strict\",\"coloraxis\":{\"colorbar\":{\"outlinewidth\":0,\"ticks\":\"\"}},\"colorscale\":{\"diverging\":[[0,\"#8e0152\"],[0.1,\"#c51b7d\"],[0.2,\"#de77ae\"],[0.3,\"#f1b6da\"],[0.4,\"#fde0ef\"],[0.5,\"#f7f7f7\"],[0.6,\"#e6f5d0\"],[0.7,\"#b8e186\"],[0.8,\"#7fbc41\"],[0.9,\"#4d9221\"],[1,\"#276419\"]],\"sequential\":[[0.0,\"#0d0887\"],[0.1111111111111111,\"#46039f\"],[0.2222222222222222,\"#7201a8\"],[0.3333333333333333,\"#9c179e\"],[0.4444444444444444,\"#bd3786\"],[0.5555555555555556,\"#d8576b\"],[0.6666666666666666,\"#ed7953\"],[0.7777777777777778,\"#fb9f3a\"],[0.8888888888888888,\"#fdca26\"],[1.0,\"#f0f921\"]],\"sequentialminus\":[[0.0,\"#0d0887\"],[0.1111111111111111,\"#46039f\"],[0.2222222222222222,\"#7201a8\"],[0.3333333333333333,\"#9c179e\"],[0.4444444444444444,\"#bd3786\"],[0.5555555555555556,\"#d8576b\"],[0.6666666666666666,\"#ed7953\"],[0.7777777777777778,\"#fb9f3a\"],[0.8888888888888888,\"#fdca26\"],[1.0,\"#f0f921\"]]},\"colorway\":[\"#636efa\",\"#EF553B\",\"#00cc96\",\"#ab63fa\",\"#FFA15A\",\"#19d3f3\",\"#FF6692\",\"#B6E880\",\"#FF97FF\",\"#FECB52\"],\"font\":{\"color\":\"#2a3f5f\"},\"geo\":{\"bgcolor\":\"white\",\"lakecolor\":\"white\",\"landcolor\":\"#E5ECF6\",\"showlakes\":true,\"showland\":true,\"subunitcolor\":\"white\"},\"hoverlabel\":{\"align\":\"left\"},\"hovermode\":\"closest\",\"mapbox\":{\"style\":\"light\"},\"paper_bgcolor\":\"white\",\"plot_bgcolor\":\"#E5ECF6\",\"polar\":{\"angularaxis\":{\"gridcolor\":\"white\",\"linecolor\":\"white\",\"ticks\":\"\"},\"bgcolor\":\"#E5ECF6\",\"radialaxis\":{\"gridcolor\":\"white\",\"linecolor\":\"white\",\"ticks\":\"\"}},\"scene\":{\"xaxis\":{\"backgroundcolor\":\"#E5ECF6\",\"gridcolor\":\"white\",\"gridwidth\":2,\"linecolor\":\"white\",\"showbackground\":true,\"ticks\":\"\",\"zerolinecolor\":\"white\"},\"yaxis\":{\"backgroundcolor\":\"#E5ECF6\",\"gridcolor\":\"white\",\"gridwidth\":2,\"linecolor\":\"white\",\"showbackground\":true,\"ticks\":\"\",\"zerolinecolor\":\"white\"},\"zaxis\":{\"backgroundcolor\":\"#E5ECF6\",\"gridcolor\":\"white\",\"gridwidth\":2,\"linecolor\":\"white\",\"showbackground\":true,\"ticks\":\"\",\"zerolinecolor\":\"white\"}},\"shapedefaults\":{\"line\":{\"color\":\"#2a3f5f\"}},\"ternary\":{\"aaxis\":{\"gridcolor\":\"white\",\"linecolor\":\"white\",\"ticks\":\"\"},\"baxis\":{\"gridcolor\":\"white\",\"linecolor\":\"white\",\"ticks\":\"\"},\"bgcolor\":\"#E5ECF6\",\"caxis\":{\"gridcolor\":\"white\",\"linecolor\":\"white\",\"ticks\":\"\"}},\"title\":{\"x\":0.05},\"xaxis\":{\"automargin\":true,\"gridcolor\":\"white\",\"linecolor\":\"white\",\"ticks\":\"\",\"title\":{\"standoff\":15},\"zerolinecolor\":\"white\",\"zerolinewidth\":2},\"yaxis\":{\"automargin\":true,\"gridcolor\":\"white\",\"linecolor\":\"white\",\"ticks\":\"\",\"title\":{\"standoff\":15},\"zerolinecolor\":\"white\",\"zerolinewidth\":2}}},\"xaxis\":{\"anchor\":\"y\",\"domain\":[0.0,1.0],\"title\":{\"text\":\"total_layoffs\"}},\"yaxis\":{\"anchor\":\"x\",\"domain\":[0.0,1.0],\"title\":{\"text\":\"industry\"},\"categoryorder\":\"total ascending\"},\"legend\":{\"tracegroupgap\":0},\"title\":{\"text\":\"Industries\"},\"barmode\":\"relative\",\"height\":800},                        {\"responsive\": true}                    ).then(function(){\n",
              "                            \n",
              "var gd = document.getElementById('90a03339-53df-4ad9-acf4-c259bba72968');\n",
              "var x = new MutationObserver(function (mutations, observer) {{\n",
              "        var display = window.getComputedStyle(gd).display;\n",
              "        if (!display || display === 'none') {{\n",
              "            console.log([gd, 'removed!']);\n",
              "            Plotly.purge(gd);\n",
              "            observer.disconnect();\n",
              "        }}\n",
              "}});\n",
              "\n",
              "// Listen for the removal of the full notebook cells\n",
              "var notebookContainer = gd.closest('#notebook-container');\n",
              "if (notebookContainer) {{\n",
              "    x.observe(notebookContainer, {childList: true});\n",
              "}}\n",
              "\n",
              "// Listen for the clearing of the current output cell\n",
              "var outputEl = gd.closest('.output');\n",
              "if (outputEl) {{\n",
              "    x.observe(outputEl, {childList: true});\n",
              "}}\n",
              "\n",
              "                        })                };                            </script>        </div>\n",
              "</body>\n",
              "</html>"
            ]
          },
          "metadata": {}
        }
      ]
    },
    {
      "cell_type": "code",
      "source": [],
      "metadata": {
        "id": "tPCAmMvNwV0u"
      },
      "execution_count": null,
      "outputs": []
    }
  ]
}