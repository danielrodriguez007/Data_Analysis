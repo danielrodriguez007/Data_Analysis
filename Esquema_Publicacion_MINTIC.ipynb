{
  "nbformat": 4,
  "nbformat_minor": 0,
  "metadata": {
    "colab": {
      "provenance": [],
      "authorship_tag": "ABX9TyO/xZa0VwRrPh1FSTnQXCbO",
      "include_colab_link": true
    },
    "kernelspec": {
      "name": "python3",
      "display_name": "Python 3"
    },
    "language_info": {
      "name": "python"
    }
  },
  "cells": [
    {
      "cell_type": "markdown",
      "metadata": {
        "id": "view-in-github",
        "colab_type": "text"
      },
      "source": [
        "<a href=\"https://colab.research.google.com/github/danielrodriguez007/Data_Analysis/blob/main/Esquema_Publicacion_MINTIC.ipynb\" target=\"_parent\"><img src=\"https://colab.research.google.com/assets/colab-badge.svg\" alt=\"Open In Colab\"/></a>"
      ]
    },
    {
      "cell_type": "code",
      "execution_count": 1,
      "metadata": {
        "id": "9Wr_7CxwwhNu"
      },
      "outputs": [],
      "source": [
        "import numpy as np\n",
        "import pandas as pd\n",
        "import matplotlib.pyplot as plt\n",
        "import seaborn as sns\n",
        "import plotly.express as px \n",
        "import plotly.graph_objects as go\n"
      ]
    },
    {
      "cell_type": "code",
      "source": [
        "data = pd.read_json('https://www.datos.gov.co/resource/55rp-mqza.json' )\n",
        "data.head()"
      ],
      "metadata": {
        "colab": {
          "base_uri": "https://localhost:8080/",
          "height": 565
        },
        "id": "ixvjIPkKxR9x",
        "outputId": "ac649b5d-8539-4e6f-e96d-5fa8e64b1d67"
      },
      "execution_count": 7,
      "outputs": [
        {
          "output_type": "execute_result",
          "data": {
            "text/plain": [
              "            nombre_o_titulo_de_la  \\\n",
              "0  INFORMACIÓN MÍNIMA OBLIGATORIA   \n",
              "1  INFORMACIÓN MÍNIMA OBLIGATORIA   \n",
              "2  INFORMACIÓN MÍNIMA OBLIGATORIA   \n",
              "3  INFORMACIÓN MÍNIMA OBLIGATORIA   \n",
              "4  INFORMACIÓN MÍNIMA OBLIGATORIA   \n",
              "\n",
              "                            informaci_n_detallada_el  \\\n",
              "0  Estructura orgánica, funciones y deberes, la u...   \n",
              "1  Estructura orgánica, funciones y deberes, la u...   \n",
              "2  Estructura orgánica, funciones y deberes, la u...   \n",
              "3  Estructura orgánica, funciones y deberes, la u...   \n",
              "4  Estructura orgánica, funciones y deberes, la u...   \n",
              "\n",
              "                                         descripci_n   idioma  \\\n",
              "0           Mecanismos para la atención al ciudadano  Español   \n",
              "1  Formulario electrónico de Peticiones, Solicitu...  Español   \n",
              "2                  Denuncias por actos de corrupción  Español   \n",
              "3  Correo electrónico para notificaciones judiciales  Español   \n",
              "4  Políticas de seguridad de la información del s...  Español   \n",
              "\n",
              "                          responsable_de_la_producci  \\\n",
              "0  Grupo Interno de Trabajo de Grupos de Interés ...   \n",
              "1  Grupo Interno de Trabajo de Grupos de Interés ...   \n",
              "2  Grupo Interno de Trabajo de Control Interno Di...   \n",
              "3                                 Dirección Jurídica   \n",
              "4              Oficial de Seguriad de la Información   \n",
              "\n",
              "                           responsable_de_actualizar  \\\n",
              "0  Oficina Asesora de  Prensa realiza actualizaci...   \n",
              "1  Oficina Asesora de  Prensa realiza actualizaci...   \n",
              "2  Oficina Asesora de  Prensa realiza actualizaci...   \n",
              "3  Oficina Asesora de  Prensa realiza actualizaci...   \n",
              "4  Oficina Asesora de  Prensa realiza actualizaci...   \n",
              "\n",
              "  frecuencia_de_actualizaci medio_de_conservaci_n_y_o      formato  \\\n",
              "0        Cuando se requiera         Medio electrónico  Formato Web   \n",
              "1        Cuando se requiera         Medio electrónico  Formato Web   \n",
              "2        Cuando se requiera         Medio electrónico  Formato Web   \n",
              "3                   Mensual         Medio electrónico  Formato Web   \n",
              "4        Cuando se requiera         Medio electrónico  Formato Web   \n",
              "\n",
              "  fecha_de_generaci_n_de_la lugar_de_consulta  \\\n",
              "0   18 de noviembre de 2013     Transparencia   \n",
              "1   18 de noviembre de 2013     Transparencia   \n",
              "2       15 de abril de 2020     Transparencia   \n",
              "3     20 de febrero de 2014     Transparencia   \n",
              "4      27 de agosto de 2017     Transparencia   \n",
              "\n",
              "                             enlace_sitio_web_mintic  \n",
              "0  {'url': 'https://mintic.gov.co/portal/inicio/A...  \n",
              "1  {'url': 'https://www.mintic.gov.co/portal/inic...  \n",
              "2  {'url': 'https://www.mintic.gov.co/portal/inic...  \n",
              "3  {'url': 'https://www.mintic.gov.co/portal/inic...  \n",
              "4  {'url': 'https://mintic.gov.co/portal/715/w3-a...  "
            ],
            "text/html": [
              "\n",
              "  <div id=\"df-ae9d37d6-1779-4f6c-9a9a-e48653cb2fe3\">\n",
              "    <div class=\"colab-df-container\">\n",
              "      <div>\n",
              "<style scoped>\n",
              "    .dataframe tbody tr th:only-of-type {\n",
              "        vertical-align: middle;\n",
              "    }\n",
              "\n",
              "    .dataframe tbody tr th {\n",
              "        vertical-align: top;\n",
              "    }\n",
              "\n",
              "    .dataframe thead th {\n",
              "        text-align: right;\n",
              "    }\n",
              "</style>\n",
              "<table border=\"1\" class=\"dataframe\">\n",
              "  <thead>\n",
              "    <tr style=\"text-align: right;\">\n",
              "      <th></th>\n",
              "      <th>nombre_o_titulo_de_la</th>\n",
              "      <th>informaci_n_detallada_el</th>\n",
              "      <th>descripci_n</th>\n",
              "      <th>idioma</th>\n",
              "      <th>responsable_de_la_producci</th>\n",
              "      <th>responsable_de_actualizar</th>\n",
              "      <th>frecuencia_de_actualizaci</th>\n",
              "      <th>medio_de_conservaci_n_y_o</th>\n",
              "      <th>formato</th>\n",
              "      <th>fecha_de_generaci_n_de_la</th>\n",
              "      <th>lugar_de_consulta</th>\n",
              "      <th>enlace_sitio_web_mintic</th>\n",
              "    </tr>\n",
              "  </thead>\n",
              "  <tbody>\n",
              "    <tr>\n",
              "      <th>0</th>\n",
              "      <td>INFORMACIÓN MÍNIMA OBLIGATORIA</td>\n",
              "      <td>Estructura orgánica, funciones y deberes, la u...</td>\n",
              "      <td>Mecanismos para la atención al ciudadano</td>\n",
              "      <td>Español</td>\n",
              "      <td>Grupo Interno de Trabajo de Grupos de Interés ...</td>\n",
              "      <td>Oficina Asesora de  Prensa realiza actualizaci...</td>\n",
              "      <td>Cuando se requiera</td>\n",
              "      <td>Medio electrónico</td>\n",
              "      <td>Formato Web</td>\n",
              "      <td>18 de noviembre de 2013</td>\n",
              "      <td>Transparencia</td>\n",
              "      <td>{'url': 'https://mintic.gov.co/portal/inicio/A...</td>\n",
              "    </tr>\n",
              "    <tr>\n",
              "      <th>1</th>\n",
              "      <td>INFORMACIÓN MÍNIMA OBLIGATORIA</td>\n",
              "      <td>Estructura orgánica, funciones y deberes, la u...</td>\n",
              "      <td>Formulario electrónico de Peticiones, Solicitu...</td>\n",
              "      <td>Español</td>\n",
              "      <td>Grupo Interno de Trabajo de Grupos de Interés ...</td>\n",
              "      <td>Oficina Asesora de  Prensa realiza actualizaci...</td>\n",
              "      <td>Cuando se requiera</td>\n",
              "      <td>Medio electrónico</td>\n",
              "      <td>Formato Web</td>\n",
              "      <td>18 de noviembre de 2013</td>\n",
              "      <td>Transparencia</td>\n",
              "      <td>{'url': 'https://www.mintic.gov.co/portal/inic...</td>\n",
              "    </tr>\n",
              "    <tr>\n",
              "      <th>2</th>\n",
              "      <td>INFORMACIÓN MÍNIMA OBLIGATORIA</td>\n",
              "      <td>Estructura orgánica, funciones y deberes, la u...</td>\n",
              "      <td>Denuncias por actos de corrupción</td>\n",
              "      <td>Español</td>\n",
              "      <td>Grupo Interno de Trabajo de Control Interno Di...</td>\n",
              "      <td>Oficina Asesora de  Prensa realiza actualizaci...</td>\n",
              "      <td>Cuando se requiera</td>\n",
              "      <td>Medio electrónico</td>\n",
              "      <td>Formato Web</td>\n",
              "      <td>15 de abril de 2020</td>\n",
              "      <td>Transparencia</td>\n",
              "      <td>{'url': 'https://www.mintic.gov.co/portal/inic...</td>\n",
              "    </tr>\n",
              "    <tr>\n",
              "      <th>3</th>\n",
              "      <td>INFORMACIÓN MÍNIMA OBLIGATORIA</td>\n",
              "      <td>Estructura orgánica, funciones y deberes, la u...</td>\n",
              "      <td>Correo electrónico para notificaciones judiciales</td>\n",
              "      <td>Español</td>\n",
              "      <td>Dirección Jurídica</td>\n",
              "      <td>Oficina Asesora de  Prensa realiza actualizaci...</td>\n",
              "      <td>Mensual</td>\n",
              "      <td>Medio electrónico</td>\n",
              "      <td>Formato Web</td>\n",
              "      <td>20 de febrero de 2014</td>\n",
              "      <td>Transparencia</td>\n",
              "      <td>{'url': 'https://www.mintic.gov.co/portal/inic...</td>\n",
              "    </tr>\n",
              "    <tr>\n",
              "      <th>4</th>\n",
              "      <td>INFORMACIÓN MÍNIMA OBLIGATORIA</td>\n",
              "      <td>Estructura orgánica, funciones y deberes, la u...</td>\n",
              "      <td>Políticas de seguridad de la información del s...</td>\n",
              "      <td>Español</td>\n",
              "      <td>Oficial de Seguriad de la Información</td>\n",
              "      <td>Oficina Asesora de  Prensa realiza actualizaci...</td>\n",
              "      <td>Cuando se requiera</td>\n",
              "      <td>Medio electrónico</td>\n",
              "      <td>Formato Web</td>\n",
              "      <td>27 de agosto de 2017</td>\n",
              "      <td>Transparencia</td>\n",
              "      <td>{'url': 'https://mintic.gov.co/portal/715/w3-a...</td>\n",
              "    </tr>\n",
              "  </tbody>\n",
              "</table>\n",
              "</div>\n",
              "      <button class=\"colab-df-convert\" onclick=\"convertToInteractive('df-ae9d37d6-1779-4f6c-9a9a-e48653cb2fe3')\"\n",
              "              title=\"Convert this dataframe to an interactive table.\"\n",
              "              style=\"display:none;\">\n",
              "        \n",
              "  <svg xmlns=\"http://www.w3.org/2000/svg\" height=\"24px\"viewBox=\"0 0 24 24\"\n",
              "       width=\"24px\">\n",
              "    <path d=\"M0 0h24v24H0V0z\" fill=\"none\"/>\n",
              "    <path d=\"M18.56 5.44l.94 2.06.94-2.06 2.06-.94-2.06-.94-.94-2.06-.94 2.06-2.06.94zm-11 1L8.5 8.5l.94-2.06 2.06-.94-2.06-.94L8.5 2.5l-.94 2.06-2.06.94zm10 10l.94 2.06.94-2.06 2.06-.94-2.06-.94-.94-2.06-.94 2.06-2.06.94z\"/><path d=\"M17.41 7.96l-1.37-1.37c-.4-.4-.92-.59-1.43-.59-.52 0-1.04.2-1.43.59L10.3 9.45l-7.72 7.72c-.78.78-.78 2.05 0 2.83L4 21.41c.39.39.9.59 1.41.59.51 0 1.02-.2 1.41-.59l7.78-7.78 2.81-2.81c.8-.78.8-2.07 0-2.86zM5.41 20L4 18.59l7.72-7.72 1.47 1.35L5.41 20z\"/>\n",
              "  </svg>\n",
              "      </button>\n",
              "      \n",
              "  <style>\n",
              "    .colab-df-container {\n",
              "      display:flex;\n",
              "      flex-wrap:wrap;\n",
              "      gap: 12px;\n",
              "    }\n",
              "\n",
              "    .colab-df-convert {\n",
              "      background-color: #E8F0FE;\n",
              "      border: none;\n",
              "      border-radius: 50%;\n",
              "      cursor: pointer;\n",
              "      display: none;\n",
              "      fill: #1967D2;\n",
              "      height: 32px;\n",
              "      padding: 0 0 0 0;\n",
              "      width: 32px;\n",
              "    }\n",
              "\n",
              "    .colab-df-convert:hover {\n",
              "      background-color: #E2EBFA;\n",
              "      box-shadow: 0px 1px 2px rgba(60, 64, 67, 0.3), 0px 1px 3px 1px rgba(60, 64, 67, 0.15);\n",
              "      fill: #174EA6;\n",
              "    }\n",
              "\n",
              "    [theme=dark] .colab-df-convert {\n",
              "      background-color: #3B4455;\n",
              "      fill: #D2E3FC;\n",
              "    }\n",
              "\n",
              "    [theme=dark] .colab-df-convert:hover {\n",
              "      background-color: #434B5C;\n",
              "      box-shadow: 0px 1px 3px 1px rgba(0, 0, 0, 0.15);\n",
              "      filter: drop-shadow(0px 1px 2px rgba(0, 0, 0, 0.3));\n",
              "      fill: #FFFFFF;\n",
              "    }\n",
              "  </style>\n",
              "\n",
              "      <script>\n",
              "        const buttonEl =\n",
              "          document.querySelector('#df-ae9d37d6-1779-4f6c-9a9a-e48653cb2fe3 button.colab-df-convert');\n",
              "        buttonEl.style.display =\n",
              "          google.colab.kernel.accessAllowed ? 'block' : 'none';\n",
              "\n",
              "        async function convertToInteractive(key) {\n",
              "          const element = document.querySelector('#df-ae9d37d6-1779-4f6c-9a9a-e48653cb2fe3');\n",
              "          const dataTable =\n",
              "            await google.colab.kernel.invokeFunction('convertToInteractive',\n",
              "                                                     [key], {});\n",
              "          if (!dataTable) return;\n",
              "\n",
              "          const docLinkHtml = 'Like what you see? Visit the ' +\n",
              "            '<a target=\"_blank\" href=https://colab.research.google.com/notebooks/data_table.ipynb>data table notebook</a>'\n",
              "            + ' to learn more about interactive tables.';\n",
              "          element.innerHTML = '';\n",
              "          dataTable['output_type'] = 'display_data';\n",
              "          await google.colab.output.renderOutput(dataTable, element);\n",
              "          const docLink = document.createElement('div');\n",
              "          docLink.innerHTML = docLinkHtml;\n",
              "          element.appendChild(docLink);\n",
              "        }\n",
              "      </script>\n",
              "    </div>\n",
              "  </div>\n",
              "  "
            ]
          },
          "metadata": {},
          "execution_count": 7
        }
      ]
    },
    {
      "cell_type": "code",
      "source": [
        "data.isnull().sum()"
      ],
      "metadata": {
        "colab": {
          "base_uri": "https://localhost:8080/"
        },
        "id": "0UGby65dxZ9M",
        "outputId": "db6bced6-3839-439a-9c3d-74afc8051eb8"
      },
      "execution_count": 8,
      "outputs": [
        {
          "output_type": "execute_result",
          "data": {
            "text/plain": [
              "nombre_o_titulo_de_la         21\n",
              "informaci_n_detallada_el      58\n",
              "descripci_n                   10\n",
              "idioma                        10\n",
              "responsable_de_la_producci    11\n",
              "responsable_de_actualizar     10\n",
              "frecuencia_de_actualizaci     10\n",
              "medio_de_conservaci_n_y_o     10\n",
              "formato                       10\n",
              "fecha_de_generaci_n_de_la     10\n",
              "lugar_de_consulta             10\n",
              "enlace_sitio_web_mintic       10\n",
              "dtype: int64"
            ]
          },
          "metadata": {},
          "execution_count": 8
        }
      ]
    },
    {
      "cell_type": "code",
      "source": [
        "data.shape"
      ],
      "metadata": {
        "colab": {
          "base_uri": "https://localhost:8080/"
        },
        "id": "ImODP1if074H",
        "outputId": "aff618e8-682c-4963-e192-6a66dcc94684"
      },
      "execution_count": 9,
      "outputs": [
        {
          "output_type": "execute_result",
          "data": {
            "text/plain": [
              "(168, 12)"
            ]
          },
          "metadata": {},
          "execution_count": 9
        }
      ]
    },
    {
      "cell_type": "code",
      "source": [
        "data = data.dropna()"
      ],
      "metadata": {
        "id": "3cEAZ-mtxiG8"
      },
      "execution_count": 10,
      "outputs": []
    },
    {
      "cell_type": "code",
      "source": [
        "data.isnull().sum()"
      ],
      "metadata": {
        "colab": {
          "base_uri": "https://localhost:8080/"
        },
        "id": "GyKdPO5X0-LQ",
        "outputId": "d1b0a89c-3115-4c01-c573-8f300bed7273"
      },
      "execution_count": 12,
      "outputs": [
        {
          "output_type": "execute_result",
          "data": {
            "text/plain": [
              "nombre_o_titulo_de_la         0\n",
              "informaci_n_detallada_el      0\n",
              "descripci_n                   0\n",
              "idioma                        0\n",
              "responsable_de_la_producci    0\n",
              "responsable_de_actualizar     0\n",
              "frecuencia_de_actualizaci     0\n",
              "medio_de_conservaci_n_y_o     0\n",
              "formato                       0\n",
              "fecha_de_generaci_n_de_la     0\n",
              "lugar_de_consulta             0\n",
              "enlace_sitio_web_mintic       0\n",
              "dtype: int64"
            ]
          },
          "metadata": {},
          "execution_count": 12
        }
      ]
    },
    {
      "cell_type": "code",
      "source": [
        "data.info()"
      ],
      "metadata": {
        "colab": {
          "base_uri": "https://localhost:8080/"
        },
        "id": "vOUnKXwd0_WC",
        "outputId": "fe50abd6-0ba4-41d0-a8e9-290128dad1c9"
      },
      "execution_count": 13,
      "outputs": [
        {
          "output_type": "stream",
          "name": "stdout",
          "text": [
            "<class 'pandas.core.frame.DataFrame'>\n",
            "Int64Index: 109 entries, 0 to 167\n",
            "Data columns (total 12 columns):\n",
            " #   Column                      Non-Null Count  Dtype \n",
            "---  ------                      --------------  ----- \n",
            " 0   nombre_o_titulo_de_la       109 non-null    object\n",
            " 1   informaci_n_detallada_el    109 non-null    object\n",
            " 2   descripci_n                 109 non-null    object\n",
            " 3   idioma                      109 non-null    object\n",
            " 4   responsable_de_la_producci  109 non-null    object\n",
            " 5   responsable_de_actualizar   109 non-null    object\n",
            " 6   frecuencia_de_actualizaci   109 non-null    object\n",
            " 7   medio_de_conservaci_n_y_o   109 non-null    object\n",
            " 8   formato                     109 non-null    object\n",
            " 9   fecha_de_generaci_n_de_la   109 non-null    object\n",
            " 10  lugar_de_consulta           109 non-null    object\n",
            " 11  enlace_sitio_web_mintic     109 non-null    object\n",
            "dtypes: object(12)\n",
            "memory usage: 11.1+ KB\n"
          ]
        }
      ]
    },
    {
      "cell_type": "code",
      "source": [
        "data.groupby('fecha_de_generaci_n_de_la')['idioma'].count().sort_values(ascending=False)"
      ],
      "metadata": {
        "id": "vgik3Cun1Fps"
      },
      "execution_count": null,
      "outputs": []
    },
    {
      "cell_type": "code",
      "source": [
        "pd.pivot_table(data, values='idioma', index='responsable_de_actualizar',columns='frecuencia_de_actualizaci', aggfunc='count', fill_value=0)"
      ],
      "metadata": {
        "colab": {
          "base_uri": "https://localhost:8080/",
          "height": 279
        },
        "id": "pWtbKQotBESA",
        "outputId": "37913e4e-636e-4b8a-aa31-1d5bbfbe6994"
      },
      "execution_count": 29,
      "outputs": [
        {
          "output_type": "execute_result",
          "data": {
            "text/plain": [
              "frecuencia_de_actualizaci                           Anual  Cuando se requiera  \\\n",
              "responsable_de_actualizar                                                       \n",
              "Dirección Jurídica                                      0                   3   \n",
              "Oficina Asesora de  Prensa realiza actualizació...      0                   2   \n",
              "Oficina Asesora de  Prensa realiza actualizació...      1                  78   \n",
              "Oficina Asesora de Prensa                               0                   1   \n",
              "Oficina de Tecnología de la Información de las ...      0                   2   \n",
              "Oficina de Tecnologías de la Información de las...      0                   3   \n",
              "Oficina de Tecnologías de la Información de las...      4                   0   \n",
              "Oficina de Tecnologías de la información y las ...      0                   3   \n",
              "\n",
              "frecuencia_de_actualizaci                           Mensual  Trimestral  \n",
              "responsable_de_actualizar                                                \n",
              "Dirección Jurídica                                        0           1  \n",
              "Oficina Asesora de  Prensa realiza actualizació...        0           0  \n",
              "Oficina Asesora de  Prensa realiza actualizació...       11           0  \n",
              "Oficina Asesora de Prensa                                 0           0  \n",
              "Oficina de Tecnología de la Información de las ...        0           0  \n",
              "Oficina de Tecnologías de la Información de las...        0           0  \n",
              "Oficina de Tecnologías de la Información de las...        0           0  \n",
              "Oficina de Tecnologías de la información y las ...        0           0  "
            ],
            "text/html": [
              "\n",
              "  <div id=\"df-cc3a69c6-dd69-4285-8493-25b4d73a364f\">\n",
              "    <div class=\"colab-df-container\">\n",
              "      <div>\n",
              "<style scoped>\n",
              "    .dataframe tbody tr th:only-of-type {\n",
              "        vertical-align: middle;\n",
              "    }\n",
              "\n",
              "    .dataframe tbody tr th {\n",
              "        vertical-align: top;\n",
              "    }\n",
              "\n",
              "    .dataframe thead th {\n",
              "        text-align: right;\n",
              "    }\n",
              "</style>\n",
              "<table border=\"1\" class=\"dataframe\">\n",
              "  <thead>\n",
              "    <tr style=\"text-align: right;\">\n",
              "      <th>frecuencia_de_actualizaci</th>\n",
              "      <th>Anual</th>\n",
              "      <th>Cuando se requiera</th>\n",
              "      <th>Mensual</th>\n",
              "      <th>Trimestral</th>\n",
              "    </tr>\n",
              "    <tr>\n",
              "      <th>responsable_de_actualizar</th>\n",
              "      <th></th>\n",
              "      <th></th>\n",
              "      <th></th>\n",
              "      <th></th>\n",
              "    </tr>\n",
              "  </thead>\n",
              "  <tbody>\n",
              "    <tr>\n",
              "      <th>Dirección Jurídica</th>\n",
              "      <td>0</td>\n",
              "      <td>3</td>\n",
              "      <td>0</td>\n",
              "      <td>1</td>\n",
              "    </tr>\n",
              "    <tr>\n",
              "      <th>Oficina Asesora de  Prensa realiza actualización web  en conjunto con área responsable</th>\n",
              "      <td>0</td>\n",
              "      <td>2</td>\n",
              "      <td>0</td>\n",
              "      <td>0</td>\n",
              "    </tr>\n",
              "    <tr>\n",
              "      <th>Oficina Asesora de  Prensa realiza actualización web en conjunto con área responsable</th>\n",
              "      <td>1</td>\n",
              "      <td>78</td>\n",
              "      <td>11</td>\n",
              "      <td>0</td>\n",
              "    </tr>\n",
              "    <tr>\n",
              "      <th>Oficina Asesora de Prensa</th>\n",
              "      <td>0</td>\n",
              "      <td>1</td>\n",
              "      <td>0</td>\n",
              "      <td>0</td>\n",
              "    </tr>\n",
              "    <tr>\n",
              "      <th>Oficina de Tecnología de la Información de las Comunicaciones</th>\n",
              "      <td>0</td>\n",
              "      <td>2</td>\n",
              "      <td>0</td>\n",
              "      <td>0</td>\n",
              "    </tr>\n",
              "    <tr>\n",
              "      <th>Oficina de Tecnologías de la Información de las Comunicaciones</th>\n",
              "      <td>0</td>\n",
              "      <td>3</td>\n",
              "      <td>0</td>\n",
              "      <td>0</td>\n",
              "    </tr>\n",
              "    <tr>\n",
              "      <th>Oficina de Tecnologías de la Información de las Comunicaciones /Oficina Asesora de Prensa</th>\n",
              "      <td>4</td>\n",
              "      <td>0</td>\n",
              "      <td>0</td>\n",
              "      <td>0</td>\n",
              "    </tr>\n",
              "    <tr>\n",
              "      <th>Oficina de Tecnologías de la información y las comunicaciones</th>\n",
              "      <td>0</td>\n",
              "      <td>3</td>\n",
              "      <td>0</td>\n",
              "      <td>0</td>\n",
              "    </tr>\n",
              "  </tbody>\n",
              "</table>\n",
              "</div>\n",
              "      <button class=\"colab-df-convert\" onclick=\"convertToInteractive('df-cc3a69c6-dd69-4285-8493-25b4d73a364f')\"\n",
              "              title=\"Convert this dataframe to an interactive table.\"\n",
              "              style=\"display:none;\">\n",
              "        \n",
              "  <svg xmlns=\"http://www.w3.org/2000/svg\" height=\"24px\"viewBox=\"0 0 24 24\"\n",
              "       width=\"24px\">\n",
              "    <path d=\"M0 0h24v24H0V0z\" fill=\"none\"/>\n",
              "    <path d=\"M18.56 5.44l.94 2.06.94-2.06 2.06-.94-2.06-.94-.94-2.06-.94 2.06-2.06.94zm-11 1L8.5 8.5l.94-2.06 2.06-.94-2.06-.94L8.5 2.5l-.94 2.06-2.06.94zm10 10l.94 2.06.94-2.06 2.06-.94-2.06-.94-.94-2.06-.94 2.06-2.06.94z\"/><path d=\"M17.41 7.96l-1.37-1.37c-.4-.4-.92-.59-1.43-.59-.52 0-1.04.2-1.43.59L10.3 9.45l-7.72 7.72c-.78.78-.78 2.05 0 2.83L4 21.41c.39.39.9.59 1.41.59.51 0 1.02-.2 1.41-.59l7.78-7.78 2.81-2.81c.8-.78.8-2.07 0-2.86zM5.41 20L4 18.59l7.72-7.72 1.47 1.35L5.41 20z\"/>\n",
              "  </svg>\n",
              "      </button>\n",
              "      \n",
              "  <style>\n",
              "    .colab-df-container {\n",
              "      display:flex;\n",
              "      flex-wrap:wrap;\n",
              "      gap: 12px;\n",
              "    }\n",
              "\n",
              "    .colab-df-convert {\n",
              "      background-color: #E8F0FE;\n",
              "      border: none;\n",
              "      border-radius: 50%;\n",
              "      cursor: pointer;\n",
              "      display: none;\n",
              "      fill: #1967D2;\n",
              "      height: 32px;\n",
              "      padding: 0 0 0 0;\n",
              "      width: 32px;\n",
              "    }\n",
              "\n",
              "    .colab-df-convert:hover {\n",
              "      background-color: #E2EBFA;\n",
              "      box-shadow: 0px 1px 2px rgba(60, 64, 67, 0.3), 0px 1px 3px 1px rgba(60, 64, 67, 0.15);\n",
              "      fill: #174EA6;\n",
              "    }\n",
              "\n",
              "    [theme=dark] .colab-df-convert {\n",
              "      background-color: #3B4455;\n",
              "      fill: #D2E3FC;\n",
              "    }\n",
              "\n",
              "    [theme=dark] .colab-df-convert:hover {\n",
              "      background-color: #434B5C;\n",
              "      box-shadow: 0px 1px 3px 1px rgba(0, 0, 0, 0.15);\n",
              "      filter: drop-shadow(0px 1px 2px rgba(0, 0, 0, 0.3));\n",
              "      fill: #FFFFFF;\n",
              "    }\n",
              "  </style>\n",
              "\n",
              "      <script>\n",
              "        const buttonEl =\n",
              "          document.querySelector('#df-cc3a69c6-dd69-4285-8493-25b4d73a364f button.colab-df-convert');\n",
              "        buttonEl.style.display =\n",
              "          google.colab.kernel.accessAllowed ? 'block' : 'none';\n",
              "\n",
              "        async function convertToInteractive(key) {\n",
              "          const element = document.querySelector('#df-cc3a69c6-dd69-4285-8493-25b4d73a364f');\n",
              "          const dataTable =\n",
              "            await google.colab.kernel.invokeFunction('convertToInteractive',\n",
              "                                                     [key], {});\n",
              "          if (!dataTable) return;\n",
              "\n",
              "          const docLinkHtml = 'Like what you see? Visit the ' +\n",
              "            '<a target=\"_blank\" href=https://colab.research.google.com/notebooks/data_table.ipynb>data table notebook</a>'\n",
              "            + ' to learn more about interactive tables.';\n",
              "          element.innerHTML = '';\n",
              "          dataTable['output_type'] = 'display_data';\n",
              "          await google.colab.output.renderOutput(dataTable, element);\n",
              "          const docLink = document.createElement('div');\n",
              "          docLink.innerHTML = docLinkHtml;\n",
              "          element.appendChild(docLink);\n",
              "        }\n",
              "      </script>\n",
              "    </div>\n",
              "  </div>\n",
              "  "
            ]
          },
          "metadata": {},
          "execution_count": 29
        }
      ]
    },
    {
      "cell_type": "code",
      "source": [
        "pd.pivot_table(data, values='idioma', index='medio_de_conservaci_n_y_o', columns='formato', aggfunc='count')"
      ],
      "metadata": {
        "colab": {
          "base_uri": "https://localhost:8080/",
          "height": 112
        },
        "id": "9MsFObnxCyMT",
        "outputId": "64990769-5f3f-484e-c3dc-86d510e5dbdb"
      },
      "execution_count": 31,
      "outputs": [
        {
          "output_type": "execute_result",
          "data": {
            "text/plain": [
              "formato                    Formato Web\n",
              "medio_de_conservaci_n_y_o             \n",
              "Medio electrónico                  109"
            ],
            "text/html": [
              "\n",
              "  <div id=\"df-d67ec321-d06e-40e9-b32d-fb0ae593ea9d\">\n",
              "    <div class=\"colab-df-container\">\n",
              "      <div>\n",
              "<style scoped>\n",
              "    .dataframe tbody tr th:only-of-type {\n",
              "        vertical-align: middle;\n",
              "    }\n",
              "\n",
              "    .dataframe tbody tr th {\n",
              "        vertical-align: top;\n",
              "    }\n",
              "\n",
              "    .dataframe thead th {\n",
              "        text-align: right;\n",
              "    }\n",
              "</style>\n",
              "<table border=\"1\" class=\"dataframe\">\n",
              "  <thead>\n",
              "    <tr style=\"text-align: right;\">\n",
              "      <th>formato</th>\n",
              "      <th>Formato Web</th>\n",
              "    </tr>\n",
              "    <tr>\n",
              "      <th>medio_de_conservaci_n_y_o</th>\n",
              "      <th></th>\n",
              "    </tr>\n",
              "  </thead>\n",
              "  <tbody>\n",
              "    <tr>\n",
              "      <th>Medio electrónico</th>\n",
              "      <td>109</td>\n",
              "    </tr>\n",
              "  </tbody>\n",
              "</table>\n",
              "</div>\n",
              "      <button class=\"colab-df-convert\" onclick=\"convertToInteractive('df-d67ec321-d06e-40e9-b32d-fb0ae593ea9d')\"\n",
              "              title=\"Convert this dataframe to an interactive table.\"\n",
              "              style=\"display:none;\">\n",
              "        \n",
              "  <svg xmlns=\"http://www.w3.org/2000/svg\" height=\"24px\"viewBox=\"0 0 24 24\"\n",
              "       width=\"24px\">\n",
              "    <path d=\"M0 0h24v24H0V0z\" fill=\"none\"/>\n",
              "    <path d=\"M18.56 5.44l.94 2.06.94-2.06 2.06-.94-2.06-.94-.94-2.06-.94 2.06-2.06.94zm-11 1L8.5 8.5l.94-2.06 2.06-.94-2.06-.94L8.5 2.5l-.94 2.06-2.06.94zm10 10l.94 2.06.94-2.06 2.06-.94-2.06-.94-.94-2.06-.94 2.06-2.06.94z\"/><path d=\"M17.41 7.96l-1.37-1.37c-.4-.4-.92-.59-1.43-.59-.52 0-1.04.2-1.43.59L10.3 9.45l-7.72 7.72c-.78.78-.78 2.05 0 2.83L4 21.41c.39.39.9.59 1.41.59.51 0 1.02-.2 1.41-.59l7.78-7.78 2.81-2.81c.8-.78.8-2.07 0-2.86zM5.41 20L4 18.59l7.72-7.72 1.47 1.35L5.41 20z\"/>\n",
              "  </svg>\n",
              "      </button>\n",
              "      \n",
              "  <style>\n",
              "    .colab-df-container {\n",
              "      display:flex;\n",
              "      flex-wrap:wrap;\n",
              "      gap: 12px;\n",
              "    }\n",
              "\n",
              "    .colab-df-convert {\n",
              "      background-color: #E8F0FE;\n",
              "      border: none;\n",
              "      border-radius: 50%;\n",
              "      cursor: pointer;\n",
              "      display: none;\n",
              "      fill: #1967D2;\n",
              "      height: 32px;\n",
              "      padding: 0 0 0 0;\n",
              "      width: 32px;\n",
              "    }\n",
              "\n",
              "    .colab-df-convert:hover {\n",
              "      background-color: #E2EBFA;\n",
              "      box-shadow: 0px 1px 2px rgba(60, 64, 67, 0.3), 0px 1px 3px 1px rgba(60, 64, 67, 0.15);\n",
              "      fill: #174EA6;\n",
              "    }\n",
              "\n",
              "    [theme=dark] .colab-df-convert {\n",
              "      background-color: #3B4455;\n",
              "      fill: #D2E3FC;\n",
              "    }\n",
              "\n",
              "    [theme=dark] .colab-df-convert:hover {\n",
              "      background-color: #434B5C;\n",
              "      box-shadow: 0px 1px 3px 1px rgba(0, 0, 0, 0.15);\n",
              "      filter: drop-shadow(0px 1px 2px rgba(0, 0, 0, 0.3));\n",
              "      fill: #FFFFFF;\n",
              "    }\n",
              "  </style>\n",
              "\n",
              "      <script>\n",
              "        const buttonEl =\n",
              "          document.querySelector('#df-d67ec321-d06e-40e9-b32d-fb0ae593ea9d button.colab-df-convert');\n",
              "        buttonEl.style.display =\n",
              "          google.colab.kernel.accessAllowed ? 'block' : 'none';\n",
              "\n",
              "        async function convertToInteractive(key) {\n",
              "          const element = document.querySelector('#df-d67ec321-d06e-40e9-b32d-fb0ae593ea9d');\n",
              "          const dataTable =\n",
              "            await google.colab.kernel.invokeFunction('convertToInteractive',\n",
              "                                                     [key], {});\n",
              "          if (!dataTable) return;\n",
              "\n",
              "          const docLinkHtml = 'Like what you see? Visit the ' +\n",
              "            '<a target=\"_blank\" href=https://colab.research.google.com/notebooks/data_table.ipynb>data table notebook</a>'\n",
              "            + ' to learn more about interactive tables.';\n",
              "          element.innerHTML = '';\n",
              "          dataTable['output_type'] = 'display_data';\n",
              "          await google.colab.output.renderOutput(dataTable, element);\n",
              "          const docLink = document.createElement('div');\n",
              "          docLink.innerHTML = docLinkHtml;\n",
              "          element.appendChild(docLink);\n",
              "        }\n",
              "      </script>\n",
              "    </div>\n",
              "  </div>\n",
              "  "
            ]
          },
          "metadata": {},
          "execution_count": 31
        }
      ]
    },
    {
      "cell_type": "code",
      "source": [
        "data['nombre_o_titulo_de_la'].unique()"
      ],
      "metadata": {
        "colab": {
          "base_uri": "https://localhost:8080/"
        },
        "id": "UhDJEQHmHKN7",
        "outputId": "b5d1e069-51b1-430f-b192-f3349a27f472"
      },
      "execution_count": 32,
      "outputs": [
        {
          "output_type": "execute_result",
          "data": {
            "text/plain": [
              "array(['INFORMACIÓN MÍNIMA OBLIGATORIA', 'INFORMACIÓN DE LA ENTIDAD',\n",
              "       'NORMATIVA', 'CONTRATACIÓN', 'PLANEACIÓN, PRESUPUESTO E INFORMES',\n",
              "       'TRÁMITES', 'PARTICIPA', 'DATOS ABIERTOS',\n",
              "       'INFORMACIÓN ESPECÍFICA A GRUPOS DE INTERÉS',\n",
              "       'OBLIGACIÓN DE REPORTE DE INFORMACIÓN', 'PÁGINA WEB MINTIC'],\n",
              "      dtype=object)"
            ]
          },
          "metadata": {},
          "execution_count": 32
        }
      ]
    },
    {
      "cell_type": "code",
      "source": [
        "px.sunburst(data, path=['nombre_o_titulo_de_la'] )"
      ],
      "metadata": {
        "colab": {
          "base_uri": "https://localhost:8080/",
          "height": 542
        },
        "id": "WiLXMB-cHscN",
        "outputId": "afabdbe6-38fc-4611-fac0-3053db65e99f"
      },
      "execution_count": 41,
      "outputs": [
        {
          "output_type": "display_data",
          "data": {
            "text/html": [
              "<html>\n",
              "<head><meta charset=\"utf-8\" /></head>\n",
              "<body>\n",
              "    <div>            <script src=\"https://cdnjs.cloudflare.com/ajax/libs/mathjax/2.7.5/MathJax.js?config=TeX-AMS-MML_SVG\"></script><script type=\"text/javascript\">if (window.MathJax) {MathJax.Hub.Config({SVG: {font: \"STIX-Web\"}});}</script>                <script type=\"text/javascript\">window.PlotlyConfig = {MathJaxConfig: 'local'};</script>\n",
              "        <script src=\"https://cdn.plot.ly/plotly-2.8.3.min.js\"></script>                <div id=\"afdd35db-4757-46c0-8588-6afa684f51c1\" class=\"plotly-graph-div\" style=\"height:525px; width:100%;\"></div>            <script type=\"text/javascript\">                                    window.PLOTLYENV=window.PLOTLYENV || {};                                    if (document.getElementById(\"afdd35db-4757-46c0-8588-6afa684f51c1\")) {                    Plotly.newPlot(                        \"afdd35db-4757-46c0-8588-6afa684f51c1\",                        [{\"branchvalues\":\"total\",\"domain\":{\"x\":[0.0,1.0],\"y\":[0.0,1.0]},\"hovertemplate\":\"labels=%{label}<br>count=%{value}<br>parent=%{parent}<br>id=%{id}<extra></extra>\",\"ids\":[\"CONTRATACI\\u00d3N\",\"DATOS ABIERTOS\",\"INFORMACI\\u00d3N DE LA ENTIDAD\",\"INFORMACI\\u00d3N ESPEC\\u00cdFICA A GRUPOS DE INTER\\u00c9S\",\"INFORMACI\\u00d3N M\\u00cdNIMA OBLIGATORIA\",\"NORMATIVA\",\"OBLIGACI\\u00d3N DE REPORTE DE INFORMACI\\u00d3N\",\"PARTICIPA\",\"PLANEACI\\u00d3N, PRESUPUESTO E INFORMES\",\"P\\u00c1GINA WEB MINTIC\",\"TR\\u00c1MITES\"],\"labels\":[\"CONTRATACI\\u00d3N\",\"DATOS ABIERTOS\",\"INFORMACI\\u00d3N DE LA ENTIDAD\",\"INFORMACI\\u00d3N ESPEC\\u00cdFICA A GRUPOS DE INTER\\u00c9S\",\"INFORMACI\\u00d3N M\\u00cdNIMA OBLIGATORIA\",\"NORMATIVA\",\"OBLIGACI\\u00d3N DE REPORTE DE INFORMACI\\u00d3N\",\"PARTICIPA\",\"PLANEACI\\u00d3N, PRESUPUESTO E INFORMES\",\"P\\u00c1GINA WEB MINTIC\",\"TR\\u00c1MITES\"],\"name\":\"\",\"parents\":[\"\",\"\",\"\",\"\",\"\",\"\",\"\",\"\",\"\",\"\",\"\"],\"values\":[5,3,18,4,43,3,6,6,9,9,3],\"type\":\"sunburst\"}],                        {\"template\":{\"data\":{\"bar\":[{\"error_x\":{\"color\":\"#2a3f5f\"},\"error_y\":{\"color\":\"#2a3f5f\"},\"marker\":{\"line\":{\"color\":\"#E5ECF6\",\"width\":0.5},\"pattern\":{\"fillmode\":\"overlay\",\"size\":10,\"solidity\":0.2}},\"type\":\"bar\"}],\"barpolar\":[{\"marker\":{\"line\":{\"color\":\"#E5ECF6\",\"width\":0.5},\"pattern\":{\"fillmode\":\"overlay\",\"size\":10,\"solidity\":0.2}},\"type\":\"barpolar\"}],\"carpet\":[{\"aaxis\":{\"endlinecolor\":\"#2a3f5f\",\"gridcolor\":\"white\",\"linecolor\":\"white\",\"minorgridcolor\":\"white\",\"startlinecolor\":\"#2a3f5f\"},\"baxis\":{\"endlinecolor\":\"#2a3f5f\",\"gridcolor\":\"white\",\"linecolor\":\"white\",\"minorgridcolor\":\"white\",\"startlinecolor\":\"#2a3f5f\"},\"type\":\"carpet\"}],\"choropleth\":[{\"colorbar\":{\"outlinewidth\":0,\"ticks\":\"\"},\"type\":\"choropleth\"}],\"contour\":[{\"colorbar\":{\"outlinewidth\":0,\"ticks\":\"\"},\"colorscale\":[[0.0,\"#0d0887\"],[0.1111111111111111,\"#46039f\"],[0.2222222222222222,\"#7201a8\"],[0.3333333333333333,\"#9c179e\"],[0.4444444444444444,\"#bd3786\"],[0.5555555555555556,\"#d8576b\"],[0.6666666666666666,\"#ed7953\"],[0.7777777777777778,\"#fb9f3a\"],[0.8888888888888888,\"#fdca26\"],[1.0,\"#f0f921\"]],\"type\":\"contour\"}],\"contourcarpet\":[{\"colorbar\":{\"outlinewidth\":0,\"ticks\":\"\"},\"type\":\"contourcarpet\"}],\"heatmap\":[{\"colorbar\":{\"outlinewidth\":0,\"ticks\":\"\"},\"colorscale\":[[0.0,\"#0d0887\"],[0.1111111111111111,\"#46039f\"],[0.2222222222222222,\"#7201a8\"],[0.3333333333333333,\"#9c179e\"],[0.4444444444444444,\"#bd3786\"],[0.5555555555555556,\"#d8576b\"],[0.6666666666666666,\"#ed7953\"],[0.7777777777777778,\"#fb9f3a\"],[0.8888888888888888,\"#fdca26\"],[1.0,\"#f0f921\"]],\"type\":\"heatmap\"}],\"heatmapgl\":[{\"colorbar\":{\"outlinewidth\":0,\"ticks\":\"\"},\"colorscale\":[[0.0,\"#0d0887\"],[0.1111111111111111,\"#46039f\"],[0.2222222222222222,\"#7201a8\"],[0.3333333333333333,\"#9c179e\"],[0.4444444444444444,\"#bd3786\"],[0.5555555555555556,\"#d8576b\"],[0.6666666666666666,\"#ed7953\"],[0.7777777777777778,\"#fb9f3a\"],[0.8888888888888888,\"#fdca26\"],[1.0,\"#f0f921\"]],\"type\":\"heatmapgl\"}],\"histogram\":[{\"marker\":{\"pattern\":{\"fillmode\":\"overlay\",\"size\":10,\"solidity\":0.2}},\"type\":\"histogram\"}],\"histogram2d\":[{\"colorbar\":{\"outlinewidth\":0,\"ticks\":\"\"},\"colorscale\":[[0.0,\"#0d0887\"],[0.1111111111111111,\"#46039f\"],[0.2222222222222222,\"#7201a8\"],[0.3333333333333333,\"#9c179e\"],[0.4444444444444444,\"#bd3786\"],[0.5555555555555556,\"#d8576b\"],[0.6666666666666666,\"#ed7953\"],[0.7777777777777778,\"#fb9f3a\"],[0.8888888888888888,\"#fdca26\"],[1.0,\"#f0f921\"]],\"type\":\"histogram2d\"}],\"histogram2dcontour\":[{\"colorbar\":{\"outlinewidth\":0,\"ticks\":\"\"},\"colorscale\":[[0.0,\"#0d0887\"],[0.1111111111111111,\"#46039f\"],[0.2222222222222222,\"#7201a8\"],[0.3333333333333333,\"#9c179e\"],[0.4444444444444444,\"#bd3786\"],[0.5555555555555556,\"#d8576b\"],[0.6666666666666666,\"#ed7953\"],[0.7777777777777778,\"#fb9f3a\"],[0.8888888888888888,\"#fdca26\"],[1.0,\"#f0f921\"]],\"type\":\"histogram2dcontour\"}],\"mesh3d\":[{\"colorbar\":{\"outlinewidth\":0,\"ticks\":\"\"},\"type\":\"mesh3d\"}],\"parcoords\":[{\"line\":{\"colorbar\":{\"outlinewidth\":0,\"ticks\":\"\"}},\"type\":\"parcoords\"}],\"pie\":[{\"automargin\":true,\"type\":\"pie\"}],\"scatter\":[{\"marker\":{\"colorbar\":{\"outlinewidth\":0,\"ticks\":\"\"}},\"type\":\"scatter\"}],\"scatter3d\":[{\"line\":{\"colorbar\":{\"outlinewidth\":0,\"ticks\":\"\"}},\"marker\":{\"colorbar\":{\"outlinewidth\":0,\"ticks\":\"\"}},\"type\":\"scatter3d\"}],\"scattercarpet\":[{\"marker\":{\"colorbar\":{\"outlinewidth\":0,\"ticks\":\"\"}},\"type\":\"scattercarpet\"}],\"scattergeo\":[{\"marker\":{\"colorbar\":{\"outlinewidth\":0,\"ticks\":\"\"}},\"type\":\"scattergeo\"}],\"scattergl\":[{\"marker\":{\"colorbar\":{\"outlinewidth\":0,\"ticks\":\"\"}},\"type\":\"scattergl\"}],\"scattermapbox\":[{\"marker\":{\"colorbar\":{\"outlinewidth\":0,\"ticks\":\"\"}},\"type\":\"scattermapbox\"}],\"scatterpolar\":[{\"marker\":{\"colorbar\":{\"outlinewidth\":0,\"ticks\":\"\"}},\"type\":\"scatterpolar\"}],\"scatterpolargl\":[{\"marker\":{\"colorbar\":{\"outlinewidth\":0,\"ticks\":\"\"}},\"type\":\"scatterpolargl\"}],\"scatterternary\":[{\"marker\":{\"colorbar\":{\"outlinewidth\":0,\"ticks\":\"\"}},\"type\":\"scatterternary\"}],\"surface\":[{\"colorbar\":{\"outlinewidth\":0,\"ticks\":\"\"},\"colorscale\":[[0.0,\"#0d0887\"],[0.1111111111111111,\"#46039f\"],[0.2222222222222222,\"#7201a8\"],[0.3333333333333333,\"#9c179e\"],[0.4444444444444444,\"#bd3786\"],[0.5555555555555556,\"#d8576b\"],[0.6666666666666666,\"#ed7953\"],[0.7777777777777778,\"#fb9f3a\"],[0.8888888888888888,\"#fdca26\"],[1.0,\"#f0f921\"]],\"type\":\"surface\"}],\"table\":[{\"cells\":{\"fill\":{\"color\":\"#EBF0F8\"},\"line\":{\"color\":\"white\"}},\"header\":{\"fill\":{\"color\":\"#C8D4E3\"},\"line\":{\"color\":\"white\"}},\"type\":\"table\"}]},\"layout\":{\"annotationdefaults\":{\"arrowcolor\":\"#2a3f5f\",\"arrowhead\":0,\"arrowwidth\":1},\"autotypenumbers\":\"strict\",\"coloraxis\":{\"colorbar\":{\"outlinewidth\":0,\"ticks\":\"\"}},\"colorscale\":{\"diverging\":[[0,\"#8e0152\"],[0.1,\"#c51b7d\"],[0.2,\"#de77ae\"],[0.3,\"#f1b6da\"],[0.4,\"#fde0ef\"],[0.5,\"#f7f7f7\"],[0.6,\"#e6f5d0\"],[0.7,\"#b8e186\"],[0.8,\"#7fbc41\"],[0.9,\"#4d9221\"],[1,\"#276419\"]],\"sequential\":[[0.0,\"#0d0887\"],[0.1111111111111111,\"#46039f\"],[0.2222222222222222,\"#7201a8\"],[0.3333333333333333,\"#9c179e\"],[0.4444444444444444,\"#bd3786\"],[0.5555555555555556,\"#d8576b\"],[0.6666666666666666,\"#ed7953\"],[0.7777777777777778,\"#fb9f3a\"],[0.8888888888888888,\"#fdca26\"],[1.0,\"#f0f921\"]],\"sequentialminus\":[[0.0,\"#0d0887\"],[0.1111111111111111,\"#46039f\"],[0.2222222222222222,\"#7201a8\"],[0.3333333333333333,\"#9c179e\"],[0.4444444444444444,\"#bd3786\"],[0.5555555555555556,\"#d8576b\"],[0.6666666666666666,\"#ed7953\"],[0.7777777777777778,\"#fb9f3a\"],[0.8888888888888888,\"#fdca26\"],[1.0,\"#f0f921\"]]},\"colorway\":[\"#636efa\",\"#EF553B\",\"#00cc96\",\"#ab63fa\",\"#FFA15A\",\"#19d3f3\",\"#FF6692\",\"#B6E880\",\"#FF97FF\",\"#FECB52\"],\"font\":{\"color\":\"#2a3f5f\"},\"geo\":{\"bgcolor\":\"white\",\"lakecolor\":\"white\",\"landcolor\":\"#E5ECF6\",\"showlakes\":true,\"showland\":true,\"subunitcolor\":\"white\"},\"hoverlabel\":{\"align\":\"left\"},\"hovermode\":\"closest\",\"mapbox\":{\"style\":\"light\"},\"paper_bgcolor\":\"white\",\"plot_bgcolor\":\"#E5ECF6\",\"polar\":{\"angularaxis\":{\"gridcolor\":\"white\",\"linecolor\":\"white\",\"ticks\":\"\"},\"bgcolor\":\"#E5ECF6\",\"radialaxis\":{\"gridcolor\":\"white\",\"linecolor\":\"white\",\"ticks\":\"\"}},\"scene\":{\"xaxis\":{\"backgroundcolor\":\"#E5ECF6\",\"gridcolor\":\"white\",\"gridwidth\":2,\"linecolor\":\"white\",\"showbackground\":true,\"ticks\":\"\",\"zerolinecolor\":\"white\"},\"yaxis\":{\"backgroundcolor\":\"#E5ECF6\",\"gridcolor\":\"white\",\"gridwidth\":2,\"linecolor\":\"white\",\"showbackground\":true,\"ticks\":\"\",\"zerolinecolor\":\"white\"},\"zaxis\":{\"backgroundcolor\":\"#E5ECF6\",\"gridcolor\":\"white\",\"gridwidth\":2,\"linecolor\":\"white\",\"showbackground\":true,\"ticks\":\"\",\"zerolinecolor\":\"white\"}},\"shapedefaults\":{\"line\":{\"color\":\"#2a3f5f\"}},\"ternary\":{\"aaxis\":{\"gridcolor\":\"white\",\"linecolor\":\"white\",\"ticks\":\"\"},\"baxis\":{\"gridcolor\":\"white\",\"linecolor\":\"white\",\"ticks\":\"\"},\"bgcolor\":\"#E5ECF6\",\"caxis\":{\"gridcolor\":\"white\",\"linecolor\":\"white\",\"ticks\":\"\"}},\"title\":{\"x\":0.05},\"xaxis\":{\"automargin\":true,\"gridcolor\":\"white\",\"linecolor\":\"white\",\"ticks\":\"\",\"title\":{\"standoff\":15},\"zerolinecolor\":\"white\",\"zerolinewidth\":2},\"yaxis\":{\"automargin\":true,\"gridcolor\":\"white\",\"linecolor\":\"white\",\"ticks\":\"\",\"title\":{\"standoff\":15},\"zerolinecolor\":\"white\",\"zerolinewidth\":2}}},\"legend\":{\"tracegroupgap\":0},\"margin\":{\"t\":60}},                        {\"responsive\": true}                    ).then(function(){\n",
              "                            \n",
              "var gd = document.getElementById('afdd35db-4757-46c0-8588-6afa684f51c1');\n",
              "var x = new MutationObserver(function (mutations, observer) {{\n",
              "        var display = window.getComputedStyle(gd).display;\n",
              "        if (!display || display === 'none') {{\n",
              "            console.log([gd, 'removed!']);\n",
              "            Plotly.purge(gd);\n",
              "            observer.disconnect();\n",
              "        }}\n",
              "}});\n",
              "\n",
              "// Listen for the removal of the full notebook cells\n",
              "var notebookContainer = gd.closest('#notebook-container');\n",
              "if (notebookContainer) {{\n",
              "    x.observe(notebookContainer, {childList: true});\n",
              "}}\n",
              "\n",
              "// Listen for the clearing of the current output cell\n",
              "var outputEl = gd.closest('.output');\n",
              "if (outputEl) {{\n",
              "    x.observe(outputEl, {childList: true});\n",
              "}}\n",
              "\n",
              "                        })                };                            </script>        </div>\n",
              "</body>\n",
              "</html>"
            ]
          },
          "metadata": {}
        }
      ]
    },
    {
      "cell_type": "code",
      "source": [],
      "metadata": {
        "id": "juQjGeGlH9wc"
      },
      "execution_count": null,
      "outputs": []
    }
  ]
}