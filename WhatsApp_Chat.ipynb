{
  "nbformat": 4,
  "nbformat_minor": 0,
  "metadata": {
    "colab": {
      "name": "WhatsApp_Chat.ipynb",
      "provenance": [],
      "authorship_tag": "ABX9TyNQ0bLoknSLG+AdctRtiamw",
      "include_colab_link": true
    },
    "kernelspec": {
      "name": "python3",
      "display_name": "Python 3"
    },
    "language_info": {
      "name": "python"
    }
  },
  "cells": [
    {
      "cell_type": "markdown",
      "metadata": {
        "id": "view-in-github",
        "colab_type": "text"
      },
      "source": [
        "<a href=\"https://colab.research.google.com/github/danielrodriguez007/Data_Analysis/blob/main/WhatsApp_Chat.ipynb\" target=\"_parent\"><img src=\"https://colab.research.google.com/assets/colab-badge.svg\" alt=\"Open In Colab\"/></a>"
      ]
    },
    {
      "cell_type": "code",
      "execution_count": null,
      "metadata": {
        "colab": {
          "base_uri": "https://localhost:8080/"
        },
        "id": "ryhwBgxihX3Z",
        "outputId": "1d41f5d2-9821-4c43-afea-cb305b7113d0"
      },
      "outputs": [
        {
          "output_type": "stream",
          "name": "stdout",
          "text": [
            "Mounted at /content/drive\n"
          ]
        }
      ],
      "source": [
        "from google.colab import drive\n",
        "drive.mount ('/content/drive')"
      ]
    },
    {
      "cell_type": "code",
      "source": [
        "import re \n",
        "import numpy as np \n",
        "import pandas as pd\n",
        "import emoji \n",
        "from collections import Counter \n",
        "import matplotlib.pyplot as plt\n",
        "from PIL import Image \n",
        "from wordcloud import WordCloud, STOPWORDS, ImageColorGenerator"
      ],
      "metadata": {
        "id": "2GAuHVguiLty"
      },
      "execution_count": null,
      "outputs": []
    },
    {
      "cell_type": "code",
      "source": [
        "def date_time(s):\n",
        "  pattern = '^([0-9]+)(\\/)([0-9]+)(\\/)([0-9]+),([0-9]+):([0-9]+)[ ]?(AM|PM|am|pm)? -'\n",
        "  result =re.match(pattern, s)\n",
        "  if result:\n",
        "    return True\n",
        "  return False\n",
        "\n",
        "\n",
        "def find_author(s):\n",
        "  s = s.split(\":\")\n",
        "  if len(s)==2:\n",
        "    return True\n",
        "  else:\n",
        "    return False\n",
        "\n",
        "def getDatapoint(line):\n",
        "  splitline = line.split(' - ')\n",
        "  dateTime = splitline[0]\n",
        "  date, time = dateTime.split(\", \")\n",
        "  message = \" \".join(splitline[1:])\n",
        "  if find_author(message):\n",
        "    splitmessage = message.split(\": \")\n",
        "    author = splitmessage[0]\n",
        "    message = \" \".join(splitmessage[1:])\n",
        "  else:\n",
        "    author = None\n",
        "  return date, time, author, message  \n",
        "\n"
      ],
      "metadata": {
        "id": "XKShImHnih0h"
      },
      "execution_count": null,
      "outputs": []
    },
    {
      "cell_type": "code",
      "source": [
        "data = []\n",
        "conversation = 'WhatsApp Chat with Sapna.txt'\n",
        "with open(conversation, encoding = \"utf-8\") as fp:\n",
        "  fp.readline()\n",
        "  messageBuffer = []\n",
        "  date, time, author = None, None, None\n",
        "  while True:\n",
        "    line = fp.readline()\n",
        "    if not line:\n",
        "      break\n",
        "    line = line.strip()\n",
        "    if date_time(line):\n",
        "      if len(messageBuffer) > 0 :\n",
        "        data.append([date, time, author, ' '.join(messageBuffer)]) \n",
        "      messageBuffer.clear()\n",
        "      date, time, auhor, message = getDatapoint(line)\n",
        "      messageBuffer.append(message)\n",
        "    else:\n",
        "      messageBuffer.append(line)  \n"
      ],
      "metadata": {
        "id": "u2PguWaBelxU"
      },
      "execution_count": null,
      "outputs": []
    },
    {
      "cell_type": "code",
      "source": [
        "df = pd.DataFrame(data, columns=[\"Date\", 'Time', 'Author', 'Message'])\n",
        "df['Date'] = pd.to_datetime(df['Date'])\n",
        "\n",
        "data = df.dropna()\n",
        "from nltk.sentiment.vader import SentimentIntensityAnalyzer \n",
        "sentiments = SentimentIntensityAnalizer()\n",
        "data[\"Positive\"] = [sentiments.polarity_scores(i)[\"pos\"] for i in data[\"Message\"]]\n",
        "data[\"Negative\"] = [sentiments.polarity_scores(i)[\"neg\"] for i in data[\"Message\"]]\n",
        "data[\"Neutral\"] = [sentiments.polarity_scores(i)[\"neu\"] for i in data[\"Message\"]]\n",
        "print(data.head())\n"
      ],
      "metadata": {
        "id": "bjsRE5VNf0Tv"
      },
      "execution_count": null,
      "outputs": []
    },
    {
      "cell_type": "code",
      "source": [
        "x = sum(data[\"Positive\"])\n",
        "y = sum(data[\"Negative\"]) \n",
        "z = sum(data[\"Neutral\"]) \n",
        "\n",
        "def semtiment_score(a, b, c):\n",
        "  if (a>b) and (a>c):\n",
        "    print(\"Positive\")\n",
        "  elif (b>a) and (b>c):\n",
        "    print(\"Negative\")\n",
        "  else:\n",
        "    print(\"Neutral\")\n",
        "\n",
        "sentiment_score(x, y, z)"
      ],
      "metadata": {
        "id": "Jwm2jIizgxvW"
      },
      "execution_count": null,
      "outputs": []
    }
  ]
}