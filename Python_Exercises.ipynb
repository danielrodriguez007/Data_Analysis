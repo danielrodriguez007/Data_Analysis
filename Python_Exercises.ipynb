{
  "nbformat": 4,
  "nbformat_minor": 0,
  "metadata": {
    "colab": {
      "provenance": [],
      "authorship_tag": "ABX9TyO1+SLJme2fDzSrbgILL3An",
      "include_colab_link": true
    },
    "kernelspec": {
      "name": "python3",
      "display_name": "Python 3"
    },
    "language_info": {
      "name": "python"
    }
  },
  "cells": [
    {
      "cell_type": "markdown",
      "metadata": {
        "id": "view-in-github",
        "colab_type": "text"
      },
      "source": [
        "<a href=\"https://colab.research.google.com/github/danielrodriguez007/Data_Analysis/blob/main/Python_Exercises.ipynb\" target=\"_parent\"><img src=\"https://colab.research.google.com/assets/colab-badge.svg\" alt=\"Open In Colab\"/></a>"
      ]
    },
    {
      "cell_type": "code",
      "execution_count": 1,
      "metadata": {
        "colab": {
          "base_uri": "https://localhost:8080/"
        },
        "id": "xC8frXttwENP",
        "outputId": "aa3a7390-69d2-45b6-f8b1-c5825ffde77d"
      },
      "outputs": [
        {
          "output_type": "stream",
          "name": "stdout",
          "text": [
            "uoY kcuF\n"
          ]
        }
      ],
      "source": [
        "#Reverse String\n",
        "def reverse_string(string):\n",
        "  return string[::-1]\n",
        "\n",
        "a = \"Fuck You\"\n",
        "print(reverse_string(a))  "
      ]
    },
    {
      "cell_type": "code",
      "source": [
        "#Validate a Palindrome \n",
        "\n",
        "def palindrome(x):\n",
        "  x = x.lower()\n",
        "  text = \"\"\n",
        "  for i in range(len(x)):\n",
        "    if x[i].isalnum():\n",
        "      text = text + x[i]\n",
        "  return text == text[::-1]\n",
        "\n",
        "print(palindrome(\"A man, a plan, a canal: Panama\"))      "
      ],
      "metadata": {
        "colab": {
          "base_uri": "https://localhost:8080/"
        },
        "id": "m4qbtnGYMyuo",
        "outputId": "b0953e01-726a-4632-cdfd-065521309d57"
      },
      "execution_count": 2,
      "outputs": [
        {
          "output_type": "stream",
          "name": "stdout",
          "text": [
            "True\n"
          ]
        }
      ]
    },
    {
      "cell_type": "code",
      "source": [],
      "metadata": {
        "id": "3s3qa-JeNXoF"
      },
      "execution_count": null,
      "outputs": []
    }
  ]
}