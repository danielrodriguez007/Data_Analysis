{
  "nbformat": 4,
  "nbformat_minor": 0,
  "metadata": {
    "colab": {
      "provenance": [],
      "authorship_tag": "ABX9TyNvAlmOEHGQJjIqMM2XvKu7",
      "include_colab_link": true
    },
    "kernelspec": {
      "name": "python3",
      "display_name": "Python 3"
    },
    "language_info": {
      "name": "python"
    }
  },
  "cells": [
    {
      "cell_type": "markdown",
      "metadata": {
        "id": "view-in-github",
        "colab_type": "text"
      },
      "source": [
        "<a href=\"https://colab.research.google.com/github/danielrodriguez007/Data_Analysis/blob/main/Python_Exercises.ipynb\" target=\"_parent\"><img src=\"https://colab.research.google.com/assets/colab-badge.svg\" alt=\"Open In Colab\"/></a>"
      ]
    },
    {
      "cell_type": "code",
      "execution_count": null,
      "metadata": {
        "colab": {
          "base_uri": "https://localhost:8080/"
        },
        "id": "xC8frXttwENP",
        "outputId": "6f3cf14a-bc00-4940-8822-dafca404a8bb"
      },
      "outputs": [
        {
          "output_type": "stream",
          "name": "stdout",
          "text": [
            "Inserte palabra: hola\n",
            "aloh\n"
          ]
        }
      ],
      "source": [
        "#Reverse String\n",
        "def reverse_string(string):\n",
        "  return string[::-1]\n",
        "\n",
        "a = input(\"Inserte palabra: \")\n",
        "print(reverse_string(a))  "
      ]
    },
    {
      "cell_type": "code",
      "source": [
        "#Validate a Palindrome \n",
        "\n",
        "def palindrome(x):\n",
        "  x = x.lower()\n",
        "  text = \"\"\n",
        "  for i in range(len(x)):\n",
        "    if x[i].isalnum():\n",
        "      text = text + x[i]\n",
        "  return text == text[::-1]\n",
        "\n",
        "\n",
        "print(palindrome(input(\"Inserte palindromo: \")))      "
      ],
      "metadata": {
        "colab": {
          "base_uri": "https://localhost:8080/"
        },
        "id": "m4qbtnGYMyuo",
        "outputId": "5b55bc42-f9ef-4f71-b8a4-d68a58d1bbaa"
      },
      "execution_count": null,
      "outputs": [
        {
          "output_type": "stream",
          "name": "stdout",
          "text": [
            "Inserte palindromoanita lava la tina\n",
            "True\n"
          ]
        }
      ]
    },
    {
      "cell_type": "code",
      "source": [
        "#Pascal´s Triangle \n",
        "\n",
        "def triangle(rows):\n",
        "  row = [1]\n",
        "  zero = [0]\n",
        "\n",
        "  for i in range(rows):\n",
        "    print(row)\n",
        "\n",
        "    row = [i + d for i , d in zip(row + zero, zero + row)]\n",
        "\n",
        "\n",
        "triangle(8)    "
      ],
      "metadata": {
        "id": "3s3qa-JeNXoF",
        "colab": {
          "base_uri": "https://localhost:8080/"
        },
        "outputId": "ed3ceb52-7a56-42f3-d316-d480ea77555a"
      },
      "execution_count": null,
      "outputs": [
        {
          "output_type": "stream",
          "name": "stdout",
          "text": [
            "[1]\n",
            "[1, 1]\n",
            "[1, 2, 1]\n",
            "[1, 3, 3, 1]\n",
            "[1, 4, 6, 4, 1]\n",
            "[1, 5, 10, 10, 5, 1]\n",
            "[1, 6, 15, 20, 15, 6, 1]\n",
            "[1, 7, 21, 35, 35, 21, 7, 1]\n"
          ]
        }
      ]
    },
    {
      "cell_type": "code",
      "source": [
        "#Check duplicates values\n",
        "\n",
        "def containsDuplicate(nums):\n",
        "  for i in range(len(nums)):\n",
        "    for j in range(i + 1, len(nums)):\n",
        "      if nums[i] == nums[j]:\n",
        "        return True\n",
        "    else:\n",
        "      return False\n",
        "\n",
        "\n",
        "nums = [1,2,3,1]\n",
        "print(containsDuplicate(nums))      "
      ],
      "metadata": {
        "id": "9V-DHnbohnhp",
        "colab": {
          "base_uri": "https://localhost:8080/"
        },
        "outputId": "ab17d52f-a230-40e2-f09a-0344c0c3ebaa"
      },
      "execution_count": null,
      "outputs": [
        {
          "output_type": "stream",
          "name": "stdout",
          "text": [
            "True\n"
          ]
        }
      ]
    },
    {
      "cell_type": "code",
      "source": [
        "#Majority Element\n",
        "\n",
        "def majorityElement(nums):\n",
        "  count = 0\n",
        "  major_element = 0\n",
        "  for i in nums:\n",
        "    if count == 0:\n",
        "      major_element = i\n",
        "    if major_element == i:\n",
        "      count = count + 1  \n",
        "    else:\n",
        "      count = count - 1\n",
        "  return major_element\n",
        "\n",
        "\n",
        "nums = [2,2,1,1,1,2,2,1,1]\n",
        "print(majorityElement(nums))        \n"
      ],
      "metadata": {
        "id": "KgChRX3c4S-8",
        "colab": {
          "base_uri": "https://localhost:8080/"
        },
        "outputId": "d3335b11-7751-4c56-fe6b-907422ad3ce2"
      },
      "execution_count": null,
      "outputs": [
        {
          "output_type": "stream",
          "name": "stdout",
          "text": [
            "1\n"
          ]
        }
      ]
    },
    {
      "cell_type": "code",
      "source": [
        "#Excel Sheet Column Title \n",
        "\n",
        "def convertToTitle(n):\n",
        "  title = \"\"\n",
        "  while n:\n",
        "    n = n - 1\n",
        "    title = chr(n % 26 + 65) + title\n",
        "    n = n // 26 \n",
        "  return title\n",
        "\n",
        "print(convertToTitle(1))    \n"
      ],
      "metadata": {
        "colab": {
          "base_uri": "https://localhost:8080/"
        },
        "id": "IZLeYbeY8rYK",
        "outputId": "d19d9c24-f0e6-4b8a-f538-8b4b2a791eb3"
      },
      "execution_count": null,
      "outputs": [
        {
          "output_type": "stream",
          "name": "stdout",
          "text": [
            "A\n"
          ]
        }
      ]
    },
    {
      "cell_type": "code",
      "source": [
        "#Single Number in an array\n",
        "\n",
        "def singleNumber(nums):\n",
        "  count = 0\n",
        "  for i in nums:\n",
        "    count = count^i\n",
        "  return count\n",
        "\n",
        "nums = [4, 1, 2, 1, 2]\n",
        "print(singleNumber(nums))    "
      ],
      "metadata": {
        "id": "1C1wrv0d9e7L",
        "colab": {
          "base_uri": "https://localhost:8080/"
        },
        "outputId": "4d324371-edff-4d5c-84c0-89a0161948e3"
      },
      "execution_count": null,
      "outputs": [
        {
          "output_type": "stream",
          "name": "stdout",
          "text": [
            "4\n"
          ]
        }
      ]
    },
    {
      "cell_type": "code",
      "source": [
        "#Best Time to Buy and Sell Stock\n",
        "\n",
        "def maxProfit(prices):\n",
        "  buy = 0\n",
        "  sell = 1 \n",
        "  max_profit = 0\n",
        "  while sell < len(prices):\n",
        "    if prices[sell] > prices[buy]:\n",
        "      profit = prices[sell] - prices[buy]\n",
        "      max_profit = max(profit, max_profit)\n",
        "    else:\n",
        "      buy = sell\n",
        "    sell = sell + 1  \n",
        "  return max_profit \n",
        "\n",
        "prices = [7,1,5,3,6,4] \n",
        "print(maxProfit(prices))   "
      ],
      "metadata": {
        "id": "BKdfwLKYMmsu",
        "colab": {
          "base_uri": "https://localhost:8080/"
        },
        "outputId": "ef195443-f4f7-4356-caf2-9f9d34414a9b"
      },
      "execution_count": 2,
      "outputs": [
        {
          "output_type": "stream",
          "name": "stdout",
          "text": [
            "5\n"
          ]
        }
      ]
    },
    {
      "cell_type": "code",
      "source": [],
      "metadata": {
        "id": "3YdkeOEECTlg"
      },
      "execution_count": null,
      "outputs": []
    }
  ]
}