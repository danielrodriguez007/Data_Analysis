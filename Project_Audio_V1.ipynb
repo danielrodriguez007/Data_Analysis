{
  "nbformat": 4,
  "nbformat_minor": 0,
  "metadata": {
    "colab": {
      "provenance": [],
      "authorship_tag": "ABX9TyO8xzbvjVJsrbtziZgqVGb9",
      "include_colab_link": true
    },
    "kernelspec": {
      "name": "python3",
      "display_name": "Python 3"
    },
    "language_info": {
      "name": "python"
    }
  },
  "cells": [
    {
      "cell_type": "markdown",
      "metadata": {
        "id": "view-in-github",
        "colab_type": "text"
      },
      "source": [
        "<a href=\"https://colab.research.google.com/github/danielrodriguez007/Data_Analysis/blob/main/Project_Audio_V1.ipynb\" target=\"_parent\"><img src=\"https://colab.research.google.com/assets/colab-badge.svg\" alt=\"Open In Colab\"/></a>"
      ]
    },
    {
      "cell_type": "markdown",
      "source": [
        "# **Access to drive,install and import of the libraries**"
      ],
      "metadata": {
        "id": "jEJprhnBSsn5"
      }
    },
    {
      "cell_type": "code",
      "execution_count": 4,
      "metadata": {
        "colab": {
          "base_uri": "https://localhost:8080/"
        },
        "id": "eMJIBbhYtpGa",
        "outputId": "5d0a19bb-8bb4-4bd7-b9b9-2e76dd9c834e"
      },
      "outputs": [
        {
          "output_type": "stream",
          "name": "stdout",
          "text": [
            "Drive already mounted at /content/drive; to attempt to forcibly remount, call drive.mount(\"/content/drive\", force_remount=True).\n"
          ]
        }
      ],
      "source": [
        "#Request access to my google drive\n",
        "from google.colab import drive\n",
        "drive.mount('/content/drive')"
      ]
    },
    {
      "cell_type": "code",
      "source": [
        "#Install necessary libraries\n",
        "!pip install pydub\n",
        "!pip install SpeechRecognition"
      ],
      "metadata": {
        "colab": {
          "base_uri": "https://localhost:8080/"
        },
        "id": "LKpF_cuWw8Sc",
        "outputId": "fa6f85d7-c506-4a44-cc6c-b746a0923cea"
      },
      "execution_count": 2,
      "outputs": [
        {
          "output_type": "stream",
          "name": "stdout",
          "text": [
            "Looking in indexes: https://pypi.org/simple, https://us-python.pkg.dev/colab-wheels/public/simple/\n",
            "Collecting pydub\n",
            "  Downloading pydub-0.25.1-py2.py3-none-any.whl (32 kB)\n",
            "Installing collected packages: pydub\n",
            "Successfully installed pydub-0.25.1\n",
            "Looking in indexes: https://pypi.org/simple, https://us-python.pkg.dev/colab-wheels/public/simple/\n",
            "Collecting SpeechRecognition\n",
            "  Downloading SpeechRecognition-3.10.0-py2.py3-none-any.whl (32.8 MB)\n",
            "\u001b[2K     \u001b[90m━━━━━━━━━━━━━━━━━━━━━━━━━━━━━━━━━━━━━━━━\u001b[0m \u001b[32m32.8/32.8 MB\u001b[0m \u001b[31m40.2 MB/s\u001b[0m eta \u001b[36m0:00:00\u001b[0m\n",
            "\u001b[?25hRequirement already satisfied: requests>=2.26.0 in /usr/local/lib/python3.10/dist-packages (from SpeechRecognition) (2.27.1)\n",
            "Requirement already satisfied: urllib3<1.27,>=1.21.1 in /usr/local/lib/python3.10/dist-packages (from requests>=2.26.0->SpeechRecognition) (1.26.15)\n",
            "Requirement already satisfied: certifi>=2017.4.17 in /usr/local/lib/python3.10/dist-packages (from requests>=2.26.0->SpeechRecognition) (2022.12.7)\n",
            "Requirement already satisfied: idna<4,>=2.5 in /usr/local/lib/python3.10/dist-packages (from requests>=2.26.0->SpeechRecognition) (3.4)\n",
            "Requirement already satisfied: charset-normalizer~=2.0.0 in /usr/local/lib/python3.10/dist-packages (from requests>=2.26.0->SpeechRecognition) (2.0.12)\n",
            "Installing collected packages: SpeechRecognition\n",
            "Successfully installed SpeechRecognition-3.10.0\n"
          ]
        }
      ]
    },
    {
      "cell_type": "code",
      "source": [
        "import speech_recognition as sr\n",
        "import os\n",
        "from pydub import AudioSegment\n",
        "from pydub.silence import split_on_silence"
      ],
      "metadata": {
        "id": "AFSBjVuLxLrj"
      },
      "execution_count": 3,
      "outputs": []
    },
    {
      "cell_type": "markdown",
      "source": [
        "# **Script to reconignition of audio and chunk it**\n",
        "🚨🚨🚨**REMEMBER THE AUDIO MUST BE WAV FILE**🚨🚨🚨"
      ],
      "metadata": {
        "id": "cwQwUDniTG3A"
      }
    },
    {
      "cell_type": "code",
      "source": [
        "#Create a speech recognition object\n",
        "r = sr.Recognizer()\n",
        "\n",
        "def transcribe_large_audio(path):\n",
        "  \"\"\"Split audio into chuncks based in the silence and apply speech recognition\"\"\"\n",
        "  #Open audio to be analyzed with ptydub\n",
        "  sound = AudioSegment.from_wav('/content/drive/MyDrive/Colab Notebooks/Audios/Recording.wav')\n",
        "  \n",
        "  #Split he audio into a chunks by the silence of 700 or higher\n",
        "  chunks = split_on_silence(sound, min_silence_len=700, silence_thresh=sound.dBFS-14, keep_silence=700)\n",
        "  \n",
        "  #Call the name folder to save the chunks\n",
        "  folder_name = '/content/drive/MyDrive/Colab Notebooks/Audios'\n",
        "  if not os.path.isdir(folder_name):\n",
        "    os.mkdir(folder_name)\n",
        "\n",
        "  whole_text = \"\"\n",
        "  #Process each chunk\n",
        "  for i, audio_chunk in enumerate(chunks, start=1):\n",
        "    chunk_filename = os.path.join(folder_name, f\"chunk{i}.wav\")\n",
        "    audio_chunk.export(chunk_filename, format=\"wav\")\n",
        "\n",
        "    with sr.AudioFile(chunk_filename) as source:\n",
        "      audio_listened = r.record(source)\n",
        "      try:\n",
        "        text = r.recognize_google(audio_listened)\n",
        "      except sr.UnknownValueError as e:\n",
        "        print(\"Error\", str(e))\n",
        "      else:\n",
        "        text = f\"{text.capitalize()}. \"\n",
        "        print(chunk_filename, \":\", text)\n",
        "        whole_text += text\n",
        "\n",
        "  return whole_text        \n",
        "\n",
        "result = transcribe_large_audio('sample_audio.wav')"
      ],
      "metadata": {
        "colab": {
          "base_uri": "https://localhost:8080/"
        },
        "id": "kpnXZxixxk18",
        "outputId": "c97b2862-8018-40f0-a744-130c7e9eb56d"
      },
      "execution_count": 38,
      "outputs": [
        {
          "output_type": "stream",
          "name": "stdout",
          "text": [
            "Error \n",
            "/content/drive/MyDrive/Colab Notebooks/Audios/chunk2.wav : Hi good morning and daniel today is a fan of march 2023. \n",
            "/content/drive/MyDrive/Colab Notebooks/Audios/chunk3.wav : Antiques on 851 a.m.. \n",
            "/content/drive/MyDrive/Colab Notebooks/Audios/chunk4.wav : I going to read an article from website loudwire. \n",
            "/content/drive/MyDrive/Colab Notebooks/Audios/chunk5.wav : Talk about my day. \n",
            "/content/drive/MyDrive/Colab Notebooks/Audios/chunk6.wav : X-treme automotive hurt and scorpions. \n",
            "/content/drive/MyDrive/Colab Notebooks/Audios/chunk7.wav : Okay they say. \n",
            "/content/drive/MyDrive/Colab Notebooks/Audios/chunk8.wav : You're so get up sleep seen annie realization backing track remind one of the hardest and most. \n",
            "/content/drive/MyDrive/Colab Notebooks/Audios/chunk9.wav : Diving site topics in rock and metal right now on working in both is drummer magadir scorpion side motorhead. \n",
            "/content/drive/MyDrive/Colab Notebooks/Audios/chunk10.wav : Who's playing when it is and is it okay to add up the projects. \n",
            "/content/drive/MyDrive/Colab Notebooks/Audios/chunk11.wav : This subject is 102. is imani tired of carlos by seeing stanley youtube channel winfrey clip6 option opinion story for rock emiratis gonna primary. \n",
            "/content/drive/MyDrive/Colab Notebooks/Audios/chunk12.wav : I slay all the channel about station to marquis and in particular paul stanley ashanti risperdal case manager doug mccartney and undercover that the ban is ended using backtracks backing track but the smile is national long each night. \n",
            "/content/drive/MyDrive/Colab Notebooks/Audios/chunk13.wav : Commissioning a respond from the bicameral sing stanley go to drama to open up about all that if we believe that even the lake lemmy kilmister i know there's no free stroker understood when backtracked school beautiful element of a light shelf. \n",
            "/content/drive/MyDrive/Colab Notebooks/Audios/chunk14.wav : Mike on lip sync on backing track lip singing sucks big-time that's no fun at all. \n",
            "/content/drive/MyDrive/Colab Notebooks/Audios/chunk15.wav : This ain't the right prescription. \n",
            "/content/drive/MyDrive/Colab Notebooks/Audios/chunk16.wav : Blabbermouth but when it come to backtrack something is not too bad if you use it in a proper way. \n",
            "/content/drive/MyDrive/Colab Notebooks/Audios/chunk17.wav : Russian-english software application he goes on let's say you could have a ring gear. \n",
            "/content/drive/MyDrive/Colab Notebooks/Audios/chunk18.wav : Utah royals box truck interview toilet ever i know all advanced. \n",
            "/content/drive/MyDrive/Colab Notebooks/Audios/chunk19.wav : .. \n",
            "/content/drive/MyDrive/Colab Notebooks/Audios/chunk20.wav : Want to feel a church's bars of songs bring backing tracks maybe geeter. \n",
            "/content/drive/MyDrive/Colab Notebooks/Audios/chunk21.wav : O-ring guitar usually or maybe some kind of keyboard or something just to feed out this place work. \n",
            "/content/drive/MyDrive/Colab Notebooks/Audios/chunk22.wav : It's impossible to play on if you record something and you do but something up there you you little thing or something i think that's okay that's. \n",
            "/content/drive/MyDrive/Colab Notebooks/Audios/chunk23.wav : Connected but i can live with that. \n",
            "/content/drive/MyDrive/Colab Notebooks/Audios/chunk24.wav : Alone the rest and the sun is being playing properly badly seen absolutely no and backing track you just see them properly if you see then you will say the way they were intended the 69 years old drummer right charities but allowed bondsman use backtrack for hold music authority and trust me i hate that actually terrible. \n",
            "/content/drive/MyDrive/Colab Notebooks/Audios/chunk25.wav : So well let me think. \n",
            "/content/drive/MyDrive/Colab Notebooks/Audios/chunk26.wav : What will let me think let me have the same kind of beer i guess is me because we never use backtrack. \n",
            "/content/drive/MyDrive/Colab Notebooks/Audios/chunk27.wav : You replied when asked about his longtime but my perspective but something equal had been okay to do it because it maybe go to athena inserting time. \n",
            "/content/drive/MyDrive/Colab Notebooks/Audios/chunk28.wav : Oso lower of something because we were only three members in medicare so we didn't like it he will never do. \n",
            "/content/drive/MyDrive/Colab Notebooks/Audios/chunk29.wav : Even with lemmy is not rule of absolute however biggest planes. \n",
            "/content/drive/MyDrive/Colab Notebooks/Audios/chunk30.wav : But she could see banks that use in a proper way in a good way. \n",
            "/content/drive/MyDrive/Colab Notebooks/Audios/chunk31.wav : Then i think it's acceptable and that is alright but i don't think we would like. \n",
            "/content/drive/MyDrive/Colab Notebooks/Audios/chunk32.wav : He will be matched against it i think it's okay here and there and say in case of depending other what kind of son they needed to work on to fill out and say solo arbitration my best friend in a solo i maybe not. \n",
            "/content/drive/MyDrive/Colab Notebooks/Audios/chunk33.wav : Cars. \n",
            "/content/drive/MyDrive/Colab Notebooks/Audios/chunk34.wav : How to play something like that but the son needs to be plate. \n",
            "/content/drive/MyDrive/Colab Notebooks/Audios/chunk35.wav : By the hand and the ban on life that's my view on it. \n",
            "/content/drive/MyDrive/Colab Notebooks/Audios/chunk36.wav : K in this article mike d explain. \n",
            "/content/drive/MyDrive/Colab Notebooks/Audios/chunk37.wav : His point of view about leak change. \n",
            "/content/drive/MyDrive/Colab Notebooks/Audios/chunk38.wav : And will be at chili's. \n",
            "Error \n",
            "/content/drive/MyDrive/Colab Notebooks/Audios/chunk40.wav : Sucks he don't like it lip sing because. \n",
            "Error \n",
            "/content/drive/MyDrive/Colab Notebooks/Audios/chunk42.wav : Well. \n",
            "/content/drive/MyDrive/Colab Notebooks/Audios/chunk43.wav : He don't give them cakes concretion. \n",
            "/content/drive/MyDrive/Colab Notebooks/Audios/chunk44.wav : Only say she's. \n",
            "/content/drive/MyDrive/Colab Notebooks/Audios/chunk45.wav : Somebody's going to do it filled gaps in he chose life. \n",
            "/content/drive/MyDrive/Colab Notebooks/Audios/chunk46.wav : It's okay. \n",
            "/content/drive/MyDrive/Colab Notebooks/Audios/chunk47.wav : Maybe when guizar guitars or cables. \n",
            "/content/drive/MyDrive/Colab Notebooks/Audios/chunk48.wav : Oh i know the restore my but when healing lipsing is no. \n",
            "/content/drive/MyDrive/Colab Notebooks/Audios/chunk49.wav : Correct he think. \n",
            "/content/drive/MyDrive/Colab Notebooks/Audios/chunk50.wav : He's no. \n",
            "/content/drive/MyDrive/Colab Notebooks/Audios/chunk51.wav : He's not. \n",
            "/content/drive/MyDrive/Colab Notebooks/Audios/chunk52.wav : Please note. \n",
            "/content/drive/MyDrive/Colab Notebooks/Audios/chunk53.wav : Underwrite windsor. \n",
            "/content/drive/MyDrive/Colab Notebooks/Audios/chunk54.wav : When disponibile. \n",
            "/content/drive/MyDrive/Colab Notebooks/Audios/chunk55.wav : The interview were asking about what will let me think let me click me sir. \n",
            "/content/drive/MyDrive/Colab Notebooks/Audios/chunk56.wav : Singer of motorhead. \n",
            "/content/drive/MyDrive/Colab Notebooks/Audios/chunk57.wav : Put i don't remember 5 years ago. \n",
            "/content/drive/MyDrive/Colab Notebooks/Audios/chunk58.wav : And he safe. \n",
            "/content/drive/MyDrive/Colab Notebooks/Audios/chunk59.wav : Yeah he knows very well that me. \n",
            "/content/drive/MyDrive/Colab Notebooks/Audios/chunk60.wav : Let me will. \n",
            "/content/drive/MyDrive/Colab Notebooks/Audios/chunk61.wav : Will we see in real rygin king or. \n",
            "/content/drive/MyDrive/Colab Notebooks/Audios/chunk62.wav : We according we can. \n",
            "/content/drive/MyDrive/Colab Notebooks/Audios/chunk63.wav : About this topic maybe. \n",
            "/content/drive/MyDrive/Colab Notebooks/Audios/chunk64.wav : Euro-spec tracks to sleep app. \n",
            "/content/drive/MyDrive/Colab Notebooks/Audios/chunk65.wav : Sony's samoyed but never listens. \n",
            "/content/drive/MyDrive/Colab Notebooks/Audios/chunk66.wav : Word think. \n",
            "/content/drive/MyDrive/Colab Notebooks/Audios/chunk67.wav : About these well. \n",
            "Error \n",
            "/content/drive/MyDrive/Colab Notebooks/Audios/chunk69.wav : I don't concur when bleaching either i don't like it. \n",
            "/content/drive/MyDrive/Colab Notebooks/Audios/chunk70.wav : In this article speak about keys. \n",
            "/content/drive/MyDrive/Colab Notebooks/Audios/chunk71.wav : Did banky skis. \n",
            "/content/drive/MyDrive/Colab Notebooks/Audios/chunk72.wav : Well these are members of the band. \n",
            "Error \n",
            "/content/drive/MyDrive/Colab Notebooks/Audios/chunk74.wav : Tomorrow you know. \n",
            "/content/drive/MyDrive/Colab Notebooks/Audios/chunk75.wav : Yancy montopolis stanley are burial. \n",
            "/content/drive/MyDrive/Colab Notebooks/Audios/chunk76.wav : I know they have. \n",
            "/content/drive/MyDrive/Colab Notebooks/Audios/chunk77.wav : 16 years old. \n",
            "/content/drive/MyDrive/Colab Notebooks/Audios/chunk78.wav : And they usually kink. \n",
            "/content/drive/MyDrive/Colab Notebooks/Audios/chunk79.wav : When you are in a concert maybe you don't notice this but. \n",
            "/content/drive/MyDrive/Colab Notebooks/Audios/chunk80.wav : The beatles day of love. \n",
            "/content/drive/MyDrive/Colab Notebooks/Audios/chunk81.wav : On the u2 on otherwise page. \n",
            "/content/drive/MyDrive/Colab Notebooks/Audios/chunk82.wav : You can see you noticed this. \n",
            "/content/drive/MyDrive/Colab Notebooks/Audios/chunk83.wav : Haitian kercheval. \n",
            "/content/drive/MyDrive/Colab Notebooks/Audios/chunk84.wav : You maybe think is something not right when this performer life. \n",
            "/content/drive/MyDrive/Colab Notebooks/Audios/chunk85.wav : So many people think this is shit. \n",
            "/content/drive/MyDrive/Colab Notebooks/Audios/chunk86.wav : Already your fan base. \n",
            "/content/drive/MyDrive/Colab Notebooks/Audios/chunk87.wav : Because they pay. \n",
            "/content/drive/MyDrive/Colab Notebooks/Audios/chunk88.wav : A ticket. \n",
            "/content/drive/MyDrive/Colab Notebooks/Audios/chunk89.wav : 2cu performance all performance lie. \n",
            "/content/drive/MyDrive/Colab Notebooks/Audios/chunk90.wav : Hickory singing. \n",
            "/content/drive/MyDrive/Colab Notebooks/Audios/chunk91.wav : But if you don't do it maybe. \n",
            "/content/drive/MyDrive/Colab Notebooks/Audios/chunk92.wav : Maybe you are. \n",
            "/content/drive/MyDrive/Colab Notebooks/Audios/chunk93.wav : Shading then. \n",
            "/content/drive/MyDrive/Colab Notebooks/Audios/chunk94.wav : Okay well. \n",
            "/content/drive/MyDrive/Colab Notebooks/Audios/chunk95.wav : That is my conclusion about this article thank you for listening. \n",
            "/content/drive/MyDrive/Colab Notebooks/Audios/chunk96.wav : And i see you later. \n"
          ]
        }
      ]
    },
    {
      "cell_type": "code",
      "source": [
        "text= open('/content/drive/MyDrive/Colab Notebooks/Audios/result.txt', 'w')\n",
        "text.write(result)\n",
        "text.close()"
      ],
      "metadata": {
        "id": "YHMSQXD0SP9i"
      },
      "execution_count": 39,
      "outputs": []
    },
    {
      "cell_type": "code",
      "source": [
        "folder = '/content/drive/MyDrive/Colab Notebooks/Audios'\n",
        "\n",
        "for i, chunks in enumerate(folder, start = 1):\n",
        "  !rm '/content/drive/MyDrive/Colab Notebooks/Audios/chunk{i}.wav'\n",
        "\n",
        "print(\"Elimination is done\")  "
      ],
      "metadata": {
        "colab": {
          "base_uri": "https://localhost:8080/"
        },
        "id": "_4zZ7L3z-QQV",
        "outputId": "c0151f17-d60a-4cf9-c643-adc38a841f2e"
      },
      "execution_count": 40,
      "outputs": [
        {
          "output_type": "stream",
          "name": "stdout",
          "text": [
            "Elimination is done\n"
          ]
        }
      ]
    }
  ]
}