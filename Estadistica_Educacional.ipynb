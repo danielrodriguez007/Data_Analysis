{
  "nbformat": 4,
  "nbformat_minor": 0,
  "metadata": {
    "colab": {
      "provenance": [],
      "authorship_tag": "ABX9TyPlqNgMguOSXw9ddtrhJ5E0",
      "include_colab_link": true
    },
    "kernelspec": {
      "name": "python3",
      "display_name": "Python 3"
    },
    "language_info": {
      "name": "python"
    }
  },
  "cells": [
    {
      "cell_type": "markdown",
      "metadata": {
        "id": "view-in-github",
        "colab_type": "text"
      },
      "source": [
        "<a href=\"https://colab.research.google.com/github/danielrodriguez007/Data_Analysis/blob/main/Estadistica_Educacional.ipynb\" target=\"_parent\"><img src=\"https://colab.research.google.com/assets/colab-badge.svg\" alt=\"Open In Colab\"/></a>"
      ]
    },
    {
      "cell_type": "code",
      "execution_count": 19,
      "metadata": {
        "id": "qmIIeJOZMSPW"
      },
      "outputs": [],
      "source": [
        "import pandas as pd\n",
        "import numpy as np \n",
        "import matplotlib.pyplot as plt\n",
        "import seaborn as sns\n",
        "import plotly.graph_objects as go\n",
        "import requests\n",
        "import plotly.express as px  \n",
        "sns.set()"
      ]
    },
    {
      "cell_type": "code",
      "source": [
        "data = pd.read_json('https://www.datos.gov.co/resource/ji8i-4anb.json')"
      ],
      "metadata": {
        "id": "baEVxwsFM7Wl"
      },
      "execution_count": 2,
      "outputs": []
    },
    {
      "cell_type": "code",
      "source": [
        "data.head()"
      ],
      "metadata": {
        "colab": {
          "base_uri": "https://localhost:8080/",
          "height": 300
        },
        "id": "4ZnEMvh_NACA",
        "outputId": "333e7c49-a28c-4886-8ae3-5426cd100e61"
      },
      "execution_count": 3,
      "outputs": [
        {
          "output_type": "execute_result",
          "data": {
            "text/plain": [
              "    ano  c_digo_departamento  departamento  poblacion_5_16  \\\n",
              "0  2011                    5     Antioquia         1288473   \n",
              "1  2011                    8     Atlántico          523935   \n",
              "2  2011                   11  Bogotá, D.C.         1479334   \n",
              "3  2011                   13       Bolívar          496676   \n",
              "4  2011                   15        Boyacá          300501   \n",
              "\n",
              "   tasa_matriculacion_5_16  cobertura_neta  cobertura_neta_transicion  \\\n",
              "0                    94.01           93.85                      70.28   \n",
              "1                    99.32           99.05                      50.59   \n",
              "2                    90.70           90.29                      68.63   \n",
              "3                    91.57           91.40                      59.74   \n",
              "4                    86.16           86.11                      63.36   \n",
              "\n",
              "   cobertura_neta_primaria  cobertura_neta_secundaria  cobertura_neta_media  \\\n",
              "0                    94.12                      75.68                 44.37   \n",
              "1                    98.93                      80.22                 50.17   \n",
              "2                    86.99                      84.70                 55.01   \n",
              "3                    90.81                      67.34                 39.17   \n",
              "4                    82.50                      74.65                 49.09   \n",
              "\n",
              "   ...  reprobacion  reprobacion_transicion  reprobacion_primaria  \\\n",
              "0  ...         2.06                    0.07                  1.80   \n",
              "1  ...         0.54                    0.12                  0.45   \n",
              "2  ...         0.00                    0.00                  0.00   \n",
              "3  ...         2.10                    0.46                  1.59   \n",
              "4  ...         2.73                    0.17                  1.66   \n",
              "\n",
              "   reprobacion_secundaria  reprobacion_media  repitencia  \\\n",
              "0                    2.54               2.96        4.25   \n",
              "1                    0.67               0.75        1.82   \n",
              "2                    0.00               0.00        3.23   \n",
              "3                    2.75               3.67        4.43   \n",
              "4                    4.31               3.26        2.62   \n",
              "\n",
              "   repitencia_transicion  repitencia_primaria  repitencia_secundaria  \\\n",
              "0                   0.07                 4.56                   5.27   \n",
              "1                   0.12                 1.77                   2.18   \n",
              "2                   0.00                 2.30                   5.11   \n",
              "3                   0.46                 4.44                   5.37   \n",
              "4                   0.17                 1.90                   4.19   \n",
              "\n",
              "   repitencia_media  \n",
              "0              1.68  \n",
              "1              0.88  \n",
              "2              2.57  \n",
              "3              2.28  \n",
              "4              1.55  \n",
              "\n",
              "[5 rows x 37 columns]"
            ],
            "text/html": [
              "\n",
              "  <div id=\"df-619b4b68-67bc-4b4f-b2fc-a4537ee5e88a\">\n",
              "    <div class=\"colab-df-container\">\n",
              "      <div>\n",
              "<style scoped>\n",
              "    .dataframe tbody tr th:only-of-type {\n",
              "        vertical-align: middle;\n",
              "    }\n",
              "\n",
              "    .dataframe tbody tr th {\n",
              "        vertical-align: top;\n",
              "    }\n",
              "\n",
              "    .dataframe thead th {\n",
              "        text-align: right;\n",
              "    }\n",
              "</style>\n",
              "<table border=\"1\" class=\"dataframe\">\n",
              "  <thead>\n",
              "    <tr style=\"text-align: right;\">\n",
              "      <th></th>\n",
              "      <th>ano</th>\n",
              "      <th>c_digo_departamento</th>\n",
              "      <th>departamento</th>\n",
              "      <th>poblacion_5_16</th>\n",
              "      <th>tasa_matriculacion_5_16</th>\n",
              "      <th>cobertura_neta</th>\n",
              "      <th>cobertura_neta_transicion</th>\n",
              "      <th>cobertura_neta_primaria</th>\n",
              "      <th>cobertura_neta_secundaria</th>\n",
              "      <th>cobertura_neta_media</th>\n",
              "      <th>...</th>\n",
              "      <th>reprobacion</th>\n",
              "      <th>reprobacion_transicion</th>\n",
              "      <th>reprobacion_primaria</th>\n",
              "      <th>reprobacion_secundaria</th>\n",
              "      <th>reprobacion_media</th>\n",
              "      <th>repitencia</th>\n",
              "      <th>repitencia_transicion</th>\n",
              "      <th>repitencia_primaria</th>\n",
              "      <th>repitencia_secundaria</th>\n",
              "      <th>repitencia_media</th>\n",
              "    </tr>\n",
              "  </thead>\n",
              "  <tbody>\n",
              "    <tr>\n",
              "      <th>0</th>\n",
              "      <td>2011</td>\n",
              "      <td>5</td>\n",
              "      <td>Antioquia</td>\n",
              "      <td>1288473</td>\n",
              "      <td>94.01</td>\n",
              "      <td>93.85</td>\n",
              "      <td>70.28</td>\n",
              "      <td>94.12</td>\n",
              "      <td>75.68</td>\n",
              "      <td>44.37</td>\n",
              "      <td>...</td>\n",
              "      <td>2.06</td>\n",
              "      <td>0.07</td>\n",
              "      <td>1.80</td>\n",
              "      <td>2.54</td>\n",
              "      <td>2.96</td>\n",
              "      <td>4.25</td>\n",
              "      <td>0.07</td>\n",
              "      <td>4.56</td>\n",
              "      <td>5.27</td>\n",
              "      <td>1.68</td>\n",
              "    </tr>\n",
              "    <tr>\n",
              "      <th>1</th>\n",
              "      <td>2011</td>\n",
              "      <td>8</td>\n",
              "      <td>Atlántico</td>\n",
              "      <td>523935</td>\n",
              "      <td>99.32</td>\n",
              "      <td>99.05</td>\n",
              "      <td>50.59</td>\n",
              "      <td>98.93</td>\n",
              "      <td>80.22</td>\n",
              "      <td>50.17</td>\n",
              "      <td>...</td>\n",
              "      <td>0.54</td>\n",
              "      <td>0.12</td>\n",
              "      <td>0.45</td>\n",
              "      <td>0.67</td>\n",
              "      <td>0.75</td>\n",
              "      <td>1.82</td>\n",
              "      <td>0.12</td>\n",
              "      <td>1.77</td>\n",
              "      <td>2.18</td>\n",
              "      <td>0.88</td>\n",
              "    </tr>\n",
              "    <tr>\n",
              "      <th>2</th>\n",
              "      <td>2011</td>\n",
              "      <td>11</td>\n",
              "      <td>Bogotá, D.C.</td>\n",
              "      <td>1479334</td>\n",
              "      <td>90.70</td>\n",
              "      <td>90.29</td>\n",
              "      <td>68.63</td>\n",
              "      <td>86.99</td>\n",
              "      <td>84.70</td>\n",
              "      <td>55.01</td>\n",
              "      <td>...</td>\n",
              "      <td>0.00</td>\n",
              "      <td>0.00</td>\n",
              "      <td>0.00</td>\n",
              "      <td>0.00</td>\n",
              "      <td>0.00</td>\n",
              "      <td>3.23</td>\n",
              "      <td>0.00</td>\n",
              "      <td>2.30</td>\n",
              "      <td>5.11</td>\n",
              "      <td>2.57</td>\n",
              "    </tr>\n",
              "    <tr>\n",
              "      <th>3</th>\n",
              "      <td>2011</td>\n",
              "      <td>13</td>\n",
              "      <td>Bolívar</td>\n",
              "      <td>496676</td>\n",
              "      <td>91.57</td>\n",
              "      <td>91.40</td>\n",
              "      <td>59.74</td>\n",
              "      <td>90.81</td>\n",
              "      <td>67.34</td>\n",
              "      <td>39.17</td>\n",
              "      <td>...</td>\n",
              "      <td>2.10</td>\n",
              "      <td>0.46</td>\n",
              "      <td>1.59</td>\n",
              "      <td>2.75</td>\n",
              "      <td>3.67</td>\n",
              "      <td>4.43</td>\n",
              "      <td>0.46</td>\n",
              "      <td>4.44</td>\n",
              "      <td>5.37</td>\n",
              "      <td>2.28</td>\n",
              "    </tr>\n",
              "    <tr>\n",
              "      <th>4</th>\n",
              "      <td>2011</td>\n",
              "      <td>15</td>\n",
              "      <td>Boyacá</td>\n",
              "      <td>300501</td>\n",
              "      <td>86.16</td>\n",
              "      <td>86.11</td>\n",
              "      <td>63.36</td>\n",
              "      <td>82.50</td>\n",
              "      <td>74.65</td>\n",
              "      <td>49.09</td>\n",
              "      <td>...</td>\n",
              "      <td>2.73</td>\n",
              "      <td>0.17</td>\n",
              "      <td>1.66</td>\n",
              "      <td>4.31</td>\n",
              "      <td>3.26</td>\n",
              "      <td>2.62</td>\n",
              "      <td>0.17</td>\n",
              "      <td>1.90</td>\n",
              "      <td>4.19</td>\n",
              "      <td>1.55</td>\n",
              "    </tr>\n",
              "  </tbody>\n",
              "</table>\n",
              "<p>5 rows × 37 columns</p>\n",
              "</div>\n",
              "      <button class=\"colab-df-convert\" onclick=\"convertToInteractive('df-619b4b68-67bc-4b4f-b2fc-a4537ee5e88a')\"\n",
              "              title=\"Convert this dataframe to an interactive table.\"\n",
              "              style=\"display:none;\">\n",
              "        \n",
              "  <svg xmlns=\"http://www.w3.org/2000/svg\" height=\"24px\"viewBox=\"0 0 24 24\"\n",
              "       width=\"24px\">\n",
              "    <path d=\"M0 0h24v24H0V0z\" fill=\"none\"/>\n",
              "    <path d=\"M18.56 5.44l.94 2.06.94-2.06 2.06-.94-2.06-.94-.94-2.06-.94 2.06-2.06.94zm-11 1L8.5 8.5l.94-2.06 2.06-.94-2.06-.94L8.5 2.5l-.94 2.06-2.06.94zm10 10l.94 2.06.94-2.06 2.06-.94-2.06-.94-.94-2.06-.94 2.06-2.06.94z\"/><path d=\"M17.41 7.96l-1.37-1.37c-.4-.4-.92-.59-1.43-.59-.52 0-1.04.2-1.43.59L10.3 9.45l-7.72 7.72c-.78.78-.78 2.05 0 2.83L4 21.41c.39.39.9.59 1.41.59.51 0 1.02-.2 1.41-.59l7.78-7.78 2.81-2.81c.8-.78.8-2.07 0-2.86zM5.41 20L4 18.59l7.72-7.72 1.47 1.35L5.41 20z\"/>\n",
              "  </svg>\n",
              "      </button>\n",
              "      \n",
              "  <style>\n",
              "    .colab-df-container {\n",
              "      display:flex;\n",
              "      flex-wrap:wrap;\n",
              "      gap: 12px;\n",
              "    }\n",
              "\n",
              "    .colab-df-convert {\n",
              "      background-color: #E8F0FE;\n",
              "      border: none;\n",
              "      border-radius: 50%;\n",
              "      cursor: pointer;\n",
              "      display: none;\n",
              "      fill: #1967D2;\n",
              "      height: 32px;\n",
              "      padding: 0 0 0 0;\n",
              "      width: 32px;\n",
              "    }\n",
              "\n",
              "    .colab-df-convert:hover {\n",
              "      background-color: #E2EBFA;\n",
              "      box-shadow: 0px 1px 2px rgba(60, 64, 67, 0.3), 0px 1px 3px 1px rgba(60, 64, 67, 0.15);\n",
              "      fill: #174EA6;\n",
              "    }\n",
              "\n",
              "    [theme=dark] .colab-df-convert {\n",
              "      background-color: #3B4455;\n",
              "      fill: #D2E3FC;\n",
              "    }\n",
              "\n",
              "    [theme=dark] .colab-df-convert:hover {\n",
              "      background-color: #434B5C;\n",
              "      box-shadow: 0px 1px 3px 1px rgba(0, 0, 0, 0.15);\n",
              "      filter: drop-shadow(0px 1px 2px rgba(0, 0, 0, 0.3));\n",
              "      fill: #FFFFFF;\n",
              "    }\n",
              "  </style>\n",
              "\n",
              "      <script>\n",
              "        const buttonEl =\n",
              "          document.querySelector('#df-619b4b68-67bc-4b4f-b2fc-a4537ee5e88a button.colab-df-convert');\n",
              "        buttonEl.style.display =\n",
              "          google.colab.kernel.accessAllowed ? 'block' : 'none';\n",
              "\n",
              "        async function convertToInteractive(key) {\n",
              "          const element = document.querySelector('#df-619b4b68-67bc-4b4f-b2fc-a4537ee5e88a');\n",
              "          const dataTable =\n",
              "            await google.colab.kernel.invokeFunction('convertToInteractive',\n",
              "                                                     [key], {});\n",
              "          if (!dataTable) return;\n",
              "\n",
              "          const docLinkHtml = 'Like what you see? Visit the ' +\n",
              "            '<a target=\"_blank\" href=https://colab.research.google.com/notebooks/data_table.ipynb>data table notebook</a>'\n",
              "            + ' to learn more about interactive tables.';\n",
              "          element.innerHTML = '';\n",
              "          dataTable['output_type'] = 'display_data';\n",
              "          await google.colab.output.renderOutput(dataTable, element);\n",
              "          const docLink = document.createElement('div');\n",
              "          docLink.innerHTML = docLinkHtml;\n",
              "          element.appendChild(docLink);\n",
              "        }\n",
              "      </script>\n",
              "    </div>\n",
              "  </div>\n",
              "  "
            ]
          },
          "metadata": {},
          "execution_count": 3
        }
      ]
    },
    {
      "cell_type": "code",
      "source": [
        "data.columns"
      ],
      "metadata": {
        "colab": {
          "base_uri": "https://localhost:8080/"
        },
        "id": "KBezm8WnNH-k",
        "outputId": "cb7f9de4-2b21-4b36-8e0c-d6c9d138e611"
      },
      "execution_count": 4,
      "outputs": [
        {
          "output_type": "execute_result",
          "data": {
            "text/plain": [
              "Index(['ano', 'c_digo_departamento', 'departamento', 'poblacion_5_16',\n",
              "       'tasa_matriculacion_5_16', 'cobertura_neta',\n",
              "       'cobertura_neta_transicion', 'cobertura_neta_primaria',\n",
              "       'cobertura_neta_secundaria', 'cobertura_neta_media', 'cobertura_bruta',\n",
              "       'cobertura_bruta_transicion', 'cobertura_bruta_primaria',\n",
              "       'cobertura_bruta_secundaria', 'cobertura_bruta_media',\n",
              "       'tamano_promedio_grupo', 'sedes_conectadas_a_internet', 'desercion',\n",
              "       'desercion_transicion', 'desercion_primaria', 'desercion_secundaria',\n",
              "       'desercion_media', 'aprobacion', 'aprobacion_transicion',\n",
              "       'aprobacion_primaria', 'aprobacion_secundaria', 'aprobacion_media',\n",
              "       'reprobacion', 'reprobacion_transicion', 'reprobacion_primaria',\n",
              "       'reprobacion_secundaria', 'reprobacion_media', 'repitencia',\n",
              "       'repitencia_transicion', 'repitencia_primaria', 'repitencia_secundaria',\n",
              "       'repitencia_media'],\n",
              "      dtype='object')"
            ]
          },
          "metadata": {},
          "execution_count": 4
        }
      ]
    },
    {
      "cell_type": "code",
      "source": [
        "data.dtypes"
      ],
      "metadata": {
        "colab": {
          "base_uri": "https://localhost:8080/"
        },
        "id": "OyQn-TGjOsD6",
        "outputId": "d0040615-be43-4415-c9e7-d086e1e2d3fe"
      },
      "execution_count": 8,
      "outputs": [
        {
          "output_type": "execute_result",
          "data": {
            "text/plain": [
              "ano                              int64\n",
              "c_digo_departamento              int64\n",
              "departamento                    object\n",
              "poblacion_5_16                   int64\n",
              "tasa_matriculacion_5_16        float64\n",
              "cobertura_neta                 float64\n",
              "cobertura_neta_transicion      float64\n",
              "cobertura_neta_primaria        float64\n",
              "cobertura_neta_secundaria      float64\n",
              "cobertura_neta_media           float64\n",
              "cobertura_bruta                float64\n",
              "cobertura_bruta_transicion     float64\n",
              "cobertura_bruta_primaria       float64\n",
              "cobertura_bruta_secundaria     float64\n",
              "cobertura_bruta_media          float64\n",
              "tamano_promedio_grupo          float64\n",
              "sedes_conectadas_a_internet    float64\n",
              "desercion                      float64\n",
              "desercion_transicion           float64\n",
              "desercion_primaria             float64\n",
              "desercion_secundaria           float64\n",
              "desercion_media                float64\n",
              "aprobacion                     float64\n",
              "aprobacion_transicion          float64\n",
              "aprobacion_primaria            float64\n",
              "aprobacion_secundaria          float64\n",
              "aprobacion_media               float64\n",
              "reprobacion                    float64\n",
              "reprobacion_transicion         float64\n",
              "reprobacion_primaria           float64\n",
              "reprobacion_secundaria         float64\n",
              "reprobacion_media              float64\n",
              "repitencia                     float64\n",
              "repitencia_transicion          float64\n",
              "repitencia_primaria            float64\n",
              "repitencia_secundaria          float64\n",
              "repitencia_media               float64\n",
              "dtype: object"
            ]
          },
          "metadata": {},
          "execution_count": 8
        }
      ]
    },
    {
      "cell_type": "code",
      "source": [
        "data.isnull().sum()"
      ],
      "metadata": {
        "colab": {
          "base_uri": "https://localhost:8080/"
        },
        "id": "4hk8jWTzPCTb",
        "outputId": "a85339fe-fceb-488f-b5c6-1b3a84db46e9"
      },
      "execution_count": 9,
      "outputs": [
        {
          "output_type": "execute_result",
          "data": {
            "text/plain": [
              "ano                              0\n",
              "c_digo_departamento              0\n",
              "departamento                     0\n",
              "poblacion_5_16                   0\n",
              "tasa_matriculacion_5_16          0\n",
              "cobertura_neta                   0\n",
              "cobertura_neta_transicion        0\n",
              "cobertura_neta_primaria          0\n",
              "cobertura_neta_secundaria        0\n",
              "cobertura_neta_media             0\n",
              "cobertura_bruta                  0\n",
              "cobertura_bruta_transicion       0\n",
              "cobertura_bruta_primaria         0\n",
              "cobertura_bruta_secundaria       0\n",
              "cobertura_bruta_media            0\n",
              "tamano_promedio_grupo          132\n",
              "sedes_conectadas_a_internet    132\n",
              "desercion                        0\n",
              "desercion_transicion             1\n",
              "desercion_primaria               0\n",
              "desercion_secundaria             0\n",
              "desercion_media                  0\n",
              "aprobacion                       0\n",
              "aprobacion_transicion            0\n",
              "aprobacion_primaria              0\n",
              "aprobacion_secundaria            0\n",
              "aprobacion_media                 0\n",
              "reprobacion                      0\n",
              "reprobacion_transicion           0\n",
              "reprobacion_primaria             0\n",
              "reprobacion_secundaria           0\n",
              "reprobacion_media                0\n",
              "repitencia                       0\n",
              "repitencia_transicion            0\n",
              "repitencia_primaria              0\n",
              "repitencia_secundaria            0\n",
              "repitencia_media                 0\n",
              "dtype: int64"
            ]
          },
          "metadata": {},
          "execution_count": 9
        }
      ]
    },
    {
      "cell_type": "code",
      "source": [
        "data['sedes_conectadas_a_internet'].unique()"
      ],
      "metadata": {
        "colab": {
          "base_uri": "https://localhost:8080/"
        },
        "id": "maQj4bvXPLOs",
        "outputId": "0036f315-9efd-41b0-f7e2-6d7fcf40b319"
      },
      "execution_count": 13,
      "outputs": [
        {
          "output_type": "execute_result",
          "data": {
            "text/plain": [
              "array([ 74.48,  80.46,  94.21,  30.12,  25.26,  34.74,   8.01,  29.7 ,\n",
              "        29.02,  35.26,  35.04,  13.88,  30.28,  34.94,  27.63,  24.42,\n",
              "        15.68,  17.78,  62.  ,  45.21,  25.22,  58.31,  20.22,  41.51,\n",
              "        30.33,  40.  ,  15.53,  65.63,  36.36,   4.21,  10.73,   7.63,\n",
              "        16.67,  62.51,  51.04, 100.  ,  33.44,  29.95,  30.75,  11.98,\n",
              "        43.75,  25.9 ,  30.49,  39.91,  18.98,  44.54,  35.66,  30.3 ,\n",
              "        10.77,  22.69,  12.78,  20.29,  46.96,  22.18,  26.4 ,  42.37,\n",
              "        40.32,  17.33,  18.7 ,  15.74,   0.  ,  20.91,  18.95,  11.42,\n",
              "        20.61,  17.86,  68.47,  84.94,  99.86,  52.59,  23.57,  34.49,\n",
              "         8.48,  24.64,  22.4 ,  18.28,  30.51,   7.96,  11.73,  14.04,\n",
              "        30.69,  19.32,  30.83,   8.69,  64.71,  27.54,  15.65,  20.39,\n",
              "        56.39,  16.63,   7.51,  80.  ,  12.84,  23.08,  21.43,  19.33,\n",
              "        35.33,  62.72,  80.87,  99.44,  42.16,  21.05,  28.42,  10.89,\n",
              "        42.74,  30.59,  45.22,  21.58,  18.84,  24.48,  37.52,  23.  ,\n",
              "        21.28,  36.4 ,  15.46,  32.26,  56.63,  21.54,  59.08,  34.56,\n",
              "        36.22,  21.23,  23.46,  18.04,  96.  ,  16.51,  30.77,  15.02,\n",
              "        12.61,  49.46,  61.29,  88.  ,  98.87,  44.94,  22.96,  14.77,\n",
              "        44.93,  39.87,  39.12,  32.73,  20.15,  38.93,  21.9 ,  40.02,\n",
              "        52.9 ,  30.27,  19.12,  15.93,  55.42,  25.65,  50.39,  27.8 ,\n",
              "        43.1 ,  37.55,  20.3 ,  25.27,  83.33,  16.36,  24.44,  24.08,\n",
              "        24.58,  41.62,  26.18,  95.39,  97.65,  48.21,  26.86,  35.58,\n",
              "        11.9 ,  51.52,  39.68,  47.41,  34.84,  38.49,  26.44,  22.3 ,\n",
              "        54.03,  51.73,  32.91,  31.35,  47.77,  52.11,  32.65,  55.54,\n",
              "        40.63,  63.06,  13.29,  38.42,  16.08,  79.17,  26.61,  18.89,\n",
              "        19.75,  25.66,  41.58,  32.85,  92.5 ,  98.76,  39.17,  27.23,\n",
              "        37.97,   8.3 ,  32.01,  26.42,  37.99,  29.04,  36.32,  25.76,\n",
              "        49.71,  25.83,  28.1 ,  30.44,  22.94,  40.26,  44.38,  23.91,\n",
              "        47.05,  35.81,  15.69,  16.5 ,  14.94,  13.39,  37.7 ,    nan])"
            ]
          },
          "metadata": {},
          "execution_count": 13
        }
      ]
    },
    {
      "cell_type": "code",
      "source": [
        "data['sedes_conectadas_a_internet'] = data['sedes_conectadas_a_internet'].fillna(00.00) "
      ],
      "metadata": {
        "id": "GbbnkZyzPXRM"
      },
      "execution_count": 14,
      "outputs": []
    },
    {
      "cell_type": "code",
      "source": [
        "data.c_digo_departamento.unique()"
      ],
      "metadata": {
        "colab": {
          "base_uri": "https://localhost:8080/"
        },
        "id": "m1fWvjz5QV9N",
        "outputId": "0572cfd2-355d-40c2-ff5e-611db908c939"
      },
      "execution_count": 16,
      "outputs": [
        {
          "output_type": "execute_result",
          "data": {
            "text/plain": [
              "array([ 5,  8, 11, 13, 15, 17, 18, 19, 20, 23, 25, 27, 41, 44, 47, 50, 52,\n",
              "       54, 63, 66, 68, 70, 73, 76, 81, 85, 86, 88, 91, 94, 95, 97, 99])"
            ]
          },
          "metadata": {},
          "execution_count": 16
        }
      ]
    },
    {
      "cell_type": "code",
      "source": [
        "data['departamento'].unique()"
      ],
      "metadata": {
        "colab": {
          "base_uri": "https://localhost:8080/"
        },
        "id": "r6dF47YVo9Cj",
        "outputId": "25296700-b3c5-4d3d-e630-6027048e8695"
      },
      "execution_count": 62,
      "outputs": [
        {
          "output_type": "execute_result",
          "data": {
            "text/plain": [
              "array(['Antioquia', 'Atlántico', 'Bogotá, D.C.', 'Bolívar', 'Boyacá',\n",
              "       'Caldas', 'Caquetá', 'Cauca', 'Cesar', 'Córdoba', 'Cundinamarca',\n",
              "       'Chocó', 'Huila', 'La Guajira', 'Magdalena', 'Meta', 'Nariño',\n",
              "       'Norte de Santander', 'Quindio', 'Risaralda', 'Santander', 'Sucre',\n",
              "       'Tolima', 'Valle del Cauca', 'Arauca', 'Casanare', 'Putumayo',\n",
              "       'Archipiélago de San Andrés, Providencia y Santa Catalina',\n",
              "       'Amazonas', 'Guainía', 'Guaviare', 'Vaupés', 'Vichada',\n",
              "       'Atlantico', 'Bogota', 'Bolivar', 'Boyaca', 'Caqueta', 'Cordoba',\n",
              "       'Choco', 'Norte Santander', 'Valle', 'San Andres', 'Guainia',\n",
              "       'Vaupes', 'Bogotá D.C.',\n",
              "       'Archipiélago de San Andrés. Providencia y Santa Catalina'],\n",
              "      dtype=object)"
            ]
          },
          "metadata": {},
          "execution_count": 62
        }
      ]
    },
    {
      "cell_type": "code",
      "source": [
        "data['departamento'] = data['departamento'].map({'Antioquia':'ANTIOQUIA','Atlántico':'ATLANTICO','Bogotá, D.C.':'SANTAFE DE BOGOTA D.C',\n",
        "                                                               'Bolívar':'BOLIVAR','Boyacá':'BOYACA','Caldas':'CALDAS','Caquetá':'CAQUETA','Cauca':'CAUCA','Cesar':'CESAR',\n",
        "                                                               'Córdoba':'CORDOBA','Cundinamarca':'CUNDINAMARCA','Chocó':'CHOCO','Huila':'HUILA','La Guajira':'LA GUAJIRA',\n",
        "                                                               'Magdalena':'MAGDALENA','Meta':'META','Nariño':'NARIÑO','Norte de Santander':'NORTE DE SANTANDER','Quindio':'QUINDIO',\n",
        "                                                               'Risaralda':'RISARALDA','Santander':'SANTANDER','Sucre':'SUCRE','Tolima':'TOLIMA','Valle del Cauca':'VALLE DEL CAUCA',\n",
        "                                                               'Arauca':'ARAUCA','Casanare':'CASANARE','Putumayo':'PUTUMAYO',\n",
        "                                                               'Archipiélago de San Andrés, Providencia y Santa Catalina':'ARCHIPIELAGO DE SAN ANDRES PROVIDENCIA Y SANTA CATALINA',\n",
        "                                                               'Amazonas':'AMAZONAS','Guainía':'GUAINIA','Guaviare':'GUAVIARE','Vaupés':'VAUPES','Vichada':'VICHADA','Atlantico':'ATLANTICO',\n",
        "                                                               'Bogota':'SANTAFE DE BOGOTA D.C','Bogotá D.C.':'SANTAFE DE BOGOTA D.C','Bolivar':'BOLIVAR','Boyaca':'BOYACA','Caqueta':'CAQUETA',\n",
        "                                                               'Cordoba':'CORDOBA','Choco':'CHOCO','Norte Santander':'NORTE DE SANTANDER','Valle':'VALLE DEL CAUCA',\n",
        "                                                               'San Andres':'ARCHIPIELAGO DE SAN ANDRES PROVIDENCIA Y SANTA CATALINA','Guainia':'GUAINIA','Vaupes':'VAUPES'})"
      ],
      "metadata": {
        "id": "IHDjTAy5rEig"
      },
      "execution_count": 65,
      "outputs": []
    },
    {
      "cell_type": "code",
      "source": [
        "print(data['ano'].min())\n",
        "print(data['ano'].max())"
      ],
      "metadata": {
        "colab": {
          "base_uri": "https://localhost:8080/"
        },
        "id": "jw1U0qVhQh1M",
        "outputId": "e677b986-b13a-43e3-b210-8872767bd94f"
      },
      "execution_count": 18,
      "outputs": [
        {
          "output_type": "stream",
          "name": "stdout",
          "text": [
            "2011\n",
            "2021\n"
          ]
        }
      ]
    },
    {
      "cell_type": "code",
      "source": [
        "df_poblacion = data.loc[:,['departamento','poblacion_5_16']]\n",
        "df_poblacion"
      ],
      "metadata": {
        "colab": {
          "base_uri": "https://localhost:8080/",
          "height": 424
        },
        "id": "whaQt054V9Nl",
        "outputId": "f53f08f5-943e-4039-f5f3-8358606e0f01"
      },
      "execution_count": 66,
      "outputs": [
        {
          "output_type": "execute_result",
          "data": {
            "text/plain": [
              "              departamento  poblacion_5_16\n",
              "0                ANTIOQUIA         1288473\n",
              "1                ATLANTICO          523935\n",
              "2    SANTAFE DE BOGOTA D.C         1479334\n",
              "3                  BOLIVAR          496676\n",
              "4                   BOYACA          300501\n",
              "..                     ...             ...\n",
              "358               AMAZONAS           22670\n",
              "359                GUAINIA           15643\n",
              "360               GUAVIARE           21658\n",
              "361                 VAUPES           16081\n",
              "362                VICHADA           33183\n",
              "\n",
              "[363 rows x 2 columns]"
            ],
            "text/html": [
              "\n",
              "  <div id=\"df-5e7ac553-d870-4324-bda5-cd0063e3f543\">\n",
              "    <div class=\"colab-df-container\">\n",
              "      <div>\n",
              "<style scoped>\n",
              "    .dataframe tbody tr th:only-of-type {\n",
              "        vertical-align: middle;\n",
              "    }\n",
              "\n",
              "    .dataframe tbody tr th {\n",
              "        vertical-align: top;\n",
              "    }\n",
              "\n",
              "    .dataframe thead th {\n",
              "        text-align: right;\n",
              "    }\n",
              "</style>\n",
              "<table border=\"1\" class=\"dataframe\">\n",
              "  <thead>\n",
              "    <tr style=\"text-align: right;\">\n",
              "      <th></th>\n",
              "      <th>departamento</th>\n",
              "      <th>poblacion_5_16</th>\n",
              "    </tr>\n",
              "  </thead>\n",
              "  <tbody>\n",
              "    <tr>\n",
              "      <th>0</th>\n",
              "      <td>ANTIOQUIA</td>\n",
              "      <td>1288473</td>\n",
              "    </tr>\n",
              "    <tr>\n",
              "      <th>1</th>\n",
              "      <td>ATLANTICO</td>\n",
              "      <td>523935</td>\n",
              "    </tr>\n",
              "    <tr>\n",
              "      <th>2</th>\n",
              "      <td>SANTAFE DE BOGOTA D.C</td>\n",
              "      <td>1479334</td>\n",
              "    </tr>\n",
              "    <tr>\n",
              "      <th>3</th>\n",
              "      <td>BOLIVAR</td>\n",
              "      <td>496676</td>\n",
              "    </tr>\n",
              "    <tr>\n",
              "      <th>4</th>\n",
              "      <td>BOYACA</td>\n",
              "      <td>300501</td>\n",
              "    </tr>\n",
              "    <tr>\n",
              "      <th>...</th>\n",
              "      <td>...</td>\n",
              "      <td>...</td>\n",
              "    </tr>\n",
              "    <tr>\n",
              "      <th>358</th>\n",
              "      <td>AMAZONAS</td>\n",
              "      <td>22670</td>\n",
              "    </tr>\n",
              "    <tr>\n",
              "      <th>359</th>\n",
              "      <td>GUAINIA</td>\n",
              "      <td>15643</td>\n",
              "    </tr>\n",
              "    <tr>\n",
              "      <th>360</th>\n",
              "      <td>GUAVIARE</td>\n",
              "      <td>21658</td>\n",
              "    </tr>\n",
              "    <tr>\n",
              "      <th>361</th>\n",
              "      <td>VAUPES</td>\n",
              "      <td>16081</td>\n",
              "    </tr>\n",
              "    <tr>\n",
              "      <th>362</th>\n",
              "      <td>VICHADA</td>\n",
              "      <td>33183</td>\n",
              "    </tr>\n",
              "  </tbody>\n",
              "</table>\n",
              "<p>363 rows × 2 columns</p>\n",
              "</div>\n",
              "      <button class=\"colab-df-convert\" onclick=\"convertToInteractive('df-5e7ac553-d870-4324-bda5-cd0063e3f543')\"\n",
              "              title=\"Convert this dataframe to an interactive table.\"\n",
              "              style=\"display:none;\">\n",
              "        \n",
              "  <svg xmlns=\"http://www.w3.org/2000/svg\" height=\"24px\"viewBox=\"0 0 24 24\"\n",
              "       width=\"24px\">\n",
              "    <path d=\"M0 0h24v24H0V0z\" fill=\"none\"/>\n",
              "    <path d=\"M18.56 5.44l.94 2.06.94-2.06 2.06-.94-2.06-.94-.94-2.06-.94 2.06-2.06.94zm-11 1L8.5 8.5l.94-2.06 2.06-.94-2.06-.94L8.5 2.5l-.94 2.06-2.06.94zm10 10l.94 2.06.94-2.06 2.06-.94-2.06-.94-.94-2.06-.94 2.06-2.06.94z\"/><path d=\"M17.41 7.96l-1.37-1.37c-.4-.4-.92-.59-1.43-.59-.52 0-1.04.2-1.43.59L10.3 9.45l-7.72 7.72c-.78.78-.78 2.05 0 2.83L4 21.41c.39.39.9.59 1.41.59.51 0 1.02-.2 1.41-.59l7.78-7.78 2.81-2.81c.8-.78.8-2.07 0-2.86zM5.41 20L4 18.59l7.72-7.72 1.47 1.35L5.41 20z\"/>\n",
              "  </svg>\n",
              "      </button>\n",
              "      \n",
              "  <style>\n",
              "    .colab-df-container {\n",
              "      display:flex;\n",
              "      flex-wrap:wrap;\n",
              "      gap: 12px;\n",
              "    }\n",
              "\n",
              "    .colab-df-convert {\n",
              "      background-color: #E8F0FE;\n",
              "      border: none;\n",
              "      border-radius: 50%;\n",
              "      cursor: pointer;\n",
              "      display: none;\n",
              "      fill: #1967D2;\n",
              "      height: 32px;\n",
              "      padding: 0 0 0 0;\n",
              "      width: 32px;\n",
              "    }\n",
              "\n",
              "    .colab-df-convert:hover {\n",
              "      background-color: #E2EBFA;\n",
              "      box-shadow: 0px 1px 2px rgba(60, 64, 67, 0.3), 0px 1px 3px 1px rgba(60, 64, 67, 0.15);\n",
              "      fill: #174EA6;\n",
              "    }\n",
              "\n",
              "    [theme=dark] .colab-df-convert {\n",
              "      background-color: #3B4455;\n",
              "      fill: #D2E3FC;\n",
              "    }\n",
              "\n",
              "    [theme=dark] .colab-df-convert:hover {\n",
              "      background-color: #434B5C;\n",
              "      box-shadow: 0px 1px 3px 1px rgba(0, 0, 0, 0.15);\n",
              "      filter: drop-shadow(0px 1px 2px rgba(0, 0, 0, 0.3));\n",
              "      fill: #FFFFFF;\n",
              "    }\n",
              "  </style>\n",
              "\n",
              "      <script>\n",
              "        const buttonEl =\n",
              "          document.querySelector('#df-5e7ac553-d870-4324-bda5-cd0063e3f543 button.colab-df-convert');\n",
              "        buttonEl.style.display =\n",
              "          google.colab.kernel.accessAllowed ? 'block' : 'none';\n",
              "\n",
              "        async function convertToInteractive(key) {\n",
              "          const element = document.querySelector('#df-5e7ac553-d870-4324-bda5-cd0063e3f543');\n",
              "          const dataTable =\n",
              "            await google.colab.kernel.invokeFunction('convertToInteractive',\n",
              "                                                     [key], {});\n",
              "          if (!dataTable) return;\n",
              "\n",
              "          const docLinkHtml = 'Like what you see? Visit the ' +\n",
              "            '<a target=\"_blank\" href=https://colab.research.google.com/notebooks/data_table.ipynb>data table notebook</a>'\n",
              "            + ' to learn more about interactive tables.';\n",
              "          element.innerHTML = '';\n",
              "          dataTable['output_type'] = 'display_data';\n",
              "          await google.colab.output.renderOutput(dataTable, element);\n",
              "          const docLink = document.createElement('div');\n",
              "          docLink.innerHTML = docLinkHtml;\n",
              "          element.appendChild(docLink);\n",
              "        }\n",
              "      </script>\n",
              "    </div>\n",
              "  </div>\n",
              "  "
            ]
          },
          "metadata": {},
          "execution_count": 66
        }
      ]
    },
    {
      "cell_type": "code",
      "source": [
        "url = 'https://gist.githubusercontent.com/john-guerra/43c7656821069d00dcbc/raw/be6a6e239cd5b5b803c6e7c2ec405b793a9064dd/Colombia.geo.json'\n",
        "col_geo = requests.get(url)\n",
        "\n",
        "figure = px.choropleth(data_frame=df_poblacion,\n",
        "                       geojson=url,\n",
        "                       locations='departamento',\n",
        "                       featureidkey='properties.NOMBRE_DPT',\n",
        "                       color='poblacion_5_16',\n",
        "                       color_continuous_scale=\"turbo\")\n",
        "\n",
        "figure.update_geos(showcountries=False, showcoastlines=False, showland=True, fitbounds=\"locations\")\n",
        "\n",
        "figure.update_layout(title_text = 'Población Estudiantil por Departamento')\n",
        "\n",
        "figure.show()\n"
      ],
      "metadata": {
        "colab": {
          "base_uri": "https://localhost:8080/",
          "height": 542
        },
        "id": "g5jt52HKbS8I",
        "outputId": "55a7d7cb-5051-464b-b5ea-3c477de70337"
      },
      "execution_count": 71,
      "outputs": [
        {
          "output_type": "display_data",
          "data": {
            "text/html": [
              "<html>\n",
              "<head><meta charset=\"utf-8\" /></head>\n",
              "<body>\n",
              "    <div>            <script src=\"https://cdnjs.cloudflare.com/ajax/libs/mathjax/2.7.5/MathJax.js?config=TeX-AMS-MML_SVG\"></script><script type=\"text/javascript\">if (window.MathJax) {MathJax.Hub.Config({SVG: {font: \"STIX-Web\"}});}</script>                <script type=\"text/javascript\">window.PlotlyConfig = {MathJaxConfig: 'local'};</script>\n",
              "        <script src=\"https://cdn.plot.ly/plotly-2.8.3.min.js\"></script>                <div id=\"0c71478d-d3d8-435c-9f59-43f749d9c763\" class=\"plotly-graph-div\" style=\"height:525px; width:100%;\"></div>            <script type=\"text/javascript\">                                    window.PLOTLYENV=window.PLOTLYENV || {};                                    if (document.getElementById(\"0c71478d-d3d8-435c-9f59-43f749d9c763\")) {                    Plotly.newPlot(                        \"0c71478d-d3d8-435c-9f59-43f749d9c763\",                        [{\"coloraxis\":\"coloraxis\",\"featureidkey\":\"properties.NOMBRE_DPT\",\"geo\":\"geo\",\"geojson\":\"https://gist.githubusercontent.com/john-guerra/43c7656821069d00dcbc/raw/be6a6e239cd5b5b803c6e7c2ec405b793a9064dd/Colombia.geo.json\",\"hovertemplate\":\"departamento=%{location}<br>poblacion_5_16=%{z}<extra></extra>\",\"locations\":[\"ANTIOQUIA\",\"ATLANTICO\",\"SANTAFE DE BOGOTA D.C\",\"BOLIVAR\",\"BOYACA\",\"CALDAS\",\"CAQUETA\",\"CAUCA\",\"CESAR\",\"CORDOBA\",\"CUNDINAMARCA\",\"CHOCO\",\"HUILA\",\"LA GUAJIRA\",\"MAGDALENA\",\"META\",\"NARI\\u00d1O\",\"NORTE DE SANTANDER\",\"QUINDIO\",\"RISARALDA\",\"SANTANDER\",\"SUCRE\",\"TOLIMA\",\"VALLE DEL CAUCA\",\"ARAUCA\",\"CASANARE\",\"PUTUMAYO\",\"ARCHIPIELAGO DE SAN ANDRES PROVIDENCIA Y SANTA CATALINA\",\"AMAZONAS\",\"GUAINIA\",\"GUAVIARE\",\"VAUPES\",\"VICHADA\",\"ANTIOQUIA\",\"ATLANTICO\",\"SANTAFE DE BOGOTA D.C\",\"BOLIVAR\",\"BOYACA\",\"CALDAS\",\"CAQUETA\",\"CAUCA\",\"CESAR\",\"CORDOBA\",\"CUNDINAMARCA\",\"CHOCO\",\"HUILA\",\"LA GUAJIRA\",\"MAGDALENA\",\"META\",\"NARI\\u00d1O\",\"NORTE DE SANTANDER\",\"QUINDIO\",\"RISARALDA\",\"SANTANDER\",\"SUCRE\",\"TOLIMA\",\"VALLE DEL CAUCA\",\"ARAUCA\",\"CASANARE\",\"PUTUMAYO\",\"ARCHIPIELAGO DE SAN ANDRES PROVIDENCIA Y SANTA CATALINA\",\"AMAZONAS\",\"GUAINIA\",\"GUAVIARE\",\"VAUPES\",\"VICHADA\",\"ANTIOQUIA\",\"ATLANTICO\",\"SANTAFE DE BOGOTA D.C\",\"BOLIVAR\",\"BOYACA\",\"CALDAS\",\"CAQUETA\",\"CAUCA\",\"CESAR\",\"CORDOBA\",\"CUNDINAMARCA\",\"CHOCO\",\"HUILA\",\"LA GUAJIRA\",\"MAGDALENA\",\"META\",\"NARI\\u00d1O\",\"NORTE DE SANTANDER\",\"QUINDIO\",\"RISARALDA\",\"SANTANDER\",\"SUCRE\",\"TOLIMA\",\"VALLE DEL CAUCA\",\"ARAUCA\",\"CASANARE\",\"PUTUMAYO\",\"ARCHIPIELAGO DE SAN ANDRES PROVIDENCIA Y SANTA CATALINA\",\"AMAZONAS\",\"GUAINIA\",\"GUAVIARE\",\"VAUPES\",\"VICHADA\",\"ANTIOQUIA\",\"ATLANTICO\",\"SANTAFE DE BOGOTA D.C\",\"BOLIVAR\",\"BOYACA\",\"CALDAS\",\"CAQUETA\",\"CAUCA\",\"CESAR\",\"CORDOBA\",\"CUNDINAMARCA\",\"CHOCO\",\"HUILA\",\"LA GUAJIRA\",\"MAGDALENA\",\"META\",\"NARI\\u00d1O\",\"NORTE DE SANTANDER\",\"QUINDIO\",\"RISARALDA\",\"SANTANDER\",\"SUCRE\",\"TOLIMA\",\"VALLE DEL CAUCA\",\"ARAUCA\",\"CASANARE\",\"PUTUMAYO\",\"ARCHIPIELAGO DE SAN ANDRES PROVIDENCIA Y SANTA CATALINA\",\"AMAZONAS\",\"GUAINIA\",\"GUAVIARE\",\"VAUPES\",\"VICHADA\",\"ANTIOQUIA\",\"ATLANTICO\",\"SANTAFE DE BOGOTA D.C\",\"BOLIVAR\",\"BOYACA\",\"CALDAS\",\"CAQUETA\",\"CAUCA\",\"CESAR\",\"CORDOBA\",\"CUNDINAMARCA\",\"CHOCO\",\"HUILA\",\"LA GUAJIRA\",\"MAGDALENA\",\"META\",\"NARI\\u00d1O\",\"NORTE DE SANTANDER\",\"QUINDIO\",\"RISARALDA\",\"SANTANDER\",\"SUCRE\",\"TOLIMA\",\"VALLE DEL CAUCA\",\"ARAUCA\",\"CASANARE\",\"PUTUMAYO\",\"ARCHIPIELAGO DE SAN ANDRES PROVIDENCIA Y SANTA CATALINA\",\"AMAZONAS\",\"GUAINIA\",\"GUAVIARE\",\"VAUPES\",\"VICHADA\",\"ANTIOQUIA\",\"ATLANTICO\",\"SANTAFE DE BOGOTA D.C\",\"BOLIVAR\",\"BOYACA\",\"CALDAS\",\"CAQUETA\",\"CAUCA\",\"CESAR\",\"CORDOBA\",\"CUNDINAMARCA\",\"CHOCO\",\"HUILA\",\"LA GUAJIRA\",\"MAGDALENA\",\"META\",\"NARI\\u00d1O\",\"NORTE DE SANTANDER\",\"QUINDIO\",\"RISARALDA\",\"SANTANDER\",\"SUCRE\",\"TOLIMA\",\"VALLE DEL CAUCA\",\"ARAUCA\",\"CASANARE\",\"PUTUMAYO\",\"ARCHIPIELAGO DE SAN ANDRES PROVIDENCIA Y SANTA CATALINA\",\"AMAZONAS\",\"GUAINIA\",\"GUAVIARE\",\"VAUPES\",\"VICHADA\",\"ANTIOQUIA\",\"ATLANTICO\",\"SANTAFE DE BOGOTA D.C\",\"BOLIVAR\",\"BOYACA\",\"CALDAS\",\"CAQUETA\",\"CAUCA\",\"CESAR\",\"CORDOBA\",\"CUNDINAMARCA\",\"CHOCO\",\"HUILA\",\"LA GUAJIRA\",\"MAGDALENA\",\"META\",\"NARI\\u00d1O\",\"NORTE DE SANTANDER\",\"QUINDIO\",\"RISARALDA\",\"SANTANDER\",\"SUCRE\",\"TOLIMA\",\"VALLE DEL CAUCA\",\"ARAUCA\",\"CASANARE\",\"PUTUMAYO\",\"ARCHIPIELAGO DE SAN ANDRES PROVIDENCIA Y SANTA CATALINA\",\"AMAZONAS\",\"GUAINIA\",\"GUAVIARE\",\"VAUPES\",\"VICHADA\",\"ANTIOQUIA\",\"ATLANTICO\",\"SANTAFE DE BOGOTA D.C\",\"BOLIVAR\",\"BOYACA\",\"CALDAS\",\"CAQUETA\",\"CAUCA\",\"CESAR\",\"CORDOBA\",\"CUNDINAMARCA\",\"CHOCO\",\"HUILA\",\"LA GUAJIRA\",\"MAGDALENA\",\"META\",\"NARI\\u00d1O\",\"NORTE DE SANTANDER\",\"QUINDIO\",\"RISARALDA\",\"SANTANDER\",\"SUCRE\",\"TOLIMA\",\"VALLE DEL CAUCA\",\"ARAUCA\",\"CASANARE\",\"PUTUMAYO\",\"ARCHIPIELAGO DE SAN ANDRES PROVIDENCIA Y SANTA CATALINA\",\"AMAZONAS\",\"GUAINIA\",\"GUAVIARE\",\"VAUPES\",\"VICHADA\",\"ANTIOQUIA\",\"ATLANTICO\",\"SANTAFE DE BOGOTA D.C\",\"BOLIVAR\",\"BOYACA\",\"CALDAS\",\"CAQUETA\",\"CAUCA\",\"CESAR\",\"CORDOBA\",\"CUNDINAMARCA\",\"CHOCO\",\"HUILA\",\"LA GUAJIRA\",\"MAGDALENA\",\"META\",\"NARI\\u00d1O\",\"NORTE DE SANTANDER\",\"QUINDIO\",\"RISARALDA\",\"SANTANDER\",\"SUCRE\",\"TOLIMA\",\"VALLE DEL CAUCA\",\"ARAUCA\",\"CASANARE\",\"PUTUMAYO\",\"ARCHIPIELAGO DE SAN ANDRES PROVIDENCIA Y SANTA CATALINA\",\"AMAZONAS\",\"GUAINIA\",\"GUAVIARE\",\"VAUPES\",\"VICHADA\",\"ANTIOQUIA\",\"ATLANTICO\",\"SANTAFE DE BOGOTA D.C\",\"BOLIVAR\",\"BOYACA\",\"CALDAS\",\"CAQUETA\",\"CAUCA\",\"CESAR\",\"CORDOBA\",\"CUNDINAMARCA\",\"CHOCO\",\"HUILA\",\"LA GUAJIRA\",\"MAGDALENA\",\"META\",\"NARI\\u00d1O\",\"NORTE DE SANTANDER\",\"QUINDIO\",\"RISARALDA\",\"SANTANDER\",\"SUCRE\",\"TOLIMA\",\"VALLE DEL CAUCA\",\"ARAUCA\",\"CASANARE\",\"PUTUMAYO\",null,\"AMAZONAS\",\"GUAINIA\",\"GUAVIARE\",\"VAUPES\",\"VICHADA\",\"ANTIOQUIA\",\"ATLANTICO\",\"SANTAFE DE BOGOTA D.C\",\"BOLIVAR\",\"BOYACA\",\"CALDAS\",\"CAQUETA\",\"CAUCA\",\"CESAR\",\"CORDOBA\",\"CUNDINAMARCA\",\"CHOCO\",\"HUILA\",\"LA GUAJIRA\",\"MAGDALENA\",\"META\",\"NARI\\u00d1O\",\"NORTE DE SANTANDER\",\"QUINDIO\",\"RISARALDA\",\"SANTANDER\",\"SUCRE\",\"TOLIMA\",\"VALLE DEL CAUCA\",\"ARAUCA\",\"CASANARE\",\"PUTUMAYO\",\"ARCHIPIELAGO DE SAN ANDRES PROVIDENCIA Y SANTA CATALINA\",\"AMAZONAS\",\"GUAINIA\",\"GUAVIARE\",\"VAUPES\",\"VICHADA\"],\"name\":\"\",\"z\":[1288473,523935,1479334,496676,300501,201185,124148,328682,263789,405431,570954,145587,275956,231046,333793,209319,401313,324219,114075,192633,434034,205779,325983,906602,73431,85803,93828,15852,22223,11920,31133,12690,20360,1278686,523911,1470171,495108,297132,198526,124622,325212,263271,405302,571082,145607,273653,239298,334586,210820,401539,322304,112175,189484,425904,203626,321653,894698,74454,85999,93570,15648,22194,11920,31272,12681,20686,1272458,522832,1466854,492500,292312,196982,124458,320510,262240,407589,572012,145133,272091,244513,332266,213170,399032,317334,111539,187946,419596,202453,317546,887988,74658,86460,92887,15536,22123,11918,31276,12659,20977,1266533,521917,1460379,490573,288366,195455,124473,316362,261493,408623,573948,145299,270459,251458,331389,215227,397640,313966,110359,185754,413227,201098,313709,880625,74948,86899,92368,15395,22167,11916,31344,12699,21331,1262800,520783,1455309,488886,284611,194108,124382,312453,260802,409982,576429,145625,269323,258207,330539,217437,396138,310611,109400,183900,407815,200001,310206,875476,75107,87417,91874,15265,22212,11913,31553,12684,21644,1265147,519509,1453283,487274,279627,192703,124296,307989,259794,411715,577612,145596,268744,264785,329234,219565,394574,307238,108652,182345,402820,198817,306395,873706,75185,88003,91441,15167,22243,11935,31671,12654,21951,1270105,518257,1452849,486067,275027,191444,124222,303777,259051,413883,579364,145765,268582,271221,327940,221844,393195,304148,108156,181154,398621,197947,303140,873860,75197,88626,91161,15106,22269,11965,31876,12668,22282,1147598,521630,1179282,455784,234116,162391,98639,301714,288411,386239,547875,143975,242238,237991,317652,218707,314579,307526,83383,157477,401463,201443,255496,861316,60962,92859,80972,10853,22257,15766,21118,15363,32951,1149985,533666,1181531,461988,234368,161892,98675,299016,296234,387454,570377,143999,242194,245778,323546,218194,309763,318252,83130,156174,405798,203411,251347,854243,64095,93431,80890,11002,22435,15808,21301,15675,33198,1151149,542750,1181597,466941,234540,161746,98602,296813,302403,388446,592264,143711,242199,252101,327562,217673,305761,325981,83129,155149,408876,204837,247605,846957,66580,93855,80810,11169,22563,15771,21482,15910,33298,1149861,546055,1174274,469046,234348,161737,98412,294933,305550,388712,610367,143120,242129,255513,328343,216914,302506,328034,83299,154342,409198,205082,244021,839566,67759,93896,80699,11312,22670,15643,21658,16081,33183],\"type\":\"choropleth\"}],                        {\"template\":{\"data\":{\"bar\":[{\"error_x\":{\"color\":\"#2a3f5f\"},\"error_y\":{\"color\":\"#2a3f5f\"},\"marker\":{\"line\":{\"color\":\"#E5ECF6\",\"width\":0.5},\"pattern\":{\"fillmode\":\"overlay\",\"size\":10,\"solidity\":0.2}},\"type\":\"bar\"}],\"barpolar\":[{\"marker\":{\"line\":{\"color\":\"#E5ECF6\",\"width\":0.5},\"pattern\":{\"fillmode\":\"overlay\",\"size\":10,\"solidity\":0.2}},\"type\":\"barpolar\"}],\"carpet\":[{\"aaxis\":{\"endlinecolor\":\"#2a3f5f\",\"gridcolor\":\"white\",\"linecolor\":\"white\",\"minorgridcolor\":\"white\",\"startlinecolor\":\"#2a3f5f\"},\"baxis\":{\"endlinecolor\":\"#2a3f5f\",\"gridcolor\":\"white\",\"linecolor\":\"white\",\"minorgridcolor\":\"white\",\"startlinecolor\":\"#2a3f5f\"},\"type\":\"carpet\"}],\"choropleth\":[{\"colorbar\":{\"outlinewidth\":0,\"ticks\":\"\"},\"type\":\"choropleth\"}],\"contour\":[{\"colorbar\":{\"outlinewidth\":0,\"ticks\":\"\"},\"colorscale\":[[0.0,\"#0d0887\"],[0.1111111111111111,\"#46039f\"],[0.2222222222222222,\"#7201a8\"],[0.3333333333333333,\"#9c179e\"],[0.4444444444444444,\"#bd3786\"],[0.5555555555555556,\"#d8576b\"],[0.6666666666666666,\"#ed7953\"],[0.7777777777777778,\"#fb9f3a\"],[0.8888888888888888,\"#fdca26\"],[1.0,\"#f0f921\"]],\"type\":\"contour\"}],\"contourcarpet\":[{\"colorbar\":{\"outlinewidth\":0,\"ticks\":\"\"},\"type\":\"contourcarpet\"}],\"heatmap\":[{\"colorbar\":{\"outlinewidth\":0,\"ticks\":\"\"},\"colorscale\":[[0.0,\"#0d0887\"],[0.1111111111111111,\"#46039f\"],[0.2222222222222222,\"#7201a8\"],[0.3333333333333333,\"#9c179e\"],[0.4444444444444444,\"#bd3786\"],[0.5555555555555556,\"#d8576b\"],[0.6666666666666666,\"#ed7953\"],[0.7777777777777778,\"#fb9f3a\"],[0.8888888888888888,\"#fdca26\"],[1.0,\"#f0f921\"]],\"type\":\"heatmap\"}],\"heatmapgl\":[{\"colorbar\":{\"outlinewidth\":0,\"ticks\":\"\"},\"colorscale\":[[0.0,\"#0d0887\"],[0.1111111111111111,\"#46039f\"],[0.2222222222222222,\"#7201a8\"],[0.3333333333333333,\"#9c179e\"],[0.4444444444444444,\"#bd3786\"],[0.5555555555555556,\"#d8576b\"],[0.6666666666666666,\"#ed7953\"],[0.7777777777777778,\"#fb9f3a\"],[0.8888888888888888,\"#fdca26\"],[1.0,\"#f0f921\"]],\"type\":\"heatmapgl\"}],\"histogram\":[{\"marker\":{\"pattern\":{\"fillmode\":\"overlay\",\"size\":10,\"solidity\":0.2}},\"type\":\"histogram\"}],\"histogram2d\":[{\"colorbar\":{\"outlinewidth\":0,\"ticks\":\"\"},\"colorscale\":[[0.0,\"#0d0887\"],[0.1111111111111111,\"#46039f\"],[0.2222222222222222,\"#7201a8\"],[0.3333333333333333,\"#9c179e\"],[0.4444444444444444,\"#bd3786\"],[0.5555555555555556,\"#d8576b\"],[0.6666666666666666,\"#ed7953\"],[0.7777777777777778,\"#fb9f3a\"],[0.8888888888888888,\"#fdca26\"],[1.0,\"#f0f921\"]],\"type\":\"histogram2d\"}],\"histogram2dcontour\":[{\"colorbar\":{\"outlinewidth\":0,\"ticks\":\"\"},\"colorscale\":[[0.0,\"#0d0887\"],[0.1111111111111111,\"#46039f\"],[0.2222222222222222,\"#7201a8\"],[0.3333333333333333,\"#9c179e\"],[0.4444444444444444,\"#bd3786\"],[0.5555555555555556,\"#d8576b\"],[0.6666666666666666,\"#ed7953\"],[0.7777777777777778,\"#fb9f3a\"],[0.8888888888888888,\"#fdca26\"],[1.0,\"#f0f921\"]],\"type\":\"histogram2dcontour\"}],\"mesh3d\":[{\"colorbar\":{\"outlinewidth\":0,\"ticks\":\"\"},\"type\":\"mesh3d\"}],\"parcoords\":[{\"line\":{\"colorbar\":{\"outlinewidth\":0,\"ticks\":\"\"}},\"type\":\"parcoords\"}],\"pie\":[{\"automargin\":true,\"type\":\"pie\"}],\"scatter\":[{\"marker\":{\"colorbar\":{\"outlinewidth\":0,\"ticks\":\"\"}},\"type\":\"scatter\"}],\"scatter3d\":[{\"line\":{\"colorbar\":{\"outlinewidth\":0,\"ticks\":\"\"}},\"marker\":{\"colorbar\":{\"outlinewidth\":0,\"ticks\":\"\"}},\"type\":\"scatter3d\"}],\"scattercarpet\":[{\"marker\":{\"colorbar\":{\"outlinewidth\":0,\"ticks\":\"\"}},\"type\":\"scattercarpet\"}],\"scattergeo\":[{\"marker\":{\"colorbar\":{\"outlinewidth\":0,\"ticks\":\"\"}},\"type\":\"scattergeo\"}],\"scattergl\":[{\"marker\":{\"colorbar\":{\"outlinewidth\":0,\"ticks\":\"\"}},\"type\":\"scattergl\"}],\"scattermapbox\":[{\"marker\":{\"colorbar\":{\"outlinewidth\":0,\"ticks\":\"\"}},\"type\":\"scattermapbox\"}],\"scatterpolar\":[{\"marker\":{\"colorbar\":{\"outlinewidth\":0,\"ticks\":\"\"}},\"type\":\"scatterpolar\"}],\"scatterpolargl\":[{\"marker\":{\"colorbar\":{\"outlinewidth\":0,\"ticks\":\"\"}},\"type\":\"scatterpolargl\"}],\"scatterternary\":[{\"marker\":{\"colorbar\":{\"outlinewidth\":0,\"ticks\":\"\"}},\"type\":\"scatterternary\"}],\"surface\":[{\"colorbar\":{\"outlinewidth\":0,\"ticks\":\"\"},\"colorscale\":[[0.0,\"#0d0887\"],[0.1111111111111111,\"#46039f\"],[0.2222222222222222,\"#7201a8\"],[0.3333333333333333,\"#9c179e\"],[0.4444444444444444,\"#bd3786\"],[0.5555555555555556,\"#d8576b\"],[0.6666666666666666,\"#ed7953\"],[0.7777777777777778,\"#fb9f3a\"],[0.8888888888888888,\"#fdca26\"],[1.0,\"#f0f921\"]],\"type\":\"surface\"}],\"table\":[{\"cells\":{\"fill\":{\"color\":\"#EBF0F8\"},\"line\":{\"color\":\"white\"}},\"header\":{\"fill\":{\"color\":\"#C8D4E3\"},\"line\":{\"color\":\"white\"}},\"type\":\"table\"}]},\"layout\":{\"annotationdefaults\":{\"arrowcolor\":\"#2a3f5f\",\"arrowhead\":0,\"arrowwidth\":1},\"autotypenumbers\":\"strict\",\"coloraxis\":{\"colorbar\":{\"outlinewidth\":0,\"ticks\":\"\"}},\"colorscale\":{\"diverging\":[[0,\"#8e0152\"],[0.1,\"#c51b7d\"],[0.2,\"#de77ae\"],[0.3,\"#f1b6da\"],[0.4,\"#fde0ef\"],[0.5,\"#f7f7f7\"],[0.6,\"#e6f5d0\"],[0.7,\"#b8e186\"],[0.8,\"#7fbc41\"],[0.9,\"#4d9221\"],[1,\"#276419\"]],\"sequential\":[[0.0,\"#0d0887\"],[0.1111111111111111,\"#46039f\"],[0.2222222222222222,\"#7201a8\"],[0.3333333333333333,\"#9c179e\"],[0.4444444444444444,\"#bd3786\"],[0.5555555555555556,\"#d8576b\"],[0.6666666666666666,\"#ed7953\"],[0.7777777777777778,\"#fb9f3a\"],[0.8888888888888888,\"#fdca26\"],[1.0,\"#f0f921\"]],\"sequentialminus\":[[0.0,\"#0d0887\"],[0.1111111111111111,\"#46039f\"],[0.2222222222222222,\"#7201a8\"],[0.3333333333333333,\"#9c179e\"],[0.4444444444444444,\"#bd3786\"],[0.5555555555555556,\"#d8576b\"],[0.6666666666666666,\"#ed7953\"],[0.7777777777777778,\"#fb9f3a\"],[0.8888888888888888,\"#fdca26\"],[1.0,\"#f0f921\"]]},\"colorway\":[\"#636efa\",\"#EF553B\",\"#00cc96\",\"#ab63fa\",\"#FFA15A\",\"#19d3f3\",\"#FF6692\",\"#B6E880\",\"#FF97FF\",\"#FECB52\"],\"font\":{\"color\":\"#2a3f5f\"},\"geo\":{\"bgcolor\":\"white\",\"lakecolor\":\"white\",\"landcolor\":\"#E5ECF6\",\"showlakes\":true,\"showland\":true,\"subunitcolor\":\"white\"},\"hoverlabel\":{\"align\":\"left\"},\"hovermode\":\"closest\",\"mapbox\":{\"style\":\"light\"},\"paper_bgcolor\":\"white\",\"plot_bgcolor\":\"#E5ECF6\",\"polar\":{\"angularaxis\":{\"gridcolor\":\"white\",\"linecolor\":\"white\",\"ticks\":\"\"},\"bgcolor\":\"#E5ECF6\",\"radialaxis\":{\"gridcolor\":\"white\",\"linecolor\":\"white\",\"ticks\":\"\"}},\"scene\":{\"xaxis\":{\"backgroundcolor\":\"#E5ECF6\",\"gridcolor\":\"white\",\"gridwidth\":2,\"linecolor\":\"white\",\"showbackground\":true,\"ticks\":\"\",\"zerolinecolor\":\"white\"},\"yaxis\":{\"backgroundcolor\":\"#E5ECF6\",\"gridcolor\":\"white\",\"gridwidth\":2,\"linecolor\":\"white\",\"showbackground\":true,\"ticks\":\"\",\"zerolinecolor\":\"white\"},\"zaxis\":{\"backgroundcolor\":\"#E5ECF6\",\"gridcolor\":\"white\",\"gridwidth\":2,\"linecolor\":\"white\",\"showbackground\":true,\"ticks\":\"\",\"zerolinecolor\":\"white\"}},\"shapedefaults\":{\"line\":{\"color\":\"#2a3f5f\"}},\"ternary\":{\"aaxis\":{\"gridcolor\":\"white\",\"linecolor\":\"white\",\"ticks\":\"\"},\"baxis\":{\"gridcolor\":\"white\",\"linecolor\":\"white\",\"ticks\":\"\"},\"bgcolor\":\"#E5ECF6\",\"caxis\":{\"gridcolor\":\"white\",\"linecolor\":\"white\",\"ticks\":\"\"}},\"title\":{\"x\":0.05},\"xaxis\":{\"automargin\":true,\"gridcolor\":\"white\",\"linecolor\":\"white\",\"ticks\":\"\",\"title\":{\"standoff\":15},\"zerolinecolor\":\"white\",\"zerolinewidth\":2},\"yaxis\":{\"automargin\":true,\"gridcolor\":\"white\",\"linecolor\":\"white\",\"ticks\":\"\",\"title\":{\"standoff\":15},\"zerolinecolor\":\"white\",\"zerolinewidth\":2}}},\"geo\":{\"domain\":{\"x\":[0.0,1.0],\"y\":[0.0,1.0]},\"center\":{},\"showcountries\":false,\"showcoastlines\":false,\"showland\":true,\"fitbounds\":\"locations\"},\"coloraxis\":{\"colorbar\":{\"title\":{\"text\":\"poblacion_5_16\"}},\"colorscale\":[[0.0,\"#30123b\"],[0.07142857142857142,\"#4145ab\"],[0.14285714285714285,\"#4675ed\"],[0.21428571428571427,\"#39a2fc\"],[0.2857142857142857,\"#1bcfd4\"],[0.35714285714285715,\"#24eca6\"],[0.42857142857142855,\"#61fc6c\"],[0.5,\"#a4fc3b\"],[0.5714285714285714,\"#d1e834\"],[0.6428571428571429,\"#f3c63a\"],[0.7142857142857143,\"#fe9b2d\"],[0.7857142857142857,\"#f36315\"],[0.8571428571428571,\"#d93806\"],[0.9285714285714286,\"#b11901\"],[1.0,\"#7a0402\"]]},\"legend\":{\"tracegroupgap\":0},\"margin\":{\"t\":60},\"title\":{\"text\":\"Poblaci\\u00f3n Estudiantil por Departamento\"}},                        {\"responsive\": true}                    ).then(function(){\n",
              "                            \n",
              "var gd = document.getElementById('0c71478d-d3d8-435c-9f59-43f749d9c763');\n",
              "var x = new MutationObserver(function (mutations, observer) {{\n",
              "        var display = window.getComputedStyle(gd).display;\n",
              "        if (!display || display === 'none') {{\n",
              "            console.log([gd, 'removed!']);\n",
              "            Plotly.purge(gd);\n",
              "            observer.disconnect();\n",
              "        }}\n",
              "}});\n",
              "\n",
              "// Listen for the removal of the full notebook cells\n",
              "var notebookContainer = gd.closest('#notebook-container');\n",
              "if (notebookContainer) {{\n",
              "    x.observe(notebookContainer, {childList: true});\n",
              "}}\n",
              "\n",
              "// Listen for the clearing of the current output cell\n",
              "var outputEl = gd.closest('.output');\n",
              "if (outputEl) {{\n",
              "    x.observe(outputEl, {childList: true});\n",
              "}}\n",
              "\n",
              "                        })                };                            </script>        </div>\n",
              "</body>\n",
              "</html>"
            ]
          },
          "metadata": {}
        }
      ]
    },
    {
      "cell_type": "code",
      "source": [],
      "metadata": {
        "id": "qJKyzokAjlfT"
      },
      "execution_count": 46,
      "outputs": []
    }
  ]
}