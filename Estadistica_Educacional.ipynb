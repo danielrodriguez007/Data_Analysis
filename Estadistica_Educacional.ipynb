{
  "nbformat": 4,
  "nbformat_minor": 0,
  "metadata": {
    "colab": {
      "provenance": [],
      "authorship_tag": "ABX9TyP1lXewcqmwy7FXh6cr8NfH",
      "include_colab_link": true
    },
    "kernelspec": {
      "name": "python3",
      "display_name": "Python 3"
    },
    "language_info": {
      "name": "python"
    }
  },
  "cells": [
    {
      "cell_type": "markdown",
      "metadata": {
        "id": "view-in-github",
        "colab_type": "text"
      },
      "source": [
        "<a href=\"https://colab.research.google.com/github/danielrodriguez007/Data_Analysis/blob/main/Estadistica_Educacional.ipynb\" target=\"_parent\"><img src=\"https://colab.research.google.com/assets/colab-badge.svg\" alt=\"Open In Colab\"/></a>"
      ]
    },
    {
      "cell_type": "code",
      "execution_count": 1,
      "metadata": {
        "id": "qmIIeJOZMSPW"
      },
      "outputs": [],
      "source": [
        "#Import necessary libraries\n",
        "import pandas as pd\n",
        "import numpy as np \n",
        "import matplotlib.pyplot as plt\n",
        "import seaborn as sns\n",
        "import plotly.graph_objects as go\n",
        "import requests\n",
        "import plotly.express as px  \n",
        "sns.set()"
      ]
    },
    {
      "cell_type": "code",
      "source": [
        "data = pd.read_json('https://www.datos.gov.co/resource/ji8i-4anb.json')"
      ],
      "metadata": {
        "id": "baEVxwsFM7Wl"
      },
      "execution_count": 2,
      "outputs": []
    },
    {
      "cell_type": "code",
      "source": [
        "data.head()"
      ],
      "metadata": {
        "colab": {
          "base_uri": "https://localhost:8080/",
          "height": 300
        },
        "id": "4ZnEMvh_NACA",
        "outputId": "00d5aa35-c46b-40a5-a693-46601b699f6b"
      },
      "execution_count": 3,
      "outputs": [
        {
          "output_type": "execute_result",
          "data": {
            "text/plain": [
              "    ano  c_digo_departamento  departamento  poblacion_5_16  \\\n",
              "0  2011                    5     Antioquia         1288473   \n",
              "1  2011                    8     Atlántico          523935   \n",
              "2  2011                   11  Bogotá, D.C.         1479334   \n",
              "3  2011                   13       Bolívar          496676   \n",
              "4  2011                   15        Boyacá          300501   \n",
              "\n",
              "   tasa_matriculacion_5_16  cobertura_neta  cobertura_neta_transicion  \\\n",
              "0                    94.01           93.85                      70.28   \n",
              "1                    99.32           99.05                      50.59   \n",
              "2                    90.70           90.29                      68.63   \n",
              "3                    91.57           91.40                      59.74   \n",
              "4                    86.16           86.11                      63.36   \n",
              "\n",
              "   cobertura_neta_primaria  cobertura_neta_secundaria  cobertura_neta_media  \\\n",
              "0                    94.12                      75.68                 44.37   \n",
              "1                    98.93                      80.22                 50.17   \n",
              "2                    86.99                      84.70                 55.01   \n",
              "3                    90.81                      67.34                 39.17   \n",
              "4                    82.50                      74.65                 49.09   \n",
              "\n",
              "   ...  reprobacion  reprobacion_transicion  reprobacion_primaria  \\\n",
              "0  ...         2.06                    0.07                  1.80   \n",
              "1  ...         0.54                    0.12                  0.45   \n",
              "2  ...         0.00                    0.00                  0.00   \n",
              "3  ...         2.10                    0.46                  1.59   \n",
              "4  ...         2.73                    0.17                  1.66   \n",
              "\n",
              "   reprobacion_secundaria  reprobacion_media  repitencia  \\\n",
              "0                    2.54               2.96        4.25   \n",
              "1                    0.67               0.75        1.82   \n",
              "2                    0.00               0.00        3.23   \n",
              "3                    2.75               3.67        4.43   \n",
              "4                    4.31               3.26        2.62   \n",
              "\n",
              "   repitencia_transicion  repitencia_primaria  repitencia_secundaria  \\\n",
              "0                   0.07                 4.56                   5.27   \n",
              "1                   0.12                 1.77                   2.18   \n",
              "2                   0.00                 2.30                   5.11   \n",
              "3                   0.46                 4.44                   5.37   \n",
              "4                   0.17                 1.90                   4.19   \n",
              "\n",
              "   repitencia_media  \n",
              "0              1.68  \n",
              "1              0.88  \n",
              "2              2.57  \n",
              "3              2.28  \n",
              "4              1.55  \n",
              "\n",
              "[5 rows x 37 columns]"
            ],
            "text/html": [
              "\n",
              "  <div id=\"df-d9daffb5-427d-453c-a5fe-e43f56b93aa7\">\n",
              "    <div class=\"colab-df-container\">\n",
              "      <div>\n",
              "<style scoped>\n",
              "    .dataframe tbody tr th:only-of-type {\n",
              "        vertical-align: middle;\n",
              "    }\n",
              "\n",
              "    .dataframe tbody tr th {\n",
              "        vertical-align: top;\n",
              "    }\n",
              "\n",
              "    .dataframe thead th {\n",
              "        text-align: right;\n",
              "    }\n",
              "</style>\n",
              "<table border=\"1\" class=\"dataframe\">\n",
              "  <thead>\n",
              "    <tr style=\"text-align: right;\">\n",
              "      <th></th>\n",
              "      <th>ano</th>\n",
              "      <th>c_digo_departamento</th>\n",
              "      <th>departamento</th>\n",
              "      <th>poblacion_5_16</th>\n",
              "      <th>tasa_matriculacion_5_16</th>\n",
              "      <th>cobertura_neta</th>\n",
              "      <th>cobertura_neta_transicion</th>\n",
              "      <th>cobertura_neta_primaria</th>\n",
              "      <th>cobertura_neta_secundaria</th>\n",
              "      <th>cobertura_neta_media</th>\n",
              "      <th>...</th>\n",
              "      <th>reprobacion</th>\n",
              "      <th>reprobacion_transicion</th>\n",
              "      <th>reprobacion_primaria</th>\n",
              "      <th>reprobacion_secundaria</th>\n",
              "      <th>reprobacion_media</th>\n",
              "      <th>repitencia</th>\n",
              "      <th>repitencia_transicion</th>\n",
              "      <th>repitencia_primaria</th>\n",
              "      <th>repitencia_secundaria</th>\n",
              "      <th>repitencia_media</th>\n",
              "    </tr>\n",
              "  </thead>\n",
              "  <tbody>\n",
              "    <tr>\n",
              "      <th>0</th>\n",
              "      <td>2011</td>\n",
              "      <td>5</td>\n",
              "      <td>Antioquia</td>\n",
              "      <td>1288473</td>\n",
              "      <td>94.01</td>\n",
              "      <td>93.85</td>\n",
              "      <td>70.28</td>\n",
              "      <td>94.12</td>\n",
              "      <td>75.68</td>\n",
              "      <td>44.37</td>\n",
              "      <td>...</td>\n",
              "      <td>2.06</td>\n",
              "      <td>0.07</td>\n",
              "      <td>1.80</td>\n",
              "      <td>2.54</td>\n",
              "      <td>2.96</td>\n",
              "      <td>4.25</td>\n",
              "      <td>0.07</td>\n",
              "      <td>4.56</td>\n",
              "      <td>5.27</td>\n",
              "      <td>1.68</td>\n",
              "    </tr>\n",
              "    <tr>\n",
              "      <th>1</th>\n",
              "      <td>2011</td>\n",
              "      <td>8</td>\n",
              "      <td>Atlántico</td>\n",
              "      <td>523935</td>\n",
              "      <td>99.32</td>\n",
              "      <td>99.05</td>\n",
              "      <td>50.59</td>\n",
              "      <td>98.93</td>\n",
              "      <td>80.22</td>\n",
              "      <td>50.17</td>\n",
              "      <td>...</td>\n",
              "      <td>0.54</td>\n",
              "      <td>0.12</td>\n",
              "      <td>0.45</td>\n",
              "      <td>0.67</td>\n",
              "      <td>0.75</td>\n",
              "      <td>1.82</td>\n",
              "      <td>0.12</td>\n",
              "      <td>1.77</td>\n",
              "      <td>2.18</td>\n",
              "      <td>0.88</td>\n",
              "    </tr>\n",
              "    <tr>\n",
              "      <th>2</th>\n",
              "      <td>2011</td>\n",
              "      <td>11</td>\n",
              "      <td>Bogotá, D.C.</td>\n",
              "      <td>1479334</td>\n",
              "      <td>90.70</td>\n",
              "      <td>90.29</td>\n",
              "      <td>68.63</td>\n",
              "      <td>86.99</td>\n",
              "      <td>84.70</td>\n",
              "      <td>55.01</td>\n",
              "      <td>...</td>\n",
              "      <td>0.00</td>\n",
              "      <td>0.00</td>\n",
              "      <td>0.00</td>\n",
              "      <td>0.00</td>\n",
              "      <td>0.00</td>\n",
              "      <td>3.23</td>\n",
              "      <td>0.00</td>\n",
              "      <td>2.30</td>\n",
              "      <td>5.11</td>\n",
              "      <td>2.57</td>\n",
              "    </tr>\n",
              "    <tr>\n",
              "      <th>3</th>\n",
              "      <td>2011</td>\n",
              "      <td>13</td>\n",
              "      <td>Bolívar</td>\n",
              "      <td>496676</td>\n",
              "      <td>91.57</td>\n",
              "      <td>91.40</td>\n",
              "      <td>59.74</td>\n",
              "      <td>90.81</td>\n",
              "      <td>67.34</td>\n",
              "      <td>39.17</td>\n",
              "      <td>...</td>\n",
              "      <td>2.10</td>\n",
              "      <td>0.46</td>\n",
              "      <td>1.59</td>\n",
              "      <td>2.75</td>\n",
              "      <td>3.67</td>\n",
              "      <td>4.43</td>\n",
              "      <td>0.46</td>\n",
              "      <td>4.44</td>\n",
              "      <td>5.37</td>\n",
              "      <td>2.28</td>\n",
              "    </tr>\n",
              "    <tr>\n",
              "      <th>4</th>\n",
              "      <td>2011</td>\n",
              "      <td>15</td>\n",
              "      <td>Boyacá</td>\n",
              "      <td>300501</td>\n",
              "      <td>86.16</td>\n",
              "      <td>86.11</td>\n",
              "      <td>63.36</td>\n",
              "      <td>82.50</td>\n",
              "      <td>74.65</td>\n",
              "      <td>49.09</td>\n",
              "      <td>...</td>\n",
              "      <td>2.73</td>\n",
              "      <td>0.17</td>\n",
              "      <td>1.66</td>\n",
              "      <td>4.31</td>\n",
              "      <td>3.26</td>\n",
              "      <td>2.62</td>\n",
              "      <td>0.17</td>\n",
              "      <td>1.90</td>\n",
              "      <td>4.19</td>\n",
              "      <td>1.55</td>\n",
              "    </tr>\n",
              "  </tbody>\n",
              "</table>\n",
              "<p>5 rows × 37 columns</p>\n",
              "</div>\n",
              "      <button class=\"colab-df-convert\" onclick=\"convertToInteractive('df-d9daffb5-427d-453c-a5fe-e43f56b93aa7')\"\n",
              "              title=\"Convert this dataframe to an interactive table.\"\n",
              "              style=\"display:none;\">\n",
              "        \n",
              "  <svg xmlns=\"http://www.w3.org/2000/svg\" height=\"24px\"viewBox=\"0 0 24 24\"\n",
              "       width=\"24px\">\n",
              "    <path d=\"M0 0h24v24H0V0z\" fill=\"none\"/>\n",
              "    <path d=\"M18.56 5.44l.94 2.06.94-2.06 2.06-.94-2.06-.94-.94-2.06-.94 2.06-2.06.94zm-11 1L8.5 8.5l.94-2.06 2.06-.94-2.06-.94L8.5 2.5l-.94 2.06-2.06.94zm10 10l.94 2.06.94-2.06 2.06-.94-2.06-.94-.94-2.06-.94 2.06-2.06.94z\"/><path d=\"M17.41 7.96l-1.37-1.37c-.4-.4-.92-.59-1.43-.59-.52 0-1.04.2-1.43.59L10.3 9.45l-7.72 7.72c-.78.78-.78 2.05 0 2.83L4 21.41c.39.39.9.59 1.41.59.51 0 1.02-.2 1.41-.59l7.78-7.78 2.81-2.81c.8-.78.8-2.07 0-2.86zM5.41 20L4 18.59l7.72-7.72 1.47 1.35L5.41 20z\"/>\n",
              "  </svg>\n",
              "      </button>\n",
              "      \n",
              "  <style>\n",
              "    .colab-df-container {\n",
              "      display:flex;\n",
              "      flex-wrap:wrap;\n",
              "      gap: 12px;\n",
              "    }\n",
              "\n",
              "    .colab-df-convert {\n",
              "      background-color: #E8F0FE;\n",
              "      border: none;\n",
              "      border-radius: 50%;\n",
              "      cursor: pointer;\n",
              "      display: none;\n",
              "      fill: #1967D2;\n",
              "      height: 32px;\n",
              "      padding: 0 0 0 0;\n",
              "      width: 32px;\n",
              "    }\n",
              "\n",
              "    .colab-df-convert:hover {\n",
              "      background-color: #E2EBFA;\n",
              "      box-shadow: 0px 1px 2px rgba(60, 64, 67, 0.3), 0px 1px 3px 1px rgba(60, 64, 67, 0.15);\n",
              "      fill: #174EA6;\n",
              "    }\n",
              "\n",
              "    [theme=dark] .colab-df-convert {\n",
              "      background-color: #3B4455;\n",
              "      fill: #D2E3FC;\n",
              "    }\n",
              "\n",
              "    [theme=dark] .colab-df-convert:hover {\n",
              "      background-color: #434B5C;\n",
              "      box-shadow: 0px 1px 3px 1px rgba(0, 0, 0, 0.15);\n",
              "      filter: drop-shadow(0px 1px 2px rgba(0, 0, 0, 0.3));\n",
              "      fill: #FFFFFF;\n",
              "    }\n",
              "  </style>\n",
              "\n",
              "      <script>\n",
              "        const buttonEl =\n",
              "          document.querySelector('#df-d9daffb5-427d-453c-a5fe-e43f56b93aa7 button.colab-df-convert');\n",
              "        buttonEl.style.display =\n",
              "          google.colab.kernel.accessAllowed ? 'block' : 'none';\n",
              "\n",
              "        async function convertToInteractive(key) {\n",
              "          const element = document.querySelector('#df-d9daffb5-427d-453c-a5fe-e43f56b93aa7');\n",
              "          const dataTable =\n",
              "            await google.colab.kernel.invokeFunction('convertToInteractive',\n",
              "                                                     [key], {});\n",
              "          if (!dataTable) return;\n",
              "\n",
              "          const docLinkHtml = 'Like what you see? Visit the ' +\n",
              "            '<a target=\"_blank\" href=https://colab.research.google.com/notebooks/data_table.ipynb>data table notebook</a>'\n",
              "            + ' to learn more about interactive tables.';\n",
              "          element.innerHTML = '';\n",
              "          dataTable['output_type'] = 'display_data';\n",
              "          await google.colab.output.renderOutput(dataTable, element);\n",
              "          const docLink = document.createElement('div');\n",
              "          docLink.innerHTML = docLinkHtml;\n",
              "          element.appendChild(docLink);\n",
              "        }\n",
              "      </script>\n",
              "    </div>\n",
              "  </div>\n",
              "  "
            ]
          },
          "metadata": {},
          "execution_count": 3
        }
      ]
    },
    {
      "cell_type": "code",
      "source": [
        "data.columns"
      ],
      "metadata": {
        "colab": {
          "base_uri": "https://localhost:8080/"
        },
        "id": "KBezm8WnNH-k",
        "outputId": "226e7a98-eb16-48e7-8294-9e29cd5e9947"
      },
      "execution_count": 4,
      "outputs": [
        {
          "output_type": "execute_result",
          "data": {
            "text/plain": [
              "Index(['ano', 'c_digo_departamento', 'departamento', 'poblacion_5_16',\n",
              "       'tasa_matriculacion_5_16', 'cobertura_neta',\n",
              "       'cobertura_neta_transicion', 'cobertura_neta_primaria',\n",
              "       'cobertura_neta_secundaria', 'cobertura_neta_media', 'cobertura_bruta',\n",
              "       'cobertura_bruta_transicion', 'cobertura_bruta_primaria',\n",
              "       'cobertura_bruta_secundaria', 'cobertura_bruta_media',\n",
              "       'tamano_promedio_grupo', 'sedes_conectadas_a_internet', 'desercion',\n",
              "       'desercion_transicion', 'desercion_primaria', 'desercion_secundaria',\n",
              "       'desercion_media', 'aprobacion', 'aprobacion_transicion',\n",
              "       'aprobacion_primaria', 'aprobacion_secundaria', 'aprobacion_media',\n",
              "       'reprobacion', 'reprobacion_transicion', 'reprobacion_primaria',\n",
              "       'reprobacion_secundaria', 'reprobacion_media', 'repitencia',\n",
              "       'repitencia_transicion', 'repitencia_primaria', 'repitencia_secundaria',\n",
              "       'repitencia_media'],\n",
              "      dtype='object')"
            ]
          },
          "metadata": {},
          "execution_count": 4
        }
      ]
    },
    {
      "cell_type": "code",
      "source": [
        "data.dtypes"
      ],
      "metadata": {
        "colab": {
          "base_uri": "https://localhost:8080/"
        },
        "id": "OyQn-TGjOsD6",
        "outputId": "522f4a74-9de0-4704-c1ef-84390ae1f854"
      },
      "execution_count": 5,
      "outputs": [
        {
          "output_type": "execute_result",
          "data": {
            "text/plain": [
              "ano                              int64\n",
              "c_digo_departamento              int64\n",
              "departamento                    object\n",
              "poblacion_5_16                   int64\n",
              "tasa_matriculacion_5_16        float64\n",
              "cobertura_neta                 float64\n",
              "cobertura_neta_transicion      float64\n",
              "cobertura_neta_primaria        float64\n",
              "cobertura_neta_secundaria      float64\n",
              "cobertura_neta_media           float64\n",
              "cobertura_bruta                float64\n",
              "cobertura_bruta_transicion     float64\n",
              "cobertura_bruta_primaria       float64\n",
              "cobertura_bruta_secundaria     float64\n",
              "cobertura_bruta_media          float64\n",
              "tamano_promedio_grupo          float64\n",
              "sedes_conectadas_a_internet    float64\n",
              "desercion                      float64\n",
              "desercion_transicion           float64\n",
              "desercion_primaria             float64\n",
              "desercion_secundaria           float64\n",
              "desercion_media                float64\n",
              "aprobacion                     float64\n",
              "aprobacion_transicion          float64\n",
              "aprobacion_primaria            float64\n",
              "aprobacion_secundaria          float64\n",
              "aprobacion_media               float64\n",
              "reprobacion                    float64\n",
              "reprobacion_transicion         float64\n",
              "reprobacion_primaria           float64\n",
              "reprobacion_secundaria         float64\n",
              "reprobacion_media              float64\n",
              "repitencia                     float64\n",
              "repitencia_transicion          float64\n",
              "repitencia_primaria            float64\n",
              "repitencia_secundaria          float64\n",
              "repitencia_media               float64\n",
              "dtype: object"
            ]
          },
          "metadata": {},
          "execution_count": 5
        }
      ]
    },
    {
      "cell_type": "code",
      "source": [
        "data.isnull().sum()"
      ],
      "metadata": {
        "colab": {
          "base_uri": "https://localhost:8080/"
        },
        "id": "4hk8jWTzPCTb",
        "outputId": "f8692b23-183e-471d-c203-024d05308c46"
      },
      "execution_count": 6,
      "outputs": [
        {
          "output_type": "execute_result",
          "data": {
            "text/plain": [
              "ano                              0\n",
              "c_digo_departamento              0\n",
              "departamento                     0\n",
              "poblacion_5_16                   0\n",
              "tasa_matriculacion_5_16          0\n",
              "cobertura_neta                   0\n",
              "cobertura_neta_transicion        0\n",
              "cobertura_neta_primaria          0\n",
              "cobertura_neta_secundaria        0\n",
              "cobertura_neta_media             0\n",
              "cobertura_bruta                  0\n",
              "cobertura_bruta_transicion       0\n",
              "cobertura_bruta_primaria         0\n",
              "cobertura_bruta_secundaria       0\n",
              "cobertura_bruta_media            0\n",
              "tamano_promedio_grupo          132\n",
              "sedes_conectadas_a_internet    132\n",
              "desercion                        0\n",
              "desercion_transicion             1\n",
              "desercion_primaria               0\n",
              "desercion_secundaria             0\n",
              "desercion_media                  0\n",
              "aprobacion                       0\n",
              "aprobacion_transicion            0\n",
              "aprobacion_primaria              0\n",
              "aprobacion_secundaria            0\n",
              "aprobacion_media                 0\n",
              "reprobacion                      0\n",
              "reprobacion_transicion           0\n",
              "reprobacion_primaria             0\n",
              "reprobacion_secundaria           0\n",
              "reprobacion_media                0\n",
              "repitencia                       0\n",
              "repitencia_transicion            0\n",
              "repitencia_primaria              0\n",
              "repitencia_secundaria            0\n",
              "repitencia_media                 0\n",
              "dtype: int64"
            ]
          },
          "metadata": {},
          "execution_count": 6
        }
      ]
    },
    {
      "cell_type": "code",
      "source": [
        "data['sedes_conectadas_a_internet'].unique()"
      ],
      "metadata": {
        "colab": {
          "base_uri": "https://localhost:8080/"
        },
        "id": "maQj4bvXPLOs",
        "outputId": "fb89234a-2b19-4f08-e3a5-f9b3779eb8ee"
      },
      "execution_count": 7,
      "outputs": [
        {
          "output_type": "execute_result",
          "data": {
            "text/plain": [
              "array([ 74.48,  80.46,  94.21,  30.12,  25.26,  34.74,   8.01,  29.7 ,\n",
              "        29.02,  35.26,  35.04,  13.88,  30.28,  34.94,  27.63,  24.42,\n",
              "        15.68,  17.78,  62.  ,  45.21,  25.22,  58.31,  20.22,  41.51,\n",
              "        30.33,  40.  ,  15.53,  65.63,  36.36,   4.21,  10.73,   7.63,\n",
              "        16.67,  62.51,  51.04, 100.  ,  33.44,  29.95,  30.75,  11.98,\n",
              "        43.75,  25.9 ,  30.49,  39.91,  18.98,  44.54,  35.66,  30.3 ,\n",
              "        10.77,  22.69,  12.78,  20.29,  46.96,  22.18,  26.4 ,  42.37,\n",
              "        40.32,  17.33,  18.7 ,  15.74,   0.  ,  20.91,  18.95,  11.42,\n",
              "        20.61,  17.86,  68.47,  84.94,  99.86,  52.59,  23.57,  34.49,\n",
              "         8.48,  24.64,  22.4 ,  18.28,  30.51,   7.96,  11.73,  14.04,\n",
              "        30.69,  19.32,  30.83,   8.69,  64.71,  27.54,  15.65,  20.39,\n",
              "        56.39,  16.63,   7.51,  80.  ,  12.84,  23.08,  21.43,  19.33,\n",
              "        35.33,  62.72,  80.87,  99.44,  42.16,  21.05,  28.42,  10.89,\n",
              "        42.74,  30.59,  45.22,  21.58,  18.84,  24.48,  37.52,  23.  ,\n",
              "        21.28,  36.4 ,  15.46,  32.26,  56.63,  21.54,  59.08,  34.56,\n",
              "        36.22,  21.23,  23.46,  18.04,  96.  ,  16.51,  30.77,  15.02,\n",
              "        12.61,  49.46,  61.29,  88.  ,  98.87,  44.94,  22.96,  14.77,\n",
              "        44.93,  39.87,  39.12,  32.73,  20.15,  38.93,  21.9 ,  40.02,\n",
              "        52.9 ,  30.27,  19.12,  15.93,  55.42,  25.65,  50.39,  27.8 ,\n",
              "        43.1 ,  37.55,  20.3 ,  25.27,  83.33,  16.36,  24.44,  24.08,\n",
              "        24.58,  41.62,  26.18,  95.39,  97.65,  48.21,  26.86,  35.58,\n",
              "        11.9 ,  51.52,  39.68,  47.41,  34.84,  38.49,  26.44,  22.3 ,\n",
              "        54.03,  51.73,  32.91,  31.35,  47.77,  52.11,  32.65,  55.54,\n",
              "        40.63,  63.06,  13.29,  38.42,  16.08,  79.17,  26.61,  18.89,\n",
              "        19.75,  25.66,  41.58,  32.85,  92.5 ,  98.76,  39.17,  27.23,\n",
              "        37.97,   8.3 ,  32.01,  26.42,  37.99,  29.04,  36.32,  25.76,\n",
              "        49.71,  25.83,  28.1 ,  30.44,  22.94,  40.26,  44.38,  23.91,\n",
              "        47.05,  35.81,  15.69,  16.5 ,  14.94,  13.39,  37.7 ,    nan])"
            ]
          },
          "metadata": {},
          "execution_count": 7
        }
      ]
    },
    {
      "cell_type": "code",
      "source": [
        "data['sedes_conectadas_a_internet'] = data['sedes_conectadas_a_internet'].fillna(00.00) "
      ],
      "metadata": {
        "id": "GbbnkZyzPXRM"
      },
      "execution_count": 8,
      "outputs": []
    },
    {
      "cell_type": "code",
      "source": [
        "data.c_digo_departamento.unique()"
      ],
      "metadata": {
        "colab": {
          "base_uri": "https://localhost:8080/"
        },
        "id": "m1fWvjz5QV9N",
        "outputId": "fd043e14-4c5a-41bd-b69b-a8fe156cb5ec"
      },
      "execution_count": 9,
      "outputs": [
        {
          "output_type": "execute_result",
          "data": {
            "text/plain": [
              "array([ 5,  8, 11, 13, 15, 17, 18, 19, 20, 23, 25, 27, 41, 44, 47, 50, 52,\n",
              "       54, 63, 66, 68, 70, 73, 76, 81, 85, 86, 88, 91, 94, 95, 97, 99])"
            ]
          },
          "metadata": {},
          "execution_count": 9
        }
      ]
    },
    {
      "cell_type": "code",
      "source": [
        "data['departamento'].unique()"
      ],
      "metadata": {
        "colab": {
          "base_uri": "https://localhost:8080/"
        },
        "id": "r6dF47YVo9Cj",
        "outputId": "c88e1b05-516e-4735-bb78-29e59babdf89"
      },
      "execution_count": 10,
      "outputs": [
        {
          "output_type": "execute_result",
          "data": {
            "text/plain": [
              "array(['Antioquia', 'Atlántico', 'Bogotá, D.C.', 'Bolívar', 'Boyacá',\n",
              "       'Caldas', 'Caquetá', 'Cauca', 'Cesar', 'Córdoba', 'Cundinamarca',\n",
              "       'Chocó', 'Huila', 'La Guajira', 'Magdalena', 'Meta', 'Nariño',\n",
              "       'Norte de Santander', 'Quindio', 'Risaralda', 'Santander', 'Sucre',\n",
              "       'Tolima', 'Valle del Cauca', 'Arauca', 'Casanare', 'Putumayo',\n",
              "       'Archipiélago de San Andrés, Providencia y Santa Catalina',\n",
              "       'Amazonas', 'Guainía', 'Guaviare', 'Vaupés', 'Vichada',\n",
              "       'Atlantico', 'Bogota', 'Bolivar', 'Boyaca', 'Caqueta', 'Cordoba',\n",
              "       'Choco', 'Norte Santander', 'Valle', 'San Andres', 'Guainia',\n",
              "       'Vaupes', 'Bogotá D.C.',\n",
              "       'Archipiélago de San Andrés. Providencia y Santa Catalina'],\n",
              "      dtype=object)"
            ]
          },
          "metadata": {},
          "execution_count": 10
        }
      ]
    },
    {
      "cell_type": "code",
      "source": [
        "data['departamento'] = data['departamento'].map({'Antioquia':'ANTIOQUIA','Atlántico':'ATLANTICO','Bogotá, D.C.':'SANTAFE DE BOGOTA D.C',\n",
        "                                                               'Bolívar':'BOLIVAR','Boyacá':'BOYACA','Caldas':'CALDAS','Caquetá':'CAQUETA','Cauca':'CAUCA','Cesar':'CESAR',\n",
        "                                                               'Córdoba':'CORDOBA','Cundinamarca':'CUNDINAMARCA','Chocó':'CHOCO','Huila':'HUILA','La Guajira':'LA GUAJIRA',\n",
        "                                                               'Magdalena':'MAGDALENA','Meta':'META','Nariño':'NARIÑO','Norte de Santander':'NORTE DE SANTANDER','Quindio':'QUINDIO',\n",
        "                                                               'Risaralda':'RISARALDA','Santander':'SANTANDER','Sucre':'SUCRE','Tolima':'TOLIMA','Valle del Cauca':'VALLE DEL CAUCA',\n",
        "                                                               'Arauca':'ARAUCA','Casanare':'CASANARE','Putumayo':'PUTUMAYO',\n",
        "                                                               'Archipiélago de San Andrés, Providencia y Santa Catalina':'ARCHIPIELAGO DE SAN ANDRES PROVIDENCIA Y SANTA CATALINA',\n",
        "                                                               'Amazonas':'AMAZONAS','Guainía':'GUAINIA','Guaviare':'GUAVIARE','Vaupés':'VAUPES','Vichada':'VICHADA','Atlantico':'ATLANTICO',\n",
        "                                                               'Bogota':'SANTAFE DE BOGOTA D.C','Bogotá D.C.':'SANTAFE DE BOGOTA D.C','Bolivar':'BOLIVAR','Boyaca':'BOYACA','Caqueta':'CAQUETA',\n",
        "                                                               'Cordoba':'CORDOBA','Choco':'CHOCO','Norte Santander':'NORTE DE SANTANDER','Valle':'VALLE DEL CAUCA',\n",
        "                                                               'San Andres':'ARCHIPIELAGO DE SAN ANDRES PROVIDENCIA Y SANTA CATALINA','Guainia':'GUAINIA','Vaupes':'VAUPES'})"
      ],
      "metadata": {
        "id": "IHDjTAy5rEig"
      },
      "execution_count": 11,
      "outputs": []
    },
    {
      "cell_type": "code",
      "source": [
        "print(data['ano'].min())\n",
        "print(data['ano'].max())"
      ],
      "metadata": {
        "colab": {
          "base_uri": "https://localhost:8080/"
        },
        "id": "jw1U0qVhQh1M",
        "outputId": "c86fee41-1d7e-4cfb-be8a-e296b0578bef"
      },
      "execution_count": 12,
      "outputs": [
        {
          "output_type": "stream",
          "name": "stdout",
          "text": [
            "2011\n",
            "2021\n"
          ]
        }
      ]
    },
    {
      "cell_type": "code",
      "source": [
        "df_poblacion = data.loc[:,['departamento','poblacion_5_16']]\n",
        "df_poblacion"
      ],
      "metadata": {
        "colab": {
          "base_uri": "https://localhost:8080/",
          "height": 424
        },
        "id": "whaQt054V9Nl",
        "outputId": "746b2cc9-1f70-48ca-98f8-d48d51307a56"
      },
      "execution_count": 13,
      "outputs": [
        {
          "output_type": "execute_result",
          "data": {
            "text/plain": [
              "              departamento  poblacion_5_16\n",
              "0                ANTIOQUIA         1288473\n",
              "1                ATLANTICO          523935\n",
              "2    SANTAFE DE BOGOTA D.C         1479334\n",
              "3                  BOLIVAR          496676\n",
              "4                   BOYACA          300501\n",
              "..                     ...             ...\n",
              "358               AMAZONAS           22670\n",
              "359                GUAINIA           15643\n",
              "360               GUAVIARE           21658\n",
              "361                 VAUPES           16081\n",
              "362                VICHADA           33183\n",
              "\n",
              "[363 rows x 2 columns]"
            ],
            "text/html": [
              "\n",
              "  <div id=\"df-0fc82afe-4cc4-4423-a182-7f2b85d9328f\">\n",
              "    <div class=\"colab-df-container\">\n",
              "      <div>\n",
              "<style scoped>\n",
              "    .dataframe tbody tr th:only-of-type {\n",
              "        vertical-align: middle;\n",
              "    }\n",
              "\n",
              "    .dataframe tbody tr th {\n",
              "        vertical-align: top;\n",
              "    }\n",
              "\n",
              "    .dataframe thead th {\n",
              "        text-align: right;\n",
              "    }\n",
              "</style>\n",
              "<table border=\"1\" class=\"dataframe\">\n",
              "  <thead>\n",
              "    <tr style=\"text-align: right;\">\n",
              "      <th></th>\n",
              "      <th>departamento</th>\n",
              "      <th>poblacion_5_16</th>\n",
              "    </tr>\n",
              "  </thead>\n",
              "  <tbody>\n",
              "    <tr>\n",
              "      <th>0</th>\n",
              "      <td>ANTIOQUIA</td>\n",
              "      <td>1288473</td>\n",
              "    </tr>\n",
              "    <tr>\n",
              "      <th>1</th>\n",
              "      <td>ATLANTICO</td>\n",
              "      <td>523935</td>\n",
              "    </tr>\n",
              "    <tr>\n",
              "      <th>2</th>\n",
              "      <td>SANTAFE DE BOGOTA D.C</td>\n",
              "      <td>1479334</td>\n",
              "    </tr>\n",
              "    <tr>\n",
              "      <th>3</th>\n",
              "      <td>BOLIVAR</td>\n",
              "      <td>496676</td>\n",
              "    </tr>\n",
              "    <tr>\n",
              "      <th>4</th>\n",
              "      <td>BOYACA</td>\n",
              "      <td>300501</td>\n",
              "    </tr>\n",
              "    <tr>\n",
              "      <th>...</th>\n",
              "      <td>...</td>\n",
              "      <td>...</td>\n",
              "    </tr>\n",
              "    <tr>\n",
              "      <th>358</th>\n",
              "      <td>AMAZONAS</td>\n",
              "      <td>22670</td>\n",
              "    </tr>\n",
              "    <tr>\n",
              "      <th>359</th>\n",
              "      <td>GUAINIA</td>\n",
              "      <td>15643</td>\n",
              "    </tr>\n",
              "    <tr>\n",
              "      <th>360</th>\n",
              "      <td>GUAVIARE</td>\n",
              "      <td>21658</td>\n",
              "    </tr>\n",
              "    <tr>\n",
              "      <th>361</th>\n",
              "      <td>VAUPES</td>\n",
              "      <td>16081</td>\n",
              "    </tr>\n",
              "    <tr>\n",
              "      <th>362</th>\n",
              "      <td>VICHADA</td>\n",
              "      <td>33183</td>\n",
              "    </tr>\n",
              "  </tbody>\n",
              "</table>\n",
              "<p>363 rows × 2 columns</p>\n",
              "</div>\n",
              "      <button class=\"colab-df-convert\" onclick=\"convertToInteractive('df-0fc82afe-4cc4-4423-a182-7f2b85d9328f')\"\n",
              "              title=\"Convert this dataframe to an interactive table.\"\n",
              "              style=\"display:none;\">\n",
              "        \n",
              "  <svg xmlns=\"http://www.w3.org/2000/svg\" height=\"24px\"viewBox=\"0 0 24 24\"\n",
              "       width=\"24px\">\n",
              "    <path d=\"M0 0h24v24H0V0z\" fill=\"none\"/>\n",
              "    <path d=\"M18.56 5.44l.94 2.06.94-2.06 2.06-.94-2.06-.94-.94-2.06-.94 2.06-2.06.94zm-11 1L8.5 8.5l.94-2.06 2.06-.94-2.06-.94L8.5 2.5l-.94 2.06-2.06.94zm10 10l.94 2.06.94-2.06 2.06-.94-2.06-.94-.94-2.06-.94 2.06-2.06.94z\"/><path d=\"M17.41 7.96l-1.37-1.37c-.4-.4-.92-.59-1.43-.59-.52 0-1.04.2-1.43.59L10.3 9.45l-7.72 7.72c-.78.78-.78 2.05 0 2.83L4 21.41c.39.39.9.59 1.41.59.51 0 1.02-.2 1.41-.59l7.78-7.78 2.81-2.81c.8-.78.8-2.07 0-2.86zM5.41 20L4 18.59l7.72-7.72 1.47 1.35L5.41 20z\"/>\n",
              "  </svg>\n",
              "      </button>\n",
              "      \n",
              "  <style>\n",
              "    .colab-df-container {\n",
              "      display:flex;\n",
              "      flex-wrap:wrap;\n",
              "      gap: 12px;\n",
              "    }\n",
              "\n",
              "    .colab-df-convert {\n",
              "      background-color: #E8F0FE;\n",
              "      border: none;\n",
              "      border-radius: 50%;\n",
              "      cursor: pointer;\n",
              "      display: none;\n",
              "      fill: #1967D2;\n",
              "      height: 32px;\n",
              "      padding: 0 0 0 0;\n",
              "      width: 32px;\n",
              "    }\n",
              "\n",
              "    .colab-df-convert:hover {\n",
              "      background-color: #E2EBFA;\n",
              "      box-shadow: 0px 1px 2px rgba(60, 64, 67, 0.3), 0px 1px 3px 1px rgba(60, 64, 67, 0.15);\n",
              "      fill: #174EA6;\n",
              "    }\n",
              "\n",
              "    [theme=dark] .colab-df-convert {\n",
              "      background-color: #3B4455;\n",
              "      fill: #D2E3FC;\n",
              "    }\n",
              "\n",
              "    [theme=dark] .colab-df-convert:hover {\n",
              "      background-color: #434B5C;\n",
              "      box-shadow: 0px 1px 3px 1px rgba(0, 0, 0, 0.15);\n",
              "      filter: drop-shadow(0px 1px 2px rgba(0, 0, 0, 0.3));\n",
              "      fill: #FFFFFF;\n",
              "    }\n",
              "  </style>\n",
              "\n",
              "      <script>\n",
              "        const buttonEl =\n",
              "          document.querySelector('#df-0fc82afe-4cc4-4423-a182-7f2b85d9328f button.colab-df-convert');\n",
              "        buttonEl.style.display =\n",
              "          google.colab.kernel.accessAllowed ? 'block' : 'none';\n",
              "\n",
              "        async function convertToInteractive(key) {\n",
              "          const element = document.querySelector('#df-0fc82afe-4cc4-4423-a182-7f2b85d9328f');\n",
              "          const dataTable =\n",
              "            await google.colab.kernel.invokeFunction('convertToInteractive',\n",
              "                                                     [key], {});\n",
              "          if (!dataTable) return;\n",
              "\n",
              "          const docLinkHtml = 'Like what you see? Visit the ' +\n",
              "            '<a target=\"_blank\" href=https://colab.research.google.com/notebooks/data_table.ipynb>data table notebook</a>'\n",
              "            + ' to learn more about interactive tables.';\n",
              "          element.innerHTML = '';\n",
              "          dataTable['output_type'] = 'display_data';\n",
              "          await google.colab.output.renderOutput(dataTable, element);\n",
              "          const docLink = document.createElement('div');\n",
              "          docLink.innerHTML = docLinkHtml;\n",
              "          element.appendChild(docLink);\n",
              "        }\n",
              "      </script>\n",
              "    </div>\n",
              "  </div>\n",
              "  "
            ]
          },
          "metadata": {},
          "execution_count": 13
        }
      ]
    },
    {
      "cell_type": "code",
      "source": [
        "url = 'https://gist.githubusercontent.com/john-guerra/43c7656821069d00dcbc/raw/be6a6e239cd5b5b803c6e7c2ec405b793a9064dd/Colombia.geo.json'\n",
        "col_geo = requests.get(url)\n",
        "\n",
        "figure = px.choropleth(data_frame=df_poblacion,\n",
        "                       geojson=url,\n",
        "                       locations='departamento',\n",
        "                       featureidkey='properties.NOMBRE_DPT',\n",
        "                       color='poblacion_5_16',\n",
        "                       color_continuous_scale=\"turbo\",\n",
        "                       labels={'poblacion_5_16':'Población Estudiantil'} )\n",
        "\n",
        "figure.update_geos(showcountries=False, showcoastlines=False, showland=True, fitbounds=\"locations\")\n",
        "\n",
        "figure.update_layout(title_text = 'Población Estudiantil por Departamento')\n",
        "\n",
        "figure.show()\n"
      ],
      "metadata": {
        "colab": {
          "base_uri": "https://localhost:8080/",
          "height": 542
        },
        "id": "g5jt52HKbS8I",
        "outputId": "e4581d51-0dfe-4e46-c88d-10c440dabc04"
      },
      "execution_count": 14,
      "outputs": [
        {
          "output_type": "display_data",
          "data": {
            "text/html": [
              "<html>\n",
              "<head><meta charset=\"utf-8\" /></head>\n",
              "<body>\n",
              "    <div>            <script src=\"https://cdnjs.cloudflare.com/ajax/libs/mathjax/2.7.5/MathJax.js?config=TeX-AMS-MML_SVG\"></script><script type=\"text/javascript\">if (window.MathJax) {MathJax.Hub.Config({SVG: {font: \"STIX-Web\"}});}</script>                <script type=\"text/javascript\">window.PlotlyConfig = {MathJaxConfig: 'local'};</script>\n",
              "        <script src=\"https://cdn.plot.ly/plotly-2.8.3.min.js\"></script>                <div id=\"1d435d2e-132f-4494-b0ea-323e2aaaca86\" class=\"plotly-graph-div\" style=\"height:525px; width:100%;\"></div>            <script type=\"text/javascript\">                                    window.PLOTLYENV=window.PLOTLYENV || {};                                    if (document.getElementById(\"1d435d2e-132f-4494-b0ea-323e2aaaca86\")) {                    Plotly.newPlot(                        \"1d435d2e-132f-4494-b0ea-323e2aaaca86\",                        [{\"coloraxis\":\"coloraxis\",\"featureidkey\":\"properties.NOMBRE_DPT\",\"geo\":\"geo\",\"geojson\":\"https://gist.githubusercontent.com/john-guerra/43c7656821069d00dcbc/raw/be6a6e239cd5b5b803c6e7c2ec405b793a9064dd/Colombia.geo.json\",\"hovertemplate\":\"departamento=%{location}<br>Poblaci\\u00f3n Estudiantil=%{z}<extra></extra>\",\"locations\":[\"ANTIOQUIA\",\"ATLANTICO\",\"SANTAFE DE BOGOTA D.C\",\"BOLIVAR\",\"BOYACA\",\"CALDAS\",\"CAQUETA\",\"CAUCA\",\"CESAR\",\"CORDOBA\",\"CUNDINAMARCA\",\"CHOCO\",\"HUILA\",\"LA GUAJIRA\",\"MAGDALENA\",\"META\",\"NARI\\u00d1O\",\"NORTE DE SANTANDER\",\"QUINDIO\",\"RISARALDA\",\"SANTANDER\",\"SUCRE\",\"TOLIMA\",\"VALLE DEL CAUCA\",\"ARAUCA\",\"CASANARE\",\"PUTUMAYO\",\"ARCHIPIELAGO DE SAN ANDRES PROVIDENCIA Y SANTA CATALINA\",\"AMAZONAS\",\"GUAINIA\",\"GUAVIARE\",\"VAUPES\",\"VICHADA\",\"ANTIOQUIA\",\"ATLANTICO\",\"SANTAFE DE BOGOTA D.C\",\"BOLIVAR\",\"BOYACA\",\"CALDAS\",\"CAQUETA\",\"CAUCA\",\"CESAR\",\"CORDOBA\",\"CUNDINAMARCA\",\"CHOCO\",\"HUILA\",\"LA GUAJIRA\",\"MAGDALENA\",\"META\",\"NARI\\u00d1O\",\"NORTE DE SANTANDER\",\"QUINDIO\",\"RISARALDA\",\"SANTANDER\",\"SUCRE\",\"TOLIMA\",\"VALLE DEL CAUCA\",\"ARAUCA\",\"CASANARE\",\"PUTUMAYO\",\"ARCHIPIELAGO DE SAN ANDRES PROVIDENCIA Y SANTA CATALINA\",\"AMAZONAS\",\"GUAINIA\",\"GUAVIARE\",\"VAUPES\",\"VICHADA\",\"ANTIOQUIA\",\"ATLANTICO\",\"SANTAFE DE BOGOTA D.C\",\"BOLIVAR\",\"BOYACA\",\"CALDAS\",\"CAQUETA\",\"CAUCA\",\"CESAR\",\"CORDOBA\",\"CUNDINAMARCA\",\"CHOCO\",\"HUILA\",\"LA GUAJIRA\",\"MAGDALENA\",\"META\",\"NARI\\u00d1O\",\"NORTE DE SANTANDER\",\"QUINDIO\",\"RISARALDA\",\"SANTANDER\",\"SUCRE\",\"TOLIMA\",\"VALLE DEL CAUCA\",\"ARAUCA\",\"CASANARE\",\"PUTUMAYO\",\"ARCHIPIELAGO DE SAN ANDRES PROVIDENCIA Y SANTA CATALINA\",\"AMAZONAS\",\"GUAINIA\",\"GUAVIARE\",\"VAUPES\",\"VICHADA\",\"ANTIOQUIA\",\"ATLANTICO\",\"SANTAFE DE BOGOTA D.C\",\"BOLIVAR\",\"BOYACA\",\"CALDAS\",\"CAQUETA\",\"CAUCA\",\"CESAR\",\"CORDOBA\",\"CUNDINAMARCA\",\"CHOCO\",\"HUILA\",\"LA GUAJIRA\",\"MAGDALENA\",\"META\",\"NARI\\u00d1O\",\"NORTE DE SANTANDER\",\"QUINDIO\",\"RISARALDA\",\"SANTANDER\",\"SUCRE\",\"TOLIMA\",\"VALLE DEL CAUCA\",\"ARAUCA\",\"CASANARE\",\"PUTUMAYO\",\"ARCHIPIELAGO DE SAN ANDRES PROVIDENCIA Y SANTA CATALINA\",\"AMAZONAS\",\"GUAINIA\",\"GUAVIARE\",\"VAUPES\",\"VICHADA\",\"ANTIOQUIA\",\"ATLANTICO\",\"SANTAFE DE BOGOTA D.C\",\"BOLIVAR\",\"BOYACA\",\"CALDAS\",\"CAQUETA\",\"CAUCA\",\"CESAR\",\"CORDOBA\",\"CUNDINAMARCA\",\"CHOCO\",\"HUILA\",\"LA GUAJIRA\",\"MAGDALENA\",\"META\",\"NARI\\u00d1O\",\"NORTE DE SANTANDER\",\"QUINDIO\",\"RISARALDA\",\"SANTANDER\",\"SUCRE\",\"TOLIMA\",\"VALLE DEL CAUCA\",\"ARAUCA\",\"CASANARE\",\"PUTUMAYO\",\"ARCHIPIELAGO DE SAN ANDRES PROVIDENCIA Y SANTA CATALINA\",\"AMAZONAS\",\"GUAINIA\",\"GUAVIARE\",\"VAUPES\",\"VICHADA\",\"ANTIOQUIA\",\"ATLANTICO\",\"SANTAFE DE BOGOTA D.C\",\"BOLIVAR\",\"BOYACA\",\"CALDAS\",\"CAQUETA\",\"CAUCA\",\"CESAR\",\"CORDOBA\",\"CUNDINAMARCA\",\"CHOCO\",\"HUILA\",\"LA GUAJIRA\",\"MAGDALENA\",\"META\",\"NARI\\u00d1O\",\"NORTE DE SANTANDER\",\"QUINDIO\",\"RISARALDA\",\"SANTANDER\",\"SUCRE\",\"TOLIMA\",\"VALLE DEL CAUCA\",\"ARAUCA\",\"CASANARE\",\"PUTUMAYO\",\"ARCHIPIELAGO DE SAN ANDRES PROVIDENCIA Y SANTA CATALINA\",\"AMAZONAS\",\"GUAINIA\",\"GUAVIARE\",\"VAUPES\",\"VICHADA\",\"ANTIOQUIA\",\"ATLANTICO\",\"SANTAFE DE BOGOTA D.C\",\"BOLIVAR\",\"BOYACA\",\"CALDAS\",\"CAQUETA\",\"CAUCA\",\"CESAR\",\"CORDOBA\",\"CUNDINAMARCA\",\"CHOCO\",\"HUILA\",\"LA GUAJIRA\",\"MAGDALENA\",\"META\",\"NARI\\u00d1O\",\"NORTE DE SANTANDER\",\"QUINDIO\",\"RISARALDA\",\"SANTANDER\",\"SUCRE\",\"TOLIMA\",\"VALLE DEL CAUCA\",\"ARAUCA\",\"CASANARE\",\"PUTUMAYO\",\"ARCHIPIELAGO DE SAN ANDRES PROVIDENCIA Y SANTA CATALINA\",\"AMAZONAS\",\"GUAINIA\",\"GUAVIARE\",\"VAUPES\",\"VICHADA\",\"ANTIOQUIA\",\"ATLANTICO\",\"SANTAFE DE BOGOTA D.C\",\"BOLIVAR\",\"BOYACA\",\"CALDAS\",\"CAQUETA\",\"CAUCA\",\"CESAR\",\"CORDOBA\",\"CUNDINAMARCA\",\"CHOCO\",\"HUILA\",\"LA GUAJIRA\",\"MAGDALENA\",\"META\",\"NARI\\u00d1O\",\"NORTE DE SANTANDER\",\"QUINDIO\",\"RISARALDA\",\"SANTANDER\",\"SUCRE\",\"TOLIMA\",\"VALLE DEL CAUCA\",\"ARAUCA\",\"CASANARE\",\"PUTUMAYO\",\"ARCHIPIELAGO DE SAN ANDRES PROVIDENCIA Y SANTA CATALINA\",\"AMAZONAS\",\"GUAINIA\",\"GUAVIARE\",\"VAUPES\",\"VICHADA\",\"ANTIOQUIA\",\"ATLANTICO\",\"SANTAFE DE BOGOTA D.C\",\"BOLIVAR\",\"BOYACA\",\"CALDAS\",\"CAQUETA\",\"CAUCA\",\"CESAR\",\"CORDOBA\",\"CUNDINAMARCA\",\"CHOCO\",\"HUILA\",\"LA GUAJIRA\",\"MAGDALENA\",\"META\",\"NARI\\u00d1O\",\"NORTE DE SANTANDER\",\"QUINDIO\",\"RISARALDA\",\"SANTANDER\",\"SUCRE\",\"TOLIMA\",\"VALLE DEL CAUCA\",\"ARAUCA\",\"CASANARE\",\"PUTUMAYO\",\"ARCHIPIELAGO DE SAN ANDRES PROVIDENCIA Y SANTA CATALINA\",\"AMAZONAS\",\"GUAINIA\",\"GUAVIARE\",\"VAUPES\",\"VICHADA\",\"ANTIOQUIA\",\"ATLANTICO\",\"SANTAFE DE BOGOTA D.C\",\"BOLIVAR\",\"BOYACA\",\"CALDAS\",\"CAQUETA\",\"CAUCA\",\"CESAR\",\"CORDOBA\",\"CUNDINAMARCA\",\"CHOCO\",\"HUILA\",\"LA GUAJIRA\",\"MAGDALENA\",\"META\",\"NARI\\u00d1O\",\"NORTE DE SANTANDER\",\"QUINDIO\",\"RISARALDA\",\"SANTANDER\",\"SUCRE\",\"TOLIMA\",\"VALLE DEL CAUCA\",\"ARAUCA\",\"CASANARE\",\"PUTUMAYO\",null,\"AMAZONAS\",\"GUAINIA\",\"GUAVIARE\",\"VAUPES\",\"VICHADA\",\"ANTIOQUIA\",\"ATLANTICO\",\"SANTAFE DE BOGOTA D.C\",\"BOLIVAR\",\"BOYACA\",\"CALDAS\",\"CAQUETA\",\"CAUCA\",\"CESAR\",\"CORDOBA\",\"CUNDINAMARCA\",\"CHOCO\",\"HUILA\",\"LA GUAJIRA\",\"MAGDALENA\",\"META\",\"NARI\\u00d1O\",\"NORTE DE SANTANDER\",\"QUINDIO\",\"RISARALDA\",\"SANTANDER\",\"SUCRE\",\"TOLIMA\",\"VALLE DEL CAUCA\",\"ARAUCA\",\"CASANARE\",\"PUTUMAYO\",\"ARCHIPIELAGO DE SAN ANDRES PROVIDENCIA Y SANTA CATALINA\",\"AMAZONAS\",\"GUAINIA\",\"GUAVIARE\",\"VAUPES\",\"VICHADA\"],\"name\":\"\",\"z\":[1288473,523935,1479334,496676,300501,201185,124148,328682,263789,405431,570954,145587,275956,231046,333793,209319,401313,324219,114075,192633,434034,205779,325983,906602,73431,85803,93828,15852,22223,11920,31133,12690,20360,1278686,523911,1470171,495108,297132,198526,124622,325212,263271,405302,571082,145607,273653,239298,334586,210820,401539,322304,112175,189484,425904,203626,321653,894698,74454,85999,93570,15648,22194,11920,31272,12681,20686,1272458,522832,1466854,492500,292312,196982,124458,320510,262240,407589,572012,145133,272091,244513,332266,213170,399032,317334,111539,187946,419596,202453,317546,887988,74658,86460,92887,15536,22123,11918,31276,12659,20977,1266533,521917,1460379,490573,288366,195455,124473,316362,261493,408623,573948,145299,270459,251458,331389,215227,397640,313966,110359,185754,413227,201098,313709,880625,74948,86899,92368,15395,22167,11916,31344,12699,21331,1262800,520783,1455309,488886,284611,194108,124382,312453,260802,409982,576429,145625,269323,258207,330539,217437,396138,310611,109400,183900,407815,200001,310206,875476,75107,87417,91874,15265,22212,11913,31553,12684,21644,1265147,519509,1453283,487274,279627,192703,124296,307989,259794,411715,577612,145596,268744,264785,329234,219565,394574,307238,108652,182345,402820,198817,306395,873706,75185,88003,91441,15167,22243,11935,31671,12654,21951,1270105,518257,1452849,486067,275027,191444,124222,303777,259051,413883,579364,145765,268582,271221,327940,221844,393195,304148,108156,181154,398621,197947,303140,873860,75197,88626,91161,15106,22269,11965,31876,12668,22282,1147598,521630,1179282,455784,234116,162391,98639,301714,288411,386239,547875,143975,242238,237991,317652,218707,314579,307526,83383,157477,401463,201443,255496,861316,60962,92859,80972,10853,22257,15766,21118,15363,32951,1149985,533666,1181531,461988,234368,161892,98675,299016,296234,387454,570377,143999,242194,245778,323546,218194,309763,318252,83130,156174,405798,203411,251347,854243,64095,93431,80890,11002,22435,15808,21301,15675,33198,1151149,542750,1181597,466941,234540,161746,98602,296813,302403,388446,592264,143711,242199,252101,327562,217673,305761,325981,83129,155149,408876,204837,247605,846957,66580,93855,80810,11169,22563,15771,21482,15910,33298,1149861,546055,1174274,469046,234348,161737,98412,294933,305550,388712,610367,143120,242129,255513,328343,216914,302506,328034,83299,154342,409198,205082,244021,839566,67759,93896,80699,11312,22670,15643,21658,16081,33183],\"type\":\"choropleth\"}],                        {\"template\":{\"data\":{\"bar\":[{\"error_x\":{\"color\":\"#2a3f5f\"},\"error_y\":{\"color\":\"#2a3f5f\"},\"marker\":{\"line\":{\"color\":\"#E5ECF6\",\"width\":0.5},\"pattern\":{\"fillmode\":\"overlay\",\"size\":10,\"solidity\":0.2}},\"type\":\"bar\"}],\"barpolar\":[{\"marker\":{\"line\":{\"color\":\"#E5ECF6\",\"width\":0.5},\"pattern\":{\"fillmode\":\"overlay\",\"size\":10,\"solidity\":0.2}},\"type\":\"barpolar\"}],\"carpet\":[{\"aaxis\":{\"endlinecolor\":\"#2a3f5f\",\"gridcolor\":\"white\",\"linecolor\":\"white\",\"minorgridcolor\":\"white\",\"startlinecolor\":\"#2a3f5f\"},\"baxis\":{\"endlinecolor\":\"#2a3f5f\",\"gridcolor\":\"white\",\"linecolor\":\"white\",\"minorgridcolor\":\"white\",\"startlinecolor\":\"#2a3f5f\"},\"type\":\"carpet\"}],\"choropleth\":[{\"colorbar\":{\"outlinewidth\":0,\"ticks\":\"\"},\"type\":\"choropleth\"}],\"contour\":[{\"colorbar\":{\"outlinewidth\":0,\"ticks\":\"\"},\"colorscale\":[[0.0,\"#0d0887\"],[0.1111111111111111,\"#46039f\"],[0.2222222222222222,\"#7201a8\"],[0.3333333333333333,\"#9c179e\"],[0.4444444444444444,\"#bd3786\"],[0.5555555555555556,\"#d8576b\"],[0.6666666666666666,\"#ed7953\"],[0.7777777777777778,\"#fb9f3a\"],[0.8888888888888888,\"#fdca26\"],[1.0,\"#f0f921\"]],\"type\":\"contour\"}],\"contourcarpet\":[{\"colorbar\":{\"outlinewidth\":0,\"ticks\":\"\"},\"type\":\"contourcarpet\"}],\"heatmap\":[{\"colorbar\":{\"outlinewidth\":0,\"ticks\":\"\"},\"colorscale\":[[0.0,\"#0d0887\"],[0.1111111111111111,\"#46039f\"],[0.2222222222222222,\"#7201a8\"],[0.3333333333333333,\"#9c179e\"],[0.4444444444444444,\"#bd3786\"],[0.5555555555555556,\"#d8576b\"],[0.6666666666666666,\"#ed7953\"],[0.7777777777777778,\"#fb9f3a\"],[0.8888888888888888,\"#fdca26\"],[1.0,\"#f0f921\"]],\"type\":\"heatmap\"}],\"heatmapgl\":[{\"colorbar\":{\"outlinewidth\":0,\"ticks\":\"\"},\"colorscale\":[[0.0,\"#0d0887\"],[0.1111111111111111,\"#46039f\"],[0.2222222222222222,\"#7201a8\"],[0.3333333333333333,\"#9c179e\"],[0.4444444444444444,\"#bd3786\"],[0.5555555555555556,\"#d8576b\"],[0.6666666666666666,\"#ed7953\"],[0.7777777777777778,\"#fb9f3a\"],[0.8888888888888888,\"#fdca26\"],[1.0,\"#f0f921\"]],\"type\":\"heatmapgl\"}],\"histogram\":[{\"marker\":{\"pattern\":{\"fillmode\":\"overlay\",\"size\":10,\"solidity\":0.2}},\"type\":\"histogram\"}],\"histogram2d\":[{\"colorbar\":{\"outlinewidth\":0,\"ticks\":\"\"},\"colorscale\":[[0.0,\"#0d0887\"],[0.1111111111111111,\"#46039f\"],[0.2222222222222222,\"#7201a8\"],[0.3333333333333333,\"#9c179e\"],[0.4444444444444444,\"#bd3786\"],[0.5555555555555556,\"#d8576b\"],[0.6666666666666666,\"#ed7953\"],[0.7777777777777778,\"#fb9f3a\"],[0.8888888888888888,\"#fdca26\"],[1.0,\"#f0f921\"]],\"type\":\"histogram2d\"}],\"histogram2dcontour\":[{\"colorbar\":{\"outlinewidth\":0,\"ticks\":\"\"},\"colorscale\":[[0.0,\"#0d0887\"],[0.1111111111111111,\"#46039f\"],[0.2222222222222222,\"#7201a8\"],[0.3333333333333333,\"#9c179e\"],[0.4444444444444444,\"#bd3786\"],[0.5555555555555556,\"#d8576b\"],[0.6666666666666666,\"#ed7953\"],[0.7777777777777778,\"#fb9f3a\"],[0.8888888888888888,\"#fdca26\"],[1.0,\"#f0f921\"]],\"type\":\"histogram2dcontour\"}],\"mesh3d\":[{\"colorbar\":{\"outlinewidth\":0,\"ticks\":\"\"},\"type\":\"mesh3d\"}],\"parcoords\":[{\"line\":{\"colorbar\":{\"outlinewidth\":0,\"ticks\":\"\"}},\"type\":\"parcoords\"}],\"pie\":[{\"automargin\":true,\"type\":\"pie\"}],\"scatter\":[{\"marker\":{\"colorbar\":{\"outlinewidth\":0,\"ticks\":\"\"}},\"type\":\"scatter\"}],\"scatter3d\":[{\"line\":{\"colorbar\":{\"outlinewidth\":0,\"ticks\":\"\"}},\"marker\":{\"colorbar\":{\"outlinewidth\":0,\"ticks\":\"\"}},\"type\":\"scatter3d\"}],\"scattercarpet\":[{\"marker\":{\"colorbar\":{\"outlinewidth\":0,\"ticks\":\"\"}},\"type\":\"scattercarpet\"}],\"scattergeo\":[{\"marker\":{\"colorbar\":{\"outlinewidth\":0,\"ticks\":\"\"}},\"type\":\"scattergeo\"}],\"scattergl\":[{\"marker\":{\"colorbar\":{\"outlinewidth\":0,\"ticks\":\"\"}},\"type\":\"scattergl\"}],\"scattermapbox\":[{\"marker\":{\"colorbar\":{\"outlinewidth\":0,\"ticks\":\"\"}},\"type\":\"scattermapbox\"}],\"scatterpolar\":[{\"marker\":{\"colorbar\":{\"outlinewidth\":0,\"ticks\":\"\"}},\"type\":\"scatterpolar\"}],\"scatterpolargl\":[{\"marker\":{\"colorbar\":{\"outlinewidth\":0,\"ticks\":\"\"}},\"type\":\"scatterpolargl\"}],\"scatterternary\":[{\"marker\":{\"colorbar\":{\"outlinewidth\":0,\"ticks\":\"\"}},\"type\":\"scatterternary\"}],\"surface\":[{\"colorbar\":{\"outlinewidth\":0,\"ticks\":\"\"},\"colorscale\":[[0.0,\"#0d0887\"],[0.1111111111111111,\"#46039f\"],[0.2222222222222222,\"#7201a8\"],[0.3333333333333333,\"#9c179e\"],[0.4444444444444444,\"#bd3786\"],[0.5555555555555556,\"#d8576b\"],[0.6666666666666666,\"#ed7953\"],[0.7777777777777778,\"#fb9f3a\"],[0.8888888888888888,\"#fdca26\"],[1.0,\"#f0f921\"]],\"type\":\"surface\"}],\"table\":[{\"cells\":{\"fill\":{\"color\":\"#EBF0F8\"},\"line\":{\"color\":\"white\"}},\"header\":{\"fill\":{\"color\":\"#C8D4E3\"},\"line\":{\"color\":\"white\"}},\"type\":\"table\"}]},\"layout\":{\"annotationdefaults\":{\"arrowcolor\":\"#2a3f5f\",\"arrowhead\":0,\"arrowwidth\":1},\"autotypenumbers\":\"strict\",\"coloraxis\":{\"colorbar\":{\"outlinewidth\":0,\"ticks\":\"\"}},\"colorscale\":{\"diverging\":[[0,\"#8e0152\"],[0.1,\"#c51b7d\"],[0.2,\"#de77ae\"],[0.3,\"#f1b6da\"],[0.4,\"#fde0ef\"],[0.5,\"#f7f7f7\"],[0.6,\"#e6f5d0\"],[0.7,\"#b8e186\"],[0.8,\"#7fbc41\"],[0.9,\"#4d9221\"],[1,\"#276419\"]],\"sequential\":[[0.0,\"#0d0887\"],[0.1111111111111111,\"#46039f\"],[0.2222222222222222,\"#7201a8\"],[0.3333333333333333,\"#9c179e\"],[0.4444444444444444,\"#bd3786\"],[0.5555555555555556,\"#d8576b\"],[0.6666666666666666,\"#ed7953\"],[0.7777777777777778,\"#fb9f3a\"],[0.8888888888888888,\"#fdca26\"],[1.0,\"#f0f921\"]],\"sequentialminus\":[[0.0,\"#0d0887\"],[0.1111111111111111,\"#46039f\"],[0.2222222222222222,\"#7201a8\"],[0.3333333333333333,\"#9c179e\"],[0.4444444444444444,\"#bd3786\"],[0.5555555555555556,\"#d8576b\"],[0.6666666666666666,\"#ed7953\"],[0.7777777777777778,\"#fb9f3a\"],[0.8888888888888888,\"#fdca26\"],[1.0,\"#f0f921\"]]},\"colorway\":[\"#636efa\",\"#EF553B\",\"#00cc96\",\"#ab63fa\",\"#FFA15A\",\"#19d3f3\",\"#FF6692\",\"#B6E880\",\"#FF97FF\",\"#FECB52\"],\"font\":{\"color\":\"#2a3f5f\"},\"geo\":{\"bgcolor\":\"white\",\"lakecolor\":\"white\",\"landcolor\":\"#E5ECF6\",\"showlakes\":true,\"showland\":true,\"subunitcolor\":\"white\"},\"hoverlabel\":{\"align\":\"left\"},\"hovermode\":\"closest\",\"mapbox\":{\"style\":\"light\"},\"paper_bgcolor\":\"white\",\"plot_bgcolor\":\"#E5ECF6\",\"polar\":{\"angularaxis\":{\"gridcolor\":\"white\",\"linecolor\":\"white\",\"ticks\":\"\"},\"bgcolor\":\"#E5ECF6\",\"radialaxis\":{\"gridcolor\":\"white\",\"linecolor\":\"white\",\"ticks\":\"\"}},\"scene\":{\"xaxis\":{\"backgroundcolor\":\"#E5ECF6\",\"gridcolor\":\"white\",\"gridwidth\":2,\"linecolor\":\"white\",\"showbackground\":true,\"ticks\":\"\",\"zerolinecolor\":\"white\"},\"yaxis\":{\"backgroundcolor\":\"#E5ECF6\",\"gridcolor\":\"white\",\"gridwidth\":2,\"linecolor\":\"white\",\"showbackground\":true,\"ticks\":\"\",\"zerolinecolor\":\"white\"},\"zaxis\":{\"backgroundcolor\":\"#E5ECF6\",\"gridcolor\":\"white\",\"gridwidth\":2,\"linecolor\":\"white\",\"showbackground\":true,\"ticks\":\"\",\"zerolinecolor\":\"white\"}},\"shapedefaults\":{\"line\":{\"color\":\"#2a3f5f\"}},\"ternary\":{\"aaxis\":{\"gridcolor\":\"white\",\"linecolor\":\"white\",\"ticks\":\"\"},\"baxis\":{\"gridcolor\":\"white\",\"linecolor\":\"white\",\"ticks\":\"\"},\"bgcolor\":\"#E5ECF6\",\"caxis\":{\"gridcolor\":\"white\",\"linecolor\":\"white\",\"ticks\":\"\"}},\"title\":{\"x\":0.05},\"xaxis\":{\"automargin\":true,\"gridcolor\":\"white\",\"linecolor\":\"white\",\"ticks\":\"\",\"title\":{\"standoff\":15},\"zerolinecolor\":\"white\",\"zerolinewidth\":2},\"yaxis\":{\"automargin\":true,\"gridcolor\":\"white\",\"linecolor\":\"white\",\"ticks\":\"\",\"title\":{\"standoff\":15},\"zerolinecolor\":\"white\",\"zerolinewidth\":2}}},\"geo\":{\"domain\":{\"x\":[0.0,1.0],\"y\":[0.0,1.0]},\"center\":{},\"showcountries\":false,\"showcoastlines\":false,\"showland\":true,\"fitbounds\":\"locations\"},\"coloraxis\":{\"colorbar\":{\"title\":{\"text\":\"Poblaci\\u00f3n Estudiantil\"}},\"colorscale\":[[0.0,\"#30123b\"],[0.07142857142857142,\"#4145ab\"],[0.14285714285714285,\"#4675ed\"],[0.21428571428571427,\"#39a2fc\"],[0.2857142857142857,\"#1bcfd4\"],[0.35714285714285715,\"#24eca6\"],[0.42857142857142855,\"#61fc6c\"],[0.5,\"#a4fc3b\"],[0.5714285714285714,\"#d1e834\"],[0.6428571428571429,\"#f3c63a\"],[0.7142857142857143,\"#fe9b2d\"],[0.7857142857142857,\"#f36315\"],[0.8571428571428571,\"#d93806\"],[0.9285714285714286,\"#b11901\"],[1.0,\"#7a0402\"]]},\"legend\":{\"tracegroupgap\":0},\"margin\":{\"t\":60},\"title\":{\"text\":\"Poblaci\\u00f3n Estudiantil por Departamento\"}},                        {\"responsive\": true}                    ).then(function(){\n",
              "                            \n",
              "var gd = document.getElementById('1d435d2e-132f-4494-b0ea-323e2aaaca86');\n",
              "var x = new MutationObserver(function (mutations, observer) {{\n",
              "        var display = window.getComputedStyle(gd).display;\n",
              "        if (!display || display === 'none') {{\n",
              "            console.log([gd, 'removed!']);\n",
              "            Plotly.purge(gd);\n",
              "            observer.disconnect();\n",
              "        }}\n",
              "}});\n",
              "\n",
              "// Listen for the removal of the full notebook cells\n",
              "var notebookContainer = gd.closest('#notebook-container');\n",
              "if (notebookContainer) {{\n",
              "    x.observe(notebookContainer, {childList: true});\n",
              "}}\n",
              "\n",
              "// Listen for the clearing of the current output cell\n",
              "var outputEl = gd.closest('.output');\n",
              "if (outputEl) {{\n",
              "    x.observe(outputEl, {childList: true});\n",
              "}}\n",
              "\n",
              "                        })                };                            </script>        </div>\n",
              "</body>\n",
              "</html>"
            ]
          },
          "metadata": {}
        }
      ]
    },
    {
      "cell_type": "code",
      "source": [
        "df_cobertura = data.loc[:,['departamento','cobertura_neta']]\n",
        "df_cobertura"
      ],
      "metadata": {
        "colab": {
          "base_uri": "https://localhost:8080/",
          "height": 424
        },
        "id": "bgYNs04YUFLg",
        "outputId": "0735be80-da8d-47b8-95a3-8e4532aef83c"
      },
      "execution_count": 15,
      "outputs": [
        {
          "output_type": "execute_result",
          "data": {
            "text/plain": [
              "              departamento  cobertura_neta\n",
              "0                ANTIOQUIA       93.850000\n",
              "1                ATLANTICO       99.050000\n",
              "2    SANTAFE DE BOGOTA D.C       90.290000\n",
              "3                  BOLIVAR       91.400000\n",
              "4                   BOYACA       86.110000\n",
              "..                     ...             ...\n",
              "358               AMAZONAS        0.820159\n",
              "359                GUAINIA        0.780477\n",
              "360               GUAVIARE        0.848739\n",
              "361                 VAUPES        0.547292\n",
              "362                VICHADA        0.654341\n",
              "\n",
              "[363 rows x 2 columns]"
            ],
            "text/html": [
              "\n",
              "  <div id=\"df-e11b8023-2d40-44d9-b809-dd8847ab0512\">\n",
              "    <div class=\"colab-df-container\">\n",
              "      <div>\n",
              "<style scoped>\n",
              "    .dataframe tbody tr th:only-of-type {\n",
              "        vertical-align: middle;\n",
              "    }\n",
              "\n",
              "    .dataframe tbody tr th {\n",
              "        vertical-align: top;\n",
              "    }\n",
              "\n",
              "    .dataframe thead th {\n",
              "        text-align: right;\n",
              "    }\n",
              "</style>\n",
              "<table border=\"1\" class=\"dataframe\">\n",
              "  <thead>\n",
              "    <tr style=\"text-align: right;\">\n",
              "      <th></th>\n",
              "      <th>departamento</th>\n",
              "      <th>cobertura_neta</th>\n",
              "    </tr>\n",
              "  </thead>\n",
              "  <tbody>\n",
              "    <tr>\n",
              "      <th>0</th>\n",
              "      <td>ANTIOQUIA</td>\n",
              "      <td>93.850000</td>\n",
              "    </tr>\n",
              "    <tr>\n",
              "      <th>1</th>\n",
              "      <td>ATLANTICO</td>\n",
              "      <td>99.050000</td>\n",
              "    </tr>\n",
              "    <tr>\n",
              "      <th>2</th>\n",
              "      <td>SANTAFE DE BOGOTA D.C</td>\n",
              "      <td>90.290000</td>\n",
              "    </tr>\n",
              "    <tr>\n",
              "      <th>3</th>\n",
              "      <td>BOLIVAR</td>\n",
              "      <td>91.400000</td>\n",
              "    </tr>\n",
              "    <tr>\n",
              "      <th>4</th>\n",
              "      <td>BOYACA</td>\n",
              "      <td>86.110000</td>\n",
              "    </tr>\n",
              "    <tr>\n",
              "      <th>...</th>\n",
              "      <td>...</td>\n",
              "      <td>...</td>\n",
              "    </tr>\n",
              "    <tr>\n",
              "      <th>358</th>\n",
              "      <td>AMAZONAS</td>\n",
              "      <td>0.820159</td>\n",
              "    </tr>\n",
              "    <tr>\n",
              "      <th>359</th>\n",
              "      <td>GUAINIA</td>\n",
              "      <td>0.780477</td>\n",
              "    </tr>\n",
              "    <tr>\n",
              "      <th>360</th>\n",
              "      <td>GUAVIARE</td>\n",
              "      <td>0.848739</td>\n",
              "    </tr>\n",
              "    <tr>\n",
              "      <th>361</th>\n",
              "      <td>VAUPES</td>\n",
              "      <td>0.547292</td>\n",
              "    </tr>\n",
              "    <tr>\n",
              "      <th>362</th>\n",
              "      <td>VICHADA</td>\n",
              "      <td>0.654341</td>\n",
              "    </tr>\n",
              "  </tbody>\n",
              "</table>\n",
              "<p>363 rows × 2 columns</p>\n",
              "</div>\n",
              "      <button class=\"colab-df-convert\" onclick=\"convertToInteractive('df-e11b8023-2d40-44d9-b809-dd8847ab0512')\"\n",
              "              title=\"Convert this dataframe to an interactive table.\"\n",
              "              style=\"display:none;\">\n",
              "        \n",
              "  <svg xmlns=\"http://www.w3.org/2000/svg\" height=\"24px\"viewBox=\"0 0 24 24\"\n",
              "       width=\"24px\">\n",
              "    <path d=\"M0 0h24v24H0V0z\" fill=\"none\"/>\n",
              "    <path d=\"M18.56 5.44l.94 2.06.94-2.06 2.06-.94-2.06-.94-.94-2.06-.94 2.06-2.06.94zm-11 1L8.5 8.5l.94-2.06 2.06-.94-2.06-.94L8.5 2.5l-.94 2.06-2.06.94zm10 10l.94 2.06.94-2.06 2.06-.94-2.06-.94-.94-2.06-.94 2.06-2.06.94z\"/><path d=\"M17.41 7.96l-1.37-1.37c-.4-.4-.92-.59-1.43-.59-.52 0-1.04.2-1.43.59L10.3 9.45l-7.72 7.72c-.78.78-.78 2.05 0 2.83L4 21.41c.39.39.9.59 1.41.59.51 0 1.02-.2 1.41-.59l7.78-7.78 2.81-2.81c.8-.78.8-2.07 0-2.86zM5.41 20L4 18.59l7.72-7.72 1.47 1.35L5.41 20z\"/>\n",
              "  </svg>\n",
              "      </button>\n",
              "      \n",
              "  <style>\n",
              "    .colab-df-container {\n",
              "      display:flex;\n",
              "      flex-wrap:wrap;\n",
              "      gap: 12px;\n",
              "    }\n",
              "\n",
              "    .colab-df-convert {\n",
              "      background-color: #E8F0FE;\n",
              "      border: none;\n",
              "      border-radius: 50%;\n",
              "      cursor: pointer;\n",
              "      display: none;\n",
              "      fill: #1967D2;\n",
              "      height: 32px;\n",
              "      padding: 0 0 0 0;\n",
              "      width: 32px;\n",
              "    }\n",
              "\n",
              "    .colab-df-convert:hover {\n",
              "      background-color: #E2EBFA;\n",
              "      box-shadow: 0px 1px 2px rgba(60, 64, 67, 0.3), 0px 1px 3px 1px rgba(60, 64, 67, 0.15);\n",
              "      fill: #174EA6;\n",
              "    }\n",
              "\n",
              "    [theme=dark] .colab-df-convert {\n",
              "      background-color: #3B4455;\n",
              "      fill: #D2E3FC;\n",
              "    }\n",
              "\n",
              "    [theme=dark] .colab-df-convert:hover {\n",
              "      background-color: #434B5C;\n",
              "      box-shadow: 0px 1px 3px 1px rgba(0, 0, 0, 0.15);\n",
              "      filter: drop-shadow(0px 1px 2px rgba(0, 0, 0, 0.3));\n",
              "      fill: #FFFFFF;\n",
              "    }\n",
              "  </style>\n",
              "\n",
              "      <script>\n",
              "        const buttonEl =\n",
              "          document.querySelector('#df-e11b8023-2d40-44d9-b809-dd8847ab0512 button.colab-df-convert');\n",
              "        buttonEl.style.display =\n",
              "          google.colab.kernel.accessAllowed ? 'block' : 'none';\n",
              "\n",
              "        async function convertToInteractive(key) {\n",
              "          const element = document.querySelector('#df-e11b8023-2d40-44d9-b809-dd8847ab0512');\n",
              "          const dataTable =\n",
              "            await google.colab.kernel.invokeFunction('convertToInteractive',\n",
              "                                                     [key], {});\n",
              "          if (!dataTable) return;\n",
              "\n",
              "          const docLinkHtml = 'Like what you see? Visit the ' +\n",
              "            '<a target=\"_blank\" href=https://colab.research.google.com/notebooks/data_table.ipynb>data table notebook</a>'\n",
              "            + ' to learn more about interactive tables.';\n",
              "          element.innerHTML = '';\n",
              "          dataTable['output_type'] = 'display_data';\n",
              "          await google.colab.output.renderOutput(dataTable, element);\n",
              "          const docLink = document.createElement('div');\n",
              "          docLink.innerHTML = docLinkHtml;\n",
              "          element.appendChild(docLink);\n",
              "        }\n",
              "      </script>\n",
              "    </div>\n",
              "  </div>\n",
              "  "
            ]
          },
          "metadata": {},
          "execution_count": 15
        }
      ]
    },
    {
      "cell_type": "code",
      "source": [
        "figure_2 = px.choropleth(data_frame=df_cobertura,\n",
        "                       geojson=url,\n",
        "                       locations='departamento',\n",
        "                       featureidkey='properties.NOMBRE_DPT',\n",
        "                       color='cobertura_neta',\n",
        "                       range_color=(0,1),\n",
        "                       color_continuous_scale= 'spectral_r',\n",
        "                       labels={'cobertura_neta': 'Cobertura Neta'})\n",
        "\n",
        "figure_2.update_geos(showcountries=False, showcoastlines=False, showland=True, fitbounds=\"locations\")\n",
        "figure_2.update_layout(title_text='Cobertura Neta Estudiantil', font_size=15)\n",
        "figure_2.show()"
      ],
      "metadata": {
        "colab": {
          "base_uri": "https://localhost:8080/",
          "height": 542
        },
        "id": "YCPcbRAAUvOI",
        "outputId": "554a14b1-76b3-4410-d8d2-ce929ec9ec81"
      },
      "execution_count": 16,
      "outputs": [
        {
          "output_type": "display_data",
          "data": {
            "text/html": [
              "<html>\n",
              "<head><meta charset=\"utf-8\" /></head>\n",
              "<body>\n",
              "    <div>            <script src=\"https://cdnjs.cloudflare.com/ajax/libs/mathjax/2.7.5/MathJax.js?config=TeX-AMS-MML_SVG\"></script><script type=\"text/javascript\">if (window.MathJax) {MathJax.Hub.Config({SVG: {font: \"STIX-Web\"}});}</script>                <script type=\"text/javascript\">window.PlotlyConfig = {MathJaxConfig: 'local'};</script>\n",
              "        <script src=\"https://cdn.plot.ly/plotly-2.8.3.min.js\"></script>                <div id=\"44746aee-3667-4a5a-8959-995541fdfadb\" class=\"plotly-graph-div\" style=\"height:525px; width:100%;\"></div>            <script type=\"text/javascript\">                                    window.PLOTLYENV=window.PLOTLYENV || {};                                    if (document.getElementById(\"44746aee-3667-4a5a-8959-995541fdfadb\")) {                    Plotly.newPlot(                        \"44746aee-3667-4a5a-8959-995541fdfadb\",                        [{\"coloraxis\":\"coloraxis\",\"featureidkey\":\"properties.NOMBRE_DPT\",\"geo\":\"geo\",\"geojson\":\"https://gist.githubusercontent.com/john-guerra/43c7656821069d00dcbc/raw/be6a6e239cd5b5b803c6e7c2ec405b793a9064dd/Colombia.geo.json\",\"hovertemplate\":\"departamento=%{location}<br>Cobertura Neta=%{z}<extra></extra>\",\"locations\":[\"ANTIOQUIA\",\"ATLANTICO\",\"SANTAFE DE BOGOTA D.C\",\"BOLIVAR\",\"BOYACA\",\"CALDAS\",\"CAQUETA\",\"CAUCA\",\"CESAR\",\"CORDOBA\",\"CUNDINAMARCA\",\"CHOCO\",\"HUILA\",\"LA GUAJIRA\",\"MAGDALENA\",\"META\",\"NARI\\u00d1O\",\"NORTE DE SANTANDER\",\"QUINDIO\",\"RISARALDA\",\"SANTANDER\",\"SUCRE\",\"TOLIMA\",\"VALLE DEL CAUCA\",\"ARAUCA\",\"CASANARE\",\"PUTUMAYO\",\"ARCHIPIELAGO DE SAN ANDRES PROVIDENCIA Y SANTA CATALINA\",\"AMAZONAS\",\"GUAINIA\",\"GUAVIARE\",\"VAUPES\",\"VICHADA\",\"ANTIOQUIA\",\"ATLANTICO\",\"SANTAFE DE BOGOTA D.C\",\"BOLIVAR\",\"BOYACA\",\"CALDAS\",\"CAQUETA\",\"CAUCA\",\"CESAR\",\"CORDOBA\",\"CUNDINAMARCA\",\"CHOCO\",\"HUILA\",\"LA GUAJIRA\",\"MAGDALENA\",\"META\",\"NARI\\u00d1O\",\"NORTE DE SANTANDER\",\"QUINDIO\",\"RISARALDA\",\"SANTANDER\",\"SUCRE\",\"TOLIMA\",\"VALLE DEL CAUCA\",\"ARAUCA\",\"CASANARE\",\"PUTUMAYO\",\"ARCHIPIELAGO DE SAN ANDRES PROVIDENCIA Y SANTA CATALINA\",\"AMAZONAS\",\"GUAINIA\",\"GUAVIARE\",\"VAUPES\",\"VICHADA\",\"ANTIOQUIA\",\"ATLANTICO\",\"SANTAFE DE BOGOTA D.C\",\"BOLIVAR\",\"BOYACA\",\"CALDAS\",\"CAQUETA\",\"CAUCA\",\"CESAR\",\"CORDOBA\",\"CUNDINAMARCA\",\"CHOCO\",\"HUILA\",\"LA GUAJIRA\",\"MAGDALENA\",\"META\",\"NARI\\u00d1O\",\"NORTE DE SANTANDER\",\"QUINDIO\",\"RISARALDA\",\"SANTANDER\",\"SUCRE\",\"TOLIMA\",\"VALLE DEL CAUCA\",\"ARAUCA\",\"CASANARE\",\"PUTUMAYO\",\"ARCHIPIELAGO DE SAN ANDRES PROVIDENCIA Y SANTA CATALINA\",\"AMAZONAS\",\"GUAINIA\",\"GUAVIARE\",\"VAUPES\",\"VICHADA\",\"ANTIOQUIA\",\"ATLANTICO\",\"SANTAFE DE BOGOTA D.C\",\"BOLIVAR\",\"BOYACA\",\"CALDAS\",\"CAQUETA\",\"CAUCA\",\"CESAR\",\"CORDOBA\",\"CUNDINAMARCA\",\"CHOCO\",\"HUILA\",\"LA GUAJIRA\",\"MAGDALENA\",\"META\",\"NARI\\u00d1O\",\"NORTE DE SANTANDER\",\"QUINDIO\",\"RISARALDA\",\"SANTANDER\",\"SUCRE\",\"TOLIMA\",\"VALLE DEL CAUCA\",\"ARAUCA\",\"CASANARE\",\"PUTUMAYO\",\"ARCHIPIELAGO DE SAN ANDRES PROVIDENCIA Y SANTA CATALINA\",\"AMAZONAS\",\"GUAINIA\",\"GUAVIARE\",\"VAUPES\",\"VICHADA\",\"ANTIOQUIA\",\"ATLANTICO\",\"SANTAFE DE BOGOTA D.C\",\"BOLIVAR\",\"BOYACA\",\"CALDAS\",\"CAQUETA\",\"CAUCA\",\"CESAR\",\"CORDOBA\",\"CUNDINAMARCA\",\"CHOCO\",\"HUILA\",\"LA GUAJIRA\",\"MAGDALENA\",\"META\",\"NARI\\u00d1O\",\"NORTE DE SANTANDER\",\"QUINDIO\",\"RISARALDA\",\"SANTANDER\",\"SUCRE\",\"TOLIMA\",\"VALLE DEL CAUCA\",\"ARAUCA\",\"CASANARE\",\"PUTUMAYO\",\"ARCHIPIELAGO DE SAN ANDRES PROVIDENCIA Y SANTA CATALINA\",\"AMAZONAS\",\"GUAINIA\",\"GUAVIARE\",\"VAUPES\",\"VICHADA\",\"ANTIOQUIA\",\"ATLANTICO\",\"SANTAFE DE BOGOTA D.C\",\"BOLIVAR\",\"BOYACA\",\"CALDAS\",\"CAQUETA\",\"CAUCA\",\"CESAR\",\"CORDOBA\",\"CUNDINAMARCA\",\"CHOCO\",\"HUILA\",\"LA GUAJIRA\",\"MAGDALENA\",\"META\",\"NARI\\u00d1O\",\"NORTE DE SANTANDER\",\"QUINDIO\",\"RISARALDA\",\"SANTANDER\",\"SUCRE\",\"TOLIMA\",\"VALLE DEL CAUCA\",\"ARAUCA\",\"CASANARE\",\"PUTUMAYO\",\"ARCHIPIELAGO DE SAN ANDRES PROVIDENCIA Y SANTA CATALINA\",\"AMAZONAS\",\"GUAINIA\",\"GUAVIARE\",\"VAUPES\",\"VICHADA\",\"ANTIOQUIA\",\"ATLANTICO\",\"SANTAFE DE BOGOTA D.C\",\"BOLIVAR\",\"BOYACA\",\"CALDAS\",\"CAQUETA\",\"CAUCA\",\"CESAR\",\"CORDOBA\",\"CUNDINAMARCA\",\"CHOCO\",\"HUILA\",\"LA GUAJIRA\",\"MAGDALENA\",\"META\",\"NARI\\u00d1O\",\"NORTE DE SANTANDER\",\"QUINDIO\",\"RISARALDA\",\"SANTANDER\",\"SUCRE\",\"TOLIMA\",\"VALLE DEL CAUCA\",\"ARAUCA\",\"CASANARE\",\"PUTUMAYO\",\"ARCHIPIELAGO DE SAN ANDRES PROVIDENCIA Y SANTA CATALINA\",\"AMAZONAS\",\"GUAINIA\",\"GUAVIARE\",\"VAUPES\",\"VICHADA\",\"ANTIOQUIA\",\"ATLANTICO\",\"SANTAFE DE BOGOTA D.C\",\"BOLIVAR\",\"BOYACA\",\"CALDAS\",\"CAQUETA\",\"CAUCA\",\"CESAR\",\"CORDOBA\",\"CUNDINAMARCA\",\"CHOCO\",\"HUILA\",\"LA GUAJIRA\",\"MAGDALENA\",\"META\",\"NARI\\u00d1O\",\"NORTE DE SANTANDER\",\"QUINDIO\",\"RISARALDA\",\"SANTANDER\",\"SUCRE\",\"TOLIMA\",\"VALLE DEL CAUCA\",\"ARAUCA\",\"CASANARE\",\"PUTUMAYO\",\"ARCHIPIELAGO DE SAN ANDRES PROVIDENCIA Y SANTA CATALINA\",\"AMAZONAS\",\"GUAINIA\",\"GUAVIARE\",\"VAUPES\",\"VICHADA\",\"ANTIOQUIA\",\"ATLANTICO\",\"SANTAFE DE BOGOTA D.C\",\"BOLIVAR\",\"BOYACA\",\"CALDAS\",\"CAQUETA\",\"CAUCA\",\"CESAR\",\"CORDOBA\",\"CUNDINAMARCA\",\"CHOCO\",\"HUILA\",\"LA GUAJIRA\",\"MAGDALENA\",\"META\",\"NARI\\u00d1O\",\"NORTE DE SANTANDER\",\"QUINDIO\",\"RISARALDA\",\"SANTANDER\",\"SUCRE\",\"TOLIMA\",\"VALLE DEL CAUCA\",\"ARAUCA\",\"CASANARE\",\"PUTUMAYO\",\"ARCHIPIELAGO DE SAN ANDRES PROVIDENCIA Y SANTA CATALINA\",\"AMAZONAS\",\"GUAINIA\",\"GUAVIARE\",\"VAUPES\",\"VICHADA\",\"ANTIOQUIA\",\"ATLANTICO\",\"SANTAFE DE BOGOTA D.C\",\"BOLIVAR\",\"BOYACA\",\"CALDAS\",\"CAQUETA\",\"CAUCA\",\"CESAR\",\"CORDOBA\",\"CUNDINAMARCA\",\"CHOCO\",\"HUILA\",\"LA GUAJIRA\",\"MAGDALENA\",\"META\",\"NARI\\u00d1O\",\"NORTE DE SANTANDER\",\"QUINDIO\",\"RISARALDA\",\"SANTANDER\",\"SUCRE\",\"TOLIMA\",\"VALLE DEL CAUCA\",\"ARAUCA\",\"CASANARE\",\"PUTUMAYO\",null,\"AMAZONAS\",\"GUAINIA\",\"GUAVIARE\",\"VAUPES\",\"VICHADA\",\"ANTIOQUIA\",\"ATLANTICO\",\"SANTAFE DE BOGOTA D.C\",\"BOLIVAR\",\"BOYACA\",\"CALDAS\",\"CAQUETA\",\"CAUCA\",\"CESAR\",\"CORDOBA\",\"CUNDINAMARCA\",\"CHOCO\",\"HUILA\",\"LA GUAJIRA\",\"MAGDALENA\",\"META\",\"NARI\\u00d1O\",\"NORTE DE SANTANDER\",\"QUINDIO\",\"RISARALDA\",\"SANTANDER\",\"SUCRE\",\"TOLIMA\",\"VALLE DEL CAUCA\",\"ARAUCA\",\"CASANARE\",\"PUTUMAYO\",\"ARCHIPIELAGO DE SAN ANDRES PROVIDENCIA Y SANTA CATALINA\",\"AMAZONAS\",\"GUAINIA\",\"GUAVIARE\",\"VAUPES\",\"VICHADA\"],\"name\":\"\",\"z\":[93.85,99.05,90.29,91.4,86.11,86.98,88.76,86.21,94.57,94.46,91.93,83.79,90.47,77.0,94.32,93.59,80.5,88.96,90.83,95.43,92.4,103.2,88.71,88.33,74.11,101.05,80.46,67.23,82.32,74.87,64.02,62.18,72.98,92.65,91.43,86.52,88.87,85.64,84.5,83.25,83.4,94.01,93.69,90.97,80.95,89.73,75.33,91.64,93.29,77.73,85.93,88.74,92.77,92.11,95.55,87.42,88.09,72.29,103.88,78.17,68.65,81.87,70.82,59.18,62.32,66.75,91.93,86.22,84.07,89.55,85.05,82.54,80.94,84.33,94.8,93.35,90.28,79.59,89.68,74.73,95.83,94.76,76.58,86.37,85.87,89.81,93.28,96.64,86.95,87.37,70.7,103.69,76.96,67.89,81.83,72.56,57.32,62.25,74.6,90.85,85.58,80.38,87.41,83.89,80.93,79.33,84.58,96.14,93.19,89.79,81.14,88.29,74.87,90.1,94.72,75.22,87.15,83.9,88.02,93.52,96.82,86.3,85.34,71.51,103.24,77.71,68.13,82.11,73.67,56.23,62.82,74.51,89.79,85.92,81.77,88.69,83.57,78.86,73.12,82.21,95.39,89.5,90.47,80.48,87.58,74.08,93.43,92.14,73.51,85.84,81.86,87.94,94.37,95.74,85.41,84.26,72.84,102.39,76.7,67.3,81.46,75.3,54.9,64.08,76.81,88.08,89.35,80.26,89.41,83.7,77.4,75.36,83.84,97.44,90.28,90.9,79.85,85.84,75.59,92.33,92.28,71.13,88.51,79.74,87.16,95.0,96.72,84.59,81.23,73.95,100.18,76.09,68.15,81.35,77.64,54.83,64.17,77.78,86.0,90.72,79.45,90.58,83.48,75.72,74.37,83.32,98.92,88.72,91.56,79.19,85.17,75.44,93.3,90.88,70.16,90.3,77.69,86.62,96.33,97.2,83.91,80.21,75.02,97.72,75.24,67.64,82.1,79.98,55.02,65.38,77.93,94.11,91.34,96.51,98.6,96.54,87.08,92.04,83.17,90.73,94.72,97.91,80.95,94.28,90.55,97.69,92.51,84.54,91.62,98.35,98.4,96.06,95.99,98.54,80.36,94.93,93.05,84.28,93.4,81.46,62.28,84.61,50.79,53.74,93.83,91.69,96.3,99.33,96.51,85.88,90.49,84.39,90.57,94.16,95.86,82.64,94.12,92.86,97.27,93.51,83.95,92.18,96.73,98.88,96.2,95.88,99.1,81.46,93.06,93.43,84.83,91.87,81.4,66.26,83.09,52.33,55.51,93.43,92.38,95.89,98.8,94.84,84.57,88.91,84.97,89.73,93.21,93.42,83.97,93.38,94.2,95.83,93.83,84.1,90.16,95.93,98.64,95.83,95.17,99.27,81.96,92.81,94.35,84.41,92.67,81.24,70.51,83.06,53.47,60.14,0.9245613165,0.9362335296,0.9379999898,0.9930198744,0.9548961374,0.8424912049,0.8671401862,0.8631689231,0.8906627393,0.9296008356,0.9061007558,0.872177194,0.9372854966,0.9940707518,0.9699064698,0.9429958417,0.8346842707,0.9201241335,0.9466500198,0.9908968395,0.9590613835,0.9546669137,1.011408854,0.8167910563,0.9392848183,0.9463448922,0.8458097374,0.9084158416,0.8201588002,0.7804768906,0.8487394958,0.5472918351,0.6543410783],\"type\":\"choropleth\"}],                        {\"template\":{\"data\":{\"bar\":[{\"error_x\":{\"color\":\"#2a3f5f\"},\"error_y\":{\"color\":\"#2a3f5f\"},\"marker\":{\"line\":{\"color\":\"#E5ECF6\",\"width\":0.5},\"pattern\":{\"fillmode\":\"overlay\",\"size\":10,\"solidity\":0.2}},\"type\":\"bar\"}],\"barpolar\":[{\"marker\":{\"line\":{\"color\":\"#E5ECF6\",\"width\":0.5},\"pattern\":{\"fillmode\":\"overlay\",\"size\":10,\"solidity\":0.2}},\"type\":\"barpolar\"}],\"carpet\":[{\"aaxis\":{\"endlinecolor\":\"#2a3f5f\",\"gridcolor\":\"white\",\"linecolor\":\"white\",\"minorgridcolor\":\"white\",\"startlinecolor\":\"#2a3f5f\"},\"baxis\":{\"endlinecolor\":\"#2a3f5f\",\"gridcolor\":\"white\",\"linecolor\":\"white\",\"minorgridcolor\":\"white\",\"startlinecolor\":\"#2a3f5f\"},\"type\":\"carpet\"}],\"choropleth\":[{\"colorbar\":{\"outlinewidth\":0,\"ticks\":\"\"},\"type\":\"choropleth\"}],\"contour\":[{\"colorbar\":{\"outlinewidth\":0,\"ticks\":\"\"},\"colorscale\":[[0.0,\"#0d0887\"],[0.1111111111111111,\"#46039f\"],[0.2222222222222222,\"#7201a8\"],[0.3333333333333333,\"#9c179e\"],[0.4444444444444444,\"#bd3786\"],[0.5555555555555556,\"#d8576b\"],[0.6666666666666666,\"#ed7953\"],[0.7777777777777778,\"#fb9f3a\"],[0.8888888888888888,\"#fdca26\"],[1.0,\"#f0f921\"]],\"type\":\"contour\"}],\"contourcarpet\":[{\"colorbar\":{\"outlinewidth\":0,\"ticks\":\"\"},\"type\":\"contourcarpet\"}],\"heatmap\":[{\"colorbar\":{\"outlinewidth\":0,\"ticks\":\"\"},\"colorscale\":[[0.0,\"#0d0887\"],[0.1111111111111111,\"#46039f\"],[0.2222222222222222,\"#7201a8\"],[0.3333333333333333,\"#9c179e\"],[0.4444444444444444,\"#bd3786\"],[0.5555555555555556,\"#d8576b\"],[0.6666666666666666,\"#ed7953\"],[0.7777777777777778,\"#fb9f3a\"],[0.8888888888888888,\"#fdca26\"],[1.0,\"#f0f921\"]],\"type\":\"heatmap\"}],\"heatmapgl\":[{\"colorbar\":{\"outlinewidth\":0,\"ticks\":\"\"},\"colorscale\":[[0.0,\"#0d0887\"],[0.1111111111111111,\"#46039f\"],[0.2222222222222222,\"#7201a8\"],[0.3333333333333333,\"#9c179e\"],[0.4444444444444444,\"#bd3786\"],[0.5555555555555556,\"#d8576b\"],[0.6666666666666666,\"#ed7953\"],[0.7777777777777778,\"#fb9f3a\"],[0.8888888888888888,\"#fdca26\"],[1.0,\"#f0f921\"]],\"type\":\"heatmapgl\"}],\"histogram\":[{\"marker\":{\"pattern\":{\"fillmode\":\"overlay\",\"size\":10,\"solidity\":0.2}},\"type\":\"histogram\"}],\"histogram2d\":[{\"colorbar\":{\"outlinewidth\":0,\"ticks\":\"\"},\"colorscale\":[[0.0,\"#0d0887\"],[0.1111111111111111,\"#46039f\"],[0.2222222222222222,\"#7201a8\"],[0.3333333333333333,\"#9c179e\"],[0.4444444444444444,\"#bd3786\"],[0.5555555555555556,\"#d8576b\"],[0.6666666666666666,\"#ed7953\"],[0.7777777777777778,\"#fb9f3a\"],[0.8888888888888888,\"#fdca26\"],[1.0,\"#f0f921\"]],\"type\":\"histogram2d\"}],\"histogram2dcontour\":[{\"colorbar\":{\"outlinewidth\":0,\"ticks\":\"\"},\"colorscale\":[[0.0,\"#0d0887\"],[0.1111111111111111,\"#46039f\"],[0.2222222222222222,\"#7201a8\"],[0.3333333333333333,\"#9c179e\"],[0.4444444444444444,\"#bd3786\"],[0.5555555555555556,\"#d8576b\"],[0.6666666666666666,\"#ed7953\"],[0.7777777777777778,\"#fb9f3a\"],[0.8888888888888888,\"#fdca26\"],[1.0,\"#f0f921\"]],\"type\":\"histogram2dcontour\"}],\"mesh3d\":[{\"colorbar\":{\"outlinewidth\":0,\"ticks\":\"\"},\"type\":\"mesh3d\"}],\"parcoords\":[{\"line\":{\"colorbar\":{\"outlinewidth\":0,\"ticks\":\"\"}},\"type\":\"parcoords\"}],\"pie\":[{\"automargin\":true,\"type\":\"pie\"}],\"scatter\":[{\"marker\":{\"colorbar\":{\"outlinewidth\":0,\"ticks\":\"\"}},\"type\":\"scatter\"}],\"scatter3d\":[{\"line\":{\"colorbar\":{\"outlinewidth\":0,\"ticks\":\"\"}},\"marker\":{\"colorbar\":{\"outlinewidth\":0,\"ticks\":\"\"}},\"type\":\"scatter3d\"}],\"scattercarpet\":[{\"marker\":{\"colorbar\":{\"outlinewidth\":0,\"ticks\":\"\"}},\"type\":\"scattercarpet\"}],\"scattergeo\":[{\"marker\":{\"colorbar\":{\"outlinewidth\":0,\"ticks\":\"\"}},\"type\":\"scattergeo\"}],\"scattergl\":[{\"marker\":{\"colorbar\":{\"outlinewidth\":0,\"ticks\":\"\"}},\"type\":\"scattergl\"}],\"scattermapbox\":[{\"marker\":{\"colorbar\":{\"outlinewidth\":0,\"ticks\":\"\"}},\"type\":\"scattermapbox\"}],\"scatterpolar\":[{\"marker\":{\"colorbar\":{\"outlinewidth\":0,\"ticks\":\"\"}},\"type\":\"scatterpolar\"}],\"scatterpolargl\":[{\"marker\":{\"colorbar\":{\"outlinewidth\":0,\"ticks\":\"\"}},\"type\":\"scatterpolargl\"}],\"scatterternary\":[{\"marker\":{\"colorbar\":{\"outlinewidth\":0,\"ticks\":\"\"}},\"type\":\"scatterternary\"}],\"surface\":[{\"colorbar\":{\"outlinewidth\":0,\"ticks\":\"\"},\"colorscale\":[[0.0,\"#0d0887\"],[0.1111111111111111,\"#46039f\"],[0.2222222222222222,\"#7201a8\"],[0.3333333333333333,\"#9c179e\"],[0.4444444444444444,\"#bd3786\"],[0.5555555555555556,\"#d8576b\"],[0.6666666666666666,\"#ed7953\"],[0.7777777777777778,\"#fb9f3a\"],[0.8888888888888888,\"#fdca26\"],[1.0,\"#f0f921\"]],\"type\":\"surface\"}],\"table\":[{\"cells\":{\"fill\":{\"color\":\"#EBF0F8\"},\"line\":{\"color\":\"white\"}},\"header\":{\"fill\":{\"color\":\"#C8D4E3\"},\"line\":{\"color\":\"white\"}},\"type\":\"table\"}]},\"layout\":{\"annotationdefaults\":{\"arrowcolor\":\"#2a3f5f\",\"arrowhead\":0,\"arrowwidth\":1},\"autotypenumbers\":\"strict\",\"coloraxis\":{\"colorbar\":{\"outlinewidth\":0,\"ticks\":\"\"}},\"colorscale\":{\"diverging\":[[0,\"#8e0152\"],[0.1,\"#c51b7d\"],[0.2,\"#de77ae\"],[0.3,\"#f1b6da\"],[0.4,\"#fde0ef\"],[0.5,\"#f7f7f7\"],[0.6,\"#e6f5d0\"],[0.7,\"#b8e186\"],[0.8,\"#7fbc41\"],[0.9,\"#4d9221\"],[1,\"#276419\"]],\"sequential\":[[0.0,\"#0d0887\"],[0.1111111111111111,\"#46039f\"],[0.2222222222222222,\"#7201a8\"],[0.3333333333333333,\"#9c179e\"],[0.4444444444444444,\"#bd3786\"],[0.5555555555555556,\"#d8576b\"],[0.6666666666666666,\"#ed7953\"],[0.7777777777777778,\"#fb9f3a\"],[0.8888888888888888,\"#fdca26\"],[1.0,\"#f0f921\"]],\"sequentialminus\":[[0.0,\"#0d0887\"],[0.1111111111111111,\"#46039f\"],[0.2222222222222222,\"#7201a8\"],[0.3333333333333333,\"#9c179e\"],[0.4444444444444444,\"#bd3786\"],[0.5555555555555556,\"#d8576b\"],[0.6666666666666666,\"#ed7953\"],[0.7777777777777778,\"#fb9f3a\"],[0.8888888888888888,\"#fdca26\"],[1.0,\"#f0f921\"]]},\"colorway\":[\"#636efa\",\"#EF553B\",\"#00cc96\",\"#ab63fa\",\"#FFA15A\",\"#19d3f3\",\"#FF6692\",\"#B6E880\",\"#FF97FF\",\"#FECB52\"],\"font\":{\"color\":\"#2a3f5f\"},\"geo\":{\"bgcolor\":\"white\",\"lakecolor\":\"white\",\"landcolor\":\"#E5ECF6\",\"showlakes\":true,\"showland\":true,\"subunitcolor\":\"white\"},\"hoverlabel\":{\"align\":\"left\"},\"hovermode\":\"closest\",\"mapbox\":{\"style\":\"light\"},\"paper_bgcolor\":\"white\",\"plot_bgcolor\":\"#E5ECF6\",\"polar\":{\"angularaxis\":{\"gridcolor\":\"white\",\"linecolor\":\"white\",\"ticks\":\"\"},\"bgcolor\":\"#E5ECF6\",\"radialaxis\":{\"gridcolor\":\"white\",\"linecolor\":\"white\",\"ticks\":\"\"}},\"scene\":{\"xaxis\":{\"backgroundcolor\":\"#E5ECF6\",\"gridcolor\":\"white\",\"gridwidth\":2,\"linecolor\":\"white\",\"showbackground\":true,\"ticks\":\"\",\"zerolinecolor\":\"white\"},\"yaxis\":{\"backgroundcolor\":\"#E5ECF6\",\"gridcolor\":\"white\",\"gridwidth\":2,\"linecolor\":\"white\",\"showbackground\":true,\"ticks\":\"\",\"zerolinecolor\":\"white\"},\"zaxis\":{\"backgroundcolor\":\"#E5ECF6\",\"gridcolor\":\"white\",\"gridwidth\":2,\"linecolor\":\"white\",\"showbackground\":true,\"ticks\":\"\",\"zerolinecolor\":\"white\"}},\"shapedefaults\":{\"line\":{\"color\":\"#2a3f5f\"}},\"ternary\":{\"aaxis\":{\"gridcolor\":\"white\",\"linecolor\":\"white\",\"ticks\":\"\"},\"baxis\":{\"gridcolor\":\"white\",\"linecolor\":\"white\",\"ticks\":\"\"},\"bgcolor\":\"#E5ECF6\",\"caxis\":{\"gridcolor\":\"white\",\"linecolor\":\"white\",\"ticks\":\"\"}},\"title\":{\"x\":0.05},\"xaxis\":{\"automargin\":true,\"gridcolor\":\"white\",\"linecolor\":\"white\",\"ticks\":\"\",\"title\":{\"standoff\":15},\"zerolinecolor\":\"white\",\"zerolinewidth\":2},\"yaxis\":{\"automargin\":true,\"gridcolor\":\"white\",\"linecolor\":\"white\",\"ticks\":\"\",\"title\":{\"standoff\":15},\"zerolinecolor\":\"white\",\"zerolinewidth\":2}}},\"geo\":{\"domain\":{\"x\":[0.0,1.0],\"y\":[0.0,1.0]},\"center\":{},\"showcountries\":false,\"showcoastlines\":false,\"showland\":true,\"fitbounds\":\"locations\"},\"coloraxis\":{\"colorbar\":{\"title\":{\"text\":\"Cobertura Neta\"}},\"colorscale\":[[0.0,\"rgb(94,79,162)\"],[0.1,\"rgb(50,136,189)\"],[0.2,\"rgb(102,194,165)\"],[0.3,\"rgb(171,221,164)\"],[0.4,\"rgb(230,245,152)\"],[0.5,\"rgb(255,255,191)\"],[0.6,\"rgb(254,224,139)\"],[0.7,\"rgb(253,174,97)\"],[0.8,\"rgb(244,109,67)\"],[0.9,\"rgb(213,62,79)\"],[1.0,\"rgb(158,1,66)\"]],\"cmin\":0,\"cmax\":1},\"legend\":{\"tracegroupgap\":0},\"margin\":{\"t\":60},\"title\":{\"text\":\"Cobertura Neta Estudiantil\"},\"font\":{\"size\":15}},                        {\"responsive\": true}                    ).then(function(){\n",
              "                            \n",
              "var gd = document.getElementById('44746aee-3667-4a5a-8959-995541fdfadb');\n",
              "var x = new MutationObserver(function (mutations, observer) {{\n",
              "        var display = window.getComputedStyle(gd).display;\n",
              "        if (!display || display === 'none') {{\n",
              "            console.log([gd, 'removed!']);\n",
              "            Plotly.purge(gd);\n",
              "            observer.disconnect();\n",
              "        }}\n",
              "}});\n",
              "\n",
              "// Listen for the removal of the full notebook cells\n",
              "var notebookContainer = gd.closest('#notebook-container');\n",
              "if (notebookContainer) {{\n",
              "    x.observe(notebookContainer, {childList: true});\n",
              "}}\n",
              "\n",
              "// Listen for the clearing of the current output cell\n",
              "var outputEl = gd.closest('.output');\n",
              "if (outputEl) {{\n",
              "    x.observe(outputEl, {childList: true});\n",
              "}}\n",
              "\n",
              "                        })                };                            </script>        </div>\n",
              "</body>\n",
              "</html>"
            ]
          },
          "metadata": {}
        }
      ]
    },
    {
      "cell_type": "code",
      "source": [
        "df_cobertura_br = data.loc[:,['departamento', 'cobertura_bruta']] \n"
      ],
      "metadata": {
        "id": "ZM0MTEOFb98k"
      },
      "execution_count": 17,
      "outputs": []
    },
    {
      "cell_type": "code",
      "source": [
        "figure_3 = px.choropleth(data_frame=df_cobertura_br,\n",
        "                         geojson=url,\n",
        "                         locations='departamento',\n",
        "                         featureidkey='properties.NOMBRE_DPT',\n",
        "                         color='cobertura_bruta',\n",
        "                         range_color=(0,1.2),\n",
        "                         color_continuous_scale='spectral_r',\n",
        "                         labels={'cobertura_bruta':'Cobertura Bruta'}\n",
        "                         )\n",
        "figure_3.update_geos(showcountries=False, showcoastlines=False, showland=True, fitbounds=\"locations\")\n",
        "figure_3.update_layout(title_text='Cobertura Bruta Estudiantil', font_size=15)\n",
        "figure_3.show()"
      ],
      "metadata": {
        "colab": {
          "base_uri": "https://localhost:8080/",
          "height": 542
        },
        "id": "_Wp3dk9jefMH",
        "outputId": "61e711de-b599-4bb5-cdba-a8322db2f694"
      },
      "execution_count": 18,
      "outputs": [
        {
          "output_type": "display_data",
          "data": {
            "text/html": [
              "<html>\n",
              "<head><meta charset=\"utf-8\" /></head>\n",
              "<body>\n",
              "    <div>            <script src=\"https://cdnjs.cloudflare.com/ajax/libs/mathjax/2.7.5/MathJax.js?config=TeX-AMS-MML_SVG\"></script><script type=\"text/javascript\">if (window.MathJax) {MathJax.Hub.Config({SVG: {font: \"STIX-Web\"}});}</script>                <script type=\"text/javascript\">window.PlotlyConfig = {MathJaxConfig: 'local'};</script>\n",
              "        <script src=\"https://cdn.plot.ly/plotly-2.8.3.min.js\"></script>                <div id=\"24ab6c4f-75e0-4149-bc72-db31e60b5901\" class=\"plotly-graph-div\" style=\"height:525px; width:100%;\"></div>            <script type=\"text/javascript\">                                    window.PLOTLYENV=window.PLOTLYENV || {};                                    if (document.getElementById(\"24ab6c4f-75e0-4149-bc72-db31e60b5901\")) {                    Plotly.newPlot(                        \"24ab6c4f-75e0-4149-bc72-db31e60b5901\",                        [{\"coloraxis\":\"coloraxis\",\"featureidkey\":\"properties.NOMBRE_DPT\",\"geo\":\"geo\",\"geojson\":\"https://gist.githubusercontent.com/john-guerra/43c7656821069d00dcbc/raw/be6a6e239cd5b5b803c6e7c2ec405b793a9064dd/Colombia.geo.json\",\"hovertemplate\":\"departamento=%{location}<br>Cobertura Bruta=%{z}<extra></extra>\",\"locations\":[\"ANTIOQUIA\",\"ATLANTICO\",\"SANTAFE DE BOGOTA D.C\",\"BOLIVAR\",\"BOYACA\",\"CALDAS\",\"CAQUETA\",\"CAUCA\",\"CESAR\",\"CORDOBA\",\"CUNDINAMARCA\",\"CHOCO\",\"HUILA\",\"LA GUAJIRA\",\"MAGDALENA\",\"META\",\"NARI\\u00d1O\",\"NORTE DE SANTANDER\",\"QUINDIO\",\"RISARALDA\",\"SANTANDER\",\"SUCRE\",\"TOLIMA\",\"VALLE DEL CAUCA\",\"ARAUCA\",\"CASANARE\",\"PUTUMAYO\",\"ARCHIPIELAGO DE SAN ANDRES PROVIDENCIA Y SANTA CATALINA\",\"AMAZONAS\",\"GUAINIA\",\"GUAVIARE\",\"VAUPES\",\"VICHADA\",\"ANTIOQUIA\",\"ATLANTICO\",\"SANTAFE DE BOGOTA D.C\",\"BOLIVAR\",\"BOYACA\",\"CALDAS\",\"CAQUETA\",\"CAUCA\",\"CESAR\",\"CORDOBA\",\"CUNDINAMARCA\",\"CHOCO\",\"HUILA\",\"LA GUAJIRA\",\"MAGDALENA\",\"META\",\"NARI\\u00d1O\",\"NORTE DE SANTANDER\",\"QUINDIO\",\"RISARALDA\",\"SANTANDER\",\"SUCRE\",\"TOLIMA\",\"VALLE DEL CAUCA\",\"ARAUCA\",\"CASANARE\",\"PUTUMAYO\",\"ARCHIPIELAGO DE SAN ANDRES PROVIDENCIA Y SANTA CATALINA\",\"AMAZONAS\",\"GUAINIA\",\"GUAVIARE\",\"VAUPES\",\"VICHADA\",\"ANTIOQUIA\",\"ATLANTICO\",\"SANTAFE DE BOGOTA D.C\",\"BOLIVAR\",\"BOYACA\",\"CALDAS\",\"CAQUETA\",\"CAUCA\",\"CESAR\",\"CORDOBA\",\"CUNDINAMARCA\",\"CHOCO\",\"HUILA\",\"LA GUAJIRA\",\"MAGDALENA\",\"META\",\"NARI\\u00d1O\",\"NORTE DE SANTANDER\",\"QUINDIO\",\"RISARALDA\",\"SANTANDER\",\"SUCRE\",\"TOLIMA\",\"VALLE DEL CAUCA\",\"ARAUCA\",\"CASANARE\",\"PUTUMAYO\",\"ARCHIPIELAGO DE SAN ANDRES PROVIDENCIA Y SANTA CATALINA\",\"AMAZONAS\",\"GUAINIA\",\"GUAVIARE\",\"VAUPES\",\"VICHADA\",\"ANTIOQUIA\",\"ATLANTICO\",\"SANTAFE DE BOGOTA D.C\",\"BOLIVAR\",\"BOYACA\",\"CALDAS\",\"CAQUETA\",\"CAUCA\",\"CESAR\",\"CORDOBA\",\"CUNDINAMARCA\",\"CHOCO\",\"HUILA\",\"LA GUAJIRA\",\"MAGDALENA\",\"META\",\"NARI\\u00d1O\",\"NORTE DE SANTANDER\",\"QUINDIO\",\"RISARALDA\",\"SANTANDER\",\"SUCRE\",\"TOLIMA\",\"VALLE DEL CAUCA\",\"ARAUCA\",\"CASANARE\",\"PUTUMAYO\",\"ARCHIPIELAGO DE SAN ANDRES PROVIDENCIA Y SANTA CATALINA\",\"AMAZONAS\",\"GUAINIA\",\"GUAVIARE\",\"VAUPES\",\"VICHADA\",\"ANTIOQUIA\",\"ATLANTICO\",\"SANTAFE DE BOGOTA D.C\",\"BOLIVAR\",\"BOYACA\",\"CALDAS\",\"CAQUETA\",\"CAUCA\",\"CESAR\",\"CORDOBA\",\"CUNDINAMARCA\",\"CHOCO\",\"HUILA\",\"LA GUAJIRA\",\"MAGDALENA\",\"META\",\"NARI\\u00d1O\",\"NORTE DE SANTANDER\",\"QUINDIO\",\"RISARALDA\",\"SANTANDER\",\"SUCRE\",\"TOLIMA\",\"VALLE DEL CAUCA\",\"ARAUCA\",\"CASANARE\",\"PUTUMAYO\",\"ARCHIPIELAGO DE SAN ANDRES PROVIDENCIA Y SANTA CATALINA\",\"AMAZONAS\",\"GUAINIA\",\"GUAVIARE\",\"VAUPES\",\"VICHADA\",\"ANTIOQUIA\",\"ATLANTICO\",\"SANTAFE DE BOGOTA D.C\",\"BOLIVAR\",\"BOYACA\",\"CALDAS\",\"CAQUETA\",\"CAUCA\",\"CESAR\",\"CORDOBA\",\"CUNDINAMARCA\",\"CHOCO\",\"HUILA\",\"LA GUAJIRA\",\"MAGDALENA\",\"META\",\"NARI\\u00d1O\",\"NORTE DE SANTANDER\",\"QUINDIO\",\"RISARALDA\",\"SANTANDER\",\"SUCRE\",\"TOLIMA\",\"VALLE DEL CAUCA\",\"ARAUCA\",\"CASANARE\",\"PUTUMAYO\",\"ARCHIPIELAGO DE SAN ANDRES PROVIDENCIA Y SANTA CATALINA\",\"AMAZONAS\",\"GUAINIA\",\"GUAVIARE\",\"VAUPES\",\"VICHADA\",\"ANTIOQUIA\",\"ATLANTICO\",\"SANTAFE DE BOGOTA D.C\",\"BOLIVAR\",\"BOYACA\",\"CALDAS\",\"CAQUETA\",\"CAUCA\",\"CESAR\",\"CORDOBA\",\"CUNDINAMARCA\",\"CHOCO\",\"HUILA\",\"LA GUAJIRA\",\"MAGDALENA\",\"META\",\"NARI\\u00d1O\",\"NORTE DE SANTANDER\",\"QUINDIO\",\"RISARALDA\",\"SANTANDER\",\"SUCRE\",\"TOLIMA\",\"VALLE DEL CAUCA\",\"ARAUCA\",\"CASANARE\",\"PUTUMAYO\",\"ARCHIPIELAGO DE SAN ANDRES PROVIDENCIA Y SANTA CATALINA\",\"AMAZONAS\",\"GUAINIA\",\"GUAVIARE\",\"VAUPES\",\"VICHADA\",\"ANTIOQUIA\",\"ATLANTICO\",\"SANTAFE DE BOGOTA D.C\",\"BOLIVAR\",\"BOYACA\",\"CALDAS\",\"CAQUETA\",\"CAUCA\",\"CESAR\",\"CORDOBA\",\"CUNDINAMARCA\",\"CHOCO\",\"HUILA\",\"LA GUAJIRA\",\"MAGDALENA\",\"META\",\"NARI\\u00d1O\",\"NORTE DE SANTANDER\",\"QUINDIO\",\"RISARALDA\",\"SANTANDER\",\"SUCRE\",\"TOLIMA\",\"VALLE DEL CAUCA\",\"ARAUCA\",\"CASANARE\",\"PUTUMAYO\",\"ARCHIPIELAGO DE SAN ANDRES PROVIDENCIA Y SANTA CATALINA\",\"AMAZONAS\",\"GUAINIA\",\"GUAVIARE\",\"VAUPES\",\"VICHADA\",\"ANTIOQUIA\",\"ATLANTICO\",\"SANTAFE DE BOGOTA D.C\",\"BOLIVAR\",\"BOYACA\",\"CALDAS\",\"CAQUETA\",\"CAUCA\",\"CESAR\",\"CORDOBA\",\"CUNDINAMARCA\",\"CHOCO\",\"HUILA\",\"LA GUAJIRA\",\"MAGDALENA\",\"META\",\"NARI\\u00d1O\",\"NORTE DE SANTANDER\",\"QUINDIO\",\"RISARALDA\",\"SANTANDER\",\"SUCRE\",\"TOLIMA\",\"VALLE DEL CAUCA\",\"ARAUCA\",\"CASANARE\",\"PUTUMAYO\",\"ARCHIPIELAGO DE SAN ANDRES PROVIDENCIA Y SANTA CATALINA\",\"AMAZONAS\",\"GUAINIA\",\"GUAVIARE\",\"VAUPES\",\"VICHADA\",\"ANTIOQUIA\",\"ATLANTICO\",\"SANTAFE DE BOGOTA D.C\",\"BOLIVAR\",\"BOYACA\",\"CALDAS\",\"CAQUETA\",\"CAUCA\",\"CESAR\",\"CORDOBA\",\"CUNDINAMARCA\",\"CHOCO\",\"HUILA\",\"LA GUAJIRA\",\"MAGDALENA\",\"META\",\"NARI\\u00d1O\",\"NORTE DE SANTANDER\",\"QUINDIO\",\"RISARALDA\",\"SANTANDER\",\"SUCRE\",\"TOLIMA\",\"VALLE DEL CAUCA\",\"ARAUCA\",\"CASANARE\",\"PUTUMAYO\",null,\"AMAZONAS\",\"GUAINIA\",\"GUAVIARE\",\"VAUPES\",\"VICHADA\",\"ANTIOQUIA\",\"ATLANTICO\",\"SANTAFE DE BOGOTA D.C\",\"BOLIVAR\",\"BOYACA\",\"CALDAS\",\"CAQUETA\",\"CAUCA\",\"CESAR\",\"CORDOBA\",\"CUNDINAMARCA\",\"CHOCO\",\"HUILA\",\"LA GUAJIRA\",\"MAGDALENA\",\"META\",\"NARI\\u00d1O\",\"NORTE DE SANTANDER\",\"QUINDIO\",\"RISARALDA\",\"SANTANDER\",\"SUCRE\",\"TOLIMA\",\"VALLE DEL CAUCA\",\"ARAUCA\",\"CASANARE\",\"PUTUMAYO\",\"ARCHIPIELAGO DE SAN ANDRES PROVIDENCIA Y SANTA CATALINA\",\"AMAZONAS\",\"GUAINIA\",\"GUAVIARE\",\"VAUPES\",\"VICHADA\"],\"name\":\"\",\"z\":[106.81,107.88,97.78,110.41,104.15,98.13,106.03,98.03,110.47,111.08,103.34,110.17,101.13,89.4,110.51,102.82,93.96,102.48,103.95,112.41,103.43,123.04,103.45,101.5,85.09,115.07,93.62,73.8,94.53,95.52,78.3,72.29,82.08,105.8,100.39,92.86,103.53,99.96,96.6,98.26,102.15,109.0,110.73,101.88,99.64,100.19,89.93,108.68,103.0,92.96,96.69,102.48,109.1,103.99,112.62,97.11,101.86,83.67,117.02,93.12,76.21,94.76,85.9,71.3,73.18,75.11,105.69,95.58,91.42,103.72,96.3,94.92,95.55,104.67,109.98,110.67,100.66,96.73,101.65,87.85,117.11,106.43,93.62,100.76,100.48,106.4,106.44,117.32,100.2,101.44,81.63,117.81,89.83,74.43,95.41,114.03,70.31,74.45,84.57,103.9,93.65,86.66,98.71,94.74,92.36,91.71,105.48,111.11,110.59,99.75,100.66,99.41,88.84,108.4,106.4,89.87,98.77,97.59,103.53,105.95,113.29,96.32,98.4,81.48,117.09,90.13,73.86,95.65,90.09,67.66,74.25,84.1,103.14,93.38,88.45,100.18,93.37,90.19,85.42,99.04,109.85,103.33,100.22,100.91,99.18,86.61,108.08,103.88,88.26,99.27,94.03,102.5,105.97,112.16,96.32,96.74,82.95,115.06,88.74,72.67,95.76,93.44,65.9,76.58,87.09,101.72,98.02,87.29,101.18,96.0,88.86,88.13,100.22,110.73,104.35,101.15,96.88,96.84,88.3,108.24,104.73,83.28,101.66,91.75,102.31,106.47,111.51,95.33,93.81,85.37,111.65,87.8,73.81,96.12,95.79,65.4,76.78,87.9,98.15,99.32,86.62,102.17,94.76,86.35,88.1,99.31,111.18,101.31,101.72,95.51,95.17,86.51,109.39,102.17,83.3,105.26,88.57,100.7,107.72,111.79,94.39,91.94,86.6,112.68,88.54,72.38,96.56,97.94,67.6,78.29,92.69,108.39,99.81,105.2,112.48,106.84,99.49,107.89,100.03,101.99,108.32,108.72,98.11,106.28,103.72,115.66,104.13,98.98,106.28,110.83,114.09,108.08,110.42,110.66,91.87,112.21,104.3,96.55,99.93,95.04,77.05,105.08,59.79,61.92,107.57,100.2,104.93,112.39,108.44,97.69,105.49,100.7,102.06,107.57,106.07,103.24,105.3,103.71,114.32,107.15,98.35,106.49,109.23,114.85,106.83,108.96,110.63,92.62,106.49,104.68,96.73,98.59,95.56,80.77,100.82,61.04,62.42,106.19,100.38,104.74,110.4,103.67,96.32,101.54,95.43,99.16,103.59,103.27,94.63,103.51,104.74,110.91,105.44,97.39,98.32,107.41,113.87,105.54,107.93,110.54,92.14,105.96,104.95,95.21,99.15,94.99,83.91,100.72,62.8,66.64,1.046971764,1.020430176,1.025783591,1.113315112,1.048581597,0.958735478,0.9750741779,0.9766997928,0.987982327,1.036783017,1.000961716,1.004828116,1.041300299,1.11669465,1.127975928,1.059608877,0.9668833015,1.017842663,1.051789337,1.148903085,1.066007165,1.085409739,1.12470648,0.9215177842,1.078616863,1.058447644,0.9623415408,0.9671145686,0.9598588443,0.9252700889,1.007664604,0.6682420247,0.7300424916],\"type\":\"choropleth\"}],                        {\"template\":{\"data\":{\"bar\":[{\"error_x\":{\"color\":\"#2a3f5f\"},\"error_y\":{\"color\":\"#2a3f5f\"},\"marker\":{\"line\":{\"color\":\"#E5ECF6\",\"width\":0.5},\"pattern\":{\"fillmode\":\"overlay\",\"size\":10,\"solidity\":0.2}},\"type\":\"bar\"}],\"barpolar\":[{\"marker\":{\"line\":{\"color\":\"#E5ECF6\",\"width\":0.5},\"pattern\":{\"fillmode\":\"overlay\",\"size\":10,\"solidity\":0.2}},\"type\":\"barpolar\"}],\"carpet\":[{\"aaxis\":{\"endlinecolor\":\"#2a3f5f\",\"gridcolor\":\"white\",\"linecolor\":\"white\",\"minorgridcolor\":\"white\",\"startlinecolor\":\"#2a3f5f\"},\"baxis\":{\"endlinecolor\":\"#2a3f5f\",\"gridcolor\":\"white\",\"linecolor\":\"white\",\"minorgridcolor\":\"white\",\"startlinecolor\":\"#2a3f5f\"},\"type\":\"carpet\"}],\"choropleth\":[{\"colorbar\":{\"outlinewidth\":0,\"ticks\":\"\"},\"type\":\"choropleth\"}],\"contour\":[{\"colorbar\":{\"outlinewidth\":0,\"ticks\":\"\"},\"colorscale\":[[0.0,\"#0d0887\"],[0.1111111111111111,\"#46039f\"],[0.2222222222222222,\"#7201a8\"],[0.3333333333333333,\"#9c179e\"],[0.4444444444444444,\"#bd3786\"],[0.5555555555555556,\"#d8576b\"],[0.6666666666666666,\"#ed7953\"],[0.7777777777777778,\"#fb9f3a\"],[0.8888888888888888,\"#fdca26\"],[1.0,\"#f0f921\"]],\"type\":\"contour\"}],\"contourcarpet\":[{\"colorbar\":{\"outlinewidth\":0,\"ticks\":\"\"},\"type\":\"contourcarpet\"}],\"heatmap\":[{\"colorbar\":{\"outlinewidth\":0,\"ticks\":\"\"},\"colorscale\":[[0.0,\"#0d0887\"],[0.1111111111111111,\"#46039f\"],[0.2222222222222222,\"#7201a8\"],[0.3333333333333333,\"#9c179e\"],[0.4444444444444444,\"#bd3786\"],[0.5555555555555556,\"#d8576b\"],[0.6666666666666666,\"#ed7953\"],[0.7777777777777778,\"#fb9f3a\"],[0.8888888888888888,\"#fdca26\"],[1.0,\"#f0f921\"]],\"type\":\"heatmap\"}],\"heatmapgl\":[{\"colorbar\":{\"outlinewidth\":0,\"ticks\":\"\"},\"colorscale\":[[0.0,\"#0d0887\"],[0.1111111111111111,\"#46039f\"],[0.2222222222222222,\"#7201a8\"],[0.3333333333333333,\"#9c179e\"],[0.4444444444444444,\"#bd3786\"],[0.5555555555555556,\"#d8576b\"],[0.6666666666666666,\"#ed7953\"],[0.7777777777777778,\"#fb9f3a\"],[0.8888888888888888,\"#fdca26\"],[1.0,\"#f0f921\"]],\"type\":\"heatmapgl\"}],\"histogram\":[{\"marker\":{\"pattern\":{\"fillmode\":\"overlay\",\"size\":10,\"solidity\":0.2}},\"type\":\"histogram\"}],\"histogram2d\":[{\"colorbar\":{\"outlinewidth\":0,\"ticks\":\"\"},\"colorscale\":[[0.0,\"#0d0887\"],[0.1111111111111111,\"#46039f\"],[0.2222222222222222,\"#7201a8\"],[0.3333333333333333,\"#9c179e\"],[0.4444444444444444,\"#bd3786\"],[0.5555555555555556,\"#d8576b\"],[0.6666666666666666,\"#ed7953\"],[0.7777777777777778,\"#fb9f3a\"],[0.8888888888888888,\"#fdca26\"],[1.0,\"#f0f921\"]],\"type\":\"histogram2d\"}],\"histogram2dcontour\":[{\"colorbar\":{\"outlinewidth\":0,\"ticks\":\"\"},\"colorscale\":[[0.0,\"#0d0887\"],[0.1111111111111111,\"#46039f\"],[0.2222222222222222,\"#7201a8\"],[0.3333333333333333,\"#9c179e\"],[0.4444444444444444,\"#bd3786\"],[0.5555555555555556,\"#d8576b\"],[0.6666666666666666,\"#ed7953\"],[0.7777777777777778,\"#fb9f3a\"],[0.8888888888888888,\"#fdca26\"],[1.0,\"#f0f921\"]],\"type\":\"histogram2dcontour\"}],\"mesh3d\":[{\"colorbar\":{\"outlinewidth\":0,\"ticks\":\"\"},\"type\":\"mesh3d\"}],\"parcoords\":[{\"line\":{\"colorbar\":{\"outlinewidth\":0,\"ticks\":\"\"}},\"type\":\"parcoords\"}],\"pie\":[{\"automargin\":true,\"type\":\"pie\"}],\"scatter\":[{\"marker\":{\"colorbar\":{\"outlinewidth\":0,\"ticks\":\"\"}},\"type\":\"scatter\"}],\"scatter3d\":[{\"line\":{\"colorbar\":{\"outlinewidth\":0,\"ticks\":\"\"}},\"marker\":{\"colorbar\":{\"outlinewidth\":0,\"ticks\":\"\"}},\"type\":\"scatter3d\"}],\"scattercarpet\":[{\"marker\":{\"colorbar\":{\"outlinewidth\":0,\"ticks\":\"\"}},\"type\":\"scattercarpet\"}],\"scattergeo\":[{\"marker\":{\"colorbar\":{\"outlinewidth\":0,\"ticks\":\"\"}},\"type\":\"scattergeo\"}],\"scattergl\":[{\"marker\":{\"colorbar\":{\"outlinewidth\":0,\"ticks\":\"\"}},\"type\":\"scattergl\"}],\"scattermapbox\":[{\"marker\":{\"colorbar\":{\"outlinewidth\":0,\"ticks\":\"\"}},\"type\":\"scattermapbox\"}],\"scatterpolar\":[{\"marker\":{\"colorbar\":{\"outlinewidth\":0,\"ticks\":\"\"}},\"type\":\"scatterpolar\"}],\"scatterpolargl\":[{\"marker\":{\"colorbar\":{\"outlinewidth\":0,\"ticks\":\"\"}},\"type\":\"scatterpolargl\"}],\"scatterternary\":[{\"marker\":{\"colorbar\":{\"outlinewidth\":0,\"ticks\":\"\"}},\"type\":\"scatterternary\"}],\"surface\":[{\"colorbar\":{\"outlinewidth\":0,\"ticks\":\"\"},\"colorscale\":[[0.0,\"#0d0887\"],[0.1111111111111111,\"#46039f\"],[0.2222222222222222,\"#7201a8\"],[0.3333333333333333,\"#9c179e\"],[0.4444444444444444,\"#bd3786\"],[0.5555555555555556,\"#d8576b\"],[0.6666666666666666,\"#ed7953\"],[0.7777777777777778,\"#fb9f3a\"],[0.8888888888888888,\"#fdca26\"],[1.0,\"#f0f921\"]],\"type\":\"surface\"}],\"table\":[{\"cells\":{\"fill\":{\"color\":\"#EBF0F8\"},\"line\":{\"color\":\"white\"}},\"header\":{\"fill\":{\"color\":\"#C8D4E3\"},\"line\":{\"color\":\"white\"}},\"type\":\"table\"}]},\"layout\":{\"annotationdefaults\":{\"arrowcolor\":\"#2a3f5f\",\"arrowhead\":0,\"arrowwidth\":1},\"autotypenumbers\":\"strict\",\"coloraxis\":{\"colorbar\":{\"outlinewidth\":0,\"ticks\":\"\"}},\"colorscale\":{\"diverging\":[[0,\"#8e0152\"],[0.1,\"#c51b7d\"],[0.2,\"#de77ae\"],[0.3,\"#f1b6da\"],[0.4,\"#fde0ef\"],[0.5,\"#f7f7f7\"],[0.6,\"#e6f5d0\"],[0.7,\"#b8e186\"],[0.8,\"#7fbc41\"],[0.9,\"#4d9221\"],[1,\"#276419\"]],\"sequential\":[[0.0,\"#0d0887\"],[0.1111111111111111,\"#46039f\"],[0.2222222222222222,\"#7201a8\"],[0.3333333333333333,\"#9c179e\"],[0.4444444444444444,\"#bd3786\"],[0.5555555555555556,\"#d8576b\"],[0.6666666666666666,\"#ed7953\"],[0.7777777777777778,\"#fb9f3a\"],[0.8888888888888888,\"#fdca26\"],[1.0,\"#f0f921\"]],\"sequentialminus\":[[0.0,\"#0d0887\"],[0.1111111111111111,\"#46039f\"],[0.2222222222222222,\"#7201a8\"],[0.3333333333333333,\"#9c179e\"],[0.4444444444444444,\"#bd3786\"],[0.5555555555555556,\"#d8576b\"],[0.6666666666666666,\"#ed7953\"],[0.7777777777777778,\"#fb9f3a\"],[0.8888888888888888,\"#fdca26\"],[1.0,\"#f0f921\"]]},\"colorway\":[\"#636efa\",\"#EF553B\",\"#00cc96\",\"#ab63fa\",\"#FFA15A\",\"#19d3f3\",\"#FF6692\",\"#B6E880\",\"#FF97FF\",\"#FECB52\"],\"font\":{\"color\":\"#2a3f5f\"},\"geo\":{\"bgcolor\":\"white\",\"lakecolor\":\"white\",\"landcolor\":\"#E5ECF6\",\"showlakes\":true,\"showland\":true,\"subunitcolor\":\"white\"},\"hoverlabel\":{\"align\":\"left\"},\"hovermode\":\"closest\",\"mapbox\":{\"style\":\"light\"},\"paper_bgcolor\":\"white\",\"plot_bgcolor\":\"#E5ECF6\",\"polar\":{\"angularaxis\":{\"gridcolor\":\"white\",\"linecolor\":\"white\",\"ticks\":\"\"},\"bgcolor\":\"#E5ECF6\",\"radialaxis\":{\"gridcolor\":\"white\",\"linecolor\":\"white\",\"ticks\":\"\"}},\"scene\":{\"xaxis\":{\"backgroundcolor\":\"#E5ECF6\",\"gridcolor\":\"white\",\"gridwidth\":2,\"linecolor\":\"white\",\"showbackground\":true,\"ticks\":\"\",\"zerolinecolor\":\"white\"},\"yaxis\":{\"backgroundcolor\":\"#E5ECF6\",\"gridcolor\":\"white\",\"gridwidth\":2,\"linecolor\":\"white\",\"showbackground\":true,\"ticks\":\"\",\"zerolinecolor\":\"white\"},\"zaxis\":{\"backgroundcolor\":\"#E5ECF6\",\"gridcolor\":\"white\",\"gridwidth\":2,\"linecolor\":\"white\",\"showbackground\":true,\"ticks\":\"\",\"zerolinecolor\":\"white\"}},\"shapedefaults\":{\"line\":{\"color\":\"#2a3f5f\"}},\"ternary\":{\"aaxis\":{\"gridcolor\":\"white\",\"linecolor\":\"white\",\"ticks\":\"\"},\"baxis\":{\"gridcolor\":\"white\",\"linecolor\":\"white\",\"ticks\":\"\"},\"bgcolor\":\"#E5ECF6\",\"caxis\":{\"gridcolor\":\"white\",\"linecolor\":\"white\",\"ticks\":\"\"}},\"title\":{\"x\":0.05},\"xaxis\":{\"automargin\":true,\"gridcolor\":\"white\",\"linecolor\":\"white\",\"ticks\":\"\",\"title\":{\"standoff\":15},\"zerolinecolor\":\"white\",\"zerolinewidth\":2},\"yaxis\":{\"automargin\":true,\"gridcolor\":\"white\",\"linecolor\":\"white\",\"ticks\":\"\",\"title\":{\"standoff\":15},\"zerolinecolor\":\"white\",\"zerolinewidth\":2}}},\"geo\":{\"domain\":{\"x\":[0.0,1.0],\"y\":[0.0,1.0]},\"center\":{},\"showcountries\":false,\"showcoastlines\":false,\"showland\":true,\"fitbounds\":\"locations\"},\"coloraxis\":{\"colorbar\":{\"title\":{\"text\":\"Cobertura Bruta\"}},\"colorscale\":[[0.0,\"rgb(94,79,162)\"],[0.1,\"rgb(50,136,189)\"],[0.2,\"rgb(102,194,165)\"],[0.3,\"rgb(171,221,164)\"],[0.4,\"rgb(230,245,152)\"],[0.5,\"rgb(255,255,191)\"],[0.6,\"rgb(254,224,139)\"],[0.7,\"rgb(253,174,97)\"],[0.8,\"rgb(244,109,67)\"],[0.9,\"rgb(213,62,79)\"],[1.0,\"rgb(158,1,66)\"]],\"cmin\":0,\"cmax\":1.2},\"legend\":{\"tracegroupgap\":0},\"margin\":{\"t\":60},\"title\":{\"text\":\"Cobertura Bruta Estudiantil\"},\"font\":{\"size\":15}},                        {\"responsive\": true}                    ).then(function(){\n",
              "                            \n",
              "var gd = document.getElementById('24ab6c4f-75e0-4149-bc72-db31e60b5901');\n",
              "var x = new MutationObserver(function (mutations, observer) {{\n",
              "        var display = window.getComputedStyle(gd).display;\n",
              "        if (!display || display === 'none') {{\n",
              "            console.log([gd, 'removed!']);\n",
              "            Plotly.purge(gd);\n",
              "            observer.disconnect();\n",
              "        }}\n",
              "}});\n",
              "\n",
              "// Listen for the removal of the full notebook cells\n",
              "var notebookContainer = gd.closest('#notebook-container');\n",
              "if (notebookContainer) {{\n",
              "    x.observe(notebookContainer, {childList: true});\n",
              "}}\n",
              "\n",
              "// Listen for the clearing of the current output cell\n",
              "var outputEl = gd.closest('.output');\n",
              "if (outputEl) {{\n",
              "    x.observe(outputEl, {childList: true});\n",
              "}}\n",
              "\n",
              "                        })                };                            </script>        </div>\n",
              "</body>\n",
              "</html>"
            ]
          },
          "metadata": {}
        }
      ]
    },
    {
      "cell_type": "code",
      "source": [
        "df_internet = data.loc[:,['departamento','tasa_matriculacion_5_16']]"
      ],
      "metadata": {
        "id": "ZFsEqiv2EGl0"
      },
      "execution_count": 49,
      "outputs": []
    },
    {
      "cell_type": "code",
      "source": [
        "figure_4 = px.choropleth(data_frame=df_internet,\n",
        "                         geojson=url,\n",
        "                         locations='departamento',\n",
        "                         featureidkey='properties.NOMBRE_DPT',\n",
        "                         color='tasa_matriculacion_5_16',\n",
        "                         range_color=(0,1),\n",
        "                         color_continuous_scale='earth',\n",
        "                         labels={'tasa_matriculacion_5_16':''}\n",
        "                         )\n",
        "figure_4.update_geos(showcountries=False, showcoastlines=False, showland=True, fitbounds=\"locations\")\n",
        "figure_4.update_layout(title_text='Porcentaje de Matriculación Nacional', font_size=15)\n",
        "figure_4.show()"
      ],
      "metadata": {
        "colab": {
          "base_uri": "https://localhost:8080/",
          "height": 542
        },
        "id": "AljWMFx-EbIE",
        "outputId": "de600c4d-3f6b-47f3-a020-4c0e8b596915"
      },
      "execution_count": 57,
      "outputs": [
        {
          "output_type": "display_data",
          "data": {
            "text/html": [
              "<html>\n",
              "<head><meta charset=\"utf-8\" /></head>\n",
              "<body>\n",
              "    <div>            <script src=\"https://cdnjs.cloudflare.com/ajax/libs/mathjax/2.7.5/MathJax.js?config=TeX-AMS-MML_SVG\"></script><script type=\"text/javascript\">if (window.MathJax) {MathJax.Hub.Config({SVG: {font: \"STIX-Web\"}});}</script>                <script type=\"text/javascript\">window.PlotlyConfig = {MathJaxConfig: 'local'};</script>\n",
              "        <script src=\"https://cdn.plot.ly/plotly-2.8.3.min.js\"></script>                <div id=\"dff01057-9537-40cd-a1c7-1e4929fbc10e\" class=\"plotly-graph-div\" style=\"height:525px; width:100%;\"></div>            <script type=\"text/javascript\">                                    window.PLOTLYENV=window.PLOTLYENV || {};                                    if (document.getElementById(\"dff01057-9537-40cd-a1c7-1e4929fbc10e\")) {                    Plotly.newPlot(                        \"dff01057-9537-40cd-a1c7-1e4929fbc10e\",                        [{\"coloraxis\":\"coloraxis\",\"featureidkey\":\"properties.NOMBRE_DPT\",\"geo\":\"geo\",\"geojson\":\"https://gist.githubusercontent.com/john-guerra/43c7656821069d00dcbc/raw/be6a6e239cd5b5b803c6e7c2ec405b793a9064dd/Colombia.geo.json\",\"hovertemplate\":\"departamento=%{location}<br>=%{z}<extra></extra>\",\"locations\":[\"ANTIOQUIA\",\"ATLANTICO\",\"SANTAFE DE BOGOTA D.C\",\"BOLIVAR\",\"BOYACA\",\"CALDAS\",\"CAQUETA\",\"CAUCA\",\"CESAR\",\"CORDOBA\",\"CUNDINAMARCA\",\"CHOCO\",\"HUILA\",\"LA GUAJIRA\",\"MAGDALENA\",\"META\",\"NARI\\u00d1O\",\"NORTE DE SANTANDER\",\"QUINDIO\",\"RISARALDA\",\"SANTANDER\",\"SUCRE\",\"TOLIMA\",\"VALLE DEL CAUCA\",\"ARAUCA\",\"CASANARE\",\"PUTUMAYO\",\"ARCHIPIELAGO DE SAN ANDRES PROVIDENCIA Y SANTA CATALINA\",\"AMAZONAS\",\"GUAINIA\",\"GUAVIARE\",\"VAUPES\",\"VICHADA\",\"ANTIOQUIA\",\"ATLANTICO\",\"SANTAFE DE BOGOTA D.C\",\"BOLIVAR\",\"BOYACA\",\"CALDAS\",\"CAQUETA\",\"CAUCA\",\"CESAR\",\"CORDOBA\",\"CUNDINAMARCA\",\"CHOCO\",\"HUILA\",\"LA GUAJIRA\",\"MAGDALENA\",\"META\",\"NARI\\u00d1O\",\"NORTE DE SANTANDER\",\"QUINDIO\",\"RISARALDA\",\"SANTANDER\",\"SUCRE\",\"TOLIMA\",\"VALLE DEL CAUCA\",\"ARAUCA\",\"CASANARE\",\"PUTUMAYO\",\"ARCHIPIELAGO DE SAN ANDRES PROVIDENCIA Y SANTA CATALINA\",\"AMAZONAS\",\"GUAINIA\",\"GUAVIARE\",\"VAUPES\",\"VICHADA\",\"ANTIOQUIA\",\"ATLANTICO\",\"SANTAFE DE BOGOTA D.C\",\"BOLIVAR\",\"BOYACA\",\"CALDAS\",\"CAQUETA\",\"CAUCA\",\"CESAR\",\"CORDOBA\",\"CUNDINAMARCA\",\"CHOCO\",\"HUILA\",\"LA GUAJIRA\",\"MAGDALENA\",\"META\",\"NARI\\u00d1O\",\"NORTE DE SANTANDER\",\"QUINDIO\",\"RISARALDA\",\"SANTANDER\",\"SUCRE\",\"TOLIMA\",\"VALLE DEL CAUCA\",\"ARAUCA\",\"CASANARE\",\"PUTUMAYO\",\"ARCHIPIELAGO DE SAN ANDRES PROVIDENCIA Y SANTA CATALINA\",\"AMAZONAS\",\"GUAINIA\",\"GUAVIARE\",\"VAUPES\",\"VICHADA\",\"ANTIOQUIA\",\"ATLANTICO\",\"SANTAFE DE BOGOTA D.C\",\"BOLIVAR\",\"BOYACA\",\"CALDAS\",\"CAQUETA\",\"CAUCA\",\"CESAR\",\"CORDOBA\",\"CUNDINAMARCA\",\"CHOCO\",\"HUILA\",\"LA GUAJIRA\",\"MAGDALENA\",\"META\",\"NARI\\u00d1O\",\"NORTE DE SANTANDER\",\"QUINDIO\",\"RISARALDA\",\"SANTANDER\",\"SUCRE\",\"TOLIMA\",\"VALLE DEL CAUCA\",\"ARAUCA\",\"CASANARE\",\"PUTUMAYO\",\"ARCHIPIELAGO DE SAN ANDRES PROVIDENCIA Y SANTA CATALINA\",\"AMAZONAS\",\"GUAINIA\",\"GUAVIARE\",\"VAUPES\",\"VICHADA\",\"ANTIOQUIA\",\"ATLANTICO\",\"SANTAFE DE BOGOTA D.C\",\"BOLIVAR\",\"BOYACA\",\"CALDAS\",\"CAQUETA\",\"CAUCA\",\"CESAR\",\"CORDOBA\",\"CUNDINAMARCA\",\"CHOCO\",\"HUILA\",\"LA GUAJIRA\",\"MAGDALENA\",\"META\",\"NARI\\u00d1O\",\"NORTE DE SANTANDER\",\"QUINDIO\",\"RISARALDA\",\"SANTANDER\",\"SUCRE\",\"TOLIMA\",\"VALLE DEL CAUCA\",\"ARAUCA\",\"CASANARE\",\"PUTUMAYO\",\"ARCHIPIELAGO DE SAN ANDRES PROVIDENCIA Y SANTA CATALINA\",\"AMAZONAS\",\"GUAINIA\",\"GUAVIARE\",\"VAUPES\",\"VICHADA\",\"ANTIOQUIA\",\"ATLANTICO\",\"SANTAFE DE BOGOTA D.C\",\"BOLIVAR\",\"BOYACA\",\"CALDAS\",\"CAQUETA\",\"CAUCA\",\"CESAR\",\"CORDOBA\",\"CUNDINAMARCA\",\"CHOCO\",\"HUILA\",\"LA GUAJIRA\",\"MAGDALENA\",\"META\",\"NARI\\u00d1O\",\"NORTE DE SANTANDER\",\"QUINDIO\",\"RISARALDA\",\"SANTANDER\",\"SUCRE\",\"TOLIMA\",\"VALLE DEL CAUCA\",\"ARAUCA\",\"CASANARE\",\"PUTUMAYO\",\"ARCHIPIELAGO DE SAN ANDRES PROVIDENCIA Y SANTA CATALINA\",\"AMAZONAS\",\"GUAINIA\",\"GUAVIARE\",\"VAUPES\",\"VICHADA\",\"ANTIOQUIA\",\"ATLANTICO\",\"SANTAFE DE BOGOTA D.C\",\"BOLIVAR\",\"BOYACA\",\"CALDAS\",\"CAQUETA\",\"CAUCA\",\"CESAR\",\"CORDOBA\",\"CUNDINAMARCA\",\"CHOCO\",\"HUILA\",\"LA GUAJIRA\",\"MAGDALENA\",\"META\",\"NARI\\u00d1O\",\"NORTE DE SANTANDER\",\"QUINDIO\",\"RISARALDA\",\"SANTANDER\",\"SUCRE\",\"TOLIMA\",\"VALLE DEL CAUCA\",\"ARAUCA\",\"CASANARE\",\"PUTUMAYO\",\"ARCHIPIELAGO DE SAN ANDRES PROVIDENCIA Y SANTA CATALINA\",\"AMAZONAS\",\"GUAINIA\",\"GUAVIARE\",\"VAUPES\",\"VICHADA\",\"ANTIOQUIA\",\"ATLANTICO\",\"SANTAFE DE BOGOTA D.C\",\"BOLIVAR\",\"BOYACA\",\"CALDAS\",\"CAQUETA\",\"CAUCA\",\"CESAR\",\"CORDOBA\",\"CUNDINAMARCA\",\"CHOCO\",\"HUILA\",\"LA GUAJIRA\",\"MAGDALENA\",\"META\",\"NARI\\u00d1O\",\"NORTE DE SANTANDER\",\"QUINDIO\",\"RISARALDA\",\"SANTANDER\",\"SUCRE\",\"TOLIMA\",\"VALLE DEL CAUCA\",\"ARAUCA\",\"CASANARE\",\"PUTUMAYO\",\"ARCHIPIELAGO DE SAN ANDRES PROVIDENCIA Y SANTA CATALINA\",\"AMAZONAS\",\"GUAINIA\",\"GUAVIARE\",\"VAUPES\",\"VICHADA\",\"ANTIOQUIA\",\"ATLANTICO\",\"SANTAFE DE BOGOTA D.C\",\"BOLIVAR\",\"BOYACA\",\"CALDAS\",\"CAQUETA\",\"CAUCA\",\"CESAR\",\"CORDOBA\",\"CUNDINAMARCA\",\"CHOCO\",\"HUILA\",\"LA GUAJIRA\",\"MAGDALENA\",\"META\",\"NARI\\u00d1O\",\"NORTE DE SANTANDER\",\"QUINDIO\",\"RISARALDA\",\"SANTANDER\",\"SUCRE\",\"TOLIMA\",\"VALLE DEL CAUCA\",\"ARAUCA\",\"CASANARE\",\"PUTUMAYO\",\"ARCHIPIELAGO DE SAN ANDRES PROVIDENCIA Y SANTA CATALINA\",\"AMAZONAS\",\"GUAINIA\",\"GUAVIARE\",\"VAUPES\",\"VICHADA\",\"ANTIOQUIA\",\"ATLANTICO\",\"SANTAFE DE BOGOTA D.C\",\"BOLIVAR\",\"BOYACA\",\"CALDAS\",\"CAQUETA\",\"CAUCA\",\"CESAR\",\"CORDOBA\",\"CUNDINAMARCA\",\"CHOCO\",\"HUILA\",\"LA GUAJIRA\",\"MAGDALENA\",\"META\",\"NARI\\u00d1O\",\"NORTE DE SANTANDER\",\"QUINDIO\",\"RISARALDA\",\"SANTANDER\",\"SUCRE\",\"TOLIMA\",\"VALLE DEL CAUCA\",\"ARAUCA\",\"CASANARE\",\"PUTUMAYO\",null,\"AMAZONAS\",\"GUAINIA\",\"GUAVIARE\",\"VAUPES\",\"VICHADA\",\"ANTIOQUIA\",\"ATLANTICO\",\"SANTAFE DE BOGOTA D.C\",\"BOLIVAR\",\"BOYACA\",\"CALDAS\",\"CAQUETA\",\"CAUCA\",\"CESAR\",\"CORDOBA\",\"CUNDINAMARCA\",\"CHOCO\",\"HUILA\",\"LA GUAJIRA\",\"MAGDALENA\",\"META\",\"NARI\\u00d1O\",\"NORTE DE SANTANDER\",\"QUINDIO\",\"RISARALDA\",\"SANTANDER\",\"SUCRE\",\"TOLIMA\",\"VALLE DEL CAUCA\",\"ARAUCA\",\"CASANARE\",\"PUTUMAYO\",\"ARCHIPIELAGO DE SAN ANDRES PROVIDENCIA Y SANTA CATALINA\",\"AMAZONAS\",\"GUAINIA\",\"GUAVIARE\",\"VAUPES\",\"VICHADA\"],\"name\":\"\",\"z\":[94.01,99.32,90.7,91.57,86.16,87.04,88.78,86.35,94.75,94.53,92.13,83.79,90.52,77.12,94.47,93.65,80.53,89.04,90.87,95.61,92.49,103.27,88.8,88.51,74.15,101.11,80.46,67.28,82.34,74.87,64.04,62.18,73.07,92.79,91.59,86.94,88.97,85.7,84.55,83.28,83.48,94.15,93.78,91.17,80.97,89.77,75.42,91.82,93.35,77.75,86.0,88.77,92.91,92.21,95.6,87.47,88.26,72.33,103.94,78.17,68.7,81.87,70.82,59.2,62.32,66.75,92.06,86.41,84.5,89.66,85.1,82.58,80.95,84.34,94.92,93.39,90.49,79.59,89.73,74.8,96.03,94.83,76.6,86.42,85.89,89.97,93.4,96.68,87.02,87.56,70.71,103.73,76.96,67.93,81.84,72.57,57.33,62.25,74.61,90.97,85.81,80.79,87.5,83.94,80.96,79.36,84.6,96.29,93.23,89.99,81.15,88.35,74.91,90.35,94.77,75.23,87.2,83.93,88.18,93.63,96.88,86.36,85.52,71.55,103.26,77.72,68.17,82.13,73.67,56.23,62.82,74.52,89.92,86.17,82.2,88.78,83.62,78.9,73.14,82.21,95.52,89.54,90.72,80.48,87.64,74.12,93.61,92.19,73.53,85.89,81.93,88.12,94.5,95.8,85.48,84.44,72.88,102.43,76.71,67.34,81.49,75.3,54.91,64.08,76.82,88.2,89.7,80.7,89.5,83.8,77.4,75.4,83.9,97.6,90.3,91.2,79.8,85.9,75.7,92.5,92.4,71.1,88.6,79.8,87.4,95.2,96.8,84.7,81.4,74.0,100.2,76.1,68.2,81.4,77.6,54.8,64.2,77.8,86.1,91.1,79.9,90.7,83.5,75.8,74.4,83.3,99.1,88.8,91.8,79.2,85.3,75.5,93.6,90.9,70.2,90.4,77.8,86.8,96.5,97.3,84.0,80.4,75.0,97.8,75.2,67.8,83.6,80.0,55.0,66.5,77.9,84.72,92.53,78.71,92.71,83.54,74.38,73.14,83.72,101.41,87.95,92.49,79.81,85.04,77.72,95.21,90.3,67.88,93.58,76.15,86.17,97.79,98.08,83.88,79.27,77.02,96.81,75.0,67.34,81.13,81.64,55.7,61.64,78.13,94.0,92.07,96.82,99.44,96.6,85.98,90.52,84.42,90.77,94.23,96.14,82.64,94.2,92.92,97.49,93.59,84.0,92.25,96.77,99.14,96.38,95.93,99.2,81.68,93.09,93.46,84.83,91.92,81.4,66.26,83.11,52.33,55.51,93.59,92.75,96.41,98.91,94.91,84.65,88.94,85.0,89.88,93.27,93.68,83.98,93.46,94.28,96.03,93.91,84.15,90.24,95.97,98.9,95.97,95.22,99.37,82.18,92.84,94.38,84.42,92.77,81.26,70.52,83.07,53.47,60.15,0.9262493467,0.9393339499,0.9427867772,0.9938641413,0.9554764709,0.8434000878,0.8672519611,0.8633350625,0.892079856,0.930380333,0.9083534988,0.8721841811,0.9380495521,0.9946421513,0.9714810427,0.943650479,0.8350016198,0.9206484694,0.9471542275,0.9933329878,0.9604787902,0.9549887362,1.012183378,0.8185717383,0.9394324001,0.9466643946,0.8459088712,0.9087694484,0.8202911337,0.7804768906,0.849062702,0.5472918351,0.6544013501],\"type\":\"choropleth\"}],                        {\"template\":{\"data\":{\"bar\":[{\"error_x\":{\"color\":\"#2a3f5f\"},\"error_y\":{\"color\":\"#2a3f5f\"},\"marker\":{\"line\":{\"color\":\"#E5ECF6\",\"width\":0.5},\"pattern\":{\"fillmode\":\"overlay\",\"size\":10,\"solidity\":0.2}},\"type\":\"bar\"}],\"barpolar\":[{\"marker\":{\"line\":{\"color\":\"#E5ECF6\",\"width\":0.5},\"pattern\":{\"fillmode\":\"overlay\",\"size\":10,\"solidity\":0.2}},\"type\":\"barpolar\"}],\"carpet\":[{\"aaxis\":{\"endlinecolor\":\"#2a3f5f\",\"gridcolor\":\"white\",\"linecolor\":\"white\",\"minorgridcolor\":\"white\",\"startlinecolor\":\"#2a3f5f\"},\"baxis\":{\"endlinecolor\":\"#2a3f5f\",\"gridcolor\":\"white\",\"linecolor\":\"white\",\"minorgridcolor\":\"white\",\"startlinecolor\":\"#2a3f5f\"},\"type\":\"carpet\"}],\"choropleth\":[{\"colorbar\":{\"outlinewidth\":0,\"ticks\":\"\"},\"type\":\"choropleth\"}],\"contour\":[{\"colorbar\":{\"outlinewidth\":0,\"ticks\":\"\"},\"colorscale\":[[0.0,\"#0d0887\"],[0.1111111111111111,\"#46039f\"],[0.2222222222222222,\"#7201a8\"],[0.3333333333333333,\"#9c179e\"],[0.4444444444444444,\"#bd3786\"],[0.5555555555555556,\"#d8576b\"],[0.6666666666666666,\"#ed7953\"],[0.7777777777777778,\"#fb9f3a\"],[0.8888888888888888,\"#fdca26\"],[1.0,\"#f0f921\"]],\"type\":\"contour\"}],\"contourcarpet\":[{\"colorbar\":{\"outlinewidth\":0,\"ticks\":\"\"},\"type\":\"contourcarpet\"}],\"heatmap\":[{\"colorbar\":{\"outlinewidth\":0,\"ticks\":\"\"},\"colorscale\":[[0.0,\"#0d0887\"],[0.1111111111111111,\"#46039f\"],[0.2222222222222222,\"#7201a8\"],[0.3333333333333333,\"#9c179e\"],[0.4444444444444444,\"#bd3786\"],[0.5555555555555556,\"#d8576b\"],[0.6666666666666666,\"#ed7953\"],[0.7777777777777778,\"#fb9f3a\"],[0.8888888888888888,\"#fdca26\"],[1.0,\"#f0f921\"]],\"type\":\"heatmap\"}],\"heatmapgl\":[{\"colorbar\":{\"outlinewidth\":0,\"ticks\":\"\"},\"colorscale\":[[0.0,\"#0d0887\"],[0.1111111111111111,\"#46039f\"],[0.2222222222222222,\"#7201a8\"],[0.3333333333333333,\"#9c179e\"],[0.4444444444444444,\"#bd3786\"],[0.5555555555555556,\"#d8576b\"],[0.6666666666666666,\"#ed7953\"],[0.7777777777777778,\"#fb9f3a\"],[0.8888888888888888,\"#fdca26\"],[1.0,\"#f0f921\"]],\"type\":\"heatmapgl\"}],\"histogram\":[{\"marker\":{\"pattern\":{\"fillmode\":\"overlay\",\"size\":10,\"solidity\":0.2}},\"type\":\"histogram\"}],\"histogram2d\":[{\"colorbar\":{\"outlinewidth\":0,\"ticks\":\"\"},\"colorscale\":[[0.0,\"#0d0887\"],[0.1111111111111111,\"#46039f\"],[0.2222222222222222,\"#7201a8\"],[0.3333333333333333,\"#9c179e\"],[0.4444444444444444,\"#bd3786\"],[0.5555555555555556,\"#d8576b\"],[0.6666666666666666,\"#ed7953\"],[0.7777777777777778,\"#fb9f3a\"],[0.8888888888888888,\"#fdca26\"],[1.0,\"#f0f921\"]],\"type\":\"histogram2d\"}],\"histogram2dcontour\":[{\"colorbar\":{\"outlinewidth\":0,\"ticks\":\"\"},\"colorscale\":[[0.0,\"#0d0887\"],[0.1111111111111111,\"#46039f\"],[0.2222222222222222,\"#7201a8\"],[0.3333333333333333,\"#9c179e\"],[0.4444444444444444,\"#bd3786\"],[0.5555555555555556,\"#d8576b\"],[0.6666666666666666,\"#ed7953\"],[0.7777777777777778,\"#fb9f3a\"],[0.8888888888888888,\"#fdca26\"],[1.0,\"#f0f921\"]],\"type\":\"histogram2dcontour\"}],\"mesh3d\":[{\"colorbar\":{\"outlinewidth\":0,\"ticks\":\"\"},\"type\":\"mesh3d\"}],\"parcoords\":[{\"line\":{\"colorbar\":{\"outlinewidth\":0,\"ticks\":\"\"}},\"type\":\"parcoords\"}],\"pie\":[{\"automargin\":true,\"type\":\"pie\"}],\"scatter\":[{\"marker\":{\"colorbar\":{\"outlinewidth\":0,\"ticks\":\"\"}},\"type\":\"scatter\"}],\"scatter3d\":[{\"line\":{\"colorbar\":{\"outlinewidth\":0,\"ticks\":\"\"}},\"marker\":{\"colorbar\":{\"outlinewidth\":0,\"ticks\":\"\"}},\"type\":\"scatter3d\"}],\"scattercarpet\":[{\"marker\":{\"colorbar\":{\"outlinewidth\":0,\"ticks\":\"\"}},\"type\":\"scattercarpet\"}],\"scattergeo\":[{\"marker\":{\"colorbar\":{\"outlinewidth\":0,\"ticks\":\"\"}},\"type\":\"scattergeo\"}],\"scattergl\":[{\"marker\":{\"colorbar\":{\"outlinewidth\":0,\"ticks\":\"\"}},\"type\":\"scattergl\"}],\"scattermapbox\":[{\"marker\":{\"colorbar\":{\"outlinewidth\":0,\"ticks\":\"\"}},\"type\":\"scattermapbox\"}],\"scatterpolar\":[{\"marker\":{\"colorbar\":{\"outlinewidth\":0,\"ticks\":\"\"}},\"type\":\"scatterpolar\"}],\"scatterpolargl\":[{\"marker\":{\"colorbar\":{\"outlinewidth\":0,\"ticks\":\"\"}},\"type\":\"scatterpolargl\"}],\"scatterternary\":[{\"marker\":{\"colorbar\":{\"outlinewidth\":0,\"ticks\":\"\"}},\"type\":\"scatterternary\"}],\"surface\":[{\"colorbar\":{\"outlinewidth\":0,\"ticks\":\"\"},\"colorscale\":[[0.0,\"#0d0887\"],[0.1111111111111111,\"#46039f\"],[0.2222222222222222,\"#7201a8\"],[0.3333333333333333,\"#9c179e\"],[0.4444444444444444,\"#bd3786\"],[0.5555555555555556,\"#d8576b\"],[0.6666666666666666,\"#ed7953\"],[0.7777777777777778,\"#fb9f3a\"],[0.8888888888888888,\"#fdca26\"],[1.0,\"#f0f921\"]],\"type\":\"surface\"}],\"table\":[{\"cells\":{\"fill\":{\"color\":\"#EBF0F8\"},\"line\":{\"color\":\"white\"}},\"header\":{\"fill\":{\"color\":\"#C8D4E3\"},\"line\":{\"color\":\"white\"}},\"type\":\"table\"}]},\"layout\":{\"annotationdefaults\":{\"arrowcolor\":\"#2a3f5f\",\"arrowhead\":0,\"arrowwidth\":1},\"autotypenumbers\":\"strict\",\"coloraxis\":{\"colorbar\":{\"outlinewidth\":0,\"ticks\":\"\"}},\"colorscale\":{\"diverging\":[[0,\"#8e0152\"],[0.1,\"#c51b7d\"],[0.2,\"#de77ae\"],[0.3,\"#f1b6da\"],[0.4,\"#fde0ef\"],[0.5,\"#f7f7f7\"],[0.6,\"#e6f5d0\"],[0.7,\"#b8e186\"],[0.8,\"#7fbc41\"],[0.9,\"#4d9221\"],[1,\"#276419\"]],\"sequential\":[[0.0,\"#0d0887\"],[0.1111111111111111,\"#46039f\"],[0.2222222222222222,\"#7201a8\"],[0.3333333333333333,\"#9c179e\"],[0.4444444444444444,\"#bd3786\"],[0.5555555555555556,\"#d8576b\"],[0.6666666666666666,\"#ed7953\"],[0.7777777777777778,\"#fb9f3a\"],[0.8888888888888888,\"#fdca26\"],[1.0,\"#f0f921\"]],\"sequentialminus\":[[0.0,\"#0d0887\"],[0.1111111111111111,\"#46039f\"],[0.2222222222222222,\"#7201a8\"],[0.3333333333333333,\"#9c179e\"],[0.4444444444444444,\"#bd3786\"],[0.5555555555555556,\"#d8576b\"],[0.6666666666666666,\"#ed7953\"],[0.7777777777777778,\"#fb9f3a\"],[0.8888888888888888,\"#fdca26\"],[1.0,\"#f0f921\"]]},\"colorway\":[\"#636efa\",\"#EF553B\",\"#00cc96\",\"#ab63fa\",\"#FFA15A\",\"#19d3f3\",\"#FF6692\",\"#B6E880\",\"#FF97FF\",\"#FECB52\"],\"font\":{\"color\":\"#2a3f5f\"},\"geo\":{\"bgcolor\":\"white\",\"lakecolor\":\"white\",\"landcolor\":\"#E5ECF6\",\"showlakes\":true,\"showland\":true,\"subunitcolor\":\"white\"},\"hoverlabel\":{\"align\":\"left\"},\"hovermode\":\"closest\",\"mapbox\":{\"style\":\"light\"},\"paper_bgcolor\":\"white\",\"plot_bgcolor\":\"#E5ECF6\",\"polar\":{\"angularaxis\":{\"gridcolor\":\"white\",\"linecolor\":\"white\",\"ticks\":\"\"},\"bgcolor\":\"#E5ECF6\",\"radialaxis\":{\"gridcolor\":\"white\",\"linecolor\":\"white\",\"ticks\":\"\"}},\"scene\":{\"xaxis\":{\"backgroundcolor\":\"#E5ECF6\",\"gridcolor\":\"white\",\"gridwidth\":2,\"linecolor\":\"white\",\"showbackground\":true,\"ticks\":\"\",\"zerolinecolor\":\"white\"},\"yaxis\":{\"backgroundcolor\":\"#E5ECF6\",\"gridcolor\":\"white\",\"gridwidth\":2,\"linecolor\":\"white\",\"showbackground\":true,\"ticks\":\"\",\"zerolinecolor\":\"white\"},\"zaxis\":{\"backgroundcolor\":\"#E5ECF6\",\"gridcolor\":\"white\",\"gridwidth\":2,\"linecolor\":\"white\",\"showbackground\":true,\"ticks\":\"\",\"zerolinecolor\":\"white\"}},\"shapedefaults\":{\"line\":{\"color\":\"#2a3f5f\"}},\"ternary\":{\"aaxis\":{\"gridcolor\":\"white\",\"linecolor\":\"white\",\"ticks\":\"\"},\"baxis\":{\"gridcolor\":\"white\",\"linecolor\":\"white\",\"ticks\":\"\"},\"bgcolor\":\"#E5ECF6\",\"caxis\":{\"gridcolor\":\"white\",\"linecolor\":\"white\",\"ticks\":\"\"}},\"title\":{\"x\":0.05},\"xaxis\":{\"automargin\":true,\"gridcolor\":\"white\",\"linecolor\":\"white\",\"ticks\":\"\",\"title\":{\"standoff\":15},\"zerolinecolor\":\"white\",\"zerolinewidth\":2},\"yaxis\":{\"automargin\":true,\"gridcolor\":\"white\",\"linecolor\":\"white\",\"ticks\":\"\",\"title\":{\"standoff\":15},\"zerolinecolor\":\"white\",\"zerolinewidth\":2}}},\"geo\":{\"domain\":{\"x\":[0.0,1.0],\"y\":[0.0,1.0]},\"center\":{},\"showcountries\":false,\"showcoastlines\":false,\"showland\":true,\"fitbounds\":\"locations\"},\"coloraxis\":{\"colorbar\":{\"title\":{\"text\":\"\"}},\"colorscale\":[[0.0,\"rgb(161, 105, 40)\"],[0.16666666666666666,\"rgb(189, 146, 90)\"],[0.3333333333333333,\"rgb(214, 189, 141)\"],[0.5,\"rgb(237, 234, 194)\"],[0.6666666666666666,\"rgb(181, 200, 184)\"],[0.8333333333333334,\"rgb(121, 167, 172)\"],[1.0,\"rgb(40, 135, 161)\"]],\"cmin\":0,\"cmax\":1},\"legend\":{\"tracegroupgap\":0},\"margin\":{\"t\":60},\"title\":{\"text\":\"Porcentaje de Matriculaci\\u00f3n\"},\"font\":{\"size\":15}},                        {\"responsive\": true}                    ).then(function(){\n",
              "                            \n",
              "var gd = document.getElementById('dff01057-9537-40cd-a1c7-1e4929fbc10e');\n",
              "var x = new MutationObserver(function (mutations, observer) {{\n",
              "        var display = window.getComputedStyle(gd).display;\n",
              "        if (!display || display === 'none') {{\n",
              "            console.log([gd, 'removed!']);\n",
              "            Plotly.purge(gd);\n",
              "            observer.disconnect();\n",
              "        }}\n",
              "}});\n",
              "\n",
              "// Listen for the removal of the full notebook cells\n",
              "var notebookContainer = gd.closest('#notebook-container');\n",
              "if (notebookContainer) {{\n",
              "    x.observe(notebookContainer, {childList: true});\n",
              "}}\n",
              "\n",
              "// Listen for the clearing of the current output cell\n",
              "var outputEl = gd.closest('.output');\n",
              "if (outputEl) {{\n",
              "    x.observe(outputEl, {childList: true});\n",
              "}}\n",
              "\n",
              "                        })                };                            </script>        </div>\n",
              "</body>\n",
              "</html>"
            ]
          },
          "metadata": {}
        }
      ]
    },
    {
      "cell_type": "code",
      "source": [
        "cx_internet=data.groupby(['departamento'])['sedes_conectadas_a_internet'].mean().sort_values(ascending=True).nlargest(5)"
      ],
      "metadata": {
        "id": "18KIY5vLLyi0"
      },
      "execution_count": 97,
      "outputs": []
    },
    {
      "cell_type": "code",
      "source": [
        "colors = ['#6f2da8','#4f86f7', '#fc5a8d', '#F4BB44','#E37383' ]\n",
        "plt.figure(figsize=(15,10))\n",
        "explode=[0.1,0.1,0.1,0.1,0.1]\n",
        "plt.pie(cx_internet.values,labels=cx_internet.index,colors=colors,shadow=True, explode=explode)\n",
        "plt.title('Top 5 Deptos con mejor conexión a Internet', fontsize=15)\n",
        "plt.show()"
      ],
      "metadata": {
        "colab": {
          "base_uri": "https://localhost:8080/",
          "height": 593
        },
        "id": "QH5083MlOSY7",
        "outputId": "5106bfdf-7a1d-43b4-c2e3-58375d79edfd"
      },
      "execution_count": 109,
      "outputs": [
        {
          "output_type": "display_data",
          "data": {
            "text/plain": [
              "<Figure size 1080x720 with 1 Axes>"
            ],
            "image/png": "[encoded data removed]"
          },
          "metadata": {}
        }
      ]
    }
  ]
}