{
  "nbformat": 4,
  "nbformat_minor": 0,
  "metadata": {
    "colab": {
      "provenance": [],
      "authorship_tag": "ABX9TyNzu34etG45iidN1eZGHfsC",
      "include_colab_link": true
    },
    "kernelspec": {
      "name": "python3",
      "display_name": "Python 3"
    },
    "language_info": {
      "name": "python"
    }
  },
  "cells": [
    {
      "cell_type": "markdown",
      "metadata": {
        "id": "view-in-github",
        "colab_type": "text"
      },
      "source": [
        "<a href=\"https://colab.research.google.com/github/danielrodriguez007/Data_Analysis/blob/main/PYMES.ipynb\" target=\"_parent\"><img src=\"https://colab.research.google.com/assets/colab-badge.svg\" alt=\"Open In Colab\"/></a>"
      ]
    },
    {
      "cell_type": "code",
      "source": [
        "!pip install squarify"
      ],
      "metadata": {
        "colab": {
          "base_uri": "https://localhost:8080/"
        },
        "id": "INdQUj7F-jGI",
        "outputId": "ff421adf-bdce-4781-fc07-f755e8aac343"
      },
      "execution_count": null,
      "outputs": [
        {
          "output_type": "stream",
          "name": "stdout",
          "text": [
            "Looking in indexes: https://pypi.org/simple, https://us-python.pkg.dev/colab-wheels/public/simple/\n",
            "Collecting squarify\n",
            "  Downloading squarify-0.4.3-py3-none-any.whl (4.3 kB)\n",
            "Installing collected packages: squarify\n",
            "Successfully installed squarify-0.4.3\n"
          ]
        }
      ]
    },
    {
      "cell_type": "code",
      "execution_count": null,
      "metadata": {
        "id": "I-E4BQFdx7TL"
      },
      "outputs": [],
      "source": [
        "import numpy as np\n",
        "import pandas as pd \n",
        "import matplotlib.pyplot as plt \n",
        "import seaborn as sns\n",
        "import plotly.express as px\n",
        "import squarify\n",
        "sns.set()"
      ]
    },
    {
      "cell_type": "code",
      "source": [
        "data = pd.read_json('https://www.datos.gov.co/resource/w8x2-pre7.json')\n",
        "data.head()"
      ],
      "metadata": {
        "colab": {
          "base_uri": "https://localhost:8080/",
          "height": 490
        },
        "id": "7tnAznY84Z-l",
        "outputId": "bb5d4c77-564d-4ff5-b917-118ec9d8ff3b"
      },
      "execution_count": null,
      "outputs": [
        {
          "output_type": "execute_result",
          "data": {
            "text/plain": [
              "   matricula  organizacion categoria est_matricula  \\\n",
              "0      44130             4         1            MF   \n",
              "1      32691             1       N/A            MC   \n",
              "2      50260             1       N/A            MC   \n",
              "3      64702            16         1            MI   \n",
              "4      50789             1       N/A            MC   \n",
              "\n",
              "                  razon_social  fec_matricula  fec_renovacion  ult_ano_ren  \\\n",
              "0               AGROTALURA S.A       20101014        20170329         2017   \n",
              "1    FRANCO VILLADIEGO LIZARDO       20040326        20170310         2017   \n",
              "2   OCHOA SANTAMARIA ALEJANDRA       20130606        20130606         2013   \n",
              "3           EL CAMPO BIO S.A.S       20181212        20190327         2019   \n",
              "4  BENITEZ ORTIZ EDGAR ANCISAR       20130821        20130821         2013   \n",
              "\n",
              "  fec_cancelacion fec_constitucion  ... fec_pag_ren_2020 fec_pag_ren_2021  \\\n",
              "0        20170427              N/A  ...              N/A              N/A   \n",
              "1        20220428              N/A  ...              N/A              N/A   \n",
              "2        20180430              N/A  ...              N/A              N/A   \n",
              "3             N/A         20181212  ...              N/A              N/A   \n",
              "4        20180430              N/A  ...              N/A              N/A   \n",
              "\n",
              "  fec_pag_ren_2022  acti_2018  acti_2019 acti_2020 acti_2021 acti_2022  \\\n",
              "0              N/A        N/A        N/A       N/A       N/A       N/A   \n",
              "1              N/A        N/A        N/A       N/A       N/A       N/A   \n",
              "2              N/A        N/A        N/A       N/A       N/A       N/A   \n",
              "3              N/A  160000000  160000000       N/A       N/A       N/A   \n",
              "4              N/A        N/A        N/A       N/A       N/A       N/A   \n",
              "\n",
              "               mot_can                                             ciiu_4  \n",
              "0  Cambio de domicilio                                                NaN  \n",
              "1           Depuración                                                N/A  \n",
              "2           Depuración                                                N/A  \n",
              "3                  N/A                                                N/A  \n",
              "4           Depuración  A0121 ** Cultivo de frutas tropicales y subtro...  \n",
              "\n",
              "[5 rows x 35 columns]"
            ],
            "text/html": [
              "\n",
              "  <div id=\"df-a13ba695-1e1b-4839-bb87-8620bfe5964a\">\n",
              "    <div class=\"colab-df-container\">\n",
              "      <div>\n",
              "<style scoped>\n",
              "    .dataframe tbody tr th:only-of-type {\n",
              "        vertical-align: middle;\n",
              "    }\n",
              "\n",
              "    .dataframe tbody tr th {\n",
              "        vertical-align: top;\n",
              "    }\n",
              "\n",
              "    .dataframe thead th {\n",
              "        text-align: right;\n",
              "    }\n",
              "</style>\n",
              "<table border=\"1\" class=\"dataframe\">\n",
              "  <thead>\n",
              "    <tr style=\"text-align: right;\">\n",
              "      <th></th>\n",
              "      <th>matricula</th>\n",
              "      <th>organizacion</th>\n",
              "      <th>categoria</th>\n",
              "      <th>est_matricula</th>\n",
              "      <th>razon_social</th>\n",
              "      <th>fec_matricula</th>\n",
              "      <th>fec_renovacion</th>\n",
              "      <th>ult_ano_ren</th>\n",
              "      <th>fec_cancelacion</th>\n",
              "      <th>fec_constitucion</th>\n",
              "      <th>...</th>\n",
              "      <th>fec_pag_ren_2020</th>\n",
              "      <th>fec_pag_ren_2021</th>\n",
              "      <th>fec_pag_ren_2022</th>\n",
              "      <th>acti_2018</th>\n",
              "      <th>acti_2019</th>\n",
              "      <th>acti_2020</th>\n",
              "      <th>acti_2021</th>\n",
              "      <th>acti_2022</th>\n",
              "      <th>mot_can</th>\n",
              "      <th>ciiu_4</th>\n",
              "    </tr>\n",
              "  </thead>\n",
              "  <tbody>\n",
              "    <tr>\n",
              "      <th>0</th>\n",
              "      <td>44130</td>\n",
              "      <td>4</td>\n",
              "      <td>1</td>\n",
              "      <td>MF</td>\n",
              "      <td>AGROTALURA S.A</td>\n",
              "      <td>20101014</td>\n",
              "      <td>20170329</td>\n",
              "      <td>2017</td>\n",
              "      <td>20170427</td>\n",
              "      <td>N/A</td>\n",
              "      <td>...</td>\n",
              "      <td>N/A</td>\n",
              "      <td>N/A</td>\n",
              "      <td>N/A</td>\n",
              "      <td>N/A</td>\n",
              "      <td>N/A</td>\n",
              "      <td>N/A</td>\n",
              "      <td>N/A</td>\n",
              "      <td>N/A</td>\n",
              "      <td>Cambio de domicilio</td>\n",
              "      <td>NaN</td>\n",
              "    </tr>\n",
              "    <tr>\n",
              "      <th>1</th>\n",
              "      <td>32691</td>\n",
              "      <td>1</td>\n",
              "      <td>N/A</td>\n",
              "      <td>MC</td>\n",
              "      <td>FRANCO VILLADIEGO LIZARDO</td>\n",
              "      <td>20040326</td>\n",
              "      <td>20170310</td>\n",
              "      <td>2017</td>\n",
              "      <td>20220428</td>\n",
              "      <td>N/A</td>\n",
              "      <td>...</td>\n",
              "      <td>N/A</td>\n",
              "      <td>N/A</td>\n",
              "      <td>N/A</td>\n",
              "      <td>N/A</td>\n",
              "      <td>N/A</td>\n",
              "      <td>N/A</td>\n",
              "      <td>N/A</td>\n",
              "      <td>N/A</td>\n",
              "      <td>Depuración</td>\n",
              "      <td>N/A</td>\n",
              "    </tr>\n",
              "    <tr>\n",
              "      <th>2</th>\n",
              "      <td>50260</td>\n",
              "      <td>1</td>\n",
              "      <td>N/A</td>\n",
              "      <td>MC</td>\n",
              "      <td>OCHOA SANTAMARIA ALEJANDRA</td>\n",
              "      <td>20130606</td>\n",
              "      <td>20130606</td>\n",
              "      <td>2013</td>\n",
              "      <td>20180430</td>\n",
              "      <td>N/A</td>\n",
              "      <td>...</td>\n",
              "      <td>N/A</td>\n",
              "      <td>N/A</td>\n",
              "      <td>N/A</td>\n",
              "      <td>N/A</td>\n",
              "      <td>N/A</td>\n",
              "      <td>N/A</td>\n",
              "      <td>N/A</td>\n",
              "      <td>N/A</td>\n",
              "      <td>Depuración</td>\n",
              "      <td>N/A</td>\n",
              "    </tr>\n",
              "    <tr>\n",
              "      <th>3</th>\n",
              "      <td>64702</td>\n",
              "      <td>16</td>\n",
              "      <td>1</td>\n",
              "      <td>MI</td>\n",
              "      <td>EL CAMPO BIO S.A.S</td>\n",
              "      <td>20181212</td>\n",
              "      <td>20190327</td>\n",
              "      <td>2019</td>\n",
              "      <td>N/A</td>\n",
              "      <td>20181212</td>\n",
              "      <td>...</td>\n",
              "      <td>N/A</td>\n",
              "      <td>N/A</td>\n",
              "      <td>N/A</td>\n",
              "      <td>160000000</td>\n",
              "      <td>160000000</td>\n",
              "      <td>N/A</td>\n",
              "      <td>N/A</td>\n",
              "      <td>N/A</td>\n",
              "      <td>N/A</td>\n",
              "      <td>N/A</td>\n",
              "    </tr>\n",
              "    <tr>\n",
              "      <th>4</th>\n",
              "      <td>50789</td>\n",
              "      <td>1</td>\n",
              "      <td>N/A</td>\n",
              "      <td>MC</td>\n",
              "      <td>BENITEZ ORTIZ EDGAR ANCISAR</td>\n",
              "      <td>20130821</td>\n",
              "      <td>20130821</td>\n",
              "      <td>2013</td>\n",
              "      <td>20180430</td>\n",
              "      <td>N/A</td>\n",
              "      <td>...</td>\n",
              "      <td>N/A</td>\n",
              "      <td>N/A</td>\n",
              "      <td>N/A</td>\n",
              "      <td>N/A</td>\n",
              "      <td>N/A</td>\n",
              "      <td>N/A</td>\n",
              "      <td>N/A</td>\n",
              "      <td>N/A</td>\n",
              "      <td>Depuración</td>\n",
              "      <td>A0121 ** Cultivo de frutas tropicales y subtro...</td>\n",
              "    </tr>\n",
              "  </tbody>\n",
              "</table>\n",
              "<p>5 rows × 35 columns</p>\n",
              "</div>\n",
              "      <button class=\"colab-df-convert\" onclick=\"convertToInteractive('df-a13ba695-1e1b-4839-bb87-8620bfe5964a')\"\n",
              "              title=\"Convert this dataframe to an interactive table.\"\n",
              "              style=\"display:none;\">\n",
              "        \n",
              "  <svg xmlns=\"http://www.w3.org/2000/svg\" height=\"24px\"viewBox=\"0 0 24 24\"\n",
              "       width=\"24px\">\n",
              "    <path d=\"M0 0h24v24H0V0z\" fill=\"none\"/>\n",
              "    <path d=\"M18.56 5.44l.94 2.06.94-2.06 2.06-.94-2.06-.94-.94-2.06-.94 2.06-2.06.94zm-11 1L8.5 8.5l.94-2.06 2.06-.94-2.06-.94L8.5 2.5l-.94 2.06-2.06.94zm10 10l.94 2.06.94-2.06 2.06-.94-2.06-.94-.94-2.06-.94 2.06-2.06.94z\"/><path d=\"M17.41 7.96l-1.37-1.37c-.4-.4-.92-.59-1.43-.59-.52 0-1.04.2-1.43.59L10.3 9.45l-7.72 7.72c-.78.78-.78 2.05 0 2.83L4 21.41c.39.39.9.59 1.41.59.51 0 1.02-.2 1.41-.59l7.78-7.78 2.81-2.81c.8-.78.8-2.07 0-2.86zM5.41 20L4 18.59l7.72-7.72 1.47 1.35L5.41 20z\"/>\n",
              "  </svg>\n",
              "      </button>\n",
              "      \n",
              "  <style>\n",
              "    .colab-df-container {\n",
              "      display:flex;\n",
              "      flex-wrap:wrap;\n",
              "      gap: 12px;\n",
              "    }\n",
              "\n",
              "    .colab-df-convert {\n",
              "      background-color: #E8F0FE;\n",
              "      border: none;\n",
              "      border-radius: 50%;\n",
              "      cursor: pointer;\n",
              "      display: none;\n",
              "      fill: #1967D2;\n",
              "      height: 32px;\n",
              "      padding: 0 0 0 0;\n",
              "      width: 32px;\n",
              "    }\n",
              "\n",
              "    .colab-df-convert:hover {\n",
              "      background-color: #E2EBFA;\n",
              "      box-shadow: 0px 1px 2px rgba(60, 64, 67, 0.3), 0px 1px 3px 1px rgba(60, 64, 67, 0.15);\n",
              "      fill: #174EA6;\n",
              "    }\n",
              "\n",
              "    [theme=dark] .colab-df-convert {\n",
              "      background-color: #3B4455;\n",
              "      fill: #D2E3FC;\n",
              "    }\n",
              "\n",
              "    [theme=dark] .colab-df-convert:hover {\n",
              "      background-color: #434B5C;\n",
              "      box-shadow: 0px 1px 3px 1px rgba(0, 0, 0, 0.15);\n",
              "      filter: drop-shadow(0px 1px 2px rgba(0, 0, 0, 0.3));\n",
              "      fill: #FFFFFF;\n",
              "    }\n",
              "  </style>\n",
              "\n",
              "      <script>\n",
              "        const buttonEl =\n",
              "          document.querySelector('#df-a13ba695-1e1b-4839-bb87-8620bfe5964a button.colab-df-convert');\n",
              "        buttonEl.style.display =\n",
              "          google.colab.kernel.accessAllowed ? 'block' : 'none';\n",
              "\n",
              "        async function convertToInteractive(key) {\n",
              "          const element = document.querySelector('#df-a13ba695-1e1b-4839-bb87-8620bfe5964a');\n",
              "          const dataTable =\n",
              "            await google.colab.kernel.invokeFunction('convertToInteractive',\n",
              "                                                     [key], {});\n",
              "          if (!dataTable) return;\n",
              "\n",
              "          const docLinkHtml = 'Like what you see? Visit the ' +\n",
              "            '<a target=\"_blank\" href=https://colab.research.google.com/notebooks/data_table.ipynb>data table notebook</a>'\n",
              "            + ' to learn more about interactive tables.';\n",
              "          element.innerHTML = '';\n",
              "          dataTable['output_type'] = 'display_data';\n",
              "          await google.colab.output.renderOutput(dataTable, element);\n",
              "          const docLink = document.createElement('div');\n",
              "          docLink.innerHTML = docLinkHtml;\n",
              "          element.appendChild(docLink);\n",
              "        }\n",
              "      </script>\n",
              "    </div>\n",
              "  </div>\n",
              "  "
            ]
          },
          "metadata": {},
          "execution_count": 3
        }
      ]
    },
    {
      "cell_type": "code",
      "source": [
        "data.columns"
      ],
      "metadata": {
        "colab": {
          "base_uri": "https://localhost:8080/"
        },
        "id": "hYWgGDvS4j7V",
        "outputId": "921ea1f8-3468-4369-9277-f3f3a11fa1eb"
      },
      "execution_count": null,
      "outputs": [
        {
          "output_type": "execute_result",
          "data": {
            "text/plain": [
              "Index(['matricula', 'organizacion', 'categoria', 'est_matricula',\n",
              "       'razon_social', 'fec_matricula', 'fec_renovacion', 'ult_ano_ren',\n",
              "       'fec_cancelacion', 'fec_constitucion', 'dir_comercial', 'mun_comercial',\n",
              "       'ciiu_1', 'ciiu_2', 'ciiu_3', 'actividad', 'ing_tam_empresarial',\n",
              "       'tam_empresa', 'personal', 'activo_total', 'grupo_niif', 'ano_datos',\n",
              "       'fecha_datos', 'fec_pag_ren_2018', 'fec_pag_ren_2019',\n",
              "       'fec_pag_ren_2020', 'fec_pag_ren_2021', 'fec_pag_ren_2022', 'acti_2018',\n",
              "       'acti_2019', 'acti_2020', 'acti_2021', 'acti_2022', 'mot_can',\n",
              "       'ciiu_4'],\n",
              "      dtype='object')"
            ]
          },
          "metadata": {},
          "execution_count": 4
        }
      ]
    },
    {
      "cell_type": "code",
      "source": [
        "data.info()"
      ],
      "metadata": {
        "colab": {
          "base_uri": "https://localhost:8080/"
        },
        "id": "Yvm0arQL4s4c",
        "outputId": "371ce3c3-1d49-4e25-dc83-85c771d0fefc"
      },
      "execution_count": null,
      "outputs": [
        {
          "output_type": "stream",
          "name": "stdout",
          "text": [
            "<class 'pandas.core.frame.DataFrame'>\n",
            "RangeIndex: 1000 entries, 0 to 999\n",
            "Data columns (total 35 columns):\n",
            " #   Column               Non-Null Count  Dtype \n",
            "---  ------               --------------  ----- \n",
            " 0   matricula            1000 non-null   int64 \n",
            " 1   organizacion         1000 non-null   int64 \n",
            " 2   categoria            1000 non-null   object\n",
            " 3   est_matricula        1000 non-null   object\n",
            " 4   razon_social         1000 non-null   object\n",
            " 5   fec_matricula        1000 non-null   int64 \n",
            " 6   fec_renovacion       1000 non-null   int64 \n",
            " 7   ult_ano_ren          1000 non-null   int64 \n",
            " 8   fec_cancelacion      1000 non-null   object\n",
            " 9   fec_constitucion     1000 non-null   object\n",
            " 10  dir_comercial        1000 non-null   object\n",
            " 11  mun_comercial        1000 non-null   object\n",
            " 12  ciiu_1               1000 non-null   object\n",
            " 13  ciiu_2               1000 non-null   object\n",
            " 14  ciiu_3               1000 non-null   object\n",
            " 15  actividad            1000 non-null   object\n",
            " 16  ing_tam_empresarial  1000 non-null   object\n",
            " 17  tam_empresa          1000 non-null   object\n",
            " 18  personal             1000 non-null   int64 \n",
            " 19  activo_total         1000 non-null   int64 \n",
            " 20  grupo_niif           1000 non-null   object\n",
            " 21  ano_datos            1000 non-null   int64 \n",
            " 22  fecha_datos          1000 non-null   int64 \n",
            " 23  fec_pag_ren_2018     1000 non-null   object\n",
            " 24  fec_pag_ren_2019     1000 non-null   object\n",
            " 25  fec_pag_ren_2020     1000 non-null   object\n",
            " 26  fec_pag_ren_2021     1000 non-null   object\n",
            " 27  fec_pag_ren_2022     1000 non-null   object\n",
            " 28  acti_2018            1000 non-null   object\n",
            " 29  acti_2019            1000 non-null   object\n",
            " 30  acti_2020            1000 non-null   object\n",
            " 31  acti_2021            1000 non-null   object\n",
            " 32  acti_2022            1000 non-null   object\n",
            " 33  mot_can              1000 non-null   object\n",
            " 34  ciiu_4               999 non-null    object\n",
            "dtypes: int64(9), object(26)\n",
            "memory usage: 273.6+ KB\n"
          ]
        }
      ]
    },
    {
      "cell_type": "code",
      "source": [
        "data.isnull().sum()"
      ],
      "metadata": {
        "colab": {
          "base_uri": "https://localhost:8080/"
        },
        "id": "x_nn14Q-4ztB",
        "outputId": "4cdb2d82-b373-4dac-f343-62530cb29bfc"
      },
      "execution_count": null,
      "outputs": [
        {
          "output_type": "execute_result",
          "data": {
            "text/plain": [
              "matricula              0\n",
              "organizacion           0\n",
              "categoria              0\n",
              "est_matricula          0\n",
              "razon_social           0\n",
              "fec_matricula          0\n",
              "fec_renovacion         0\n",
              "ult_ano_ren            0\n",
              "fec_cancelacion        0\n",
              "fec_constitucion       0\n",
              "dir_comercial          0\n",
              "mun_comercial          0\n",
              "ciiu_1                 0\n",
              "ciiu_2                 0\n",
              "ciiu_3                 0\n",
              "actividad              0\n",
              "ing_tam_empresarial    0\n",
              "tam_empresa            0\n",
              "personal               0\n",
              "activo_total           0\n",
              "grupo_niif             0\n",
              "ano_datos              0\n",
              "fecha_datos            0\n",
              "fec_pag_ren_2018       0\n",
              "fec_pag_ren_2019       0\n",
              "fec_pag_ren_2020       0\n",
              "fec_pag_ren_2021       0\n",
              "fec_pag_ren_2022       0\n",
              "acti_2018              0\n",
              "acti_2019              0\n",
              "acti_2020              0\n",
              "acti_2021              0\n",
              "acti_2022              0\n",
              "mot_can                0\n",
              "ciiu_4                 1\n",
              "dtype: int64"
            ]
          },
          "metadata": {},
          "execution_count": 6
        }
      ]
    },
    {
      "cell_type": "code",
      "source": [
        "razon = data.groupby('razon_social')['matricula'].count()\n"
      ],
      "metadata": {
        "id": "4cUiqSII5UV6"
      },
      "execution_count": null,
      "outputs": []
    },
    {
      "cell_type": "code",
      "source": [
        "razon"
      ],
      "metadata": {
        "colab": {
          "base_uri": "https://localhost:8080/"
        },
        "id": "rBsLr55b7rtY",
        "outputId": "f3daefe0-d5e8-459f-a245-3fafb6321361"
      },
      "execution_count": null,
      "outputs": [
        {
          "output_type": "execute_result",
          "data": {
            "text/plain": [
              "razon_social\n",
              "2 MOLINAS S.A.S                                            1\n",
              "A.P. SUMINISTROS Y CONSTRUCCIONES S.A.S. EN LIQUIDACION    1\n",
              "ACEVEDO AGUDELO IRMAR ARLEY                                1\n",
              "ACEVEDO ECHAVARRIA HEDILBERTO                              1\n",
              "ACEVEDO GONZALEZ BERNEY DARIO                              1\n",
              "                                                          ..\n",
              "ZEA CARDENAS ROBEIRO ALONSO                                1\n",
              "ZULETA ALVAREZ FLAVIO ISRAEL                               1\n",
              "ZULETA CANDAMIL FLAVIO AUGUSTO                             1\n",
              "ZULETA PATIÑO LUIS FELIPE                                  1\n",
              "ZULUAGA MARIA ELENA JARAMILLO DE                           1\n",
              "Name: matricula, Length: 999, dtype: int64"
            ]
          },
          "metadata": {},
          "execution_count": 9
        }
      ]
    },
    {
      "cell_type": "code",
      "source": [
        "anos= data.groupby('ano_datos')['matricula'].count()"
      ],
      "metadata": {
        "id": "AhONMM2h7tEw"
      },
      "execution_count": null,
      "outputs": []
    },
    {
      "cell_type": "code",
      "source": [
        "anos"
      ],
      "metadata": {
        "colab": {
          "base_uri": "https://localhost:8080/"
        },
        "id": "uTp6mu8F8I1q",
        "outputId": "836ed12d-b182-4b11-f383-91d0490d32b3"
      },
      "execution_count": null,
      "outputs": [
        {
          "output_type": "execute_result",
          "data": {
            "text/plain": [
              "ano_datos\n",
              "1979      1\n",
              "1980      1\n",
              "1986      2\n",
              "1988      2\n",
              "1989      3\n",
              "1990      3\n",
              "1991      4\n",
              "1992      2\n",
              "1995      1\n",
              "1996      3\n",
              "1997      3\n",
              "1998      5\n",
              "2000      6\n",
              "2001      5\n",
              "2002      9\n",
              "2003      8\n",
              "2004      7\n",
              "2005     14\n",
              "2006     11\n",
              "2007      9\n",
              "2008      6\n",
              "2009      7\n",
              "2010     19\n",
              "2011     24\n",
              "2012     23\n",
              "2013     63\n",
              "2014     63\n",
              "2015     77\n",
              "2016     73\n",
              "2017    123\n",
              "2018    395\n",
              "2019     15\n",
              "2020      3\n",
              "2021      2\n",
              "2022      8\n",
              "Name: matricula, dtype: int64"
            ]
          },
          "metadata": {},
          "execution_count": 11
        }
      ]
    },
    {
      "cell_type": "code",
      "source": [
        "figure = px.line(anos, x=anos.index, y=anos.values, title='Actividad economica por años')\n",
        "figure.show()"
      ],
      "metadata": {
        "colab": {
          "base_uri": "https://localhost:8080/",
          "height": 542
        },
        "id": "eyJPZL-j8KGO",
        "outputId": "06c2e915-86ea-4341-f524-e4a7d7b750ec"
      },
      "execution_count": null,
      "outputs": [
        {
          "output_type": "display_data",
          "data": {
            "text/html": [
              "<html>\n",
              "<head><meta charset=\"utf-8\" /></head>\n",
              "<body>\n",
              "    <div>            <script src=\"https://cdnjs.cloudflare.com/ajax/libs/mathjax/2.7.5/MathJax.js?config=TeX-AMS-MML_SVG\"></script><script type=\"text/javascript\">if (window.MathJax) {MathJax.Hub.Config({SVG: {font: \"STIX-Web\"}});}</script>                <script type=\"text/javascript\">window.PlotlyConfig = {MathJaxConfig: 'local'};</script>\n",
              "        <script src=\"https://cdn.plot.ly/plotly-2.8.3.min.js\"></script>                <div id=\"3fbd2456-80ec-427f-be38-ecbc8b313cbf\" class=\"plotly-graph-div\" style=\"height:525px; width:100%;\"></div>            <script type=\"text/javascript\">                                    window.PLOTLYENV=window.PLOTLYENV || {};                                    if (document.getElementById(\"3fbd2456-80ec-427f-be38-ecbc8b313cbf\")) {                    Plotly.newPlot(                        \"3fbd2456-80ec-427f-be38-ecbc8b313cbf\",                        [{\"hovertemplate\":\"ano_datos=%{x}<br>y=%{y}<extra></extra>\",\"legendgroup\":\"\",\"line\":{\"color\":\"#636efa\",\"dash\":\"solid\"},\"marker\":{\"symbol\":\"circle\"},\"mode\":\"lines\",\"name\":\"\",\"orientation\":\"v\",\"showlegend\":false,\"x\":[1979,1980,1986,1988,1989,1990,1991,1992,1995,1996,1997,1998,2000,2001,2002,2003,2004,2005,2006,2007,2008,2009,2010,2011,2012,2013,2014,2015,2016,2017,2018,2019,2020,2021,2022],\"xaxis\":\"x\",\"y\":[1,1,2,2,3,3,4,2,1,3,3,5,6,5,9,8,7,14,11,9,6,7,19,24,23,63,63,77,73,123,395,15,3,2,8],\"yaxis\":\"y\",\"type\":\"scatter\"}],                        {\"template\":{\"data\":{\"bar\":[{\"error_x\":{\"color\":\"#2a3f5f\"},\"error_y\":{\"color\":\"#2a3f5f\"},\"marker\":{\"line\":{\"color\":\"#E5ECF6\",\"width\":0.5},\"pattern\":{\"fillmode\":\"overlay\",\"size\":10,\"solidity\":0.2}},\"type\":\"bar\"}],\"barpolar\":[{\"marker\":{\"line\":{\"color\":\"#E5ECF6\",\"width\":0.5},\"pattern\":{\"fillmode\":\"overlay\",\"size\":10,\"solidity\":0.2}},\"type\":\"barpolar\"}],\"carpet\":[{\"aaxis\":{\"endlinecolor\":\"#2a3f5f\",\"gridcolor\":\"white\",\"linecolor\":\"white\",\"minorgridcolor\":\"white\",\"startlinecolor\":\"#2a3f5f\"},\"baxis\":{\"endlinecolor\":\"#2a3f5f\",\"gridcolor\":\"white\",\"linecolor\":\"white\",\"minorgridcolor\":\"white\",\"startlinecolor\":\"#2a3f5f\"},\"type\":\"carpet\"}],\"choropleth\":[{\"colorbar\":{\"outlinewidth\":0,\"ticks\":\"\"},\"type\":\"choropleth\"}],\"contour\":[{\"colorbar\":{\"outlinewidth\":0,\"ticks\":\"\"},\"colorscale\":[[0.0,\"#0d0887\"],[0.1111111111111111,\"#46039f\"],[0.2222222222222222,\"#7201a8\"],[0.3333333333333333,\"#9c179e\"],[0.4444444444444444,\"#bd3786\"],[0.5555555555555556,\"#d8576b\"],[0.6666666666666666,\"#ed7953\"],[0.7777777777777778,\"#fb9f3a\"],[0.8888888888888888,\"#fdca26\"],[1.0,\"#f0f921\"]],\"type\":\"contour\"}],\"contourcarpet\":[{\"colorbar\":{\"outlinewidth\":0,\"ticks\":\"\"},\"type\":\"contourcarpet\"}],\"heatmap\":[{\"colorbar\":{\"outlinewidth\":0,\"ticks\":\"\"},\"colorscale\":[[0.0,\"#0d0887\"],[0.1111111111111111,\"#46039f\"],[0.2222222222222222,\"#7201a8\"],[0.3333333333333333,\"#9c179e\"],[0.4444444444444444,\"#bd3786\"],[0.5555555555555556,\"#d8576b\"],[0.6666666666666666,\"#ed7953\"],[0.7777777777777778,\"#fb9f3a\"],[0.8888888888888888,\"#fdca26\"],[1.0,\"#f0f921\"]],\"type\":\"heatmap\"}],\"heatmapgl\":[{\"colorbar\":{\"outlinewidth\":0,\"ticks\":\"\"},\"colorscale\":[[0.0,\"#0d0887\"],[0.1111111111111111,\"#46039f\"],[0.2222222222222222,\"#7201a8\"],[0.3333333333333333,\"#9c179e\"],[0.4444444444444444,\"#bd3786\"],[0.5555555555555556,\"#d8576b\"],[0.6666666666666666,\"#ed7953\"],[0.7777777777777778,\"#fb9f3a\"],[0.8888888888888888,\"#fdca26\"],[1.0,\"#f0f921\"]],\"type\":\"heatmapgl\"}],\"histogram\":[{\"marker\":{\"pattern\":{\"fillmode\":\"overlay\",\"size\":10,\"solidity\":0.2}},\"type\":\"histogram\"}],\"histogram2d\":[{\"colorbar\":{\"outlinewidth\":0,\"ticks\":\"\"},\"colorscale\":[[0.0,\"#0d0887\"],[0.1111111111111111,\"#46039f\"],[0.2222222222222222,\"#7201a8\"],[0.3333333333333333,\"#9c179e\"],[0.4444444444444444,\"#bd3786\"],[0.5555555555555556,\"#d8576b\"],[0.6666666666666666,\"#ed7953\"],[0.7777777777777778,\"#fb9f3a\"],[0.8888888888888888,\"#fdca26\"],[1.0,\"#f0f921\"]],\"type\":\"histogram2d\"}],\"histogram2dcontour\":[{\"colorbar\":{\"outlinewidth\":0,\"ticks\":\"\"},\"colorscale\":[[0.0,\"#0d0887\"],[0.1111111111111111,\"#46039f\"],[0.2222222222222222,\"#7201a8\"],[0.3333333333333333,\"#9c179e\"],[0.4444444444444444,\"#bd3786\"],[0.5555555555555556,\"#d8576b\"],[0.6666666666666666,\"#ed7953\"],[0.7777777777777778,\"#fb9f3a\"],[0.8888888888888888,\"#fdca26\"],[1.0,\"#f0f921\"]],\"type\":\"histogram2dcontour\"}],\"mesh3d\":[{\"colorbar\":{\"outlinewidth\":0,\"ticks\":\"\"},\"type\":\"mesh3d\"}],\"parcoords\":[{\"line\":{\"colorbar\":{\"outlinewidth\":0,\"ticks\":\"\"}},\"type\":\"parcoords\"}],\"pie\":[{\"automargin\":true,\"type\":\"pie\"}],\"scatter\":[{\"marker\":{\"colorbar\":{\"outlinewidth\":0,\"ticks\":\"\"}},\"type\":\"scatter\"}],\"scatter3d\":[{\"line\":{\"colorbar\":{\"outlinewidth\":0,\"ticks\":\"\"}},\"marker\":{\"colorbar\":{\"outlinewidth\":0,\"ticks\":\"\"}},\"type\":\"scatter3d\"}],\"scattercarpet\":[{\"marker\":{\"colorbar\":{\"outlinewidth\":0,\"ticks\":\"\"}},\"type\":\"scattercarpet\"}],\"scattergeo\":[{\"marker\":{\"colorbar\":{\"outlinewidth\":0,\"ticks\":\"\"}},\"type\":\"scattergeo\"}],\"scattergl\":[{\"marker\":{\"colorbar\":{\"outlinewidth\":0,\"ticks\":\"\"}},\"type\":\"scattergl\"}],\"scattermapbox\":[{\"marker\":{\"colorbar\":{\"outlinewidth\":0,\"ticks\":\"\"}},\"type\":\"scattermapbox\"}],\"scatterpolar\":[{\"marker\":{\"colorbar\":{\"outlinewidth\":0,\"ticks\":\"\"}},\"type\":\"scatterpolar\"}],\"scatterpolargl\":[{\"marker\":{\"colorbar\":{\"outlinewidth\":0,\"ticks\":\"\"}},\"type\":\"scatterpolargl\"}],\"scatterternary\":[{\"marker\":{\"colorbar\":{\"outlinewidth\":0,\"ticks\":\"\"}},\"type\":\"scatterternary\"}],\"surface\":[{\"colorbar\":{\"outlinewidth\":0,\"ticks\":\"\"},\"colorscale\":[[0.0,\"#0d0887\"],[0.1111111111111111,\"#46039f\"],[0.2222222222222222,\"#7201a8\"],[0.3333333333333333,\"#9c179e\"],[0.4444444444444444,\"#bd3786\"],[0.5555555555555556,\"#d8576b\"],[0.6666666666666666,\"#ed7953\"],[0.7777777777777778,\"#fb9f3a\"],[0.8888888888888888,\"#fdca26\"],[1.0,\"#f0f921\"]],\"type\":\"surface\"}],\"table\":[{\"cells\":{\"fill\":{\"color\":\"#EBF0F8\"},\"line\":{\"color\":\"white\"}},\"header\":{\"fill\":{\"color\":\"#C8D4E3\"},\"line\":{\"color\":\"white\"}},\"type\":\"table\"}]},\"layout\":{\"annotationdefaults\":{\"arrowcolor\":\"#2a3f5f\",\"arrowhead\":0,\"arrowwidth\":1},\"autotypenumbers\":\"strict\",\"coloraxis\":{\"colorbar\":{\"outlinewidth\":0,\"ticks\":\"\"}},\"colorscale\":{\"diverging\":[[0,\"#8e0152\"],[0.1,\"#c51b7d\"],[0.2,\"#de77ae\"],[0.3,\"#f1b6da\"],[0.4,\"#fde0ef\"],[0.5,\"#f7f7f7\"],[0.6,\"#e6f5d0\"],[0.7,\"#b8e186\"],[0.8,\"#7fbc41\"],[0.9,\"#4d9221\"],[1,\"#276419\"]],\"sequential\":[[0.0,\"#0d0887\"],[0.1111111111111111,\"#46039f\"],[0.2222222222222222,\"#7201a8\"],[0.3333333333333333,\"#9c179e\"],[0.4444444444444444,\"#bd3786\"],[0.5555555555555556,\"#d8576b\"],[0.6666666666666666,\"#ed7953\"],[0.7777777777777778,\"#fb9f3a\"],[0.8888888888888888,\"#fdca26\"],[1.0,\"#f0f921\"]],\"sequentialminus\":[[0.0,\"#0d0887\"],[0.1111111111111111,\"#46039f\"],[0.2222222222222222,\"#7201a8\"],[0.3333333333333333,\"#9c179e\"],[0.4444444444444444,\"#bd3786\"],[0.5555555555555556,\"#d8576b\"],[0.6666666666666666,\"#ed7953\"],[0.7777777777777778,\"#fb9f3a\"],[0.8888888888888888,\"#fdca26\"],[1.0,\"#f0f921\"]]},\"colorway\":[\"#636efa\",\"#EF553B\",\"#00cc96\",\"#ab63fa\",\"#FFA15A\",\"#19d3f3\",\"#FF6692\",\"#B6E880\",\"#FF97FF\",\"#FECB52\"],\"font\":{\"color\":\"#2a3f5f\"},\"geo\":{\"bgcolor\":\"white\",\"lakecolor\":\"white\",\"landcolor\":\"#E5ECF6\",\"showlakes\":true,\"showland\":true,\"subunitcolor\":\"white\"},\"hoverlabel\":{\"align\":\"left\"},\"hovermode\":\"closest\",\"mapbox\":{\"style\":\"light\"},\"paper_bgcolor\":\"white\",\"plot_bgcolor\":\"#E5ECF6\",\"polar\":{\"angularaxis\":{\"gridcolor\":\"white\",\"linecolor\":\"white\",\"ticks\":\"\"},\"bgcolor\":\"#E5ECF6\",\"radialaxis\":{\"gridcolor\":\"white\",\"linecolor\":\"white\",\"ticks\":\"\"}},\"scene\":{\"xaxis\":{\"backgroundcolor\":\"#E5ECF6\",\"gridcolor\":\"white\",\"gridwidth\":2,\"linecolor\":\"white\",\"showbackground\":true,\"ticks\":\"\",\"zerolinecolor\":\"white\"},\"yaxis\":{\"backgroundcolor\":\"#E5ECF6\",\"gridcolor\":\"white\",\"gridwidth\":2,\"linecolor\":\"white\",\"showbackground\":true,\"ticks\":\"\",\"zerolinecolor\":\"white\"},\"zaxis\":{\"backgroundcolor\":\"#E5ECF6\",\"gridcolor\":\"white\",\"gridwidth\":2,\"linecolor\":\"white\",\"showbackground\":true,\"ticks\":\"\",\"zerolinecolor\":\"white\"}},\"shapedefaults\":{\"line\":{\"color\":\"#2a3f5f\"}},\"ternary\":{\"aaxis\":{\"gridcolor\":\"white\",\"linecolor\":\"white\",\"ticks\":\"\"},\"baxis\":{\"gridcolor\":\"white\",\"linecolor\":\"white\",\"ticks\":\"\"},\"bgcolor\":\"#E5ECF6\",\"caxis\":{\"gridcolor\":\"white\",\"linecolor\":\"white\",\"ticks\":\"\"}},\"title\":{\"x\":0.05},\"xaxis\":{\"automargin\":true,\"gridcolor\":\"white\",\"linecolor\":\"white\",\"ticks\":\"\",\"title\":{\"standoff\":15},\"zerolinecolor\":\"white\",\"zerolinewidth\":2},\"yaxis\":{\"automargin\":true,\"gridcolor\":\"white\",\"linecolor\":\"white\",\"ticks\":\"\",\"title\":{\"standoff\":15},\"zerolinecolor\":\"white\",\"zerolinewidth\":2}}},\"xaxis\":{\"anchor\":\"y\",\"domain\":[0.0,1.0],\"title\":{\"text\":\"ano_datos\"}},\"yaxis\":{\"anchor\":\"x\",\"domain\":[0.0,1.0],\"title\":{\"text\":\"y\"}},\"legend\":{\"tracegroupgap\":0},\"title\":{\"text\":\"Actividad economica por a\\u00f1os\"}},                        {\"responsive\": true}                    ).then(function(){\n",
              "                            \n",
              "var gd = document.getElementById('3fbd2456-80ec-427f-be38-ecbc8b313cbf');\n",
              "var x = new MutationObserver(function (mutations, observer) {{\n",
              "        var display = window.getComputedStyle(gd).display;\n",
              "        if (!display || display === 'none') {{\n",
              "            console.log([gd, 'removed!']);\n",
              "            Plotly.purge(gd);\n",
              "            observer.disconnect();\n",
              "        }}\n",
              "}});\n",
              "\n",
              "// Listen for the removal of the full notebook cells\n",
              "var notebookContainer = gd.closest('#notebook-container');\n",
              "if (notebookContainer) {{\n",
              "    x.observe(notebookContainer, {childList: true});\n",
              "}}\n",
              "\n",
              "// Listen for the clearing of the current output cell\n",
              "var outputEl = gd.closest('.output');\n",
              "if (outputEl) {{\n",
              "    x.observe(outputEl, {childList: true});\n",
              "}}\n",
              "\n",
              "                        })                };                            </script>        </div>\n",
              "</body>\n",
              "</html>"
            ]
          },
          "metadata": {}
        }
      ]
    },
    {
      "cell_type": "code",
      "source": [
        "motivo = data.groupby(data['mot_can'])['matricula'].count()"
      ],
      "metadata": {
        "id": "84vdeRfG954I"
      },
      "execution_count": null,
      "outputs": []
    },
    {
      "cell_type": "code",
      "source": [
        "plt.figure(figsize=(15,10))\n",
        "squarify.plot(sizes=motivo.values, label=motivo.index)\n",
        "plt.axis('off')\n",
        "plt.title('Motivos de Cambios', fontsize=15)"
      ],
      "metadata": {
        "colab": {
          "base_uri": "https://localhost:8080/",
          "height": 609
        },
        "id": "VysoXHNZ9_Gf",
        "outputId": "c312c7f7-db38-40d6-c18c-f2b9ebc9bab1"
      },
      "execution_count": null,
      "outputs": [
        {
          "output_type": "execute_result",
          "data": {
            "text/plain": [
              "Text(0.5, 1.0, 'Motivos de Cambios')"
            ]
          },
          "metadata": {},
          "execution_count": 22
        },
        {
          "output_type": "display_data",
          "data": {
            "text/plain": [
              "<Figure size 1080x720 with 1 Axes>"
            ],
            "image/png": "[encoded data removed]"
          },
          "metadata": {}
        }
      ]
    }
  ]
}