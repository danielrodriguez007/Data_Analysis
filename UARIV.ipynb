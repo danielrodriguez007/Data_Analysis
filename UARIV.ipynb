{
  "nbformat": 4,
  "nbformat_minor": 0,
  "metadata": {
    "colab": {
      "provenance": [],
      "authorship_tag": "ABX9TyPI8o2HEsBjxp/hM9yFA8Yk",
      "include_colab_link": true
    },
    "kernelspec": {
      "name": "python3",
      "display_name": "Python 3"
    },
    "language_info": {
      "name": "python"
    }
  },
  "cells": [
    {
      "cell_type": "markdown",
      "metadata": {
        "id": "view-in-github",
        "colab_type": "text"
      },
      "source": [
        "<a href=\"https://colab.research.google.com/github/danielrodriguez007/Data_Analysis/blob/main/UARIV.ipynb\" target=\"_parent\"><img src=\"https://colab.research.google.com/assets/colab-badge.svg\" alt=\"Open In Colab\"/></a>"
      ]
    },
    {
      "cell_type": "code",
      "execution_count": 1,
      "metadata": {
        "id": "r1vbWAfbbJda"
      },
      "outputs": [],
      "source": [
        "import numpy as np\n",
        "import pandas as pd\n",
        "import matplotlib.pyplot as plt \n",
        "plt.style.use('fivethirtyeight')"
      ]
    },
    {
      "cell_type": "code",
      "source": [
        "data = pd.read_json('https://www.datos.gov.co/resource/tr34-nyqp.json')\n",
        "data.head()"
      ],
      "metadata": {
        "colab": {
          "base_uri": "https://localhost:8080/",
          "height": 444
        },
        "id": "KQGFlePgbe4h",
        "outputId": "b5e715f1-010c-4a73-a8c9-b414d0b29dd3"
      },
      "execution_count": 19,
      "outputs": [
        {
          "output_type": "execute_result",
          "data": {
            "text/plain": [
              "   no nombre_o_titulo_de_la idioma medio_de_conservaci_n_y_o formato  \\\n",
              "0   1              Servidor    N/A               Electrónico    Otro   \n",
              "1   2              Servidor    N/A               Electrónico    Otro   \n",
              "2   3              Servidor    N/A               Electrónico    Otro   \n",
              "3   4              Servidor    N/A               Electrónico    Otro   \n",
              "4   5              Servidor    N/A               Electrónico    Otro   \n",
              "\n",
              "  lugar_de_consulta fecha_de_generaci_n_de_la frecuencia_de_actualizaci  \\\n",
              "0       \\\\IPprivada                      2018       Según requerimiento   \n",
              "1       \\\\IPprivada                      2018       Según requerimiento   \n",
              "2       \\\\IPprivada                      2018       Según requerimiento   \n",
              "3       \\\\IPprivada                      2018       Según requerimiento   \n",
              "4       \\\\IPprivada                      2018       Según requerimiento   \n",
              "\n",
              "                          responsable_de_la_producci  \\\n",
              "0  Gestión de la información/Oficina de Tecnologí...   \n",
              "1  Gestión de la información/Oficina de Tecnologí...   \n",
              "2  Gestión de la información/Oficina de Tecnologí...   \n",
              "3  Gestión de la información/Oficina de Tecnologí...   \n",
              "4  Gestión de la información/Oficina de Tecnologí...   \n",
              "\n",
              "   responsable_de_la_informaci  \n",
              "0  Infraestructura tecnológica  \n",
              "1  Infraestructura tecnológica  \n",
              "2  Infraestructura tecnológica  \n",
              "3  Infraestructura tecnológica  \n",
              "4  Infraestructura tecnológica  "
            ],
            "text/html": [
              "\n",
              "  <div id=\"df-ae9d2490-42f6-4e37-86eb-a75d92a2ad0f\">\n",
              "    <div class=\"colab-df-container\">\n",
              "      <div>\n",
              "<style scoped>\n",
              "    .dataframe tbody tr th:only-of-type {\n",
              "        vertical-align: middle;\n",
              "    }\n",
              "\n",
              "    .dataframe tbody tr th {\n",
              "        vertical-align: top;\n",
              "    }\n",
              "\n",
              "    .dataframe thead th {\n",
              "        text-align: right;\n",
              "    }\n",
              "</style>\n",
              "<table border=\"1\" class=\"dataframe\">\n",
              "  <thead>\n",
              "    <tr style=\"text-align: right;\">\n",
              "      <th></th>\n",
              "      <th>no</th>\n",
              "      <th>nombre_o_titulo_de_la</th>\n",
              "      <th>idioma</th>\n",
              "      <th>medio_de_conservaci_n_y_o</th>\n",
              "      <th>formato</th>\n",
              "      <th>lugar_de_consulta</th>\n",
              "      <th>fecha_de_generaci_n_de_la</th>\n",
              "      <th>frecuencia_de_actualizaci</th>\n",
              "      <th>responsable_de_la_producci</th>\n",
              "      <th>responsable_de_la_informaci</th>\n",
              "    </tr>\n",
              "  </thead>\n",
              "  <tbody>\n",
              "    <tr>\n",
              "      <th>0</th>\n",
              "      <td>1</td>\n",
              "      <td>Servidor</td>\n",
              "      <td>N/A</td>\n",
              "      <td>Electrónico</td>\n",
              "      <td>Otro</td>\n",
              "      <td>\\\\IPprivada</td>\n",
              "      <td>2018</td>\n",
              "      <td>Según requerimiento</td>\n",
              "      <td>Gestión de la información/Oficina de Tecnologí...</td>\n",
              "      <td>Infraestructura tecnológica</td>\n",
              "    </tr>\n",
              "    <tr>\n",
              "      <th>1</th>\n",
              "      <td>2</td>\n",
              "      <td>Servidor</td>\n",
              "      <td>N/A</td>\n",
              "      <td>Electrónico</td>\n",
              "      <td>Otro</td>\n",
              "      <td>\\\\IPprivada</td>\n",
              "      <td>2018</td>\n",
              "      <td>Según requerimiento</td>\n",
              "      <td>Gestión de la información/Oficina de Tecnologí...</td>\n",
              "      <td>Infraestructura tecnológica</td>\n",
              "    </tr>\n",
              "    <tr>\n",
              "      <th>2</th>\n",
              "      <td>3</td>\n",
              "      <td>Servidor</td>\n",
              "      <td>N/A</td>\n",
              "      <td>Electrónico</td>\n",
              "      <td>Otro</td>\n",
              "      <td>\\\\IPprivada</td>\n",
              "      <td>2018</td>\n",
              "      <td>Según requerimiento</td>\n",
              "      <td>Gestión de la información/Oficina de Tecnologí...</td>\n",
              "      <td>Infraestructura tecnológica</td>\n",
              "    </tr>\n",
              "    <tr>\n",
              "      <th>3</th>\n",
              "      <td>4</td>\n",
              "      <td>Servidor</td>\n",
              "      <td>N/A</td>\n",
              "      <td>Electrónico</td>\n",
              "      <td>Otro</td>\n",
              "      <td>\\\\IPprivada</td>\n",
              "      <td>2018</td>\n",
              "      <td>Según requerimiento</td>\n",
              "      <td>Gestión de la información/Oficina de Tecnologí...</td>\n",
              "      <td>Infraestructura tecnológica</td>\n",
              "    </tr>\n",
              "    <tr>\n",
              "      <th>4</th>\n",
              "      <td>5</td>\n",
              "      <td>Servidor</td>\n",
              "      <td>N/A</td>\n",
              "      <td>Electrónico</td>\n",
              "      <td>Otro</td>\n",
              "      <td>\\\\IPprivada</td>\n",
              "      <td>2018</td>\n",
              "      <td>Según requerimiento</td>\n",
              "      <td>Gestión de la información/Oficina de Tecnologí...</td>\n",
              "      <td>Infraestructura tecnológica</td>\n",
              "    </tr>\n",
              "  </tbody>\n",
              "</table>\n",
              "</div>\n",
              "      <button class=\"colab-df-convert\" onclick=\"convertToInteractive('df-ae9d2490-42f6-4e37-86eb-a75d92a2ad0f')\"\n",
              "              title=\"Convert this dataframe to an interactive table.\"\n",
              "              style=\"display:none;\">\n",
              "        \n",
              "  <svg xmlns=\"http://www.w3.org/2000/svg\" height=\"24px\"viewBox=\"0 0 24 24\"\n",
              "       width=\"24px\">\n",
              "    <path d=\"M0 0h24v24H0V0z\" fill=\"none\"/>\n",
              "    <path d=\"M18.56 5.44l.94 2.06.94-2.06 2.06-.94-2.06-.94-.94-2.06-.94 2.06-2.06.94zm-11 1L8.5 8.5l.94-2.06 2.06-.94-2.06-.94L8.5 2.5l-.94 2.06-2.06.94zm10 10l.94 2.06.94-2.06 2.06-.94-2.06-.94-.94-2.06-.94 2.06-2.06.94z\"/><path d=\"M17.41 7.96l-1.37-1.37c-.4-.4-.92-.59-1.43-.59-.52 0-1.04.2-1.43.59L10.3 9.45l-7.72 7.72c-.78.78-.78 2.05 0 2.83L4 21.41c.39.39.9.59 1.41.59.51 0 1.02-.2 1.41-.59l7.78-7.78 2.81-2.81c.8-.78.8-2.07 0-2.86zM5.41 20L4 18.59l7.72-7.72 1.47 1.35L5.41 20z\"/>\n",
              "  </svg>\n",
              "      </button>\n",
              "      \n",
              "  <style>\n",
              "    .colab-df-container {\n",
              "      display:flex;\n",
              "      flex-wrap:wrap;\n",
              "      gap: 12px;\n",
              "    }\n",
              "\n",
              "    .colab-df-convert {\n",
              "      background-color: #E8F0FE;\n",
              "      border: none;\n",
              "      border-radius: 50%;\n",
              "      cursor: pointer;\n",
              "      display: none;\n",
              "      fill: #1967D2;\n",
              "      height: 32px;\n",
              "      padding: 0 0 0 0;\n",
              "      width: 32px;\n",
              "    }\n",
              "\n",
              "    .colab-df-convert:hover {\n",
              "      background-color: #E2EBFA;\n",
              "      box-shadow: 0px 1px 2px rgba(60, 64, 67, 0.3), 0px 1px 3px 1px rgba(60, 64, 67, 0.15);\n",
              "      fill: #174EA6;\n",
              "    }\n",
              "\n",
              "    [theme=dark] .colab-df-convert {\n",
              "      background-color: #3B4455;\n",
              "      fill: #D2E3FC;\n",
              "    }\n",
              "\n",
              "    [theme=dark] .colab-df-convert:hover {\n",
              "      background-color: #434B5C;\n",
              "      box-shadow: 0px 1px 3px 1px rgba(0, 0, 0, 0.15);\n",
              "      filter: drop-shadow(0px 1px 2px rgba(0, 0, 0, 0.3));\n",
              "      fill: #FFFFFF;\n",
              "    }\n",
              "  </style>\n",
              "\n",
              "      <script>\n",
              "        const buttonEl =\n",
              "          document.querySelector('#df-ae9d2490-42f6-4e37-86eb-a75d92a2ad0f button.colab-df-convert');\n",
              "        buttonEl.style.display =\n",
              "          google.colab.kernel.accessAllowed ? 'block' : 'none';\n",
              "\n",
              "        async function convertToInteractive(key) {\n",
              "          const element = document.querySelector('#df-ae9d2490-42f6-4e37-86eb-a75d92a2ad0f');\n",
              "          const dataTable =\n",
              "            await google.colab.kernel.invokeFunction('convertToInteractive',\n",
              "                                                     [key], {});\n",
              "          if (!dataTable) return;\n",
              "\n",
              "          const docLinkHtml = 'Like what you see? Visit the ' +\n",
              "            '<a target=\"_blank\" href=https://colab.research.google.com/notebooks/data_table.ipynb>data table notebook</a>'\n",
              "            + ' to learn more about interactive tables.';\n",
              "          element.innerHTML = '';\n",
              "          dataTable['output_type'] = 'display_data';\n",
              "          await google.colab.output.renderOutput(dataTable, element);\n",
              "          const docLink = document.createElement('div');\n",
              "          docLink.innerHTML = docLinkHtml;\n",
              "          element.appendChild(docLink);\n",
              "        }\n",
              "      </script>\n",
              "    </div>\n",
              "  </div>\n",
              "  "
            ]
          },
          "metadata": {},
          "execution_count": 19
        }
      ]
    },
    {
      "cell_type": "code",
      "source": [
        "data.info()"
      ],
      "metadata": {
        "colab": {
          "base_uri": "https://localhost:8080/"
        },
        "id": "d9hWYRvnbpXH",
        "outputId": "a6851ee5-9908-4fa7-f213-392155ade948"
      },
      "execution_count": 20,
      "outputs": [
        {
          "output_type": "stream",
          "name": "stdout",
          "text": [
            "<class 'pandas.core.frame.DataFrame'>\n",
            "RangeIndex: 1000 entries, 0 to 999\n",
            "Data columns (total 10 columns):\n",
            " #   Column                       Non-Null Count  Dtype \n",
            "---  ------                       --------------  ----- \n",
            " 0   no                           1000 non-null   int64 \n",
            " 1   nombre_o_titulo_de_la        1000 non-null   object\n",
            " 2   idioma                       1000 non-null   object\n",
            " 3   medio_de_conservaci_n_y_o    1000 non-null   object\n",
            " 4   formato                      1000 non-null   object\n",
            " 5   lugar_de_consulta            1000 non-null   object\n",
            " 6   fecha_de_generaci_n_de_la    1000 non-null   object\n",
            " 7   frecuencia_de_actualizaci    1000 non-null   object\n",
            " 8   responsable_de_la_producci   1000 non-null   object\n",
            " 9   responsable_de_la_informaci  1000 non-null   object\n",
            "dtypes: int64(1), object(9)\n",
            "memory usage: 78.2+ KB\n"
          ]
        }
      ]
    },
    {
      "cell_type": "code",
      "source": [
        "data.isnull().sum()"
      ],
      "metadata": {
        "colab": {
          "base_uri": "https://localhost:8080/"
        },
        "id": "xFr90BPxbzDY",
        "outputId": "a52c67f8-8431-44d2-c37f-77426b4684fc"
      },
      "execution_count": 21,
      "outputs": [
        {
          "output_type": "execute_result",
          "data": {
            "text/plain": [
              "no                             0\n",
              "nombre_o_titulo_de_la          0\n",
              "idioma                         0\n",
              "medio_de_conservaci_n_y_o      0\n",
              "formato                        0\n",
              "lugar_de_consulta              0\n",
              "fecha_de_generaci_n_de_la      0\n",
              "frecuencia_de_actualizaci      0\n",
              "responsable_de_la_producci     0\n",
              "responsable_de_la_informaci    0\n",
              "dtype: int64"
            ]
          },
          "metadata": {},
          "execution_count": 21
        }
      ]
    },
    {
      "cell_type": "code",
      "source": [
        "data['medio_de_conservaci_n_y_o'].unique()"
      ],
      "metadata": {
        "colab": {
          "base_uri": "https://localhost:8080/"
        },
        "id": "snEECj9odYQP",
        "outputId": "641e0177-5a84-40f8-d33e-89611614e73d"
      },
      "execution_count": 23,
      "outputs": [
        {
          "output_type": "execute_result",
          "data": {
            "text/plain": [
              "array(['Electrónico', 'Físico', 'Físico/Electrónico', 'N/A',\n",
              "       'Fisico/Electrónico'], dtype=object)"
            ]
          },
          "metadata": {},
          "execution_count": 23
        }
      ]
    },
    {
      "cell_type": "code",
      "source": [
        "data['idioma'] = data['idioma'].map({'español':'Español', 'Español':'Español', 'N/A':'N/A'})\n",
        "data['medio_de_conservaci_n_y_o'] = data['medio_de_conservaci_n_y_o'].map({'Electrónico':'Electrónico','Físico':'Físico','Físico/Electrónico':'Fisico/Electrónico',\n",
        "                                                                           'N/A':'N/A','Fisico/Electrónico':'Fisico/Electrónico'})"
      ],
      "metadata": {
        "id": "hAeZLD7RcIRA"
      },
      "execution_count": 24,
      "outputs": []
    },
    {
      "cell_type": "code",
      "source": [
        "pivot = pd.pivot_table(data,values = 'no', index = 'fecha_de_generaci_n_de_la', aggfunc='count')\n",
        "pivot"
      ],
      "metadata": {
        "colab": {
          "base_uri": "https://localhost:8080/",
          "height": 526
        },
        "id": "wGbi19lLdUbX",
        "outputId": "e34b5089-ded1-4452-e76d-f3e7ebf013cf"
      },
      "execution_count": 34,
      "outputs": [
        {
          "output_type": "execute_result",
          "data": {
            "text/plain": [
              "                           no\n",
              "fecha_de_generaci_n_de_la    \n",
              "1905-07-13T00:00:00.000     2\n",
              "2009-05-05T00:00:00.000     1\n",
              "2009-12-31T00:00:00.000     3\n",
              "2010-06-02T00:00:00.000     1\n",
              "2011                        1\n",
              "...                        ..\n",
              "2022-05-25T00:00:00.000     1\n",
              "2022-06-01T00:00:00.000     1\n",
              "2022-06-07T00:00:00.000     2\n",
              "2022-06-16T00:00:00.000     1\n",
              "N/A                        82\n",
              "\n",
              "[194 rows x 1 columns]"
            ],
            "text/html": [
              "\n",
              "  <div id=\"df-da096295-f907-4f6a-9a8a-37cfd862c2d4\">\n",
              "    <div class=\"colab-df-container\">\n",
              "      <div>\n",
              "<style scoped>\n",
              "    .dataframe tbody tr th:only-of-type {\n",
              "        vertical-align: middle;\n",
              "    }\n",
              "\n",
              "    .dataframe tbody tr th {\n",
              "        vertical-align: top;\n",
              "    }\n",
              "\n",
              "    .dataframe thead th {\n",
              "        text-align: right;\n",
              "    }\n",
              "</style>\n",
              "<table border=\"1\" class=\"dataframe\">\n",
              "  <thead>\n",
              "    <tr style=\"text-align: right;\">\n",
              "      <th></th>\n",
              "      <th>no</th>\n",
              "    </tr>\n",
              "    <tr>\n",
              "      <th>fecha_de_generaci_n_de_la</th>\n",
              "      <th></th>\n",
              "    </tr>\n",
              "  </thead>\n",
              "  <tbody>\n",
              "    <tr>\n",
              "      <th>1905-07-13T00:00:00.000</th>\n",
              "      <td>2</td>\n",
              "    </tr>\n",
              "    <tr>\n",
              "      <th>2009-05-05T00:00:00.000</th>\n",
              "      <td>1</td>\n",
              "    </tr>\n",
              "    <tr>\n",
              "      <th>2009-12-31T00:00:00.000</th>\n",
              "      <td>3</td>\n",
              "    </tr>\n",
              "    <tr>\n",
              "      <th>2010-06-02T00:00:00.000</th>\n",
              "      <td>1</td>\n",
              "    </tr>\n",
              "    <tr>\n",
              "      <th>2011</th>\n",
              "      <td>1</td>\n",
              "    </tr>\n",
              "    <tr>\n",
              "      <th>...</th>\n",
              "      <td>...</td>\n",
              "    </tr>\n",
              "    <tr>\n",
              "      <th>2022-05-25T00:00:00.000</th>\n",
              "      <td>1</td>\n",
              "    </tr>\n",
              "    <tr>\n",
              "      <th>2022-06-01T00:00:00.000</th>\n",
              "      <td>1</td>\n",
              "    </tr>\n",
              "    <tr>\n",
              "      <th>2022-06-07T00:00:00.000</th>\n",
              "      <td>2</td>\n",
              "    </tr>\n",
              "    <tr>\n",
              "      <th>2022-06-16T00:00:00.000</th>\n",
              "      <td>1</td>\n",
              "    </tr>\n",
              "    <tr>\n",
              "      <th>N/A</th>\n",
              "      <td>82</td>\n",
              "    </tr>\n",
              "  </tbody>\n",
              "</table>\n",
              "<p>194 rows × 1 columns</p>\n",
              "</div>\n",
              "      <button class=\"colab-df-convert\" onclick=\"convertToInteractive('df-da096295-f907-4f6a-9a8a-37cfd862c2d4')\"\n",
              "              title=\"Convert this dataframe to an interactive table.\"\n",
              "              style=\"display:none;\">\n",
              "        \n",
              "  <svg xmlns=\"http://www.w3.org/2000/svg\" height=\"24px\"viewBox=\"0 0 24 24\"\n",
              "       width=\"24px\">\n",
              "    <path d=\"M0 0h24v24H0V0z\" fill=\"none\"/>\n",
              "    <path d=\"M18.56 5.44l.94 2.06.94-2.06 2.06-.94-2.06-.94-.94-2.06-.94 2.06-2.06.94zm-11 1L8.5 8.5l.94-2.06 2.06-.94-2.06-.94L8.5 2.5l-.94 2.06-2.06.94zm10 10l.94 2.06.94-2.06 2.06-.94-2.06-.94-.94-2.06-.94 2.06-2.06.94z\"/><path d=\"M17.41 7.96l-1.37-1.37c-.4-.4-.92-.59-1.43-.59-.52 0-1.04.2-1.43.59L10.3 9.45l-7.72 7.72c-.78.78-.78 2.05 0 2.83L4 21.41c.39.39.9.59 1.41.59.51 0 1.02-.2 1.41-.59l7.78-7.78 2.81-2.81c.8-.78.8-2.07 0-2.86zM5.41 20L4 18.59l7.72-7.72 1.47 1.35L5.41 20z\"/>\n",
              "  </svg>\n",
              "      </button>\n",
              "      \n",
              "  <style>\n",
              "    .colab-df-container {\n",
              "      display:flex;\n",
              "      flex-wrap:wrap;\n",
              "      gap: 12px;\n",
              "    }\n",
              "\n",
              "    .colab-df-convert {\n",
              "      background-color: #E8F0FE;\n",
              "      border: none;\n",
              "      border-radius: 50%;\n",
              "      cursor: pointer;\n",
              "      display: none;\n",
              "      fill: #1967D2;\n",
              "      height: 32px;\n",
              "      padding: 0 0 0 0;\n",
              "      width: 32px;\n",
              "    }\n",
              "\n",
              "    .colab-df-convert:hover {\n",
              "      background-color: #E2EBFA;\n",
              "      box-shadow: 0px 1px 2px rgba(60, 64, 67, 0.3), 0px 1px 3px 1px rgba(60, 64, 67, 0.15);\n",
              "      fill: #174EA6;\n",
              "    }\n",
              "\n",
              "    [theme=dark] .colab-df-convert {\n",
              "      background-color: #3B4455;\n",
              "      fill: #D2E3FC;\n",
              "    }\n",
              "\n",
              "    [theme=dark] .colab-df-convert:hover {\n",
              "      background-color: #434B5C;\n",
              "      box-shadow: 0px 1px 3px 1px rgba(0, 0, 0, 0.15);\n",
              "      filter: drop-shadow(0px 1px 2px rgba(0, 0, 0, 0.3));\n",
              "      fill: #FFFFFF;\n",
              "    }\n",
              "  </style>\n",
              "\n",
              "      <script>\n",
              "        const buttonEl =\n",
              "          document.querySelector('#df-da096295-f907-4f6a-9a8a-37cfd862c2d4 button.colab-df-convert');\n",
              "        buttonEl.style.display =\n",
              "          google.colab.kernel.accessAllowed ? 'block' : 'none';\n",
              "\n",
              "        async function convertToInteractive(key) {\n",
              "          const element = document.querySelector('#df-da096295-f907-4f6a-9a8a-37cfd862c2d4');\n",
              "          const dataTable =\n",
              "            await google.colab.kernel.invokeFunction('convertToInteractive',\n",
              "                                                     [key], {});\n",
              "          if (!dataTable) return;\n",
              "\n",
              "          const docLinkHtml = 'Like what you see? Visit the ' +\n",
              "            '<a target=\"_blank\" href=https://colab.research.google.com/notebooks/data_table.ipynb>data table notebook</a>'\n",
              "            + ' to learn more about interactive tables.';\n",
              "          element.innerHTML = '';\n",
              "          dataTable['output_type'] = 'display_data';\n",
              "          await google.colab.output.renderOutput(dataTable, element);\n",
              "          const docLink = document.createElement('div');\n",
              "          docLink.innerHTML = docLinkHtml;\n",
              "          element.appendChild(docLink);\n",
              "        }\n",
              "      </script>\n",
              "    </div>\n",
              "  </div>\n",
              "  "
            ]
          },
          "metadata": {},
          "execution_count": 34
        }
      ]
    },
    {
      "cell_type": "code",
      "source": [
        "data['fecha_de_generaci_n_de_la'] = pd.to_datetime(data['fecha_de_generaci_n_de_la'], format = '%Y',errors='coerce')"
      ],
      "metadata": {
        "id": "w4luEhkWeLaP"
      },
      "execution_count": 78,
      "outputs": []
    },
    {
      "cell_type": "code",
      "source": [
        "data.info()"
      ],
      "metadata": {
        "colab": {
          "base_uri": "https://localhost:8080/"
        },
        "id": "wHyrQi5hhckt",
        "outputId": "440e3cc5-ad07-48cd-c310-b0e0bebd6c77"
      },
      "execution_count": 79,
      "outputs": [
        {
          "output_type": "stream",
          "name": "stdout",
          "text": [
            "<class 'pandas.core.frame.DataFrame'>\n",
            "RangeIndex: 1000 entries, 0 to 999\n",
            "Data columns (total 11 columns):\n",
            " #   Column                       Non-Null Count  Dtype         \n",
            "---  ------                       --------------  -----         \n",
            " 0   no                           1000 non-null   int64         \n",
            " 1   nombre_o_titulo_de_la        1000 non-null   object        \n",
            " 2   idioma                       1000 non-null   object        \n",
            " 3   medio_de_conservaci_n_y_o    1000 non-null   object        \n",
            " 4   formato                      1000 non-null   object        \n",
            " 5   lugar_de_consulta            1000 non-null   object        \n",
            " 6   fecha_de_generaci_n_de_la    918 non-null    datetime64[ns]\n",
            " 7   frecuencia_de_actualizaci    1000 non-null   object        \n",
            " 8   responsable_de_la_producci   1000 non-null   object        \n",
            " 9   responsable_de_la_informaci  1000 non-null   object        \n",
            " 10  año                          811 non-null    float64       \n",
            "dtypes: datetime64[ns](1), float64(1), int64(1), object(8)\n",
            "memory usage: 86.1+ KB\n"
          ]
        }
      ]
    },
    {
      "cell_type": "code",
      "source": [
        "data['año'] = pd.DatetimeIndex(data['fecha_de_generaci_n_de_la']).year"
      ],
      "metadata": {
        "id": "qYAtJDmehepe"
      },
      "execution_count": 80,
      "outputs": []
    },
    {
      "cell_type": "code",
      "source": [
        "data['año'] = data['año'].fillna(0)"
      ],
      "metadata": {
        "id": "EEygQgfBnMPM"
      },
      "execution_count": 85,
      "outputs": []
    },
    {
      "cell_type": "code",
      "source": [
        "data['año'].isnull().sum()"
      ],
      "metadata": {
        "colab": {
          "base_uri": "https://localhost:8080/"
        },
        "id": "U44DZvHeqaN9",
        "outputId": "51efa2c9-558c-43fc-ff21-526d767fa760"
      },
      "execution_count": 86,
      "outputs": [
        {
          "output_type": "execute_result",
          "data": {
            "text/plain": [
              "0"
            ]
          },
          "metadata": {},
          "execution_count": 86
        }
      ]
    },
    {
      "cell_type": "code",
      "source": [
        "data['año'] = data['año'].astype('int')"
      ],
      "metadata": {
        "id": "rotKDqdGifXs"
      },
      "execution_count": 88,
      "outputs": []
    },
    {
      "cell_type": "code",
      "source": [],
      "metadata": {
        "id": "g36gd5g9quA1"
      },
      "execution_count": null,
      "outputs": []
    }
  ]
}