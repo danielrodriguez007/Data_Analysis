{
  "nbformat": 4,
  "nbformat_minor": 0,
  "metadata": {
    "colab": {
      "provenance": [],
      "authorship_tag": "ABX9TyOyMhmpWso+3Qi7vdglEWFC",
      "include_colab_link": true
    },
    "kernelspec": {
      "name": "python3",
      "display_name": "Python 3"
    },
    "language_info": {
      "name": "python"
    }
  },
  "cells": [
    {
      "cell_type": "markdown",
      "metadata": {
        "id": "view-in-github",
        "colab_type": "text"
      },
      "source": [
        "<a href=\"https://colab.research.google.com/github/danielrodriguez007/Data_Analysis/blob/main/UARIV.ipynb\" target=\"_parent\"><img src=\"https://colab.research.google.com/assets/colab-badge.svg\" alt=\"Open In Colab\"/></a>"
      ]
    },
    {
      "cell_type": "code",
      "execution_count": 248,
      "metadata": {
        "id": "r1vbWAfbbJda"
      },
      "outputs": [],
      "source": [
        "import numpy as np\n",
        "import pandas as pd\n",
        "import matplotlib.pyplot as plt \n",
        "import plotly.express as px\n",
        "import seaborn as sns\n",
        "plt.style.use('fivethirtyeight')"
      ]
    },
    {
      "cell_type": "code",
      "source": [
        "data = pd.read_json('https://www.datos.gov.co/resource/tr34-nyqp.json')\n",
        "data.head()"
      ],
      "metadata": {
        "colab": {
          "base_uri": "https://localhost:8080/",
          "height": 444
        },
        "id": "KQGFlePgbe4h",
        "outputId": "0f2c86dd-18ce-4e70-f9a2-55113b1fef18"
      },
      "execution_count": 249,
      "outputs": [
        {
          "output_type": "execute_result",
          "data": {
            "text/plain": [
              "   no nombre_o_titulo_de_la idioma medio_de_conservaci_n_y_o formato  \\\n",
              "0   1              Servidor    N/A               Electrónico    Otro   \n",
              "1   2              Servidor    N/A               Electrónico    Otro   \n",
              "2   3              Servidor    N/A               Electrónico    Otro   \n",
              "3   4              Servidor    N/A               Electrónico    Otro   \n",
              "4   5              Servidor    N/A               Electrónico    Otro   \n",
              "\n",
              "  lugar_de_consulta fecha_de_generaci_n_de_la frecuencia_de_actualizaci  \\\n",
              "0       \\\\IPprivada                      2018       Según requerimiento   \n",
              "1       \\\\IPprivada                      2018       Según requerimiento   \n",
              "2       \\\\IPprivada                      2018       Según requerimiento   \n",
              "3       \\\\IPprivada                      2018       Según requerimiento   \n",
              "4       \\\\IPprivada                      2018       Según requerimiento   \n",
              "\n",
              "                          responsable_de_la_producci  \\\n",
              "0  Gestión de la información/Oficina de Tecnologí...   \n",
              "1  Gestión de la información/Oficina de Tecnologí...   \n",
              "2  Gestión de la información/Oficina de Tecnologí...   \n",
              "3  Gestión de la información/Oficina de Tecnologí...   \n",
              "4  Gestión de la información/Oficina de Tecnologí...   \n",
              "\n",
              "   responsable_de_la_informaci  \n",
              "0  Infraestructura tecnológica  \n",
              "1  Infraestructura tecnológica  \n",
              "2  Infraestructura tecnológica  \n",
              "3  Infraestructura tecnológica  \n",
              "4  Infraestructura tecnológica  "
            ],
            "text/html": [
              "\n",
              "  <div id=\"df-81f0c3a5-5366-429d-b475-e73b60a791c4\">\n",
              "    <div class=\"colab-df-container\">\n",
              "      <div>\n",
              "<style scoped>\n",
              "    .dataframe tbody tr th:only-of-type {\n",
              "        vertical-align: middle;\n",
              "    }\n",
              "\n",
              "    .dataframe tbody tr th {\n",
              "        vertical-align: top;\n",
              "    }\n",
              "\n",
              "    .dataframe thead th {\n",
              "        text-align: right;\n",
              "    }\n",
              "</style>\n",
              "<table border=\"1\" class=\"dataframe\">\n",
              "  <thead>\n",
              "    <tr style=\"text-align: right;\">\n",
              "      <th></th>\n",
              "      <th>no</th>\n",
              "      <th>nombre_o_titulo_de_la</th>\n",
              "      <th>idioma</th>\n",
              "      <th>medio_de_conservaci_n_y_o</th>\n",
              "      <th>formato</th>\n",
              "      <th>lugar_de_consulta</th>\n",
              "      <th>fecha_de_generaci_n_de_la</th>\n",
              "      <th>frecuencia_de_actualizaci</th>\n",
              "      <th>responsable_de_la_producci</th>\n",
              "      <th>responsable_de_la_informaci</th>\n",
              "    </tr>\n",
              "  </thead>\n",
              "  <tbody>\n",
              "    <tr>\n",
              "      <th>0</th>\n",
              "      <td>1</td>\n",
              "      <td>Servidor</td>\n",
              "      <td>N/A</td>\n",
              "      <td>Electrónico</td>\n",
              "      <td>Otro</td>\n",
              "      <td>\\\\IPprivada</td>\n",
              "      <td>2018</td>\n",
              "      <td>Según requerimiento</td>\n",
              "      <td>Gestión de la información/Oficina de Tecnologí...</td>\n",
              "      <td>Infraestructura tecnológica</td>\n",
              "    </tr>\n",
              "    <tr>\n",
              "      <th>1</th>\n",
              "      <td>2</td>\n",
              "      <td>Servidor</td>\n",
              "      <td>N/A</td>\n",
              "      <td>Electrónico</td>\n",
              "      <td>Otro</td>\n",
              "      <td>\\\\IPprivada</td>\n",
              "      <td>2018</td>\n",
              "      <td>Según requerimiento</td>\n",
              "      <td>Gestión de la información/Oficina de Tecnologí...</td>\n",
              "      <td>Infraestructura tecnológica</td>\n",
              "    </tr>\n",
              "    <tr>\n",
              "      <th>2</th>\n",
              "      <td>3</td>\n",
              "      <td>Servidor</td>\n",
              "      <td>N/A</td>\n",
              "      <td>Electrónico</td>\n",
              "      <td>Otro</td>\n",
              "      <td>\\\\IPprivada</td>\n",
              "      <td>2018</td>\n",
              "      <td>Según requerimiento</td>\n",
              "      <td>Gestión de la información/Oficina de Tecnologí...</td>\n",
              "      <td>Infraestructura tecnológica</td>\n",
              "    </tr>\n",
              "    <tr>\n",
              "      <th>3</th>\n",
              "      <td>4</td>\n",
              "      <td>Servidor</td>\n",
              "      <td>N/A</td>\n",
              "      <td>Electrónico</td>\n",
              "      <td>Otro</td>\n",
              "      <td>\\\\IPprivada</td>\n",
              "      <td>2018</td>\n",
              "      <td>Según requerimiento</td>\n",
              "      <td>Gestión de la información/Oficina de Tecnologí...</td>\n",
              "      <td>Infraestructura tecnológica</td>\n",
              "    </tr>\n",
              "    <tr>\n",
              "      <th>4</th>\n",
              "      <td>5</td>\n",
              "      <td>Servidor</td>\n",
              "      <td>N/A</td>\n",
              "      <td>Electrónico</td>\n",
              "      <td>Otro</td>\n",
              "      <td>\\\\IPprivada</td>\n",
              "      <td>2018</td>\n",
              "      <td>Según requerimiento</td>\n",
              "      <td>Gestión de la información/Oficina de Tecnologí...</td>\n",
              "      <td>Infraestructura tecnológica</td>\n",
              "    </tr>\n",
              "  </tbody>\n",
              "</table>\n",
              "</div>\n",
              "      <button class=\"colab-df-convert\" onclick=\"convertToInteractive('df-81f0c3a5-5366-429d-b475-e73b60a791c4')\"\n",
              "              title=\"Convert this dataframe to an interactive table.\"\n",
              "              style=\"display:none;\">\n",
              "        \n",
              "  <svg xmlns=\"http://www.w3.org/2000/svg\" height=\"24px\"viewBox=\"0 0 24 24\"\n",
              "       width=\"24px\">\n",
              "    <path d=\"M0 0h24v24H0V0z\" fill=\"none\"/>\n",
              "    <path d=\"M18.56 5.44l.94 2.06.94-2.06 2.06-.94-2.06-.94-.94-2.06-.94 2.06-2.06.94zm-11 1L8.5 8.5l.94-2.06 2.06-.94-2.06-.94L8.5 2.5l-.94 2.06-2.06.94zm10 10l.94 2.06.94-2.06 2.06-.94-2.06-.94-.94-2.06-.94 2.06-2.06.94z\"/><path d=\"M17.41 7.96l-1.37-1.37c-.4-.4-.92-.59-1.43-.59-.52 0-1.04.2-1.43.59L10.3 9.45l-7.72 7.72c-.78.78-.78 2.05 0 2.83L4 21.41c.39.39.9.59 1.41.59.51 0 1.02-.2 1.41-.59l7.78-7.78 2.81-2.81c.8-.78.8-2.07 0-2.86zM5.41 20L4 18.59l7.72-7.72 1.47 1.35L5.41 20z\"/>\n",
              "  </svg>\n",
              "      </button>\n",
              "      \n",
              "  <style>\n",
              "    .colab-df-container {\n",
              "      display:flex;\n",
              "      flex-wrap:wrap;\n",
              "      gap: 12px;\n",
              "    }\n",
              "\n",
              "    .colab-df-convert {\n",
              "      background-color: #E8F0FE;\n",
              "      border: none;\n",
              "      border-radius: 50%;\n",
              "      cursor: pointer;\n",
              "      display: none;\n",
              "      fill: #1967D2;\n",
              "      height: 32px;\n",
              "      padding: 0 0 0 0;\n",
              "      width: 32px;\n",
              "    }\n",
              "\n",
              "    .colab-df-convert:hover {\n",
              "      background-color: #E2EBFA;\n",
              "      box-shadow: 0px 1px 2px rgba(60, 64, 67, 0.3), 0px 1px 3px 1px rgba(60, 64, 67, 0.15);\n",
              "      fill: #174EA6;\n",
              "    }\n",
              "\n",
              "    [theme=dark] .colab-df-convert {\n",
              "      background-color: #3B4455;\n",
              "      fill: #D2E3FC;\n",
              "    }\n",
              "\n",
              "    [theme=dark] .colab-df-convert:hover {\n",
              "      background-color: #434B5C;\n",
              "      box-shadow: 0px 1px 3px 1px rgba(0, 0, 0, 0.15);\n",
              "      filter: drop-shadow(0px 1px 2px rgba(0, 0, 0, 0.3));\n",
              "      fill: #FFFFFF;\n",
              "    }\n",
              "  </style>\n",
              "\n",
              "      <script>\n",
              "        const buttonEl =\n",
              "          document.querySelector('#df-81f0c3a5-5366-429d-b475-e73b60a791c4 button.colab-df-convert');\n",
              "        buttonEl.style.display =\n",
              "          google.colab.kernel.accessAllowed ? 'block' : 'none';\n",
              "\n",
              "        async function convertToInteractive(key) {\n",
              "          const element = document.querySelector('#df-81f0c3a5-5366-429d-b475-e73b60a791c4');\n",
              "          const dataTable =\n",
              "            await google.colab.kernel.invokeFunction('convertToInteractive',\n",
              "                                                     [key], {});\n",
              "          if (!dataTable) return;\n",
              "\n",
              "          const docLinkHtml = 'Like what you see? Visit the ' +\n",
              "            '<a target=\"_blank\" href=https://colab.research.google.com/notebooks/data_table.ipynb>data table notebook</a>'\n",
              "            + ' to learn more about interactive tables.';\n",
              "          element.innerHTML = '';\n",
              "          dataTable['output_type'] = 'display_data';\n",
              "          await google.colab.output.renderOutput(dataTable, element);\n",
              "          const docLink = document.createElement('div');\n",
              "          docLink.innerHTML = docLinkHtml;\n",
              "          element.appendChild(docLink);\n",
              "        }\n",
              "      </script>\n",
              "    </div>\n",
              "  </div>\n",
              "  "
            ]
          },
          "metadata": {},
          "execution_count": 249
        }
      ]
    },
    {
      "cell_type": "code",
      "source": [
        "data.info()"
      ],
      "metadata": {
        "colab": {
          "base_uri": "https://localhost:8080/"
        },
        "id": "d9hWYRvnbpXH",
        "outputId": "341dbbe4-1be3-4be5-c8c7-dc8f2ff13464"
      },
      "execution_count": 250,
      "outputs": [
        {
          "output_type": "stream",
          "name": "stdout",
          "text": [
            "<class 'pandas.core.frame.DataFrame'>\n",
            "RangeIndex: 1000 entries, 0 to 999\n",
            "Data columns (total 10 columns):\n",
            " #   Column                       Non-Null Count  Dtype \n",
            "---  ------                       --------------  ----- \n",
            " 0   no                           1000 non-null   int64 \n",
            " 1   nombre_o_titulo_de_la        1000 non-null   object\n",
            " 2   idioma                       1000 non-null   object\n",
            " 3   medio_de_conservaci_n_y_o    1000 non-null   object\n",
            " 4   formato                      1000 non-null   object\n",
            " 5   lugar_de_consulta            1000 non-null   object\n",
            " 6   fecha_de_generaci_n_de_la    1000 non-null   object\n",
            " 7   frecuencia_de_actualizaci    1000 non-null   object\n",
            " 8   responsable_de_la_producci   1000 non-null   object\n",
            " 9   responsable_de_la_informaci  1000 non-null   object\n",
            "dtypes: int64(1), object(9)\n",
            "memory usage: 78.2+ KB\n"
          ]
        }
      ]
    },
    {
      "cell_type": "code",
      "source": [
        "data.isnull().sum()"
      ],
      "metadata": {
        "colab": {
          "base_uri": "https://localhost:8080/"
        },
        "id": "xFr90BPxbzDY",
        "outputId": "13a1e30c-6e79-467a-ce52-6523b65a1bce"
      },
      "execution_count": 251,
      "outputs": [
        {
          "output_type": "execute_result",
          "data": {
            "text/plain": [
              "no                             0\n",
              "nombre_o_titulo_de_la          0\n",
              "idioma                         0\n",
              "medio_de_conservaci_n_y_o      0\n",
              "formato                        0\n",
              "lugar_de_consulta              0\n",
              "fecha_de_generaci_n_de_la      0\n",
              "frecuencia_de_actualizaci      0\n",
              "responsable_de_la_producci     0\n",
              "responsable_de_la_informaci    0\n",
              "dtype: int64"
            ]
          },
          "metadata": {},
          "execution_count": 251
        }
      ]
    },
    {
      "cell_type": "code",
      "source": [
        "data['medio_de_conservaci_n_y_o'].unique()"
      ],
      "metadata": {
        "colab": {
          "base_uri": "https://localhost:8080/"
        },
        "id": "snEECj9odYQP",
        "outputId": "a0eb3d86-8565-4c98-acec-fd15fe7fc455"
      },
      "execution_count": 252,
      "outputs": [
        {
          "output_type": "execute_result",
          "data": {
            "text/plain": [
              "array(['Electrónico', 'Físico', 'Físico/Electrónico', 'N/A',\n",
              "       'Fisico/Electrónico'], dtype=object)"
            ]
          },
          "metadata": {},
          "execution_count": 252
        }
      ]
    },
    {
      "cell_type": "code",
      "source": [
        "data['idioma'] = data['idioma'].map({'español':'Español', 'Español':'Español', 'N/A':'N/A'})\n",
        "data['medio_de_conservaci_n_y_o'] = data['medio_de_conservaci_n_y_o'].map({'Electrónico':'Electrónico','Físico':'Físico','Físico/Electrónico':'Fisico/Electrónico',\n",
        "                                                                           'N/A':'N/A','Fisico/Electrónico':'Fisico/Electrónico'})"
      ],
      "metadata": {
        "id": "hAeZLD7RcIRA"
      },
      "execution_count": 253,
      "outputs": []
    },
    {
      "cell_type": "code",
      "source": [
        "pivot = pd.pivot_table(data,values = 'no', index = 'fecha_de_generaci_n_de_la', aggfunc='count')\n",
        "pivot"
      ],
      "metadata": {
        "colab": {
          "base_uri": "https://localhost:8080/",
          "height": 455
        },
        "id": "wGbi19lLdUbX",
        "outputId": "08b79103-23e5-4231-f2dd-bde2d107c191"
      },
      "execution_count": 254,
      "outputs": [
        {
          "output_type": "execute_result",
          "data": {
            "text/plain": [
              "                           no\n",
              "fecha_de_generaci_n_de_la    \n",
              "1905-07-13T00:00:00.000     2\n",
              "2009-05-05T00:00:00.000     1\n",
              "2009-12-31T00:00:00.000     3\n",
              "2010-06-02T00:00:00.000     1\n",
              "2011                        1\n",
              "...                        ..\n",
              "2022-05-25T00:00:00.000     1\n",
              "2022-06-01T00:00:00.000     1\n",
              "2022-06-07T00:00:00.000     2\n",
              "2022-06-16T00:00:00.000     1\n",
              "N/A                        82\n",
              "\n",
              "[194 rows x 1 columns]"
            ],
            "text/html": [
              "\n",
              "  <div id=\"df-7827e133-fde4-4814-a398-67f84471b08f\">\n",
              "    <div class=\"colab-df-container\">\n",
              "      <div>\n",
              "<style scoped>\n",
              "    .dataframe tbody tr th:only-of-type {\n",
              "        vertical-align: middle;\n",
              "    }\n",
              "\n",
              "    .dataframe tbody tr th {\n",
              "        vertical-align: top;\n",
              "    }\n",
              "\n",
              "    .dataframe thead th {\n",
              "        text-align: right;\n",
              "    }\n",
              "</style>\n",
              "<table border=\"1\" class=\"dataframe\">\n",
              "  <thead>\n",
              "    <tr style=\"text-align: right;\">\n",
              "      <th></th>\n",
              "      <th>no</th>\n",
              "    </tr>\n",
              "    <tr>\n",
              "      <th>fecha_de_generaci_n_de_la</th>\n",
              "      <th></th>\n",
              "    </tr>\n",
              "  </thead>\n",
              "  <tbody>\n",
              "    <tr>\n",
              "      <th>1905-07-13T00:00:00.000</th>\n",
              "      <td>2</td>\n",
              "    </tr>\n",
              "    <tr>\n",
              "      <th>2009-05-05T00:00:00.000</th>\n",
              "      <td>1</td>\n",
              "    </tr>\n",
              "    <tr>\n",
              "      <th>2009-12-31T00:00:00.000</th>\n",
              "      <td>3</td>\n",
              "    </tr>\n",
              "    <tr>\n",
              "      <th>2010-06-02T00:00:00.000</th>\n",
              "      <td>1</td>\n",
              "    </tr>\n",
              "    <tr>\n",
              "      <th>2011</th>\n",
              "      <td>1</td>\n",
              "    </tr>\n",
              "    <tr>\n",
              "      <th>...</th>\n",
              "      <td>...</td>\n",
              "    </tr>\n",
              "    <tr>\n",
              "      <th>2022-05-25T00:00:00.000</th>\n",
              "      <td>1</td>\n",
              "    </tr>\n",
              "    <tr>\n",
              "      <th>2022-06-01T00:00:00.000</th>\n",
              "      <td>1</td>\n",
              "    </tr>\n",
              "    <tr>\n",
              "      <th>2022-06-07T00:00:00.000</th>\n",
              "      <td>2</td>\n",
              "    </tr>\n",
              "    <tr>\n",
              "      <th>2022-06-16T00:00:00.000</th>\n",
              "      <td>1</td>\n",
              "    </tr>\n",
              "    <tr>\n",
              "      <th>N/A</th>\n",
              "      <td>82</td>\n",
              "    </tr>\n",
              "  </tbody>\n",
              "</table>\n",
              "<p>194 rows × 1 columns</p>\n",
              "</div>\n",
              "      <button class=\"colab-df-convert\" onclick=\"convertToInteractive('df-7827e133-fde4-4814-a398-67f84471b08f')\"\n",
              "              title=\"Convert this dataframe to an interactive table.\"\n",
              "              style=\"display:none;\">\n",
              "        \n",
              "  <svg xmlns=\"http://www.w3.org/2000/svg\" height=\"24px\"viewBox=\"0 0 24 24\"\n",
              "       width=\"24px\">\n",
              "    <path d=\"M0 0h24v24H0V0z\" fill=\"none\"/>\n",
              "    <path d=\"M18.56 5.44l.94 2.06.94-2.06 2.06-.94-2.06-.94-.94-2.06-.94 2.06-2.06.94zm-11 1L8.5 8.5l.94-2.06 2.06-.94-2.06-.94L8.5 2.5l-.94 2.06-2.06.94zm10 10l.94 2.06.94-2.06 2.06-.94-2.06-.94-.94-2.06-.94 2.06-2.06.94z\"/><path d=\"M17.41 7.96l-1.37-1.37c-.4-.4-.92-.59-1.43-.59-.52 0-1.04.2-1.43.59L10.3 9.45l-7.72 7.72c-.78.78-.78 2.05 0 2.83L4 21.41c.39.39.9.59 1.41.59.51 0 1.02-.2 1.41-.59l7.78-7.78 2.81-2.81c.8-.78.8-2.07 0-2.86zM5.41 20L4 18.59l7.72-7.72 1.47 1.35L5.41 20z\"/>\n",
              "  </svg>\n",
              "      </button>\n",
              "      \n",
              "  <style>\n",
              "    .colab-df-container {\n",
              "      display:flex;\n",
              "      flex-wrap:wrap;\n",
              "      gap: 12px;\n",
              "    }\n",
              "\n",
              "    .colab-df-convert {\n",
              "      background-color: #E8F0FE;\n",
              "      border: none;\n",
              "      border-radius: 50%;\n",
              "      cursor: pointer;\n",
              "      display: none;\n",
              "      fill: #1967D2;\n",
              "      height: 32px;\n",
              "      padding: 0 0 0 0;\n",
              "      width: 32px;\n",
              "    }\n",
              "\n",
              "    .colab-df-convert:hover {\n",
              "      background-color: #E2EBFA;\n",
              "      box-shadow: 0px 1px 2px rgba(60, 64, 67, 0.3), 0px 1px 3px 1px rgba(60, 64, 67, 0.15);\n",
              "      fill: #174EA6;\n",
              "    }\n",
              "\n",
              "    [theme=dark] .colab-df-convert {\n",
              "      background-color: #3B4455;\n",
              "      fill: #D2E3FC;\n",
              "    }\n",
              "\n",
              "    [theme=dark] .colab-df-convert:hover {\n",
              "      background-color: #434B5C;\n",
              "      box-shadow: 0px 1px 3px 1px rgba(0, 0, 0, 0.15);\n",
              "      filter: drop-shadow(0px 1px 2px rgba(0, 0, 0, 0.3));\n",
              "      fill: #FFFFFF;\n",
              "    }\n",
              "  </style>\n",
              "\n",
              "      <script>\n",
              "        const buttonEl =\n",
              "          document.querySelector('#df-7827e133-fde4-4814-a398-67f84471b08f button.colab-df-convert');\n",
              "        buttonEl.style.display =\n",
              "          google.colab.kernel.accessAllowed ? 'block' : 'none';\n",
              "\n",
              "        async function convertToInteractive(key) {\n",
              "          const element = document.querySelector('#df-7827e133-fde4-4814-a398-67f84471b08f');\n",
              "          const dataTable =\n",
              "            await google.colab.kernel.invokeFunction('convertToInteractive',\n",
              "                                                     [key], {});\n",
              "          if (!dataTable) return;\n",
              "\n",
              "          const docLinkHtml = 'Like what you see? Visit the ' +\n",
              "            '<a target=\"_blank\" href=https://colab.research.google.com/notebooks/data_table.ipynb>data table notebook</a>'\n",
              "            + ' to learn more about interactive tables.';\n",
              "          element.innerHTML = '';\n",
              "          dataTable['output_type'] = 'display_data';\n",
              "          await google.colab.output.renderOutput(dataTable, element);\n",
              "          const docLink = document.createElement('div');\n",
              "          docLink.innerHTML = docLinkHtml;\n",
              "          element.appendChild(docLink);\n",
              "        }\n",
              "      </script>\n",
              "    </div>\n",
              "  </div>\n",
              "  "
            ]
          },
          "metadata": {},
          "execution_count": 254
        }
      ]
    },
    {
      "cell_type": "code",
      "source": [
        "data['fecha_de_generaci_n_de_la'] = pd.to_datetime(data['fecha_de_generaci_n_de_la'], format = '%Y',errors='coerce')"
      ],
      "metadata": {
        "id": "w4luEhkWeLaP"
      },
      "execution_count": 255,
      "outputs": []
    },
    {
      "cell_type": "code",
      "source": [
        "data.info()"
      ],
      "metadata": {
        "colab": {
          "base_uri": "https://localhost:8080/"
        },
        "id": "wHyrQi5hhckt",
        "outputId": "0af13d63-211b-43d4-df75-316449d43218"
      },
      "execution_count": 256,
      "outputs": [
        {
          "output_type": "stream",
          "name": "stdout",
          "text": [
            "<class 'pandas.core.frame.DataFrame'>\n",
            "RangeIndex: 1000 entries, 0 to 999\n",
            "Data columns (total 10 columns):\n",
            " #   Column                       Non-Null Count  Dtype         \n",
            "---  ------                       --------------  -----         \n",
            " 0   no                           1000 non-null   int64         \n",
            " 1   nombre_o_titulo_de_la        1000 non-null   object        \n",
            " 2   idioma                       1000 non-null   object        \n",
            " 3   medio_de_conservaci_n_y_o    1000 non-null   object        \n",
            " 4   formato                      1000 non-null   object        \n",
            " 5   lugar_de_consulta            1000 non-null   object        \n",
            " 6   fecha_de_generaci_n_de_la    364 non-null    datetime64[ns]\n",
            " 7   frecuencia_de_actualizaci    1000 non-null   object        \n",
            " 8   responsable_de_la_producci   1000 non-null   object        \n",
            " 9   responsable_de_la_informaci  1000 non-null   object        \n",
            "dtypes: datetime64[ns](1), int64(1), object(8)\n",
            "memory usage: 78.2+ KB\n"
          ]
        }
      ]
    },
    {
      "cell_type": "code",
      "source": [
        "data['año'] = pd.DatetimeIndex(data['fecha_de_generaci_n_de_la']).year"
      ],
      "metadata": {
        "id": "qYAtJDmehepe"
      },
      "execution_count": 257,
      "outputs": []
    },
    {
      "cell_type": "code",
      "source": [
        "data['año'] = data['año'].fillna(0)"
      ],
      "metadata": {
        "id": "EEygQgfBnMPM"
      },
      "execution_count": 258,
      "outputs": []
    },
    {
      "cell_type": "code",
      "source": [
        "data['año'].isnull().sum()"
      ],
      "metadata": {
        "colab": {
          "base_uri": "https://localhost:8080/"
        },
        "id": "U44DZvHeqaN9",
        "outputId": "c0e64623-9503-4ece-f369-c54b234d4cda"
      },
      "execution_count": 259,
      "outputs": [
        {
          "output_type": "execute_result",
          "data": {
            "text/plain": [
              "0"
            ]
          },
          "metadata": {},
          "execution_count": 259
        }
      ]
    },
    {
      "cell_type": "code",
      "source": [
        "data['año'] = data['año'].astype('int')"
      ],
      "metadata": {
        "id": "rotKDqdGifXs"
      },
      "execution_count": 260,
      "outputs": []
    },
    {
      "cell_type": "code",
      "source": [
        "pd.pivot_table(data,values='no', index='año', aggfunc='count')"
      ],
      "metadata": {
        "colab": {
          "base_uri": "https://localhost:8080/",
          "height": 488
        },
        "id": "IvOI_p4j-f5c",
        "outputId": "fda75193-3e8a-42cc-871a-d41d07d1e592"
      },
      "execution_count": 261,
      "outputs": [
        {
          "output_type": "execute_result",
          "data": {
            "text/plain": [
              "       no\n",
              "año      \n",
              "0     636\n",
              "2011    1\n",
              "2012   26\n",
              "2013    3\n",
              "2014    1\n",
              "2015   47\n",
              "2016   11\n",
              "2017    7\n",
              "2018  135\n",
              "2019   67\n",
              "2020   12\n",
              "2021   42\n",
              "2022   12"
            ],
            "text/html": [
              "\n",
              "  <div id=\"df-ea684a3f-3ec2-4652-9ee2-89f692052d49\">\n",
              "    <div class=\"colab-df-container\">\n",
              "      <div>\n",
              "<style scoped>\n",
              "    .dataframe tbody tr th:only-of-type {\n",
              "        vertical-align: middle;\n",
              "    }\n",
              "\n",
              "    .dataframe tbody tr th {\n",
              "        vertical-align: top;\n",
              "    }\n",
              "\n",
              "    .dataframe thead th {\n",
              "        text-align: right;\n",
              "    }\n",
              "</style>\n",
              "<table border=\"1\" class=\"dataframe\">\n",
              "  <thead>\n",
              "    <tr style=\"text-align: right;\">\n",
              "      <th></th>\n",
              "      <th>no</th>\n",
              "    </tr>\n",
              "    <tr>\n",
              "      <th>año</th>\n",
              "      <th></th>\n",
              "    </tr>\n",
              "  </thead>\n",
              "  <tbody>\n",
              "    <tr>\n",
              "      <th>0</th>\n",
              "      <td>636</td>\n",
              "    </tr>\n",
              "    <tr>\n",
              "      <th>2011</th>\n",
              "      <td>1</td>\n",
              "    </tr>\n",
              "    <tr>\n",
              "      <th>2012</th>\n",
              "      <td>26</td>\n",
              "    </tr>\n",
              "    <tr>\n",
              "      <th>2013</th>\n",
              "      <td>3</td>\n",
              "    </tr>\n",
              "    <tr>\n",
              "      <th>2014</th>\n",
              "      <td>1</td>\n",
              "    </tr>\n",
              "    <tr>\n",
              "      <th>2015</th>\n",
              "      <td>47</td>\n",
              "    </tr>\n",
              "    <tr>\n",
              "      <th>2016</th>\n",
              "      <td>11</td>\n",
              "    </tr>\n",
              "    <tr>\n",
              "      <th>2017</th>\n",
              "      <td>7</td>\n",
              "    </tr>\n",
              "    <tr>\n",
              "      <th>2018</th>\n",
              "      <td>135</td>\n",
              "    </tr>\n",
              "    <tr>\n",
              "      <th>2019</th>\n",
              "      <td>67</td>\n",
              "    </tr>\n",
              "    <tr>\n",
              "      <th>2020</th>\n",
              "      <td>12</td>\n",
              "    </tr>\n",
              "    <tr>\n",
              "      <th>2021</th>\n",
              "      <td>42</td>\n",
              "    </tr>\n",
              "    <tr>\n",
              "      <th>2022</th>\n",
              "      <td>12</td>\n",
              "    </tr>\n",
              "  </tbody>\n",
              "</table>\n",
              "</div>\n",
              "      <button class=\"colab-df-convert\" onclick=\"convertToInteractive('df-ea684a3f-3ec2-4652-9ee2-89f692052d49')\"\n",
              "              title=\"Convert this dataframe to an interactive table.\"\n",
              "              style=\"display:none;\">\n",
              "        \n",
              "  <svg xmlns=\"http://www.w3.org/2000/svg\" height=\"24px\"viewBox=\"0 0 24 24\"\n",
              "       width=\"24px\">\n",
              "    <path d=\"M0 0h24v24H0V0z\" fill=\"none\"/>\n",
              "    <path d=\"M18.56 5.44l.94 2.06.94-2.06 2.06-.94-2.06-.94-.94-2.06-.94 2.06-2.06.94zm-11 1L8.5 8.5l.94-2.06 2.06-.94-2.06-.94L8.5 2.5l-.94 2.06-2.06.94zm10 10l.94 2.06.94-2.06 2.06-.94-2.06-.94-.94-2.06-.94 2.06-2.06.94z\"/><path d=\"M17.41 7.96l-1.37-1.37c-.4-.4-.92-.59-1.43-.59-.52 0-1.04.2-1.43.59L10.3 9.45l-7.72 7.72c-.78.78-.78 2.05 0 2.83L4 21.41c.39.39.9.59 1.41.59.51 0 1.02-.2 1.41-.59l7.78-7.78 2.81-2.81c.8-.78.8-2.07 0-2.86zM5.41 20L4 18.59l7.72-7.72 1.47 1.35L5.41 20z\"/>\n",
              "  </svg>\n",
              "      </button>\n",
              "      \n",
              "  <style>\n",
              "    .colab-df-container {\n",
              "      display:flex;\n",
              "      flex-wrap:wrap;\n",
              "      gap: 12px;\n",
              "    }\n",
              "\n",
              "    .colab-df-convert {\n",
              "      background-color: #E8F0FE;\n",
              "      border: none;\n",
              "      border-radius: 50%;\n",
              "      cursor: pointer;\n",
              "      display: none;\n",
              "      fill: #1967D2;\n",
              "      height: 32px;\n",
              "      padding: 0 0 0 0;\n",
              "      width: 32px;\n",
              "    }\n",
              "\n",
              "    .colab-df-convert:hover {\n",
              "      background-color: #E2EBFA;\n",
              "      box-shadow: 0px 1px 2px rgba(60, 64, 67, 0.3), 0px 1px 3px 1px rgba(60, 64, 67, 0.15);\n",
              "      fill: #174EA6;\n",
              "    }\n",
              "\n",
              "    [theme=dark] .colab-df-convert {\n",
              "      background-color: #3B4455;\n",
              "      fill: #D2E3FC;\n",
              "    }\n",
              "\n",
              "    [theme=dark] .colab-df-convert:hover {\n",
              "      background-color: #434B5C;\n",
              "      box-shadow: 0px 1px 3px 1px rgba(0, 0, 0, 0.15);\n",
              "      filter: drop-shadow(0px 1px 2px rgba(0, 0, 0, 0.3));\n",
              "      fill: #FFFFFF;\n",
              "    }\n",
              "  </style>\n",
              "\n",
              "      <script>\n",
              "        const buttonEl =\n",
              "          document.querySelector('#df-ea684a3f-3ec2-4652-9ee2-89f692052d49 button.colab-df-convert');\n",
              "        buttonEl.style.display =\n",
              "          google.colab.kernel.accessAllowed ? 'block' : 'none';\n",
              "\n",
              "        async function convertToInteractive(key) {\n",
              "          const element = document.querySelector('#df-ea684a3f-3ec2-4652-9ee2-89f692052d49');\n",
              "          const dataTable =\n",
              "            await google.colab.kernel.invokeFunction('convertToInteractive',\n",
              "                                                     [key], {});\n",
              "          if (!dataTable) return;\n",
              "\n",
              "          const docLinkHtml = 'Like what you see? Visit the ' +\n",
              "            '<a target=\"_blank\" href=https://colab.research.google.com/notebooks/data_table.ipynb>data table notebook</a>'\n",
              "            + ' to learn more about interactive tables.';\n",
              "          element.innerHTML = '';\n",
              "          dataTable['output_type'] = 'display_data';\n",
              "          await google.colab.output.renderOutput(dataTable, element);\n",
              "          const docLink = document.createElement('div');\n",
              "          docLink.innerHTML = docLinkHtml;\n",
              "          element.appendChild(docLink);\n",
              "        }\n",
              "      </script>\n",
              "    </div>\n",
              "  </div>\n",
              "  "
            ]
          },
          "metadata": {},
          "execution_count": 261
        }
      ]
    },
    {
      "cell_type": "code",
      "source": [
        "medio = data.groupby('medio_de_conservaci_n_y_o')['no'].count().sort_values(ascending=False)"
      ],
      "metadata": {
        "id": "IYLNL_j9zUHO"
      },
      "execution_count": 262,
      "outputs": []
    },
    {
      "cell_type": "code",
      "source": [
        "plt.figure(figsize=(10,10))\n",
        "plt.bar(x = medio.index, height = medio.values, )\n",
        "plt.title('Medios de conservación')\n",
        "plt.xlabel('Medios')\n",
        "plt.ylabel('Cantidad')\n",
        "plt.ylim(top=850)\n",
        "plt.axhline(y = data['no'].median(), color='r')\n",
        "plt.show()"
      ],
      "metadata": {
        "colab": {
          "base_uri": "https://localhost:8080/",
          "height": 675
        },
        "id": "g36gd5g9quA1",
        "outputId": "def0ac01-68be-4f43-fe32-3a85c61921aa"
      },
      "execution_count": 300,
      "outputs": [
        {
          "output_type": "display_data",
          "data": {
            "text/plain": [
              "<Figure size 720x720 with 1 Axes>"
            ],
            "image/png": "[encoded data removed]"
          },
          "metadata": {}
        }
      ]
    },
    {
      "cell_type": "code",
      "source": [
        "px.bar(data,x='medio_de_conservaci_n_y_o', y='no', color='idioma',)"
      ],
      "metadata": {
        "colab": {
          "base_uri": "https://localhost:8080/",
          "height": 542
        },
        "id": "oNSAKopAxZBq",
        "outputId": "f3a89722-4385-4aed-c778-a4426c7b616d"
      },
      "execution_count": 264,
      "outputs": [
        {
          "output_type": "display_data",
          "data": {
            "text/html": [
              "<html>\n",
              "<head><meta charset=\"utf-8\" /></head>\n",
              "<body>\n",
              "    <div>            <script src=\"https://cdnjs.cloudflare.com/ajax/libs/mathjax/2.7.5/MathJax.js?config=TeX-AMS-MML_SVG\"></script><script type=\"text/javascript\">if (window.MathJax) {MathJax.Hub.Config({SVG: {font: \"STIX-Web\"}});}</script>                <script type=\"text/javascript\">window.PlotlyConfig = {MathJaxConfig: 'local'};</script>\n",
              "        <script src=\"https://cdn.plot.ly/plotly-2.8.3.min.js\"></script>                <div id=\"20c8af7d-46ac-4435-9e61-6d5b4eacdd8b\" class=\"plotly-graph-div\" style=\"height:525px; width:100%;\"></div>            <script type=\"text/javascript\">                                    window.PLOTLYENV=window.PLOTLYENV || {};                                    if (document.getElementById(\"20c8af7d-46ac-4435-9e61-6d5b4eacdd8b\")) {                    Plotly.newPlot(                        \"20c8af7d-46ac-4435-9e61-6d5b4eacdd8b\",                        [{\"alignmentgroup\":\"True\",\"hovertemplate\":\"idioma=N/A<br>medio_de_conservaci_n_y_o=%{x}<br>no=%{y}<extra></extra>\",\"legendgroup\":\"N/A\",\"marker\":{\"color\":\"#636efa\",\"pattern\":{\"shape\":\"\"}},\"name\":\"N/A\",\"offsetgroup\":\"N/A\",\"orientation\":\"v\",\"showlegend\":true,\"textposition\":\"auto\",\"x\":[\"Electr\\u00f3nico\",\"Electr\\u00f3nico\",\"Electr\\u00f3nico\",\"Electr\\u00f3nico\",\"Electr\\u00f3nico\",\"Electr\\u00f3nico\",\"Electr\\u00f3nico\",\"Electr\\u00f3nico\",\"Electr\\u00f3nico\",\"Electr\\u00f3nico\",\"Electr\\u00f3nico\",\"Electr\\u00f3nico\",\"Electr\\u00f3nico\",\"Electr\\u00f3nico\",\"Electr\\u00f3nico\",\"Electr\\u00f3nico\",\"Electr\\u00f3nico\",\"Electr\\u00f3nico\",\"Electr\\u00f3nico\",\"Electr\\u00f3nico\",\"Electr\\u00f3nico\",\"Electr\\u00f3nico\",\"Electr\\u00f3nico\",\"Electr\\u00f3nico\",\"Electr\\u00f3nico\",\"Electr\\u00f3nico\",\"Electr\\u00f3nico\",\"Electr\\u00f3nico\",\"Electr\\u00f3nico\",\"Electr\\u00f3nico\",\"Electr\\u00f3nico\",\"Electr\\u00f3nico\",\"Electr\\u00f3nico\",\"Electr\\u00f3nico\",\"Electr\\u00f3nico\",\"Electr\\u00f3nico\",\"Electr\\u00f3nico\",\"Electr\\u00f3nico\",\"Electr\\u00f3nico\",\"Electr\\u00f3nico\",\"Electr\\u00f3nico\",\"Electr\\u00f3nico\",\"Electr\\u00f3nico\",\"Electr\\u00f3nico\",\"Electr\\u00f3nico\",\"Electr\\u00f3nico\",\"Electr\\u00f3nico\",\"Electr\\u00f3nico\",\"Electr\\u00f3nico\",\"Electr\\u00f3nico\",\"Electr\\u00f3nico\",\"Electr\\u00f3nico\",\"Electr\\u00f3nico\",\"Electr\\u00f3nico\",\"Electr\\u00f3nico\",\"Electr\\u00f3nico\",\"Electr\\u00f3nico\",\"Electr\\u00f3nico\",\"Electr\\u00f3nico\",\"Electr\\u00f3nico\",\"Electr\\u00f3nico\",\"Electr\\u00f3nico\",\"Electr\\u00f3nico\",\"Electr\\u00f3nico\",\"Electr\\u00f3nico\",\"Electr\\u00f3nico\",\"Electr\\u00f3nico\",\"Electr\\u00f3nico\",\"Electr\\u00f3nico\",\"Electr\\u00f3nico\",\"Electr\\u00f3nico\",\"Electr\\u00f3nico\",\"Electr\\u00f3nico\",\"Electr\\u00f3nico\",\"Electr\\u00f3nico\",\"Electr\\u00f3nico\",\"Electr\\u00f3nico\",\"Electr\\u00f3nico\",\"Electr\\u00f3nico\",\"Electr\\u00f3nico\",\"Electr\\u00f3nico\",\"Electr\\u00f3nico\",\"Electr\\u00f3nico\",\"Electr\\u00f3nico\",\"Electr\\u00f3nico\",\"Electr\\u00f3nico\",\"Electr\\u00f3nico\",\"Electr\\u00f3nico\",\"Electr\\u00f3nico\",\"Electr\\u00f3nico\",\"Electr\\u00f3nico\",\"Electr\\u00f3nico\",\"Electr\\u00f3nico\",\"Electr\\u00f3nico\",\"Electr\\u00f3nico\",\"Electr\\u00f3nico\",\"Electr\\u00f3nico\",\"Electr\\u00f3nico\",\"Electr\\u00f3nico\",\"Electr\\u00f3nico\",\"Electr\\u00f3nico\",\"Electr\\u00f3nico\",\"Electr\\u00f3nico\",\"Electr\\u00f3nico\",\"Electr\\u00f3nico\",\"Electr\\u00f3nico\",\"Electr\\u00f3nico\",\"Electr\\u00f3nico\",\"Electr\\u00f3nico\",\"Electr\\u00f3nico\",\"Electr\\u00f3nico\",\"Electr\\u00f3nico\",\"Electr\\u00f3nico\",\"Electr\\u00f3nico\",\"Electr\\u00f3nico\",\"Electr\\u00f3nico\",\"Electr\\u00f3nico\",\"Electr\\u00f3nico\",\"Electr\\u00f3nico\",\"Electr\\u00f3nico\",\"Electr\\u00f3nico\",\"F\\u00edsico\",\"F\\u00edsico\",\"F\\u00edsico\",\"F\\u00edsico\",\"F\\u00edsico\",\"F\\u00edsico\",\"F\\u00edsico\",\"F\\u00edsico\",\"F\\u00edsico\",\"F\\u00edsico\",\"F\\u00edsico\",\"F\\u00edsico\",\"F\\u00edsico\",\"F\\u00edsico\",\"F\\u00edsico\",\"F\\u00edsico\",\"F\\u00edsico\",\"F\\u00edsico\",\"F\\u00edsico\",\"F\\u00edsico\",\"F\\u00edsico\",\"F\\u00edsico\",\"F\\u00edsico\",\"F\\u00edsico\",\"F\\u00edsico\",\"F\\u00edsico\",\"F\\u00edsico\",\"F\\u00edsico\",\"F\\u00edsico\",\"F\\u00edsico\",\"F\\u00edsico\",\"F\\u00edsico\",\"F\\u00edsico\",\"F\\u00edsico\",\"F\\u00edsico\",\"F\\u00edsico\",\"F\\u00edsico\",\"F\\u00edsico\",\"F\\u00edsico\",\"F\\u00edsico\",\"F\\u00edsico\",\"F\\u00edsico\",\"F\\u00edsico\",\"F\\u00edsico\",\"F\\u00edsico\",\"F\\u00edsico\",\"F\\u00edsico\",\"F\\u00edsico\",\"F\\u00edsico\",\"F\\u00edsico\",\"F\\u00edsico\",\"F\\u00edsico\",\"F\\u00edsico\",\"F\\u00edsico\",\"F\\u00edsico\",\"F\\u00edsico\",\"F\\u00edsico\",\"F\\u00edsico\",\"F\\u00edsico\",\"F\\u00edsico\",\"F\\u00edsico\",\"F\\u00edsico\",\"F\\u00edsico\",\"F\\u00edsico\",\"F\\u00edsico\",\"F\\u00edsico\",\"F\\u00edsico\",\"F\\u00edsico\",\"F\\u00edsico\",\"F\\u00edsico\",\"F\\u00edsico\",\"F\\u00edsico\",\"F\\u00edsico\",\"F\\u00edsico\",\"F\\u00edsico\",\"F\\u00edsico\",\"F\\u00edsico\",\"F\\u00edsico\",\"F\\u00edsico\",\"F\\u00edsico\",\"F\\u00edsico\",\"F\\u00edsico\",\"F\\u00edsico\",\"F\\u00edsico\",\"F\\u00edsico\",\"F\\u00edsico\",\"F\\u00edsico\",\"F\\u00edsico\",\"F\\u00edsico\",\"F\\u00edsico\",\"F\\u00edsico\",\"F\\u00edsico\",\"F\\u00edsico\",\"F\\u00edsico\",\"F\\u00edsico\",\"F\\u00edsico\",\"F\\u00edsico\",\"F\\u00edsico\",\"F\\u00edsico\",\"F\\u00edsico\",\"Electr\\u00f3nico\",\"Electr\\u00f3nico\",\"Electr\\u00f3nico\",\"Electr\\u00f3nico\",\"F\\u00edsico\",\"F\\u00edsico\",\"F\\u00edsico\",\"F\\u00edsico\",\"F\\u00edsico\",\"F\\u00edsico\",\"F\\u00edsico\",\"F\\u00edsico\",\"F\\u00edsico\",\"F\\u00edsico\",\"F\\u00edsico\",\"Electr\\u00f3nico\",\"Electr\\u00f3nico\",\"Electr\\u00f3nico\",\"F\\u00edsico\",\"F\\u00edsico\",\"F\\u00edsico\",\"F\\u00edsico\",\"Electr\\u00f3nico\",\"Electr\\u00f3nico\",\"F\\u00edsico\",\"F\\u00edsico\",\"F\\u00edsico\",\"F\\u00edsico\",\"F\\u00edsico\",\"F\\u00edsico\",\"F\\u00edsico\",\"F\\u00edsico\",\"Electr\\u00f3nico\",\"F\\u00edsico\",\"F\\u00edsico\",\"F\\u00edsico\",\"F\\u00edsico\",\"F\\u00edsico\",\"F\\u00edsico\",\"F\\u00edsico\",\"F\\u00edsico\",\"F\\u00edsico\",\"F\\u00edsico\",\"F\\u00edsico\",\"F\\u00edsico\",\"F\\u00edsico\",\"F\\u00edsico\",\"F\\u00edsico\",\"F\\u00edsico\",\"F\\u00edsico\",\"F\\u00edsico\",\"F\\u00edsico\",\"F\\u00edsico\",\"F\\u00edsico\",\"F\\u00edsico\",\"F\\u00edsico\",\"F\\u00edsico\",\"F\\u00edsico\",\"F\\u00edsico\",\"F\\u00edsico\",\"F\\u00edsico\",\"Fisico/Electr\\u00f3nico\",\"F\\u00edsico\",\"F\\u00edsico\",\"F\\u00edsico\",\"Electr\\u00f3nico\",\"Electr\\u00f3nico\",\"Electr\\u00f3nico\",\"Electr\\u00f3nico\",\"Electr\\u00f3nico\",\"Electr\\u00f3nico\",\"Electr\\u00f3nico\",\"Electr\\u00f3nico\",\"Electr\\u00f3nico\",\"Electr\\u00f3nico\",\"Electr\\u00f3nico\",\"Electr\\u00f3nico\",\"Electr\\u00f3nico\",\"Electr\\u00f3nico\",\"Electr\\u00f3nico\",\"F\\u00edsico\",\"F\\u00edsico\",\"F\\u00edsico\",\"F\\u00edsico\",\"N/A\",\"N/A\",\"N/A\",\"F\\u00edsico\",\"F\\u00edsico\",\"F\\u00edsico\",\"N/A\",\"N/A\"],\"xaxis\":\"x\",\"y\":[1,2,3,4,5,6,7,8,9,10,11,12,13,14,15,16,17,18,19,20,21,22,23,24,25,26,27,28,29,30,31,32,33,34,35,36,37,38,39,40,41,42,43,44,45,46,47,48,49,50,51,52,53,54,55,56,57,58,59,60,61,62,63,64,65,66,67,68,69,70,71,72,73,74,75,76,77,78,79,80,81,82,83,84,85,86,87,88,89,90,91,92,93,94,95,96,97,98,99,100,101,102,103,104,105,106,107,108,109,110,111,112,113,114,115,116,117,118,119,120,121,122,123,124,125,126,127,128,129,130,132,133,134,135,136,137,138,139,140,141,142,143,144,145,146,147,148,149,150,151,152,153,154,155,156,157,158,159,160,161,162,163,164,165,166,167,168,169,170,171,172,173,174,175,176,177,178,179,180,181,182,183,184,185,186,187,188,189,190,191,192,193,194,195,196,197,198,199,200,201,202,203,204,205,206,207,208,209,210,211,212,213,214,215,216,217,218,219,220,221,222,304,305,306,307,308,309,310,311,312,313,314,315,316,317,318,319,320,557,559,645,646,647,693,694,710,711,712,713,714,715,716,717,718,727,737,738,739,740,741,742,743,744,745,746,747,748,749,785,786,787,788,789,790,791,792,793,794,795,796,797,798,834,894,895,896,897,898,899,900,901,902,903,904,905,906,907,908,909,910,911,946,947,948,949,27,28,29,30,31,32,35,36],\"yaxis\":\"y\",\"type\":\"bar\"},{\"alignmentgroup\":\"True\",\"hovertemplate\":\"idioma=Espa\\u00f1ol<br>medio_de_conservaci_n_y_o=%{x}<br>no=%{y}<extra></extra>\",\"legendgroup\":\"Espa\\u00f1ol\",\"marker\":{\"color\":\"#EF553B\",\"pattern\":{\"shape\":\"\"}},\"name\":\"Espa\\u00f1ol\",\"offsetgroup\":\"Espa\\u00f1ol\",\"orientation\":\"v\",\"showlegend\":true,\"textposition\":\"auto\",\"x\":[\"F\\u00edsico\",\"Electr\\u00f3nico\",\"Electr\\u00f3nico\",\"Electr\\u00f3nico\",\"Electr\\u00f3nico\",\"Electr\\u00f3nico\",\"Electr\\u00f3nico\",\"Electr\\u00f3nico\",\"Electr\\u00f3nico\",\"Electr\\u00f3nico\",\"Electr\\u00f3nico\",\"Electr\\u00f3nico\",\"Electr\\u00f3nico\",\"Electr\\u00f3nico\",\"Electr\\u00f3nico\",\"Electr\\u00f3nico\",\"Electr\\u00f3nico\",\"Electr\\u00f3nico\",\"Electr\\u00f3nico\",\"Electr\\u00f3nico\",\"Electr\\u00f3nico\",\"Electr\\u00f3nico\",\"Electr\\u00f3nico\",\"Electr\\u00f3nico\",\"Electr\\u00f3nico\",\"Electr\\u00f3nico\",\"Electr\\u00f3nico\",\"Electr\\u00f3nico\",\"Electr\\u00f3nico\",\"Electr\\u00f3nico\",\"Electr\\u00f3nico\",\"Electr\\u00f3nico\",\"Electr\\u00f3nico\",\"Electr\\u00f3nico\",\"Electr\\u00f3nico\",\"Electr\\u00f3nico\",\"Electr\\u00f3nico\",\"Electr\\u00f3nico\",\"Electr\\u00f3nico\",\"Electr\\u00f3nico\",\"Electr\\u00f3nico\",\"Electr\\u00f3nico\",\"Electr\\u00f3nico\",\"Electr\\u00f3nico\",\"Electr\\u00f3nico\",\"Electr\\u00f3nico\",\"Electr\\u00f3nico\",\"Electr\\u00f3nico\",\"Electr\\u00f3nico\",\"Electr\\u00f3nico\",\"Electr\\u00f3nico\",\"Electr\\u00f3nico\",\"Fisico/Electr\\u00f3nico\",\"Electr\\u00f3nico\",\"Electr\\u00f3nico\",\"Electr\\u00f3nico\",\"Electr\\u00f3nico\",\"Electr\\u00f3nico\",\"Electr\\u00f3nico\",\"Electr\\u00f3nico\",\"Electr\\u00f3nico\",\"Electr\\u00f3nico\",\"Electr\\u00f3nico\",\"Electr\\u00f3nico\",\"Electr\\u00f3nico\",\"Electr\\u00f3nico\",\"Electr\\u00f3nico\",\"Electr\\u00f3nico\",\"Electr\\u00f3nico\",\"Electr\\u00f3nico\",\"Electr\\u00f3nico\",\"Electr\\u00f3nico\",\"Electr\\u00f3nico\",\"Electr\\u00f3nico\",\"Electr\\u00f3nico\",\"Electr\\u00f3nico\",\"Electr\\u00f3nico\",\"Electr\\u00f3nico\",\"Electr\\u00f3nico\",\"Electr\\u00f3nico\",\"Electr\\u00f3nico\",\"Electr\\u00f3nico\",\"Electr\\u00f3nico\",\"Electr\\u00f3nico\",\"Electr\\u00f3nico\",\"Electr\\u00f3nico\",\"Electr\\u00f3nico\",\"Electr\\u00f3nico\",\"Electr\\u00f3nico\",\"Electr\\u00f3nico\",\"Electr\\u00f3nico\",\"Electr\\u00f3nico\",\"Electr\\u00f3nico\",\"Electr\\u00f3nico\",\"Electr\\u00f3nico\",\"Electr\\u00f3nico\",\"Electr\\u00f3nico\",\"Electr\\u00f3nico\",\"Electr\\u00f3nico\",\"Electr\\u00f3nico\",\"Electr\\u00f3nico\",\"Electr\\u00f3nico\",\"Electr\\u00f3nico\",\"Electr\\u00f3nico\",\"Electr\\u00f3nico\",\"Electr\\u00f3nico\",\"Electr\\u00f3nico\",\"Electr\\u00f3nico\",\"Electr\\u00f3nico\",\"Electr\\u00f3nico\",\"Electr\\u00f3nico\",\"Electr\\u00f3nico\",\"Electr\\u00f3nico\",\"Electr\\u00f3nico\",\"Electr\\u00f3nico\",\"Electr\\u00f3nico\",\"Electr\\u00f3nico\",\"Electr\\u00f3nico\",\"Electr\\u00f3nico\",\"Electr\\u00f3nico\",\"Electr\\u00f3nico\",\"Fisico/Electr\\u00f3nico\",\"Fisico/Electr\\u00f3nico\",\"Fisico/Electr\\u00f3nico\",\"Fisico/Electr\\u00f3nico\",\"Fisico/Electr\\u00f3nico\",\"Fisico/Electr\\u00f3nico\",\"Electr\\u00f3nico\",\"Electr\\u00f3nico\",\"Electr\\u00f3nico\",\"Electr\\u00f3nico\",\"Electr\\u00f3nico\",\"Electr\\u00f3nico\",\"Electr\\u00f3nico\",\"Electr\\u00f3nico\",\"Electr\\u00f3nico\",\"Electr\\u00f3nico\",\"Electr\\u00f3nico\",\"Electr\\u00f3nico\",\"Electr\\u00f3nico\",\"Electr\\u00f3nico\",\"Electr\\u00f3nico\",\"Electr\\u00f3nico\",\"Electr\\u00f3nico\",\"Electr\\u00f3nico\",\"Electr\\u00f3nico\",\"Electr\\u00f3nico\",\"Electr\\u00f3nico\",\"Electr\\u00f3nico\",\"Electr\\u00f3nico\",\"Electr\\u00f3nico\",\"Electr\\u00f3nico\",\"Electr\\u00f3nico\",\"Electr\\u00f3nico\",\"Electr\\u00f3nico\",\"Electr\\u00f3nico\",\"Electr\\u00f3nico\",\"Electr\\u00f3nico\",\"Fisico/Electr\\u00f3nico\",\"Electr\\u00f3nico\",\"Electr\\u00f3nico\",\"Electr\\u00f3nico\",\"Electr\\u00f3nico\",\"Electr\\u00f3nico\",\"Electr\\u00f3nico\",\"Electr\\u00f3nico\",\"Electr\\u00f3nico\",\"Electr\\u00f3nico\",\"Electr\\u00f3nico\",\"Electr\\u00f3nico\",\"Electr\\u00f3nico\",\"Electr\\u00f3nico\",\"Electr\\u00f3nico\",\"Electr\\u00f3nico\",\"Electr\\u00f3nico\",\"Electr\\u00f3nico\",\"Electr\\u00f3nico\",\"Electr\\u00f3nico\",\"Electr\\u00f3nico\",\"Electr\\u00f3nico\",\"Electr\\u00f3nico\",\"Electr\\u00f3nico\",\"Electr\\u00f3nico\",\"Electr\\u00f3nico\",\"Electr\\u00f3nico\",\"Electr\\u00f3nico\",\"Electr\\u00f3nico\",\"Electr\\u00f3nico\",\"Electr\\u00f3nico\",\"Electr\\u00f3nico\",\"Electr\\u00f3nico\",\"Electr\\u00f3nico\",\"Electr\\u00f3nico\",\"Electr\\u00f3nico\",\"Electr\\u00f3nico\",\"Electr\\u00f3nico\",\"Electr\\u00f3nico\",\"Electr\\u00f3nico\",\"Electr\\u00f3nico\",\"Electr\\u00f3nico\",\"Electr\\u00f3nico\",\"Electr\\u00f3nico\",\"Electr\\u00f3nico\",\"Electr\\u00f3nico\",\"Electr\\u00f3nico\",\"Electr\\u00f3nico\",\"Fisico/Electr\\u00f3nico\",\"Electr\\u00f3nico\",\"Electr\\u00f3nico\",\"Electr\\u00f3nico\",\"Electr\\u00f3nico\",\"Fisico/Electr\\u00f3nico\",\"Fisico/Electr\\u00f3nico\",\"Fisico/Electr\\u00f3nico\",\"Fisico/Electr\\u00f3nico\",\"Fisico/Electr\\u00f3nico\",\"Fisico/Electr\\u00f3nico\",\"Fisico/Electr\\u00f3nico\",\"Fisico/Electr\\u00f3nico\",\"Fisico/Electr\\u00f3nico\",\"Electr\\u00f3nico\",\"Fisico/Electr\\u00f3nico\",\"Fisico/Electr\\u00f3nico\",\"Electr\\u00f3nico\",\"Electr\\u00f3nico\",\"Electr\\u00f3nico\",\"Electr\\u00f3nico\",\"Electr\\u00f3nico\",\"Electr\\u00f3nico\",\"Electr\\u00f3nico\",\"Electr\\u00f3nico\",\"Electr\\u00f3nico\",\"Electr\\u00f3nico\",\"Electr\\u00f3nico\",\"Electr\\u00f3nico\",\"Electr\\u00f3nico\",\"Electr\\u00f3nico\",\"F\\u00edsico\",\"F\\u00edsico\",\"F\\u00edsico\",\"F\\u00edsico\",\"F\\u00edsico\",\"F\\u00edsico\",\"F\\u00edsico\",\"F\\u00edsico\",\"F\\u00edsico\",\"F\\u00edsico\",\"F\\u00edsico\",\"Electr\\u00f3nico\",\"Electr\\u00f3nico\",\"Electr\\u00f3nico\",\"Electr\\u00f3nico\",\"Electr\\u00f3nico\",\"Electr\\u00f3nico\",\"Electr\\u00f3nico\",\"Electr\\u00f3nico\",\"Electr\\u00f3nico\",\"Electr\\u00f3nico\",\"Electr\\u00f3nico\",\"Electr\\u00f3nico\",\"Electr\\u00f3nico\",\"Electr\\u00f3nico\",\"Electr\\u00f3nico\",\"Electr\\u00f3nico\",\"Electr\\u00f3nico\",\"Electr\\u00f3nico\",\"Electr\\u00f3nico\",\"Electr\\u00f3nico\",\"Fisico/Electr\\u00f3nico\",\"Electr\\u00f3nico\",\"Electr\\u00f3nico\",\"Electr\\u00f3nico\",\"Electr\\u00f3nico\",\"Electr\\u00f3nico\",\"Electr\\u00f3nico\",\"Electr\\u00f3nico\",\"Electr\\u00f3nico\",\"Electr\\u00f3nico\",\"Electr\\u00f3nico\",\"Electr\\u00f3nico\",\"Electr\\u00f3nico\",\"Electr\\u00f3nico\",\"Electr\\u00f3nico\",\"Electr\\u00f3nico\",\"Electr\\u00f3nico\",\"F\\u00edsico\",\"Electr\\u00f3nico\",\"Electr\\u00f3nico\",\"Electr\\u00f3nico\",\"Electr\\u00f3nico\",\"Electr\\u00f3nico\",\"F\\u00edsico\",\"Electr\\u00f3nico\",\"Electr\\u00f3nico\",\"Electr\\u00f3nico\",\"Electr\\u00f3nico\",\"Electr\\u00f3nico\",\"Electr\\u00f3nico\",\"Electr\\u00f3nico\",\"Electr\\u00f3nico\",\"Electr\\u00f3nico\",\"Electr\\u00f3nico\",\"Electr\\u00f3nico\",\"Electr\\u00f3nico\",\"Electr\\u00f3nico\",\"Electr\\u00f3nico\",\"Electr\\u00f3nico\",\"Electr\\u00f3nico\",\"Electr\\u00f3nico\",\"Electr\\u00f3nico\",\"Electr\\u00f3nico\",\"Electr\\u00f3nico\",\"Electr\\u00f3nico\",\"Electr\\u00f3nico\",\"Electr\\u00f3nico\",\"Electr\\u00f3nico\",\"Electr\\u00f3nico\",\"Electr\\u00f3nico\",\"Electr\\u00f3nico\",\"Electr\\u00f3nico\",\"Electr\\u00f3nico\",\"Electr\\u00f3nico\",\"Electr\\u00f3nico\",\"Electr\\u00f3nico\",\"Electr\\u00f3nico\",\"Electr\\u00f3nico\",\"Electr\\u00f3nico\",\"Electr\\u00f3nico\",\"Electr\\u00f3nico\",\"Electr\\u00f3nico\",\"Electr\\u00f3nico\",\"Electr\\u00f3nico\",\"Electr\\u00f3nico\",\"Electr\\u00f3nico\",\"Electr\\u00f3nico\",\"Electr\\u00f3nico\",\"Electr\\u00f3nico\",\"Electr\\u00f3nico\",\"Electr\\u00f3nico\",\"Electr\\u00f3nico\",\"Electr\\u00f3nico\",\"Electr\\u00f3nico\",\"Electr\\u00f3nico\",\"Electr\\u00f3nico\",\"Electr\\u00f3nico\",\"Electr\\u00f3nico\",\"Electr\\u00f3nico\",\"Electr\\u00f3nico\",\"Electr\\u00f3nico\",\"Electr\\u00f3nico\",\"Electr\\u00f3nico\",\"Electr\\u00f3nico\",\"Electr\\u00f3nico\",\"Electr\\u00f3nico\",\"Electr\\u00f3nico\",\"Electr\\u00f3nico\",\"Electr\\u00f3nico\",\"Electr\\u00f3nico\",\"Electr\\u00f3nico\",\"Electr\\u00f3nico\",\"Electr\\u00f3nico\",\"Electr\\u00f3nico\",\"Electr\\u00f3nico\",\"Electr\\u00f3nico\",\"Electr\\u00f3nico\",\"Electr\\u00f3nico\",\"Electr\\u00f3nico\",\"Electr\\u00f3nico\",\"Electr\\u00f3nico\",\"Electr\\u00f3nico\",\"Electr\\u00f3nico\",\"Electr\\u00f3nico\",\"Electr\\u00f3nico\",\"Electr\\u00f3nico\",\"Electr\\u00f3nico\",\"Electr\\u00f3nico\",\"Electr\\u00f3nico\",\"Electr\\u00f3nico\",\"Electr\\u00f3nico\",\"Electr\\u00f3nico\",\"Electr\\u00f3nico\",\"Electr\\u00f3nico\",\"Electr\\u00f3nico\",\"Electr\\u00f3nico\",\"Electr\\u00f3nico\",\"Electr\\u00f3nico\",\"Electr\\u00f3nico\",\"Electr\\u00f3nico\",\"Electr\\u00f3nico\",\"Electr\\u00f3nico\",\"Electr\\u00f3nico\",\"Electr\\u00f3nico\",\"Electr\\u00f3nico\",\"Electr\\u00f3nico\",\"Electr\\u00f3nico\",\"Electr\\u00f3nico\",\"Electr\\u00f3nico\",\"Electr\\u00f3nico\",\"Electr\\u00f3nico\",\"Electr\\u00f3nico\",\"Electr\\u00f3nico\",\"Electr\\u00f3nico\",\"Electr\\u00f3nico\",\"Electr\\u00f3nico\",\"Electr\\u00f3nico\",\"Electr\\u00f3nico\",\"Electr\\u00f3nico\",\"Electr\\u00f3nico\",\"Electr\\u00f3nico\",\"Electr\\u00f3nico\",\"Electr\\u00f3nico\",\"Electr\\u00f3nico\",\"Electr\\u00f3nico\",\"Electr\\u00f3nico\",\"Electr\\u00f3nico\",\"Electr\\u00f3nico\",\"Electr\\u00f3nico\",\"Electr\\u00f3nico\",\"Electr\\u00f3nico\",\"Electr\\u00f3nico\",\"Electr\\u00f3nico\",\"Electr\\u00f3nico\",\"Electr\\u00f3nico\",\"Electr\\u00f3nico\",\"Electr\\u00f3nico\",\"Electr\\u00f3nico\",\"Electr\\u00f3nico\",\"Electr\\u00f3nico\",\"Electr\\u00f3nico\",\"Electr\\u00f3nico\",\"Electr\\u00f3nico\",\"Electr\\u00f3nico\",\"Electr\\u00f3nico\",\"Electr\\u00f3nico\",\"Electr\\u00f3nico\",\"Electr\\u00f3nico\",\"Electr\\u00f3nico\",\"Electr\\u00f3nico\",\"Electr\\u00f3nico\",\"Electr\\u00f3nico\",\"F\\u00edsico\",\"Electr\\u00f3nico\",\"Electr\\u00f3nico\",\"Electr\\u00f3nico\",\"Electr\\u00f3nico\",\"Electr\\u00f3nico\",\"Electr\\u00f3nico\",\"Electr\\u00f3nico\",\"Electr\\u00f3nico\",\"Electr\\u00f3nico\",\"Electr\\u00f3nico\",\"Electr\\u00f3nico\",\"Electr\\u00f3nico\",\"Electr\\u00f3nico\",\"Electr\\u00f3nico\",\"Fisico/Electr\\u00f3nico\",\"Electr\\u00f3nico\",\"Electr\\u00f3nico\",\"Electr\\u00f3nico\",\"Electr\\u00f3nico\",\"Electr\\u00f3nico\",\"Electr\\u00f3nico\",\"Electr\\u00f3nico\",\"Electr\\u00f3nico\",\"Fisico/Electr\\u00f3nico\",\"Electr\\u00f3nico\",\"Electr\\u00f3nico\",\"Electr\\u00f3nico\",\"Electr\\u00f3nico\",\"Electr\\u00f3nico\",\"Electr\\u00f3nico\",\"Electr\\u00f3nico\",\"Fisico/Electr\\u00f3nico\",\"Fisico/Electr\\u00f3nico\",\"Fisico/Electr\\u00f3nico\",\"Fisico/Electr\\u00f3nico\",\"Fisico/Electr\\u00f3nico\",\"Fisico/Electr\\u00f3nico\",\"Fisico/Electr\\u00f3nico\",\"Fisico/Electr\\u00f3nico\",\"Electr\\u00f3nico\",\"Fisico/Electr\\u00f3nico\",\"Fisico/Electr\\u00f3nico\",\"Electr\\u00f3nico\",\"Electr\\u00f3nico\",\"Fisico/Electr\\u00f3nico\",\"Fisico/Electr\\u00f3nico\",\"Fisico/Electr\\u00f3nico\",\"Fisico/Electr\\u00f3nico\",\"Fisico/Electr\\u00f3nico\",\"Fisico/Electr\\u00f3nico\",\"Fisico/Electr\\u00f3nico\",\"Fisico/Electr\\u00f3nico\",\"Fisico/Electr\\u00f3nico\",\"Fisico/Electr\\u00f3nico\",\"F\\u00edsico\",\"Fisico/Electr\\u00f3nico\",\"Fisico/Electr\\u00f3nico\",\"Fisico/Electr\\u00f3nico\",\"Fisico/Electr\\u00f3nico\",\"Electr\\u00f3nico\",\"Electr\\u00f3nico\",\"Electr\\u00f3nico\",\"Fisico/Electr\\u00f3nico\",\"Fisico/Electr\\u00f3nico\",\"Electr\\u00f3nico\",\"Electr\\u00f3nico\",\"Fisico/Electr\\u00f3nico\",\"Fisico/Electr\\u00f3nico\",\"Fisico/Electr\\u00f3nico\",\"Electr\\u00f3nico\",\"Electr\\u00f3nico\",\"Electr\\u00f3nico\",\"Fisico/Electr\\u00f3nico\",\"Electr\\u00f3nico\",\"Electr\\u00f3nico\",\"Electr\\u00f3nico\",\"Electr\\u00f3nico\",\"Electr\\u00f3nico\",\"Electr\\u00f3nico\",\"Electr\\u00f3nico\",\"Electr\\u00f3nico\",\"Electr\\u00f3nico\",\"Electr\\u00f3nico\",\"Fisico/Electr\\u00f3nico\",\"Fisico/Electr\\u00f3nico\",\"Fisico/Electr\\u00f3nico\",\"Fisico/Electr\\u00f3nico\",\"Electr\\u00f3nico\",\"Electr\\u00f3nico\",\"Fisico/Electr\\u00f3nico\",\"Fisico/Electr\\u00f3nico\",\"Fisico/Electr\\u00f3nico\",\"Electr\\u00f3nico\",\"Electr\\u00f3nico\",\"Electr\\u00f3nico\",\"Fisico/Electr\\u00f3nico\",\"Fisico/Electr\\u00f3nico\",\"Electr\\u00f3nico\",\"Electr\\u00f3nico\",\"Electr\\u00f3nico\",\"Electr\\u00f3nico\",\"Electr\\u00f3nico\",\"Electr\\u00f3nico\",\"Electr\\u00f3nico\",\"Electr\\u00f3nico\",\"Electr\\u00f3nico\",\"Electr\\u00f3nico\",\"Fisico/Electr\\u00f3nico\",\"Electr\\u00f3nico\",\"Fisico/Electr\\u00f3nico\",\"Electr\\u00f3nico\",\"Electr\\u00f3nico\",\"Electr\\u00f3nico\",\"Electr\\u00f3nico\",\"Electr\\u00f3nico\",\"Electr\\u00f3nico\",\"Electr\\u00f3nico\",\"Electr\\u00f3nico\",\"Electr\\u00f3nico\",\"Electr\\u00f3nico\",\"Electr\\u00f3nico\",\"Electr\\u00f3nico\",\"Electr\\u00f3nico\",\"Electr\\u00f3nico\",\"Electr\\u00f3nico\",\"Electr\\u00f3nico\",\"Electr\\u00f3nico\",\"Electr\\u00f3nico\",\"Electr\\u00f3nico\",\"Electr\\u00f3nico\",\"Electr\\u00f3nico\",\"Electr\\u00f3nico\",\"Electr\\u00f3nico\",\"Electr\\u00f3nico\",\"Electr\\u00f3nico\",\"Fisico/Electr\\u00f3nico\",\"Fisico/Electr\\u00f3nico\",\"Electr\\u00f3nico\",\"Electr\\u00f3nico\",\"Electr\\u00f3nico\",\"Electr\\u00f3nico\",\"Electr\\u00f3nico\",\"Electr\\u00f3nico\",\"Electr\\u00f3nico\",\"Electr\\u00f3nico\",\"Electr\\u00f3nico\",\"Electr\\u00f3nico\",\"Electr\\u00f3nico\",\"Electr\\u00f3nico\",\"Fisico/Electr\\u00f3nico\",\"Electr\\u00f3nico\",\"Fisico/Electr\\u00f3nico\",\"Electr\\u00f3nico\",\"Electr\\u00f3nico\",\"Electr\\u00f3nico\",\"Electr\\u00f3nico\",\"Electr\\u00f3nico\",\"Electr\\u00f3nico\",\"Electr\\u00f3nico\",\"Electr\\u00f3nico\",\"Electr\\u00f3nico\",\"Electr\\u00f3nico\",\"Electr\\u00f3nico\",\"Electr\\u00f3nico\",\"Electr\\u00f3nico\",\"Electr\\u00f3nico\",\"Electr\\u00f3nico\",\"Electr\\u00f3nico\",\"Electr\\u00f3nico\",\"Electr\\u00f3nico\",\"Electr\\u00f3nico\",\"Electr\\u00f3nico\",\"Electr\\u00f3nico\",\"Electr\\u00f3nico\",\"Electr\\u00f3nico\",\"Electr\\u00f3nico\",\"Electr\\u00f3nico\",\"Electr\\u00f3nico\",\"Electr\\u00f3nico\",\"Electr\\u00f3nico\",\"Electr\\u00f3nico\",\"Electr\\u00f3nico\",\"Electr\\u00f3nico\",\"Electr\\u00f3nico\",\"Electr\\u00f3nico\",\"Electr\\u00f3nico\",\"Electr\\u00f3nico\",\"F\\u00edsico\",\"Fisico/Electr\\u00f3nico\",\"Fisico/Electr\\u00f3nico\",\"F\\u00edsico\",\"F\\u00edsico\",\"F\\u00edsico\",\"Fisico/Electr\\u00f3nico\",\"Fisico/Electr\\u00f3nico\",\"F\\u00edsico\",\"Fisico/Electr\\u00f3nico\",\"F\\u00edsico\",\"Fisico/Electr\\u00f3nico\",\"Fisico/Electr\\u00f3nico\",\"F\\u00edsico\",\"Electr\\u00f3nico\",\"Electr\\u00f3nico\",\"Fisico/Electr\\u00f3nico\",\"Fisico/Electr\\u00f3nico\",\"Fisico/Electr\\u00f3nico\",\"Electr\\u00f3nico\",\"Electr\\u00f3nico\",\"Electr\\u00f3nico\",\"Electr\\u00f3nico\",\"Electr\\u00f3nico\",\"Electr\\u00f3nico\",\"Electr\\u00f3nico\",\"Electr\\u00f3nico\",\"Electr\\u00f3nico\",\"Electr\\u00f3nico\",\"Electr\\u00f3nico\",\"Electr\\u00f3nico\",\"Electr\\u00f3nico\",\"Electr\\u00f3nico\",\"Electr\\u00f3nico\",\"Electr\\u00f3nico\",\"Electr\\u00f3nico\",\"Electr\\u00f3nico\",\"Electr\\u00f3nico\",\"Electr\\u00f3nico\",\"Electr\\u00f3nico\",\"Electr\\u00f3nico\",\"Electr\\u00f3nico\",\"Electr\\u00f3nico\",\"Electr\\u00f3nico\",\"Electr\\u00f3nico\",\"Electr\\u00f3nico\",\"Electr\\u00f3nico\",\"Electr\\u00f3nico\",\"Electr\\u00f3nico\",\"Electr\\u00f3nico\",\"Electr\\u00f3nico\",\"Electr\\u00f3nico\",\"Electr\\u00f3nico\",\"Fisico/Electr\\u00f3nico\",\"Electr\\u00f3nico\",\"Fisico/Electr\\u00f3nico\",\"Fisico/Electr\\u00f3nico\",\"Electr\\u00f3nico\",\"Electr\\u00f3nico\"],\"xaxis\":\"x\",\"y\":[131,223,224,225,226,227,228,229,230,231,232,233,234,235,236,237,238,239,240,241,242,243,244,245,246,247,248,249,250,251,252,253,254,255,256,257,258,259,260,261,262,263,264,265,266,267,268,269,270,271,272,273,274,275,276,277,278,279,280,281,282,283,284,285,286,287,288,289,290,291,292,293,294,295,296,297,298,299,300,301,302,303,321,322,323,324,325,326,327,328,329,330,331,332,333,334,335,336,337,338,339,340,341,342,343,344,345,346,347,348,349,350,351,352,353,354,355,356,357,358,359,360,361,362,363,364,365,366,367,368,369,370,371,372,373,374,375,376,377,378,379,380,381,382,383,384,385,386,387,388,389,390,391,392,393,394,395,396,397,398,399,400,401,402,403,404,405,406,407,408,409,410,411,412,413,414,415,416,417,418,419,420,421,422,423,424,425,426,427,428,429,430,431,432,433,434,435,436,437,438,439,440,441,442,443,444,445,446,447,448,449,450,451,452,453,454,455,456,457,458,459,460,461,462,463,464,465,466,467,468,469,470,471,472,473,474,475,476,477,478,479,480,481,482,483,484,485,486,487,488,489,490,491,492,493,494,495,496,497,498,499,500,501,502,503,504,505,506,507,508,509,510,511,512,513,514,515,516,517,518,519,520,521,522,523,524,525,526,527,528,529,530,531,532,533,534,535,536,537,538,539,540,541,542,543,544,545,546,547,548,549,550,551,552,553,554,555,556,558,560,561,562,563,564,565,566,567,568,569,570,571,572,573,574,575,576,577,578,579,580,581,582,583,584,585,586,587,588,589,590,591,592,593,594,595,596,597,598,599,600,601,602,603,604,605,606,607,608,609,610,611,612,613,614,615,616,617,618,619,620,621,622,623,624,625,626,627,628,629,630,631,632,633,634,635,636,637,638,639,640,641,642,643,644,648,649,650,651,652,653,654,655,656,657,658,659,660,661,662,663,664,665,666,667,668,669,670,671,672,673,674,675,676,677,678,679,680,681,682,683,684,685,686,687,688,689,690,691,692,695,696,697,698,699,700,701,702,703,704,705,706,707,708,709,719,720,721,722,723,724,725,726,728,729,730,731,732,733,734,735,736,750,751,752,753,754,755,756,757,758,759,760,761,762,763,764,765,766,767,768,769,770,771,772,773,774,775,776,777,778,779,780,781,782,783,784,799,800,801,802,803,804,805,806,807,808,809,810,811,812,813,814,815,816,817,818,819,820,821,822,823,824,825,826,827,828,829,830,831,832,833,835,836,837,838,839,840,841,842,843,844,845,846,847,848,849,850,851,852,853,854,855,856,857,858,859,860,861,862,863,864,865,866,867,868,869,870,871,872,873,874,875,876,877,878,879,880,881,882,883,884,885,886,887,888,889,890,891,892,893,912,913,914,915,916,917,918,919,920,921,922,923,924,925,926,927,928,929,930,931,932,933,934,935,936,937,938,939,940,941,942,943,944,945,950,951,952,1,2,3,4,5,6,7,8,9,10,11,12,13,14,15,16,17,18,19,20,21,22,23,24,25,26,33,34,37,38,39,40,41,42,43,44,45,46,47,48],\"yaxis\":\"y\",\"type\":\"bar\"}],                        {\"template\":{\"data\":{\"bar\":[{\"error_x\":{\"color\":\"#2a3f5f\"},\"error_y\":{\"color\":\"#2a3f5f\"},\"marker\":{\"line\":{\"color\":\"#E5ECF6\",\"width\":0.5},\"pattern\":{\"fillmode\":\"overlay\",\"size\":10,\"solidity\":0.2}},\"type\":\"bar\"}],\"barpolar\":[{\"marker\":{\"line\":{\"color\":\"#E5ECF6\",\"width\":0.5},\"pattern\":{\"fillmode\":\"overlay\",\"size\":10,\"solidity\":0.2}},\"type\":\"barpolar\"}],\"carpet\":[{\"aaxis\":{\"endlinecolor\":\"#2a3f5f\",\"gridcolor\":\"white\",\"linecolor\":\"white\",\"minorgridcolor\":\"white\",\"startlinecolor\":\"#2a3f5f\"},\"baxis\":{\"endlinecolor\":\"#2a3f5f\",\"gridcolor\":\"white\",\"linecolor\":\"white\",\"minorgridcolor\":\"white\",\"startlinecolor\":\"#2a3f5f\"},\"type\":\"carpet\"}],\"choropleth\":[{\"colorbar\":{\"outlinewidth\":0,\"ticks\":\"\"},\"type\":\"choropleth\"}],\"contour\":[{\"colorbar\":{\"outlinewidth\":0,\"ticks\":\"\"},\"colorscale\":[[0.0,\"#0d0887\"],[0.1111111111111111,\"#46039f\"],[0.2222222222222222,\"#7201a8\"],[0.3333333333333333,\"#9c179e\"],[0.4444444444444444,\"#bd3786\"],[0.5555555555555556,\"#d8576b\"],[0.6666666666666666,\"#ed7953\"],[0.7777777777777778,\"#fb9f3a\"],[0.8888888888888888,\"#fdca26\"],[1.0,\"#f0f921\"]],\"type\":\"contour\"}],\"contourcarpet\":[{\"colorbar\":{\"outlinewidth\":0,\"ticks\":\"\"},\"type\":\"contourcarpet\"}],\"heatmap\":[{\"colorbar\":{\"outlinewidth\":0,\"ticks\":\"\"},\"colorscale\":[[0.0,\"#0d0887\"],[0.1111111111111111,\"#46039f\"],[0.2222222222222222,\"#7201a8\"],[0.3333333333333333,\"#9c179e\"],[0.4444444444444444,\"#bd3786\"],[0.5555555555555556,\"#d8576b\"],[0.6666666666666666,\"#ed7953\"],[0.7777777777777778,\"#fb9f3a\"],[0.8888888888888888,\"#fdca26\"],[1.0,\"#f0f921\"]],\"type\":\"heatmap\"}],\"heatmapgl\":[{\"colorbar\":{\"outlinewidth\":0,\"ticks\":\"\"},\"colorscale\":[[0.0,\"#0d0887\"],[0.1111111111111111,\"#46039f\"],[0.2222222222222222,\"#7201a8\"],[0.3333333333333333,\"#9c179e\"],[0.4444444444444444,\"#bd3786\"],[0.5555555555555556,\"#d8576b\"],[0.6666666666666666,\"#ed7953\"],[0.7777777777777778,\"#fb9f3a\"],[0.8888888888888888,\"#fdca26\"],[1.0,\"#f0f921\"]],\"type\":\"heatmapgl\"}],\"histogram\":[{\"marker\":{\"pattern\":{\"fillmode\":\"overlay\",\"size\":10,\"solidity\":0.2}},\"type\":\"histogram\"}],\"histogram2d\":[{\"colorbar\":{\"outlinewidth\":0,\"ticks\":\"\"},\"colorscale\":[[0.0,\"#0d0887\"],[0.1111111111111111,\"#46039f\"],[0.2222222222222222,\"#7201a8\"],[0.3333333333333333,\"#9c179e\"],[0.4444444444444444,\"#bd3786\"],[0.5555555555555556,\"#d8576b\"],[0.6666666666666666,\"#ed7953\"],[0.7777777777777778,\"#fb9f3a\"],[0.8888888888888888,\"#fdca26\"],[1.0,\"#f0f921\"]],\"type\":\"histogram2d\"}],\"histogram2dcontour\":[{\"colorbar\":{\"outlinewidth\":0,\"ticks\":\"\"},\"colorscale\":[[0.0,\"#0d0887\"],[0.1111111111111111,\"#46039f\"],[0.2222222222222222,\"#7201a8\"],[0.3333333333333333,\"#9c179e\"],[0.4444444444444444,\"#bd3786\"],[0.5555555555555556,\"#d8576b\"],[0.6666666666666666,\"#ed7953\"],[0.7777777777777778,\"#fb9f3a\"],[0.8888888888888888,\"#fdca26\"],[1.0,\"#f0f921\"]],\"type\":\"histogram2dcontour\"}],\"mesh3d\":[{\"colorbar\":{\"outlinewidth\":0,\"ticks\":\"\"},\"type\":\"mesh3d\"}],\"parcoords\":[{\"line\":{\"colorbar\":{\"outlinewidth\":0,\"ticks\":\"\"}},\"type\":\"parcoords\"}],\"pie\":[{\"automargin\":true,\"type\":\"pie\"}],\"scatter\":[{\"marker\":{\"colorbar\":{\"outlinewidth\":0,\"ticks\":\"\"}},\"type\":\"scatter\"}],\"scatter3d\":[{\"line\":{\"colorbar\":{\"outlinewidth\":0,\"ticks\":\"\"}},\"marker\":{\"colorbar\":{\"outlinewidth\":0,\"ticks\":\"\"}},\"type\":\"scatter3d\"}],\"scattercarpet\":[{\"marker\":{\"colorbar\":{\"outlinewidth\":0,\"ticks\":\"\"}},\"type\":\"scattercarpet\"}],\"scattergeo\":[{\"marker\":{\"colorbar\":{\"outlinewidth\":0,\"ticks\":\"\"}},\"type\":\"scattergeo\"}],\"scattergl\":[{\"marker\":{\"colorbar\":{\"outlinewidth\":0,\"ticks\":\"\"}},\"type\":\"scattergl\"}],\"scattermapbox\":[{\"marker\":{\"colorbar\":{\"outlinewidth\":0,\"ticks\":\"\"}},\"type\":\"scattermapbox\"}],\"scatterpolar\":[{\"marker\":{\"colorbar\":{\"outlinewidth\":0,\"ticks\":\"\"}},\"type\":\"scatterpolar\"}],\"scatterpolargl\":[{\"marker\":{\"colorbar\":{\"outlinewidth\":0,\"ticks\":\"\"}},\"type\":\"scatterpolargl\"}],\"scatterternary\":[{\"marker\":{\"colorbar\":{\"outlinewidth\":0,\"ticks\":\"\"}},\"type\":\"scatterternary\"}],\"surface\":[{\"colorbar\":{\"outlinewidth\":0,\"ticks\":\"\"},\"colorscale\":[[0.0,\"#0d0887\"],[0.1111111111111111,\"#46039f\"],[0.2222222222222222,\"#7201a8\"],[0.3333333333333333,\"#9c179e\"],[0.4444444444444444,\"#bd3786\"],[0.5555555555555556,\"#d8576b\"],[0.6666666666666666,\"#ed7953\"],[0.7777777777777778,\"#fb9f3a\"],[0.8888888888888888,\"#fdca26\"],[1.0,\"#f0f921\"]],\"type\":\"surface\"}],\"table\":[{\"cells\":{\"fill\":{\"color\":\"#EBF0F8\"},\"line\":{\"color\":\"white\"}},\"header\":{\"fill\":{\"color\":\"#C8D4E3\"},\"line\":{\"color\":\"white\"}},\"type\":\"table\"}]},\"layout\":{\"annotationdefaults\":{\"arrowcolor\":\"#2a3f5f\",\"arrowhead\":0,\"arrowwidth\":1},\"autotypenumbers\":\"strict\",\"coloraxis\":{\"colorbar\":{\"outlinewidth\":0,\"ticks\":\"\"}},\"colorscale\":{\"diverging\":[[0,\"#8e0152\"],[0.1,\"#c51b7d\"],[0.2,\"#de77ae\"],[0.3,\"#f1b6da\"],[0.4,\"#fde0ef\"],[0.5,\"#f7f7f7\"],[0.6,\"#e6f5d0\"],[0.7,\"#b8e186\"],[0.8,\"#7fbc41\"],[0.9,\"#4d9221\"],[1,\"#276419\"]],\"sequential\":[[0.0,\"#0d0887\"],[0.1111111111111111,\"#46039f\"],[0.2222222222222222,\"#7201a8\"],[0.3333333333333333,\"#9c179e\"],[0.4444444444444444,\"#bd3786\"],[0.5555555555555556,\"#d8576b\"],[0.6666666666666666,\"#ed7953\"],[0.7777777777777778,\"#fb9f3a\"],[0.8888888888888888,\"#fdca26\"],[1.0,\"#f0f921\"]],\"sequentialminus\":[[0.0,\"#0d0887\"],[0.1111111111111111,\"#46039f\"],[0.2222222222222222,\"#7201a8\"],[0.3333333333333333,\"#9c179e\"],[0.4444444444444444,\"#bd3786\"],[0.5555555555555556,\"#d8576b\"],[0.6666666666666666,\"#ed7953\"],[0.7777777777777778,\"#fb9f3a\"],[0.8888888888888888,\"#fdca26\"],[1.0,\"#f0f921\"]]},\"colorway\":[\"#636efa\",\"#EF553B\",\"#00cc96\",\"#ab63fa\",\"#FFA15A\",\"#19d3f3\",\"#FF6692\",\"#B6E880\",\"#FF97FF\",\"#FECB52\"],\"font\":{\"color\":\"#2a3f5f\"},\"geo\":{\"bgcolor\":\"white\",\"lakecolor\":\"white\",\"landcolor\":\"#E5ECF6\",\"showlakes\":true,\"showland\":true,\"subunitcolor\":\"white\"},\"hoverlabel\":{\"align\":\"left\"},\"hovermode\":\"closest\",\"mapbox\":{\"style\":\"light\"},\"paper_bgcolor\":\"white\",\"plot_bgcolor\":\"#E5ECF6\",\"polar\":{\"angularaxis\":{\"gridcolor\":\"white\",\"linecolor\":\"white\",\"ticks\":\"\"},\"bgcolor\":\"#E5ECF6\",\"radialaxis\":{\"gridcolor\":\"white\",\"linecolor\":\"white\",\"ticks\":\"\"}},\"scene\":{\"xaxis\":{\"backgroundcolor\":\"#E5ECF6\",\"gridcolor\":\"white\",\"gridwidth\":2,\"linecolor\":\"white\",\"showbackground\":true,\"ticks\":\"\",\"zerolinecolor\":\"white\"},\"yaxis\":{\"backgroundcolor\":\"#E5ECF6\",\"gridcolor\":\"white\",\"gridwidth\":2,\"linecolor\":\"white\",\"showbackground\":true,\"ticks\":\"\",\"zerolinecolor\":\"white\"},\"zaxis\":{\"backgroundcolor\":\"#E5ECF6\",\"gridcolor\":\"white\",\"gridwidth\":2,\"linecolor\":\"white\",\"showbackground\":true,\"ticks\":\"\",\"zerolinecolor\":\"white\"}},\"shapedefaults\":{\"line\":{\"color\":\"#2a3f5f\"}},\"ternary\":{\"aaxis\":{\"gridcolor\":\"white\",\"linecolor\":\"white\",\"ticks\":\"\"},\"baxis\":{\"gridcolor\":\"white\",\"linecolor\":\"white\",\"ticks\":\"\"},\"bgcolor\":\"#E5ECF6\",\"caxis\":{\"gridcolor\":\"white\",\"linecolor\":\"white\",\"ticks\":\"\"}},\"title\":{\"x\":0.05},\"xaxis\":{\"automargin\":true,\"gridcolor\":\"white\",\"linecolor\":\"white\",\"ticks\":\"\",\"title\":{\"standoff\":15},\"zerolinecolor\":\"white\",\"zerolinewidth\":2},\"yaxis\":{\"automargin\":true,\"gridcolor\":\"white\",\"linecolor\":\"white\",\"ticks\":\"\",\"title\":{\"standoff\":15},\"zerolinecolor\":\"white\",\"zerolinewidth\":2}}},\"xaxis\":{\"anchor\":\"y\",\"domain\":[0.0,1.0],\"title\":{\"text\":\"medio_de_conservaci_n_y_o\"}},\"yaxis\":{\"anchor\":\"x\",\"domain\":[0.0,1.0],\"title\":{\"text\":\"no\"}},\"legend\":{\"title\":{\"text\":\"idioma\"},\"tracegroupgap\":0},\"margin\":{\"t\":60},\"barmode\":\"relative\"},                        {\"responsive\": true}                    ).then(function(){\n",
              "                            \n",
              "var gd = document.getElementById('20c8af7d-46ac-4435-9e61-6d5b4eacdd8b');\n",
              "var x = new MutationObserver(function (mutations, observer) {{\n",
              "        var display = window.getComputedStyle(gd).display;\n",
              "        if (!display || display === 'none') {{\n",
              "            console.log([gd, 'removed!']);\n",
              "            Plotly.purge(gd);\n",
              "            observer.disconnect();\n",
              "        }}\n",
              "}});\n",
              "\n",
              "// Listen for the removal of the full notebook cells\n",
              "var notebookContainer = gd.closest('#notebook-container');\n",
              "if (notebookContainer) {{\n",
              "    x.observe(notebookContainer, {childList: true});\n",
              "}}\n",
              "\n",
              "// Listen for the clearing of the current output cell\n",
              "var outputEl = gd.closest('.output');\n",
              "if (outputEl) {{\n",
              "    x.observe(outputEl, {childList: true});\n",
              "}}\n",
              "\n",
              "                        })                };                            </script>        </div>\n",
              "</body>\n",
              "</html>"
            ]
          },
          "metadata": {}
        }
      ]
    },
    {
      "cell_type": "code",
      "source": [
        "px.sunburst(data,path =['medio_de_conservaci_n_y_o','formato'], values='no',title='Formatos de entrega')"
      ],
      "metadata": {
        "colab": {
          "base_uri": "https://localhost:8080/",
          "height": 542
        },
        "id": "hkFHJy5D1mA5",
        "outputId": "33ff7abb-8392-4cb0-c2c4-f0ed68bb229f"
      },
      "execution_count": 265,
      "outputs": [
        {
          "output_type": "display_data",
          "data": {
            "text/html": [
              "<html>\n",
              "<head><meta charset=\"utf-8\" /></head>\n",
              "<body>\n",
              "    <div>            <script src=\"https://cdnjs.cloudflare.com/ajax/libs/mathjax/2.7.5/MathJax.js?config=TeX-AMS-MML_SVG\"></script><script type=\"text/javascript\">if (window.MathJax) {MathJax.Hub.Config({SVG: {font: \"STIX-Web\"}});}</script>                <script type=\"text/javascript\">window.PlotlyConfig = {MathJaxConfig: 'local'};</script>\n",
              "        <script src=\"https://cdn.plot.ly/plotly-2.8.3.min.js\"></script>                <div id=\"0fb3b5a1-bc13-404e-a930-4393bd5c77bb\" class=\"plotly-graph-div\" style=\"height:525px; width:100%;\"></div>            <script type=\"text/javascript\">                                    window.PLOTLYENV=window.PLOTLYENV || {};                                    if (document.getElementById(\"0fb3b5a1-bc13-404e-a930-4393bd5c77bb\")) {                    Plotly.newPlot(                        \"0fb3b5a1-bc13-404e-a930-4393bd5c77bb\",                        [{\"branchvalues\":\"total\",\"domain\":{\"x\":[0.0,1.0],\"y\":[0.0,1.0]},\"hovertemplate\":\"labels=%{label}<br>no=%{value}<br>parent=%{parent}<br>id=%{id}<extra></extra>\",\"ids\":[\"Electr\\u00f3nico/Audio (wav,mid,mp3,ogg)\",\"Electr\\u00f3nico/Bases de datos (SQL, Oracle, Mysql,mdb,otros)\",\"Fisico/Electr\\u00f3nico/Bases de datos (SQL, Oracle, Mysql,mdb,otros)\",\"Electr\\u00f3nico/Documento f\\u00edsico\",\"Fisico/Electr\\u00f3nico/Documento f\\u00edsico\",\"Electr\\u00f3nico/Documentos gr\\u00e1ficos (jpg,gif,png,tif-tiff,ttf)\",\"Electr\\u00f3nico/Hoja de calculo(xls,xlt,csv )\",\"Electr\\u00f3nico/Hoja de c\\u00e1lculo (xls,xlt,csv)\",\"Fisico/Electr\\u00f3nico/Hoja de c\\u00e1lculo (xls,xlt,csv)\",\"F\\u00edsico/Hoja de c\\u00e1lculo (xls,xlt,csv)\",\"Electr\\u00f3nico/N/A\",\"Fisico/Electr\\u00f3nico/N/A\",\"F\\u00edsico/N/A\",\"N/A/N/A\",\"Electr\\u00f3nico/Otro\",\"Fisico/Electr\\u00f3nico/Otro\",\"F\\u00edsico/Otro\",\"N/A/Otro\",\"Electr\\u00f3nico/PHP\",\"Electr\\u00f3nico/Texto (doc,txt,rtf,pdf)\",\"Fisico/Electr\\u00f3nico/Texto (doc,txt,rtf,pdf)\",\"F\\u00edsico/Texto (doc,txt,rtf,pdf)\",\"Electr\\u00f3nico/Texto(doc,txt,rtf,pdf)\",\"Fisico/Electr\\u00f3nico/Texto(doc,txt,rtf,pdf)\",\"Electr\\u00f3nico/Video (mpeg,avi,mov)\",\"Electr\\u00f3nico/V\\u00eddeo (Avi, Mp4, mpeg,mov)\",\"F\\u00edsico/otro\",\"Electr\\u00f3nico\",\"Fisico/Electr\\u00f3nico\",\"F\\u00edsico\",\"N/A\"],\"labels\":[\"Audio (wav,mid,mp3,ogg)\",\"Bases de datos (SQL, Oracle, Mysql,mdb,otros)\",\"Bases de datos (SQL, Oracle, Mysql,mdb,otros)\",\"Documento f\\u00edsico\",\"Documento f\\u00edsico\",\"Documentos gr\\u00e1ficos (jpg,gif,png,tif-tiff,ttf)\",\"Hoja de calculo(xls,xlt,csv )\",\"Hoja de c\\u00e1lculo (xls,xlt,csv)\",\"Hoja de c\\u00e1lculo (xls,xlt,csv)\",\"Hoja de c\\u00e1lculo (xls,xlt,csv)\",\"N/A\",\"N/A\",\"N/A\",\"N/A\",\"Otro\",\"Otro\",\"Otro\",\"Otro\",\"PHP\",\"Texto (doc,txt,rtf,pdf)\",\"Texto (doc,txt,rtf,pdf)\",\"Texto (doc,txt,rtf,pdf)\",\"Texto(doc,txt,rtf,pdf)\",\"Texto(doc,txt,rtf,pdf)\",\"Video (mpeg,avi,mov)\",\"V\\u00eddeo (Avi, Mp4, mpeg,mov)\",\"otro\",\"Electr\\u00f3nico\",\"Fisico/Electr\\u00f3nico\",\"F\\u00edsico\",\"N/A\"],\"name\":\"\",\"parents\":[\"Electr\\u00f3nico\",\"Electr\\u00f3nico\",\"Fisico/Electr\\u00f3nico\",\"Electr\\u00f3nico\",\"Fisico/Electr\\u00f3nico\",\"Electr\\u00f3nico\",\"Electr\\u00f3nico\",\"Electr\\u00f3nico\",\"Fisico/Electr\\u00f3nico\",\"F\\u00edsico\",\"Electr\\u00f3nico\",\"Fisico/Electr\\u00f3nico\",\"F\\u00edsico\",\"N/A\",\"Electr\\u00f3nico\",\"Fisico/Electr\\u00f3nico\",\"F\\u00edsico\",\"N/A\",\"Electr\\u00f3nico\",\"Electr\\u00f3nico\",\"Fisico/Electr\\u00f3nico\",\"F\\u00edsico\",\"Electr\\u00f3nico\",\"Fisico/Electr\\u00f3nico\",\"Electr\\u00f3nico\",\"Electr\\u00f3nico\",\"F\\u00edsico\",\"\",\"\",\"\",\"\"],\"values\":[806,37832,1750,42,88,2011,303,79322,7174,1863,9494,834,3187,71,68874,1589,60693,84,1,127602,44235,5565,381,46,845,19,93,327532,55716,71401,155],\"type\":\"sunburst\"}],                        {\"template\":{\"data\":{\"bar\":[{\"error_x\":{\"color\":\"#2a3f5f\"},\"error_y\":{\"color\":\"#2a3f5f\"},\"marker\":{\"line\":{\"color\":\"#E5ECF6\",\"width\":0.5},\"pattern\":{\"fillmode\":\"overlay\",\"size\":10,\"solidity\":0.2}},\"type\":\"bar\"}],\"barpolar\":[{\"marker\":{\"line\":{\"color\":\"#E5ECF6\",\"width\":0.5},\"pattern\":{\"fillmode\":\"overlay\",\"size\":10,\"solidity\":0.2}},\"type\":\"barpolar\"}],\"carpet\":[{\"aaxis\":{\"endlinecolor\":\"#2a3f5f\",\"gridcolor\":\"white\",\"linecolor\":\"white\",\"minorgridcolor\":\"white\",\"startlinecolor\":\"#2a3f5f\"},\"baxis\":{\"endlinecolor\":\"#2a3f5f\",\"gridcolor\":\"white\",\"linecolor\":\"white\",\"minorgridcolor\":\"white\",\"startlinecolor\":\"#2a3f5f\"},\"type\":\"carpet\"}],\"choropleth\":[{\"colorbar\":{\"outlinewidth\":0,\"ticks\":\"\"},\"type\":\"choropleth\"}],\"contour\":[{\"colorbar\":{\"outlinewidth\":0,\"ticks\":\"\"},\"colorscale\":[[0.0,\"#0d0887\"],[0.1111111111111111,\"#46039f\"],[0.2222222222222222,\"#7201a8\"],[0.3333333333333333,\"#9c179e\"],[0.4444444444444444,\"#bd3786\"],[0.5555555555555556,\"#d8576b\"],[0.6666666666666666,\"#ed7953\"],[0.7777777777777778,\"#fb9f3a\"],[0.8888888888888888,\"#fdca26\"],[1.0,\"#f0f921\"]],\"type\":\"contour\"}],\"contourcarpet\":[{\"colorbar\":{\"outlinewidth\":0,\"ticks\":\"\"},\"type\":\"contourcarpet\"}],\"heatmap\":[{\"colorbar\":{\"outlinewidth\":0,\"ticks\":\"\"},\"colorscale\":[[0.0,\"#0d0887\"],[0.1111111111111111,\"#46039f\"],[0.2222222222222222,\"#7201a8\"],[0.3333333333333333,\"#9c179e\"],[0.4444444444444444,\"#bd3786\"],[0.5555555555555556,\"#d8576b\"],[0.6666666666666666,\"#ed7953\"],[0.7777777777777778,\"#fb9f3a\"],[0.8888888888888888,\"#fdca26\"],[1.0,\"#f0f921\"]],\"type\":\"heatmap\"}],\"heatmapgl\":[{\"colorbar\":{\"outlinewidth\":0,\"ticks\":\"\"},\"colorscale\":[[0.0,\"#0d0887\"],[0.1111111111111111,\"#46039f\"],[0.2222222222222222,\"#7201a8\"],[0.3333333333333333,\"#9c179e\"],[0.4444444444444444,\"#bd3786\"],[0.5555555555555556,\"#d8576b\"],[0.6666666666666666,\"#ed7953\"],[0.7777777777777778,\"#fb9f3a\"],[0.8888888888888888,\"#fdca26\"],[1.0,\"#f0f921\"]],\"type\":\"heatmapgl\"}],\"histogram\":[{\"marker\":{\"pattern\":{\"fillmode\":\"overlay\",\"size\":10,\"solidity\":0.2}},\"type\":\"histogram\"}],\"histogram2d\":[{\"colorbar\":{\"outlinewidth\":0,\"ticks\":\"\"},\"colorscale\":[[0.0,\"#0d0887\"],[0.1111111111111111,\"#46039f\"],[0.2222222222222222,\"#7201a8\"],[0.3333333333333333,\"#9c179e\"],[0.4444444444444444,\"#bd3786\"],[0.5555555555555556,\"#d8576b\"],[0.6666666666666666,\"#ed7953\"],[0.7777777777777778,\"#fb9f3a\"],[0.8888888888888888,\"#fdca26\"],[1.0,\"#f0f921\"]],\"type\":\"histogram2d\"}],\"histogram2dcontour\":[{\"colorbar\":{\"outlinewidth\":0,\"ticks\":\"\"},\"colorscale\":[[0.0,\"#0d0887\"],[0.1111111111111111,\"#46039f\"],[0.2222222222222222,\"#7201a8\"],[0.3333333333333333,\"#9c179e\"],[0.4444444444444444,\"#bd3786\"],[0.5555555555555556,\"#d8576b\"],[0.6666666666666666,\"#ed7953\"],[0.7777777777777778,\"#fb9f3a\"],[0.8888888888888888,\"#fdca26\"],[1.0,\"#f0f921\"]],\"type\":\"histogram2dcontour\"}],\"mesh3d\":[{\"colorbar\":{\"outlinewidth\":0,\"ticks\":\"\"},\"type\":\"mesh3d\"}],\"parcoords\":[{\"line\":{\"colorbar\":{\"outlinewidth\":0,\"ticks\":\"\"}},\"type\":\"parcoords\"}],\"pie\":[{\"automargin\":true,\"type\":\"pie\"}],\"scatter\":[{\"marker\":{\"colorbar\":{\"outlinewidth\":0,\"ticks\":\"\"}},\"type\":\"scatter\"}],\"scatter3d\":[{\"line\":{\"colorbar\":{\"outlinewidth\":0,\"ticks\":\"\"}},\"marker\":{\"colorbar\":{\"outlinewidth\":0,\"ticks\":\"\"}},\"type\":\"scatter3d\"}],\"scattercarpet\":[{\"marker\":{\"colorbar\":{\"outlinewidth\":0,\"ticks\":\"\"}},\"type\":\"scattercarpet\"}],\"scattergeo\":[{\"marker\":{\"colorbar\":{\"outlinewidth\":0,\"ticks\":\"\"}},\"type\":\"scattergeo\"}],\"scattergl\":[{\"marker\":{\"colorbar\":{\"outlinewidth\":0,\"ticks\":\"\"}},\"type\":\"scattergl\"}],\"scattermapbox\":[{\"marker\":{\"colorbar\":{\"outlinewidth\":0,\"ticks\":\"\"}},\"type\":\"scattermapbox\"}],\"scatterpolar\":[{\"marker\":{\"colorbar\":{\"outlinewidth\":0,\"ticks\":\"\"}},\"type\":\"scatterpolar\"}],\"scatterpolargl\":[{\"marker\":{\"colorbar\":{\"outlinewidth\":0,\"ticks\":\"\"}},\"type\":\"scatterpolargl\"}],\"scatterternary\":[{\"marker\":{\"colorbar\":{\"outlinewidth\":0,\"ticks\":\"\"}},\"type\":\"scatterternary\"}],\"surface\":[{\"colorbar\":{\"outlinewidth\":0,\"ticks\":\"\"},\"colorscale\":[[0.0,\"#0d0887\"],[0.1111111111111111,\"#46039f\"],[0.2222222222222222,\"#7201a8\"],[0.3333333333333333,\"#9c179e\"],[0.4444444444444444,\"#bd3786\"],[0.5555555555555556,\"#d8576b\"],[0.6666666666666666,\"#ed7953\"],[0.7777777777777778,\"#fb9f3a\"],[0.8888888888888888,\"#fdca26\"],[1.0,\"#f0f921\"]],\"type\":\"surface\"}],\"table\":[{\"cells\":{\"fill\":{\"color\":\"#EBF0F8\"},\"line\":{\"color\":\"white\"}},\"header\":{\"fill\":{\"color\":\"#C8D4E3\"},\"line\":{\"color\":\"white\"}},\"type\":\"table\"}]},\"layout\":{\"annotationdefaults\":{\"arrowcolor\":\"#2a3f5f\",\"arrowhead\":0,\"arrowwidth\":1},\"autotypenumbers\":\"strict\",\"coloraxis\":{\"colorbar\":{\"outlinewidth\":0,\"ticks\":\"\"}},\"colorscale\":{\"diverging\":[[0,\"#8e0152\"],[0.1,\"#c51b7d\"],[0.2,\"#de77ae\"],[0.3,\"#f1b6da\"],[0.4,\"#fde0ef\"],[0.5,\"#f7f7f7\"],[0.6,\"#e6f5d0\"],[0.7,\"#b8e186\"],[0.8,\"#7fbc41\"],[0.9,\"#4d9221\"],[1,\"#276419\"]],\"sequential\":[[0.0,\"#0d0887\"],[0.1111111111111111,\"#46039f\"],[0.2222222222222222,\"#7201a8\"],[0.3333333333333333,\"#9c179e\"],[0.4444444444444444,\"#bd3786\"],[0.5555555555555556,\"#d8576b\"],[0.6666666666666666,\"#ed7953\"],[0.7777777777777778,\"#fb9f3a\"],[0.8888888888888888,\"#fdca26\"],[1.0,\"#f0f921\"]],\"sequentialminus\":[[0.0,\"#0d0887\"],[0.1111111111111111,\"#46039f\"],[0.2222222222222222,\"#7201a8\"],[0.3333333333333333,\"#9c179e\"],[0.4444444444444444,\"#bd3786\"],[0.5555555555555556,\"#d8576b\"],[0.6666666666666666,\"#ed7953\"],[0.7777777777777778,\"#fb9f3a\"],[0.8888888888888888,\"#fdca26\"],[1.0,\"#f0f921\"]]},\"colorway\":[\"#636efa\",\"#EF553B\",\"#00cc96\",\"#ab63fa\",\"#FFA15A\",\"#19d3f3\",\"#FF6692\",\"#B6E880\",\"#FF97FF\",\"#FECB52\"],\"font\":{\"color\":\"#2a3f5f\"},\"geo\":{\"bgcolor\":\"white\",\"lakecolor\":\"white\",\"landcolor\":\"#E5ECF6\",\"showlakes\":true,\"showland\":true,\"subunitcolor\":\"white\"},\"hoverlabel\":{\"align\":\"left\"},\"hovermode\":\"closest\",\"mapbox\":{\"style\":\"light\"},\"paper_bgcolor\":\"white\",\"plot_bgcolor\":\"#E5ECF6\",\"polar\":{\"angularaxis\":{\"gridcolor\":\"white\",\"linecolor\":\"white\",\"ticks\":\"\"},\"bgcolor\":\"#E5ECF6\",\"radialaxis\":{\"gridcolor\":\"white\",\"linecolor\":\"white\",\"ticks\":\"\"}},\"scene\":{\"xaxis\":{\"backgroundcolor\":\"#E5ECF6\",\"gridcolor\":\"white\",\"gridwidth\":2,\"linecolor\":\"white\",\"showbackground\":true,\"ticks\":\"\",\"zerolinecolor\":\"white\"},\"yaxis\":{\"backgroundcolor\":\"#E5ECF6\",\"gridcolor\":\"white\",\"gridwidth\":2,\"linecolor\":\"white\",\"showbackground\":true,\"ticks\":\"\",\"zerolinecolor\":\"white\"},\"zaxis\":{\"backgroundcolor\":\"#E5ECF6\",\"gridcolor\":\"white\",\"gridwidth\":2,\"linecolor\":\"white\",\"showbackground\":true,\"ticks\":\"\",\"zerolinecolor\":\"white\"}},\"shapedefaults\":{\"line\":{\"color\":\"#2a3f5f\"}},\"ternary\":{\"aaxis\":{\"gridcolor\":\"white\",\"linecolor\":\"white\",\"ticks\":\"\"},\"baxis\":{\"gridcolor\":\"white\",\"linecolor\":\"white\",\"ticks\":\"\"},\"bgcolor\":\"#E5ECF6\",\"caxis\":{\"gridcolor\":\"white\",\"linecolor\":\"white\",\"ticks\":\"\"}},\"title\":{\"x\":0.05},\"xaxis\":{\"automargin\":true,\"gridcolor\":\"white\",\"linecolor\":\"white\",\"ticks\":\"\",\"title\":{\"standoff\":15},\"zerolinecolor\":\"white\",\"zerolinewidth\":2},\"yaxis\":{\"automargin\":true,\"gridcolor\":\"white\",\"linecolor\":\"white\",\"ticks\":\"\",\"title\":{\"standoff\":15},\"zerolinecolor\":\"white\",\"zerolinewidth\":2}}},\"legend\":{\"tracegroupgap\":0},\"title\":{\"text\":\"Formatos de entrega\"}},                        {\"responsive\": true}                    ).then(function(){\n",
              "                            \n",
              "var gd = document.getElementById('0fb3b5a1-bc13-404e-a930-4393bd5c77bb');\n",
              "var x = new MutationObserver(function (mutations, observer) {{\n",
              "        var display = window.getComputedStyle(gd).display;\n",
              "        if (!display || display === 'none') {{\n",
              "            console.log([gd, 'removed!']);\n",
              "            Plotly.purge(gd);\n",
              "            observer.disconnect();\n",
              "        }}\n",
              "}});\n",
              "\n",
              "// Listen for the removal of the full notebook cells\n",
              "var notebookContainer = gd.closest('#notebook-container');\n",
              "if (notebookContainer) {{\n",
              "    x.observe(notebookContainer, {childList: true});\n",
              "}}\n",
              "\n",
              "// Listen for the clearing of the current output cell\n",
              "var outputEl = gd.closest('.output');\n",
              "if (outputEl) {{\n",
              "    x.observe(outputEl, {childList: true});\n",
              "}}\n",
              "\n",
              "                        })                };                            </script>        </div>\n",
              "</body>\n",
              "</html>"
            ]
          },
          "metadata": {}
        }
      ]
    },
    {
      "cell_type": "code",
      "source": [
        "!pip install squarify"
      ],
      "metadata": {
        "colab": {
          "base_uri": "https://localhost:8080/"
        },
        "id": "hPu4ygtn_heb",
        "outputId": "b485366e-1b31-4aed-d17b-dbc4810d23c6"
      },
      "execution_count": 266,
      "outputs": [
        {
          "output_type": "stream",
          "name": "stdout",
          "text": [
            "Looking in indexes: https://pypi.org/simple, https://us-python.pkg.dev/colab-wheels/public/simple/\n",
            "Requirement already satisfied: squarify in /usr/local/lib/python3.8/dist-packages (0.4.3)\n"
          ]
        }
      ]
    },
    {
      "cell_type": "code",
      "source": [
        "año = data.groupby('año')['no'].count().sort_values(ascending=True).nlargest(9)\n",
        "año"
      ],
      "metadata": {
        "colab": {
          "base_uri": "https://localhost:8080/"
        },
        "id": "9bjNVbnq3XUR",
        "outputId": "92aca62a-64da-4bba-a786-c8a20ffaf768"
      },
      "execution_count": 267,
      "outputs": [
        {
          "output_type": "execute_result",
          "data": {
            "text/plain": [
              "año\n",
              "0       636\n",
              "2018    135\n",
              "2019     67\n",
              "2015     47\n",
              "2021     42\n",
              "2012     26\n",
              "2020     12\n",
              "2022     12\n",
              "2016     11\n",
              "Name: no, dtype: int64"
            ]
          },
          "metadata": {},
          "execution_count": 267
        }
      ]
    },
    {
      "cell_type": "code",
      "source": [
        "import squarify\n",
        "\n",
        "sizes=año.values \n",
        "label=año.index \n",
        "\n",
        "plt.figure(figsize=(18,10))\n",
        "squarify.plot(sizes=sizes, label=label, color=sns.color_palette('Spectral'), alpha=0.8)\n",
        "plt.title('Años de inscripcion ')\n",
        "plt.show()\n"
      ],
      "metadata": {
        "colab": {
          "base_uri": "https://localhost:8080/",
          "height": 653
        },
        "id": "xkHn9-lW68NC",
        "outputId": "7a9e44dc-5e63-40bb-d2e1-fd3cafb413a8"
      },
      "execution_count": 289,
      "outputs": [
        {
          "output_type": "display_data",
          "data": {
            "text/plain": [
              "<Figure size 1296x720 with 1 Axes>"
            ],
            "image/png": "[encoded data removed]"
          },
          "metadata": {}
        }
      ]
    },
    {
      "cell_type": "code",
      "source": [
        "plt.figure(figsize=(10,10))\n",
        "plt.boxplot(data['no'], patch_artist=True)\n",
        "plt.title('Boxplot de la columna numero', fontsize=15)\n",
        "plt.ylim(top=1000)\n",
        "plt.show()"
      ],
      "metadata": {
        "colab": {
          "base_uri": "https://localhost:8080/",
          "height": 650
        },
        "id": "zkIHE-LGC1cG",
        "outputId": "d25808d8-3be5-4819-86e9-e40eff17994a"
      },
      "execution_count": 299,
      "outputs": [
        {
          "output_type": "display_data",
          "data": {
            "text/plain": [
              "<Figure size 720x720 with 1 Axes>"
            ],
            "image/png": "[encoded data removed]"
          },
          "metadata": {}
        }
      ]
    },
    {
      "cell_type": "code",
      "source": [
        "frecuencia = data.groupby('frecuencia_de_actualizaci')['no'].count().sort_values(ascending=False).nlargest(9)\n",
        "frecuencia"
      ],
      "metadata": {
        "colab": {
          "base_uri": "https://localhost:8080/"
        },
        "id": "TNBKWvQkRwSL",
        "outputId": "480622e8-7903-46dc-96da-b5f0b5c56708"
      },
      "execution_count": 313,
      "outputs": [
        {
          "output_type": "execute_result",
          "data": {
            "text/plain": [
              "frecuencia_de_actualizaci\n",
              "Según requerimiento    528\n",
              "Diaria                 144\n",
              "N/A                     99\n",
              "Mensual                 92\n",
              "Anual                   43\n",
              "según requerimiento     30\n",
              "Según Requerimiento     23\n",
              "Semanal                 20\n",
              "Trimestral               9\n",
              "Name: no, dtype: int64"
            ]
          },
          "metadata": {},
          "execution_count": 313
        }
      ]
    },
    {
      "cell_type": "code",
      "source": [
        "colors = ['#6f2da8','#4f86f7', '#fc5a8d', '#F4BB44','#FAFA33', '#ffe5b4', '#c6952b','#c1b094', '#d1e231' ]\n",
        "explode = [0.1,0,0,0,0,0,0,0,0]\n",
        "plt.figure(figsize=(10,10))\n",
        "plt.pie(x = frecuencia.values, labels=frecuencia.index, autopct='%1.1f%%', colors=colors,shadow=True, explode = explode )\n",
        "plt.title('Frecuencia de actaulizacion')\n",
        "plt.show()"
      ],
      "metadata": {
        "colab": {
          "base_uri": "https://localhost:8080/",
          "height": 635
        },
        "id": "j5NsziA8OqPN",
        "outputId": "cd5991a0-b6ef-48e2-8885-4b28da99dba4"
      },
      "execution_count": 317,
      "outputs": [
        {
          "output_type": "display_data",
          "data": {
            "text/plain": [
              "<Figure size 720x720 with 1 Axes>"
            ],
            "image/png": "[encoded data removed]"
          },
          "metadata": {}
        }
      ]
    },
    {
      "cell_type": "code",
      "source": [],
      "metadata": {
        "id": "CwYHrWeWRsDE"
      },
      "execution_count": null,
      "outputs": []
    }
  ]
}