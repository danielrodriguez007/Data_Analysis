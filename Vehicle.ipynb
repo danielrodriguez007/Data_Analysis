{
  "nbformat": 4,
  "nbformat_minor": 0,
  "metadata": {
    "colab": {
      "provenance": [],
      "authorship_tag": "ABX9TyNdg/TW969DhXLOhKe4cJE3",
      "include_colab_link": true
    },
    "kernelspec": {
      "name": "python3",
      "display_name": "Python 3"
    },
    "language_info": {
      "name": "python"
    }
  },
  "cells": [
    {
      "cell_type": "markdown",
      "metadata": {
        "id": "view-in-github",
        "colab_type": "text"
      },
      "source": [
        "<a href=\"https://colab.research.google.com/github/danielrodriguez007/Data_Analysis/blob/main/Vehicle.ipynb\" target=\"_parent\"><img src=\"https://colab.research.google.com/assets/colab-badge.svg\" alt=\"Open In Colab\"/></a>"
      ]
    },
    {
      "cell_type": "code",
      "execution_count": 48,
      "metadata": {
        "colab": {
          "base_uri": "https://localhost:8080/"
        },
        "id": "l0Y7vgaTXZZZ",
        "outputId": "097fbff0-f482-42ce-f61b-4cd320c5ac5a"
      },
      "outputs": [
        {
          "output_type": "stream",
          "name": "stdout",
          "text": [
            "Drive already mounted at /content/drive; to attempt to forcibly remount, call drive.mount(\"/content/drive\", force_remount=True).\n"
          ]
        }
      ],
      "source": [
        "from google.colab import drive\n",
        "drive.mount('/content/drive')"
      ]
    },
    {
      "cell_type": "code",
      "source": [
        "import os\n",
        "os.environ['KAGGLE_CONFIG_DIR'] = '/content/drive/MyDrive/Colab Notebooks/Kaggle'"
      ],
      "metadata": {
        "id": "DGW5rVQPYva3"
      },
      "execution_count": 49,
      "outputs": []
    },
    {
      "cell_type": "code",
      "source": [
        "!kaggle datasets download -d nehalbirla/vehicle-dataset-from-cardekho"
      ],
      "metadata": {
        "id": "prSBDh50Z4ob",
        "colab": {
          "base_uri": "https://localhost:8080/"
        },
        "outputId": "6bf63f3d-ad3e-4957-be11-5a317fc8bea0"
      },
      "execution_count": 50,
      "outputs": [
        {
          "output_type": "stream",
          "name": "stdout",
          "text": [
            "Downloading vehicle-dataset-from-cardekho.zip to /content\n",
            "\r  0% 0.00/292k [00:00<?, ?B/s]\n",
            "\r100% 292k/292k [00:00<00:00, 74.6MB/s]\n"
          ]
        }
      ]
    },
    {
      "cell_type": "code",
      "source": [
        "!unzip '/content/vehicle-dataset-from-cardekho.zip' && rm '/content/vehicle-dataset-from-cardekho.zip'"
      ],
      "metadata": {
        "id": "SeU-9SKwZ7ea",
        "colab": {
          "base_uri": "https://localhost:8080/"
        },
        "outputId": "cd6bded1-e1e6-472c-af35-412dd0860843"
      },
      "execution_count": 51,
      "outputs": [
        {
          "output_type": "stream",
          "name": "stdout",
          "text": [
            "Archive:  /content/vehicle-dataset-from-cardekho.zip\n",
            "  inflating: CAR DETAILS FROM CAR DEKHO.csv  \n",
            "  inflating: Car details v3.csv      \n",
            "  inflating: car data.csv            \n",
            "  inflating: car details v4.csv      \n"
          ]
        }
      ]
    },
    {
      "cell_type": "code",
      "source": [
        "import numpy as np\n",
        "import pandas as pd \n",
        "import matplotlib.pyplot as plt\n",
        "import seaborn as sns\n",
        "import plotly.express as px\n",
        "plt.style.use('fivethirtyeight')"
      ],
      "metadata": {
        "id": "Ed_yTCxaajYY"
      },
      "execution_count": 52,
      "outputs": []
    },
    {
      "cell_type": "code",
      "source": [
        "data = pd.read_csv('/content/drive/MyDrive/Colab Notebooks/2023/car data.csv')\n",
        "data.head(5)"
      ],
      "metadata": {
        "colab": {
          "base_uri": "https://localhost:8080/",
          "height": 206
        },
        "id": "yXSPuDs4a0rU",
        "outputId": "90b8e418-62e6-4f03-eaf1-ad4968a46dba"
      },
      "execution_count": 53,
      "outputs": [
        {
          "output_type": "execute_result",
          "data": {
            "text/plain": [
              "  Car_Name  Year  Selling_Price  Present_Price  Kms_Driven Fuel_Type  \\\n",
              "0     ritz  2014           3.35           5.59       27000    Petrol   \n",
              "1      sx4  2013           4.75           9.54       43000    Diesel   \n",
              "2     ciaz  2017           7.25           9.85        6900    Petrol   \n",
              "3  wagon r  2011           2.85           4.15        5200    Petrol   \n",
              "4    swift  2014           4.60           6.87       42450    Diesel   \n",
              "\n",
              "  Seller_Type Transmission  Owner  \n",
              "0      Dealer       Manual      0  \n",
              "1      Dealer       Manual      0  \n",
              "2      Dealer       Manual      0  \n",
              "3      Dealer       Manual      0  \n",
              "4      Dealer       Manual      0  "
            ],
            "text/html": [
              "\n",
              "  <div id=\"df-68abf9cf-219c-435b-b5ba-c86791d05a3e\">\n",
              "    <div class=\"colab-df-container\">\n",
              "      <div>\n",
              "<style scoped>\n",
              "    .dataframe tbody tr th:only-of-type {\n",
              "        vertical-align: middle;\n",
              "    }\n",
              "\n",
              "    .dataframe tbody tr th {\n",
              "        vertical-align: top;\n",
              "    }\n",
              "\n",
              "    .dataframe thead th {\n",
              "        text-align: right;\n",
              "    }\n",
              "</style>\n",
              "<table border=\"1\" class=\"dataframe\">\n",
              "  <thead>\n",
              "    <tr style=\"text-align: right;\">\n",
              "      <th></th>\n",
              "      <th>Car_Name</th>\n",
              "      <th>Year</th>\n",
              "      <th>Selling_Price</th>\n",
              "      <th>Present_Price</th>\n",
              "      <th>Kms_Driven</th>\n",
              "      <th>Fuel_Type</th>\n",
              "      <th>Seller_Type</th>\n",
              "      <th>Transmission</th>\n",
              "      <th>Owner</th>\n",
              "    </tr>\n",
              "  </thead>\n",
              "  <tbody>\n",
              "    <tr>\n",
              "      <th>0</th>\n",
              "      <td>ritz</td>\n",
              "      <td>2014</td>\n",
              "      <td>3.35</td>\n",
              "      <td>5.59</td>\n",
              "      <td>27000</td>\n",
              "      <td>Petrol</td>\n",
              "      <td>Dealer</td>\n",
              "      <td>Manual</td>\n",
              "      <td>0</td>\n",
              "    </tr>\n",
              "    <tr>\n",
              "      <th>1</th>\n",
              "      <td>sx4</td>\n",
              "      <td>2013</td>\n",
              "      <td>4.75</td>\n",
              "      <td>9.54</td>\n",
              "      <td>43000</td>\n",
              "      <td>Diesel</td>\n",
              "      <td>Dealer</td>\n",
              "      <td>Manual</td>\n",
              "      <td>0</td>\n",
              "    </tr>\n",
              "    <tr>\n",
              "      <th>2</th>\n",
              "      <td>ciaz</td>\n",
              "      <td>2017</td>\n",
              "      <td>7.25</td>\n",
              "      <td>9.85</td>\n",
              "      <td>6900</td>\n",
              "      <td>Petrol</td>\n",
              "      <td>Dealer</td>\n",
              "      <td>Manual</td>\n",
              "      <td>0</td>\n",
              "    </tr>\n",
              "    <tr>\n",
              "      <th>3</th>\n",
              "      <td>wagon r</td>\n",
              "      <td>2011</td>\n",
              "      <td>2.85</td>\n",
              "      <td>4.15</td>\n",
              "      <td>5200</td>\n",
              "      <td>Petrol</td>\n",
              "      <td>Dealer</td>\n",
              "      <td>Manual</td>\n",
              "      <td>0</td>\n",
              "    </tr>\n",
              "    <tr>\n",
              "      <th>4</th>\n",
              "      <td>swift</td>\n",
              "      <td>2014</td>\n",
              "      <td>4.60</td>\n",
              "      <td>6.87</td>\n",
              "      <td>42450</td>\n",
              "      <td>Diesel</td>\n",
              "      <td>Dealer</td>\n",
              "      <td>Manual</td>\n",
              "      <td>0</td>\n",
              "    </tr>\n",
              "  </tbody>\n",
              "</table>\n",
              "</div>\n",
              "      <button class=\"colab-df-convert\" onclick=\"convertToInteractive('df-68abf9cf-219c-435b-b5ba-c86791d05a3e')\"\n",
              "              title=\"Convert this dataframe to an interactive table.\"\n",
              "              style=\"display:none;\">\n",
              "        \n",
              "  <svg xmlns=\"http://www.w3.org/2000/svg\" height=\"24px\"viewBox=\"0 0 24 24\"\n",
              "       width=\"24px\">\n",
              "    <path d=\"M0 0h24v24H0V0z\" fill=\"none\"/>\n",
              "    <path d=\"M18.56 5.44l.94 2.06.94-2.06 2.06-.94-2.06-.94-.94-2.06-.94 2.06-2.06.94zm-11 1L8.5 8.5l.94-2.06 2.06-.94-2.06-.94L8.5 2.5l-.94 2.06-2.06.94zm10 10l.94 2.06.94-2.06 2.06-.94-2.06-.94-.94-2.06-.94 2.06-2.06.94z\"/><path d=\"M17.41 7.96l-1.37-1.37c-.4-.4-.92-.59-1.43-.59-.52 0-1.04.2-1.43.59L10.3 9.45l-7.72 7.72c-.78.78-.78 2.05 0 2.83L4 21.41c.39.39.9.59 1.41.59.51 0 1.02-.2 1.41-.59l7.78-7.78 2.81-2.81c.8-.78.8-2.07 0-2.86zM5.41 20L4 18.59l7.72-7.72 1.47 1.35L5.41 20z\"/>\n",
              "  </svg>\n",
              "      </button>\n",
              "      \n",
              "  <style>\n",
              "    .colab-df-container {\n",
              "      display:flex;\n",
              "      flex-wrap:wrap;\n",
              "      gap: 12px;\n",
              "    }\n",
              "\n",
              "    .colab-df-convert {\n",
              "      background-color: #E8F0FE;\n",
              "      border: none;\n",
              "      border-radius: 50%;\n",
              "      cursor: pointer;\n",
              "      display: none;\n",
              "      fill: #1967D2;\n",
              "      height: 32px;\n",
              "      padding: 0 0 0 0;\n",
              "      width: 32px;\n",
              "    }\n",
              "\n",
              "    .colab-df-convert:hover {\n",
              "      background-color: #E2EBFA;\n",
              "      box-shadow: 0px 1px 2px rgba(60, 64, 67, 0.3), 0px 1px 3px 1px rgba(60, 64, 67, 0.15);\n",
              "      fill: #174EA6;\n",
              "    }\n",
              "\n",
              "    [theme=dark] .colab-df-convert {\n",
              "      background-color: #3B4455;\n",
              "      fill: #D2E3FC;\n",
              "    }\n",
              "\n",
              "    [theme=dark] .colab-df-convert:hover {\n",
              "      background-color: #434B5C;\n",
              "      box-shadow: 0px 1px 3px 1px rgba(0, 0, 0, 0.15);\n",
              "      filter: drop-shadow(0px 1px 2px rgba(0, 0, 0, 0.3));\n",
              "      fill: #FFFFFF;\n",
              "    }\n",
              "  </style>\n",
              "\n",
              "      <script>\n",
              "        const buttonEl =\n",
              "          document.querySelector('#df-68abf9cf-219c-435b-b5ba-c86791d05a3e button.colab-df-convert');\n",
              "        buttonEl.style.display =\n",
              "          google.colab.kernel.accessAllowed ? 'block' : 'none';\n",
              "\n",
              "        async function convertToInteractive(key) {\n",
              "          const element = document.querySelector('#df-68abf9cf-219c-435b-b5ba-c86791d05a3e');\n",
              "          const dataTable =\n",
              "            await google.colab.kernel.invokeFunction('convertToInteractive',\n",
              "                                                     [key], {});\n",
              "          if (!dataTable) return;\n",
              "\n",
              "          const docLinkHtml = 'Like what you see? Visit the ' +\n",
              "            '<a target=\"_blank\" href=https://colab.research.google.com/notebooks/data_table.ipynb>data table notebook</a>'\n",
              "            + ' to learn more about interactive tables.';\n",
              "          element.innerHTML = '';\n",
              "          dataTable['output_type'] = 'display_data';\n",
              "          await google.colab.output.renderOutput(dataTable, element);\n",
              "          const docLink = document.createElement('div');\n",
              "          docLink.innerHTML = docLinkHtml;\n",
              "          element.appendChild(docLink);\n",
              "        }\n",
              "      </script>\n",
              "    </div>\n",
              "  </div>\n",
              "  "
            ]
          },
          "metadata": {},
          "execution_count": 53
        }
      ]
    },
    {
      "cell_type": "code",
      "source": [
        "data.isnull().sum()"
      ],
      "metadata": {
        "colab": {
          "base_uri": "https://localhost:8080/"
        },
        "id": "TMucKVJya5jk",
        "outputId": "42e52475-204d-43ba-b5c7-0ccf4fcc3b8a"
      },
      "execution_count": 54,
      "outputs": [
        {
          "output_type": "execute_result",
          "data": {
            "text/plain": [
              "Car_Name         0\n",
              "Year             0\n",
              "Selling_Price    0\n",
              "Present_Price    0\n",
              "Kms_Driven       0\n",
              "Fuel_Type        0\n",
              "Seller_Type      0\n",
              "Transmission     0\n",
              "Owner            0\n",
              "dtype: int64"
            ]
          },
          "metadata": {},
          "execution_count": 54
        }
      ]
    },
    {
      "cell_type": "code",
      "source": [
        "data.info()"
      ],
      "metadata": {
        "colab": {
          "base_uri": "https://localhost:8080/"
        },
        "id": "9tVyx-pRcH-k",
        "outputId": "a8e43156-0294-4005-c422-a7726bc1154a"
      },
      "execution_count": 55,
      "outputs": [
        {
          "output_type": "stream",
          "name": "stdout",
          "text": [
            "<class 'pandas.core.frame.DataFrame'>\n",
            "RangeIndex: 301 entries, 0 to 300\n",
            "Data columns (total 9 columns):\n",
            " #   Column         Non-Null Count  Dtype  \n",
            "---  ------         --------------  -----  \n",
            " 0   Car_Name       301 non-null    object \n",
            " 1   Year           301 non-null    int64  \n",
            " 2   Selling_Price  301 non-null    float64\n",
            " 3   Present_Price  301 non-null    float64\n",
            " 4   Kms_Driven     301 non-null    int64  \n",
            " 5   Fuel_Type      301 non-null    object \n",
            " 6   Seller_Type    301 non-null    object \n",
            " 7   Transmission   301 non-null    object \n",
            " 8   Owner          301 non-null    int64  \n",
            "dtypes: float64(2), int64(3), object(4)\n",
            "memory usage: 21.3+ KB\n"
          ]
        }
      ]
    },
    {
      "cell_type": "code",
      "source": [
        "px.sunburst(data, path=['Fuel_Type', 'Car_Name'])"
      ],
      "metadata": {
        "colab": {
          "base_uri": "https://localhost:8080/",
          "height": 542
        },
        "id": "wP7YZTzZcJjz",
        "outputId": "e3fd11ce-a645-4940-8279-16f8006de741"
      },
      "execution_count": 56,
      "outputs": [
        {
          "output_type": "display_data",
          "data": {
            "text/html": [
              "<html>\n",
              "<head><meta charset=\"utf-8\" /></head>\n",
              "<body>\n",
              "    <div>            <script src=\"https://cdnjs.cloudflare.com/ajax/libs/mathjax/2.7.5/MathJax.js?config=TeX-AMS-MML_SVG\"></script><script type=\"text/javascript\">if (window.MathJax) {MathJax.Hub.Config({SVG: {font: \"STIX-Web\"}});}</script>                <script type=\"text/javascript\">window.PlotlyConfig = {MathJaxConfig: 'local'};</script>\n",
              "        <script src=\"https://cdn.plot.ly/plotly-2.8.3.min.js\"></script>                <div id=\"f70cb560-5bf3-4dcd-9708-c31b4ffd93aa\" class=\"plotly-graph-div\" style=\"height:525px; width:100%;\"></div>            <script type=\"text/javascript\">                                    window.PLOTLYENV=window.PLOTLYENV || {};                                    if (document.getElementById(\"f70cb560-5bf3-4dcd-9708-c31b4ffd93aa\")) {                    Plotly.newPlot(                        \"f70cb560-5bf3-4dcd-9708-c31b4ffd93aa\",                        [{\"branchvalues\":\"total\",\"domain\":{\"x\":[0.0,1.0],\"y\":[0.0,1.0]},\"hovertemplate\":\"labels=%{label}<br>count=%{value}<br>parent=%{parent}<br>id=%{id}<extra></extra>\",\"ids\":[\"Petrol/800\",\"Petrol/Activa 3g\",\"Petrol/Activa 4g\",\"Petrol/Bajaj  ct 100\",\"Petrol/Bajaj Avenger 150\",\"Petrol/Bajaj Avenger 150 street\",\"Petrol/Bajaj Avenger 220\",\"Petrol/Bajaj Avenger 220 dtsi\",\"Petrol/Bajaj Avenger Street 220\",\"Petrol/Bajaj Discover 100\",\"Petrol/Bajaj Discover 125\",\"Petrol/Bajaj Dominar 400\",\"Petrol/Bajaj Pulsar  NS 200\",\"Petrol/Bajaj Pulsar 135 LS\",\"Petrol/Bajaj Pulsar 150\",\"Petrol/Bajaj Pulsar 220 F\",\"Petrol/Bajaj Pulsar NS 200\",\"Petrol/Bajaj Pulsar RS200\",\"Petrol/Hero  CBZ Xtreme\",\"Petrol/Hero  Ignitor Disc\",\"Petrol/Hero Extreme\",\"Petrol/Hero Glamour\",\"Petrol/Hero Honda CBZ extreme\",\"Petrol/Hero Honda Passion Pro\",\"Petrol/Hero Hunk\",\"Petrol/Hero Passion Pro\",\"Petrol/Hero Passion X pro\",\"Petrol/Hero Splender Plus\",\"Petrol/Hero Splender iSmart\",\"Petrol/Hero Super Splendor\",\"Petrol/Honda Activa 125\",\"Petrol/Honda Activa 4G\",\"Petrol/Honda CB Hornet 160R\",\"Petrol/Honda CB Shine\",\"Petrol/Honda CB Trigger\",\"Petrol/Honda CB Unicorn\",\"Petrol/Honda CB twister\",\"Petrol/Honda CBR 150\",\"Petrol/Honda Dream Yuga \",\"Petrol/Honda Karizma\",\"Petrol/Hyosung GT250R\",\"Petrol/KTM 390 Duke \",\"Petrol/KTM RC200\",\"Petrol/KTM RC390\",\"Petrol/Mahindra Mojo XT300\",\"Petrol/Royal Enfield Bullet 350\",\"Petrol/Royal Enfield Classic 350\",\"Petrol/Royal Enfield Classic 500\",\"Petrol/Royal Enfield Thunder 350\",\"Petrol/Royal Enfield Thunder 500\",\"Petrol/Suzuki Access 125\",\"Petrol/TVS Apache RTR 160\",\"Petrol/TVS Apache RTR 180\",\"Petrol/TVS Jupyter\",\"Petrol/TVS Sport \",\"Petrol/TVS Wego\",\"Petrol/UM Renegade Mojave\",\"Petrol/Yamaha FZ  v 2.0\",\"Petrol/Yamaha FZ 16\",\"Petrol/Yamaha FZ S \",\"Petrol/Yamaha FZ S V 2.0\",\"Petrol/Yamaha Fazer \",\"Petrol/alto 800\",\"Petrol/alto k10\",\"Petrol/amaze\",\"Petrol/baleno\",\"Petrol/brio\",\"Petrol/camry\",\"Diesel/ciaz\",\"Petrol/ciaz\",\"Diesel/city\",\"Petrol/city\",\"Petrol/corolla\",\"Diesel/corolla altis\",\"Petrol/corolla altis\",\"Diesel/creta\",\"Petrol/creta\",\"Diesel/dzire\",\"Petrol/dzire\",\"Diesel/elantra\",\"Petrol/elantra\",\"Petrol/eon\",\"Diesel/ertiga\",\"Petrol/ertiga\",\"Diesel/etios cross\",\"Petrol/etios cross\",\"Petrol/etios g\",\"Diesel/etios gd\",\"Diesel/etios liva\",\"Petrol/etios liva\",\"Diesel/fortuner\",\"Diesel/grand i10\",\"Petrol/grand i10\",\"Petrol/i10\",\"Diesel/i20\",\"Petrol/i20\",\"Petrol/ignis\",\"Diesel/innova\",\"Petrol/innova\",\"Petrol/jazz\",\"Diesel/land cruiser\",\"Petrol/omni\",\"Diesel/ritz\",\"Petrol/ritz\",\"Diesel/s cross\",\"Diesel/swift\",\"Petrol/swift\",\"CNG/sx4\",\"Diesel/sx4\",\"Petrol/sx4\",\"Diesel/verna\",\"Petrol/verna\",\"Diesel/vitara brezza\",\"CNG/wagon r\",\"Petrol/wagon r\",\"Petrol/xcent\",\"CNG\",\"Diesel\",\"Petrol\"],\"labels\":[\"800\",\"Activa 3g\",\"Activa 4g\",\"Bajaj  ct 100\",\"Bajaj Avenger 150\",\"Bajaj Avenger 150 street\",\"Bajaj Avenger 220\",\"Bajaj Avenger 220 dtsi\",\"Bajaj Avenger Street 220\",\"Bajaj Discover 100\",\"Bajaj Discover 125\",\"Bajaj Dominar 400\",\"Bajaj Pulsar  NS 200\",\"Bajaj Pulsar 135 LS\",\"Bajaj Pulsar 150\",\"Bajaj Pulsar 220 F\",\"Bajaj Pulsar NS 200\",\"Bajaj Pulsar RS200\",\"Hero  CBZ Xtreme\",\"Hero  Ignitor Disc\",\"Hero Extreme\",\"Hero Glamour\",\"Hero Honda CBZ extreme\",\"Hero Honda Passion Pro\",\"Hero Hunk\",\"Hero Passion Pro\",\"Hero Passion X pro\",\"Hero Splender Plus\",\"Hero Splender iSmart\",\"Hero Super Splendor\",\"Honda Activa 125\",\"Honda Activa 4G\",\"Honda CB Hornet 160R\",\"Honda CB Shine\",\"Honda CB Trigger\",\"Honda CB Unicorn\",\"Honda CB twister\",\"Honda CBR 150\",\"Honda Dream Yuga \",\"Honda Karizma\",\"Hyosung GT250R\",\"KTM 390 Duke \",\"KTM RC200\",\"KTM RC390\",\"Mahindra Mojo XT300\",\"Royal Enfield Bullet 350\",\"Royal Enfield Classic 350\",\"Royal Enfield Classic 500\",\"Royal Enfield Thunder 350\",\"Royal Enfield Thunder 500\",\"Suzuki Access 125\",\"TVS Apache RTR 160\",\"TVS Apache RTR 180\",\"TVS Jupyter\",\"TVS Sport \",\"TVS Wego\",\"UM Renegade Mojave\",\"Yamaha FZ  v 2.0\",\"Yamaha FZ 16\",\"Yamaha FZ S \",\"Yamaha FZ S V 2.0\",\"Yamaha Fazer \",\"alto 800\",\"alto k10\",\"amaze\",\"baleno\",\"brio\",\"camry\",\"ciaz\",\"ciaz\",\"city\",\"city\",\"corolla\",\"corolla altis\",\"corolla altis\",\"creta\",\"creta\",\"dzire\",\"dzire\",\"elantra\",\"elantra\",\"eon\",\"ertiga\",\"ertiga\",\"etios cross\",\"etios cross\",\"etios g\",\"etios gd\",\"etios liva\",\"etios liva\",\"fortuner\",\"grand i10\",\"grand i10\",\"i10\",\"i20\",\"i20\",\"ignis\",\"innova\",\"innova\",\"jazz\",\"land cruiser\",\"omni\",\"ritz\",\"ritz\",\"s cross\",\"swift\",\"swift\",\"sx4\",\"sx4\",\"sx4\",\"verna\",\"verna\",\"vitara brezza\",\"wagon r\",\"wagon r\",\"xcent\",\"CNG\",\"Diesel\",\"Petrol\"],\"name\":\"\",\"parents\":[\"Petrol\",\"Petrol\",\"Petrol\",\"Petrol\",\"Petrol\",\"Petrol\",\"Petrol\",\"Petrol\",\"Petrol\",\"Petrol\",\"Petrol\",\"Petrol\",\"Petrol\",\"Petrol\",\"Petrol\",\"Petrol\",\"Petrol\",\"Petrol\",\"Petrol\",\"Petrol\",\"Petrol\",\"Petrol\",\"Petrol\",\"Petrol\",\"Petrol\",\"Petrol\",\"Petrol\",\"Petrol\",\"Petrol\",\"Petrol\",\"Petrol\",\"Petrol\",\"Petrol\",\"Petrol\",\"Petrol\",\"Petrol\",\"Petrol\",\"Petrol\",\"Petrol\",\"Petrol\",\"Petrol\",\"Petrol\",\"Petrol\",\"Petrol\",\"Petrol\",\"Petrol\",\"Petrol\",\"Petrol\",\"Petrol\",\"Petrol\",\"Petrol\",\"Petrol\",\"Petrol\",\"Petrol\",\"Petrol\",\"Petrol\",\"Petrol\",\"Petrol\",\"Petrol\",\"Petrol\",\"Petrol\",\"Petrol\",\"Petrol\",\"Petrol\",\"Petrol\",\"Petrol\",\"Petrol\",\"Petrol\",\"Diesel\",\"Petrol\",\"Diesel\",\"Petrol\",\"Petrol\",\"Diesel\",\"Petrol\",\"Diesel\",\"Petrol\",\"Diesel\",\"Petrol\",\"Diesel\",\"Petrol\",\"Petrol\",\"Diesel\",\"Petrol\",\"Diesel\",\"Petrol\",\"Petrol\",\"Diesel\",\"Diesel\",\"Petrol\",\"Diesel\",\"Diesel\",\"Petrol\",\"Petrol\",\"Diesel\",\"Petrol\",\"Petrol\",\"Diesel\",\"Petrol\",\"Petrol\",\"Diesel\",\"Petrol\",\"Diesel\",\"Petrol\",\"Diesel\",\"Diesel\",\"Petrol\",\"CNG\",\"Diesel\",\"Petrol\",\"Diesel\",\"Petrol\",\"Diesel\",\"CNG\",\"Petrol\",\"Petrol\",\"\",\"\",\"\"],\"values\":[1,2,1,1,1,1,3,2,1,1,2,1,1,1,4,2,3,1,1,1,2,1,1,1,1,2,1,1,2,1,1,2,3,2,1,1,2,2,1,2,1,1,2,1,1,1,7,2,4,3,1,3,2,1,1,1,1,2,1,1,3,1,1,5,7,1,10,1,4,5,6,20,1,2,14,2,1,2,2,1,1,6,4,2,1,2,3,1,2,2,11,2,6,5,3,6,1,6,3,7,1,1,1,3,1,2,3,1,1,4,6,8,1,1,3,3,2,60,239],\"type\":\"sunburst\"}],                        {\"template\":{\"data\":{\"bar\":[{\"error_x\":{\"color\":\"#2a3f5f\"},\"error_y\":{\"color\":\"#2a3f5f\"},\"marker\":{\"line\":{\"color\":\"#E5ECF6\",\"width\":0.5},\"pattern\":{\"fillmode\":\"overlay\",\"size\":10,\"solidity\":0.2}},\"type\":\"bar\"}],\"barpolar\":[{\"marker\":{\"line\":{\"color\":\"#E5ECF6\",\"width\":0.5},\"pattern\":{\"fillmode\":\"overlay\",\"size\":10,\"solidity\":0.2}},\"type\":\"barpolar\"}],\"carpet\":[{\"aaxis\":{\"endlinecolor\":\"#2a3f5f\",\"gridcolor\":\"white\",\"linecolor\":\"white\",\"minorgridcolor\":\"white\",\"startlinecolor\":\"#2a3f5f\"},\"baxis\":{\"endlinecolor\":\"#2a3f5f\",\"gridcolor\":\"white\",\"linecolor\":\"white\",\"minorgridcolor\":\"white\",\"startlinecolor\":\"#2a3f5f\"},\"type\":\"carpet\"}],\"choropleth\":[{\"colorbar\":{\"outlinewidth\":0,\"ticks\":\"\"},\"type\":\"choropleth\"}],\"contour\":[{\"colorbar\":{\"outlinewidth\":0,\"ticks\":\"\"},\"colorscale\":[[0.0,\"#0d0887\"],[0.1111111111111111,\"#46039f\"],[0.2222222222222222,\"#7201a8\"],[0.3333333333333333,\"#9c179e\"],[0.4444444444444444,\"#bd3786\"],[0.5555555555555556,\"#d8576b\"],[0.6666666666666666,\"#ed7953\"],[0.7777777777777778,\"#fb9f3a\"],[0.8888888888888888,\"#fdca26\"],[1.0,\"#f0f921\"]],\"type\":\"contour\"}],\"contourcarpet\":[{\"colorbar\":{\"outlinewidth\":0,\"ticks\":\"\"},\"type\":\"contourcarpet\"}],\"heatmap\":[{\"colorbar\":{\"outlinewidth\":0,\"ticks\":\"\"},\"colorscale\":[[0.0,\"#0d0887\"],[0.1111111111111111,\"#46039f\"],[0.2222222222222222,\"#7201a8\"],[0.3333333333333333,\"#9c179e\"],[0.4444444444444444,\"#bd3786\"],[0.5555555555555556,\"#d8576b\"],[0.6666666666666666,\"#ed7953\"],[0.7777777777777778,\"#fb9f3a\"],[0.8888888888888888,\"#fdca26\"],[1.0,\"#f0f921\"]],\"type\":\"heatmap\"}],\"heatmapgl\":[{\"colorbar\":{\"outlinewidth\":0,\"ticks\":\"\"},\"colorscale\":[[0.0,\"#0d0887\"],[0.1111111111111111,\"#46039f\"],[0.2222222222222222,\"#7201a8\"],[0.3333333333333333,\"#9c179e\"],[0.4444444444444444,\"#bd3786\"],[0.5555555555555556,\"#d8576b\"],[0.6666666666666666,\"#ed7953\"],[0.7777777777777778,\"#fb9f3a\"],[0.8888888888888888,\"#fdca26\"],[1.0,\"#f0f921\"]],\"type\":\"heatmapgl\"}],\"histogram\":[{\"marker\":{\"pattern\":{\"fillmode\":\"overlay\",\"size\":10,\"solidity\":0.2}},\"type\":\"histogram\"}],\"histogram2d\":[{\"colorbar\":{\"outlinewidth\":0,\"ticks\":\"\"},\"colorscale\":[[0.0,\"#0d0887\"],[0.1111111111111111,\"#46039f\"],[0.2222222222222222,\"#7201a8\"],[0.3333333333333333,\"#9c179e\"],[0.4444444444444444,\"#bd3786\"],[0.5555555555555556,\"#d8576b\"],[0.6666666666666666,\"#ed7953\"],[0.7777777777777778,\"#fb9f3a\"],[0.8888888888888888,\"#fdca26\"],[1.0,\"#f0f921\"]],\"type\":\"histogram2d\"}],\"histogram2dcontour\":[{\"colorbar\":{\"outlinewidth\":0,\"ticks\":\"\"},\"colorscale\":[[0.0,\"#0d0887\"],[0.1111111111111111,\"#46039f\"],[0.2222222222222222,\"#7201a8\"],[0.3333333333333333,\"#9c179e\"],[0.4444444444444444,\"#bd3786\"],[0.5555555555555556,\"#d8576b\"],[0.6666666666666666,\"#ed7953\"],[0.7777777777777778,\"#fb9f3a\"],[0.8888888888888888,\"#fdca26\"],[1.0,\"#f0f921\"]],\"type\":\"histogram2dcontour\"}],\"mesh3d\":[{\"colorbar\":{\"outlinewidth\":0,\"ticks\":\"\"},\"type\":\"mesh3d\"}],\"parcoords\":[{\"line\":{\"colorbar\":{\"outlinewidth\":0,\"ticks\":\"\"}},\"type\":\"parcoords\"}],\"pie\":[{\"automargin\":true,\"type\":\"pie\"}],\"scatter\":[{\"marker\":{\"colorbar\":{\"outlinewidth\":0,\"ticks\":\"\"}},\"type\":\"scatter\"}],\"scatter3d\":[{\"line\":{\"colorbar\":{\"outlinewidth\":0,\"ticks\":\"\"}},\"marker\":{\"colorbar\":{\"outlinewidth\":0,\"ticks\":\"\"}},\"type\":\"scatter3d\"}],\"scattercarpet\":[{\"marker\":{\"colorbar\":{\"outlinewidth\":0,\"ticks\":\"\"}},\"type\":\"scattercarpet\"}],\"scattergeo\":[{\"marker\":{\"colorbar\":{\"outlinewidth\":0,\"ticks\":\"\"}},\"type\":\"scattergeo\"}],\"scattergl\":[{\"marker\":{\"colorbar\":{\"outlinewidth\":0,\"ticks\":\"\"}},\"type\":\"scattergl\"}],\"scattermapbox\":[{\"marker\":{\"colorbar\":{\"outlinewidth\":0,\"ticks\":\"\"}},\"type\":\"scattermapbox\"}],\"scatterpolar\":[{\"marker\":{\"colorbar\":{\"outlinewidth\":0,\"ticks\":\"\"}},\"type\":\"scatterpolar\"}],\"scatterpolargl\":[{\"marker\":{\"colorbar\":{\"outlinewidth\":0,\"ticks\":\"\"}},\"type\":\"scatterpolargl\"}],\"scatterternary\":[{\"marker\":{\"colorbar\":{\"outlinewidth\":0,\"ticks\":\"\"}},\"type\":\"scatterternary\"}],\"surface\":[{\"colorbar\":{\"outlinewidth\":0,\"ticks\":\"\"},\"colorscale\":[[0.0,\"#0d0887\"],[0.1111111111111111,\"#46039f\"],[0.2222222222222222,\"#7201a8\"],[0.3333333333333333,\"#9c179e\"],[0.4444444444444444,\"#bd3786\"],[0.5555555555555556,\"#d8576b\"],[0.6666666666666666,\"#ed7953\"],[0.7777777777777778,\"#fb9f3a\"],[0.8888888888888888,\"#fdca26\"],[1.0,\"#f0f921\"]],\"type\":\"surface\"}],\"table\":[{\"cells\":{\"fill\":{\"color\":\"#EBF0F8\"},\"line\":{\"color\":\"white\"}},\"header\":{\"fill\":{\"color\":\"#C8D4E3\"},\"line\":{\"color\":\"white\"}},\"type\":\"table\"}]},\"layout\":{\"annotationdefaults\":{\"arrowcolor\":\"#2a3f5f\",\"arrowhead\":0,\"arrowwidth\":1},\"autotypenumbers\":\"strict\",\"coloraxis\":{\"colorbar\":{\"outlinewidth\":0,\"ticks\":\"\"}},\"colorscale\":{\"diverging\":[[0,\"#8e0152\"],[0.1,\"#c51b7d\"],[0.2,\"#de77ae\"],[0.3,\"#f1b6da\"],[0.4,\"#fde0ef\"],[0.5,\"#f7f7f7\"],[0.6,\"#e6f5d0\"],[0.7,\"#b8e186\"],[0.8,\"#7fbc41\"],[0.9,\"#4d9221\"],[1,\"#276419\"]],\"sequential\":[[0.0,\"#0d0887\"],[0.1111111111111111,\"#46039f\"],[0.2222222222222222,\"#7201a8\"],[0.3333333333333333,\"#9c179e\"],[0.4444444444444444,\"#bd3786\"],[0.5555555555555556,\"#d8576b\"],[0.6666666666666666,\"#ed7953\"],[0.7777777777777778,\"#fb9f3a\"],[0.8888888888888888,\"#fdca26\"],[1.0,\"#f0f921\"]],\"sequentialminus\":[[0.0,\"#0d0887\"],[0.1111111111111111,\"#46039f\"],[0.2222222222222222,\"#7201a8\"],[0.3333333333333333,\"#9c179e\"],[0.4444444444444444,\"#bd3786\"],[0.5555555555555556,\"#d8576b\"],[0.6666666666666666,\"#ed7953\"],[0.7777777777777778,\"#fb9f3a\"],[0.8888888888888888,\"#fdca26\"],[1.0,\"#f0f921\"]]},\"colorway\":[\"#636efa\",\"#EF553B\",\"#00cc96\",\"#ab63fa\",\"#FFA15A\",\"#19d3f3\",\"#FF6692\",\"#B6E880\",\"#FF97FF\",\"#FECB52\"],\"font\":{\"color\":\"#2a3f5f\"},\"geo\":{\"bgcolor\":\"white\",\"lakecolor\":\"white\",\"landcolor\":\"#E5ECF6\",\"showlakes\":true,\"showland\":true,\"subunitcolor\":\"white\"},\"hoverlabel\":{\"align\":\"left\"},\"hovermode\":\"closest\",\"mapbox\":{\"style\":\"light\"},\"paper_bgcolor\":\"white\",\"plot_bgcolor\":\"#E5ECF6\",\"polar\":{\"angularaxis\":{\"gridcolor\":\"white\",\"linecolor\":\"white\",\"ticks\":\"\"},\"bgcolor\":\"#E5ECF6\",\"radialaxis\":{\"gridcolor\":\"white\",\"linecolor\":\"white\",\"ticks\":\"\"}},\"scene\":{\"xaxis\":{\"backgroundcolor\":\"#E5ECF6\",\"gridcolor\":\"white\",\"gridwidth\":2,\"linecolor\":\"white\",\"showbackground\":true,\"ticks\":\"\",\"zerolinecolor\":\"white\"},\"yaxis\":{\"backgroundcolor\":\"#E5ECF6\",\"gridcolor\":\"white\",\"gridwidth\":2,\"linecolor\":\"white\",\"showbackground\":true,\"ticks\":\"\",\"zerolinecolor\":\"white\"},\"zaxis\":{\"backgroundcolor\":\"#E5ECF6\",\"gridcolor\":\"white\",\"gridwidth\":2,\"linecolor\":\"white\",\"showbackground\":true,\"ticks\":\"\",\"zerolinecolor\":\"white\"}},\"shapedefaults\":{\"line\":{\"color\":\"#2a3f5f\"}},\"ternary\":{\"aaxis\":{\"gridcolor\":\"white\",\"linecolor\":\"white\",\"ticks\":\"\"},\"baxis\":{\"gridcolor\":\"white\",\"linecolor\":\"white\",\"ticks\":\"\"},\"bgcolor\":\"#E5ECF6\",\"caxis\":{\"gridcolor\":\"white\",\"linecolor\":\"white\",\"ticks\":\"\"}},\"title\":{\"x\":0.05},\"xaxis\":{\"automargin\":true,\"gridcolor\":\"white\",\"linecolor\":\"white\",\"ticks\":\"\",\"title\":{\"standoff\":15},\"zerolinecolor\":\"white\",\"zerolinewidth\":2},\"yaxis\":{\"automargin\":true,\"gridcolor\":\"white\",\"linecolor\":\"white\",\"ticks\":\"\",\"title\":{\"standoff\":15},\"zerolinecolor\":\"white\",\"zerolinewidth\":2}}},\"legend\":{\"tracegroupgap\":0},\"margin\":{\"t\":60}},                        {\"responsive\": true}                    ).then(function(){\n",
              "                            \n",
              "var gd = document.getElementById('f70cb560-5bf3-4dcd-9708-c31b4ffd93aa');\n",
              "var x = new MutationObserver(function (mutations, observer) {{\n",
              "        var display = window.getComputedStyle(gd).display;\n",
              "        if (!display || display === 'none') {{\n",
              "            console.log([gd, 'removed!']);\n",
              "            Plotly.purge(gd);\n",
              "            observer.disconnect();\n",
              "        }}\n",
              "}});\n",
              "\n",
              "// Listen for the removal of the full notebook cells\n",
              "var notebookContainer = gd.closest('#notebook-container');\n",
              "if (notebookContainer) {{\n",
              "    x.observe(notebookContainer, {childList: true});\n",
              "}}\n",
              "\n",
              "// Listen for the clearing of the current output cell\n",
              "var outputEl = gd.closest('.output');\n",
              "if (outputEl) {{\n",
              "    x.observe(outputEl, {childList: true});\n",
              "}}\n",
              "\n",
              "                        })                };                            </script>        </div>\n",
              "</body>\n",
              "</html>"
            ]
          },
          "metadata": {}
        }
      ]
    },
    {
      "cell_type": "code",
      "source": [
        "px.sunburst(data, path=['Seller_Type', 'Fuel_Type','Car_Name'])"
      ],
      "metadata": {
        "colab": {
          "base_uri": "https://localhost:8080/",
          "height": 542
        },
        "id": "PIRIYDdZeuMg",
        "outputId": "5ed2554b-2648-438b-d75b-1575912785ec"
      },
      "execution_count": 57,
      "outputs": [
        {
          "output_type": "display_data",
          "data": {
            "text/html": [
              "<html>\n",
              "<head><meta charset=\"utf-8\" /></head>\n",
              "<body>\n",
              "    <div>            <script src=\"https://cdnjs.cloudflare.com/ajax/libs/mathjax/2.7.5/MathJax.js?config=TeX-AMS-MML_SVG\"></script><script type=\"text/javascript\">if (window.MathJax) {MathJax.Hub.Config({SVG: {font: \"STIX-Web\"}});}</script>                <script type=\"text/javascript\">window.PlotlyConfig = {MathJaxConfig: 'local'};</script>\n",
              "        <script src=\"https://cdn.plot.ly/plotly-2.8.3.min.js\"></script>                <div id=\"a69a4ba0-36a4-48c0-a1ab-64964e4b7df8\" class=\"plotly-graph-div\" style=\"height:525px; width:100%;\"></div>            <script type=\"text/javascript\">                                    window.PLOTLYENV=window.PLOTLYENV || {};                                    if (document.getElementById(\"a69a4ba0-36a4-48c0-a1ab-64964e4b7df8\")) {                    Plotly.newPlot(                        \"a69a4ba0-36a4-48c0-a1ab-64964e4b7df8\",                        [{\"branchvalues\":\"total\",\"domain\":{\"x\":[0.0,1.0],\"y\":[0.0,1.0]},\"hovertemplate\":\"labels=%{label}<br>count=%{value}<br>parent=%{parent}<br>id=%{id}<extra></extra>\",\"ids\":[\"Individual/Petrol/800\",\"Individual/Petrol/Activa 3g\",\"Individual/Petrol/Activa 4g\",\"Individual/Petrol/Bajaj  ct 100\",\"Individual/Petrol/Bajaj Avenger 150\",\"Individual/Petrol/Bajaj Avenger 150 street\",\"Individual/Petrol/Bajaj Avenger 220\",\"Individual/Petrol/Bajaj Avenger 220 dtsi\",\"Individual/Petrol/Bajaj Avenger Street 220\",\"Individual/Petrol/Bajaj Discover 100\",\"Individual/Petrol/Bajaj Discover 125\",\"Individual/Petrol/Bajaj Dominar 400\",\"Individual/Petrol/Bajaj Pulsar  NS 200\",\"Individual/Petrol/Bajaj Pulsar 135 LS\",\"Individual/Petrol/Bajaj Pulsar 150\",\"Individual/Petrol/Bajaj Pulsar 220 F\",\"Individual/Petrol/Bajaj Pulsar NS 200\",\"Individual/Petrol/Bajaj Pulsar RS200\",\"Individual/Petrol/Hero  CBZ Xtreme\",\"Individual/Petrol/Hero  Ignitor Disc\",\"Individual/Petrol/Hero Extreme\",\"Individual/Petrol/Hero Glamour\",\"Individual/Petrol/Hero Honda CBZ extreme\",\"Individual/Petrol/Hero Honda Passion Pro\",\"Individual/Petrol/Hero Hunk\",\"Individual/Petrol/Hero Passion Pro\",\"Individual/Petrol/Hero Passion X pro\",\"Individual/Petrol/Hero Splender Plus\",\"Individual/Petrol/Hero Splender iSmart\",\"Individual/Petrol/Hero Super Splendor\",\"Individual/Petrol/Honda Activa 125\",\"Individual/Petrol/Honda Activa 4G\",\"Individual/Petrol/Honda CB Hornet 160R\",\"Individual/Petrol/Honda CB Shine\",\"Individual/Petrol/Honda CB Trigger\",\"Individual/Petrol/Honda CB Unicorn\",\"Individual/Petrol/Honda CB twister\",\"Individual/Petrol/Honda CBR 150\",\"Individual/Petrol/Honda Dream Yuga \",\"Individual/Petrol/Honda Karizma\",\"Individual/Petrol/Hyosung GT250R\",\"Individual/Petrol/KTM 390 Duke \",\"Individual/Petrol/KTM RC200\",\"Individual/Petrol/KTM RC390\",\"Individual/Petrol/Mahindra Mojo XT300\",\"Individual/Petrol/Royal Enfield Bullet 350\",\"Individual/Petrol/Royal Enfield Classic 350\",\"Individual/Petrol/Royal Enfield Classic 500\",\"Individual/Petrol/Royal Enfield Thunder 350\",\"Individual/Petrol/Royal Enfield Thunder 500\",\"Individual/Petrol/Suzuki Access 125\",\"Individual/Petrol/TVS Apache RTR 160\",\"Individual/Petrol/TVS Apache RTR 180\",\"Individual/Petrol/TVS Jupyter\",\"Individual/Petrol/TVS Sport \",\"Individual/Petrol/TVS Wego\",\"Individual/Petrol/UM Renegade Mojave\",\"Individual/Petrol/Yamaha FZ  v 2.0\",\"Individual/Petrol/Yamaha FZ 16\",\"Individual/Petrol/Yamaha FZ S \",\"Individual/Petrol/Yamaha FZ S V 2.0\",\"Individual/Petrol/Yamaha Fazer \",\"Dealer/Petrol/alto 800\",\"Dealer/Petrol/alto k10\",\"Dealer/Petrol/amaze\",\"Dealer/Petrol/baleno\",\"Dealer/Petrol/brio\",\"Individual/Petrol/camry\",\"Dealer/Diesel/ciaz\",\"Dealer/Petrol/ciaz\",\"Dealer/Diesel/city\",\"Dealer/Petrol/city\",\"Dealer/Petrol/corolla\",\"Dealer/Diesel/corolla altis\",\"Dealer/Petrol/corolla altis\",\"Dealer/Diesel/creta\",\"Dealer/Petrol/creta\",\"Dealer/Diesel/dzire\",\"Dealer/Petrol/dzire\",\"Dealer/Diesel/elantra\",\"Dealer/Petrol/elantra\",\"Dealer/Petrol/eon\",\"Dealer/Diesel/ertiga\",\"Dealer/Petrol/ertiga\",\"Dealer/Diesel/etios cross\",\"Dealer/Petrol/etios cross\",\"Dealer/Petrol/etios g\",\"Dealer/Diesel/etios gd\",\"Dealer/Diesel/etios liva\",\"Dealer/Petrol/etios liva\",\"Dealer/Diesel/fortuner\",\"Individual/Diesel/fortuner\",\"Dealer/Diesel/grand i10\",\"Dealer/Petrol/grand i10\",\"Dealer/Petrol/i10\",\"Dealer/Diesel/i20\",\"Dealer/Petrol/i20\",\"Dealer/Petrol/ignis\",\"Dealer/Diesel/innova\",\"Dealer/Petrol/innova\",\"Individual/Petrol/innova\",\"Dealer/Petrol/jazz\",\"Dealer/Diesel/land cruiser\",\"Dealer/Petrol/omni\",\"Dealer/Diesel/ritz\",\"Dealer/Petrol/ritz\",\"Dealer/Diesel/s cross\",\"Dealer/Diesel/swift\",\"Dealer/Petrol/swift\",\"Individual/Petrol/swift\",\"Dealer/CNG/sx4\",\"Dealer/Diesel/sx4\",\"Dealer/Petrol/sx4\",\"Dealer/Diesel/verna\",\"Dealer/Petrol/verna\",\"Dealer/Diesel/vitara brezza\",\"Dealer/CNG/wagon r\",\"Dealer/Petrol/wagon r\",\"Dealer/Petrol/xcent\",\"Dealer/CNG\",\"Dealer/Diesel\",\"Individual/Diesel\",\"Dealer/Petrol\",\"Individual/Petrol\",\"Dealer\",\"Individual\"],\"labels\":[\"800\",\"Activa 3g\",\"Activa 4g\",\"Bajaj  ct 100\",\"Bajaj Avenger 150\",\"Bajaj Avenger 150 street\",\"Bajaj Avenger 220\",\"Bajaj Avenger 220 dtsi\",\"Bajaj Avenger Street 220\",\"Bajaj Discover 100\",\"Bajaj Discover 125\",\"Bajaj Dominar 400\",\"Bajaj Pulsar  NS 200\",\"Bajaj Pulsar 135 LS\",\"Bajaj Pulsar 150\",\"Bajaj Pulsar 220 F\",\"Bajaj Pulsar NS 200\",\"Bajaj Pulsar RS200\",\"Hero  CBZ Xtreme\",\"Hero  Ignitor Disc\",\"Hero Extreme\",\"Hero Glamour\",\"Hero Honda CBZ extreme\",\"Hero Honda Passion Pro\",\"Hero Hunk\",\"Hero Passion Pro\",\"Hero Passion X pro\",\"Hero Splender Plus\",\"Hero Splender iSmart\",\"Hero Super Splendor\",\"Honda Activa 125\",\"Honda Activa 4G\",\"Honda CB Hornet 160R\",\"Honda CB Shine\",\"Honda CB Trigger\",\"Honda CB Unicorn\",\"Honda CB twister\",\"Honda CBR 150\",\"Honda Dream Yuga \",\"Honda Karizma\",\"Hyosung GT250R\",\"KTM 390 Duke \",\"KTM RC200\",\"KTM RC390\",\"Mahindra Mojo XT300\",\"Royal Enfield Bullet 350\",\"Royal Enfield Classic 350\",\"Royal Enfield Classic 500\",\"Royal Enfield Thunder 350\",\"Royal Enfield Thunder 500\",\"Suzuki Access 125\",\"TVS Apache RTR 160\",\"TVS Apache RTR 180\",\"TVS Jupyter\",\"TVS Sport \",\"TVS Wego\",\"UM Renegade Mojave\",\"Yamaha FZ  v 2.0\",\"Yamaha FZ 16\",\"Yamaha FZ S \",\"Yamaha FZ S V 2.0\",\"Yamaha Fazer \",\"alto 800\",\"alto k10\",\"amaze\",\"baleno\",\"brio\",\"camry\",\"ciaz\",\"ciaz\",\"city\",\"city\",\"corolla\",\"corolla altis\",\"corolla altis\",\"creta\",\"creta\",\"dzire\",\"dzire\",\"elantra\",\"elantra\",\"eon\",\"ertiga\",\"ertiga\",\"etios cross\",\"etios cross\",\"etios g\",\"etios gd\",\"etios liva\",\"etios liva\",\"fortuner\",\"fortuner\",\"grand i10\",\"grand i10\",\"i10\",\"i20\",\"i20\",\"ignis\",\"innova\",\"innova\",\"innova\",\"jazz\",\"land cruiser\",\"omni\",\"ritz\",\"ritz\",\"s cross\",\"swift\",\"swift\",\"swift\",\"sx4\",\"sx4\",\"sx4\",\"verna\",\"verna\",\"vitara brezza\",\"wagon r\",\"wagon r\",\"xcent\",\"CNG\",\"Diesel\",\"Diesel\",\"Petrol\",\"Petrol\",\"Dealer\",\"Individual\"],\"name\":\"\",\"parents\":[\"Individual/Petrol\",\"Individual/Petrol\",\"Individual/Petrol\",\"Individual/Petrol\",\"Individual/Petrol\",\"Individual/Petrol\",\"Individual/Petrol\",\"Individual/Petrol\",\"Individual/Petrol\",\"Individual/Petrol\",\"Individual/Petrol\",\"Individual/Petrol\",\"Individual/Petrol\",\"Individual/Petrol\",\"Individual/Petrol\",\"Individual/Petrol\",\"Individual/Petrol\",\"Individual/Petrol\",\"Individual/Petrol\",\"Individual/Petrol\",\"Individual/Petrol\",\"Individual/Petrol\",\"Individual/Petrol\",\"Individual/Petrol\",\"Individual/Petrol\",\"Individual/Petrol\",\"Individual/Petrol\",\"Individual/Petrol\",\"Individual/Petrol\",\"Individual/Petrol\",\"Individual/Petrol\",\"Individual/Petrol\",\"Individual/Petrol\",\"Individual/Petrol\",\"Individual/Petrol\",\"Individual/Petrol\",\"Individual/Petrol\",\"Individual/Petrol\",\"Individual/Petrol\",\"Individual/Petrol\",\"Individual/Petrol\",\"Individual/Petrol\",\"Individual/Petrol\",\"Individual/Petrol\",\"Individual/Petrol\",\"Individual/Petrol\",\"Individual/Petrol\",\"Individual/Petrol\",\"Individual/Petrol\",\"Individual/Petrol\",\"Individual/Petrol\",\"Individual/Petrol\",\"Individual/Petrol\",\"Individual/Petrol\",\"Individual/Petrol\",\"Individual/Petrol\",\"Individual/Petrol\",\"Individual/Petrol\",\"Individual/Petrol\",\"Individual/Petrol\",\"Individual/Petrol\",\"Individual/Petrol\",\"Dealer/Petrol\",\"Dealer/Petrol\",\"Dealer/Petrol\",\"Dealer/Petrol\",\"Dealer/Petrol\",\"Individual/Petrol\",\"Dealer/Diesel\",\"Dealer/Petrol\",\"Dealer/Diesel\",\"Dealer/Petrol\",\"Dealer/Petrol\",\"Dealer/Diesel\",\"Dealer/Petrol\",\"Dealer/Diesel\",\"Dealer/Petrol\",\"Dealer/Diesel\",\"Dealer/Petrol\",\"Dealer/Diesel\",\"Dealer/Petrol\",\"Dealer/Petrol\",\"Dealer/Diesel\",\"Dealer/Petrol\",\"Dealer/Diesel\",\"Dealer/Petrol\",\"Dealer/Petrol\",\"Dealer/Diesel\",\"Dealer/Diesel\",\"Dealer/Petrol\",\"Dealer/Diesel\",\"Individual/Diesel\",\"Dealer/Diesel\",\"Dealer/Petrol\",\"Dealer/Petrol\",\"Dealer/Diesel\",\"Dealer/Petrol\",\"Dealer/Petrol\",\"Dealer/Diesel\",\"Dealer/Petrol\",\"Individual/Petrol\",\"Dealer/Petrol\",\"Dealer/Diesel\",\"Dealer/Petrol\",\"Dealer/Diesel\",\"Dealer/Petrol\",\"Dealer/Diesel\",\"Dealer/Diesel\",\"Dealer/Petrol\",\"Individual/Petrol\",\"Dealer/CNG\",\"Dealer/Diesel\",\"Dealer/Petrol\",\"Dealer/Diesel\",\"Dealer/Petrol\",\"Dealer/Diesel\",\"Dealer/CNG\",\"Dealer/Petrol\",\"Dealer/Petrol\",\"Dealer\",\"Dealer\",\"Individual\",\"Dealer\",\"Individual\",\"\",\"\"],\"values\":[1,2,1,1,1,1,3,2,1,1,2,1,1,1,4,2,3,1,1,1,2,1,1,1,1,2,1,1,2,1,1,2,3,2,1,1,2,2,1,2,1,1,2,1,1,1,7,2,4,3,1,3,2,1,1,1,1,2,1,1,3,1,1,5,7,1,10,1,4,5,6,20,1,2,14,2,1,2,2,1,1,6,4,2,1,2,3,1,2,2,10,1,2,6,5,3,6,1,6,2,1,7,1,1,1,3,1,2,2,1,1,1,4,6,8,1,1,3,3,2,59,1,134,105,195,106],\"type\":\"sunburst\"}],                        {\"template\":{\"data\":{\"bar\":[{\"error_x\":{\"color\":\"#2a3f5f\"},\"error_y\":{\"color\":\"#2a3f5f\"},\"marker\":{\"line\":{\"color\":\"#E5ECF6\",\"width\":0.5},\"pattern\":{\"fillmode\":\"overlay\",\"size\":10,\"solidity\":0.2}},\"type\":\"bar\"}],\"barpolar\":[{\"marker\":{\"line\":{\"color\":\"#E5ECF6\",\"width\":0.5},\"pattern\":{\"fillmode\":\"overlay\",\"size\":10,\"solidity\":0.2}},\"type\":\"barpolar\"}],\"carpet\":[{\"aaxis\":{\"endlinecolor\":\"#2a3f5f\",\"gridcolor\":\"white\",\"linecolor\":\"white\",\"minorgridcolor\":\"white\",\"startlinecolor\":\"#2a3f5f\"},\"baxis\":{\"endlinecolor\":\"#2a3f5f\",\"gridcolor\":\"white\",\"linecolor\":\"white\",\"minorgridcolor\":\"white\",\"startlinecolor\":\"#2a3f5f\"},\"type\":\"carpet\"}],\"choropleth\":[{\"colorbar\":{\"outlinewidth\":0,\"ticks\":\"\"},\"type\":\"choropleth\"}],\"contour\":[{\"colorbar\":{\"outlinewidth\":0,\"ticks\":\"\"},\"colorscale\":[[0.0,\"#0d0887\"],[0.1111111111111111,\"#46039f\"],[0.2222222222222222,\"#7201a8\"],[0.3333333333333333,\"#9c179e\"],[0.4444444444444444,\"#bd3786\"],[0.5555555555555556,\"#d8576b\"],[0.6666666666666666,\"#ed7953\"],[0.7777777777777778,\"#fb9f3a\"],[0.8888888888888888,\"#fdca26\"],[1.0,\"#f0f921\"]],\"type\":\"contour\"}],\"contourcarpet\":[{\"colorbar\":{\"outlinewidth\":0,\"ticks\":\"\"},\"type\":\"contourcarpet\"}],\"heatmap\":[{\"colorbar\":{\"outlinewidth\":0,\"ticks\":\"\"},\"colorscale\":[[0.0,\"#0d0887\"],[0.1111111111111111,\"#46039f\"],[0.2222222222222222,\"#7201a8\"],[0.3333333333333333,\"#9c179e\"],[0.4444444444444444,\"#bd3786\"],[0.5555555555555556,\"#d8576b\"],[0.6666666666666666,\"#ed7953\"],[0.7777777777777778,\"#fb9f3a\"],[0.8888888888888888,\"#fdca26\"],[1.0,\"#f0f921\"]],\"type\":\"heatmap\"}],\"heatmapgl\":[{\"colorbar\":{\"outlinewidth\":0,\"ticks\":\"\"},\"colorscale\":[[0.0,\"#0d0887\"],[0.1111111111111111,\"#46039f\"],[0.2222222222222222,\"#7201a8\"],[0.3333333333333333,\"#9c179e\"],[0.4444444444444444,\"#bd3786\"],[0.5555555555555556,\"#d8576b\"],[0.6666666666666666,\"#ed7953\"],[0.7777777777777778,\"#fb9f3a\"],[0.8888888888888888,\"#fdca26\"],[1.0,\"#f0f921\"]],\"type\":\"heatmapgl\"}],\"histogram\":[{\"marker\":{\"pattern\":{\"fillmode\":\"overlay\",\"size\":10,\"solidity\":0.2}},\"type\":\"histogram\"}],\"histogram2d\":[{\"colorbar\":{\"outlinewidth\":0,\"ticks\":\"\"},\"colorscale\":[[0.0,\"#0d0887\"],[0.1111111111111111,\"#46039f\"],[0.2222222222222222,\"#7201a8\"],[0.3333333333333333,\"#9c179e\"],[0.4444444444444444,\"#bd3786\"],[0.5555555555555556,\"#d8576b\"],[0.6666666666666666,\"#ed7953\"],[0.7777777777777778,\"#fb9f3a\"],[0.8888888888888888,\"#fdca26\"],[1.0,\"#f0f921\"]],\"type\":\"histogram2d\"}],\"histogram2dcontour\":[{\"colorbar\":{\"outlinewidth\":0,\"ticks\":\"\"},\"colorscale\":[[0.0,\"#0d0887\"],[0.1111111111111111,\"#46039f\"],[0.2222222222222222,\"#7201a8\"],[0.3333333333333333,\"#9c179e\"],[0.4444444444444444,\"#bd3786\"],[0.5555555555555556,\"#d8576b\"],[0.6666666666666666,\"#ed7953\"],[0.7777777777777778,\"#fb9f3a\"],[0.8888888888888888,\"#fdca26\"],[1.0,\"#f0f921\"]],\"type\":\"histogram2dcontour\"}],\"mesh3d\":[{\"colorbar\":{\"outlinewidth\":0,\"ticks\":\"\"},\"type\":\"mesh3d\"}],\"parcoords\":[{\"line\":{\"colorbar\":{\"outlinewidth\":0,\"ticks\":\"\"}},\"type\":\"parcoords\"}],\"pie\":[{\"automargin\":true,\"type\":\"pie\"}],\"scatter\":[{\"marker\":{\"colorbar\":{\"outlinewidth\":0,\"ticks\":\"\"}},\"type\":\"scatter\"}],\"scatter3d\":[{\"line\":{\"colorbar\":{\"outlinewidth\":0,\"ticks\":\"\"}},\"marker\":{\"colorbar\":{\"outlinewidth\":0,\"ticks\":\"\"}},\"type\":\"scatter3d\"}],\"scattercarpet\":[{\"marker\":{\"colorbar\":{\"outlinewidth\":0,\"ticks\":\"\"}},\"type\":\"scattercarpet\"}],\"scattergeo\":[{\"marker\":{\"colorbar\":{\"outlinewidth\":0,\"ticks\":\"\"}},\"type\":\"scattergeo\"}],\"scattergl\":[{\"marker\":{\"colorbar\":{\"outlinewidth\":0,\"ticks\":\"\"}},\"type\":\"scattergl\"}],\"scattermapbox\":[{\"marker\":{\"colorbar\":{\"outlinewidth\":0,\"ticks\":\"\"}},\"type\":\"scattermapbox\"}],\"scatterpolar\":[{\"marker\":{\"colorbar\":{\"outlinewidth\":0,\"ticks\":\"\"}},\"type\":\"scatterpolar\"}],\"scatterpolargl\":[{\"marker\":{\"colorbar\":{\"outlinewidth\":0,\"ticks\":\"\"}},\"type\":\"scatterpolargl\"}],\"scatterternary\":[{\"marker\":{\"colorbar\":{\"outlinewidth\":0,\"ticks\":\"\"}},\"type\":\"scatterternary\"}],\"surface\":[{\"colorbar\":{\"outlinewidth\":0,\"ticks\":\"\"},\"colorscale\":[[0.0,\"#0d0887\"],[0.1111111111111111,\"#46039f\"],[0.2222222222222222,\"#7201a8\"],[0.3333333333333333,\"#9c179e\"],[0.4444444444444444,\"#bd3786\"],[0.5555555555555556,\"#d8576b\"],[0.6666666666666666,\"#ed7953\"],[0.7777777777777778,\"#fb9f3a\"],[0.8888888888888888,\"#fdca26\"],[1.0,\"#f0f921\"]],\"type\":\"surface\"}],\"table\":[{\"cells\":{\"fill\":{\"color\":\"#EBF0F8\"},\"line\":{\"color\":\"white\"}},\"header\":{\"fill\":{\"color\":\"#C8D4E3\"},\"line\":{\"color\":\"white\"}},\"type\":\"table\"}]},\"layout\":{\"annotationdefaults\":{\"arrowcolor\":\"#2a3f5f\",\"arrowhead\":0,\"arrowwidth\":1},\"autotypenumbers\":\"strict\",\"coloraxis\":{\"colorbar\":{\"outlinewidth\":0,\"ticks\":\"\"}},\"colorscale\":{\"diverging\":[[0,\"#8e0152\"],[0.1,\"#c51b7d\"],[0.2,\"#de77ae\"],[0.3,\"#f1b6da\"],[0.4,\"#fde0ef\"],[0.5,\"#f7f7f7\"],[0.6,\"#e6f5d0\"],[0.7,\"#b8e186\"],[0.8,\"#7fbc41\"],[0.9,\"#4d9221\"],[1,\"#276419\"]],\"sequential\":[[0.0,\"#0d0887\"],[0.1111111111111111,\"#46039f\"],[0.2222222222222222,\"#7201a8\"],[0.3333333333333333,\"#9c179e\"],[0.4444444444444444,\"#bd3786\"],[0.5555555555555556,\"#d8576b\"],[0.6666666666666666,\"#ed7953\"],[0.7777777777777778,\"#fb9f3a\"],[0.8888888888888888,\"#fdca26\"],[1.0,\"#f0f921\"]],\"sequentialminus\":[[0.0,\"#0d0887\"],[0.1111111111111111,\"#46039f\"],[0.2222222222222222,\"#7201a8\"],[0.3333333333333333,\"#9c179e\"],[0.4444444444444444,\"#bd3786\"],[0.5555555555555556,\"#d8576b\"],[0.6666666666666666,\"#ed7953\"],[0.7777777777777778,\"#fb9f3a\"],[0.8888888888888888,\"#fdca26\"],[1.0,\"#f0f921\"]]},\"colorway\":[\"#636efa\",\"#EF553B\",\"#00cc96\",\"#ab63fa\",\"#FFA15A\",\"#19d3f3\",\"#FF6692\",\"#B6E880\",\"#FF97FF\",\"#FECB52\"],\"font\":{\"color\":\"#2a3f5f\"},\"geo\":{\"bgcolor\":\"white\",\"lakecolor\":\"white\",\"landcolor\":\"#E5ECF6\",\"showlakes\":true,\"showland\":true,\"subunitcolor\":\"white\"},\"hoverlabel\":{\"align\":\"left\"},\"hovermode\":\"closest\",\"mapbox\":{\"style\":\"light\"},\"paper_bgcolor\":\"white\",\"plot_bgcolor\":\"#E5ECF6\",\"polar\":{\"angularaxis\":{\"gridcolor\":\"white\",\"linecolor\":\"white\",\"ticks\":\"\"},\"bgcolor\":\"#E5ECF6\",\"radialaxis\":{\"gridcolor\":\"white\",\"linecolor\":\"white\",\"ticks\":\"\"}},\"scene\":{\"xaxis\":{\"backgroundcolor\":\"#E5ECF6\",\"gridcolor\":\"white\",\"gridwidth\":2,\"linecolor\":\"white\",\"showbackground\":true,\"ticks\":\"\",\"zerolinecolor\":\"white\"},\"yaxis\":{\"backgroundcolor\":\"#E5ECF6\",\"gridcolor\":\"white\",\"gridwidth\":2,\"linecolor\":\"white\",\"showbackground\":true,\"ticks\":\"\",\"zerolinecolor\":\"white\"},\"zaxis\":{\"backgroundcolor\":\"#E5ECF6\",\"gridcolor\":\"white\",\"gridwidth\":2,\"linecolor\":\"white\",\"showbackground\":true,\"ticks\":\"\",\"zerolinecolor\":\"white\"}},\"shapedefaults\":{\"line\":{\"color\":\"#2a3f5f\"}},\"ternary\":{\"aaxis\":{\"gridcolor\":\"white\",\"linecolor\":\"white\",\"ticks\":\"\"},\"baxis\":{\"gridcolor\":\"white\",\"linecolor\":\"white\",\"ticks\":\"\"},\"bgcolor\":\"#E5ECF6\",\"caxis\":{\"gridcolor\":\"white\",\"linecolor\":\"white\",\"ticks\":\"\"}},\"title\":{\"x\":0.05},\"xaxis\":{\"automargin\":true,\"gridcolor\":\"white\",\"linecolor\":\"white\",\"ticks\":\"\",\"title\":{\"standoff\":15},\"zerolinecolor\":\"white\",\"zerolinewidth\":2},\"yaxis\":{\"automargin\":true,\"gridcolor\":\"white\",\"linecolor\":\"white\",\"ticks\":\"\",\"title\":{\"standoff\":15},\"zerolinecolor\":\"white\",\"zerolinewidth\":2}}},\"legend\":{\"tracegroupgap\":0},\"margin\":{\"t\":60}},                        {\"responsive\": true}                    ).then(function(){\n",
              "                            \n",
              "var gd = document.getElementById('a69a4ba0-36a4-48c0-a1ab-64964e4b7df8');\n",
              "var x = new MutationObserver(function (mutations, observer) {{\n",
              "        var display = window.getComputedStyle(gd).display;\n",
              "        if (!display || display === 'none') {{\n",
              "            console.log([gd, 'removed!']);\n",
              "            Plotly.purge(gd);\n",
              "            observer.disconnect();\n",
              "        }}\n",
              "}});\n",
              "\n",
              "// Listen for the removal of the full notebook cells\n",
              "var notebookContainer = gd.closest('#notebook-container');\n",
              "if (notebookContainer) {{\n",
              "    x.observe(notebookContainer, {childList: true});\n",
              "}}\n",
              "\n",
              "// Listen for the clearing of the current output cell\n",
              "var outputEl = gd.closest('.output');\n",
              "if (outputEl) {{\n",
              "    x.observe(outputEl, {childList: true});\n",
              "}}\n",
              "\n",
              "                        })                };                            </script>        </div>\n",
              "</body>\n",
              "</html>"
            ]
          },
          "metadata": {}
        }
      ]
    },
    {
      "cell_type": "code",
      "source": [
        "plt.figure(figsize=(25,10))\n",
        "plt.bar(data['Year'], data['Present_Price'], label ='Present Price', color='#004369')\n",
        "plt.bar(data['Year'], data['Selling_Price'], label = 'Selling_Price', color='#DB1F48')\n",
        "\n",
        "plt.legend()\n",
        "plt.title('Present Price Vs Selling Price', fontsize=25)\n",
        "plt.xlabel('Years',fontsize=15)\n",
        "plt.ylabel('USD',fontsize=15)\n"
      ],
      "metadata": {
        "colab": {
          "base_uri": "https://localhost:8080/",
          "height": 620
        },
        "id": "1w9g_BhzeS2x",
        "outputId": "dd8dc8f5-d3aa-444f-acc0-ac76f925c6c0"
      },
      "execution_count": 60,
      "outputs": [
        {
          "output_type": "execute_result",
          "data": {
            "text/plain": [
              "Text(0, 0.5, 'USD')"
            ]
          },
          "metadata": {},
          "execution_count": 60
        },
        {
          "output_type": "display_data",
          "data": {
            "text/plain": [
              "<Figure size 1800x720 with 1 Axes>"
            ],
            "image/png": "[encoded data removed]"
          },
          "metadata": {}
        }
      ]
    },
    {
      "cell_type": "code",
      "source": [
        "data['Fuel_Type'] = data['Fuel_Type'].map({'Petrol':0,'Diesel':1,'CNG':2})\n",
        "data['Seller_Type'] = data['Seller_Type'].map({'Dealer':0,'Individual':1})\n",
        "data['Transmission'] = data['Transmission'].map({'Manual':0,'Automatic':1})"
      ],
      "metadata": {
        "id": "rH5zpzDLcXAk"
      },
      "execution_count": 59,
      "outputs": []
    },
    {
      "cell_type": "code",
      "source": [
        "plt.figure(figsize=(10,10))\n",
        "sns.heatmap(data.corr(), linecolor='black', linewidths=2, annot=True,fmt=\".1f\", cmap='RdBu')\n"
      ],
      "metadata": {
        "id": "t8kI01a3dVJ8",
        "colab": {
          "base_uri": "https://localhost:8080/",
          "height": 734
        },
        "outputId": "046415fa-1a34-41ee-f538-0294396bd22d"
      },
      "execution_count": 67,
      "outputs": [
        {
          "output_type": "execute_result",
          "data": {
            "text/plain": [
              "<AxesSubplot:>"
            ]
          },
          "metadata": {},
          "execution_count": 67
        },
        {
          "output_type": "display_data",
          "data": {
            "text/plain": [
              "<Figure size 720x720 with 2 Axes>"
            ],
            "image/png": "[encoded data removed]"
          },
          "metadata": {}
        }
      ]
    },
    {
      "cell_type": "markdown",
      "source": [
        "# **ML Models**"
      ],
      "metadata": {
        "id": "q8AFSz_0kmdh"
      }
    },
    {
      "cell_type": "code",
      "source": [
        "x = np.array(data[['Year','Present_Price','Kms_Driven','Fuel_Type','Transmission']])\n",
        "y = np.array(data['Selling_Price'])"
      ],
      "metadata": {
        "id": "bOSBjsxikpuK"
      },
      "execution_count": 68,
      "outputs": []
    },
    {
      "cell_type": "code",
      "source": [
        "print('x: ', x.shape,'\\n','y: ',y.shape)"
      ],
      "metadata": {
        "colab": {
          "base_uri": "https://localhost:8080/"
        },
        "id": "V4fe0NQClNUU",
        "outputId": "803d4c0f-02d0-420a-87e5-95d2a7a04ddf"
      },
      "execution_count": 69,
      "outputs": [
        {
          "output_type": "stream",
          "name": "stdout",
          "text": [
            "x:  (301, 5) \n",
            " y:  (301,)\n"
          ]
        }
      ]
    },
    {
      "cell_type": "code",
      "source": [
        "from sklearn.model_selection import train_test_split\n",
        "\n",
        "x_train,x_test,y_train,y_test = train_test_split(x,y,\n",
        "                                                 test_size=0.2,\n",
        "                                                 random_state=42)"
      ],
      "metadata": {
        "id": "m_41PkQ6lWdK"
      },
      "execution_count": 70,
      "outputs": []
    },
    {
      "cell_type": "code",
      "source": [
        "print('x_train: ', x_train.shape,'\\n','y_train: ',y_train.shape)"
      ],
      "metadata": {
        "colab": {
          "base_uri": "https://localhost:8080/"
        },
        "id": "VEHHF3IBl9jY",
        "outputId": "78c6abd7-a711-4867-cb0d-84fb5f75617e"
      },
      "execution_count": 71,
      "outputs": [
        {
          "output_type": "stream",
          "name": "stdout",
          "text": [
            "x_train:  (240, 5) \n",
            " y_train:  (240,)\n"
          ]
        }
      ]
    },
    {
      "cell_type": "code",
      "source": [
        "print(\n",
        "    \"Year: \",data['Year'].min(), data['Year'].max(), '\\n',\n",
        "    \"Present_Price: \", data['Present_Price'].min(),data['Present_Price'].max(),'\\n',\n",
        "    \"Kms_Driven: \",data['Kms_Driven'].min(),data['Kms_Driven'].max(),'\\n',\n",
        "    \"Fuel_Type: \",data['Fuel_Type'].min(),data['Fuel_Type'].max(),'\\n',\n",
        "    \"Transmission: \",data['Transmission'].min(),data['Transmission'].max(),'\\n',\n",
        ")"
      ],
      "metadata": {
        "colab": {
          "base_uri": "https://localhost:8080/"
        },
        "id": "ZENXdFzWmEGS",
        "outputId": "bb05c233-7265-4788-a962-8e43969ee143"
      },
      "execution_count": 72,
      "outputs": [
        {
          "output_type": "stream",
          "name": "stdout",
          "text": [
            "Year:  2003 2018 \n",
            " Present_Price:  0.32 92.6 \n",
            " Kms_Driven:  500 500000 \n",
            " Fuel_Type:  0 2 \n",
            " Transmission:  0 1 \n",
            "\n"
          ]
        }
      ]
    },
    {
      "cell_type": "code",
      "source": [
        "from sklearn.linear_model import LinearRegression\n",
        "\n",
        "#feautures: Year:  2003 2018 , Present_Price:  0.32 92.6 , Kms_Driven:  500 500000 , Fuel_Type:  0 2 , Transmission:  0 1\n",
        "\n",
        "features = np.array([[2012,30.61,104707,1,1]])\n",
        "\n",
        "r = LinearRegression() \n",
        "r.fit(x_train,y_train)\n",
        "lr = r.predict(features)\n",
        "lr"
      ],
      "metadata": {
        "colab": {
          "base_uri": "https://localhost:8080/"
        },
        "id": "ojm_gkO-oWt-",
        "outputId": "01f13996-673d-40f8-8692-57b7f069a761"
      },
      "execution_count": 87,
      "outputs": [
        {
          "output_type": "execute_result",
          "data": {
            "text/plain": [
              "array([16.85929836])"
            ]
          },
          "metadata": {},
          "execution_count": 87
        }
      ]
    },
    {
      "cell_type": "code",
      "source": [
        "from sklearn.ensemble import RandomForestRegressor \n",
        "\n",
        "#feautures: Year:  2003 2018 , Present_Price:  0.32 92.6 , Kms_Driven:  500 500000 , Fuel_Type:  0 2 , Transmission:  0 1\n",
        "\n",
        "features = np.array([[2012,30.61,104707,1,1]])\n",
        "\n",
        "fr = RandomForestRegressor()\n",
        "fr.fit(x_train,y_train)\n",
        "rfr = fr.predict(features)\n",
        "rfr"
      ],
      "metadata": {
        "colab": {
          "base_uri": "https://localhost:8080/"
        },
        "id": "rCCdKk7Ro3a9",
        "outputId": "1d7bc96e-f2a4-4d1e-9621-5470bacd1c7c"
      },
      "execution_count": 86,
      "outputs": [
        {
          "output_type": "execute_result",
          "data": {
            "text/plain": [
              "array([15.28])"
            ]
          },
          "metadata": {},
          "execution_count": 86
        }
      ]
    },
    {
      "cell_type": "code",
      "source": [
        "from sklearn.svm import SVR\n",
        "\n",
        "#feautures: Year:  2003 2018 , Present_Price:  0.32 92.6 , Kms_Driven:  500 500000 , Fuel_Type:  0 2 , Transmission:  0 1\n",
        "\n",
        "features = np.array([[2012,30.61,104707,1,1]])\n",
        "\n",
        "rs = SVR()\n",
        "rs.fit(x_train,y_train)\n",
        "SvR = rs.predict(features)\n",
        "SvR"
      ],
      "metadata": {
        "colab": {
          "base_uri": "https://localhost:8080/"
        },
        "id": "a-hJCYXwpKxs",
        "outputId": "29efa074-b631-4c13-f313-449b53fc486e"
      },
      "execution_count": 85,
      "outputs": [
        {
          "output_type": "execute_result",
          "data": {
            "text/plain": [
              "array([3.21612764])"
            ]
          },
          "metadata": {},
          "execution_count": 85
        }
      ]
    },
    {
      "cell_type": "code",
      "source": [
        "from sklearn.neighbors import KNeighborsRegressor\n",
        "\n",
        "#feautures: Year:  2003 2018 , Present_Price:  0.32 92.6 , Kms_Driven:  500 500000 , Fuel_Type:  0 2 , Transmission:  0 1\n",
        "\n",
        "features = np.array([[2012,30.61,104707,1,1]])\n",
        "\n",
        "rk = KNeighborsRegressor()\n",
        "rk.fit(x_train,y_train)\n",
        "knr = rk.predict(features)\n",
        "knr"
      ],
      "metadata": {
        "colab": {
          "base_uri": "https://localhost:8080/"
        },
        "id": "5pjzLhYapbJ6",
        "outputId": "4629a85a-bd39-44a2-dc52-fc65cd0fd094"
      },
      "execution_count": 84,
      "outputs": [
        {
          "output_type": "execute_result",
          "data": {
            "text/plain": [
              "array([7.25])"
            ]
          },
          "metadata": {},
          "execution_count": 84
        }
      ]
    },
    {
      "cell_type": "code",
      "source": [
        "data.iloc[50,]"
      ],
      "metadata": {
        "colab": {
          "base_uri": "https://localhost:8080/"
        },
        "id": "wqA7wAy-pqiz",
        "outputId": "fb2fdd47-e459-4a05-aa59-dacc8b9efe2a"
      },
      "execution_count": 83,
      "outputs": [
        {
          "output_type": "execute_result",
          "data": {
            "text/plain": [
              "Car_Name         fortuner\n",
              "Year                 2012\n",
              "Selling_Price        14.9\n",
              "Present_Price       30.61\n",
              "Kms_Driven         104707\n",
              "Fuel_Type               1\n",
              "Seller_Type             0\n",
              "Transmission            1\n",
              "Owner                   0\n",
              "Name: 50, dtype: object"
            ]
          },
          "metadata": {},
          "execution_count": 83
        }
      ]
    },
    {
      "cell_type": "code",
      "source": [],
      "metadata": {
        "id": "0sdXGKK3ptbq"
      },
      "execution_count": null,
      "outputs": []
    }
  ]
}