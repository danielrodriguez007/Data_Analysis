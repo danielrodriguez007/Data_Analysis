{
  "nbformat": 4,
  "nbformat_minor": 0,
  "metadata": {
    "colab": {
      "provenance": [],
      "authorship_tag": "ABX9TyOlOfiFoFYZGODdWxHTuzzo",
      "include_colab_link": true
    },
    "kernelspec": {
      "name": "python3",
      "display_name": "Python 3"
    },
    "language_info": {
      "name": "python"
    }
  },
  "cells": [
    {
      "cell_type": "markdown",
      "metadata": {
        "id": "view-in-github",
        "colab_type": "text"
      },
      "source": [
        "<a href=\"https://colab.research.google.com/github/danielrodriguez007/Data_Analysis/blob/main/Netflix_OTT.ipynb\" target=\"_parent\"><img src=\"https://colab.research.google.com/assets/colab-badge.svg\" alt=\"Open In Colab\"/></a>"
      ]
    },
    {
      "cell_type": "markdown",
      "source": [
        "## Access to google drive, Kaggle and import libraries"
      ],
      "metadata": {
        "id": "kDJV_-1e8sDC"
      }
    },
    {
      "cell_type": "code",
      "source": [
        "from google.colab import drive\n",
        "drive.mount('/content/drive')"
      ],
      "metadata": {
        "colab": {
          "base_uri": "https://localhost:8080/"
        },
        "id": "UUn8mTWL7vNx",
        "outputId": "bab62f96-66cf-4b3d-a507-b0006efed1cd"
      },
      "execution_count": 41,
      "outputs": [
        {
          "output_type": "stream",
          "name": "stdout",
          "text": [
            "Drive already mounted at /content/drive; to attempt to forcibly remount, call drive.mount(\"/content/drive\", force_remount=True).\n"
          ]
        }
      ]
    },
    {
      "cell_type": "code",
      "execution_count": 42,
      "metadata": {
        "id": "6cyjNQPJ5HAx"
      },
      "outputs": [],
      "source": [
        "import os \n",
        "import numpy as np\n",
        "import pandas as pd\n",
        "import matplotlib.pyplot as plt\n",
        "import plotly as px\n",
        "plt.style.use('fivethirtyeight')"
      ]
    },
    {
      "cell_type": "code",
      "source": [
        "os.environ['KAGGLE_CONFIG_DIR'] = '/content/drive/MyDrive/Colab Notebooks/Kaggle'"
      ],
      "metadata": {
        "id": "-_TTNFI37L9t"
      },
      "execution_count": 43,
      "outputs": []
    },
    {
      "cell_type": "code",
      "source": [
        "!kaggle datasets download -d mauryansshivam/netflix-ott-revenue-and-subscribers-csv-file"
      ],
      "metadata": {
        "colab": {
          "base_uri": "https://localhost:8080/"
        },
        "id": "V25-5fgi84W2",
        "outputId": "5d0abe86-3ae7-4158-938a-fafdbee3159a"
      },
      "execution_count": 44,
      "outputs": [
        {
          "output_type": "stream",
          "name": "stdout",
          "text": [
            "Downloading netflix-ott-revenue-and-subscribers-csv-file.zip to /content\n",
            "\r  0% 0.00/2.16k [00:00<?, ?B/s]\n",
            "\r100% 2.16k/2.16k [00:00<00:00, 5.28MB/s]\n"
          ]
        }
      ]
    },
    {
      "cell_type": "code",
      "source": [
        "!unzip '/content/netflix-ott-revenue-and-subscribers-csv-file.zip' && rm '/content/netflix-ott-revenue-and-subscribers-csv-file.zip'"
      ],
      "metadata": {
        "colab": {
          "base_uri": "https://localhost:8080/"
        },
        "id": "oDi46QuO88iY",
        "outputId": "182d438c-37ee-4a8a-a60f-31a0eb552883"
      },
      "execution_count": 45,
      "outputs": [
        {
          "output_type": "stream",
          "name": "stdout",
          "text": [
            "Archive:  /content/netflix-ott-revenue-and-subscribers-csv-file.zip\n",
            "  inflating: Netflix Revenue.csv     \n"
          ]
        }
      ]
    },
    {
      "cell_type": "code",
      "source": [
        "data = pd.read_csv('/content/drive/MyDrive/Colab Notebooks/2023/Netflix Revenue.csv')\n",
        "data.tail(5)"
      ],
      "metadata": {
        "colab": {
          "base_uri": "https://localhost:8080/",
          "height": 508
        },
        "id": "zrgknlhC9TC3",
        "outputId": "3f404163-6742-49a7-92be-25adaa207591"
      },
      "execution_count": 46,
      "outputs": [
        {
          "output_type": "execute_result",
          "data": {
            "text/plain": [
              "          Date  Global Revenue  UACN Revenue  EMEA Revenue  LATM Revenue  \\\n",
              "40  31-03-2022      7867767000  3.350424e+09  2.561831e+09  9.989480e+08   \n",
              "41  30-06-2022      7970141000  3.537863e+09  2.457235e+09  1.030234e+09   \n",
              "42  30-09-2022      7925589000  3.601565e+09  2.375814e+09  1.023945e+09   \n",
              "43  31-12-2022      7852053000  3.594791e+09  2.350135e+09  1.016846e+09   \n",
              "44  31-03-2023      8161503000  3.608645e+09  2.517641e+09  1.070192e+09   \n",
              "\n",
              "    APAC Revenue  UACN Members  EMEA  Members  LATM Members  APAC Members  \\\n",
              "40   916754000.0    74579000.0     73733000.0    39610000.0    33719000.0   \n",
              "41   907719000.0    73283000.0     72966000.0    39624000.0    34799000.0   \n",
              "42   889037000.0    73387000.0     73534000.0    39936000.0    36228000.0   \n",
              "43   856711000.0    74296000.0     76729000.0    41699000.0    38023000.0   \n",
              "44   933523000.0    74398000.0     77373000.0    41249000.0    39478000.0   \n",
              "\n",
              "    ...  EMEA RPU  LATM  RPU  APAC  RPU  Domestic Members  Domestic Revenue  \\\n",
              "40  ...     11.56       8.37       9.21               NaN               NaN   \n",
              "41  ...     11.17       8.67       8.83               NaN               NaN   \n",
              "42  ...     10.81       8.58       8.34               NaN               NaN   \n",
              "43  ...     10.43       8.30       7.69               NaN               NaN   \n",
              "44  ...     10.89       8.60       8.03               NaN               NaN   \n",
              "\n",
              "    International Members  International Revenue  Domestic Free Trialers  \\\n",
              "40                    NaN                    NaN                     NaN   \n",
              "41                    NaN                    NaN                     NaN   \n",
              "42                    NaN                    NaN                     NaN   \n",
              "43                    NaN                    NaN                     NaN   \n",
              "44                    NaN                    NaN                     NaN   \n",
              "\n",
              "    Interntaional Free Trialers  Netflix Global Users  \n",
              "40                          NaN          22,16,41,000  \n",
              "41                          NaN          22,06,72,000  \n",
              "42                          NaN          22,30,85,000  \n",
              "43                          NaN          23,07,47,000  \n",
              "44                          NaN          23,24,98,000  \n",
              "\n",
              "[5 rows x 21 columns]"
            ],
            "text/html": [
              "\n",
              "  <div id=\"df-96872a6f-884d-4f96-96d3-e09344a95bdd\">\n",
              "    <div class=\"colab-df-container\">\n",
              "      <div>\n",
              "<style scoped>\n",
              "    .dataframe tbody tr th:only-of-type {\n",
              "        vertical-align: middle;\n",
              "    }\n",
              "\n",
              "    .dataframe tbody tr th {\n",
              "        vertical-align: top;\n",
              "    }\n",
              "\n",
              "    .dataframe thead th {\n",
              "        text-align: right;\n",
              "    }\n",
              "</style>\n",
              "<table border=\"1\" class=\"dataframe\">\n",
              "  <thead>\n",
              "    <tr style=\"text-align: right;\">\n",
              "      <th></th>\n",
              "      <th>Date</th>\n",
              "      <th>Global Revenue</th>\n",
              "      <th>UACN Revenue</th>\n",
              "      <th>EMEA Revenue</th>\n",
              "      <th>LATM Revenue</th>\n",
              "      <th>APAC Revenue</th>\n",
              "      <th>UACN Members</th>\n",
              "      <th>EMEA  Members</th>\n",
              "      <th>LATM Members</th>\n",
              "      <th>APAC Members</th>\n",
              "      <th>...</th>\n",
              "      <th>EMEA RPU</th>\n",
              "      <th>LATM  RPU</th>\n",
              "      <th>APAC  RPU</th>\n",
              "      <th>Domestic Members</th>\n",
              "      <th>Domestic Revenue</th>\n",
              "      <th>International Members</th>\n",
              "      <th>International Revenue</th>\n",
              "      <th>Domestic Free Trialers</th>\n",
              "      <th>Interntaional Free Trialers</th>\n",
              "      <th>Netflix Global Users</th>\n",
              "    </tr>\n",
              "  </thead>\n",
              "  <tbody>\n",
              "    <tr>\n",
              "      <th>40</th>\n",
              "      <td>31-03-2022</td>\n",
              "      <td>7867767000</td>\n",
              "      <td>3.350424e+09</td>\n",
              "      <td>2.561831e+09</td>\n",
              "      <td>9.989480e+08</td>\n",
              "      <td>916754000.0</td>\n",
              "      <td>74579000.0</td>\n",
              "      <td>73733000.0</td>\n",
              "      <td>39610000.0</td>\n",
              "      <td>33719000.0</td>\n",
              "      <td>...</td>\n",
              "      <td>11.56</td>\n",
              "      <td>8.37</td>\n",
              "      <td>9.21</td>\n",
              "      <td>NaN</td>\n",
              "      <td>NaN</td>\n",
              "      <td>NaN</td>\n",
              "      <td>NaN</td>\n",
              "      <td>NaN</td>\n",
              "      <td>NaN</td>\n",
              "      <td>22,16,41,000</td>\n",
              "    </tr>\n",
              "    <tr>\n",
              "      <th>41</th>\n",
              "      <td>30-06-2022</td>\n",
              "      <td>7970141000</td>\n",
              "      <td>3.537863e+09</td>\n",
              "      <td>2.457235e+09</td>\n",
              "      <td>1.030234e+09</td>\n",
              "      <td>907719000.0</td>\n",
              "      <td>73283000.0</td>\n",
              "      <td>72966000.0</td>\n",
              "      <td>39624000.0</td>\n",
              "      <td>34799000.0</td>\n",
              "      <td>...</td>\n",
              "      <td>11.17</td>\n",
              "      <td>8.67</td>\n",
              "      <td>8.83</td>\n",
              "      <td>NaN</td>\n",
              "      <td>NaN</td>\n",
              "      <td>NaN</td>\n",
              "      <td>NaN</td>\n",
              "      <td>NaN</td>\n",
              "      <td>NaN</td>\n",
              "      <td>22,06,72,000</td>\n",
              "    </tr>\n",
              "    <tr>\n",
              "      <th>42</th>\n",
              "      <td>30-09-2022</td>\n",
              "      <td>7925589000</td>\n",
              "      <td>3.601565e+09</td>\n",
              "      <td>2.375814e+09</td>\n",
              "      <td>1.023945e+09</td>\n",
              "      <td>889037000.0</td>\n",
              "      <td>73387000.0</td>\n",
              "      <td>73534000.0</td>\n",
              "      <td>39936000.0</td>\n",
              "      <td>36228000.0</td>\n",
              "      <td>...</td>\n",
              "      <td>10.81</td>\n",
              "      <td>8.58</td>\n",
              "      <td>8.34</td>\n",
              "      <td>NaN</td>\n",
              "      <td>NaN</td>\n",
              "      <td>NaN</td>\n",
              "      <td>NaN</td>\n",
              "      <td>NaN</td>\n",
              "      <td>NaN</td>\n",
              "      <td>22,30,85,000</td>\n",
              "    </tr>\n",
              "    <tr>\n",
              "      <th>43</th>\n",
              "      <td>31-12-2022</td>\n",
              "      <td>7852053000</td>\n",
              "      <td>3.594791e+09</td>\n",
              "      <td>2.350135e+09</td>\n",
              "      <td>1.016846e+09</td>\n",
              "      <td>856711000.0</td>\n",
              "      <td>74296000.0</td>\n",
              "      <td>76729000.0</td>\n",
              "      <td>41699000.0</td>\n",
              "      <td>38023000.0</td>\n",
              "      <td>...</td>\n",
              "      <td>10.43</td>\n",
              "      <td>8.30</td>\n",
              "      <td>7.69</td>\n",
              "      <td>NaN</td>\n",
              "      <td>NaN</td>\n",
              "      <td>NaN</td>\n",
              "      <td>NaN</td>\n",
              "      <td>NaN</td>\n",
              "      <td>NaN</td>\n",
              "      <td>23,07,47,000</td>\n",
              "    </tr>\n",
              "    <tr>\n",
              "      <th>44</th>\n",
              "      <td>31-03-2023</td>\n",
              "      <td>8161503000</td>\n",
              "      <td>3.608645e+09</td>\n",
              "      <td>2.517641e+09</td>\n",
              "      <td>1.070192e+09</td>\n",
              "      <td>933523000.0</td>\n",
              "      <td>74398000.0</td>\n",
              "      <td>77373000.0</td>\n",
              "      <td>41249000.0</td>\n",
              "      <td>39478000.0</td>\n",
              "      <td>...</td>\n",
              "      <td>10.89</td>\n",
              "      <td>8.60</td>\n",
              "      <td>8.03</td>\n",
              "      <td>NaN</td>\n",
              "      <td>NaN</td>\n",
              "      <td>NaN</td>\n",
              "      <td>NaN</td>\n",
              "      <td>NaN</td>\n",
              "      <td>NaN</td>\n",
              "      <td>23,24,98,000</td>\n",
              "    </tr>\n",
              "  </tbody>\n",
              "</table>\n",
              "<p>5 rows × 21 columns</p>\n",
              "</div>\n",
              "      <button class=\"colab-df-convert\" onclick=\"convertToInteractive('df-96872a6f-884d-4f96-96d3-e09344a95bdd')\"\n",
              "              title=\"Convert this dataframe to an interactive table.\"\n",
              "              style=\"display:none;\">\n",
              "        \n",
              "  <svg xmlns=\"http://www.w3.org/2000/svg\" height=\"24px\"viewBox=\"0 0 24 24\"\n",
              "       width=\"24px\">\n",
              "    <path d=\"M0 0h24v24H0V0z\" fill=\"none\"/>\n",
              "    <path d=\"M18.56 5.44l.94 2.06.94-2.06 2.06-.94-2.06-.94-.94-2.06-.94 2.06-2.06.94zm-11 1L8.5 8.5l.94-2.06 2.06-.94-2.06-.94L8.5 2.5l-.94 2.06-2.06.94zm10 10l.94 2.06.94-2.06 2.06-.94-2.06-.94-.94-2.06-.94 2.06-2.06.94z\"/><path d=\"M17.41 7.96l-1.37-1.37c-.4-.4-.92-.59-1.43-.59-.52 0-1.04.2-1.43.59L10.3 9.45l-7.72 7.72c-.78.78-.78 2.05 0 2.83L4 21.41c.39.39.9.59 1.41.59.51 0 1.02-.2 1.41-.59l7.78-7.78 2.81-2.81c.8-.78.8-2.07 0-2.86zM5.41 20L4 18.59l7.72-7.72 1.47 1.35L5.41 20z\"/>\n",
              "  </svg>\n",
              "      </button>\n",
              "      \n",
              "  <style>\n",
              "    .colab-df-container {\n",
              "      display:flex;\n",
              "      flex-wrap:wrap;\n",
              "      gap: 12px;\n",
              "    }\n",
              "\n",
              "    .colab-df-convert {\n",
              "      background-color: #E8F0FE;\n",
              "      border: none;\n",
              "      border-radius: 50%;\n",
              "      cursor: pointer;\n",
              "      display: none;\n",
              "      fill: #1967D2;\n",
              "      height: 32px;\n",
              "      padding: 0 0 0 0;\n",
              "      width: 32px;\n",
              "    }\n",
              "\n",
              "    .colab-df-convert:hover {\n",
              "      background-color: #E2EBFA;\n",
              "      box-shadow: 0px 1px 2px rgba(60, 64, 67, 0.3), 0px 1px 3px 1px rgba(60, 64, 67, 0.15);\n",
              "      fill: #174EA6;\n",
              "    }\n",
              "\n",
              "    [theme=dark] .colab-df-convert {\n",
              "      background-color: #3B4455;\n",
              "      fill: #D2E3FC;\n",
              "    }\n",
              "\n",
              "    [theme=dark] .colab-df-convert:hover {\n",
              "      background-color: #434B5C;\n",
              "      box-shadow: 0px 1px 3px 1px rgba(0, 0, 0, 0.15);\n",
              "      filter: drop-shadow(0px 1px 2px rgba(0, 0, 0, 0.3));\n",
              "      fill: #FFFFFF;\n",
              "    }\n",
              "  </style>\n",
              "\n",
              "      <script>\n",
              "        const buttonEl =\n",
              "          document.querySelector('#df-96872a6f-884d-4f96-96d3-e09344a95bdd button.colab-df-convert');\n",
              "        buttonEl.style.display =\n",
              "          google.colab.kernel.accessAllowed ? 'block' : 'none';\n",
              "\n",
              "        async function convertToInteractive(key) {\n",
              "          const element = document.querySelector('#df-96872a6f-884d-4f96-96d3-e09344a95bdd');\n",
              "          const dataTable =\n",
              "            await google.colab.kernel.invokeFunction('convertToInteractive',\n",
              "                                                     [key], {});\n",
              "          if (!dataTable) return;\n",
              "\n",
              "          const docLinkHtml = 'Like what you see? Visit the ' +\n",
              "            '<a target=\"_blank\" href=https://colab.research.google.com/notebooks/data_table.ipynb>data table notebook</a>'\n",
              "            + ' to learn more about interactive tables.';\n",
              "          element.innerHTML = '';\n",
              "          dataTable['output_type'] = 'display_data';\n",
              "          await google.colab.output.renderOutput(dataTable, element);\n",
              "          const docLink = document.createElement('div');\n",
              "          docLink.innerHTML = docLinkHtml;\n",
              "          element.appendChild(docLink);\n",
              "        }\n",
              "      </script>\n",
              "    </div>\n",
              "  </div>\n",
              "  "
            ]
          },
          "metadata": {},
          "execution_count": 46
        }
      ]
    },
    {
      "cell_type": "markdown",
      "source": [
        "## Explorer, Clean and Analysis Data 🧹"
      ],
      "metadata": {
        "id": "CqrkAV9dEnQB"
      }
    },
    {
      "cell_type": "code",
      "source": [
        "data.shape"
      ],
      "metadata": {
        "colab": {
          "base_uri": "https://localhost:8080/"
        },
        "id": "X0Q-RkqLCeCt",
        "outputId": "bdfbdcfb-00a0-4506-ff18-614a5af52c49"
      },
      "execution_count": 47,
      "outputs": [
        {
          "output_type": "execute_result",
          "data": {
            "text/plain": [
              "(45, 21)"
            ]
          },
          "metadata": {},
          "execution_count": 47
        }
      ]
    },
    {
      "cell_type": "code",
      "source": [
        "data.info()"
      ],
      "metadata": {
        "colab": {
          "base_uri": "https://localhost:8080/"
        },
        "id": "wYc8I5u99XC_",
        "outputId": "ba3ac266-3eb9-4773-b35a-9f7f2bcd5bcd"
      },
      "execution_count": 48,
      "outputs": [
        {
          "output_type": "stream",
          "name": "stdout",
          "text": [
            "<class 'pandas.core.frame.DataFrame'>\n",
            "RangeIndex: 45 entries, 0 to 44\n",
            "Data columns (total 21 columns):\n",
            " #   Column                       Non-Null Count  Dtype  \n",
            "---  ------                       --------------  -----  \n",
            " 0   Date                         45 non-null     object \n",
            " 1   Global Revenue               45 non-null     int64  \n",
            " 2   UACN Revenue                 17 non-null     float64\n",
            " 3   EMEA Revenue                 17 non-null     float64\n",
            " 4   LATM Revenue                 17 non-null     float64\n",
            " 5   APAC Revenue                 17 non-null     float64\n",
            " 6   UACN Members                 17 non-null     float64\n",
            " 7   EMEA  Members                17 non-null     float64\n",
            " 8   LATM Members                 17 non-null     float64\n",
            " 9   APAC Members                 17 non-null     float64\n",
            " 10  UACN RPU                     17 non-null     float64\n",
            " 11  EMEA RPU                     17 non-null     float64\n",
            " 12  LATM  RPU                    17 non-null     float64\n",
            " 13  APAC  RPU                    17 non-null     float64\n",
            " 14  Domestic Members             28 non-null     float64\n",
            " 15  Domestic Revenue             28 non-null     float64\n",
            " 16  International Members        28 non-null     float64\n",
            " 17  International Revenue        28 non-null     float64\n",
            " 18  Domestic Free Trialers       12 non-null     float64\n",
            " 19  Interntaional Free Trialers  12 non-null     float64\n",
            " 20  Netflix Global Users         45 non-null     object \n",
            "dtypes: float64(18), int64(1), object(2)\n",
            "memory usage: 7.5+ KB\n"
          ]
        }
      ]
    },
    {
      "cell_type": "code",
      "source": [
        "data.isnull().sum()"
      ],
      "metadata": {
        "colab": {
          "base_uri": "https://localhost:8080/"
        },
        "id": "kRvaoCv2CY1_",
        "outputId": "fff50b60-d3c5-49fa-cd84-e895782cfdc3"
      },
      "execution_count": 49,
      "outputs": [
        {
          "output_type": "execute_result",
          "data": {
            "text/plain": [
              "Date                            0\n",
              "Global Revenue                  0\n",
              "UACN Revenue                   28\n",
              "EMEA Revenue                   28\n",
              "LATM Revenue                   28\n",
              "APAC Revenue                   28\n",
              "UACN Members                   28\n",
              "EMEA  Members                  28\n",
              "LATM Members                   28\n",
              "APAC Members                   28\n",
              "UACN RPU                       28\n",
              "EMEA RPU                       28\n",
              "LATM  RPU                      28\n",
              "APAC  RPU                      28\n",
              "Domestic Members               17\n",
              "Domestic Revenue               17\n",
              "International Members          17\n",
              "International Revenue          17\n",
              "Domestic Free Trialers         33\n",
              "Interntaional Free Trialers    33\n",
              "Netflix Global Users            0\n",
              "dtype: int64"
            ]
          },
          "metadata": {},
          "execution_count": 49
        }
      ]
    },
    {
      "cell_type": "code",
      "source": [
        "# Change types to columns\n",
        "\n",
        "data['Date'] = pd.to_datetime(data['Date'])\n",
        "data['Netflix Global Users'] = data['Netflix Global Users'].str.replace(\",\",\"\")\n",
        "data['Netflix Global Users'] = pd.to_numeric(data['Netflix Global Users'])\n",
        "data.info()"
      ],
      "metadata": {
        "colab": {
          "base_uri": "https://localhost:8080/"
        },
        "id": "pw9p_9Om9pqm",
        "outputId": "a49e86bd-aac8-468f-c91a-99e049ff145d"
      },
      "execution_count": 50,
      "outputs": [
        {
          "output_type": "stream",
          "name": "stdout",
          "text": [
            "<class 'pandas.core.frame.DataFrame'>\n",
            "RangeIndex: 45 entries, 0 to 44\n",
            "Data columns (total 21 columns):\n",
            " #   Column                       Non-Null Count  Dtype         \n",
            "---  ------                       --------------  -----         \n",
            " 0   Date                         45 non-null     datetime64[ns]\n",
            " 1   Global Revenue               45 non-null     int64         \n",
            " 2   UACN Revenue                 17 non-null     float64       \n",
            " 3   EMEA Revenue                 17 non-null     float64       \n",
            " 4   LATM Revenue                 17 non-null     float64       \n",
            " 5   APAC Revenue                 17 non-null     float64       \n",
            " 6   UACN Members                 17 non-null     float64       \n",
            " 7   EMEA  Members                17 non-null     float64       \n",
            " 8   LATM Members                 17 non-null     float64       \n",
            " 9   APAC Members                 17 non-null     float64       \n",
            " 10  UACN RPU                     17 non-null     float64       \n",
            " 11  EMEA RPU                     17 non-null     float64       \n",
            " 12  LATM  RPU                    17 non-null     float64       \n",
            " 13  APAC  RPU                    17 non-null     float64       \n",
            " 14  Domestic Members             28 non-null     float64       \n",
            " 15  Domestic Revenue             28 non-null     float64       \n",
            " 16  International Members        28 non-null     float64       \n",
            " 17  International Revenue        28 non-null     float64       \n",
            " 18  Domestic Free Trialers       12 non-null     float64       \n",
            " 19  Interntaional Free Trialers  12 non-null     float64       \n",
            " 20  Netflix Global Users         45 non-null     int64         \n",
            "dtypes: datetime64[ns](1), float64(18), int64(2)\n",
            "memory usage: 7.5 KB\n"
          ]
        },
        {
          "output_type": "stream",
          "name": "stderr",
          "text": [
            "<ipython-input-50-56dd14e93b5d>:3: UserWarning: Parsing dates in DD/MM/YYYY format when dayfirst=False (the default) was specified. This may lead to inconsistently parsed dates! Specify a format to ensure consistent parsing.\n",
            "  data['Date'] = pd.to_datetime(data['Date'])\n"
          ]
        }
      ]
    },
    {
      "cell_type": "code",
      "source": [
        "# Create 3 new columns Year,Month,Day from Date column\n",
        "\n",
        "data['Year'] = data['Date'].dt.year\n",
        "data['Month'] = data['Date'].dt.month"
      ],
      "metadata": {
        "id": "0fs9tZuP95dm"
      },
      "execution_count": 51,
      "outputs": []
    },
    {
      "cell_type": "code",
      "source": [
        "pv_revenue = pd.pivot_table(\n",
        "    data, index='Year',\n",
        "    values =['Global Revenue','UACN Revenue','EMEA Revenue','LATM Revenue','APAC Revenue'],aggfunc='sum',fill_value=0,)"
      ],
      "metadata": {
        "id": "CHQtqN7dEirP"
      },
      "execution_count": 57,
      "outputs": []
    },
    {
      "cell_type": "code",
      "source": [
        "pv_members = pd.pivot_table(data,\n",
        "                            index='Year',\n",
        "                            values=['UACN Members','EMEA  Members','LATM Members','APAC Members'],\n",
        "                            aggfunc='sum', fill_value=0)\n"
      ],
      "metadata": {
        "id": "jnA3ern_IzyH"
      },
      "execution_count": 58,
      "outputs": []
    },
    {
      "cell_type": "code",
      "source": [
        "pv_rpu = pd.pivot_table(data,index='Year',\n",
        "                        values=['UACN Members','EMEA  Members','LATM Members','APAC Members'],\n",
        "                        aggfunc='sum',fill_value=0)\n"
      ],
      "metadata": {
        "id": "___yd6_hQiGY"
      },
      "execution_count": 59,
      "outputs": []
    },
    {
      "cell_type": "code",
      "source": [
        "pv_resume = pd.pivot_table(data,index='Year',\n",
        "                           values=['International Members','International Revenue','Netflix Global Users'],\n",
        "                           aggfunc='sum',fill_value=0)"
      ],
      "metadata": {
        "id": "aCFOVYHGp0dF"
      },
      "execution_count": 79,
      "outputs": []
    },
    {
      "cell_type": "markdown",
      "source": [
        "## Pivot Tables with Revenue, RPU and Members by Continent 🌏"
      ],
      "metadata": {
        "id": "XHwLH4Wem29A"
      }
    },
    {
      "cell_type": "code",
      "source": [
        "print(\"NETFLIX REVENUE💲 \\n\",\"\\n\",pv_revenue,\"\\n\",\"\\n\",\"NETFLIX RPU📊 \\n\",\"\\n\",pv_rpu,\"\\n\",\n",
        "      \"\\n\",\"NETFLIX MEMBERS👨‍👦‍👦 \\n\",\"\\n\",pv_members,\"\\n\",\"\\n\",\n",
        "      \"SUMARIZE OF MEMBERS AND REVENUE 👨‍👦‍👦💲\",\"\\n\\n\",pv_resume)"
      ],
      "metadata": {
        "colab": {
          "base_uri": "https://localhost:8080/"
        },
        "id": "pUAaXfI8l0J9",
        "outputId": "60b5a25c-7b77-4f9b-84b8-87eaef72d914"
      },
      "execution_count": 80,
      "outputs": [
        {
          "output_type": "stream",
          "name": "stdout",
          "text": [
            "NETFLIX REVENUE💲 \n",
            " \n",
            "       APAC Revenue  EMEA Revenue  Global Revenue  LATM Revenue  UACN Revenue\n",
            "Year                                                                        \n",
            "2012             0             0      3609282000             0             0\n",
            "2013             0             0      4374562000             0             0\n",
            "2014             0             0      5504656000             0             0\n",
            "2015             0             0      6779511000             0             0\n",
            "2016             0             0      8830669000             0             0\n",
            "2017             0             0     11692713000             0             0\n",
            "2018             0             0     15794341000             0             0\n",
            "2019    1469521000    5543067000     20156447000    2795434000   10051208000\n",
            "2020    2372300000    7772252000     24996056000    3156727000   11455396000\n",
            "2021    3266601000    9699819000     29697844000    3576976000   12972100000\n",
            "2022    3570221000    9745015000     31615550000    4069973000   14084643000\n",
            "2023     933523000    2517641000      8161503000    1070192000    3608645000 \n",
            " \n",
            " NETFLIX RPU📊 \n",
            " \n",
            "       APAC Members  EMEA  Members  LATM Members  UACN Members\n",
            "Year                                                         \n",
            "2012             0              0             0             0\n",
            "2013             0              0             0             0\n",
            "2014             0              0             0             0\n",
            "2015             0              0             0             0\n",
            "2016             0              0             0             0\n",
            "2017             0              0             0             0\n",
            "2018             0              0             0             0\n",
            "2019      55801000      185904000     116234000     267910000\n",
            "2020      91323000      249157000     144247000     289890000\n",
            "2021     117411000      281740000     155501000     297574000\n",
            "2022     142769000      296962000     160869000     295545000\n",
            "2023      39478000       77373000      41249000      74398000 \n",
            " \n",
            " NETFLIX MEMBERS👨‍👦‍👦 \n",
            " \n",
            "       APAC Members  EMEA  Members  LATM Members  UACN Members\n",
            "Year                                                         \n",
            "2012             0              0             0             0\n",
            "2013             0              0             0             0\n",
            "2014             0              0             0             0\n",
            "2015             0              0             0             0\n",
            "2016             0              0             0             0\n",
            "2017             0              0             0             0\n",
            "2018             0              0             0             0\n",
            "2019      55801000      185904000     116234000     267910000\n",
            "2020      91323000      249157000     144247000     289890000\n",
            "2021     117411000      281740000     155501000     297574000\n",
            "2022     142769000      296962000     160869000     295545000\n",
            "2023      39478000       77373000      41249000      74398000 \n",
            " \n",
            " SUMARIZE OF MEMBERS AND REVENUE 👨‍👦‍👦💲 \n",
            "\n",
            "       International Members  International Revenue  Netflix Global Users\n",
            "Year                                                                    \n",
            "2012               14014000              287542000            2198882000\n",
            "2013               31151000              712390000            2782526000\n",
            "2014               55829000             1308061000            3487263000\n",
            "2015               92342000             1953435000            4272681000\n",
            "2016              143869000             3211095000            5221176000\n",
            "2017              204213000             5089191000            5293404000\n",
            "2018              286448000             7782105000            7933095000\n",
            "2019                      0                      0             625849000\n",
            "2020                      0                      0             774617000\n",
            "2021                      0                      0             852226000\n",
            "2022                      0                      0             896145000\n",
            "2023                      0                      0             232498000\n"
          ]
        }
      ]
    },
    {
      "cell_type": "code",
      "source": [],
      "metadata": {
        "id": "F2OiwzUGmzwh"
      },
      "execution_count": null,
      "outputs": []
    },
    {
      "cell_type": "code",
      "source": [],
      "metadata": {
        "id": "YljJxrMEl0Mg"
      },
      "execution_count": null,
      "outputs": []
    },
    {
      "cell_type": "code",
      "source": [
        "data.info()"
      ],
      "metadata": {
        "colab": {
          "base_uri": "https://localhost:8080/"
        },
        "id": "uJSHR1krQiJC",
        "outputId": "86424da7-a3bc-4e76-cec6-be384cdb9d9d"
      },
      "execution_count": 55,
      "outputs": [
        {
          "output_type": "stream",
          "name": "stdout",
          "text": [
            "<class 'pandas.core.frame.DataFrame'>\n",
            "RangeIndex: 45 entries, 0 to 44\n",
            "Data columns (total 23 columns):\n",
            " #   Column                       Non-Null Count  Dtype         \n",
            "---  ------                       --------------  -----         \n",
            " 0   Date                         45 non-null     datetime64[ns]\n",
            " 1   Global Revenue               45 non-null     int64         \n",
            " 2   UACN Revenue                 17 non-null     float64       \n",
            " 3   EMEA Revenue                 17 non-null     float64       \n",
            " 4   LATM Revenue                 17 non-null     float64       \n",
            " 5   APAC Revenue                 17 non-null     float64       \n",
            " 6   UACN Members                 17 non-null     float64       \n",
            " 7   EMEA  Members                17 non-null     float64       \n",
            " 8   LATM Members                 17 non-null     float64       \n",
            " 9   APAC Members                 17 non-null     float64       \n",
            " 10  UACN RPU                     17 non-null     float64       \n",
            " 11  EMEA RPU                     17 non-null     float64       \n",
            " 12  LATM  RPU                    17 non-null     float64       \n",
            " 13  APAC  RPU                    17 non-null     float64       \n",
            " 14  Domestic Members             28 non-null     float64       \n",
            " 15  Domestic Revenue             28 non-null     float64       \n",
            " 16  International Members        28 non-null     float64       \n",
            " 17  International Revenue        28 non-null     float64       \n",
            " 18  Domestic Free Trialers       12 non-null     float64       \n",
            " 19  Interntaional Free Trialers  12 non-null     float64       \n",
            " 20  Netflix Global Users         45 non-null     int64         \n",
            " 21  Year                         45 non-null     int64         \n",
            " 22  Month                        45 non-null     int64         \n",
            "dtypes: datetime64[ns](1), float64(18), int64(4)\n",
            "memory usage: 8.2 KB\n"
          ]
        }
      ]
    },
    {
      "cell_type": "code",
      "source": [],
      "metadata": {
        "id": "vGrWVXt1QjSR"
      },
      "execution_count": 54,
      "outputs": []
    }
  ]
}