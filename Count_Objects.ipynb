{
  "nbformat": 4,
  "nbformat_minor": 0,
  "metadata": {
    "colab": {
      "name": "Count_Objects.ipynb",
      "provenance": [],
      "authorship_tag": "ABX9TyN2aoCjqG56+Az7uANAv6UW",
      "include_colab_link": true
    },
    "kernelspec": {
      "name": "python3",
      "display_name": "Python 3"
    },
    "language_info": {
      "name": "python"
    }
  },
  "cells": [
    {
      "cell_type": "markdown",
      "metadata": {
        "id": "view-in-github",
        "colab_type": "text"
      },
      "source": [
        "<a href=\"https://colab.research.google.com/github/danielrodriguez007/Data_Analysis/blob/main/Count_Objects.ipynb\" target=\"_parent\"><img src=\"https://colab.research.google.com/assets/colab-badge.svg\" alt=\"Open In Colab\"/></a>"
      ]
    },
    {
      "cell_type": "code",
      "execution_count": 1,
      "metadata": {
        "colab": {
          "base_uri": "https://localhost:8080/"
        },
        "id": "nJLFDlv_UvUh",
        "outputId": "ba3e8f50-d11d-4143-912a-f4e6687890e6"
      },
      "outputs": [
        {
          "output_type": "stream",
          "name": "stdout",
          "text": [
            "Mounted at /content/drive\n"
          ]
        }
      ],
      "source": [
        "from google.colab import drive\n",
        "drive.mount ('/content/drive')"
      ]
    },
    {
      "cell_type": "code",
      "source": [
        "!pip install cvlib"
      ],
      "metadata": {
        "colab": {
          "base_uri": "https://localhost:8080/"
        },
        "id": "S8CjROECY3kU",
        "outputId": "fadb1f96-242b-44be-e3ee-99d1d3c99377"
      },
      "execution_count": 2,
      "outputs": [
        {
          "output_type": "stream",
          "name": "stdout",
          "text": [
            "Looking in indexes: https://pypi.org/simple, https://us-python.pkg.dev/colab-wheels/public/simple/\n",
            "Collecting cvlib\n",
            "  Downloading cvlib-0.2.7.tar.gz (13.1 MB)\n",
            "\u001b[K     |████████████████████████████████| 13.1 MB 3.7 MB/s \n",
            "\u001b[?25hRequirement already satisfied: numpy in /usr/local/lib/python3.7/dist-packages (from cvlib) (1.21.6)\n",
            "Collecting progressbar\n",
            "  Downloading progressbar-2.5.tar.gz (10 kB)\n",
            "Requirement already satisfied: requests in /usr/local/lib/python3.7/dist-packages (from cvlib) (2.23.0)\n",
            "Requirement already satisfied: pillow in /usr/local/lib/python3.7/dist-packages (from cvlib) (7.1.2)\n",
            "Requirement already satisfied: imageio in /usr/local/lib/python3.7/dist-packages (from cvlib) (2.9.0)\n",
            "Requirement already satisfied: imutils in /usr/local/lib/python3.7/dist-packages (from cvlib) (0.5.4)\n",
            "Requirement already satisfied: urllib3!=1.25.0,!=1.25.1,<1.26,>=1.21.1 in /usr/local/lib/python3.7/dist-packages (from requests->cvlib) (1.24.3)\n",
            "Requirement already satisfied: certifi>=2017.4.17 in /usr/local/lib/python3.7/dist-packages (from requests->cvlib) (2022.6.15)\n",
            "Requirement already satisfied: chardet<4,>=3.0.2 in /usr/local/lib/python3.7/dist-packages (from requests->cvlib) (3.0.4)\n",
            "Requirement already satisfied: idna<3,>=2.5 in /usr/local/lib/python3.7/dist-packages (from requests->cvlib) (2.10)\n",
            "Building wheels for collected packages: cvlib, progressbar\n",
            "  Building wheel for cvlib (setup.py) ... \u001b[?25l\u001b[?25hdone\n",
            "  Created wheel for cvlib: filename=cvlib-0.2.7-py3-none-any.whl size=10046385 sha256=f3116c70127e377a682e4b9252d50bbc021fb7dd70ee349d395a33e1fce1eedd\n",
            "  Stored in directory: /root/.cache/pip/wheels/8e/d7/31/bc643bd3a8b11a7368b1ab1d8a6299b33b462ed0b0683ddc5a\n",
            "  Building wheel for progressbar (setup.py) ... \u001b[?25l\u001b[?25hdone\n",
            "  Created wheel for progressbar: filename=progressbar-2.5-py3-none-any.whl size=12082 sha256=bc2f349a299429c3bb8bb04b3c3f8992be9f472f301181d7c607a4b856d5d0c6\n",
            "  Stored in directory: /root/.cache/pip/wheels/f0/fd/1f/3e35ed57e94cd8ced38dd46771f1f0f94f65fec548659ed855\n",
            "Successfully built cvlib progressbar\n",
            "Installing collected packages: progressbar, cvlib\n",
            "Successfully installed cvlib-0.2.7 progressbar-2.5\n"
          ]
        }
      ]
    },
    {
      "cell_type": "code",
      "source": [
        "import cv2 \n",
        "import numpy as np \n",
        "import matplotlib.pyplot as plt\n",
        "import cvlib as cv \n",
        "from cvlib.object_detection import draw_bbox \n",
        "from numpy.lib.polynomial import poly \n"
      ],
      "metadata": {
        "id": "h3F7KZGEZv_N"
      },
      "execution_count": 3,
      "outputs": []
    },
    {
      "cell_type": "code",
      "source": [
        "image = cv2.imread(\"cars.jpeg\") \n",
        "box, label, count = cv.detect_common_objects(image)\n",
        "output = draw_bbox(image, box, label, count) \n",
        "plt.imshow(output) \n",
        "plt.show() \n",
        "print(\"Number of cars in this image are \" + str(label.count('car')))  "
      ],
      "metadata": {
        "id": "PVOdzwJpaRUM"
      },
      "execution_count": 7,
      "outputs": []
    }
  ]
}