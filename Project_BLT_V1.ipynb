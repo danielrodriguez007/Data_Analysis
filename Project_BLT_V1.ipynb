{
  "nbformat": 4,
  "nbformat_minor": 0,
  "metadata": {
    "colab": {
      "provenance": [],
      "authorship_tag": "ABX9TyPHW0tZo9gZ0KEU6BHBNgc1",
      "include_colab_link": true
    },
    "kernelspec": {
      "name": "python3",
      "display_name": "Python 3"
    },
    "language_info": {
      "name": "python"
    }
  },
  "cells": [
    {
      "cell_type": "markdown",
      "metadata": {
        "id": "view-in-github",
        "colab_type": "text"
      },
      "source": [
        "<a href=\"https://colab.research.google.com/github/danielrodriguez007/Data_Analysis/blob/main/Project_BLT_V1.ipynb\" target=\"_parent\"><img src=\"https://colab.research.google.com/assets/colab-badge.svg\" alt=\"Open In Colab\"/></a>"
      ]
    },
    {
      "cell_type": "markdown",
      "source": [
        "# **ACCESS DRIVE & KAGGLE**"
      ],
      "metadata": {
        "id": "89wbTDsAkT2e"
      }
    },
    {
      "cell_type": "code",
      "execution_count": null,
      "metadata": {
        "colab": {
          "base_uri": "https://localhost:8080/"
        },
        "id": "Pm7yeeCOKnRn",
        "outputId": "f9e4f838-6a32-4ce0-81ae-4bc6a928bb3e"
      },
      "outputs": [
        {
          "output_type": "stream",
          "name": "stdout",
          "text": [
            "Mounted at /content/drive\n"
          ]
        }
      ],
      "source": [
        "from google.colab import drive\n",
        "drive.mount('/content/drive')"
      ]
    },
    {
      "cell_type": "code",
      "source": [
        "import os\n",
        "os.environ['KAGGLE_CONFIG_DIR'] = '/content/drive/MyDrive/Colab Notebooks/Kaggle'"
      ],
      "metadata": {
        "id": "Ek9zdYeHKyTd"
      },
      "execution_count": null,
      "outputs": []
    },
    {
      "cell_type": "code",
      "source": [
        "!kaggle datasets download -d jaforero/baloto-colombia"
      ],
      "metadata": {
        "colab": {
          "base_uri": "https://localhost:8080/"
        },
        "id": "mQB3Mx2vLFWi",
        "outputId": "83db4e25-337b-43d4-f0c7-2e2cb99c7703"
      },
      "execution_count": null,
      "outputs": [
        {
          "output_type": "stream",
          "name": "stdout",
          "text": [
            "Downloading baloto-colombia.zip to /content\n",
            "\r  0% 0.00/10.5k [00:00<?, ?B/s]\n",
            "\r100% 10.5k/10.5k [00:00<00:00, 6.61MB/s]\n"
          ]
        }
      ]
    },
    {
      "cell_type": "code",
      "source": [
        "!unzip '/content/baloto-colombia.zip' && rm '/content/baloto-colombia.zip'"
      ],
      "metadata": {
        "colab": {
          "base_uri": "https://localhost:8080/"
        },
        "id": "pdwX5i9CLHjh",
        "outputId": "116d87d7-c3e1-49c4-9f4d-d9cb18b1e75e"
      },
      "execution_count": null,
      "outputs": [
        {
          "output_type": "stream",
          "name": "stdout",
          "text": [
            "Archive:  /content/baloto-colombia.zip\n",
            "  inflating: baloto.csv              \n",
            "  inflating: revancha.csv            \n"
          ]
        }
      ]
    },
    {
      "cell_type": "markdown",
      "source": [
        "# **IMPORTING LIBRARIES AND EXPLORING DATA**"
      ],
      "metadata": {
        "id": "h4Hmp1whkeac"
      }
    },
    {
      "cell_type": "code",
      "source": [
        "import numpy as np\n",
        "import pandas as pd\n",
        "import seaborn as sns\n",
        "import matplotlib.pyplot as plt\n",
        "from sklearn.linear_model import LinearRegression\n",
        "from sklearn.ensemble import RandomForestRegressor\n",
        "from sklearn.svm import SVR\n",
        "from sklearn.neighbors import KNeighborsRegressor\n",
        "from sklearn.model_selection import train_test_split\n",
        "from sklearn.metrics import mean_squared_error, mean_absolute_error, r2_score"
      ],
      "metadata": {
        "id": "JgYm8lTDLb6J"
      },
      "execution_count": null,
      "outputs": []
    },
    {
      "cell_type": "code",
      "source": [
        "sheet_id = '1ljFiutToaS49Mwz8QI4Qp4ekXjF0dR2HELuUt73k1yY'\n",
        "data = pd.read_csv(f\"https://docs.google.com/spreadsheets/d/{sheet_id}/export?format=csv\")\n",
        "data.head()"
      ],
      "metadata": {
        "colab": {
          "base_uri": "https://localhost:8080/",
          "height": 206
        },
        "id": "9In0fh4vLOvY",
        "outputId": "cfab4aea-f440-4e80-d9c2-92d56928dfd4"
      },
      "execution_count": null,
      "outputs": [
        {
          "output_type": "execute_result",
          "data": {
            "text/plain": [
              "        Date  C1  C2  C3  C4  C5  SB\n",
              "0  4/22/2017  15  28  36  37  41  10\n",
              "1  4/26/2017   1   2  25  31  33  14\n",
              "2  4/29/2017   6  19  25  28  36   1\n",
              "3   5/3/2017   5   6   7  12  37   6\n",
              "4   5/6/2017   1  20  36  39  43  10"
            ],
            "text/html": [
              "\n",
              "  <div id=\"df-60643ab3-8390-48ba-a91c-1761804f9941\">\n",
              "    <div class=\"colab-df-container\">\n",
              "      <div>\n",
              "<style scoped>\n",
              "    .dataframe tbody tr th:only-of-type {\n",
              "        vertical-align: middle;\n",
              "    }\n",
              "\n",
              "    .dataframe tbody tr th {\n",
              "        vertical-align: top;\n",
              "    }\n",
              "\n",
              "    .dataframe thead th {\n",
              "        text-align: right;\n",
              "    }\n",
              "</style>\n",
              "<table border=\"1\" class=\"dataframe\">\n",
              "  <thead>\n",
              "    <tr style=\"text-align: right;\">\n",
              "      <th></th>\n",
              "      <th>Date</th>\n",
              "      <th>C1</th>\n",
              "      <th>C2</th>\n",
              "      <th>C3</th>\n",
              "      <th>C4</th>\n",
              "      <th>C5</th>\n",
              "      <th>SB</th>\n",
              "    </tr>\n",
              "  </thead>\n",
              "  <tbody>\n",
              "    <tr>\n",
              "      <th>0</th>\n",
              "      <td>4/22/2017</td>\n",
              "      <td>15</td>\n",
              "      <td>28</td>\n",
              "      <td>36</td>\n",
              "      <td>37</td>\n",
              "      <td>41</td>\n",
              "      <td>10</td>\n",
              "    </tr>\n",
              "    <tr>\n",
              "      <th>1</th>\n",
              "      <td>4/26/2017</td>\n",
              "      <td>1</td>\n",
              "      <td>2</td>\n",
              "      <td>25</td>\n",
              "      <td>31</td>\n",
              "      <td>33</td>\n",
              "      <td>14</td>\n",
              "    </tr>\n",
              "    <tr>\n",
              "      <th>2</th>\n",
              "      <td>4/29/2017</td>\n",
              "      <td>6</td>\n",
              "      <td>19</td>\n",
              "      <td>25</td>\n",
              "      <td>28</td>\n",
              "      <td>36</td>\n",
              "      <td>1</td>\n",
              "    </tr>\n",
              "    <tr>\n",
              "      <th>3</th>\n",
              "      <td>5/3/2017</td>\n",
              "      <td>5</td>\n",
              "      <td>6</td>\n",
              "      <td>7</td>\n",
              "      <td>12</td>\n",
              "      <td>37</td>\n",
              "      <td>6</td>\n",
              "    </tr>\n",
              "    <tr>\n",
              "      <th>4</th>\n",
              "      <td>5/6/2017</td>\n",
              "      <td>1</td>\n",
              "      <td>20</td>\n",
              "      <td>36</td>\n",
              "      <td>39</td>\n",
              "      <td>43</td>\n",
              "      <td>10</td>\n",
              "    </tr>\n",
              "  </tbody>\n",
              "</table>\n",
              "</div>\n",
              "      <button class=\"colab-df-convert\" onclick=\"convertToInteractive('df-60643ab3-8390-48ba-a91c-1761804f9941')\"\n",
              "              title=\"Convert this dataframe to an interactive table.\"\n",
              "              style=\"display:none;\">\n",
              "        \n",
              "  <svg xmlns=\"http://www.w3.org/2000/svg\" height=\"24px\"viewBox=\"0 0 24 24\"\n",
              "       width=\"24px\">\n",
              "    <path d=\"M0 0h24v24H0V0z\" fill=\"none\"/>\n",
              "    <path d=\"M18.56 5.44l.94 2.06.94-2.06 2.06-.94-2.06-.94-.94-2.06-.94 2.06-2.06.94zm-11 1L8.5 8.5l.94-2.06 2.06-.94-2.06-.94L8.5 2.5l-.94 2.06-2.06.94zm10 10l.94 2.06.94-2.06 2.06-.94-2.06-.94-.94-2.06-.94 2.06-2.06.94z\"/><path d=\"M17.41 7.96l-1.37-1.37c-.4-.4-.92-.59-1.43-.59-.52 0-1.04.2-1.43.59L10.3 9.45l-7.72 7.72c-.78.78-.78 2.05 0 2.83L4 21.41c.39.39.9.59 1.41.59.51 0 1.02-.2 1.41-.59l7.78-7.78 2.81-2.81c.8-.78.8-2.07 0-2.86zM5.41 20L4 18.59l7.72-7.72 1.47 1.35L5.41 20z\"/>\n",
              "  </svg>\n",
              "      </button>\n",
              "      \n",
              "  <style>\n",
              "    .colab-df-container {\n",
              "      display:flex;\n",
              "      flex-wrap:wrap;\n",
              "      gap: 12px;\n",
              "    }\n",
              "\n",
              "    .colab-df-convert {\n",
              "      background-color: #E8F0FE;\n",
              "      border: none;\n",
              "      border-radius: 50%;\n",
              "      cursor: pointer;\n",
              "      display: none;\n",
              "      fill: #1967D2;\n",
              "      height: 32px;\n",
              "      padding: 0 0 0 0;\n",
              "      width: 32px;\n",
              "    }\n",
              "\n",
              "    .colab-df-convert:hover {\n",
              "      background-color: #E2EBFA;\n",
              "      box-shadow: 0px 1px 2px rgba(60, 64, 67, 0.3), 0px 1px 3px 1px rgba(60, 64, 67, 0.15);\n",
              "      fill: #174EA6;\n",
              "    }\n",
              "\n",
              "    [theme=dark] .colab-df-convert {\n",
              "      background-color: #3B4455;\n",
              "      fill: #D2E3FC;\n",
              "    }\n",
              "\n",
              "    [theme=dark] .colab-df-convert:hover {\n",
              "      background-color: #434B5C;\n",
              "      box-shadow: 0px 1px 3px 1px rgba(0, 0, 0, 0.15);\n",
              "      filter: drop-shadow(0px 1px 2px rgba(0, 0, 0, 0.3));\n",
              "      fill: #FFFFFF;\n",
              "    }\n",
              "  </style>\n",
              "\n",
              "      <script>\n",
              "        const buttonEl =\n",
              "          document.querySelector('#df-60643ab3-8390-48ba-a91c-1761804f9941 button.colab-df-convert');\n",
              "        buttonEl.style.display =\n",
              "          google.colab.kernel.accessAllowed ? 'block' : 'none';\n",
              "\n",
              "        async function convertToInteractive(key) {\n",
              "          const element = document.querySelector('#df-60643ab3-8390-48ba-a91c-1761804f9941');\n",
              "          const dataTable =\n",
              "            await google.colab.kernel.invokeFunction('convertToInteractive',\n",
              "                                                     [key], {});\n",
              "          if (!dataTable) return;\n",
              "\n",
              "          const docLinkHtml = 'Like what you see? Visit the ' +\n",
              "            '<a target=\"_blank\" href=https://colab.research.google.com/notebooks/data_table.ipynb>data table notebook</a>'\n",
              "            + ' to learn more about interactive tables.';\n",
              "          element.innerHTML = '';\n",
              "          dataTable['output_type'] = 'display_data';\n",
              "          await google.colab.output.renderOutput(dataTable, element);\n",
              "          const docLink = document.createElement('div');\n",
              "          docLink.innerHTML = docLinkHtml;\n",
              "          element.appendChild(docLink);\n",
              "        }\n",
              "      </script>\n",
              "    </div>\n",
              "  </div>\n",
              "  "
            ]
          },
          "metadata": {},
          "execution_count": 23
        }
      ]
    },
    {
      "cell_type": "code",
      "source": [
        "data[\"sum\"] = data.iloc[:, 1:7].sum(axis=1)\n",
        "data[\"range\"] = data.iloc[:, 1:7].max(axis=1) - data.iloc[:, 1:7].min(axis=1)\n",
        "data[\"max\"] = data.iloc[:, 1:7].max(axis=1)\n",
        "data[\"min\"] = data.iloc[:, 1:7].min(axis=1)\n",
        "data.tail()"
      ],
      "metadata": {
        "colab": {
          "base_uri": "https://localhost:8080/",
          "height": 206
        },
        "id": "Jyin3I12Lf57",
        "outputId": "04b591b7-33f5-47e9-8386-08daa1a66f00"
      },
      "execution_count": null,
      "outputs": [
        {
          "output_type": "execute_result",
          "data": {
            "text/plain": [
              "          Date  C1  C2  C3  C4  C5  SB  sum  range  max  min\n",
              "600   3/1/2023  16  36  39  42  23  11  167     31   42   11\n",
              "601   3/4/2023   5  33   4  12  24  12   90     29   33    4\n",
              "602   3/8/2023  26  41  35  24  36   7  169     34   41    7\n",
              "603  3/12/2023  24  35  20  29  11   2  121     33   35    2\n",
              "604  3/15/2023  29  30  28  21  19  12  139     18   30   12"
            ],
            "text/html": [
              "\n",
              "  <div id=\"df-17095bf7-3bfe-45f0-8725-aaea134089a9\">\n",
              "    <div class=\"colab-df-container\">\n",
              "      <div>\n",
              "<style scoped>\n",
              "    .dataframe tbody tr th:only-of-type {\n",
              "        vertical-align: middle;\n",
              "    }\n",
              "\n",
              "    .dataframe tbody tr th {\n",
              "        vertical-align: top;\n",
              "    }\n",
              "\n",
              "    .dataframe thead th {\n",
              "        text-align: right;\n",
              "    }\n",
              "</style>\n",
              "<table border=\"1\" class=\"dataframe\">\n",
              "  <thead>\n",
              "    <tr style=\"text-align: right;\">\n",
              "      <th></th>\n",
              "      <th>Date</th>\n",
              "      <th>C1</th>\n",
              "      <th>C2</th>\n",
              "      <th>C3</th>\n",
              "      <th>C4</th>\n",
              "      <th>C5</th>\n",
              "      <th>SB</th>\n",
              "      <th>sum</th>\n",
              "      <th>range</th>\n",
              "      <th>max</th>\n",
              "      <th>min</th>\n",
              "    </tr>\n",
              "  </thead>\n",
              "  <tbody>\n",
              "    <tr>\n",
              "      <th>600</th>\n",
              "      <td>3/1/2023</td>\n",
              "      <td>16</td>\n",
              "      <td>36</td>\n",
              "      <td>39</td>\n",
              "      <td>42</td>\n",
              "      <td>23</td>\n",
              "      <td>11</td>\n",
              "      <td>167</td>\n",
              "      <td>31</td>\n",
              "      <td>42</td>\n",
              "      <td>11</td>\n",
              "    </tr>\n",
              "    <tr>\n",
              "      <th>601</th>\n",
              "      <td>3/4/2023</td>\n",
              "      <td>5</td>\n",
              "      <td>33</td>\n",
              "      <td>4</td>\n",
              "      <td>12</td>\n",
              "      <td>24</td>\n",
              "      <td>12</td>\n",
              "      <td>90</td>\n",
              "      <td>29</td>\n",
              "      <td>33</td>\n",
              "      <td>4</td>\n",
              "    </tr>\n",
              "    <tr>\n",
              "      <th>602</th>\n",
              "      <td>3/8/2023</td>\n",
              "      <td>26</td>\n",
              "      <td>41</td>\n",
              "      <td>35</td>\n",
              "      <td>24</td>\n",
              "      <td>36</td>\n",
              "      <td>7</td>\n",
              "      <td>169</td>\n",
              "      <td>34</td>\n",
              "      <td>41</td>\n",
              "      <td>7</td>\n",
              "    </tr>\n",
              "    <tr>\n",
              "      <th>603</th>\n",
              "      <td>3/12/2023</td>\n",
              "      <td>24</td>\n",
              "      <td>35</td>\n",
              "      <td>20</td>\n",
              "      <td>29</td>\n",
              "      <td>11</td>\n",
              "      <td>2</td>\n",
              "      <td>121</td>\n",
              "      <td>33</td>\n",
              "      <td>35</td>\n",
              "      <td>2</td>\n",
              "    </tr>\n",
              "    <tr>\n",
              "      <th>604</th>\n",
              "      <td>3/15/2023</td>\n",
              "      <td>29</td>\n",
              "      <td>30</td>\n",
              "      <td>28</td>\n",
              "      <td>21</td>\n",
              "      <td>19</td>\n",
              "      <td>12</td>\n",
              "      <td>139</td>\n",
              "      <td>18</td>\n",
              "      <td>30</td>\n",
              "      <td>12</td>\n",
              "    </tr>\n",
              "  </tbody>\n",
              "</table>\n",
              "</div>\n",
              "      <button class=\"colab-df-convert\" onclick=\"convertToInteractive('df-17095bf7-3bfe-45f0-8725-aaea134089a9')\"\n",
              "              title=\"Convert this dataframe to an interactive table.\"\n",
              "              style=\"display:none;\">\n",
              "        \n",
              "  <svg xmlns=\"http://www.w3.org/2000/svg\" height=\"24px\"viewBox=\"0 0 24 24\"\n",
              "       width=\"24px\">\n",
              "    <path d=\"M0 0h24v24H0V0z\" fill=\"none\"/>\n",
              "    <path d=\"M18.56 5.44l.94 2.06.94-2.06 2.06-.94-2.06-.94-.94-2.06-.94 2.06-2.06.94zm-11 1L8.5 8.5l.94-2.06 2.06-.94-2.06-.94L8.5 2.5l-.94 2.06-2.06.94zm10 10l.94 2.06.94-2.06 2.06-.94-2.06-.94-.94-2.06-.94 2.06-2.06.94z\"/><path d=\"M17.41 7.96l-1.37-1.37c-.4-.4-.92-.59-1.43-.59-.52 0-1.04.2-1.43.59L10.3 9.45l-7.72 7.72c-.78.78-.78 2.05 0 2.83L4 21.41c.39.39.9.59 1.41.59.51 0 1.02-.2 1.41-.59l7.78-7.78 2.81-2.81c.8-.78.8-2.07 0-2.86zM5.41 20L4 18.59l7.72-7.72 1.47 1.35L5.41 20z\"/>\n",
              "  </svg>\n",
              "      </button>\n",
              "      \n",
              "  <style>\n",
              "    .colab-df-container {\n",
              "      display:flex;\n",
              "      flex-wrap:wrap;\n",
              "      gap: 12px;\n",
              "    }\n",
              "\n",
              "    .colab-df-convert {\n",
              "      background-color: #E8F0FE;\n",
              "      border: none;\n",
              "      border-radius: 50%;\n",
              "      cursor: pointer;\n",
              "      display: none;\n",
              "      fill: #1967D2;\n",
              "      height: 32px;\n",
              "      padding: 0 0 0 0;\n",
              "      width: 32px;\n",
              "    }\n",
              "\n",
              "    .colab-df-convert:hover {\n",
              "      background-color: #E2EBFA;\n",
              "      box-shadow: 0px 1px 2px rgba(60, 64, 67, 0.3), 0px 1px 3px 1px rgba(60, 64, 67, 0.15);\n",
              "      fill: #174EA6;\n",
              "    }\n",
              "\n",
              "    [theme=dark] .colab-df-convert {\n",
              "      background-color: #3B4455;\n",
              "      fill: #D2E3FC;\n",
              "    }\n",
              "\n",
              "    [theme=dark] .colab-df-convert:hover {\n",
              "      background-color: #434B5C;\n",
              "      box-shadow: 0px 1px 3px 1px rgba(0, 0, 0, 0.15);\n",
              "      filter: drop-shadow(0px 1px 2px rgba(0, 0, 0, 0.3));\n",
              "      fill: #FFFFFF;\n",
              "    }\n",
              "  </style>\n",
              "\n",
              "      <script>\n",
              "        const buttonEl =\n",
              "          document.querySelector('#df-17095bf7-3bfe-45f0-8725-aaea134089a9 button.colab-df-convert');\n",
              "        buttonEl.style.display =\n",
              "          google.colab.kernel.accessAllowed ? 'block' : 'none';\n",
              "\n",
              "        async function convertToInteractive(key) {\n",
              "          const element = document.querySelector('#df-17095bf7-3bfe-45f0-8725-aaea134089a9');\n",
              "          const dataTable =\n",
              "            await google.colab.kernel.invokeFunction('convertToInteractive',\n",
              "                                                     [key], {});\n",
              "          if (!dataTable) return;\n",
              "\n",
              "          const docLinkHtml = 'Like what you see? Visit the ' +\n",
              "            '<a target=\"_blank\" href=https://colab.research.google.com/notebooks/data_table.ipynb>data table notebook</a>'\n",
              "            + ' to learn more about interactive tables.';\n",
              "          element.innerHTML = '';\n",
              "          dataTable['output_type'] = 'display_data';\n",
              "          await google.colab.output.renderOutput(dataTable, element);\n",
              "          const docLink = document.createElement('div');\n",
              "          docLink.innerHTML = docLinkHtml;\n",
              "          element.appendChild(docLink);\n",
              "        }\n",
              "      </script>\n",
              "    </div>\n",
              "  </div>\n",
              "  "
            ]
          },
          "metadata": {},
          "execution_count": 24
        }
      ]
    },
    {
      "cell_type": "code",
      "source": [
        "plt.figure(figsize=(20,10))\n",
        "sns.heatmap(data.corr(), linecolor=\"white\", linewidths=2, annot=True,cmap='inferno')"
      ],
      "metadata": {
        "colab": {
          "base_uri": "https://localhost:8080/",
          "height": 747
        },
        "id": "BP6-kUMQLo5S",
        "outputId": "1bdb3c36-ad23-4fe9-8eaa-d3e3b04248f2"
      },
      "execution_count": null,
      "outputs": [
        {
          "output_type": "stream",
          "name": "stderr",
          "text": [
            "<ipython-input-25-69c2ce693d87>:2: FutureWarning: The default value of numeric_only in DataFrame.corr is deprecated. In a future version, it will default to False. Select only valid columns or specify the value of numeric_only to silence this warning.\n",
            "  sns.heatmap(data.corr(), linecolor=\"white\", linewidths=2, annot=True,cmap='inferno')\n"
          ]
        },
        {
          "output_type": "execute_result",
          "data": {
            "text/plain": [
              "<Axes: >"
            ]
          },
          "metadata": {},
          "execution_count": 25
        },
        {
          "output_type": "display_data",
          "data": {
            "text/plain": [
              "<Figure size 2000x1000 with 2 Axes>"
            ],
            "image/png": "[encoded data removed]"
          },
          "metadata": {}
        }
      ]
    },
    {
      "cell_type": "markdown",
      "source": [
        "# **MACHINE LEARNING MODELS**"
      ],
      "metadata": {
        "id": "iAJB0ut2kulY"
      }
    },
    {
      "cell_type": "code",
      "source": [
        "#With Linear Regression\n",
        "\n",
        "lastResult = [24,35,20,29,11,2]\n",
        "features = np.array([[110,17,43,1]])\n",
        "random_SB = np.random.randint(16)\n",
        "models = []\n",
        "\n",
        "for i in range(1,6):\n",
        "  x = data[[\"sum\", \"range\", \"max\", \"min\"]]\n",
        "  y = data.iloc[:,i]\n",
        "  x_train,x_test,y_train,y_test = train_test_split(x,y,test_size=0.2, random_state=42)\n",
        "  model = LinearRegression()\n",
        "  model.fit(x_train,y_train)\n",
        "  models.append(model)\n",
        "\n",
        "next_numbers_lr = []\n",
        "for j in range(5):\n",
        "    model = models[j]\n",
        "    next_number_lr = model.predict(features)\n",
        "    next_numbers_lr.append(int(round(next_number_lr[0])))\n",
        "next_numbers_lr.append(random_SB)"
      ],
      "metadata": {
        "colab": {
          "base_uri": "https://localhost:8080/"
        },
        "id": "T_PU-_2_L78D",
        "outputId": "d2988b51-0ff6-4539-954a-dcb280240f54"
      },
      "execution_count": null,
      "outputs": [
        {
          "output_type": "stream",
          "name": "stderr",
          "text": [
            "/usr/local/lib/python3.9/dist-packages/sklearn/base.py:439: UserWarning: X does not have valid feature names, but LinearRegression was fitted with feature names\n",
            "  warnings.warn(\n",
            "/usr/local/lib/python3.9/dist-packages/sklearn/base.py:439: UserWarning: X does not have valid feature names, but LinearRegression was fitted with feature names\n",
            "  warnings.warn(\n",
            "/usr/local/lib/python3.9/dist-packages/sklearn/base.py:439: UserWarning: X does not have valid feature names, but LinearRegression was fitted with feature names\n",
            "  warnings.warn(\n",
            "/usr/local/lib/python3.9/dist-packages/sklearn/base.py:439: UserWarning: X does not have valid feature names, but LinearRegression was fitted with feature names\n",
            "  warnings.warn(\n",
            "/usr/local/lib/python3.9/dist-packages/sklearn/base.py:439: UserWarning: X does not have valid feature names, but LinearRegression was fitted with feature names\n",
            "  warnings.warn(\n"
          ]
        }
      ]
    },
    {
      "cell_type": "code",
      "source": [
        "#With Random Forest Regressor\n",
        "models = []\n",
        "\n",
        "for i in range(1,6):\n",
        "  x = data[[\"sum\", \"range\", \"max\", \"min\"]]\n",
        "  y = data.iloc[:,i]\n",
        "  x_train,x_test,y_train,y_test = train_test_split(x,y,test_size=0.2, random_state=42)\n",
        "  model = RandomForestRegressor()\n",
        "  model.fit(x_train,y_train)\n",
        "  models.append(model)\n",
        "\n",
        "next_numbers_rf = []\n",
        "for j in range(5):\n",
        "    model = models[j]\n",
        "    next_number_rf = model.predict(features)\n",
        "    next_numbers_rf.append(int(round(next_number_rf[0])))\n",
        "next_numbers_rf.append(random_SB)    "
      ],
      "metadata": {
        "colab": {
          "base_uri": "https://localhost:8080/"
        },
        "id": "TGFzMSe_UAvq",
        "outputId": "57a7de20-3493-44b9-d1eb-f1d276b271b7"
      },
      "execution_count": null,
      "outputs": [
        {
          "output_type": "stream",
          "name": "stderr",
          "text": [
            "/usr/local/lib/python3.9/dist-packages/sklearn/base.py:439: UserWarning: X does not have valid feature names, but RandomForestRegressor was fitted with feature names\n",
            "  warnings.warn(\n",
            "/usr/local/lib/python3.9/dist-packages/sklearn/base.py:439: UserWarning: X does not have valid feature names, but RandomForestRegressor was fitted with feature names\n",
            "  warnings.warn(\n",
            "/usr/local/lib/python3.9/dist-packages/sklearn/base.py:439: UserWarning: X does not have valid feature names, but RandomForestRegressor was fitted with feature names\n",
            "  warnings.warn(\n",
            "/usr/local/lib/python3.9/dist-packages/sklearn/base.py:439: UserWarning: X does not have valid feature names, but RandomForestRegressor was fitted with feature names\n",
            "  warnings.warn(\n",
            "/usr/local/lib/python3.9/dist-packages/sklearn/base.py:439: UserWarning: X does not have valid feature names, but RandomForestRegressor was fitted with feature names\n",
            "  warnings.warn(\n"
          ]
        }
      ]
    },
    {
      "cell_type": "code",
      "source": [
        "#With SVR\n",
        "models = []\n",
        "\n",
        "for i in range(1,6):\n",
        "  x = data[[\"sum\", \"range\", \"max\", \"min\"]]\n",
        "  y = data.iloc[:,i]\n",
        "  x_train,x_test,y_train,y_test = train_test_split(x,y,test_size=0.2, random_state=42)\n",
        "  model = SVR()\n",
        "  model.fit(x_train,y_train)\n",
        "  models.append(model)\n",
        "\n",
        "next_numbers_SvR = []\n",
        "for j in range(5):\n",
        "    model = models[j]\n",
        "    next_number_SvR = model.predict(features)\n",
        "    next_numbers_SvR.append(int(round(next_number_SvR[0]))) \n",
        "next_numbers_SvR.append(random_SB)    "
      ],
      "metadata": {
        "colab": {
          "base_uri": "https://localhost:8080/"
        },
        "id": "NzgCVlJBXOOY",
        "outputId": "430dee3c-5eb1-49ae-bcda-93d70aea0907"
      },
      "execution_count": null,
      "outputs": [
        {
          "output_type": "stream",
          "name": "stderr",
          "text": [
            "/usr/local/lib/python3.9/dist-packages/sklearn/base.py:439: UserWarning: X does not have valid feature names, but SVR was fitted with feature names\n",
            "  warnings.warn(\n",
            "/usr/local/lib/python3.9/dist-packages/sklearn/base.py:439: UserWarning: X does not have valid feature names, but SVR was fitted with feature names\n",
            "  warnings.warn(\n",
            "/usr/local/lib/python3.9/dist-packages/sklearn/base.py:439: UserWarning: X does not have valid feature names, but SVR was fitted with feature names\n",
            "  warnings.warn(\n",
            "/usr/local/lib/python3.9/dist-packages/sklearn/base.py:439: UserWarning: X does not have valid feature names, but SVR was fitted with feature names\n",
            "  warnings.warn(\n",
            "/usr/local/lib/python3.9/dist-packages/sklearn/base.py:439: UserWarning: X does not have valid feature names, but SVR was fitted with feature names\n",
            "  warnings.warn(\n"
          ]
        }
      ]
    },
    {
      "cell_type": "code",
      "source": [
        "#With KNeighbors\n",
        "models = []\n",
        "\n",
        "for i in range(1,6):\n",
        "  x = data[[\"sum\", \"range\", \"max\", \"min\"]]\n",
        "  y = data.iloc[:,i]\n",
        "  x_train,x_test,y_train,y_test = train_test_split(x,y,test_size=0.2, random_state=42)\n",
        "  model = KNeighborsRegressor()\n",
        "  model.fit(x_train,y_train)\n",
        "  models.append(model)\n",
        "\n",
        "next_numbers_knn = []\n",
        "for j in range(5):\n",
        "    model = models[j]\n",
        "    next_number_knn = model.predict(features)\n",
        "    next_numbers_knn.append(int(round(next_number_knn[0]))) \n",
        "next_numbers_knn.append(random_SB)    "
      ],
      "metadata": {
        "colab": {
          "base_uri": "https://localhost:8080/"
        },
        "id": "4aNhvzGgZPe8",
        "outputId": "70160b31-a595-4a1d-8337-feb064985f2f"
      },
      "execution_count": null,
      "outputs": [
        {
          "output_type": "stream",
          "name": "stderr",
          "text": [
            "/usr/local/lib/python3.9/dist-packages/sklearn/base.py:439: UserWarning: X does not have valid feature names, but KNeighborsRegressor was fitted with feature names\n",
            "  warnings.warn(\n",
            "/usr/local/lib/python3.9/dist-packages/sklearn/base.py:439: UserWarning: X does not have valid feature names, but KNeighborsRegressor was fitted with feature names\n",
            "  warnings.warn(\n",
            "/usr/local/lib/python3.9/dist-packages/sklearn/base.py:439: UserWarning: X does not have valid feature names, but KNeighborsRegressor was fitted with feature names\n",
            "  warnings.warn(\n",
            "/usr/local/lib/python3.9/dist-packages/sklearn/base.py:439: UserWarning: X does not have valid feature names, but KNeighborsRegressor was fitted with feature names\n",
            "  warnings.warn(\n",
            "/usr/local/lib/python3.9/dist-packages/sklearn/base.py:439: UserWarning: X does not have valid feature names, but KNeighborsRegressor was fitted with feature names\n",
            "  warnings.warn(\n"
          ]
        }
      ]
    },
    {
      "cell_type": "markdown",
      "source": [
        "# ***POSSIBLES NUMBERS***"
      ],
      "metadata": {
        "id": "Nc7UNvz1k4o_"
      }
    },
    {
      "cell_type": "code",
      "source": [
        "print(\"Numbers with: \",\"\\n\",\"\\n\",\n",
        "      \"Last Result🤑:            \",lastResult,\"\\n\",\n",
        "      \"Linear Regression📊:      \",next_numbers_lr,\"\\n\",\n",
        "      \"Random Forest Regressor🌳:\", next_numbers_rf,\"\\n\",\n",
        "      \"SVR↗️:                    \", next_numbers_SvR,\"\\n\",\n",
        "      \"KNeighbors Regressor🏘️:   \", next_numbers_knn)"
      ],
      "metadata": {
        "colab": {
          "base_uri": "https://localhost:8080/"
        },
        "id": "Sdpq6yLxfzj4",
        "outputId": "993ec7d4-d56e-436a-dd89-7ee72844fb77"
      },
      "execution_count": null,
      "outputs": [
        {
          "output_type": "stream",
          "name": "stdout",
          "text": [
            "Numbers with:  \n",
            " \n",
            " Last Result🤑:             [24, 35, 20, 29, 11, 2] \n",
            " Linear Regression📊:       [11, 14, 18, 23, 33, 15] \n",
            " Random Forest Regressor🌳: [7, 13, 20, 23, 41, 15] \n",
            " SVR↗️:                     [7, 13, 19, 26, 34, 15] \n",
            " KNeighbors Regressor🏘️:    [8, 13, 18, 26, 34, 15]\n"
          ]
        }
      ]
    }
  ]
}