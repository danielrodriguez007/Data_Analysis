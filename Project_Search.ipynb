{
  "nbformat": 4,
  "nbformat_minor": 0,
  "metadata": {
    "colab": {
      "provenance": [],
      "collapsed_sections": [
        "f3dyhw7lawR_",
        "cQKWCkwEnX3Q",
        "a-ZmK05exdVe",
        "732MuEr9qogz"
      ],
      "authorship_tag": "ABX9TyNsizv1fIwJJ3PqLnxPkMIL",
      "include_colab_link": true
    },
    "kernelspec": {
      "name": "python3",
      "display_name": "Python 3"
    },
    "language_info": {
      "name": "python"
    }
  },
  "cells": [
    {
      "cell_type": "markdown",
      "metadata": {
        "id": "view-in-github",
        "colab_type": "text"
      },
      "source": [
        "<a href=\"https://colab.research.google.com/github/danielrodriguez007/Data_Analysis/blob/main/Project_Search.ipynb\" target=\"_parent\"><img src=\"https://colab.research.google.com/assets/colab-badge.svg\" alt=\"Open In Colab\"/></a>"
      ]
    },
    {
      "cell_type": "markdown",
      "source": [
        "# HARD WORK\n"
      ],
      "metadata": {
        "id": "f3dyhw7lawR_"
      }
    },
    {
      "cell_type": "code",
      "source": [
        "#install library\n",
        "!pip install google-search-results\n",
        "!pip install squarify"
      ],
      "metadata": {
        "colab": {
          "base_uri": "https://localhost:8080/"
        },
        "id": "9LIc8nYrDc0I",
        "outputId": "099cae74-8fa6-488f-8e96-5b0cf3e45f86"
      },
      "execution_count": 106,
      "outputs": [
        {
          "output_type": "stream",
          "name": "stdout",
          "text": [
            "Looking in indexes: https://pypi.org/simple, https://us-python.pkg.dev/colab-wheels/public/simple/\n",
            "Requirement already satisfied: google-search-results in /usr/local/lib/python3.8/dist-packages (2.4.1)\n",
            "Requirement already satisfied: requests in /usr/local/lib/python3.8/dist-packages (from google-search-results) (2.25.1)\n",
            "Requirement already satisfied: idna<3,>=2.5 in /usr/local/lib/python3.8/dist-packages (from requests->google-search-results) (2.10)\n",
            "Requirement already satisfied: certifi>=2017.4.17 in /usr/local/lib/python3.8/dist-packages (from requests->google-search-results) (2022.12.7)\n",
            "Requirement already satisfied: urllib3<1.27,>=1.21.1 in /usr/local/lib/python3.8/dist-packages (from requests->google-search-results) (1.24.3)\n",
            "Requirement already satisfied: chardet<5,>=3.0.2 in /usr/local/lib/python3.8/dist-packages (from requests->google-search-results) (4.0.0)\n",
            "Looking in indexes: https://pypi.org/simple, https://us-python.pkg.dev/colab-wheels/public/simple/\n",
            "Requirement already satisfied: squarify in /usr/local/lib/python3.8/dist-packages (0.4.3)\n"
          ]
        }
      ]
    },
    {
      "cell_type": "code",
      "source": [
        "#import library needed for the search\n",
        "import numpy as np\n",
        "import pandas as pd\n",
        "import plotly.express as px \n",
        "import matplotlib.pyplot as plt\n",
        "from serpapi import GoogleSearch\n",
        "import plotly.express as px\n",
        "import squarify\n",
        "import seaborn as sns\n",
        "import re \n",
        "\n",
        "plt.style.use('fivethirtyeight')"
      ],
      "metadata": {
        "id": "uZh7ZrKQociP"
      },
      "execution_count": 107,
      "outputs": []
    },
    {
      "cell_type": "code",
      "source": [
        "#SerpApi google search\n",
        "search_term=\"Data Analyst\" #Job to be searching\n",
        "search_location=\"United States\" #Places where you search https://serpapi.com/google-countries\n",
        "\n",
        "\n",
        "params = {\n",
        "  \"q\": search_term,\n",
        "  \"location\": search_location,\n",
        "  \"engine\" : \"google_jobs\",\n",
        "  \"hl\": \"en\",\n",
        "  \"gl\": \"us\",\n",
        "  \"google_domain\": \"google.com\",\n",
        "  \"api_key\": \"a74096ebb3b875e086bdf8353fb1e90edbd5bdbb2c9e9ea9bf863f98e55ac489\"\n",
        "}"
      ],
      "metadata": {
        "id": "MXFGAK2fsMFJ"
      },
      "execution_count": 108,
      "outputs": []
    },
    {
      "cell_type": "code",
      "source": [
        "#creating dataframe with the information obtenied of the search\n",
        "search = GoogleSearch(params)\n",
        "results = search.get_dict()\n",
        "jobs_df = results['jobs_results']\n",
        "jobs_df = pd.DataFrame(jobs_df)\n",
        "jobs_df = pd.concat([pd.DataFrame(jobs_df),\n",
        "                     pd.json_normalize(jobs_df['detected_extensions'])],\n",
        "                    axis=1).drop('detected_extensions',1)\n",
        "         "
      ],
      "metadata": {
        "colab": {
          "base_uri": "https://localhost:8080/"
        },
        "id": "09-eNHHssvAR",
        "outputId": "d9f49972-2816-46b2-edf0-337ac11267c6"
      },
      "execution_count": 109,
      "outputs": [
        {
          "output_type": "stream",
          "name": "stdout",
          "text": [
            "https://serpapi.com/search\n"
          ]
        },
        {
          "output_type": "stream",
          "name": "stderr",
          "text": [
            "<ipython-input-109-d668609e91a2>:6: FutureWarning:\n",
            "\n",
            "In a future version of pandas all arguments of DataFrame.drop except for the argument 'labels' will be keyword-only\n",
            "\n"
          ]
        }
      ]
    },
    {
      "cell_type": "code",
      "source": [
        "#Quick looking on the dataframe\n",
        "jobs_df.head(1)"
      ],
      "metadata": {
        "colab": {
          "base_uri": "https://localhost:8080/",
          "height": 0
        },
        "id": "aFJC_pLH010t",
        "outputId": "e6545096-1150-414d-88aa-fc652cfe7988"
      },
      "execution_count": 110,
      "outputs": [
        {
          "output_type": "execute_result",
          "data": {
            "text/plain": [
              "          title company_name  location           via  \\\n",
              "0  Data Analyst  Salderz Inc  Anywhere  via LinkedIn   \n",
              "\n",
              "                                         description  \\\n",
              "0  Data Analyst roles - primarily with ETL, SQL, ...   \n",
              "\n",
              "                                      job_highlights  \\\n",
              "0  [{'title': 'Qualifications', 'items': ['Data A...   \n",
              "\n",
              "                                       related_links  \\\n",
              "0  [{'link': 'https://www.google.com/search?gl=us...   \n",
              "\n",
              "                                           thumbnail  \\\n",
              "0  https://encrypted-tbn0.gstatic.com/images?q=tb...   \n",
              "\n",
              "                                    extensions  \\\n",
              "0  [22 minutes ago, Work from home, Full-time]   \n",
              "\n",
              "                                              job_id       posted_at  \\\n",
              "0  eyJqb2JfdGl0bGUiOiJEYXRhIEFuYWx5c3QiLCJodGlkb2...  22 minutes ago   \n",
              "\n",
              "  schedule_type work_from_home salary  \n",
              "0     Full-time           True    NaN  "
            ],
            "text/html": [
              "\n",
              "  <div id=\"df-d5b4a436-444e-4df9-8472-7a5ae6b4b6d3\">\n",
              "    <div class=\"colab-df-container\">\n",
              "      <div>\n",
              "<style scoped>\n",
              "    .dataframe tbody tr th:only-of-type {\n",
              "        vertical-align: middle;\n",
              "    }\n",
              "\n",
              "    .dataframe tbody tr th {\n",
              "        vertical-align: top;\n",
              "    }\n",
              "\n",
              "    .dataframe thead th {\n",
              "        text-align: right;\n",
              "    }\n",
              "</style>\n",
              "<table border=\"1\" class=\"dataframe\">\n",
              "  <thead>\n",
              "    <tr style=\"text-align: right;\">\n",
              "      <th></th>\n",
              "      <th>title</th>\n",
              "      <th>company_name</th>\n",
              "      <th>location</th>\n",
              "      <th>via</th>\n",
              "      <th>description</th>\n",
              "      <th>job_highlights</th>\n",
              "      <th>related_links</th>\n",
              "      <th>thumbnail</th>\n",
              "      <th>extensions</th>\n",
              "      <th>job_id</th>\n",
              "      <th>posted_at</th>\n",
              "      <th>schedule_type</th>\n",
              "      <th>work_from_home</th>\n",
              "      <th>salary</th>\n",
              "    </tr>\n",
              "  </thead>\n",
              "  <tbody>\n",
              "    <tr>\n",
              "      <th>0</th>\n",
              "      <td>Data Analyst</td>\n",
              "      <td>Salderz Inc</td>\n",
              "      <td>Anywhere</td>\n",
              "      <td>via LinkedIn</td>\n",
              "      <td>Data Analyst roles - primarily with ETL, SQL, ...</td>\n",
              "      <td>[{'title': 'Qualifications', 'items': ['Data A...</td>\n",
              "      <td>[{'link': 'https://www.google.com/search?gl=us...</td>\n",
              "      <td>https://encrypted-tbn0.gstatic.com/images?q=tb...</td>\n",
              "      <td>[22 minutes ago, Work from home, Full-time]</td>\n",
              "      <td>eyJqb2JfdGl0bGUiOiJEYXRhIEFuYWx5c3QiLCJodGlkb2...</td>\n",
              "      <td>22 minutes ago</td>\n",
              "      <td>Full-time</td>\n",
              "      <td>True</td>\n",
              "      <td>NaN</td>\n",
              "    </tr>\n",
              "  </tbody>\n",
              "</table>\n",
              "</div>\n",
              "      <button class=\"colab-df-convert\" onclick=\"convertToInteractive('df-d5b4a436-444e-4df9-8472-7a5ae6b4b6d3')\"\n",
              "              title=\"Convert this dataframe to an interactive table.\"\n",
              "              style=\"display:none;\">\n",
              "        \n",
              "  <svg xmlns=\"http://www.w3.org/2000/svg\" height=\"24px\"viewBox=\"0 0 24 24\"\n",
              "       width=\"24px\">\n",
              "    <path d=\"M0 0h24v24H0V0z\" fill=\"none\"/>\n",
              "    <path d=\"M18.56 5.44l.94 2.06.94-2.06 2.06-.94-2.06-.94-.94-2.06-.94 2.06-2.06.94zm-11 1L8.5 8.5l.94-2.06 2.06-.94-2.06-.94L8.5 2.5l-.94 2.06-2.06.94zm10 10l.94 2.06.94-2.06 2.06-.94-2.06-.94-.94-2.06-.94 2.06-2.06.94z\"/><path d=\"M17.41 7.96l-1.37-1.37c-.4-.4-.92-.59-1.43-.59-.52 0-1.04.2-1.43.59L10.3 9.45l-7.72 7.72c-.78.78-.78 2.05 0 2.83L4 21.41c.39.39.9.59 1.41.59.51 0 1.02-.2 1.41-.59l7.78-7.78 2.81-2.81c.8-.78.8-2.07 0-2.86zM5.41 20L4 18.59l7.72-7.72 1.47 1.35L5.41 20z\"/>\n",
              "  </svg>\n",
              "      </button>\n",
              "      \n",
              "  <style>\n",
              "    .colab-df-container {\n",
              "      display:flex;\n",
              "      flex-wrap:wrap;\n",
              "      gap: 12px;\n",
              "    }\n",
              "\n",
              "    .colab-df-convert {\n",
              "      background-color: #E8F0FE;\n",
              "      border: none;\n",
              "      border-radius: 50%;\n",
              "      cursor: pointer;\n",
              "      display: none;\n",
              "      fill: #1967D2;\n",
              "      height: 32px;\n",
              "      padding: 0 0 0 0;\n",
              "      width: 32px;\n",
              "    }\n",
              "\n",
              "    .colab-df-convert:hover {\n",
              "      background-color: #E2EBFA;\n",
              "      box-shadow: 0px 1px 2px rgba(60, 64, 67, 0.3), 0px 1px 3px 1px rgba(60, 64, 67, 0.15);\n",
              "      fill: #174EA6;\n",
              "    }\n",
              "\n",
              "    [theme=dark] .colab-df-convert {\n",
              "      background-color: #3B4455;\n",
              "      fill: #D2E3FC;\n",
              "    }\n",
              "\n",
              "    [theme=dark] .colab-df-convert:hover {\n",
              "      background-color: #434B5C;\n",
              "      box-shadow: 0px 1px 3px 1px rgba(0, 0, 0, 0.15);\n",
              "      filter: drop-shadow(0px 1px 2px rgba(0, 0, 0, 0.3));\n",
              "      fill: #FFFFFF;\n",
              "    }\n",
              "  </style>\n",
              "\n",
              "      <script>\n",
              "        const buttonEl =\n",
              "          document.querySelector('#df-d5b4a436-444e-4df9-8472-7a5ae6b4b6d3 button.colab-df-convert');\n",
              "        buttonEl.style.display =\n",
              "          google.colab.kernel.accessAllowed ? 'block' : 'none';\n",
              "\n",
              "        async function convertToInteractive(key) {\n",
              "          const element = document.querySelector('#df-d5b4a436-444e-4df9-8472-7a5ae6b4b6d3');\n",
              "          const dataTable =\n",
              "            await google.colab.kernel.invokeFunction('convertToInteractive',\n",
              "                                                     [key], {});\n",
              "          if (!dataTable) return;\n",
              "\n",
              "          const docLinkHtml = 'Like what you see? Visit the ' +\n",
              "            '<a target=\"_blank\" href=https://colab.research.google.com/notebooks/data_table.ipynb>data table notebook</a>'\n",
              "            + ' to learn more about interactive tables.';\n",
              "          element.innerHTML = '';\n",
              "          dataTable['output_type'] = 'display_data';\n",
              "          await google.colab.output.renderOutput(dataTable, element);\n",
              "          const docLink = document.createElement('div');\n",
              "          docLink.innerHTML = docLinkHtml;\n",
              "          element.appendChild(docLink);\n",
              "        }\n",
              "      </script>\n",
              "    </div>\n",
              "  </div>\n",
              "  "
            ]
          },
          "metadata": {},
          "execution_count": 110
        }
      ]
    },
    {
      "cell_type": "code",
      "source": [
        "jobs_df.isnull().sum() #Looking for null values"
      ],
      "metadata": {
        "id": "S1-u6ttm1PG1",
        "colab": {
          "base_uri": "https://localhost:8080/"
        },
        "outputId": "3eb01a29-e11b-4672-f460-085605df5b83"
      },
      "execution_count": 111,
      "outputs": [
        {
          "output_type": "execute_result",
          "data": {
            "text/plain": [
              "title             0\n",
              "company_name      0\n",
              "location          0\n",
              "via               0\n",
              "description       0\n",
              "job_highlights    2\n",
              "related_links     0\n",
              "thumbnail         5\n",
              "extensions        0\n",
              "job_id            0\n",
              "posted_at         0\n",
              "schedule_type     0\n",
              "work_from_home    4\n",
              "salary            9\n",
              "dtype: int64"
            ]
          },
          "metadata": {},
          "execution_count": 111
        }
      ]
    },
    {
      "cell_type": "code",
      "source": [
        "jobs_df.shape #Shape of the DataFrame"
      ],
      "metadata": {
        "colab": {
          "base_uri": "https://localhost:8080/"
        },
        "id": "SZtPcBt_Qwf9",
        "outputId": "6174dbc5-f6c2-491d-ce3c-382752603817"
      },
      "execution_count": 112,
      "outputs": [
        {
          "output_type": "execute_result",
          "data": {
            "text/plain": [
              "(10, 14)"
            ]
          },
          "metadata": {},
          "execution_count": 112
        }
      ]
    },
    {
      "cell_type": "code",
      "source": [
        "jobs_df.info() #Information about columns"
      ],
      "metadata": {
        "colab": {
          "base_uri": "https://localhost:8080/"
        },
        "id": "aC8xC_V9Q-gu",
        "outputId": "26b68721-8633-47a2-d2fd-9346e5ef8002"
      },
      "execution_count": 113,
      "outputs": [
        {
          "output_type": "stream",
          "name": "stdout",
          "text": [
            "<class 'pandas.core.frame.DataFrame'>\n",
            "RangeIndex: 10 entries, 0 to 9\n",
            "Data columns (total 14 columns):\n",
            " #   Column          Non-Null Count  Dtype \n",
            "---  ------          --------------  ----- \n",
            " 0   title           10 non-null     object\n",
            " 1   company_name    10 non-null     object\n",
            " 2   location        10 non-null     object\n",
            " 3   via             10 non-null     object\n",
            " 4   description     10 non-null     object\n",
            " 5   job_highlights  8 non-null      object\n",
            " 6   related_links   10 non-null     object\n",
            " 7   thumbnail       5 non-null      object\n",
            " 8   extensions      10 non-null     object\n",
            " 9   job_id          10 non-null     object\n",
            " 10  posted_at       10 non-null     object\n",
            " 11  schedule_type   10 non-null     object\n",
            " 12  work_from_home  6 non-null      object\n",
            " 13  salary          1 non-null      object\n",
            "dtypes: object(14)\n",
            "memory usage: 1.2+ KB\n"
          ]
        }
      ]
    },
    {
      "cell_type": "markdown",
      "source": [
        "**# HARD SKILLS **\n"
      ],
      "metadata": {
        "id": "cQKWCkwEnX3Q"
      }
    },
    {
      "cell_type": "code",
      "source": [
        "#Normalize column\n",
        "jobs = pd.json_normalize(jobs_df.job_highlights )"
      ],
      "metadata": {
        "id": "ItOUA8uQnGOL"
      },
      "execution_count": 114,
      "outputs": []
    },
    {
      "cell_type": "code",
      "source": [
        "jobs_df2 = pd.DataFrame(jobs) #Creating DataFrame with data obtenied from the normalization\n",
        "Ujobs = jobs_df2[0].apply(pd.Series) #applying Series to read data\n",
        "\n",
        "#Ujobs.loc[Ujobs[\"items\"].str.contains(\"SQL\")]"
      ],
      "metadata": {
        "id": "Tp35Wg21hQwv"
      },
      "execution_count": 115,
      "outputs": []
    },
    {
      "cell_type": "code",
      "source": [
        "Ujobs = Ujobs.drop(columns = \"title\") #Eliminated column with irrelevant information \n",
        "Ujobs = Ujobs.dropna()"
      ],
      "metadata": {
        "id": "YSRk_9ETkuik"
      },
      "execution_count": 116,
      "outputs": []
    },
    {
      "cell_type": "code",
      "source": [
        "Ujobs"
      ],
      "metadata": {
        "colab": {
          "base_uri": "https://localhost:8080/",
          "height": 0
        },
        "id": "zSehlEX_l2kS",
        "outputId": "344c5267-75fc-4756-d0e5-81c9d274c366"
      },
      "execution_count": 117,
      "outputs": [
        {
          "output_type": "execute_result",
          "data": {
            "text/plain": [
              "                                               items\n",
              "0  [Data Analyst roles - primarily with ETL, SQL,...\n",
              "1  [3+ years’ previous analytics experience devel...\n",
              "2  [Bachelors' in relevant field, 5+ years of exp...\n",
              "3  [Past experience using Tableau required, Exten...\n",
              "4  [Applicants must reside in Kansas or Missouri ...\n",
              "6  [We believe that to deliver exceptional servic...\n",
              "7  [BS in computer science or a related field or ...\n",
              "9  [Bachelor's degree (preferably in computer sci..."
            ],
            "text/html": [
              "\n",
              "  <div id=\"df-dcb29e37-a9db-46ec-a653-a48a4ddbbb36\">\n",
              "    <div class=\"colab-df-container\">\n",
              "      <div>\n",
              "<style scoped>\n",
              "    .dataframe tbody tr th:only-of-type {\n",
              "        vertical-align: middle;\n",
              "    }\n",
              "\n",
              "    .dataframe tbody tr th {\n",
              "        vertical-align: top;\n",
              "    }\n",
              "\n",
              "    .dataframe thead th {\n",
              "        text-align: right;\n",
              "    }\n",
              "</style>\n",
              "<table border=\"1\" class=\"dataframe\">\n",
              "  <thead>\n",
              "    <tr style=\"text-align: right;\">\n",
              "      <th></th>\n",
              "      <th>items</th>\n",
              "    </tr>\n",
              "  </thead>\n",
              "  <tbody>\n",
              "    <tr>\n",
              "      <th>0</th>\n",
              "      <td>[Data Analyst roles - primarily with ETL, SQL,...</td>\n",
              "    </tr>\n",
              "    <tr>\n",
              "      <th>1</th>\n",
              "      <td>[3+ years’ previous analytics experience devel...</td>\n",
              "    </tr>\n",
              "    <tr>\n",
              "      <th>2</th>\n",
              "      <td>[Bachelors' in relevant field, 5+ years of exp...</td>\n",
              "    </tr>\n",
              "    <tr>\n",
              "      <th>3</th>\n",
              "      <td>[Past experience using Tableau required, Exten...</td>\n",
              "    </tr>\n",
              "    <tr>\n",
              "      <th>4</th>\n",
              "      <td>[Applicants must reside in Kansas or Missouri ...</td>\n",
              "    </tr>\n",
              "    <tr>\n",
              "      <th>6</th>\n",
              "      <td>[We believe that to deliver exceptional servic...</td>\n",
              "    </tr>\n",
              "    <tr>\n",
              "      <th>7</th>\n",
              "      <td>[BS in computer science or a related field or ...</td>\n",
              "    </tr>\n",
              "    <tr>\n",
              "      <th>9</th>\n",
              "      <td>[Bachelor's degree (preferably in computer sci...</td>\n",
              "    </tr>\n",
              "  </tbody>\n",
              "</table>\n",
              "</div>\n",
              "      <button class=\"colab-df-convert\" onclick=\"convertToInteractive('df-dcb29e37-a9db-46ec-a653-a48a4ddbbb36')\"\n",
              "              title=\"Convert this dataframe to an interactive table.\"\n",
              "              style=\"display:none;\">\n",
              "        \n",
              "  <svg xmlns=\"http://www.w3.org/2000/svg\" height=\"24px\"viewBox=\"0 0 24 24\"\n",
              "       width=\"24px\">\n",
              "    <path d=\"M0 0h24v24H0V0z\" fill=\"none\"/>\n",
              "    <path d=\"M18.56 5.44l.94 2.06.94-2.06 2.06-.94-2.06-.94-.94-2.06-.94 2.06-2.06.94zm-11 1L8.5 8.5l.94-2.06 2.06-.94-2.06-.94L8.5 2.5l-.94 2.06-2.06.94zm10 10l.94 2.06.94-2.06 2.06-.94-2.06-.94-.94-2.06-.94 2.06-2.06.94z\"/><path d=\"M17.41 7.96l-1.37-1.37c-.4-.4-.92-.59-1.43-.59-.52 0-1.04.2-1.43.59L10.3 9.45l-7.72 7.72c-.78.78-.78 2.05 0 2.83L4 21.41c.39.39.9.59 1.41.59.51 0 1.02-.2 1.41-.59l7.78-7.78 2.81-2.81c.8-.78.8-2.07 0-2.86zM5.41 20L4 18.59l7.72-7.72 1.47 1.35L5.41 20z\"/>\n",
              "  </svg>\n",
              "      </button>\n",
              "      \n",
              "  <style>\n",
              "    .colab-df-container {\n",
              "      display:flex;\n",
              "      flex-wrap:wrap;\n",
              "      gap: 12px;\n",
              "    }\n",
              "\n",
              "    .colab-df-convert {\n",
              "      background-color: #E8F0FE;\n",
              "      border: none;\n",
              "      border-radius: 50%;\n",
              "      cursor: pointer;\n",
              "      display: none;\n",
              "      fill: #1967D2;\n",
              "      height: 32px;\n",
              "      padding: 0 0 0 0;\n",
              "      width: 32px;\n",
              "    }\n",
              "\n",
              "    .colab-df-convert:hover {\n",
              "      background-color: #E2EBFA;\n",
              "      box-shadow: 0px 1px 2px rgba(60, 64, 67, 0.3), 0px 1px 3px 1px rgba(60, 64, 67, 0.15);\n",
              "      fill: #174EA6;\n",
              "    }\n",
              "\n",
              "    [theme=dark] .colab-df-convert {\n",
              "      background-color: #3B4455;\n",
              "      fill: #D2E3FC;\n",
              "    }\n",
              "\n",
              "    [theme=dark] .colab-df-convert:hover {\n",
              "      background-color: #434B5C;\n",
              "      box-shadow: 0px 1px 3px 1px rgba(0, 0, 0, 0.15);\n",
              "      filter: drop-shadow(0px 1px 2px rgba(0, 0, 0, 0.3));\n",
              "      fill: #FFFFFF;\n",
              "    }\n",
              "  </style>\n",
              "\n",
              "      <script>\n",
              "        const buttonEl =\n",
              "          document.querySelector('#df-dcb29e37-a9db-46ec-a653-a48a4ddbbb36 button.colab-df-convert');\n",
              "        buttonEl.style.display =\n",
              "          google.colab.kernel.accessAllowed ? 'block' : 'none';\n",
              "\n",
              "        async function convertToInteractive(key) {\n",
              "          const element = document.querySelector('#df-dcb29e37-a9db-46ec-a653-a48a4ddbbb36');\n",
              "          const dataTable =\n",
              "            await google.colab.kernel.invokeFunction('convertToInteractive',\n",
              "                                                     [key], {});\n",
              "          if (!dataTable) return;\n",
              "\n",
              "          const docLinkHtml = 'Like what you see? Visit the ' +\n",
              "            '<a target=\"_blank\" href=https://colab.research.google.com/notebooks/data_table.ipynb>data table notebook</a>'\n",
              "            + ' to learn more about interactive tables.';\n",
              "          element.innerHTML = '';\n",
              "          dataTable['output_type'] = 'display_data';\n",
              "          await google.colab.output.renderOutput(dataTable, element);\n",
              "          const docLink = document.createElement('div');\n",
              "          docLink.innerHTML = docLinkHtml;\n",
              "          element.appendChild(docLink);\n",
              "        }\n",
              "      </script>\n",
              "    </div>\n",
              "  </div>\n",
              "  "
            ]
          },
          "metadata": {},
          "execution_count": 117
        }
      ]
    },
    {
      "cell_type": "code",
      "source": [
        "# Creating new DataFrame extracting data to search keywords\n",
        "toolsJob = pd.DataFrame()\n",
        "for i in Ujobs['items']:\n",
        "  toolsJob = toolsJob.append(i,ignore_index=True)"
      ],
      "metadata": {
        "id": "9rJNqi1ksFFx"
      },
      "execution_count": 118,
      "outputs": []
    },
    {
      "cell_type": "code",
      "source": [
        "pd.pivot_table(toolsJob,index = toolsJob)"
      ],
      "metadata": {
        "colab": {
          "base_uri": "https://localhost:8080/",
          "height": 0
        },
        "id": "26i6t51OiMgV",
        "outputId": "b1c00efe-693c-49c3-b100-6c585ee6a065"
      },
      "execution_count": 119,
      "outputs": [
        {
          "output_type": "execute_result",
          "data": {
            "text/plain": [
              "Empty DataFrame\n",
              "Columns: []\n",
              "Index: [10% -Communication: Work with different teams (IT managers, Executives, Business Partners) to better understand the business and the challenges, 20% -Support and Testing: Use skills to validate the functionality of software solutions and provide necessary support to end-users to resolve different operational issues, 3+ years working as a data analyst, 3+ years’ experience with Microsoft Power BI or similar products, 3+ years’ experience with T-SQL, 3+ years’ previous analytics experience developing business solutions using comprehensive, robust data assets, 5+ years of experience, Ability to communicate commitment and work collaboratively, Ability to multi-task and prioritize work. Accountable for personal results and teamwork, Able to work independently or as a collaborative team member, Agility: Ability to respond to customer needs with speed and accuracy, Also, the Big Data Analyst II should be able to effectively communicate with supervisors and business leaders who may not have strong data analytics or statistical background, Applicants must reside in Kansas or Missouri or be willing to relocate as a condition of employment.”, BS in computer science or a related field or equivalent experience, Bachelor's degree (preferably in computer science, statistics, economics, or mathematics), Bachelors Degree in Statistics, Computer Science, Applied Mathematics, Data Science, MIS, Management, Operations Research, Industrial Engineering or equivalent, Bachelors' in relevant field, Bachelor’s Degree or equivalent work experience and a high school diploma/GED, Business Impact: Intermediate Business Domain knowledge, Can work independently and with a team, Can work on complex projects of large scope, Clearly articulate discoveries and insights and challenges with management, Coding skills in programming languages such as Python and/or R, Connecting: Effective verbal and written communication skills, Data Analyst roles - primarily with ETL, SQL, and Python - this is someone around 1-3 years, not super senior level, Data Cleaning, Manipulation, Analysis, and Reporting - 2-4 years’ experience, Data visualization (JavaScript, tableau, gnuplot, matplotlib, etc) - 2-4 years’ experience, Database technology (Oracle, DB2, Bigquery, Hadoop, Impala, SQL, etc.) - 2-4 years’ experience, Demonstrated ability to apply concepts appropriately, Develops innovative technical solutions to a wide range of difficult problems, Excellent Execution: Ability to follow standards & directions, Excellent verbal/written communication skills in an internal client facing role with ability to present information and findings clearly in analysis/reports, Experience developing Business/Functional Requirement documentation and facilitating requirement work sessions with Business Units/Clients, Experience in Big Data systems, Data Lakes and Analytics related field managing Build & Run teams, Experience in a fast-paced environment, Experience with Machine Learning, Experience with at least one relational data storage including but not limited to SQL Server, Oracle DB, MySQL, Postgres, etc, Experience with job-related activities - data analysis activities, Experience working with MS Office, industry standard statistics and data visualization packages, Expertise in building BI dashboards (i.e. Tableau, PowerBI, Sisense, Looker, etc) and reporting practices, Extensive experience performing Analysis, Visualization, Reporting, Familiarity with applying statistics and mathematics to modeling, Familiarity with data processing and ETL/ELT techniques, Familiarity with the principles of data modeling, Hands on experience in Data Analysis/validation/data mapping and proficient in SQL queries, Has a high standard for own work and result, Intellectual Strength: Demonstrated success working with abstract requirements, Intermediate ability to identify issues/gaps at early stage, Intermediate knowledge of a programming language such as Python and/or R, Interpersonal skills are required to deal with sensitive issues, Knowledge in Power BI, Knowledge of Data warehouse/ETL design, Knowledge of SharePoint Online and Power Apps/Automate/Virtual Agent platforms, Knowledge working in Workday system, Leadership: Sense of ownership & commitment, Machine Learning/Applied Statistics/Artificial Intelligence - 1-3 years’ experience, Partnering: Basic situation analysis combining the technical and business point of view, Past experience using Tableau required, Proficiency in at least one data visualization tool, such as Matplotlib, Plotly, D3.js, ggplot, etc, Proficiency in at least one query language, especially SQL, Programming Language (Python, JavaScript, Java, C, etc.), Required Skills: SQL and Python, Self-starter, ability to work and lead global teams, Strategic Architect: Intermediate level understanding of technical area relevant to role, Strong analytical and problem-solving skills and Ability to demonstrate strong communication skills, initiative, and intellectual curiosity, Strong analytical skills with the ability to collect, organize, analyze, and disseminate significant amounts of information with attention to detail and accuracy, Strong foundation in probability and statistical analysis, Strong strategic and creative thinking with analytical and problem-solving skills, Technical experience with SQL, Tableau, Excel, and Google Sheets, The Big Data Analyst II must be able to think analytically, and must be detail oriented, The Big Data Analyst II must have a strong educational foundation in data analytics, basic machine learning, database technology, and computer programming related to basic data processing/visualization, Thorough knowledge of existing and emerging Microsoft 365 and related core technologies, Top skills: data analysis, data modeling, data cleanup, data visualization, and working on custom CRMs, Values a diverse and inclusive work environment, We believe that to deliver exceptional service, which drives our business model, we need, Willingness and eager to learn; is curious, World League IT Competencies, to be driven by sophisticated analysis of data]\n",
              "\n",
              "[78 rows x 0 columns]"
            ],
            "text/html": [
              "\n",
              "  <div id=\"df-56eda0d3-9c44-43b6-8c58-4ad60dc54299\">\n",
              "    <div class=\"colab-df-container\">\n",
              "      <div>\n",
              "<style scoped>\n",
              "    .dataframe tbody tr th:only-of-type {\n",
              "        vertical-align: middle;\n",
              "    }\n",
              "\n",
              "    .dataframe tbody tr th {\n",
              "        vertical-align: top;\n",
              "    }\n",
              "\n",
              "    .dataframe thead th {\n",
              "        text-align: right;\n",
              "    }\n",
              "</style>\n",
              "<table border=\"1\" class=\"dataframe\">\n",
              "  <thead>\n",
              "    <tr style=\"text-align: right;\">\n",
              "      <th></th>\n",
              "    </tr>\n",
              "    <tr>\n",
              "      <th>0</th>\n",
              "    </tr>\n",
              "  </thead>\n",
              "  <tbody>\n",
              "    <tr>\n",
              "      <th>10% -Communication: Work with different teams (IT managers, Executives, Business Partners) to better understand the business and the challenges</th>\n",
              "    </tr>\n",
              "    <tr>\n",
              "      <th>20% -Support and Testing: Use skills to validate the functionality of software solutions and provide necessary support to end-users to resolve different operational issues</th>\n",
              "    </tr>\n",
              "    <tr>\n",
              "      <th>3+ years working as a data analyst</th>\n",
              "    </tr>\n",
              "    <tr>\n",
              "      <th>3+ years’ experience with Microsoft Power BI or similar products</th>\n",
              "    </tr>\n",
              "    <tr>\n",
              "      <th>3+ years’ experience with T-SQL</th>\n",
              "    </tr>\n",
              "    <tr>\n",
              "      <th>...</th>\n",
              "    </tr>\n",
              "    <tr>\n",
              "      <th>Values a diverse and inclusive work environment</th>\n",
              "    </tr>\n",
              "    <tr>\n",
              "      <th>We believe that to deliver exceptional service, which drives our business model, we need</th>\n",
              "    </tr>\n",
              "    <tr>\n",
              "      <th>Willingness and eager to learn; is curious</th>\n",
              "    </tr>\n",
              "    <tr>\n",
              "      <th>World League IT Competencies</th>\n",
              "    </tr>\n",
              "    <tr>\n",
              "      <th>to be driven by sophisticated analysis of data</th>\n",
              "    </tr>\n",
              "  </tbody>\n",
              "</table>\n",
              "<p>78 rows × 0 columns</p>\n",
              "</div>\n",
              "      <button class=\"colab-df-convert\" onclick=\"convertToInteractive('df-56eda0d3-9c44-43b6-8c58-4ad60dc54299')\"\n",
              "              title=\"Convert this dataframe to an interactive table.\"\n",
              "              style=\"display:none;\">\n",
              "        \n",
              "  <svg xmlns=\"http://www.w3.org/2000/svg\" height=\"24px\"viewBox=\"0 0 24 24\"\n",
              "       width=\"24px\">\n",
              "    <path d=\"M0 0h24v24H0V0z\" fill=\"none\"/>\n",
              "    <path d=\"M18.56 5.44l.94 2.06.94-2.06 2.06-.94-2.06-.94-.94-2.06-.94 2.06-2.06.94zm-11 1L8.5 8.5l.94-2.06 2.06-.94-2.06-.94L8.5 2.5l-.94 2.06-2.06.94zm10 10l.94 2.06.94-2.06 2.06-.94-2.06-.94-.94-2.06-.94 2.06-2.06.94z\"/><path d=\"M17.41 7.96l-1.37-1.37c-.4-.4-.92-.59-1.43-.59-.52 0-1.04.2-1.43.59L10.3 9.45l-7.72 7.72c-.78.78-.78 2.05 0 2.83L4 21.41c.39.39.9.59 1.41.59.51 0 1.02-.2 1.41-.59l7.78-7.78 2.81-2.81c.8-.78.8-2.07 0-2.86zM5.41 20L4 18.59l7.72-7.72 1.47 1.35L5.41 20z\"/>\n",
              "  </svg>\n",
              "      </button>\n",
              "      \n",
              "  <style>\n",
              "    .colab-df-container {\n",
              "      display:flex;\n",
              "      flex-wrap:wrap;\n",
              "      gap: 12px;\n",
              "    }\n",
              "\n",
              "    .colab-df-convert {\n",
              "      background-color: #E8F0FE;\n",
              "      border: none;\n",
              "      border-radius: 50%;\n",
              "      cursor: pointer;\n",
              "      display: none;\n",
              "      fill: #1967D2;\n",
              "      height: 32px;\n",
              "      padding: 0 0 0 0;\n",
              "      width: 32px;\n",
              "    }\n",
              "\n",
              "    .colab-df-convert:hover {\n",
              "      background-color: #E2EBFA;\n",
              "      box-shadow: 0px 1px 2px rgba(60, 64, 67, 0.3), 0px 1px 3px 1px rgba(60, 64, 67, 0.15);\n",
              "      fill: #174EA6;\n",
              "    }\n",
              "\n",
              "    [theme=dark] .colab-df-convert {\n",
              "      background-color: #3B4455;\n",
              "      fill: #D2E3FC;\n",
              "    }\n",
              "\n",
              "    [theme=dark] .colab-df-convert:hover {\n",
              "      background-color: #434B5C;\n",
              "      box-shadow: 0px 1px 3px 1px rgba(0, 0, 0, 0.15);\n",
              "      filter: drop-shadow(0px 1px 2px rgba(0, 0, 0, 0.3));\n",
              "      fill: #FFFFFF;\n",
              "    }\n",
              "  </style>\n",
              "\n",
              "      <script>\n",
              "        const buttonEl =\n",
              "          document.querySelector('#df-56eda0d3-9c44-43b6-8c58-4ad60dc54299 button.colab-df-convert');\n",
              "        buttonEl.style.display =\n",
              "          google.colab.kernel.accessAllowed ? 'block' : 'none';\n",
              "\n",
              "        async function convertToInteractive(key) {\n",
              "          const element = document.querySelector('#df-56eda0d3-9c44-43b6-8c58-4ad60dc54299');\n",
              "          const dataTable =\n",
              "            await google.colab.kernel.invokeFunction('convertToInteractive',\n",
              "                                                     [key], {});\n",
              "          if (!dataTable) return;\n",
              "\n",
              "          const docLinkHtml = 'Like what you see? Visit the ' +\n",
              "            '<a target=\"_blank\" href=https://colab.research.google.com/notebooks/data_table.ipynb>data table notebook</a>'\n",
              "            + ' to learn more about interactive tables.';\n",
              "          element.innerHTML = '';\n",
              "          dataTable['output_type'] = 'display_data';\n",
              "          await google.colab.output.renderOutput(dataTable, element);\n",
              "          const docLink = document.createElement('div');\n",
              "          docLink.innerHTML = docLinkHtml;\n",
              "          element.appendChild(docLink);\n",
              "        }\n",
              "      </script>\n",
              "    </div>\n",
              "  </div>\n",
              "  "
            ]
          },
          "metadata": {},
          "execution_count": 119
        }
      ]
    },
    {
      "cell_type": "code",
      "source": [
        "# Extracting hard skill to do job\n",
        "\n",
        "tools = []\n",
        "for i in toolsJob[0]:\n",
        "  if \"SQL\" in i:\n",
        "    tools.append(\"SQL\")\n",
        "\n",
        "\n",
        "for i in toolsJob[0]:\n",
        "  if \"Python\" in i:\n",
        "    tools.append(\"Python\")\n",
        "\n",
        "for i in toolsJob[0]:  \n",
        "  if \" R \" in i:\n",
        "    tools.append(\"R\")\n",
        "\n",
        "for i in toolsJob[0]:   \n",
        "  if \"Excel\" in i:\n",
        "    tools.append(\"Excel\")\n",
        "\n",
        "for i in toolsJob[0]:\n",
        "  if \"Tableau\" in i:\n",
        "    tools.append(\"Tableau\")\n",
        "\n",
        "for i in toolsJob[0]:   \n",
        "  if \"Power BI\" in i:\n",
        "    tools.append(\"Power BI\")\n",
        "\n",
        "for i in toolsJob[0]:   \n",
        "  if \"TensorFlow\" in i:\n",
        "    tools.append(\"TensorFlow\")    "
      ],
      "metadata": {
        "id": "yOiq00HtXCRX"
      },
      "execution_count": 120,
      "outputs": []
    },
    {
      "cell_type": "code",
      "source": [
        "tools"
      ],
      "metadata": {
        "colab": {
          "base_uri": "https://localhost:8080/"
        },
        "id": "eMOS3qVjRkzG",
        "outputId": "9beeac80-a13f-4864-aa01-64a8c6074e1c"
      },
      "execution_count": 121,
      "outputs": [
        {
          "output_type": "execute_result",
          "data": {
            "text/plain": [
              "['SQL',\n",
              " 'SQL',\n",
              " 'SQL',\n",
              " 'SQL',\n",
              " 'SQL',\n",
              " 'SQL',\n",
              " 'SQL',\n",
              " 'SQL',\n",
              " 'Python',\n",
              " 'Python',\n",
              " 'Python',\n",
              " 'Python',\n",
              " 'Python',\n",
              " 'Excel',\n",
              " 'Excel',\n",
              " 'Excel',\n",
              " 'Tableau',\n",
              " 'Tableau',\n",
              " 'Tableau',\n",
              " 'Power BI',\n",
              " 'Power BI']"
            ]
          },
          "metadata": {},
          "execution_count": 121
        }
      ]
    },
    {
      "cell_type": "markdown",
      "source": [
        "**# AVERAGE TIME**"
      ],
      "metadata": {
        "id": "a-ZmK05exdVe"
      }
    },
    {
      "cell_type": "code",
      "source": [
        "#Extracting time and place to work\n",
        "\n",
        "time = []\n",
        "for i in jobs_df['extensions']:\n",
        "  if \"Work from home\" in i:\n",
        "    time.append(\"Work from home\")\n",
        "  \n",
        "for i in jobs_df['extensions']:\n",
        "  if \"Full-time\" in i:\n",
        "    time.append(\"Full-time\")\n",
        "\n",
        "for i in jobs_df['extensions']:\n",
        "  if \"Part-time\" in i:\n",
        "    time.append(\"Part-time\")   \n",
        "\n"
      ],
      "metadata": {
        "id": "k_ZkzWQRyeE9"
      },
      "execution_count": 122,
      "outputs": []
    },
    {
      "cell_type": "markdown",
      "source": [
        "# **SUMMARY**"
      ],
      "metadata": {
        "id": "732MuEr9qogz"
      }
    },
    {
      "cell_type": "code",
      "source": [
        "#Sunburst chart of the companies that offer the job\n",
        "\n",
        "name = jobs_df.groupby(['company_name'])['company_name'].count()\n",
        "px.sunburst(name, path=[name.index], values=name.values)"
      ],
      "metadata": {
        "colab": {
          "base_uri": "https://localhost:8080/",
          "height": 542
        },
        "id": "VERYfznFqvzQ",
        "outputId": "8a888150-bcf6-4d97-be97-90b16bba0db4"
      },
      "execution_count": 129,
      "outputs": [
        {
          "output_type": "display_data",
          "data": {
            "text/html": [
              "<html>\n",
              "<head><meta charset=\"utf-8\" /></head>\n",
              "<body>\n",
              "    <div>            <script src=\"https://cdnjs.cloudflare.com/ajax/libs/mathjax/2.7.5/MathJax.js?config=TeX-AMS-MML_SVG\"></script><script type=\"text/javascript\">if (window.MathJax) {MathJax.Hub.Config({SVG: {font: \"STIX-Web\"}});}</script>                <script type=\"text/javascript\">window.PlotlyConfig = {MathJaxConfig: 'local'};</script>\n",
              "        <script src=\"https://cdn.plot.ly/plotly-2.8.3.min.js\"></script>                <div id=\"dd2d16fa-2c62-4a27-9db1-cc740e3407a2\" class=\"plotly-graph-div\" style=\"height:525px; width:100%;\"></div>            <script type=\"text/javascript\">                                    window.PLOTLYENV=window.PLOTLYENV || {};                                    if (document.getElementById(\"dd2d16fa-2c62-4a27-9db1-cc740e3407a2\")) {                    Plotly.newPlot(                        \"dd2d16fa-2c62-4a27-9db1-cc740e3407a2\",                        [{\"branchvalues\":\"total\",\"domain\":{\"x\":[0.0,1.0],\"y\":[0.0,1.0]},\"hovertemplate\":\"labels=%{label}<br>value=%{value}<br>parent=%{parent}<br>id=%{id}<extra></extra>\",\"ids\":[\"016 Freightquote.com, Inc.\",\"Blue Cross and Blue Shield of Kansas\",\"Cardinal Health\",\"Caterpillar\",\"Harnham\",\"Jobsity\",\"Progressive Insurance\",\"Salderz Inc\",\"Teleperformance USA\",\"Upwork\"],\"labels\":[\"016 Freightquote.com, Inc.\",\"Blue Cross and Blue Shield of Kansas\",\"Cardinal Health\",\"Caterpillar\",\"Harnham\",\"Jobsity\",\"Progressive Insurance\",\"Salderz Inc\",\"Teleperformance USA\",\"Upwork\"],\"name\":\"\",\"parents\":[\"\",\"\",\"\",\"\",\"\",\"\",\"\",\"\",\"\",\"\"],\"values\":[1,1,1,1,1,1,1,1,1,1],\"type\":\"sunburst\"}],                        {\"template\":{\"data\":{\"bar\":[{\"error_x\":{\"color\":\"#2a3f5f\"},\"error_y\":{\"color\":\"#2a3f5f\"},\"marker\":{\"line\":{\"color\":\"#E5ECF6\",\"width\":0.5},\"pattern\":{\"fillmode\":\"overlay\",\"size\":10,\"solidity\":0.2}},\"type\":\"bar\"}],\"barpolar\":[{\"marker\":{\"line\":{\"color\":\"#E5ECF6\",\"width\":0.5},\"pattern\":{\"fillmode\":\"overlay\",\"size\":10,\"solidity\":0.2}},\"type\":\"barpolar\"}],\"carpet\":[{\"aaxis\":{\"endlinecolor\":\"#2a3f5f\",\"gridcolor\":\"white\",\"linecolor\":\"white\",\"minorgridcolor\":\"white\",\"startlinecolor\":\"#2a3f5f\"},\"baxis\":{\"endlinecolor\":\"#2a3f5f\",\"gridcolor\":\"white\",\"linecolor\":\"white\",\"minorgridcolor\":\"white\",\"startlinecolor\":\"#2a3f5f\"},\"type\":\"carpet\"}],\"choropleth\":[{\"colorbar\":{\"outlinewidth\":0,\"ticks\":\"\"},\"type\":\"choropleth\"}],\"contour\":[{\"colorbar\":{\"outlinewidth\":0,\"ticks\":\"\"},\"colorscale\":[[0.0,\"#0d0887\"],[0.1111111111111111,\"#46039f\"],[0.2222222222222222,\"#7201a8\"],[0.3333333333333333,\"#9c179e\"],[0.4444444444444444,\"#bd3786\"],[0.5555555555555556,\"#d8576b\"],[0.6666666666666666,\"#ed7953\"],[0.7777777777777778,\"#fb9f3a\"],[0.8888888888888888,\"#fdca26\"],[1.0,\"#f0f921\"]],\"type\":\"contour\"}],\"contourcarpet\":[{\"colorbar\":{\"outlinewidth\":0,\"ticks\":\"\"},\"type\":\"contourcarpet\"}],\"heatmap\":[{\"colorbar\":{\"outlinewidth\":0,\"ticks\":\"\"},\"colorscale\":[[0.0,\"#0d0887\"],[0.1111111111111111,\"#46039f\"],[0.2222222222222222,\"#7201a8\"],[0.3333333333333333,\"#9c179e\"],[0.4444444444444444,\"#bd3786\"],[0.5555555555555556,\"#d8576b\"],[0.6666666666666666,\"#ed7953\"],[0.7777777777777778,\"#fb9f3a\"],[0.8888888888888888,\"#fdca26\"],[1.0,\"#f0f921\"]],\"type\":\"heatmap\"}],\"heatmapgl\":[{\"colorbar\":{\"outlinewidth\":0,\"ticks\":\"\"},\"colorscale\":[[0.0,\"#0d0887\"],[0.1111111111111111,\"#46039f\"],[0.2222222222222222,\"#7201a8\"],[0.3333333333333333,\"#9c179e\"],[0.4444444444444444,\"#bd3786\"],[0.5555555555555556,\"#d8576b\"],[0.6666666666666666,\"#ed7953\"],[0.7777777777777778,\"#fb9f3a\"],[0.8888888888888888,\"#fdca26\"],[1.0,\"#f0f921\"]],\"type\":\"heatmapgl\"}],\"histogram\":[{\"marker\":{\"pattern\":{\"fillmode\":\"overlay\",\"size\":10,\"solidity\":0.2}},\"type\":\"histogram\"}],\"histogram2d\":[{\"colorbar\":{\"outlinewidth\":0,\"ticks\":\"\"},\"colorscale\":[[0.0,\"#0d0887\"],[0.1111111111111111,\"#46039f\"],[0.2222222222222222,\"#7201a8\"],[0.3333333333333333,\"#9c179e\"],[0.4444444444444444,\"#bd3786\"],[0.5555555555555556,\"#d8576b\"],[0.6666666666666666,\"#ed7953\"],[0.7777777777777778,\"#fb9f3a\"],[0.8888888888888888,\"#fdca26\"],[1.0,\"#f0f921\"]],\"type\":\"histogram2d\"}],\"histogram2dcontour\":[{\"colorbar\":{\"outlinewidth\":0,\"ticks\":\"\"},\"colorscale\":[[0.0,\"#0d0887\"],[0.1111111111111111,\"#46039f\"],[0.2222222222222222,\"#7201a8\"],[0.3333333333333333,\"#9c179e\"],[0.4444444444444444,\"#bd3786\"],[0.5555555555555556,\"#d8576b\"],[0.6666666666666666,\"#ed7953\"],[0.7777777777777778,\"#fb9f3a\"],[0.8888888888888888,\"#fdca26\"],[1.0,\"#f0f921\"]],\"type\":\"histogram2dcontour\"}],\"mesh3d\":[{\"colorbar\":{\"outlinewidth\":0,\"ticks\":\"\"},\"type\":\"mesh3d\"}],\"parcoords\":[{\"line\":{\"colorbar\":{\"outlinewidth\":0,\"ticks\":\"\"}},\"type\":\"parcoords\"}],\"pie\":[{\"automargin\":true,\"type\":\"pie\"}],\"scatter\":[{\"marker\":{\"colorbar\":{\"outlinewidth\":0,\"ticks\":\"\"}},\"type\":\"scatter\"}],\"scatter3d\":[{\"line\":{\"colorbar\":{\"outlinewidth\":0,\"ticks\":\"\"}},\"marker\":{\"colorbar\":{\"outlinewidth\":0,\"ticks\":\"\"}},\"type\":\"scatter3d\"}],\"scattercarpet\":[{\"marker\":{\"colorbar\":{\"outlinewidth\":0,\"ticks\":\"\"}},\"type\":\"scattercarpet\"}],\"scattergeo\":[{\"marker\":{\"colorbar\":{\"outlinewidth\":0,\"ticks\":\"\"}},\"type\":\"scattergeo\"}],\"scattergl\":[{\"marker\":{\"colorbar\":{\"outlinewidth\":0,\"ticks\":\"\"}},\"type\":\"scattergl\"}],\"scattermapbox\":[{\"marker\":{\"colorbar\":{\"outlinewidth\":0,\"ticks\":\"\"}},\"type\":\"scattermapbox\"}],\"scatterpolar\":[{\"marker\":{\"colorbar\":{\"outlinewidth\":0,\"ticks\":\"\"}},\"type\":\"scatterpolar\"}],\"scatterpolargl\":[{\"marker\":{\"colorbar\":{\"outlinewidth\":0,\"ticks\":\"\"}},\"type\":\"scatterpolargl\"}],\"scatterternary\":[{\"marker\":{\"colorbar\":{\"outlinewidth\":0,\"ticks\":\"\"}},\"type\":\"scatterternary\"}],\"surface\":[{\"colorbar\":{\"outlinewidth\":0,\"ticks\":\"\"},\"colorscale\":[[0.0,\"#0d0887\"],[0.1111111111111111,\"#46039f\"],[0.2222222222222222,\"#7201a8\"],[0.3333333333333333,\"#9c179e\"],[0.4444444444444444,\"#bd3786\"],[0.5555555555555556,\"#d8576b\"],[0.6666666666666666,\"#ed7953\"],[0.7777777777777778,\"#fb9f3a\"],[0.8888888888888888,\"#fdca26\"],[1.0,\"#f0f921\"]],\"type\":\"surface\"}],\"table\":[{\"cells\":{\"fill\":{\"color\":\"#EBF0F8\"},\"line\":{\"color\":\"white\"}},\"header\":{\"fill\":{\"color\":\"#C8D4E3\"},\"line\":{\"color\":\"white\"}},\"type\":\"table\"}]},\"layout\":{\"annotationdefaults\":{\"arrowcolor\":\"#2a3f5f\",\"arrowhead\":0,\"arrowwidth\":1},\"autotypenumbers\":\"strict\",\"coloraxis\":{\"colorbar\":{\"outlinewidth\":0,\"ticks\":\"\"}},\"colorscale\":{\"diverging\":[[0,\"#8e0152\"],[0.1,\"#c51b7d\"],[0.2,\"#de77ae\"],[0.3,\"#f1b6da\"],[0.4,\"#fde0ef\"],[0.5,\"#f7f7f7\"],[0.6,\"#e6f5d0\"],[0.7,\"#b8e186\"],[0.8,\"#7fbc41\"],[0.9,\"#4d9221\"],[1,\"#276419\"]],\"sequential\":[[0.0,\"#0d0887\"],[0.1111111111111111,\"#46039f\"],[0.2222222222222222,\"#7201a8\"],[0.3333333333333333,\"#9c179e\"],[0.4444444444444444,\"#bd3786\"],[0.5555555555555556,\"#d8576b\"],[0.6666666666666666,\"#ed7953\"],[0.7777777777777778,\"#fb9f3a\"],[0.8888888888888888,\"#fdca26\"],[1.0,\"#f0f921\"]],\"sequentialminus\":[[0.0,\"#0d0887\"],[0.1111111111111111,\"#46039f\"],[0.2222222222222222,\"#7201a8\"],[0.3333333333333333,\"#9c179e\"],[0.4444444444444444,\"#bd3786\"],[0.5555555555555556,\"#d8576b\"],[0.6666666666666666,\"#ed7953\"],[0.7777777777777778,\"#fb9f3a\"],[0.8888888888888888,\"#fdca26\"],[1.0,\"#f0f921\"]]},\"colorway\":[\"#636efa\",\"#EF553B\",\"#00cc96\",\"#ab63fa\",\"#FFA15A\",\"#19d3f3\",\"#FF6692\",\"#B6E880\",\"#FF97FF\",\"#FECB52\"],\"font\":{\"color\":\"#2a3f5f\"},\"geo\":{\"bgcolor\":\"white\",\"lakecolor\":\"white\",\"landcolor\":\"#E5ECF6\",\"showlakes\":true,\"showland\":true,\"subunitcolor\":\"white\"},\"hoverlabel\":{\"align\":\"left\"},\"hovermode\":\"closest\",\"mapbox\":{\"style\":\"light\"},\"paper_bgcolor\":\"white\",\"plot_bgcolor\":\"#E5ECF6\",\"polar\":{\"angularaxis\":{\"gridcolor\":\"white\",\"linecolor\":\"white\",\"ticks\":\"\"},\"bgcolor\":\"#E5ECF6\",\"radialaxis\":{\"gridcolor\":\"white\",\"linecolor\":\"white\",\"ticks\":\"\"}},\"scene\":{\"xaxis\":{\"backgroundcolor\":\"#E5ECF6\",\"gridcolor\":\"white\",\"gridwidth\":2,\"linecolor\":\"white\",\"showbackground\":true,\"ticks\":\"\",\"zerolinecolor\":\"white\"},\"yaxis\":{\"backgroundcolor\":\"#E5ECF6\",\"gridcolor\":\"white\",\"gridwidth\":2,\"linecolor\":\"white\",\"showbackground\":true,\"ticks\":\"\",\"zerolinecolor\":\"white\"},\"zaxis\":{\"backgroundcolor\":\"#E5ECF6\",\"gridcolor\":\"white\",\"gridwidth\":2,\"linecolor\":\"white\",\"showbackground\":true,\"ticks\":\"\",\"zerolinecolor\":\"white\"}},\"shapedefaults\":{\"line\":{\"color\":\"#2a3f5f\"}},\"ternary\":{\"aaxis\":{\"gridcolor\":\"white\",\"linecolor\":\"white\",\"ticks\":\"\"},\"baxis\":{\"gridcolor\":\"white\",\"linecolor\":\"white\",\"ticks\":\"\"},\"bgcolor\":\"#E5ECF6\",\"caxis\":{\"gridcolor\":\"white\",\"linecolor\":\"white\",\"ticks\":\"\"}},\"title\":{\"x\":0.05},\"xaxis\":{\"automargin\":true,\"gridcolor\":\"white\",\"linecolor\":\"white\",\"ticks\":\"\",\"title\":{\"standoff\":15},\"zerolinecolor\":\"white\",\"zerolinewidth\":2},\"yaxis\":{\"automargin\":true,\"gridcolor\":\"white\",\"linecolor\":\"white\",\"ticks\":\"\",\"title\":{\"standoff\":15},\"zerolinecolor\":\"white\",\"zerolinewidth\":2}}},\"legend\":{\"tracegroupgap\":0},\"margin\":{\"t\":60}},                        {\"responsive\": true}                    ).then(function(){\n",
              "                            \n",
              "var gd = document.getElementById('dd2d16fa-2c62-4a27-9db1-cc740e3407a2');\n",
              "var x = new MutationObserver(function (mutations, observer) {{\n",
              "        var display = window.getComputedStyle(gd).display;\n",
              "        if (!display || display === 'none') {{\n",
              "            console.log([gd, 'removed!']);\n",
              "            Plotly.purge(gd);\n",
              "            observer.disconnect();\n",
              "        }}\n",
              "}});\n",
              "\n",
              "// Listen for the removal of the full notebook cells\n",
              "var notebookContainer = gd.closest('#notebook-container');\n",
              "if (notebookContainer) {{\n",
              "    x.observe(notebookContainer, {childList: true});\n",
              "}}\n",
              "\n",
              "// Listen for the clearing of the current output cell\n",
              "var outputEl = gd.closest('.output');\n",
              "if (outputEl) {{\n",
              "    x.observe(outputEl, {childList: true});\n",
              "}}\n",
              "\n",
              "                        })                };                            </script>        </div>\n",
              "</body>\n",
              "</html>"
            ]
          },
          "metadata": {}
        }
      ]
    },
    {
      "cell_type": "code",
      "source": [
        "toolss = pd.DataFrame(tools)"
      ],
      "metadata": {
        "id": "RIem9THdshxX"
      },
      "execution_count": 130,
      "outputs": []
    },
    {
      "cell_type": "code",
      "source": [
        "# Bar chart of the hard skills needed to execute the job\n",
        "t = toolss.groupby(0)[0].count().sort_values(ascending=False)\n",
        "\n",
        "plt.figure(figsize=(15,10))\n",
        "fig = plt.bar(x=t.index, height=t.values, alpha=0.5)\n",
        "fig[0].set_color('salmon')\n",
        "plt.title(\"Hard Skills\", fontsize=32)\n",
        "plt.ylim(0,8)\n"
      ],
      "metadata": {
        "colab": {
          "base_uri": "https://localhost:8080/",
          "height": 680
        },
        "id": "0NyiMrBFRkZN",
        "outputId": "a3ff027f-7e0e-4fd9-c502-1d6daa25a04d"
      },
      "execution_count": 131,
      "outputs": [
        {
          "output_type": "execute_result",
          "data": {
            "text/plain": [
              "(0.0, 8.0)"
            ]
          },
          "metadata": {},
          "execution_count": 131
        },
        {
          "output_type": "display_data",
          "data": {
            "text/plain": [
              "<Figure size 1080x720 with 1 Axes>"
            ],
            "image/png": "[encoded data removed]"
          },
          "metadata": {}
        }
      ]
    },
    {
      "cell_type": "code",
      "source": [
        "#Bar chart of the places and time to do the job\n",
        "\n",
        "ti = pd.DataFrame(time)\n",
        "tim =ti.groupby(0)[0].count().sort_values(ascending=False)\n",
        "\n",
        "plt.figure(figsize=(15,10))\n",
        "plt.bar(x=tim.index, height= tim.values, alpha=0.5)\n",
        "plt.title(\"Place to work and kind of time\", fontsize=28)\n",
        "plt.ylim(0,11)\n"
      ],
      "metadata": {
        "colab": {
          "base_uri": "https://localhost:8080/",
          "height": 677
        },
        "id": "5MxEF-PEs-bl",
        "outputId": "e7d6f5a2-5650-4256-cd00-5c700cec8e7b"
      },
      "execution_count": 132,
      "outputs": [
        {
          "output_type": "execute_result",
          "data": {
            "text/plain": [
              "(0.0, 11.0)"
            ]
          },
          "metadata": {},
          "execution_count": 132
        },
        {
          "output_type": "display_data",
          "data": {
            "text/plain": [
              "<Figure size 1080x720 with 1 Axes>"
            ],
            "image/png": "[encoded data removed]"
          },
          "metadata": {}
        }
      ]
    },
    {
      "cell_type": "code",
      "source": [
        "plt.figure(figsize=(15,10))\n",
        "sns.histplot(jobs_df['posted_at'], bins=15, alpha=0.5)\n",
        "plt.title(\"Jobs Posted Time\", fontsize=29)\n",
        "plt.ylabel(\"Frequency\")\n",
        "plt.xlabel(\"Posted at\")"
      ],
      "metadata": {
        "colab": {
          "base_uri": "https://localhost:8080/",
          "height": 699
        },
        "id": "XNMJzHN4B943",
        "outputId": "23a52efb-3281-4beb-c36d-8321aa49e71d"
      },
      "execution_count": 133,
      "outputs": [
        {
          "output_type": "execute_result",
          "data": {
            "text/plain": [
              "Text(0.5, 0, 'Posted at')"
            ]
          },
          "metadata": {},
          "execution_count": 133
        },
        {
          "output_type": "display_data",
          "data": {
            "text/plain": [
              "<Figure size 1080x720 with 1 Axes>"
            ],
            "image/png": "[encoded data removed]"
          },
          "metadata": {}
        }
      ]
    },
    {
      "cell_type": "code",
      "source": [
        "#Tree-map chart than where the companies published the vacancies\n",
        "\n",
        "via = jobs_df.groupby(['via'])['via'].count().sort_values(ascending=False)\n",
        "name\n",
        "\n",
        "plt.figure(figsize=(20,10))\n",
        "sizes=via.values\n",
        "label=via.index\n",
        "squarify.plot(sizes=sizes,label=label,color = sns.color_palette(\"coolwarm\"), alpha=0.5)\n",
        "plt.axis(\"off\")\n",
        "plt.title(\"Companies published Via\")\n",
        "plt.xticks(rotation=45, fontsize=20)"
      ],
      "metadata": {
        "colab": {
          "base_uri": "https://localhost:8080/",
          "height": 670
        },
        "id": "vbOZwJqKrA8G",
        "outputId": "5fb89ee9-dc97-41c5-fdb9-b869436ca7d7"
      },
      "execution_count": 134,
      "outputs": [
        {
          "output_type": "execute_result",
          "data": {
            "text/plain": [
              "(array([  0.,  20.,  40.,  60.,  80., 100.]),\n",
              " <a list of 6 Text major ticklabel objects>)"
            ]
          },
          "metadata": {},
          "execution_count": 134
        },
        {
          "output_type": "display_data",
          "data": {
            "text/plain": [
              "<Figure size 1440x720 with 1 Axes>"
            ],
            "image/png": "[encoded data removed]"
          },
          "metadata": {}
        }
      ]
    },
    {
      "cell_type": "code",
      "source": [],
      "metadata": {
        "id": "KWkqhJI_DRGk"
      },
      "execution_count": 134,
      "outputs": []
    }
  ]
}